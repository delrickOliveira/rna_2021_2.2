{
 "cells": [
  {
   "cell_type": "markdown",
   "metadata": {},
   "source": [
    "## Redes Neurais Artificiais 2021.1\n",
    "\n",
    "- **Disciplina**: Redes Neurais Artificiais 2021.1  \n",
    "- **Professora**: Elloá B. Guedes (ebgcosta@uea.edu.br)  \n",
    "- **Github**: http://github.com/elloa  \n",
    "        \n",
    "\n",
    "Levando em conta a base de dados **_Forest Cover Type_**, esta segunda parte do Projeto Prático 2.2 diz respeito à proposição e avaliação de múltiplas redes neurais artificiais do tipo feedforward multilayer perceptron para o problema da classificação multi-classe da cobertura florestal em uma área do Roosevelt National Forest.\n",
    "\n",
    "## Testando Redes Neurais sem os Atributos Categórios\n",
    "\n",
    "1. Abra a base de dados em questão\n",
    "2. Elimine todas as colunas relativas aos atributos categóricos\n",
    "3. Armazene o atributo alvo em uma variável y e os atributos preditores em uma variável X\n",
    "4. Efetue uma partição holdout 70/30 com o sklearn, distribuindo os exemplos de maneira aleatória\n",
    "5. Efetue o escalonamento dos atributos\n",
    "\n",
    "### Escalonando os atributos\n",
    "\n",
    "O treinamento de uma rede neural artificial é mais eficiente quando os valores que lhes são fornecidos como entrada são pequenos, pois isto favorece a convergência. Isto é feito escalonando-se todos os atributos para o intervalo [0,1], mas precisa ser feito de maneira cautelosa, para que informações do conjunto de teste não sejam fornecidas no treinamento.\n",
    "\n",
    "Há duas estratégias para tal escalonamento: normalização e padronização. Ambas possuem características particulares, vantagens e limitações, como é possível ver aqui: https://www.analyticsvidhya.com/blog/2020/04/feature-scaling-machine-learning-normalization-standardization/\n",
    "\n",
    "\n",
    "No nosso caso, vamos usar a padronização. Assim, com os atributos preditores do treinamento, isto é, X_train, deve-se subtrair a média e dividir pelo desvio padrão:\n",
    "\n",
    "X_train_std = (X_train - np.mean(X_train))/np.std(X_train)\n",
    "\n",
    "Em seguida, o mesmo deve ser feito com os atributos preditores do conjunto de testes, mas com padronização relativa ao conjunto de treinamento:\n",
    "\n",
    "X_test_std = (X_test - np.mean(X_train))/np.std(X_train)\n",
    "\n",
    "Se todo o conjunto X for utilizado na padronização, a rede neural receberá informações do conjunto de teste por meio da média e variância utilizada para preparar os dados de treinamento, o que não é desejável.\n",
    "\n",
    "\n",
    "### Continuando\n",
    "\n",
    "5. Treine uma rede neural multilayer perceptron para este problema com uma única camada e dez neurônios  \n",
    "    5.1 Utilize a função de ativação ReLU  \n",
    "    5.2 Utilize o solver Adam    \n",
    "    5.3 Imprima o passo a passo do treinamento    \n",
    "    5.4 Utilize o número máximo de épocas igual a 300  \n",
    "6. Com o modelo em questão, após o treinamento, apresente:  \n",
    "    6.1 Matriz de confusão para o conjunto de teste  \n",
    "    6.2 Acurácia  \n",
    "    6.3 F-Score  \n",
    "    6.4 Precisão  \n",
    "    6.5 Revocação  \n",
    "7. Repita o treinamento da mesma rede anterior sem imprimir o passo a passo (verbose False) por 100 vezes  \n",
    "    7.1 Cada uma destas repetições deve ser feita com uma nova partição Holdout  \n",
    "    7.2 Apresente a média e o desvio padrão da acurácia e do F-Score para o conjunto de treino  \n",
    "8. Repita por 100 vezes o treinamento desta mesma rede, mas utilizando o otimizador SGD  \n",
    "    8.1 Apresente a média e o desvio padrão da acurácia e do F-Score para o conjunto de treino  \n",
    "9. Houve influência da escolha do otimizador no desempenho da rede?"
   ]
  },
  {
   "cell_type": "code",
   "execution_count": null,
   "metadata": {},
   "outputs": [],
   "source": []
  },
  {
   "cell_type": "markdown",
   "metadata": {},
   "source": [
    "## Discussão\n",
    "\n",
    "Nos passos anteriores, você avaliou o desempenho de uma única rede neural que contém os seguintes parâmetros: uma única camada oculta com 10 neurônios e função de ativação ReLU. O otimizador utilizado, quer seja SGD ou ADAM, trata-se do algoritmo para aproximar o gradiente do erro. Neste sentido, a escolha do otimizador é um hiperparâmetro, pois diz respeito a como a rede neural definida previamente atuará \"em tempo de execução\"  durante o processo de treinamento. Também são hiperparâmetros a quantidade de épocas, a taxa de aprendizado inicial, dentre outros.\n",
    "\n",
    "Cabe alientar também que você efetuou o treinamento desta rede por 100 vezes e apresentou os resultados em termos de média +- desvio padrão. Lembre-se que em uma rede neural há a inicialização aleatória de pesos e, em consequência, o desempenho delas está sujeito à uma flutuação estocástica. A execução destas múltiplas vezes faz com que eliminemos algum viés introduzido por uma boa ou má \"sorte\" na escolha de pesos no caso de uma única execução.\n",
    "\n",
    "Você também aprendeu uma estratégia para escalonar os atributos para uma melhor convergência da rede. Utilize-a em todos os treinamentos e testes propostos a seguir.\n",
    "\n",
    "## Propondo Novas Arquiteturas\n",
    "\n",
    "Variando  os parâmetros (uma ou duas camadas ocultas, com diferente números de neurônios em cada uma delas e a função de ativação) e o hiperparâmetros solver (Adam ou SGD) e o número de épocas (100,150 e 200), atenda ao que se pede:\n",
    "\n",
    "1. Proponha 10 arquiteturas distintas de RNAs para o problema em questão, à sua escolha\n",
    "2. Avalie cada uma das arquiteturas perante todos os hiperparâmetros apresentados por 100 vezes\n",
    "3. Como resultado da avaliação, apresente:  \n",
    "    3.1 Top-3 melhores redes no tocante à F-Score e Acurácia  \n",
    "    3.2 Repetição em que houve o melhor desempenho de cada uma dessas redes: ilustre tp, tf, fp e fn  "
   ]
  },
  {
   "cell_type": "code",
   "execution_count": null,
   "metadata": {},
   "outputs": [],
   "source": []
  },
  {
   "cell_type": "markdown",
   "metadata": {},
   "source": [
    "## Estimando o número de neurônios\n",
    "\n",
    "Um dos problemas de pesquisa com redes neurais artificiais consiste na determinação do número de neurônios em sua arquitetura. Embora não seja possível definir a priori qual rede neural é adequada para um problema, pois isto só é possível mediante uma busca exaustiva, há regras na literatura que sugerem o número de neurônios escondidos, tal como a regra da Pirâmide Geométrica, dada a seguir:\n",
    "\n",
    "$$N_h = \\alpha \\cdot \\sqrt{N_i \\cdot N_o},$$\n",
    "\n",
    "em que $N_h$ é o número de neurônios ocultos (a serem distribuídos em uma ou duas camadas ocultas), $N_i$ é o número de neurônios na camada de entrada e $N_o$ é o número de neurônios na camada de saída. \n",
    "\n",
    "1. Consulte a documentação da classe MLPClassifier (disponível em https://scikit-learn.org/stable/modules/generated/sklearn.neural_network.MLPClassifier.html) e obtenha os valores de $N_i$ e $N_o$.\n",
    "2. Teste os valores de $\\alpha$ como sendo iguais a $0.5$, $2$ e $3$.\n",
    "3. Proponha pelo menos 30 redes neurais segundo a regra da pirâmide geométrica e teste-as nos mesmos termos estabelecidos anterioremente  (solver, épocas, etc.)  \n",
    "    3.1 Apresente as top-3 melhores redes no tocante à F-Score e Acurácia  "
   ]
  },
  {
   "cell_type": "code",
   "execution_count": null,
   "metadata": {},
   "outputs": [],
   "source": []
  },
  {
   "cell_type": "markdown",
   "metadata": {},
   "source": [
    "## Testando as Redes Neurais com Atributos Categóricos\n",
    "\n",
    "1. Considere as 6 redes neurais obtidas nos dois top-3 anteriores (arquiteturas próprias e regra da pirâmide geométrica)\n",
    "2. Com todos os atributos preditores da base de dados original, incluindo os categóricos, treine e teste estas mesmas redes por 100 repetições  \n",
    "    2.1 Considere o melhor otimizador para cada uma delas  \n",
    "    2.2 Faça uso de 200 épocas para treinamento  \n",
    "    2.2 Apresente os resultados de acurácia e F-Score em termos da média +- dp para cada arquitetura\n",
    "3. Apresente o gráfico boxplot para o F-Score das 6 arquiteturas perante as 100 repetições"
   ]
  },
  {
   "cell_type": "code",
   "execution_count": null,
   "metadata": {},
   "outputs": [],
   "source": []
  },
  {
   "cell_type": "markdown",
   "metadata": {},
   "source": [
    "## Considerações Parciais\n",
    "\n",
    "1. É possível identificar uma rede com desempenho superior às demais?\n",
    "2. Qual estratégia mostrou-se mais producente para a obtenção de boas arquiteturas (Estratégia Própria ou Pirâmide Geométrica)? Por quê?\n",
    "3. Considerar os atributos categóricos trouxe melhorias? Justifique.\n",
    "4. Um número maior de épocas trouxe melhorias?\n",
    "5. Qual a maior dificuldade de resolução do problema proposto perante as RNAs?"
   ]
  },
  {
   "cell_type": "code",
   "execution_count": null,
   "metadata": {},
   "outputs": [],
   "source": []
  },
  {
   "cell_type": "code",
   "execution_count": 1,
   "metadata": {},
   "outputs": [],
   "source": [
    "import pandas as pd\n",
    "import numpy as np\n",
    "from sklearn.model_selection import train_test_split\n",
    "from sklearn.preprocessing import StandardScaler\n",
    "from sklearn.neural_network import MLPClassifier\n",
    "from sklearn.metrics import plot_confusion_matrix\n",
    "from sklearn.metrics import precision_score, recall_score,accuracy_score,f1_score\n",
    "import matplotlib.pyplot as plt"
   ]
  },
  {
   "cell_type": "markdown",
   "metadata": {},
   "source": [
    "## Testando Redes Neurais sem os Atributos Categórios"
   ]
  },
  {
   "cell_type": "code",
   "execution_count": 2,
   "metadata": {},
   "outputs": [],
   "source": [
    "data = pd.read_csv('covtype.csv')"
   ]
  },
  {
   "cell_type": "code",
   "execution_count": null,
   "metadata": {},
   "outputs": [],
   "source": []
  },
  {
   "cell_type": "code",
   "execution_count": 3,
   "metadata": {},
   "outputs": [],
   "source": [
    "data = data.drop(columns=['Soil_Type1','Soil_Type2','Soil_Type3','Soil_Type4','Soil_Type5','Soil_Type6','Soil_Type7','Soil_Type8','Soil_Type9','Soil_Type10',\n",
    "                  'Soil_Type11','Soil_Type12','Soil_Type13','Soil_Type14','Soil_Type15','Soil_Type16','Soil_Type17','Soil_Type18','Soil_Type19','Soil_Type20',\n",
    "                  'Soil_Type21','Soil_Type22','Soil_Type23','Soil_Type24','Soil_Type25','Soil_Type26','Soil_Type27','Soil_Type28','Soil_Type29','Soil_Type30',\n",
    "                  'Soil_Type31','Soil_Type32','Soil_Type33','Soil_Type34','Soil_Type35','Soil_Type36','Soil_Type37','Soil_Type38','Soil_Type39','Soil_Type40'])"
   ]
  },
  {
   "cell_type": "code",
   "execution_count": null,
   "metadata": {},
   "outputs": [],
   "source": []
  },
  {
   "cell_type": "code",
   "execution_count": 4,
   "metadata": {},
   "outputs": [],
   "source": [
    "X = data[['Elevation','Aspect','Slope','Horizontal_Distance_To_Hydrology','Vertical_Distance_To_Hydrology','Horizontal_Distance_To_Roadways','Hillshade_9am','Hillshade_Noon','Hillshade_3pm','Horizontal_Distance_To_Fire_Points','Wilderness_Area1','Wilderness_Area2','Wilderness_Area3','Wilderness_Area4']]# Passando os atributos usadas para o treino\n",
    "y = data[['Cover_Type']]# classe para treino\n"
   ]
  },
  {
   "cell_type": "code",
   "execution_count": 5,
   "metadata": {},
   "outputs": [],
   "source": [
    "X_train, X_test, y_train, y_test = train_test_split(X, y, train_size=0.7,shuffle = True)"
   ]
  },
  {
   "cell_type": "code",
   "execution_count": 6,
   "metadata": {},
   "outputs": [
    {
     "data": {
      "text/plain": [
       "\"\\nX_train_stand = X_train.copy()\\nX_test_stand = X_test.copy()\\n\\nnum_cols = ['Elevation','Aspect','Slope','Horizontal_Distance_To_Hydrology','Vertical_Distance_To_Hydrology','Horizontal_Distance_To_Roadways','Hillshade_9am','Hillshade_Noon','Hillshade_3pm','Horizontal_Distance_To_Fire_Points','Wilderness_Area1','Wilderness_Area2','Wilderness_Area3','Wilderness_Area4']\\nfor i in num_cols:\\n    \\n    # fit on training data column\\n    scale = StandardScaler().fit(X_train_stand[[i]])\\n    \\n    # transform the training data column\\n    X_train_stand[i] = scale.transform(X_train_stand[[i]])\\n    \\n    # transform the testing data column\\n    X_test_stand[i] = scale.transform(X_test_stand[[i]])\""
      ]
     },
     "execution_count": 6,
     "metadata": {},
     "output_type": "execute_result"
    }
   ],
   "source": [
    "X_train_std = (X_train - np.mean(X_train))/np.std(X_train)\n",
    "X_test_std = (X_test - np.mean(X_train))/np.std(X_train)\n",
    "\n",
    "'''\n",
    "X_train_stand = X_train.copy()\n",
    "X_test_stand = X_test.copy()\n",
    "\n",
    "num_cols = ['Elevation','Aspect','Slope','Horizontal_Distance_To_Hydrology','Vertical_Distance_To_Hydrology','Horizontal_Distance_To_Roadways','Hillshade_9am','Hillshade_Noon','Hillshade_3pm','Horizontal_Distance_To_Fire_Points','Wilderness_Area1','Wilderness_Area2','Wilderness_Area3','Wilderness_Area4']\n",
    "for i in num_cols:\n",
    "    \n",
    "    # fit on training data column\n",
    "    scale = StandardScaler().fit(X_train_stand[[i]])\n",
    "    \n",
    "    # transform the training data column\n",
    "    X_train_stand[i] = scale.transform(X_train_stand[[i]])\n",
    "    \n",
    "    # transform the testing data column\n",
    "    X_test_stand[i] = scale.transform(X_test_stand[[i]])'''"
   ]
  },
  {
   "cell_type": "code",
   "execution_count": 7,
   "metadata": {},
   "outputs": [],
   "source": [
    "mlp = MLPClassifier(random_state=1,hidden_layer_sizes = (10,), max_iter=300,activation = 'relu', solver = 'adam',verbose=True)"
   ]
  },
  {
   "cell_type": "code",
   "execution_count": 9,
   "metadata": {},
   "outputs": [
    {
     "name": "stderr",
     "output_type": "stream",
     "text": [
      "c:\\programdata\\miniconda3\\lib\\site-packages\\sklearn\\utils\\validation.py:63: DataConversionWarning: A column-vector y was passed when a 1d array was expected. Please change the shape of y to (n_samples, ), for example using ravel().\n",
      "  return f(*args, **kwargs)\n"
     ]
    },
    {
     "name": "stdout",
     "output_type": "stream",
     "text": [
      "Iteration 1, loss = 0.93402901\n",
      "Iteration 2, loss = 0.68642908\n",
      "Iteration 3, loss = 0.65814613\n",
      "Iteration 4, loss = 0.65101818\n",
      "Iteration 5, loss = 0.64699294\n",
      "Iteration 6, loss = 0.64393524\n",
      "Iteration 7, loss = 0.64152819\n",
      "Iteration 8, loss = 0.63958845\n",
      "Iteration 9, loss = 0.63814065\n",
      "Iteration 10, loss = 0.63692844\n",
      "Iteration 11, loss = 0.63588498\n",
      "Iteration 12, loss = 0.63513339\n",
      "Iteration 13, loss = 0.63430245\n",
      "Iteration 14, loss = 0.63381021\n",
      "Iteration 15, loss = 0.63330988\n",
      "Iteration 16, loss = 0.63289617\n",
      "Iteration 17, loss = 0.63242803\n",
      "Iteration 18, loss = 0.63202089\n",
      "Iteration 19, loss = 0.63149184\n",
      "Iteration 20, loss = 0.63101314\n",
      "Iteration 21, loss = 0.63060048\n",
      "Iteration 22, loss = 0.63017834\n",
      "Iteration 23, loss = 0.62977745\n",
      "Iteration 24, loss = 0.62877070\n",
      "Iteration 25, loss = 0.62821994\n",
      "Iteration 26, loss = 0.62784783\n",
      "Iteration 27, loss = 0.62741958\n",
      "Iteration 28, loss = 0.62710010\n",
      "Iteration 29, loss = 0.62680832\n",
      "Iteration 30, loss = 0.62654562\n",
      "Iteration 31, loss = 0.62615786\n",
      "Iteration 32, loss = 0.62576839\n",
      "Iteration 33, loss = 0.62534591\n",
      "Iteration 34, loss = 0.62511631\n",
      "Iteration 35, loss = 0.62488506\n",
      "Iteration 36, loss = 0.62457058\n",
      "Iteration 37, loss = 0.62433851\n",
      "Iteration 38, loss = 0.62404143\n",
      "Iteration 39, loss = 0.62374956\n",
      "Iteration 40, loss = 0.62366539\n",
      "Iteration 41, loss = 0.62343854\n",
      "Iteration 42, loss = 0.62325758\n",
      "Iteration 43, loss = 0.62300657\n",
      "Iteration 44, loss = 0.62303573\n",
      "Iteration 45, loss = 0.62274887\n",
      "Iteration 46, loss = 0.62271597\n",
      "Iteration 47, loss = 0.62249549\n",
      "Iteration 48, loss = 0.62233055\n",
      "Iteration 49, loss = 0.62212191\n",
      "Iteration 50, loss = 0.62198362\n",
      "Iteration 51, loss = 0.62175876\n",
      "Iteration 52, loss = 0.62165956\n",
      "Iteration 53, loss = 0.62153597\n",
      "Iteration 54, loss = 0.62135797\n",
      "Iteration 55, loss = 0.62119716\n",
      "Iteration 56, loss = 0.62108641\n",
      "Iteration 57, loss = 0.62095473\n",
      "Iteration 58, loss = 0.62079634\n",
      "Iteration 59, loss = 0.62057076\n",
      "Iteration 60, loss = 0.62045271\n",
      "Iteration 61, loss = 0.62034281\n",
      "Iteration 62, loss = 0.62018523\n",
      "Iteration 63, loss = 0.61993445\n",
      "Iteration 64, loss = 0.61988890\n",
      "Iteration 65, loss = 0.61980158\n",
      "Iteration 66, loss = 0.61953939\n",
      "Iteration 67, loss = 0.61945996\n",
      "Iteration 68, loss = 0.61933552\n",
      "Iteration 69, loss = 0.61910930\n",
      "Iteration 70, loss = 0.61903045\n",
      "Iteration 71, loss = 0.61896332\n",
      "Iteration 72, loss = 0.61873271\n",
      "Iteration 73, loss = 0.61873356\n",
      "Iteration 74, loss = 0.61846611\n",
      "Iteration 75, loss = 0.61833841\n",
      "Iteration 76, loss = 0.61816642\n",
      "Iteration 77, loss = 0.61802373\n",
      "Iteration 78, loss = 0.61792348\n",
      "Iteration 79, loss = 0.61786785\n",
      "Iteration 80, loss = 0.61781164\n",
      "Iteration 81, loss = 0.61759491\n",
      "Iteration 82, loss = 0.61770272\n",
      "Iteration 83, loss = 0.61756555\n",
      "Iteration 84, loss = 0.61751272\n",
      "Iteration 85, loss = 0.61735021\n",
      "Iteration 86, loss = 0.61725803\n",
      "Iteration 87, loss = 0.61726020\n",
      "Iteration 88, loss = 0.61719841\n",
      "Iteration 89, loss = 0.61725807\n",
      "Iteration 90, loss = 0.61708293\n",
      "Iteration 91, loss = 0.61706635\n",
      "Iteration 92, loss = 0.61712575\n",
      "Iteration 93, loss = 0.61697054\n",
      "Iteration 94, loss = 0.61691796\n",
      "Iteration 95, loss = 0.61697835\n",
      "Iteration 96, loss = 0.61677636\n",
      "Iteration 97, loss = 0.61685004\n",
      "Iteration 98, loss = 0.61681646\n",
      "Iteration 99, loss = 0.61686406\n",
      "Iteration 100, loss = 0.61680345\n",
      "Iteration 101, loss = 0.61678770\n",
      "Iteration 102, loss = 0.61666185\n",
      "Iteration 103, loss = 0.61665527\n",
      "Iteration 104, loss = 0.61669058\n",
      "Iteration 105, loss = 0.61661782\n",
      "Iteration 106, loss = 0.61651816\n",
      "Iteration 107, loss = 0.61658112\n",
      "Iteration 108, loss = 0.61646754\n",
      "Iteration 109, loss = 0.61642653\n",
      "Iteration 110, loss = 0.61643866\n",
      "Iteration 111, loss = 0.61626928\n",
      "Iteration 112, loss = 0.61629449\n",
      "Iteration 113, loss = 0.61634551\n",
      "Iteration 114, loss = 0.61625716\n",
      "Iteration 115, loss = 0.61623072\n",
      "Iteration 116, loss = 0.61608365\n",
      "Iteration 117, loss = 0.61609658\n",
      "Iteration 118, loss = 0.61606234\n",
      "Iteration 119, loss = 0.61591773\n",
      "Iteration 120, loss = 0.61593204\n",
      "Iteration 121, loss = 0.61592856\n",
      "Iteration 122, loss = 0.61587845\n",
      "Iteration 123, loss = 0.61577637\n",
      "Iteration 124, loss = 0.61580150\n",
      "Iteration 125, loss = 0.61565347\n",
      "Iteration 126, loss = 0.61578318\n",
      "Iteration 127, loss = 0.61565438\n",
      "Iteration 128, loss = 0.61558754\n",
      "Iteration 129, loss = 0.61564035\n",
      "Iteration 130, loss = 0.61553992\n",
      "Iteration 131, loss = 0.61550710\n",
      "Iteration 132, loss = 0.61548998\n",
      "Iteration 133, loss = 0.61548296\n",
      "Iteration 134, loss = 0.61536206\n",
      "Iteration 135, loss = 0.61543187\n",
      "Iteration 136, loss = 0.61529222\n",
      "Iteration 137, loss = 0.61522396\n",
      "Iteration 138, loss = 0.61520158\n",
      "Iteration 139, loss = 0.61532631\n",
      "Iteration 140, loss = 0.61513525\n",
      "Iteration 141, loss = 0.61517687\n",
      "Iteration 142, loss = 0.61503139\n",
      "Iteration 143, loss = 0.61513075\n",
      "Iteration 144, loss = 0.61518600\n",
      "Iteration 145, loss = 0.61518361\n",
      "Iteration 146, loss = 0.61499036\n",
      "Iteration 147, loss = 0.61487167\n",
      "Iteration 148, loss = 0.61503039\n",
      "Iteration 149, loss = 0.61499709\n",
      "Iteration 150, loss = 0.61480432\n",
      "Iteration 151, loss = 0.61499879\n",
      "Iteration 152, loss = 0.61485442\n",
      "Iteration 153, loss = 0.61491557\n",
      "Iteration 154, loss = 0.61492743\n",
      "Iteration 155, loss = 0.61489370\n",
      "Iteration 156, loss = 0.61481450\n",
      "Iteration 157, loss = 0.61488395\n",
      "Iteration 158, loss = 0.61476297\n",
      "Training loss did not improve more than tol=0.000100 for 10 consecutive epochs. Stopping.\n"
     ]
    },
    {
     "data": {
      "text/plain": [
       "MLPClassifier(hidden_layer_sizes=(10,), max_iter=300, random_state=1,\n",
       "              verbose=True)"
      ]
     },
     "execution_count": 9,
     "metadata": {},
     "output_type": "execute_result"
    }
   ],
   "source": [
    "mlp.fit(X_train_std, y_train)"
   ]
  },
  {
   "cell_type": "code",
   "execution_count": 19,
   "metadata": {},
   "outputs": [],
   "source": [
    "prediction=mlp.predict(X_test_std)"
   ]
  },
  {
   "cell_type": "code",
   "execution_count": 20,
   "metadata": {},
   "outputs": [
    {
     "data": {
      "image/png": "[encoded data removed]",
      "text/plain": [
       "<Figure size 432x288 with 2 Axes>"
      ]
     },
     "metadata": {
      "needs_background": "light"
     },
     "output_type": "display_data"
    }
   ],
   "source": [
    "matrix = plot_confusion_matrix(mlp, X_test_std, y_test)\n",
    "plt.title('Confusion matrix for our classifier')\n",
    "plt.show(matrix)\n",
    "plt.show()"
   ]
  },
  {
   "cell_type": "code",
   "execution_count": null,
   "metadata": {},
   "outputs": [],
   "source": []
  },
  {
   "cell_type": "code",
   "execution_count": 21,
   "metadata": {},
   "outputs": [
    {
     "name": "stdout",
     "output_type": "stream",
     "text": [
      "Accuracy:  0.7318305948228383\n",
      "F1-Score:  0.5560579679315482\n",
      "Precision:  0.520950325959993\n",
      "Recall:  0.6715915176029553\n"
     ]
    }
   ],
   "source": [
    "print('Accuracy: ',accuracy_score(prediction,y_test))\n",
    "print('F1-Score: ',f1_score(prediction,y_test,average='macro'))\n",
    "print('Precision: ',precision_score(prediction,y_test,average='macro'))\n",
    "print('Recall: ',recall_score(prediction,y_test,average='macro'))"
   ]
  },
  {
   "cell_type": "code",
   "execution_count": null,
   "metadata": {},
   "outputs": [],
   "source": []
  },
  {
   "cell_type": "code",
   "execution_count": null,
   "metadata": {},
   "outputs": [],
   "source": []
  },
  {
   "cell_type": "code",
   "execution_count": null,
   "metadata": {},
   "outputs": [],
   "source": []
  },
  {
   "cell_type": "code",
   "execution_count": null,
   "metadata": {},
   "outputs": [
    {
     "name": "stderr",
     "output_type": "stream",
     "text": [
      "c:\\programdata\\miniconda3\\lib\\site-packages\\sklearn\\utils\\validation.py:63: DataConversionWarning: A column-vector y was passed when a 1d array was expected. Please change the shape of y to (n_samples, ), for example using ravel().\n",
      "  return f(*args, **kwargs)\n",
      "c:\\programdata\\miniconda3\\lib\\site-packages\\sklearn\\utils\\validation.py:63: DataConversionWarning: A column-vector y was passed when a 1d array was expected. Please change the shape of y to (n_samples, ), for example using ravel().\n",
      "  return f(*args, **kwargs)\n"
     ]
    }
   ],
   "source": [
    "acc = []\n",
    "f1 = []\n",
    "for i in range (0,100):\n",
    "    X_train, X_test, y_train, y_test = train_test_split(X, y, train_size=0.7,shuffle = True)\n",
    "    X_train_std = (X_train - np.mean(X_train))/np.std(X_train)\n",
    "    X_test_std = (X_test - np.mean(X_train))/np.std(X_train)\n",
    "    mlp = MLPClassifier(random_state=1,hidden_layer_sizes = (10,), max_iter=300,activation = 'relu', solver = 'adam',verbose=False)\n",
    "    mlp.fit(X_train_std, y_train)\n",
    "    prediction=mlp.predict(X_train_std)\n",
    "    acc.append(accuracy_score(prediction,y_train))\n",
    "    f1.append(f1_score(prediction,y_train,average='macro'))\n",
    "    \n",
    "acc = pd.Series(acc)\n",
    "f1 = pd.Series(f1)"
   ]
  },
  {
   "cell_type": "code",
   "execution_count": null,
   "metadata": {},
   "outputs": [],
   "source": [
    "acc.mean()"
   ]
  },
  {
   "cell_type": "code",
   "execution_count": null,
   "metadata": {},
   "outputs": [],
   "source": [
    "acc.std()"
   ]
  },
  {
   "cell_type": "code",
   "execution_count": null,
   "metadata": {},
   "outputs": [],
   "source": [
    "f1.mean()"
   ]
  },
  {
   "cell_type": "code",
   "execution_count": null,
   "metadata": {},
   "outputs": [],
   "source": [
    "f1.std()"
   ]
  },
  {
   "cell_type": "code",
   "execution_count": null,
   "metadata": {},
   "outputs": [],
   "source": [
    "acc2 = []\n",
    "f12 = []\n",
    "for i in range (0,100):\n",
    "    X_train, X_test, y_train, y_test = train_test_split(X, y, train_size=0.7,shuffle = True)\n",
    "    X_train_std = (X_train - np.mean(X_train))/np.std(X_train)\n",
    "    X_test_std = (X_test - np.mean(X_train))/np.std(X_train)\n",
    "    mlp = MLPClassifier(random_state=1,hidden_layer_sizes = (10,), max_iter=300,activation = 'relu', solver = 'sgd',verbose=False)\n",
    "    mlp.fit(X_train_std, y_train)\n",
    "    prediction=mlp.predict(X_train_std)\n",
    "    acc2.append(accuracy_score(prediction,y_train))\n",
    "    f12.append(f1_score(prediction,y_train,average='macro'))\n",
    "    \n",
    "acc2 = pd.Series(acc)\n",
    "f12 = pd.Series(f1)"
   ]
  },
  {
   "cell_type": "code",
   "execution_count": null,
   "metadata": {},
   "outputs": [],
   "source": [
    "acc2.mean()"
   ]
  },
  {
   "cell_type": "code",
   "execution_count": null,
   "metadata": {},
   "outputs": [],
   "source": [
    "acc2.std()"
   ]
  },
  {
   "cell_type": "code",
   "execution_count": null,
   "metadata": {},
   "outputs": [],
   "source": [
    "f1.mean()"
   ]
  },
  {
   "cell_type": "code",
   "execution_count": null,
   "metadata": {},
   "outputs": [],
   "source": [
    "f1.std()"
   ]
  },
  {
   "cell_type": "code",
   "execution_count": null,
   "metadata": {},
   "outputs": [],
   "source": []
  }
 ],
 "metadata": {
  "kernelspec": {
   "display_name": "Python 3 (ipykernel)",
   "language": "python",
   "name": "python3"
  },
  "language_info": {
   "codemirror_mode": {
    "name": "ipython",
    "version": 3
   },
   "file_extension": ".py",
   "mimetype": "text/x-python",
   "name": "python",
   "nbconvert_exporter": "python",
   "pygments_lexer": "ipython3",
   "version": "3.8.5"
  }
 },
 "nbformat": 4,
 "nbformat_minor": 4
}

{
 "nbformat": 4,
 "nbformat_minor": 0,
 "metadata": {
  "kernelspec": {
   "display_name": "Python 3 (ipykernel)",
   "language": "python",
   "name": "python3"
  },
  "language_info": {
   "codemirror_mode": {
    "name": "ipython",
    "version": 3
   },
   "file_extension": ".py",
   "mimetype": "text/x-python",
   "name": "python",
   "nbconvert_exporter": "python",
   "pygments_lexer": "ipython3",
   "version": "3.8.5"
  },
  "colab": {
   "name": "PP2.2.2 - Proposição e Avaliação de RNAs_Max.ipynb",
   "provenance": [],
   "collapsed_sections": []
  }
 },
 "cells": [
  {
   "cell_type": "markdown",
   "metadata": {
    "id": "YbV0HpwJkNv1"
   },
   "source": [
    "## Redes Neurais Artificiais 2021.1\n",
    "\n",
    "- **Disciplina**: Redes Neurais Artificiais 2021.1  \n",
    "- **Professora**: Elloá B. Guedes (ebgcosta@uea.edu.br)  \n",
    "- **Github**: http://github.com/elloa  \n",
    "        \n",
    "\n",
    "Levando em conta a base de dados **_Forest Cover Type_**, esta segunda parte do Projeto Prático 2.2 diz respeito à proposição e avaliação de múltiplas redes neurais artificiais do tipo feedforward multilayer perceptron para o problema da classificação multi-classe da cobertura florestal em uma área do Roosevelt National Forest.\n",
    "\n",
    "## Testando Redes Neurais sem os Atributos Categórios\n",
    "\n",
    "1. Abra a base de dados em questão\n",
    "2. Elimine todas as colunas relativas aos atributos categóricos\n",
    "3. Armazene o atributo alvo em uma variável y e os atributos preditores em uma variável X\n",
    "4. Efetue uma partição holdout 70/30 com o sklearn, distribuindo os exemplos de maneira aleatória\n",
    "5. Efetue o escalonamento dos atributos\n",
    "\n",
    "### Escalonando os atributos\n",
    "\n",
    "O treinamento de uma rede neural artificial é mais eficiente quando os valores que lhes são fornecidos como entrada são pequenos, pois isto favorece a convergência. Isto é feito escalonando-se todos os atributos para o intervalo [0,1], mas precisa ser feito de maneira cautelosa, para que informações do conjunto de teste não sejam fornecidas no treinamento.\n",
    "\n",
    "Há duas estratégias para tal escalonamento: normalização e padronização. Ambas possuem características particulares, vantagens e limitações, como é possível ver aqui: https://www.analyticsvidhya.com/blog/2020/04/feature-scaling-machine-learning-normalization-standardization/\n",
    "\n",
    "\n",
    "No nosso caso, vamos usar a padronização. Assim, com os atributos preditores do treinamento, isto é, X_train, deve-se subtrair a média e dividir pelo desvio padrão:\n",
    "\n",
    "X_train_std = (X_train - np.mean(X_train))/np.std(X_train)\n",
    "\n",
    "Em seguida, o mesmo deve ser feito com os atributos preditores do conjunto de testes, mas com padronização relativa ao conjunto de treinamento:\n",
    "\n",
    "X_test_std = (X_test - np.mean(X_train))/np.std(X_train)\n",
    "\n",
    "Se todo o conjunto X for utilizado na padronização, a rede neural receberá informações do conjunto de teste por meio da média e variância utilizada para preparar os dados de treinamento, o que não é desejável."
   ]
  },
  {
   "cell_type": "code",
   "metadata": {
    "id": "PDpSGv2NkNv8",
    "executionInfo": {
     "status": "ok",
     "timestamp": 1638847633434,
     "user_tz": 240,
     "elapsed": 755,
     "user": {
      "displayName": "José Max Dias Figueira Junior",
      "photoUrl": "https://lh3.googleusercontent.com/a-/AOh14GiUkfqsRDxLzojLYrGgsXG_cTc15Dnqg5KFX8QqCQ=s64",
      "userId": "07239097205257965617"
     }
    }
   },
   "source": [
    "import pandas as pd\n",
    "import numpy as np\n",
    "from sklearn.model_selection import train_test_split\n",
    "from sklearn.neural_network import MLPClassifier\n",
    "from sklearn.metrics import precision_score, recall_score, accuracy_score, f1_score, ConfusionMatrixDisplay\n",
    "import matplotlib.pyplot as plt\n",
    "import math as mt"
   ],
   "execution_count": 3,
   "outputs": []
  },
  {
   "cell_type": "markdown",
   "metadata": {
    "id": "Vf0jnlIimGiq"
   },
   "source": [
    "1. Abra a base de dados em questão"
   ]
  },
  {
   "cell_type": "code",
   "metadata": {
    "id": "U2GdNp8pkNv9",
    "executionInfo": {
     "status": "ok",
     "timestamp": 1638847637426,
     "user_tz": 240,
     "elapsed": 2184,
     "user": {
      "displayName": "José Max Dias Figueira Junior",
      "photoUrl": "https://lh3.googleusercontent.com/a-/AOh14GiUkfqsRDxLzojLYrGgsXG_cTc15Dnqg5KFX8QqCQ=s64",
      "userId": "07239097205257965617"
     }
    }
   },
   "source": [
    "data_all = pd.read_csv('data/covtype.csv')"
   ],
   "execution_count": 4,
   "outputs": []
  },
  {
   "cell_type": "markdown",
   "metadata": {
    "id": "LCXSJ83RmJKF"
   },
   "source": [
    "\n",
    "2. Elimine todas as colunas relativas aos atributos categóricos"
   ]
  },
  {
   "cell_type": "code",
   "metadata": {
    "id": "mOstqYh7nMI3",
    "executionInfo": {
     "status": "ok",
     "timestamp": 1638847639225,
     "user_tz": 240,
     "elapsed": 289,
     "user": {
      "displayName": "José Max Dias Figueira Junior",
      "photoUrl": "https://lh3.googleusercontent.com/a-/AOh14GiUkfqsRDxLzojLYrGgsXG_cTc15Dnqg5KFX8QqCQ=s64",
      "userId": "07239097205257965617"
     }
    }
   },
   "source": [
    "categoricos = list(filter(lambda x: (x.startswith('Wilderness_Area') or x.startswith('Soil_Type')), data_all.columns.to_list()))"
   ],
   "execution_count": 5,
   "outputs": []
  },
  {
   "cell_type": "code",
   "metadata": {
    "id": "V4PJDGEmkNv9",
    "executionInfo": {
     "status": "ok",
     "timestamp": 1638847642402,
     "user_tz": 240,
     "elapsed": 288,
     "user": {
      "displayName": "José Max Dias Figueira Junior",
      "photoUrl": "https://lh3.googleusercontent.com/a-/AOh14GiUkfqsRDxLzojLYrGgsXG_cTc15Dnqg5KFX8QqCQ=s64",
      "userId": "07239097205257965617"
     }
    }
   },
   "source": [
    "data = data_all.drop(categoricos, axis=1)"
   ],
   "execution_count": 6,
   "outputs": []
  },
  {
   "cell_type": "code",
   "metadata": {
    "colab": {
     "base_uri": "https://localhost:8080/"
    },
    "id": "irz0I1PG3f4a",
    "executionInfo": {
     "status": "ok",
     "timestamp": 1638847644118,
     "user_tz": 240,
     "elapsed": 369,
     "user": {
      "displayName": "José Max Dias Figueira Junior",
      "photoUrl": "https://lh3.googleusercontent.com/a-/AOh14GiUkfqsRDxLzojLYrGgsXG_cTc15Dnqg5KFX8QqCQ=s64",
      "userId": "07239097205257965617"
     }
    },
    "outputId": "523eaef8-49bc-4bf0-bf6e-3ab21f6799d0"
   },
   "source": [
    "data.shape"
   ],
   "execution_count": 7,
   "outputs": [
    {
     "output_type": "execute_result",
     "data": {
      "text/plain": [
       "(581012, 11)"
      ]
     },
     "metadata": {},
     "execution_count": 7
    }
   ]
  },
  {
   "cell_type": "code",
   "metadata": {
    "colab": {
     "base_uri": "https://localhost:8080/"
    },
    "id": "aM0IWR29A4qc",
    "executionInfo": {
     "status": "ok",
     "timestamp": 1638228304991,
     "user_tz": 240,
     "elapsed": 316,
     "user": {
      "displayName": "José Max Dias Figueira Junior",
      "photoUrl": "https://lh3.googleusercontent.com/a-/AOh14GiUkfqsRDxLzojLYrGgsXG_cTc15Dnqg5KFX8QqCQ=s64",
      "userId": "07239097205257965617"
     }
    },
    "outputId": "1a3569c8-be10-42b5-d239-1e5e0886d463"
   },
   "source": [
    "# data.Wilderness_Area1.sum() + data.Wilderness_Area2.sum() + data.Wilderness_Area3.sum() + data.Wilderness_Area4.sum() # igual a len(data)"
   ],
   "execution_count": null,
   "outputs": [
    {
     "output_type": "execute_result",
     "data": {
      "text/plain": [
       "581012"
      ]
     },
     "metadata": {},
     "execution_count": 13
    }
   ]
  },
  {
   "cell_type": "code",
   "metadata": {
    "colab": {
     "base_uri": "https://localhost:8080/"
    },
    "id": "0BSYvdboAysI",
    "executionInfo": {
     "status": "ok",
     "timestamp": 1638847647335,
     "user_tz": 240,
     "elapsed": 425,
     "user": {
      "displayName": "José Max Dias Figueira Junior",
      "photoUrl": "https://lh3.googleusercontent.com/a-/AOh14GiUkfqsRDxLzojLYrGgsXG_cTc15Dnqg5KFX8QqCQ=s64",
      "userId": "07239097205257965617"
     }
    },
    "outputId": "70f337dd-0cc7-4cad-8116-96e8bf9ee7f2"
   },
   "source": [
    "data.dtypes"
   ],
   "execution_count": 8,
   "outputs": [
    {
     "output_type": "execute_result",
     "data": {
      "text/plain": [
       "Elevation                             int64\n",
       "Aspect                                int64\n",
       "Slope                                 int64\n",
       "Horizontal_Distance_To_Hydrology      int64\n",
       "Vertical_Distance_To_Hydrology        int64\n",
       "Horizontal_Distance_To_Roadways       int64\n",
       "Hillshade_9am                         int64\n",
       "Hillshade_Noon                        int64\n",
       "Hillshade_3pm                         int64\n",
       "Horizontal_Distance_To_Fire_Points    int64\n",
       "Cover_Type                            int64\n",
       "dtype: object"
      ]
     },
     "metadata": {},
     "execution_count": 8
    }
   ]
  },
  {
   "cell_type": "markdown",
   "metadata": {
    "id": "bqNA68mHmNgd"
   },
   "source": [
    "\n",
    "3. Armazene o atributo alvo em uma variável y e os atributos preditores em uma variável X"
   ]
  },
  {
   "cell_type": "code",
   "metadata": {
    "id": "Q8Xqs1t3kNv-",
    "executionInfo": {
     "status": "ok",
     "timestamp": 1638847650488,
     "user_tz": 240,
     "elapsed": 425,
     "user": {
      "displayName": "José Max Dias Figueira Junior",
      "photoUrl": "https://lh3.googleusercontent.com/a-/AOh14GiUkfqsRDxLzojLYrGgsXG_cTc15Dnqg5KFX8QqCQ=s64",
      "userId": "07239097205257965617"
     }
    }
   },
   "source": [
    "X = data.iloc[:, :(data.shape[1] - 1)]\n",
    "y = data.iloc[:, -1:]\n"
   ],
   "execution_count": 9,
   "outputs": []
  },
  {
   "cell_type": "markdown",
   "metadata": {
    "id": "taEH7IkbmQFC"
   },
   "source": [
    "\n",
    "4. Efetue uma partição holdout 70/30 com o sklearn, distribuindo os exemplos de maneira aleatória"
   ]
  },
  {
   "cell_type": "code",
   "metadata": {
    "id": "HBW3rNT0kNv-",
    "executionInfo": {
     "status": "ok",
     "timestamp": 1638847652078,
     "user_tz": 240,
     "elapsed": 337,
     "user": {
      "displayName": "José Max Dias Figueira Junior",
      "photoUrl": "https://lh3.googleusercontent.com/a-/AOh14GiUkfqsRDxLzojLYrGgsXG_cTc15Dnqg5KFX8QqCQ=s64",
      "userId": "07239097205257965617"
     }
    }
   },
   "source": [
    "X_train, X_test, y_train, y_test = train_test_split(X, y, train_size=0.7, shuffle=True)"
   ],
   "execution_count": 10,
   "outputs": []
  },
  {
   "cell_type": "markdown",
   "metadata": {
    "id": "8xGTuntCmSG_"
   },
   "source": [
    "\n",
    "5. Efetue o escalonamento dos atributos"
   ]
  },
  {
   "cell_type": "code",
   "metadata": {
    "id": "08wpXX3skNv-"
   },
   "source": [
    "X_train_std = (X_train - np.mean(X_train))/np.std(X_train)\n",
    "X_test_std = (X_test - np.mean(X_train))/np.std(X_train)"
   ],
   "execution_count": null,
   "outputs": []
  },
  {
   "cell_type": "markdown",
   "metadata": {
    "id": "BIJ6AlA8lEhm"
   },
   "source": [
    "### Continuando\n",
    "\n",
    "5. Treine uma rede neural multilayer perceptron para este problema com uma única camada e dez neurônios  \n",
    "    5.1 Utilize a função de ativação ReLU  \n",
    "    5.2 Utilize o solver Adam    \n",
    "    5.3 Imprima o passo a passo do treinamento    \n",
    "    5.4 Utilize o número máximo de épocas igual a 300  "
   ]
  },
  {
   "cell_type": "code",
   "metadata": {
    "id": "joXvQBOwkNv_"
   },
   "source": [
    "mlp = MLPClassifier(hidden_layer_sizes=(10,), max_iter=300, activation='relu', solver='adam', verbose=True, random_state=1)"
   ],
   "execution_count": null,
   "outputs": []
  },
  {
   "cell_type": "code",
   "metadata": {
    "id": "gcPPHlAdkNv_",
    "colab": {
     "base_uri": "https://localhost:8080/"
    },
    "executionInfo": {
     "status": "ok",
     "timestamp": 1638265197062,
     "user_tz": 240,
     "elapsed": 107136,
     "user": {
      "displayName": "José Max Dias Figueira Junior",
      "photoUrl": "https://lh3.googleusercontent.com/a-/AOh14GiUkfqsRDxLzojLYrGgsXG_cTc15Dnqg5KFX8QqCQ=s64",
      "userId": "07239097205257965617"
     }
    },
    "outputId": "2ee17bfb-80b1-443a-d891-ae2cd75ec82f"
   },
   "source": [
    "mlp.fit(X_train_std, y_train.values.ravel())"
   ],
   "execution_count": null,
   "outputs": [
    {
     "output_type": "stream",
     "name": "stdout",
     "text": [
      "Iteration 1, loss = 0.92778214\n",
      "Iteration 2, loss = 0.70818723\n",
      "Iteration 3, loss = 0.68936309\n",
      "Iteration 4, loss = 0.68125544\n",
      "Iteration 5, loss = 0.67517400\n",
      "Iteration 6, loss = 0.67061687\n",
      "Iteration 7, loss = 0.66790610\n",
      "Iteration 8, loss = 0.66621629\n",
      "Iteration 9, loss = 0.66511280\n",
      "Iteration 10, loss = 0.66412477\n",
      "Iteration 11, loss = 0.66298612\n",
      "Iteration 12, loss = 0.66209966\n",
      "Iteration 13, loss = 0.66129998\n",
      "Iteration 14, loss = 0.66054241\n",
      "Iteration 15, loss = 0.65988665\n",
      "Iteration 16, loss = 0.65920554\n",
      "Iteration 17, loss = 0.65858758\n",
      "Iteration 18, loss = 0.65818319\n",
      "Iteration 19, loss = 0.65778091\n",
      "Iteration 20, loss = 0.65737432\n",
      "Iteration 21, loss = 0.65711343\n",
      "Iteration 22, loss = 0.65674588\n",
      "Iteration 23, loss = 0.65653528\n",
      "Iteration 24, loss = 0.65630401\n",
      "Iteration 25, loss = 0.65611816\n",
      "Iteration 26, loss = 0.65604190\n",
      "Iteration 27, loss = 0.65576959\n",
      "Iteration 28, loss = 0.65563422\n",
      "Iteration 29, loss = 0.65556978\n",
      "Iteration 30, loss = 0.65541042\n",
      "Iteration 31, loss = 0.65536849\n",
      "Iteration 32, loss = 0.65528278\n",
      "Iteration 33, loss = 0.65519624\n",
      "Iteration 34, loss = 0.65517134\n",
      "Iteration 35, loss = 0.65510033\n",
      "Iteration 36, loss = 0.65511665\n",
      "Iteration 37, loss = 0.65500887\n",
      "Iteration 38, loss = 0.65499505\n",
      "Iteration 39, loss = 0.65494778\n",
      "Iteration 40, loss = 0.65491674\n",
      "Iteration 41, loss = 0.65480069\n",
      "Iteration 42, loss = 0.65480103\n",
      "Iteration 43, loss = 0.65486524\n",
      "Iteration 44, loss = 0.65474852\n",
      "Iteration 45, loss = 0.65474717\n",
      "Iteration 46, loss = 0.65468953\n",
      "Iteration 47, loss = 0.65463892\n",
      "Iteration 48, loss = 0.65461467\n",
      "Iteration 49, loss = 0.65462317\n",
      "Iteration 50, loss = 0.65456024\n",
      "Iteration 51, loss = 0.65455274\n",
      "Iteration 52, loss = 0.65443834\n",
      "Iteration 53, loss = 0.65442262\n",
      "Iteration 54, loss = 0.65436057\n",
      "Iteration 55, loss = 0.65431121\n",
      "Iteration 56, loss = 0.65425074\n",
      "Iteration 57, loss = 0.65425072\n",
      "Iteration 58, loss = 0.65422402\n",
      "Iteration 59, loss = 0.65418566\n",
      "Iteration 60, loss = 0.65409388\n",
      "Iteration 61, loss = 0.65414899\n",
      "Iteration 62, loss = 0.65398903\n",
      "Iteration 63, loss = 0.65397935\n",
      "Iteration 64, loss = 0.65378053\n",
      "Iteration 65, loss = 0.65369792\n",
      "Iteration 66, loss = 0.65361177\n",
      "Iteration 67, loss = 0.65338071\n",
      "Iteration 68, loss = 0.65318367\n",
      "Iteration 69, loss = 0.65297125\n",
      "Iteration 70, loss = 0.65286028\n",
      "Iteration 71, loss = 0.65262682\n",
      "Iteration 72, loss = 0.65249909\n",
      "Iteration 73, loss = 0.65242292\n",
      "Iteration 74, loss = 0.65227469\n",
      "Iteration 75, loss = 0.65221380\n",
      "Iteration 76, loss = 0.65207814\n",
      "Iteration 77, loss = 0.65199200\n",
      "Iteration 78, loss = 0.65199659\n",
      "Iteration 79, loss = 0.65193519\n",
      "Iteration 80, loss = 0.65186933\n",
      "Iteration 81, loss = 0.65173591\n",
      "Iteration 82, loss = 0.65172974\n",
      "Iteration 83, loss = 0.65164792\n",
      "Iteration 84, loss = 0.65166226\n",
      "Iteration 85, loss = 0.65161181\n",
      "Iteration 86, loss = 0.65153978\n",
      "Iteration 87, loss = 0.65144845\n",
      "Iteration 88, loss = 0.65143976\n",
      "Iteration 89, loss = 0.65142807\n",
      "Iteration 90, loss = 0.65143796\n",
      "Iteration 91, loss = 0.65117352\n",
      "Iteration 92, loss = 0.65130260\n",
      "Iteration 93, loss = 0.65116578\n",
      "Iteration 94, loss = 0.65125585\n",
      "Iteration 95, loss = 0.65120617\n",
      "Iteration 96, loss = 0.65110000\n",
      "Iteration 97, loss = 0.65107825\n",
      "Iteration 98, loss = 0.65098259\n",
      "Iteration 99, loss = 0.65109822\n",
      "Iteration 100, loss = 0.65104191\n",
      "Iteration 101, loss = 0.65110709\n",
      "Iteration 102, loss = 0.65100143\n",
      "Training loss did not improve more than tol=0.000100 for 10 consecutive epochs. Stopping.\n"
     ]
    },
    {
     "output_type": "execute_result",
     "data": {
      "text/plain": [
       "MLPClassifier(hidden_layer_sizes=(10,), max_iter=300, random_state=1,\n",
       "              verbose=True)"
      ]
     },
     "metadata": {},
     "execution_count": 12
    }
   ]
  },
  {
   "cell_type": "markdown",
   "metadata": {
    "id": "OYboeij0lSa4"
   },
   "source": [
    "6. Com o modelo em questão, após o treinamento, apresente:  \n",
    "    6.1 Matriz de confusão para o conjunto de teste  \n",
    "    6.2 Acurácia  \n",
    "    6.3 F-Score  \n",
    "    6.4 Precisão  \n",
    "    6.5 Revocação  "
   ]
  },
  {
   "cell_type": "code",
   "metadata": {
    "id": "meoegYeYkNv_"
   },
   "source": [
    "y_pred = mlp.predict(X_test_std)"
   ],
   "execution_count": null,
   "outputs": []
  },
  {
   "cell_type": "code",
   "metadata": {
    "id": "NMesNEDokNwA",
    "colab": {
     "base_uri": "https://localhost:8080/",
     "height": 295
    },
    "executionInfo": {
     "status": "ok",
     "timestamp": 1638265611737,
     "user_tz": 240,
     "elapsed": 862,
     "user": {
      "displayName": "José Max Dias Figueira Junior",
      "photoUrl": "https://lh3.googleusercontent.com/a-/AOh14GiUkfqsRDxLzojLYrGgsXG_cTc15Dnqg5KFX8QqCQ=s64",
      "userId": "07239097205257965617"
     }
    },
    "outputId": "8be772f8-de60-4d0d-8b34-2fe6a05eab56"
   },
   "source": [
    "matrix = ConfusionMatrixDisplay.from_predictions(y_test, y_pred)\n",
    "plt.title('Matriz de confusão para o conjunto de teste')\n",
    "plt.show(matrix)\n",
    "plt.show()"
   ],
   "execution_count": null,
   "outputs": [
    {
     "output_type": "display_data",
     "data": {
      "image/png": "[encoded data removed]",
      "text/plain": [
       "<Figure size 432x288 with 2 Axes>"
      ]
     },
     "metadata": {
      "needs_background": "light"
     }
    }
   ]
  },
  {
   "cell_type": "code",
   "metadata": {
    "id": "xGlAWxsZkNwA",
    "colab": {
     "base_uri": "https://localhost:8080/"
    },
    "executionInfo": {
     "status": "ok",
     "timestamp": 1638265617283,
     "user_tz": 240,
     "elapsed": 488,
     "user": {
      "displayName": "José Max Dias Figueira Junior",
      "photoUrl": "https://lh3.googleusercontent.com/a-/AOh14GiUkfqsRDxLzojLYrGgsXG_cTc15Dnqg5KFX8QqCQ=s64",
      "userId": "07239097205257965617"
     }
    },
    "outputId": "82d88737-8752-437e-8e5e-723474e8515f"
   },
   "source": [
    "print('Acurácia:', accuracy_score(y_pred, y_test))\n",
    "print('F1-Score:', f1_score(y_pred,y_test, average='weighted'))\n",
    "print('Precisão:', precision_score(y_pred, y_test, average='weighted'))\n",
    "print('Revocação:', recall_score(y_pred, y_test, average='weighted'))"
   ],
   "execution_count": null,
   "outputs": [
    {
     "output_type": "stream",
     "name": "stdout",
     "text": [
      "Acurácia: 0.7157208096199743\n",
      "F1-Score: 0.5093346450628572\n",
      "Precisão: 0.47167331133319196\n",
      "Revocação: 0.6822170183992812\n"
     ]
    }
   ]
  },
  {
   "cell_type": "markdown",
   "metadata": {
    "id": "nP4d8neTlWjt"
   },
   "source": [
    "7. Repita o treinamento da mesma rede anterior sem imprimir o passo a passo (verbose False) por 15 vezes  \n",
    "    7.1 Cada uma destas repetições deve ser feita com uma nova partição Holdout  \n",
    "    7.2 Apresente a média e o desvio padrão da acurácia e do F-Score para o conjunto de treino  "
   ]
  },
  {
   "cell_type": "code",
   "metadata": {
    "id": "eqPw34wV6Qmv",
    "executionInfo": {
     "status": "ok",
     "timestamp": 1638847686330,
     "user_tz": 240,
     "elapsed": 294,
     "user": {
      "displayName": "José Max Dias Figueira Junior",
      "photoUrl": "https://lh3.googleusercontent.com/a-/AOh14GiUkfqsRDxLzojLYrGgsXG_cTc15Dnqg5KFX8QqCQ=s64",
      "userId": "07239097205257965617"
     }
    }
   },
   "source": [
    "def evaluate_mlp(*args, N=1, train_size=.7, **kwargs):\n",
    "  X, y = args\n",
    "  f1_scores = []\n",
    "  acuracias = []\n",
    "  mlp = None\n",
    "  for i in range(N):\n",
    "    X_train, X_test, y_train, y_test = train_test_split(X, y, train_size=train_size, shuffle=True)\n",
    "\n",
    "    X_train_std = (X_train - np.mean(X_train))/np.std(X_train)\n",
    "    X_test_std = (X_test - np.mean(X_train))/np.std(X_train)\n",
    "\n",
    "    mlp = MLPClassifier(**kwargs)\n",
    "    mlp.fit(X_train_std, y_train.values.ravel())\n",
    "\n",
    "    y_pred=mlp.predict(X_test_std)\n",
    "\n",
    "    acuracias.append(accuracy_score(y_pred, y_test))\n",
    "    f1_scores.append(f1_score(y_pred, y_test, average='weighted'))\n",
    "  return (mlp.get_params(), np.mean(acuracias), np.std(acuracias), np.mean(f1_scores), np.std(f1_scores))"
   ],
   "execution_count": 11,
   "outputs": []
  },
  {
   "cell_type": "code",
   "metadata": {
    "id": "ARKU1RZF4RLJ"
   },
   "source": [
    "N=15\n",
    "mlp_params_adam = mlp.get_params()\n",
    "mlp_params_adam['verbose'] = False"
   ],
   "execution_count": null,
   "outputs": []
  },
  {
   "cell_type": "code",
   "metadata": {
    "id": "lVW2L3rolio2"
   },
   "source": [
    "_, adam_acc_mean, adam_acc_std, adam_f1_mean, adam_f1_std = evaluate_mlp(X, y, N=N, **mlp_params_adam)"
   ],
   "execution_count": null,
   "outputs": []
  },
  {
   "cell_type": "markdown",
   "metadata": {
    "id": "oUwAf_4zFQ2k"
   },
   "source": [
    "23m0s\n",
    "Acurácia - Média:  0.7155972706688697\n",
    "Acurácia - Desvio Padrão :  0.002155649672444464\n",
    "F1-Score - Média:  0.5168943657692464\n",
    "F1-Score - Desvio Padrão:  0.008230984559501947"
   ]
  },
  {
   "cell_type": "markdown",
   "metadata": {
    "id": "q9UfCltxIZxh"
   },
   "source": [
    "23m56s\n",
    "Acurácia - Média:  0.7152962639985313\n",
    "Acurácia - Desvio Padrão :  0.00238822397143433\n",
    "F1-Score - Média:  0.5203633874934127\n",
    "F1-Score - Desvio Padrão:  0.01141224018916451"
   ]
  },
  {
   "cell_type": "code",
   "metadata": {
    "id": "7U8YlzwVrzNc",
    "colab": {
     "base_uri": "https://localhost:8080/"
    },
    "executionInfo": {
     "status": "ok",
     "timestamp": 1638297374070,
     "user_tz": 240,
     "elapsed": 473,
     "user": {
      "displayName": "José Max Dias Figueira Junior",
      "photoUrl": "https://lh3.googleusercontent.com/a-/AOh14GiUkfqsRDxLzojLYrGgsXG_cTc15Dnqg5KFX8QqCQ=s64",
      "userId": "07239097205257965617"
     }
    },
    "outputId": "0f2f8610-6f10-4c99-ffd2-ad7dc30fe5e2"
   },
   "source": [
    "print('Acurácia - Média: ', adam_acc_mean)\n",
    "print('Acurácia - Desvio Padrão : ', adam_acc_std)\n",
    "print('F1-Score - Média: ', adam_f1_mean)\n",
    "print('F1-Score - Desvio Padrão: ', adam_f1_std)"
   ],
   "execution_count": null,
   "outputs": [
    {
     "output_type": "stream",
     "name": "stdout",
     "text": [
      "Acurácia - Média:  0.7152962639985313\n",
      "Acurácia - Desvio Padrão :  0.00238822397143433\n",
      "F1-Score - Média:  0.5203633874934127\n",
      "F1-Score - Desvio Padrão:  0.01141224018916451\n"
     ]
    }
   ]
  },
  {
   "cell_type": "markdown",
   "metadata": {
    "id": "w01fL3g5nJQy"
   },
   "source": [
    "8. Repita por 15 vezes o treinamento desta mesma rede, mas utilizando o otimizador SGD  \n",
    "    8.1 Apresente a média e o desvio padrão da acurácia e do F-Score para o conjunto de treino"
   ]
  },
  {
   "cell_type": "code",
   "metadata": {
    "id": "934gBYc911Fe"
   },
   "source": [
    "param_keys = ['hidden_layer_sizes', 'activation', 'max_iter']"
   ],
   "execution_count": null,
   "outputs": []
  },
  {
   "cell_type": "code",
   "metadata": {
    "id": "HNVJE_jO11Fj"
   },
   "source": [
    "mlp_params_sgd = { param_key: mlp_params_adam[param_key] for param_key in param_keys }\n",
    "mlp_params_sgd['solver'] = 'sgd'"
   ],
   "execution_count": null,
   "outputs": []
  },
  {
   "cell_type": "code",
   "metadata": {
    "id": "4_0WezDR0Yy-"
   },
   "source": [
    "_, sgd_acc_mean, sgd_acc_std, sgd_f1_mean, sgd_f1_std = evaluate_mlp(X, y, N=N, **mlp_params_sgd)"
   ],
   "execution_count": null,
   "outputs": []
  },
  {
   "cell_type": "markdown",
   "metadata": {
    "id": "StShcFJ7XMIR"
   },
   "source": [
    "28m44s\n",
    "Acurácia - Média:  0.7168732023743958\n",
    "Acurácia - Desvio Padrão :  0.0019541708800809333\n",
    "F1-Score - Média:  0.46965596308789714\n",
    "F1-Score - Desvio Padrão:  0.008262353195469531"
   ]
  },
  {
   "cell_type": "markdown",
   "metadata": {
    "id": "RoLfhsAPBMG-"
   },
   "source": [
    "34m\n",
    "Acurácia - Média:  0.7160329080227649\n",
    "Acurácia - Desvio Padrão :  0.0016266547641324695\n",
    "F1-Score - Média:  0.46468009813821104\n",
    "F1-Score - Desvio Padrão:  0.011731148839183107"
   ]
  },
  {
   "cell_type": "code",
   "metadata": {
    "colab": {
     "base_uri": "https://localhost:8080/"
    },
    "id": "vLD4oa3k5ABH",
    "executionInfo": {
     "status": "ok",
     "timestamp": 1638295439328,
     "user_tz": 240,
     "elapsed": 307,
     "user": {
      "displayName": "José Max Dias Figueira Junior",
      "photoUrl": "https://lh3.googleusercontent.com/a-/AOh14GiUkfqsRDxLzojLYrGgsXG_cTc15Dnqg5KFX8QqCQ=s64",
      "userId": "07239097205257965617"
     }
    },
    "outputId": "07b23672-270c-4a03-ab32-a0a714d47f78"
   },
   "source": [
    "print('Acurácia - Média: ', sgd_acc_mean)\n",
    "print('Acurácia - Desvio Padrão : ', sgd_acc_std)\n",
    "print('F1-Score - Média: ', sgd_f1_mean)\n",
    "print('F1-Score - Desvio Padrão: ', sgd_f1_std)"
   ],
   "execution_count": null,
   "outputs": [
    {
     "output_type": "stream",
     "name": "stdout",
     "text": [
      "Acurácia - Média:  0.7160329080227649\n",
      "Acurácia - Desvio Padrão :  0.0016266547641324695\n",
      "F1-Score - Média:  0.46468009813821104\n",
      "F1-Score - Desvio Padrão:  0.011731148839183107\n"
     ]
    }
   ]
  },
  {
   "cell_type": "markdown",
   "metadata": {
    "id": "UgmdD9sKltDu"
   },
   "source": [
    "9. Houve influência da escolha do otimizador no desempenho da rede?"
   ]
  },
  {
   "cell_type": "markdown",
   "metadata": {
    "id": "BjCBSaJnkNwD"
   },
   "source": [
    "Sim. Com otimizador SGD o tempo de treinamento foi maior e o F-Score foi menor em relação ao otimizador ADAM. Em termos de Acurácia, os resultados são semelhantes com ambos os otimizadores."
   ]
  },
  {
   "cell_type": "markdown",
   "metadata": {
    "id": "wvDRcqqSkNv5"
   },
   "source": [
    "## Discussão\n",
    "\n",
    "Nos passos anteriores, você avaliou o desempenho de uma única rede neural que contém os seguintes parâmetros: uma única camada oculta com 10 neurônios e função de ativação ReLU. O otimizador utilizado, quer seja SGD ou ADAM, trata-se do algoritmo para aproximar o gradiente do erro. Neste sentido, a escolha do otimizador é um hiperparâmetro, pois diz respeito a como a rede neural definida previamente atuará \"em tempo de execução\"  durante o processo de treinamento. Também são hiperparâmetros a quantidade de épocas, a taxa de aprendizado inicial, dentre outros.\n",
    "\n",
    "Cabe alientar também que você efetuou o treinamento desta rede por 15 vezes e apresentou os resultados em termos de média +- desvio padrão. Lembre-se que em uma rede neural há a inicialização aleatória de pesos e, em consequência, o desempenho delas está sujeito à uma flutuação estocástica. A execução destas múltiplas vezes faz com que eliminemos algum viés introduzido por uma boa ou má \"sorte\" na escolha de pesos no caso de uma única execução.\n",
    "\n",
    "Você também aprendeu uma estratégia para escalonar os atributos para uma melhor convergência da rede. Utilize-a em todos os treinamentos e testes propostos a seguir.\n",
    "\n",
    "## Propondo Novas Arquiteturas\n",
    "\n",
    "Variando  os parâmetros (uma ou duas camadas ocultas, com diferente números de neurônios em cada uma delas e a função de ativação) e o hiperparâmetros solver (Adam ou SGD) e o número de épocas (100,150 e 200), atenda ao que se pede:\n",
    "\n",
    "1. Proponha 10 arquiteturas distintas de RNAs para o problema em questão, à sua escolha\n",
    "2. Avalie cada uma das arquiteturas perante todos os hiperparâmetros apresentados por 15 vezes\n",
    "3. Como resultado da avaliação, apresente:  \n",
    "    3.1 Top-3 melhores redes no tocante à F-Score e Acurácia  \n",
    "    3.2 Repetição em que houve o melhor desempenho de cada uma dessas redes: ilustre tp, tf, fp e fn  "
   ]
  },
  {
   "cell_type": "code",
   "metadata": {
    "id": "CmMpCRTdP2re"
   },
   "source": [
    "hidden_layer_sizes_list = [\n",
    "                 (5,),(10,),(15,),\n",
    "                 (5,5),(10,10),(15,15),\n",
    "                 (10,5),(15,5),(15,10),\n",
    "                 (5,10)\n",
    "                 ]\n",
    "#activations = ['relu']"
   ],
   "execution_count": null,
   "outputs": []
  },
  {
   "cell_type": "code",
   "metadata": {
    "id": "FSa8WxnnkNv6"
   },
   "source": [
    "solvers = ['adam', 'sgd']\n",
    "max_iters = [100, 150, 200]"
   ],
   "execution_count": null,
   "outputs": []
  },
  {
   "cell_type": "code",
   "metadata": {
    "id": "KhXfj768i4lw",
    "executionInfo": {
     "status": "ok",
     "timestamp": 1638849983631,
     "user_tz": 240,
     "elapsed": 307,
     "user": {
      "displayName": "José Max Dias Figueira Junior",
      "photoUrl": "https://lh3.googleusercontent.com/a-/AOh14GiUkfqsRDxLzojLYrGgsXG_cTc15Dnqg5KFX8QqCQ=s64",
      "userId": "07239097205257965617"
     }
    }
   },
   "source": [
    "param_keys = ['hidden_layer_sizes', 'activation', 'solver', 'max_iter']"
   ],
   "execution_count": 23,
   "outputs": []
  },
  {
   "cell_type": "code",
   "metadata": {
    "id": "M30HHGYinKLQ"
   },
   "source": [
    "base_params = {'random_state': 1, 'verbose': False}"
   ],
   "execution_count": null,
   "outputs": []
  },
  {
   "cell_type": "code",
   "metadata": {
    "colab": {
     "base_uri": "https://localhost:8080/"
    },
    "id": "TV1ZEfGx6A7l",
    "executionInfo": {
     "status": "ok",
     "timestamp": 1638305809081,
     "user_tz": 240,
     "elapsed": 309,
     "user": {
      "displayName": "José Max Dias Figueira Junior",
      "photoUrl": "https://lh3.googleusercontent.com/a-/AOh14GiUkfqsRDxLzojLYrGgsXG_cTc15Dnqg5KFX8QqCQ=s64",
      "userId": "07239097205257965617"
     }
    },
    "outputId": "84642a8a-ef75-40ad-a6c6-fb01d07eb189"
   },
   "source": [
    "results = []\n",
    "for hidden_layer_sizes in hidden_layer_sizes_list:\n",
    "  params = base_params.copy()\n",
    "  params['hidden_layer_sizes'] = hidden_layer_sizes\n",
    "  params['activation'] = 'relu'\n",
    "  for s in solvers:\n",
    "    params['solver'] = s\n",
    "    for i in max_iters:\n",
    "      params['max_iter'] = i\n",
    "      print(params)\n",
    "      mlp_params_all, acc_mean, acc_std, f1s_mean, f1s_std = evaluate_mlp(X, y, N=N, **params)\n",
    "      summarized_mlp_params = { param_key: mlp_params_all[param_key] for param_key in param_keys }\n",
    "      results.append((summarized_mlp_params.values(), acc_mean, acc_std, f1s_mean, f1s_std))"
   ],
   "execution_count": null,
   "outputs": [
    {
     "output_type": "stream",
     "name": "stdout",
     "text": [
      "{'random_state': 1, 'verbose': False, 'hidden_layer_sizes': (5,), 'activation': 'relu', 'solver': 'adam', 'max_iter': 100}\n",
      "{'random_state': 1, 'verbose': False, 'hidden_layer_sizes': (5,), 'activation': 'relu', 'solver': 'adam', 'max_iter': 150}\n",
      "{'random_state': 1, 'verbose': False, 'hidden_layer_sizes': (5,), 'activation': 'relu', 'solver': 'adam', 'max_iter': 200}\n",
      "{'random_state': 1, 'verbose': False, 'hidden_layer_sizes': (5,), 'activation': 'relu', 'solver': 'sgd', 'max_iter': 100}\n",
      "{'random_state': 1, 'verbose': False, 'hidden_layer_sizes': (5,), 'activation': 'relu', 'solver': 'sgd', 'max_iter': 150}\n",
      "{'random_state': 1, 'verbose': False, 'hidden_layer_sizes': (5,), 'activation': 'relu', 'solver': 'sgd', 'max_iter': 200}\n",
      "{'random_state': 1, 'verbose': False, 'hidden_layer_sizes': (10,), 'activation': 'relu', 'solver': 'adam', 'max_iter': 100}\n",
      "{'random_state': 1, 'verbose': False, 'hidden_layer_sizes': (10,), 'activation': 'relu', 'solver': 'adam', 'max_iter': 150}\n",
      "{'random_state': 1, 'verbose': False, 'hidden_layer_sizes': (10,), 'activation': 'relu', 'solver': 'adam', 'max_iter': 200}\n",
      "{'random_state': 1, 'verbose': False, 'hidden_layer_sizes': (10,), 'activation': 'relu', 'solver': 'sgd', 'max_iter': 100}\n",
      "{'random_state': 1, 'verbose': False, 'hidden_layer_sizes': (10,), 'activation': 'relu', 'solver': 'sgd', 'max_iter': 150}\n",
      "{'random_state': 1, 'verbose': False, 'hidden_layer_sizes': (10,), 'activation': 'relu', 'solver': 'sgd', 'max_iter': 200}\n",
      "{'random_state': 1, 'verbose': False, 'hidden_layer_sizes': (15,), 'activation': 'relu', 'solver': 'adam', 'max_iter': 100}\n",
      "{'random_state': 1, 'verbose': False, 'hidden_layer_sizes': (15,), 'activation': 'relu', 'solver': 'adam', 'max_iter': 150}\n",
      "{'random_state': 1, 'verbose': False, 'hidden_layer_sizes': (15,), 'activation': 'relu', 'solver': 'adam', 'max_iter': 200}\n",
      "{'random_state': 1, 'verbose': False, 'hidden_layer_sizes': (15,), 'activation': 'relu', 'solver': 'sgd', 'max_iter': 100}\n",
      "{'random_state': 1, 'verbose': False, 'hidden_layer_sizes': (15,), 'activation': 'relu', 'solver': 'sgd', 'max_iter': 150}\n",
      "{'random_state': 1, 'verbose': False, 'hidden_layer_sizes': (15,), 'activation': 'relu', 'solver': 'sgd', 'max_iter': 200}\n",
      "{'random_state': 1, 'verbose': False, 'hidden_layer_sizes': (5, 5), 'activation': 'relu', 'solver': 'adam', 'max_iter': 100}\n",
      "{'random_state': 1, 'verbose': False, 'hidden_layer_sizes': (5, 5), 'activation': 'relu', 'solver': 'adam', 'max_iter': 150}\n",
      "{'random_state': 1, 'verbose': False, 'hidden_layer_sizes': (5, 5), 'activation': 'relu', 'solver': 'adam', 'max_iter': 200}\n",
      "{'random_state': 1, 'verbose': False, 'hidden_layer_sizes': (5, 5), 'activation': 'relu', 'solver': 'sgd', 'max_iter': 100}\n",
      "{'random_state': 1, 'verbose': False, 'hidden_layer_sizes': (5, 5), 'activation': 'relu', 'solver': 'sgd', 'max_iter': 150}\n",
      "{'random_state': 1, 'verbose': False, 'hidden_layer_sizes': (5, 5), 'activation': 'relu', 'solver': 'sgd', 'max_iter': 200}\n",
      "{'random_state': 1, 'verbose': False, 'hidden_layer_sizes': (10, 10), 'activation': 'relu', 'solver': 'adam', 'max_iter': 100}\n",
      "{'random_state': 1, 'verbose': False, 'hidden_layer_sizes': (10, 10), 'activation': 'relu', 'solver': 'adam', 'max_iter': 150}\n",
      "{'random_state': 1, 'verbose': False, 'hidden_layer_sizes': (10, 10), 'activation': 'relu', 'solver': 'adam', 'max_iter': 200}\n",
      "{'random_state': 1, 'verbose': False, 'hidden_layer_sizes': (10, 10), 'activation': 'relu', 'solver': 'sgd', 'max_iter': 100}\n",
      "{'random_state': 1, 'verbose': False, 'hidden_layer_sizes': (10, 10), 'activation': 'relu', 'solver': 'sgd', 'max_iter': 150}\n",
      "{'random_state': 1, 'verbose': False, 'hidden_layer_sizes': (10, 10), 'activation': 'relu', 'solver': 'sgd', 'max_iter': 200}\n",
      "{'random_state': 1, 'verbose': False, 'hidden_layer_sizes': (15, 15), 'activation': 'relu', 'solver': 'adam', 'max_iter': 100}\n",
      "{'random_state': 1, 'verbose': False, 'hidden_layer_sizes': (15, 15), 'activation': 'relu', 'solver': 'adam', 'max_iter': 150}\n",
      "{'random_state': 1, 'verbose': False, 'hidden_layer_sizes': (15, 15), 'activation': 'relu', 'solver': 'adam', 'max_iter': 200}\n",
      "{'random_state': 1, 'verbose': False, 'hidden_layer_sizes': (15, 15), 'activation': 'relu', 'solver': 'sgd', 'max_iter': 100}\n",
      "{'random_state': 1, 'verbose': False, 'hidden_layer_sizes': (15, 15), 'activation': 'relu', 'solver': 'sgd', 'max_iter': 150}\n",
      "{'random_state': 1, 'verbose': False, 'hidden_layer_sizes': (15, 15), 'activation': 'relu', 'solver': 'sgd', 'max_iter': 200}\n",
      "{'random_state': 1, 'verbose': False, 'hidden_layer_sizes': (10, 5), 'activation': 'relu', 'solver': 'adam', 'max_iter': 100}\n",
      "{'random_state': 1, 'verbose': False, 'hidden_layer_sizes': (10, 5), 'activation': 'relu', 'solver': 'adam', 'max_iter': 150}\n",
      "{'random_state': 1, 'verbose': False, 'hidden_layer_sizes': (10, 5), 'activation': 'relu', 'solver': 'adam', 'max_iter': 200}\n",
      "{'random_state': 1, 'verbose': False, 'hidden_layer_sizes': (10, 5), 'activation': 'relu', 'solver': 'sgd', 'max_iter': 100}\n",
      "{'random_state': 1, 'verbose': False, 'hidden_layer_sizes': (10, 5), 'activation': 'relu', 'solver': 'sgd', 'max_iter': 150}\n",
      "{'random_state': 1, 'verbose': False, 'hidden_layer_sizes': (10, 5), 'activation': 'relu', 'solver': 'sgd', 'max_iter': 200}\n",
      "{'random_state': 1, 'verbose': False, 'hidden_layer_sizes': (15, 5), 'activation': 'relu', 'solver': 'adam', 'max_iter': 100}\n",
      "{'random_state': 1, 'verbose': False, 'hidden_layer_sizes': (15, 5), 'activation': 'relu', 'solver': 'adam', 'max_iter': 150}\n",
      "{'random_state': 1, 'verbose': False, 'hidden_layer_sizes': (15, 5), 'activation': 'relu', 'solver': 'adam', 'max_iter': 200}\n",
      "{'random_state': 1, 'verbose': False, 'hidden_layer_sizes': (15, 5), 'activation': 'relu', 'solver': 'sgd', 'max_iter': 100}\n",
      "{'random_state': 1, 'verbose': False, 'hidden_layer_sizes': (15, 5), 'activation': 'relu', 'solver': 'sgd', 'max_iter': 150}\n",
      "{'random_state': 1, 'verbose': False, 'hidden_layer_sizes': (15, 5), 'activation': 'relu', 'solver': 'sgd', 'max_iter': 200}\n",
      "{'random_state': 1, 'verbose': False, 'hidden_layer_sizes': (15, 10), 'activation': 'relu', 'solver': 'adam', 'max_iter': 100}\n",
      "{'random_state': 1, 'verbose': False, 'hidden_layer_sizes': (15, 10), 'activation': 'relu', 'solver': 'adam', 'max_iter': 150}\n",
      "{'random_state': 1, 'verbose': False, 'hidden_layer_sizes': (15, 10), 'activation': 'relu', 'solver': 'adam', 'max_iter': 200}\n",
      "{'random_state': 1, 'verbose': False, 'hidden_layer_sizes': (15, 10), 'activation': 'relu', 'solver': 'sgd', 'max_iter': 100}\n",
      "{'random_state': 1, 'verbose': False, 'hidden_layer_sizes': (15, 10), 'activation': 'relu', 'solver': 'sgd', 'max_iter': 150}\n",
      "{'random_state': 1, 'verbose': False, 'hidden_layer_sizes': (15, 10), 'activation': 'relu', 'solver': 'sgd', 'max_iter': 200}\n",
      "{'random_state': 1, 'verbose': False, 'hidden_layer_sizes': (5, 10), 'activation': 'relu', 'solver': 'adam', 'max_iter': 100}\n",
      "{'random_state': 1, 'verbose': False, 'hidden_layer_sizes': (5, 10), 'activation': 'relu', 'solver': 'adam', 'max_iter': 150}\n",
      "{'random_state': 1, 'verbose': False, 'hidden_layer_sizes': (5, 10), 'activation': 'relu', 'solver': 'adam', 'max_iter': 200}\n",
      "{'random_state': 1, 'verbose': False, 'hidden_layer_sizes': (5, 10), 'activation': 'relu', 'solver': 'sgd', 'max_iter': 100}\n",
      "{'random_state': 1, 'verbose': False, 'hidden_layer_sizes': (5, 10), 'activation': 'relu', 'solver': 'sgd', 'max_iter': 150}\n",
      "{'random_state': 1, 'verbose': False, 'hidden_layer_sizes': (5, 10), 'activation': 'relu', 'solver': 'sgd', 'max_iter': 200}\n"
     ]
    }
   ]
  },
  {
   "cell_type": "code",
   "metadata": {
    "colab": {
     "base_uri": "https://localhost:8080/"
    },
    "id": "fQo9Gdb9MK3K",
    "executionInfo": {
     "status": "ok",
     "timestamp": 1638834093490,
     "user_tz": 240,
     "elapsed": 19604388,
     "user": {
      "displayName": "José Max Dias Figueira Junior",
      "photoUrl": "https://lh3.googleusercontent.com/a-/AOh14GiUkfqsRDxLzojLYrGgsXG_cTc15Dnqg5KFX8QqCQ=s64",
      "userId": "07239097205257965617"
     }
    },
    "outputId": "2915a4a6-7c12-47a5-c3eb-7a73a46cf61d"
   },
   "source": [
    "results = []\n",
    "for hidden_layer_sizes in hidden_layer_sizes_list:\n",
    "  params = base_params.copy()\n",
    "  params['hidden_layer_sizes'] = hidden_layer_sizes\n",
    "  params['activation'] = 'relu'\n",
    "  for s in solvers:\n",
    "    params['solver'] = s\n",
    "    for i in max_iters:\n",
    "      params['max_iter'] = i\n",
    "      print(params)\n",
    "      mlp_params_all, acc_mean, acc_std, f1s_mean, f1s_std = evaluate_mlp(X, y, N=N, **params)\n",
    "      summarized_mlp_params = { param_key: mlp_params_all[param_key] for param_key in param_keys }\n",
    "      results.append((summarized_mlp_params.values(), acc_mean, acc_std, f1s_mean, f1s_std))"
   ],
   "execution_count": null,
   "outputs": [
    {
     "output_type": "stream",
     "name": "stdout",
     "text": [
      "{'verbose': False, 'hidden_layer_sizes': (5,), 'activation': 'relu', 'solver': 'adam', 'max_iter': 100}\n"
     ]
    },
    {
     "output_type": "stream",
     "name": "stderr",
     "text": [
      "/usr/local/lib/python3.7/dist-packages/sklearn/neural_network/_multilayer_perceptron.py:696: ConvergenceWarning: Stochastic Optimizer: Maximum iterations (100) reached and the optimization hasn't converged yet.\n",
      "  ConvergenceWarning,\n"
     ]
    },
    {
     "output_type": "stream",
     "name": "stdout",
     "text": [
      "{'verbose': False, 'hidden_layer_sizes': (5,), 'activation': 'relu', 'solver': 'adam', 'max_iter': 150}\n"
     ]
    },
    {
     "output_type": "stream",
     "name": "stderr",
     "text": [
      "/usr/local/lib/python3.7/dist-packages/sklearn/neural_network/_multilayer_perceptron.py:696: ConvergenceWarning: Stochastic Optimizer: Maximum iterations (150) reached and the optimization hasn't converged yet.\n",
      "  ConvergenceWarning,\n"
     ]
    },
    {
     "output_type": "stream",
     "name": "stdout",
     "text": [
      "{'verbose': False, 'hidden_layer_sizes': (5,), 'activation': 'relu', 'solver': 'adam', 'max_iter': 200}\n",
      "{'verbose': False, 'hidden_layer_sizes': (5,), 'activation': 'relu', 'solver': 'sgd', 'max_iter': 100}\n"
     ]
    },
    {
     "output_type": "stream",
     "name": "stderr",
     "text": [
      "/usr/local/lib/python3.7/dist-packages/sklearn/neural_network/_multilayer_perceptron.py:696: ConvergenceWarning: Stochastic Optimizer: Maximum iterations (100) reached and the optimization hasn't converged yet.\n",
      "  ConvergenceWarning,\n",
      "/usr/local/lib/python3.7/dist-packages/sklearn/neural_network/_multilayer_perceptron.py:696: ConvergenceWarning: Stochastic Optimizer: Maximum iterations (100) reached and the optimization hasn't converged yet.\n",
      "  ConvergenceWarning,\n",
      "/usr/local/lib/python3.7/dist-packages/sklearn/neural_network/_multilayer_perceptron.py:696: ConvergenceWarning: Stochastic Optimizer: Maximum iterations (100) reached and the optimization hasn't converged yet.\n",
      "  ConvergenceWarning,\n",
      "/usr/local/lib/python3.7/dist-packages/sklearn/neural_network/_multilayer_perceptron.py:696: ConvergenceWarning: Stochastic Optimizer: Maximum iterations (100) reached and the optimization hasn't converged yet.\n",
      "  ConvergenceWarning,\n",
      "/usr/local/lib/python3.7/dist-packages/sklearn/neural_network/_multilayer_perceptron.py:696: ConvergenceWarning: Stochastic Optimizer: Maximum iterations (100) reached and the optimization hasn't converged yet.\n",
      "  ConvergenceWarning,\n",
      "/usr/local/lib/python3.7/dist-packages/sklearn/neural_network/_multilayer_perceptron.py:696: ConvergenceWarning: Stochastic Optimizer: Maximum iterations (100) reached and the optimization hasn't converged yet.\n",
      "  ConvergenceWarning,\n",
      "/usr/local/lib/python3.7/dist-packages/sklearn/neural_network/_multilayer_perceptron.py:696: ConvergenceWarning: Stochastic Optimizer: Maximum iterations (100) reached and the optimization hasn't converged yet.\n",
      "  ConvergenceWarning,\n",
      "/usr/local/lib/python3.7/dist-packages/sklearn/neural_network/_multilayer_perceptron.py:696: ConvergenceWarning: Stochastic Optimizer: Maximum iterations (100) reached and the optimization hasn't converged yet.\n",
      "  ConvergenceWarning,\n",
      "/usr/local/lib/python3.7/dist-packages/sklearn/neural_network/_multilayer_perceptron.py:696: ConvergenceWarning: Stochastic Optimizer: Maximum iterations (100) reached and the optimization hasn't converged yet.\n",
      "  ConvergenceWarning,\n",
      "/usr/local/lib/python3.7/dist-packages/sklearn/neural_network/_multilayer_perceptron.py:696: ConvergenceWarning: Stochastic Optimizer: Maximum iterations (100) reached and the optimization hasn't converged yet.\n",
      "  ConvergenceWarning,\n",
      "/usr/local/lib/python3.7/dist-packages/sklearn/neural_network/_multilayer_perceptron.py:696: ConvergenceWarning: Stochastic Optimizer: Maximum iterations (100) reached and the optimization hasn't converged yet.\n",
      "  ConvergenceWarning,\n"
     ]
    },
    {
     "output_type": "stream",
     "name": "stdout",
     "text": [
      "{'verbose': False, 'hidden_layer_sizes': (5,), 'activation': 'relu', 'solver': 'sgd', 'max_iter': 150}\n",
      "{'verbose': False, 'hidden_layer_sizes': (5,), 'activation': 'relu', 'solver': 'sgd', 'max_iter': 200}\n",
      "{'verbose': False, 'hidden_layer_sizes': (5, 5), 'activation': 'relu', 'solver': 'adam', 'max_iter': 100}\n"
     ]
    },
    {
     "output_type": "stream",
     "name": "stderr",
     "text": [
      "/usr/local/lib/python3.7/dist-packages/sklearn/neural_network/_multilayer_perceptron.py:696: ConvergenceWarning: Stochastic Optimizer: Maximum iterations (100) reached and the optimization hasn't converged yet.\n",
      "  ConvergenceWarning,\n",
      "/usr/local/lib/python3.7/dist-packages/sklearn/neural_network/_multilayer_perceptron.py:696: ConvergenceWarning: Stochastic Optimizer: Maximum iterations (100) reached and the optimization hasn't converged yet.\n",
      "  ConvergenceWarning,\n",
      "/usr/local/lib/python3.7/dist-packages/sklearn/neural_network/_multilayer_perceptron.py:696: ConvergenceWarning: Stochastic Optimizer: Maximum iterations (100) reached and the optimization hasn't converged yet.\n",
      "  ConvergenceWarning,\n",
      "/usr/local/lib/python3.7/dist-packages/sklearn/neural_network/_multilayer_perceptron.py:696: ConvergenceWarning: Stochastic Optimizer: Maximum iterations (100) reached and the optimization hasn't converged yet.\n",
      "  ConvergenceWarning,\n",
      "/usr/local/lib/python3.7/dist-packages/sklearn/neural_network/_multilayer_perceptron.py:696: ConvergenceWarning: Stochastic Optimizer: Maximum iterations (100) reached and the optimization hasn't converged yet.\n",
      "  ConvergenceWarning,\n",
      "/usr/local/lib/python3.7/dist-packages/sklearn/neural_network/_multilayer_perceptron.py:696: ConvergenceWarning: Stochastic Optimizer: Maximum iterations (100) reached and the optimization hasn't converged yet.\n",
      "  ConvergenceWarning,\n",
      "/usr/local/lib/python3.7/dist-packages/sklearn/neural_network/_multilayer_perceptron.py:696: ConvergenceWarning: Stochastic Optimizer: Maximum iterations (100) reached and the optimization hasn't converged yet.\n",
      "  ConvergenceWarning,\n"
     ]
    },
    {
     "output_type": "stream",
     "name": "stdout",
     "text": [
      "{'verbose': False, 'hidden_layer_sizes': (5, 5), 'activation': 'relu', 'solver': 'adam', 'max_iter': 150}\n"
     ]
    },
    {
     "output_type": "stream",
     "name": "stderr",
     "text": [
      "/usr/local/lib/python3.7/dist-packages/sklearn/neural_network/_multilayer_perceptron.py:696: ConvergenceWarning: Stochastic Optimizer: Maximum iterations (150) reached and the optimization hasn't converged yet.\n",
      "  ConvergenceWarning,\n",
      "/usr/local/lib/python3.7/dist-packages/sklearn/neural_network/_multilayer_perceptron.py:696: ConvergenceWarning: Stochastic Optimizer: Maximum iterations (150) reached and the optimization hasn't converged yet.\n",
      "  ConvergenceWarning,\n"
     ]
    },
    {
     "output_type": "stream",
     "name": "stdout",
     "text": [
      "{'verbose': False, 'hidden_layer_sizes': (5, 5), 'activation': 'relu', 'solver': 'adam', 'max_iter': 200}\n"
     ]
    },
    {
     "output_type": "stream",
     "name": "stderr",
     "text": [
      "/usr/local/lib/python3.7/dist-packages/sklearn/neural_network/_multilayer_perceptron.py:696: ConvergenceWarning: Stochastic Optimizer: Maximum iterations (200) reached and the optimization hasn't converged yet.\n",
      "  ConvergenceWarning,\n"
     ]
    },
    {
     "output_type": "stream",
     "name": "stdout",
     "text": [
      "{'verbose': False, 'hidden_layer_sizes': (5, 5), 'activation': 'relu', 'solver': 'sgd', 'max_iter': 100}\n"
     ]
    },
    {
     "output_type": "stream",
     "name": "stderr",
     "text": [
      "/usr/local/lib/python3.7/dist-packages/sklearn/neural_network/_multilayer_perceptron.py:696: ConvergenceWarning: Stochastic Optimizer: Maximum iterations (100) reached and the optimization hasn't converged yet.\n",
      "  ConvergenceWarning,\n",
      "/usr/local/lib/python3.7/dist-packages/sklearn/neural_network/_multilayer_perceptron.py:696: ConvergenceWarning: Stochastic Optimizer: Maximum iterations (100) reached and the optimization hasn't converged yet.\n",
      "  ConvergenceWarning,\n",
      "/usr/local/lib/python3.7/dist-packages/sklearn/neural_network/_multilayer_perceptron.py:696: ConvergenceWarning: Stochastic Optimizer: Maximum iterations (100) reached and the optimization hasn't converged yet.\n",
      "  ConvergenceWarning,\n",
      "/usr/local/lib/python3.7/dist-packages/sklearn/neural_network/_multilayer_perceptron.py:696: ConvergenceWarning: Stochastic Optimizer: Maximum iterations (100) reached and the optimization hasn't converged yet.\n",
      "  ConvergenceWarning,\n",
      "/usr/local/lib/python3.7/dist-packages/sklearn/neural_network/_multilayer_perceptron.py:696: ConvergenceWarning: Stochastic Optimizer: Maximum iterations (100) reached and the optimization hasn't converged yet.\n",
      "  ConvergenceWarning,\n",
      "/usr/local/lib/python3.7/dist-packages/sklearn/neural_network/_multilayer_perceptron.py:696: ConvergenceWarning: Stochastic Optimizer: Maximum iterations (100) reached and the optimization hasn't converged yet.\n",
      "  ConvergenceWarning,\n",
      "/usr/local/lib/python3.7/dist-packages/sklearn/neural_network/_multilayer_perceptron.py:696: ConvergenceWarning: Stochastic Optimizer: Maximum iterations (100) reached and the optimization hasn't converged yet.\n",
      "  ConvergenceWarning,\n",
      "/usr/local/lib/python3.7/dist-packages/sklearn/neural_network/_multilayer_perceptron.py:696: ConvergenceWarning: Stochastic Optimizer: Maximum iterations (100) reached and the optimization hasn't converged yet.\n",
      "  ConvergenceWarning,\n",
      "/usr/local/lib/python3.7/dist-packages/sklearn/neural_network/_multilayer_perceptron.py:696: ConvergenceWarning: Stochastic Optimizer: Maximum iterations (100) reached and the optimization hasn't converged yet.\n",
      "  ConvergenceWarning,\n",
      "/usr/local/lib/python3.7/dist-packages/sklearn/neural_network/_multilayer_perceptron.py:696: ConvergenceWarning: Stochastic Optimizer: Maximum iterations (100) reached and the optimization hasn't converged yet.\n",
      "  ConvergenceWarning,\n",
      "/usr/local/lib/python3.7/dist-packages/sklearn/neural_network/_multilayer_perceptron.py:696: ConvergenceWarning: Stochastic Optimizer: Maximum iterations (100) reached and the optimization hasn't converged yet.\n",
      "  ConvergenceWarning,\n"
     ]
    },
    {
     "output_type": "stream",
     "name": "stdout",
     "text": [
      "{'verbose': False, 'hidden_layer_sizes': (5, 5), 'activation': 'relu', 'solver': 'sgd', 'max_iter': 150}\n"
     ]
    },
    {
     "output_type": "stream",
     "name": "stderr",
     "text": [
      "/usr/local/lib/python3.7/dist-packages/sklearn/neural_network/_multilayer_perceptron.py:696: ConvergenceWarning: Stochastic Optimizer: Maximum iterations (150) reached and the optimization hasn't converged yet.\n",
      "  ConvergenceWarning,\n",
      "/usr/local/lib/python3.7/dist-packages/sklearn/neural_network/_multilayer_perceptron.py:696: ConvergenceWarning: Stochastic Optimizer: Maximum iterations (150) reached and the optimization hasn't converged yet.\n",
      "  ConvergenceWarning,\n",
      "/usr/local/lib/python3.7/dist-packages/sklearn/neural_network/_multilayer_perceptron.py:696: ConvergenceWarning: Stochastic Optimizer: Maximum iterations (150) reached and the optimization hasn't converged yet.\n",
      "  ConvergenceWarning,\n",
      "/usr/local/lib/python3.7/dist-packages/sklearn/neural_network/_multilayer_perceptron.py:696: ConvergenceWarning: Stochastic Optimizer: Maximum iterations (150) reached and the optimization hasn't converged yet.\n",
      "  ConvergenceWarning,\n",
      "/usr/local/lib/python3.7/dist-packages/sklearn/neural_network/_multilayer_perceptron.py:696: ConvergenceWarning: Stochastic Optimizer: Maximum iterations (150) reached and the optimization hasn't converged yet.\n",
      "  ConvergenceWarning,\n"
     ]
    },
    {
     "output_type": "stream",
     "name": "stdout",
     "text": [
      "{'verbose': False, 'hidden_layer_sizes': (5, 5), 'activation': 'relu', 'solver': 'sgd', 'max_iter': 200}\n"
     ]
    },
    {
     "output_type": "stream",
     "name": "stderr",
     "text": [
      "/usr/local/lib/python3.7/dist-packages/sklearn/neural_network/_multilayer_perceptron.py:696: ConvergenceWarning: Stochastic Optimizer: Maximum iterations (200) reached and the optimization hasn't converged yet.\n",
      "  ConvergenceWarning,\n",
      "/usr/local/lib/python3.7/dist-packages/sklearn/neural_network/_multilayer_perceptron.py:696: ConvergenceWarning: Stochastic Optimizer: Maximum iterations (200) reached and the optimization hasn't converged yet.\n",
      "  ConvergenceWarning,\n"
     ]
    }
   ]
  },
  {
   "cell_type": "code",
   "metadata": {
    "colab": {
     "base_uri": "https://localhost:8080/"
    },
    "id": "Y482NSSnMK3i",
    "executionInfo": {
     "status": "ok",
     "timestamp": 1638834093491,
     "user_tz": 240,
     "elapsed": 25,
     "user": {
      "displayName": "José Max Dias Figueira Junior",
      "photoUrl": "https://lh3.googleusercontent.com/a-/AOh14GiUkfqsRDxLzojLYrGgsXG_cTc15Dnqg5KFX8QqCQ=s64",
      "userId": "07239097205257965617"
     }
    },
    "outputId": "ee392cc3-6c3b-42ae-afe8-ea7bb6376a3c"
   },
   "source": [
    "results"
   ],
   "execution_count": null,
   "outputs": [
    {
     "output_type": "execute_result",
     "data": {
      "text/plain": [
       "[(dict_values([(5,), 'relu', 'adam', 100]),\n",
       "  0.705469371519491,\n",
       "  0.0029458928874302346,\n",
       "  0.4423940752159232,\n",
       "  0.02858402334355593),\n",
       " (dict_values([(5,), 'relu', 'adam', 150]),\n",
       "  0.705310262529833,\n",
       "  0.002192551135854261,\n",
       "  0.4271710415538204,\n",
       "  0.027799313779843536),\n",
       " (dict_values([(5,), 'relu', 'adam', 200]),\n",
       "  0.7054039685453765,\n",
       "  0.0032771629052610572,\n",
       "  0.43987025739646035,\n",
       "  0.028246519546912437),\n",
       " (dict_values([(5,), 'relu', 'sgd', 100]),\n",
       "  0.7047208708157394,\n",
       "  0.0025656708307387533,\n",
       "  0.41310171401673074,\n",
       "  0.02014957843483062),\n",
       " (dict_values([(5,), 'relu', 'sgd', 150]),\n",
       "  0.7045212196316016,\n",
       "  0.002263198894897379,\n",
       "  0.4193097129996595,\n",
       "  0.017476857228634013),\n",
       " (dict_values([(5,), 'relu', 'sgd', 200]),\n",
       "  0.7044156569365401,\n",
       "  0.0028072154524445836,\n",
       "  0.42125158481482405,\n",
       "  0.016277679264441146),\n",
       " (dict_values([(5, 5), 'relu', 'adam', 100]),\n",
       "  0.7119515329539198,\n",
       "  0.0037650219391031003,\n",
       "  0.442961611110956,\n",
       "  0.021578488859072195),\n",
       " (dict_values([(5, 5), 'relu', 'adam', 150]),\n",
       "  0.7103657976868001,\n",
       "  0.00388272098035125,\n",
       "  0.452841347403888,\n",
       "  0.03795649413140989),\n",
       " (dict_values([(5, 5), 'relu', 'adam', 200]),\n",
       "  0.7102583226240743,\n",
       "  0.0041037889061818185,\n",
       "  0.4489880381085712,\n",
       "  0.02797785631004338),\n",
       " (dict_values([(5, 5), 'relu', 'sgd', 100]),\n",
       "  0.7090481763661955,\n",
       "  0.004412073897306191,\n",
       "  0.4107543189619765,\n",
       "  0.02377126199433356),\n",
       " (dict_values([(5, 5), 'relu', 'sgd', 150]),\n",
       "  0.7088362860290067,\n",
       "  0.0032803983667225685,\n",
       "  0.4172790770980545,\n",
       "  0.020545455269463223),\n",
       " (dict_values([(5, 5), 'relu', 'sgd', 200]),\n",
       "  0.7089877455480081,\n",
       "  0.00365294990954477,\n",
       "  0.4165336644695475,\n",
       "  0.019927013066685657)]"
      ]
     },
     "metadata": {},
     "execution_count": 15
    }
   ]
  },
  {
   "cell_type": "code",
   "metadata": {
    "id": "Idpjh5J1MK3j"
   },
   "source": [
    "#5h26m"
   ],
   "execution_count": null,
   "outputs": []
  },
  {
   "cell_type": "code",
   "metadata": {
    "colab": {
     "base_uri": "https://localhost:8080/"
    },
    "id": "vLgamfCTmgI-",
    "executionInfo": {
     "status": "ok",
     "timestamp": 1638839705890,
     "user_tz": 240,
     "elapsed": 25151282,
     "user": {
      "displayName": "José Max Dias Figueira Junior",
      "photoUrl": "https://lh3.googleusercontent.com/a-/AOh14GiUkfqsRDxLzojLYrGgsXG_cTc15Dnqg5KFX8QqCQ=s64",
      "userId": "07239097205257965617"
     }
    },
    "outputId": "b9f3437f-59e8-4e09-9310-c3d55ce34767"
   },
   "source": [
    "results = []\n",
    "for hidden_layer_sizes in hidden_layer_sizes_list:\n",
    "  params = base_params.copy()\n",
    "  params['hidden_layer_sizes'] = hidden_layer_sizes\n",
    "  params['activation'] = 'relu'\n",
    "  for s in solvers:\n",
    "    params['solver'] = s\n",
    "    for i in max_iters:\n",
    "      params['max_iter'] = i\n",
    "      print(params)\n",
    "      mlp_params_all, acc_mean, acc_std, f1s_mean, f1s_std = evaluate_mlp(X, y, N=N, **params)\n",
    "      summarized_mlp_params = { param_key: mlp_params_all[param_key] for param_key in param_keys }\n",
    "      results.append((summarized_mlp_params.values(), acc_mean, acc_std, f1s_mean, f1s_std))"
   ],
   "execution_count": null,
   "outputs": [
    {
     "output_type": "stream",
     "name": "stdout",
     "text": [
      "{'verbose': False, 'hidden_layer_sizes': (10,), 'activation': 'relu', 'solver': 'adam', 'max_iter': 100}\n"
     ]
    },
    {
     "output_type": "stream",
     "name": "stderr",
     "text": [
      "/usr/local/lib/python3.7/dist-packages/sklearn/neural_network/_multilayer_perceptron.py:696: ConvergenceWarning: Stochastic Optimizer: Maximum iterations (100) reached and the optimization hasn't converged yet.\n",
      "  ConvergenceWarning,\n",
      "/usr/local/lib/python3.7/dist-packages/sklearn/neural_network/_multilayer_perceptron.py:696: ConvergenceWarning: Stochastic Optimizer: Maximum iterations (100) reached and the optimization hasn't converged yet.\n",
      "  ConvergenceWarning,\n"
     ]
    },
    {
     "output_type": "stream",
     "name": "stdout",
     "text": [
      "{'verbose': False, 'hidden_layer_sizes': (10,), 'activation': 'relu', 'solver': 'adam', 'max_iter': 150}\n",
      "{'verbose': False, 'hidden_layer_sizes': (10,), 'activation': 'relu', 'solver': 'adam', 'max_iter': 200}\n",
      "{'verbose': False, 'hidden_layer_sizes': (10,), 'activation': 'relu', 'solver': 'sgd', 'max_iter': 100}\n"
     ]
    },
    {
     "output_type": "stream",
     "name": "stderr",
     "text": [
      "/usr/local/lib/python3.7/dist-packages/sklearn/neural_network/_multilayer_perceptron.py:696: ConvergenceWarning: Stochastic Optimizer: Maximum iterations (100) reached and the optimization hasn't converged yet.\n",
      "  ConvergenceWarning,\n",
      "/usr/local/lib/python3.7/dist-packages/sklearn/neural_network/_multilayer_perceptron.py:696: ConvergenceWarning: Stochastic Optimizer: Maximum iterations (100) reached and the optimization hasn't converged yet.\n",
      "  ConvergenceWarning,\n",
      "/usr/local/lib/python3.7/dist-packages/sklearn/neural_network/_multilayer_perceptron.py:696: ConvergenceWarning: Stochastic Optimizer: Maximum iterations (100) reached and the optimization hasn't converged yet.\n",
      "  ConvergenceWarning,\n",
      "/usr/local/lib/python3.7/dist-packages/sklearn/neural_network/_multilayer_perceptron.py:696: ConvergenceWarning: Stochastic Optimizer: Maximum iterations (100) reached and the optimization hasn't converged yet.\n",
      "  ConvergenceWarning,\n",
      "/usr/local/lib/python3.7/dist-packages/sklearn/neural_network/_multilayer_perceptron.py:696: ConvergenceWarning: Stochastic Optimizer: Maximum iterations (100) reached and the optimization hasn't converged yet.\n",
      "  ConvergenceWarning,\n",
      "/usr/local/lib/python3.7/dist-packages/sklearn/neural_network/_multilayer_perceptron.py:696: ConvergenceWarning: Stochastic Optimizer: Maximum iterations (100) reached and the optimization hasn't converged yet.\n",
      "  ConvergenceWarning,\n",
      "/usr/local/lib/python3.7/dist-packages/sklearn/neural_network/_multilayer_perceptron.py:696: ConvergenceWarning: Stochastic Optimizer: Maximum iterations (100) reached and the optimization hasn't converged yet.\n",
      "  ConvergenceWarning,\n",
      "/usr/local/lib/python3.7/dist-packages/sklearn/neural_network/_multilayer_perceptron.py:696: ConvergenceWarning: Stochastic Optimizer: Maximum iterations (100) reached and the optimization hasn't converged yet.\n",
      "  ConvergenceWarning,\n",
      "/usr/local/lib/python3.7/dist-packages/sklearn/neural_network/_multilayer_perceptron.py:696: ConvergenceWarning: Stochastic Optimizer: Maximum iterations (100) reached and the optimization hasn't converged yet.\n",
      "  ConvergenceWarning,\n",
      "/usr/local/lib/python3.7/dist-packages/sklearn/neural_network/_multilayer_perceptron.py:696: ConvergenceWarning: Stochastic Optimizer: Maximum iterations (100) reached and the optimization hasn't converged yet.\n",
      "  ConvergenceWarning,\n",
      "/usr/local/lib/python3.7/dist-packages/sklearn/neural_network/_multilayer_perceptron.py:696: ConvergenceWarning: Stochastic Optimizer: Maximum iterations (100) reached and the optimization hasn't converged yet.\n",
      "  ConvergenceWarning,\n",
      "/usr/local/lib/python3.7/dist-packages/sklearn/neural_network/_multilayer_perceptron.py:696: ConvergenceWarning: Stochastic Optimizer: Maximum iterations (100) reached and the optimization hasn't converged yet.\n",
      "  ConvergenceWarning,\n",
      "/usr/local/lib/python3.7/dist-packages/sklearn/neural_network/_multilayer_perceptron.py:696: ConvergenceWarning: Stochastic Optimizer: Maximum iterations (100) reached and the optimization hasn't converged yet.\n",
      "  ConvergenceWarning,\n"
     ]
    },
    {
     "output_type": "stream",
     "name": "stdout",
     "text": [
      "{'verbose': False, 'hidden_layer_sizes': (10,), 'activation': 'relu', 'solver': 'sgd', 'max_iter': 150}\n"
     ]
    },
    {
     "output_type": "stream",
     "name": "stderr",
     "text": [
      "/usr/local/lib/python3.7/dist-packages/sklearn/neural_network/_multilayer_perceptron.py:696: ConvergenceWarning: Stochastic Optimizer: Maximum iterations (150) reached and the optimization hasn't converged yet.\n",
      "  ConvergenceWarning,\n",
      "/usr/local/lib/python3.7/dist-packages/sklearn/neural_network/_multilayer_perceptron.py:696: ConvergenceWarning: Stochastic Optimizer: Maximum iterations (150) reached and the optimization hasn't converged yet.\n",
      "  ConvergenceWarning,\n",
      "/usr/local/lib/python3.7/dist-packages/sklearn/neural_network/_multilayer_perceptron.py:696: ConvergenceWarning: Stochastic Optimizer: Maximum iterations (150) reached and the optimization hasn't converged yet.\n",
      "  ConvergenceWarning,\n"
     ]
    },
    {
     "output_type": "stream",
     "name": "stdout",
     "text": [
      "{'verbose': False, 'hidden_layer_sizes': (10,), 'activation': 'relu', 'solver': 'sgd', 'max_iter': 200}\n",
      "{'verbose': False, 'hidden_layer_sizes': (10, 10), 'activation': 'relu', 'solver': 'adam', 'max_iter': 100}\n"
     ]
    },
    {
     "output_type": "stream",
     "name": "stderr",
     "text": [
      "/usr/local/lib/python3.7/dist-packages/sklearn/neural_network/_multilayer_perceptron.py:696: ConvergenceWarning: Stochastic Optimizer: Maximum iterations (100) reached and the optimization hasn't converged yet.\n",
      "  ConvergenceWarning,\n",
      "/usr/local/lib/python3.7/dist-packages/sklearn/neural_network/_multilayer_perceptron.py:696: ConvergenceWarning: Stochastic Optimizer: Maximum iterations (100) reached and the optimization hasn't converged yet.\n",
      "  ConvergenceWarning,\n",
      "/usr/local/lib/python3.7/dist-packages/sklearn/neural_network/_multilayer_perceptron.py:696: ConvergenceWarning: Stochastic Optimizer: Maximum iterations (100) reached and the optimization hasn't converged yet.\n",
      "  ConvergenceWarning,\n",
      "/usr/local/lib/python3.7/dist-packages/sklearn/neural_network/_multilayer_perceptron.py:696: ConvergenceWarning: Stochastic Optimizer: Maximum iterations (100) reached and the optimization hasn't converged yet.\n",
      "  ConvergenceWarning,\n",
      "/usr/local/lib/python3.7/dist-packages/sklearn/neural_network/_multilayer_perceptron.py:696: ConvergenceWarning: Stochastic Optimizer: Maximum iterations (100) reached and the optimization hasn't converged yet.\n",
      "  ConvergenceWarning,\n",
      "/usr/local/lib/python3.7/dist-packages/sklearn/neural_network/_multilayer_perceptron.py:696: ConvergenceWarning: Stochastic Optimizer: Maximum iterations (100) reached and the optimization hasn't converged yet.\n",
      "  ConvergenceWarning,\n",
      "/usr/local/lib/python3.7/dist-packages/sklearn/neural_network/_multilayer_perceptron.py:696: ConvergenceWarning: Stochastic Optimizer: Maximum iterations (100) reached and the optimization hasn't converged yet.\n",
      "  ConvergenceWarning,\n",
      "/usr/local/lib/python3.7/dist-packages/sklearn/neural_network/_multilayer_perceptron.py:696: ConvergenceWarning: Stochastic Optimizer: Maximum iterations (100) reached and the optimization hasn't converged yet.\n",
      "  ConvergenceWarning,\n",
      "/usr/local/lib/python3.7/dist-packages/sklearn/neural_network/_multilayer_perceptron.py:696: ConvergenceWarning: Stochastic Optimizer: Maximum iterations (100) reached and the optimization hasn't converged yet.\n",
      "  ConvergenceWarning,\n",
      "/usr/local/lib/python3.7/dist-packages/sklearn/neural_network/_multilayer_perceptron.py:696: ConvergenceWarning: Stochastic Optimizer: Maximum iterations (100) reached and the optimization hasn't converged yet.\n",
      "  ConvergenceWarning,\n",
      "/usr/local/lib/python3.7/dist-packages/sklearn/neural_network/_multilayer_perceptron.py:696: ConvergenceWarning: Stochastic Optimizer: Maximum iterations (100) reached and the optimization hasn't converged yet.\n",
      "  ConvergenceWarning,\n",
      "/usr/local/lib/python3.7/dist-packages/sklearn/neural_network/_multilayer_perceptron.py:696: ConvergenceWarning: Stochastic Optimizer: Maximum iterations (100) reached and the optimization hasn't converged yet.\n",
      "  ConvergenceWarning,\n",
      "/usr/local/lib/python3.7/dist-packages/sklearn/neural_network/_multilayer_perceptron.py:696: ConvergenceWarning: Stochastic Optimizer: Maximum iterations (100) reached and the optimization hasn't converged yet.\n",
      "  ConvergenceWarning,\n",
      "/usr/local/lib/python3.7/dist-packages/sklearn/neural_network/_multilayer_perceptron.py:696: ConvergenceWarning: Stochastic Optimizer: Maximum iterations (100) reached and the optimization hasn't converged yet.\n",
      "  ConvergenceWarning,\n",
      "/usr/local/lib/python3.7/dist-packages/sklearn/neural_network/_multilayer_perceptron.py:696: ConvergenceWarning: Stochastic Optimizer: Maximum iterations (100) reached and the optimization hasn't converged yet.\n",
      "  ConvergenceWarning,\n"
     ]
    },
    {
     "output_type": "stream",
     "name": "stdout",
     "text": [
      "{'verbose': False, 'hidden_layer_sizes': (10, 10), 'activation': 'relu', 'solver': 'adam', 'max_iter': 150}\n"
     ]
    },
    {
     "output_type": "stream",
     "name": "stderr",
     "text": [
      "/usr/local/lib/python3.7/dist-packages/sklearn/neural_network/_multilayer_perceptron.py:696: ConvergenceWarning: Stochastic Optimizer: Maximum iterations (150) reached and the optimization hasn't converged yet.\n",
      "  ConvergenceWarning,\n",
      "/usr/local/lib/python3.7/dist-packages/sklearn/neural_network/_multilayer_perceptron.py:696: ConvergenceWarning: Stochastic Optimizer: Maximum iterations (150) reached and the optimization hasn't converged yet.\n",
      "  ConvergenceWarning,\n",
      "/usr/local/lib/python3.7/dist-packages/sklearn/neural_network/_multilayer_perceptron.py:696: ConvergenceWarning: Stochastic Optimizer: Maximum iterations (150) reached and the optimization hasn't converged yet.\n",
      "  ConvergenceWarning,\n",
      "/usr/local/lib/python3.7/dist-packages/sklearn/neural_network/_multilayer_perceptron.py:696: ConvergenceWarning: Stochastic Optimizer: Maximum iterations (150) reached and the optimization hasn't converged yet.\n",
      "  ConvergenceWarning,\n",
      "/usr/local/lib/python3.7/dist-packages/sklearn/neural_network/_multilayer_perceptron.py:696: ConvergenceWarning: Stochastic Optimizer: Maximum iterations (150) reached and the optimization hasn't converged yet.\n",
      "  ConvergenceWarning,\n",
      "/usr/local/lib/python3.7/dist-packages/sklearn/neural_network/_multilayer_perceptron.py:696: ConvergenceWarning: Stochastic Optimizer: Maximum iterations (150) reached and the optimization hasn't converged yet.\n",
      "  ConvergenceWarning,\n",
      "/usr/local/lib/python3.7/dist-packages/sklearn/neural_network/_multilayer_perceptron.py:696: ConvergenceWarning: Stochastic Optimizer: Maximum iterations (150) reached and the optimization hasn't converged yet.\n",
      "  ConvergenceWarning,\n",
      "/usr/local/lib/python3.7/dist-packages/sklearn/neural_network/_multilayer_perceptron.py:696: ConvergenceWarning: Stochastic Optimizer: Maximum iterations (150) reached and the optimization hasn't converged yet.\n",
      "  ConvergenceWarning,\n",
      "/usr/local/lib/python3.7/dist-packages/sklearn/neural_network/_multilayer_perceptron.py:696: ConvergenceWarning: Stochastic Optimizer: Maximum iterations (150) reached and the optimization hasn't converged yet.\n",
      "  ConvergenceWarning,\n",
      "/usr/local/lib/python3.7/dist-packages/sklearn/neural_network/_multilayer_perceptron.py:696: ConvergenceWarning: Stochastic Optimizer: Maximum iterations (150) reached and the optimization hasn't converged yet.\n",
      "  ConvergenceWarning,\n",
      "/usr/local/lib/python3.7/dist-packages/sklearn/neural_network/_multilayer_perceptron.py:696: ConvergenceWarning: Stochastic Optimizer: Maximum iterations (150) reached and the optimization hasn't converged yet.\n",
      "  ConvergenceWarning,\n"
     ]
    },
    {
     "output_type": "stream",
     "name": "stdout",
     "text": [
      "{'verbose': False, 'hidden_layer_sizes': (10, 10), 'activation': 'relu', 'solver': 'adam', 'max_iter': 200}\n"
     ]
    },
    {
     "output_type": "stream",
     "name": "stderr",
     "text": [
      "/usr/local/lib/python3.7/dist-packages/sklearn/neural_network/_multilayer_perceptron.py:696: ConvergenceWarning: Stochastic Optimizer: Maximum iterations (200) reached and the optimization hasn't converged yet.\n",
      "  ConvergenceWarning,\n",
      "/usr/local/lib/python3.7/dist-packages/sklearn/neural_network/_multilayer_perceptron.py:696: ConvergenceWarning: Stochastic Optimizer: Maximum iterations (200) reached and the optimization hasn't converged yet.\n",
      "  ConvergenceWarning,\n",
      "/usr/local/lib/python3.7/dist-packages/sklearn/neural_network/_multilayer_perceptron.py:696: ConvergenceWarning: Stochastic Optimizer: Maximum iterations (200) reached and the optimization hasn't converged yet.\n",
      "  ConvergenceWarning,\n",
      "/usr/local/lib/python3.7/dist-packages/sklearn/neural_network/_multilayer_perceptron.py:696: ConvergenceWarning: Stochastic Optimizer: Maximum iterations (200) reached and the optimization hasn't converged yet.\n",
      "  ConvergenceWarning,\n",
      "/usr/local/lib/python3.7/dist-packages/sklearn/neural_network/_multilayer_perceptron.py:696: ConvergenceWarning: Stochastic Optimizer: Maximum iterations (200) reached and the optimization hasn't converged yet.\n",
      "  ConvergenceWarning,\n",
      "/usr/local/lib/python3.7/dist-packages/sklearn/neural_network/_multilayer_perceptron.py:696: ConvergenceWarning: Stochastic Optimizer: Maximum iterations (200) reached and the optimization hasn't converged yet.\n",
      "  ConvergenceWarning,\n"
     ]
    },
    {
     "output_type": "stream",
     "name": "stdout",
     "text": [
      "{'verbose': False, 'hidden_layer_sizes': (10, 10), 'activation': 'relu', 'solver': 'sgd', 'max_iter': 100}\n"
     ]
    },
    {
     "output_type": "stream",
     "name": "stderr",
     "text": [
      "/usr/local/lib/python3.7/dist-packages/sklearn/neural_network/_multilayer_perceptron.py:696: ConvergenceWarning: Stochastic Optimizer: Maximum iterations (100) reached and the optimization hasn't converged yet.\n",
      "  ConvergenceWarning,\n",
      "/usr/local/lib/python3.7/dist-packages/sklearn/neural_network/_multilayer_perceptron.py:696: ConvergenceWarning: Stochastic Optimizer: Maximum iterations (100) reached and the optimization hasn't converged yet.\n",
      "  ConvergenceWarning,\n",
      "/usr/local/lib/python3.7/dist-packages/sklearn/neural_network/_multilayer_perceptron.py:696: ConvergenceWarning: Stochastic Optimizer: Maximum iterations (100) reached and the optimization hasn't converged yet.\n",
      "  ConvergenceWarning,\n",
      "/usr/local/lib/python3.7/dist-packages/sklearn/neural_network/_multilayer_perceptron.py:696: ConvergenceWarning: Stochastic Optimizer: Maximum iterations (100) reached and the optimization hasn't converged yet.\n",
      "  ConvergenceWarning,\n",
      "/usr/local/lib/python3.7/dist-packages/sklearn/neural_network/_multilayer_perceptron.py:696: ConvergenceWarning: Stochastic Optimizer: Maximum iterations (100) reached and the optimization hasn't converged yet.\n",
      "  ConvergenceWarning,\n",
      "/usr/local/lib/python3.7/dist-packages/sklearn/neural_network/_multilayer_perceptron.py:696: ConvergenceWarning: Stochastic Optimizer: Maximum iterations (100) reached and the optimization hasn't converged yet.\n",
      "  ConvergenceWarning,\n",
      "/usr/local/lib/python3.7/dist-packages/sklearn/neural_network/_multilayer_perceptron.py:696: ConvergenceWarning: Stochastic Optimizer: Maximum iterations (100) reached and the optimization hasn't converged yet.\n",
      "  ConvergenceWarning,\n",
      "/usr/local/lib/python3.7/dist-packages/sklearn/neural_network/_multilayer_perceptron.py:696: ConvergenceWarning: Stochastic Optimizer: Maximum iterations (100) reached and the optimization hasn't converged yet.\n",
      "  ConvergenceWarning,\n",
      "/usr/local/lib/python3.7/dist-packages/sklearn/neural_network/_multilayer_perceptron.py:696: ConvergenceWarning: Stochastic Optimizer: Maximum iterations (100) reached and the optimization hasn't converged yet.\n",
      "  ConvergenceWarning,\n",
      "/usr/local/lib/python3.7/dist-packages/sklearn/neural_network/_multilayer_perceptron.py:696: ConvergenceWarning: Stochastic Optimizer: Maximum iterations (100) reached and the optimization hasn't converged yet.\n",
      "  ConvergenceWarning,\n",
      "/usr/local/lib/python3.7/dist-packages/sklearn/neural_network/_multilayer_perceptron.py:696: ConvergenceWarning: Stochastic Optimizer: Maximum iterations (100) reached and the optimization hasn't converged yet.\n",
      "  ConvergenceWarning,\n",
      "/usr/local/lib/python3.7/dist-packages/sklearn/neural_network/_multilayer_perceptron.py:696: ConvergenceWarning: Stochastic Optimizer: Maximum iterations (100) reached and the optimization hasn't converged yet.\n",
      "  ConvergenceWarning,\n",
      "/usr/local/lib/python3.7/dist-packages/sklearn/neural_network/_multilayer_perceptron.py:696: ConvergenceWarning: Stochastic Optimizer: Maximum iterations (100) reached and the optimization hasn't converged yet.\n",
      "  ConvergenceWarning,\n",
      "/usr/local/lib/python3.7/dist-packages/sklearn/neural_network/_multilayer_perceptron.py:696: ConvergenceWarning: Stochastic Optimizer: Maximum iterations (100) reached and the optimization hasn't converged yet.\n",
      "  ConvergenceWarning,\n",
      "/usr/local/lib/python3.7/dist-packages/sklearn/neural_network/_multilayer_perceptron.py:696: ConvergenceWarning: Stochastic Optimizer: Maximum iterations (100) reached and the optimization hasn't converged yet.\n",
      "  ConvergenceWarning,\n"
     ]
    },
    {
     "output_type": "stream",
     "name": "stdout",
     "text": [
      "{'verbose': False, 'hidden_layer_sizes': (10, 10), 'activation': 'relu', 'solver': 'sgd', 'max_iter': 150}\n"
     ]
    },
    {
     "output_type": "stream",
     "name": "stderr",
     "text": [
      "/usr/local/lib/python3.7/dist-packages/sklearn/neural_network/_multilayer_perceptron.py:696: ConvergenceWarning: Stochastic Optimizer: Maximum iterations (150) reached and the optimization hasn't converged yet.\n",
      "  ConvergenceWarning,\n",
      "/usr/local/lib/python3.7/dist-packages/sklearn/neural_network/_multilayer_perceptron.py:696: ConvergenceWarning: Stochastic Optimizer: Maximum iterations (150) reached and the optimization hasn't converged yet.\n",
      "  ConvergenceWarning,\n",
      "/usr/local/lib/python3.7/dist-packages/sklearn/neural_network/_multilayer_perceptron.py:696: ConvergenceWarning: Stochastic Optimizer: Maximum iterations (150) reached and the optimization hasn't converged yet.\n",
      "  ConvergenceWarning,\n",
      "/usr/local/lib/python3.7/dist-packages/sklearn/neural_network/_multilayer_perceptron.py:696: ConvergenceWarning: Stochastic Optimizer: Maximum iterations (150) reached and the optimization hasn't converged yet.\n",
      "  ConvergenceWarning,\n",
      "/usr/local/lib/python3.7/dist-packages/sklearn/neural_network/_multilayer_perceptron.py:696: ConvergenceWarning: Stochastic Optimizer: Maximum iterations (150) reached and the optimization hasn't converged yet.\n",
      "  ConvergenceWarning,\n",
      "/usr/local/lib/python3.7/dist-packages/sklearn/neural_network/_multilayer_perceptron.py:696: ConvergenceWarning: Stochastic Optimizer: Maximum iterations (150) reached and the optimization hasn't converged yet.\n",
      "  ConvergenceWarning,\n",
      "/usr/local/lib/python3.7/dist-packages/sklearn/neural_network/_multilayer_perceptron.py:696: ConvergenceWarning: Stochastic Optimizer: Maximum iterations (150) reached and the optimization hasn't converged yet.\n",
      "  ConvergenceWarning,\n",
      "/usr/local/lib/python3.7/dist-packages/sklearn/neural_network/_multilayer_perceptron.py:696: ConvergenceWarning: Stochastic Optimizer: Maximum iterations (150) reached and the optimization hasn't converged yet.\n",
      "  ConvergenceWarning,\n",
      "/usr/local/lib/python3.7/dist-packages/sklearn/neural_network/_multilayer_perceptron.py:696: ConvergenceWarning: Stochastic Optimizer: Maximum iterations (150) reached and the optimization hasn't converged yet.\n",
      "  ConvergenceWarning,\n",
      "/usr/local/lib/python3.7/dist-packages/sklearn/neural_network/_multilayer_perceptron.py:696: ConvergenceWarning: Stochastic Optimizer: Maximum iterations (150) reached and the optimization hasn't converged yet.\n",
      "  ConvergenceWarning,\n",
      "/usr/local/lib/python3.7/dist-packages/sklearn/neural_network/_multilayer_perceptron.py:696: ConvergenceWarning: Stochastic Optimizer: Maximum iterations (150) reached and the optimization hasn't converged yet.\n",
      "  ConvergenceWarning,\n",
      "/usr/local/lib/python3.7/dist-packages/sklearn/neural_network/_multilayer_perceptron.py:696: ConvergenceWarning: Stochastic Optimizer: Maximum iterations (150) reached and the optimization hasn't converged yet.\n",
      "  ConvergenceWarning,\n",
      "/usr/local/lib/python3.7/dist-packages/sklearn/neural_network/_multilayer_perceptron.py:696: ConvergenceWarning: Stochastic Optimizer: Maximum iterations (150) reached and the optimization hasn't converged yet.\n",
      "  ConvergenceWarning,\n",
      "/usr/local/lib/python3.7/dist-packages/sklearn/neural_network/_multilayer_perceptron.py:696: ConvergenceWarning: Stochastic Optimizer: Maximum iterations (150) reached and the optimization hasn't converged yet.\n",
      "  ConvergenceWarning,\n",
      "/usr/local/lib/python3.7/dist-packages/sklearn/neural_network/_multilayer_perceptron.py:696: ConvergenceWarning: Stochastic Optimizer: Maximum iterations (150) reached and the optimization hasn't converged yet.\n",
      "  ConvergenceWarning,\n"
     ]
    },
    {
     "output_type": "stream",
     "name": "stdout",
     "text": [
      "{'verbose': False, 'hidden_layer_sizes': (10, 10), 'activation': 'relu', 'solver': 'sgd', 'max_iter': 200}\n"
     ]
    },
    {
     "output_type": "stream",
     "name": "stderr",
     "text": [
      "/usr/local/lib/python3.7/dist-packages/sklearn/neural_network/_multilayer_perceptron.py:696: ConvergenceWarning: Stochastic Optimizer: Maximum iterations (200) reached and the optimization hasn't converged yet.\n",
      "  ConvergenceWarning,\n",
      "/usr/local/lib/python3.7/dist-packages/sklearn/neural_network/_multilayer_perceptron.py:696: ConvergenceWarning: Stochastic Optimizer: Maximum iterations (200) reached and the optimization hasn't converged yet.\n",
      "  ConvergenceWarning,\n",
      "/usr/local/lib/python3.7/dist-packages/sklearn/neural_network/_multilayer_perceptron.py:696: ConvergenceWarning: Stochastic Optimizer: Maximum iterations (200) reached and the optimization hasn't converged yet.\n",
      "  ConvergenceWarning,\n",
      "/usr/local/lib/python3.7/dist-packages/sklearn/neural_network/_multilayer_perceptron.py:696: ConvergenceWarning: Stochastic Optimizer: Maximum iterations (200) reached and the optimization hasn't converged yet.\n",
      "  ConvergenceWarning,\n",
      "/usr/local/lib/python3.7/dist-packages/sklearn/neural_network/_multilayer_perceptron.py:696: ConvergenceWarning: Stochastic Optimizer: Maximum iterations (200) reached and the optimization hasn't converged yet.\n",
      "  ConvergenceWarning,\n",
      "/usr/local/lib/python3.7/dist-packages/sklearn/neural_network/_multilayer_perceptron.py:696: ConvergenceWarning: Stochastic Optimizer: Maximum iterations (200) reached and the optimization hasn't converged yet.\n",
      "  ConvergenceWarning,\n",
      "/usr/local/lib/python3.7/dist-packages/sklearn/neural_network/_multilayer_perceptron.py:696: ConvergenceWarning: Stochastic Optimizer: Maximum iterations (200) reached and the optimization hasn't converged yet.\n",
      "  ConvergenceWarning,\n",
      "/usr/local/lib/python3.7/dist-packages/sklearn/neural_network/_multilayer_perceptron.py:696: ConvergenceWarning: Stochastic Optimizer: Maximum iterations (200) reached and the optimization hasn't converged yet.\n",
      "  ConvergenceWarning,\n",
      "/usr/local/lib/python3.7/dist-packages/sklearn/neural_network/_multilayer_perceptron.py:696: ConvergenceWarning: Stochastic Optimizer: Maximum iterations (200) reached and the optimization hasn't converged yet.\n",
      "  ConvergenceWarning,\n",
      "/usr/local/lib/python3.7/dist-packages/sklearn/neural_network/_multilayer_perceptron.py:696: ConvergenceWarning: Stochastic Optimizer: Maximum iterations (200) reached and the optimization hasn't converged yet.\n",
      "  ConvergenceWarning,\n",
      "/usr/local/lib/python3.7/dist-packages/sklearn/neural_network/_multilayer_perceptron.py:696: ConvergenceWarning: Stochastic Optimizer: Maximum iterations (200) reached and the optimization hasn't converged yet.\n",
      "  ConvergenceWarning,\n"
     ]
    }
   ]
  },
  {
   "cell_type": "code",
   "metadata": {
    "colab": {
     "base_uri": "https://localhost:8080/"
    },
    "id": "SmcARDrNmgJC",
    "executionInfo": {
     "status": "ok",
     "timestamp": 1638839705891,
     "user_tz": 240,
     "elapsed": 43,
     "user": {
      "displayName": "José Max Dias Figueira Junior",
      "photoUrl": "https://lh3.googleusercontent.com/a-/AOh14GiUkfqsRDxLzojLYrGgsXG_cTc15Dnqg5KFX8QqCQ=s64",
      "userId": "07239097205257965617"
     }
    },
    "outputId": "f5ec74e5-99cc-4510-c6fb-46f4d3be33aa"
   },
   "source": [
    "results"
   ],
   "execution_count": null,
   "outputs": [
    {
     "output_type": "execute_result",
     "data": {
      "text/plain": [
       "[(dict_values([(10,), 'relu', 'adam', 100]),\n",
       "  0.7192927299430879,\n",
       "  0.0023117367301981433,\n",
       "  0.5137528497144177,\n",
       "  0.02278765147420186),\n",
       " (dict_values([(10,), 'relu', 'adam', 150]),\n",
       "  0.7182680833486322,\n",
       "  0.0024426614607055354,\n",
       "  0.5175936473380742,\n",
       "  0.012204959050403948),\n",
       " (dict_values([(10,), 'relu', 'adam', 200]),\n",
       "  0.7187301113762927,\n",
       "  0.002188107180781239,\n",
       "  0.5255885467254611,\n",
       "  0.020621718863097653),\n",
       " (dict_values([(10,), 'relu', 'sgd', 100]),\n",
       "  0.7144536748057035,\n",
       "  0.002964196923901096,\n",
       "  0.46838587127465325,\n",
       "  0.022783789971106198),\n",
       " (dict_values([(10,), 'relu', 'sgd', 150]),\n",
       "  0.7137831987026498,\n",
       "  0.0026844496643420646,\n",
       "  0.47719251478140357,\n",
       "  0.018970020800949085),\n",
       " (dict_values([(10,), 'relu', 'sgd', 200]),\n",
       "  0.7133207882014564,\n",
       "  0.002942268234113297,\n",
       "  0.4757703259825182,\n",
       "  0.015086129752905053),\n",
       " (dict_values([(10, 10), 'relu', 'adam', 100]),\n",
       "  0.7304510127899149,\n",
       "  0.004563872157650154,\n",
       "  0.555991718339829,\n",
       "  0.023932194907386028),\n",
       " (dict_values([(10, 10), 'relu', 'adam', 150]),\n",
       "  0.7342600667033842,\n",
       "  0.004280533430723158,\n",
       "  0.5566212984787671,\n",
       "  0.015369880565015938),\n",
       " (dict_values([(10, 10), 'relu', 'adam', 200]),\n",
       "  0.7339659445566367,\n",
       "  0.004850522135417838,\n",
       "  0.5580634606606568,\n",
       "  0.022223868060981065),\n",
       " (dict_values([(10, 10), 'relu', 'sgd', 100]),\n",
       "  0.7247865797686802,\n",
       "  0.003972419826607771,\n",
       "  0.5124701286222624,\n",
       "  0.023304315267830805),\n",
       " (dict_values([(10, 10), 'relu', 'sgd', 150]),\n",
       "  0.7275415366256655,\n",
       "  0.004405533204787248,\n",
       "  0.5252427142306668,\n",
       "  0.02230702382316766),\n",
       " (dict_values([(10, 10), 'relu', 'sgd', 200]),\n",
       "  0.7293506364359584,\n",
       "  0.004375797166197584,\n",
       "  0.5216745318733038,\n",
       "  0.02706628205352122)]"
      ]
     },
     "metadata": {},
     "execution_count": 15
    }
   ]
  },
  {
   "cell_type": "code",
   "metadata": {
    "id": "2a4kjbmZmjwA"
   },
   "source": [
    "#6h59m"
   ],
   "execution_count": null,
   "outputs": []
  },
  {
   "cell_type": "code",
   "metadata": {
    "colab": {
     "base_uri": "https://localhost:8080/"
    },
    "id": "HJ5KQjduB5vB",
    "executionInfo": {
     "status": "ok",
     "timestamp": 1638848350139,
     "user_tz": 240,
     "elapsed": 33694545,
     "user": {
      "displayName": "Will D Mad",
      "photoUrl": "https://lh3.googleusercontent.com/a/default-user=s64",
      "userId": "17727975939014449983"
     }
    },
    "outputId": "c92fd902-1dac-4135-f2aa-a18548c39d0c"
   },
   "source": [
    "results = []\n",
    "for hidden_layer_sizes in hidden_layer_sizes_list:\n",
    "  params = base_params.copy()\n",
    "  params['hidden_layer_sizes'] = hidden_layer_sizes\n",
    "  params['activation'] = 'relu'\n",
    "  for s in solvers:\n",
    "    params['solver'] = s\n",
    "    for i in max_iters:\n",
    "      params['max_iter'] = i\n",
    "      print(params)\n",
    "      mlp_params_all, acc_mean, acc_std, f1s_mean, f1s_std = evaluate_mlp(X, y, N=N, **params)\n",
    "      summarized_mlp_params = { param_key: mlp_params_all[param_key] for param_key in param_keys }\n",
    "      results.append((summarized_mlp_params.values(), acc_mean, acc_std, f1s_mean, f1s_std))"
   ],
   "execution_count": null,
   "outputs": [
    {
     "output_type": "stream",
     "name": "stdout",
     "text": [
      "{'verbose': False, 'hidden_layer_sizes': (15,), 'activation': 'relu', 'solver': 'adam', 'max_iter': 100}\n"
     ]
    },
    {
     "output_type": "stream",
     "name": "stderr",
     "text": [
      "/usr/local/lib/python3.7/dist-packages/sklearn/neural_network/_multilayer_perceptron.py:696: ConvergenceWarning: Stochastic Optimizer: Maximum iterations (100) reached and the optimization hasn't converged yet.\n",
      "  ConvergenceWarning,\n",
      "/usr/local/lib/python3.7/dist-packages/sklearn/neural_network/_multilayer_perceptron.py:696: ConvergenceWarning: Stochastic Optimizer: Maximum iterations (100) reached and the optimization hasn't converged yet.\n",
      "  ConvergenceWarning,\n",
      "/usr/local/lib/python3.7/dist-packages/sklearn/neural_network/_multilayer_perceptron.py:696: ConvergenceWarning: Stochastic Optimizer: Maximum iterations (100) reached and the optimization hasn't converged yet.\n",
      "  ConvergenceWarning,\n",
      "/usr/local/lib/python3.7/dist-packages/sklearn/neural_network/_multilayer_perceptron.py:696: ConvergenceWarning: Stochastic Optimizer: Maximum iterations (100) reached and the optimization hasn't converged yet.\n",
      "  ConvergenceWarning,\n",
      "/usr/local/lib/python3.7/dist-packages/sklearn/neural_network/_multilayer_perceptron.py:696: ConvergenceWarning: Stochastic Optimizer: Maximum iterations (100) reached and the optimization hasn't converged yet.\n",
      "  ConvergenceWarning,\n",
      "/usr/local/lib/python3.7/dist-packages/sklearn/neural_network/_multilayer_perceptron.py:696: ConvergenceWarning: Stochastic Optimizer: Maximum iterations (100) reached and the optimization hasn't converged yet.\n",
      "  ConvergenceWarning,\n",
      "/usr/local/lib/python3.7/dist-packages/sklearn/neural_network/_multilayer_perceptron.py:696: ConvergenceWarning: Stochastic Optimizer: Maximum iterations (100) reached and the optimization hasn't converged yet.\n",
      "  ConvergenceWarning,\n",
      "/usr/local/lib/python3.7/dist-packages/sklearn/neural_network/_multilayer_perceptron.py:696: ConvergenceWarning: Stochastic Optimizer: Maximum iterations (100) reached and the optimization hasn't converged yet.\n",
      "  ConvergenceWarning,\n",
      "/usr/local/lib/python3.7/dist-packages/sklearn/neural_network/_multilayer_perceptron.py:696: ConvergenceWarning: Stochastic Optimizer: Maximum iterations (100) reached and the optimization hasn't converged yet.\n",
      "  ConvergenceWarning,\n",
      "/usr/local/lib/python3.7/dist-packages/sklearn/neural_network/_multilayer_perceptron.py:696: ConvergenceWarning: Stochastic Optimizer: Maximum iterations (100) reached and the optimization hasn't converged yet.\n",
      "  ConvergenceWarning,\n"
     ]
    },
    {
     "output_type": "stream",
     "name": "stdout",
     "text": [
      "{'verbose': False, 'hidden_layer_sizes': (15,), 'activation': 'relu', 'solver': 'adam', 'max_iter': 150}\n"
     ]
    },
    {
     "output_type": "stream",
     "name": "stderr",
     "text": [
      "/usr/local/lib/python3.7/dist-packages/sklearn/neural_network/_multilayer_perceptron.py:696: ConvergenceWarning: Stochastic Optimizer: Maximum iterations (150) reached and the optimization hasn't converged yet.\n",
      "  ConvergenceWarning,\n"
     ]
    },
    {
     "output_type": "stream",
     "name": "stdout",
     "text": [
      "{'verbose': False, 'hidden_layer_sizes': (15,), 'activation': 'relu', 'solver': 'adam', 'max_iter': 200}\n",
      "{'verbose': False, 'hidden_layer_sizes': (15,), 'activation': 'relu', 'solver': 'sgd', 'max_iter': 100}\n"
     ]
    },
    {
     "output_type": "stream",
     "name": "stderr",
     "text": [
      "/usr/local/lib/python3.7/dist-packages/sklearn/neural_network/_multilayer_perceptron.py:696: ConvergenceWarning: Stochastic Optimizer: Maximum iterations (100) reached and the optimization hasn't converged yet.\n",
      "  ConvergenceWarning,\n",
      "/usr/local/lib/python3.7/dist-packages/sklearn/neural_network/_multilayer_perceptron.py:696: ConvergenceWarning: Stochastic Optimizer: Maximum iterations (100) reached and the optimization hasn't converged yet.\n",
      "  ConvergenceWarning,\n",
      "/usr/local/lib/python3.7/dist-packages/sklearn/neural_network/_multilayer_perceptron.py:696: ConvergenceWarning: Stochastic Optimizer: Maximum iterations (100) reached and the optimization hasn't converged yet.\n",
      "  ConvergenceWarning,\n",
      "/usr/local/lib/python3.7/dist-packages/sklearn/neural_network/_multilayer_perceptron.py:696: ConvergenceWarning: Stochastic Optimizer: Maximum iterations (100) reached and the optimization hasn't converged yet.\n",
      "  ConvergenceWarning,\n",
      "/usr/local/lib/python3.7/dist-packages/sklearn/neural_network/_multilayer_perceptron.py:696: ConvergenceWarning: Stochastic Optimizer: Maximum iterations (100) reached and the optimization hasn't converged yet.\n",
      "  ConvergenceWarning,\n",
      "/usr/local/lib/python3.7/dist-packages/sklearn/neural_network/_multilayer_perceptron.py:696: ConvergenceWarning: Stochastic Optimizer: Maximum iterations (100) reached and the optimization hasn't converged yet.\n",
      "  ConvergenceWarning,\n",
      "/usr/local/lib/python3.7/dist-packages/sklearn/neural_network/_multilayer_perceptron.py:696: ConvergenceWarning: Stochastic Optimizer: Maximum iterations (100) reached and the optimization hasn't converged yet.\n",
      "  ConvergenceWarning,\n",
      "/usr/local/lib/python3.7/dist-packages/sklearn/neural_network/_multilayer_perceptron.py:696: ConvergenceWarning: Stochastic Optimizer: Maximum iterations (100) reached and the optimization hasn't converged yet.\n",
      "  ConvergenceWarning,\n",
      "/usr/local/lib/python3.7/dist-packages/sklearn/neural_network/_multilayer_perceptron.py:696: ConvergenceWarning: Stochastic Optimizer: Maximum iterations (100) reached and the optimization hasn't converged yet.\n",
      "  ConvergenceWarning,\n",
      "/usr/local/lib/python3.7/dist-packages/sklearn/neural_network/_multilayer_perceptron.py:696: ConvergenceWarning: Stochastic Optimizer: Maximum iterations (100) reached and the optimization hasn't converged yet.\n",
      "  ConvergenceWarning,\n",
      "/usr/local/lib/python3.7/dist-packages/sklearn/neural_network/_multilayer_perceptron.py:696: ConvergenceWarning: Stochastic Optimizer: Maximum iterations (100) reached and the optimization hasn't converged yet.\n",
      "  ConvergenceWarning,\n",
      "/usr/local/lib/python3.7/dist-packages/sklearn/neural_network/_multilayer_perceptron.py:696: ConvergenceWarning: Stochastic Optimizer: Maximum iterations (100) reached and the optimization hasn't converged yet.\n",
      "  ConvergenceWarning,\n",
      "/usr/local/lib/python3.7/dist-packages/sklearn/neural_network/_multilayer_perceptron.py:696: ConvergenceWarning: Stochastic Optimizer: Maximum iterations (100) reached and the optimization hasn't converged yet.\n",
      "  ConvergenceWarning,\n",
      "/usr/local/lib/python3.7/dist-packages/sklearn/neural_network/_multilayer_perceptron.py:696: ConvergenceWarning: Stochastic Optimizer: Maximum iterations (100) reached and the optimization hasn't converged yet.\n",
      "  ConvergenceWarning,\n",
      "/usr/local/lib/python3.7/dist-packages/sklearn/neural_network/_multilayer_perceptron.py:696: ConvergenceWarning: Stochastic Optimizer: Maximum iterations (100) reached and the optimization hasn't converged yet.\n",
      "  ConvergenceWarning,\n"
     ]
    },
    {
     "output_type": "stream",
     "name": "stdout",
     "text": [
      "{'verbose': False, 'hidden_layer_sizes': (15,), 'activation': 'relu', 'solver': 'sgd', 'max_iter': 150}\n"
     ]
    },
    {
     "output_type": "stream",
     "name": "stderr",
     "text": [
      "/usr/local/lib/python3.7/dist-packages/sklearn/neural_network/_multilayer_perceptron.py:696: ConvergenceWarning: Stochastic Optimizer: Maximum iterations (150) reached and the optimization hasn't converged yet.\n",
      "  ConvergenceWarning,\n",
      "/usr/local/lib/python3.7/dist-packages/sklearn/neural_network/_multilayer_perceptron.py:696: ConvergenceWarning: Stochastic Optimizer: Maximum iterations (150) reached and the optimization hasn't converged yet.\n",
      "  ConvergenceWarning,\n",
      "/usr/local/lib/python3.7/dist-packages/sklearn/neural_network/_multilayer_perceptron.py:696: ConvergenceWarning: Stochastic Optimizer: Maximum iterations (150) reached and the optimization hasn't converged yet.\n",
      "  ConvergenceWarning,\n",
      "/usr/local/lib/python3.7/dist-packages/sklearn/neural_network/_multilayer_perceptron.py:696: ConvergenceWarning: Stochastic Optimizer: Maximum iterations (150) reached and the optimization hasn't converged yet.\n",
      "  ConvergenceWarning,\n",
      "/usr/local/lib/python3.7/dist-packages/sklearn/neural_network/_multilayer_perceptron.py:696: ConvergenceWarning: Stochastic Optimizer: Maximum iterations (150) reached and the optimization hasn't converged yet.\n",
      "  ConvergenceWarning,\n",
      "/usr/local/lib/python3.7/dist-packages/sklearn/neural_network/_multilayer_perceptron.py:696: ConvergenceWarning: Stochastic Optimizer: Maximum iterations (150) reached and the optimization hasn't converged yet.\n",
      "  ConvergenceWarning,\n",
      "/usr/local/lib/python3.7/dist-packages/sklearn/neural_network/_multilayer_perceptron.py:696: ConvergenceWarning: Stochastic Optimizer: Maximum iterations (150) reached and the optimization hasn't converged yet.\n",
      "  ConvergenceWarning,\n",
      "/usr/local/lib/python3.7/dist-packages/sklearn/neural_network/_multilayer_perceptron.py:696: ConvergenceWarning: Stochastic Optimizer: Maximum iterations (150) reached and the optimization hasn't converged yet.\n",
      "  ConvergenceWarning,\n"
     ]
    },
    {
     "output_type": "stream",
     "name": "stdout",
     "text": [
      "{'verbose': False, 'hidden_layer_sizes': (15,), 'activation': 'relu', 'solver': 'sgd', 'max_iter': 200}\n"
     ]
    },
    {
     "output_type": "stream",
     "name": "stderr",
     "text": [
      "/usr/local/lib/python3.7/dist-packages/sklearn/neural_network/_multilayer_perceptron.py:696: ConvergenceWarning: Stochastic Optimizer: Maximum iterations (200) reached and the optimization hasn't converged yet.\n",
      "  ConvergenceWarning,\n",
      "/usr/local/lib/python3.7/dist-packages/sklearn/neural_network/_multilayer_perceptron.py:696: ConvergenceWarning: Stochastic Optimizer: Maximum iterations (200) reached and the optimization hasn't converged yet.\n",
      "  ConvergenceWarning,\n",
      "/usr/local/lib/python3.7/dist-packages/sklearn/neural_network/_multilayer_perceptron.py:696: ConvergenceWarning: Stochastic Optimizer: Maximum iterations (200) reached and the optimization hasn't converged yet.\n",
      "  ConvergenceWarning,\n"
     ]
    },
    {
     "output_type": "stream",
     "name": "stdout",
     "text": [
      "{'verbose': False, 'hidden_layer_sizes': (15, 15), 'activation': 'relu', 'solver': 'adam', 'max_iter': 100}\n"
     ]
    },
    {
     "output_type": "stream",
     "name": "stderr",
     "text": [
      "/usr/local/lib/python3.7/dist-packages/sklearn/neural_network/_multilayer_perceptron.py:696: ConvergenceWarning: Stochastic Optimizer: Maximum iterations (100) reached and the optimization hasn't converged yet.\n",
      "  ConvergenceWarning,\n",
      "/usr/local/lib/python3.7/dist-packages/sklearn/neural_network/_multilayer_perceptron.py:696: ConvergenceWarning: Stochastic Optimizer: Maximum iterations (100) reached and the optimization hasn't converged yet.\n",
      "  ConvergenceWarning,\n",
      "/usr/local/lib/python3.7/dist-packages/sklearn/neural_network/_multilayer_perceptron.py:696: ConvergenceWarning: Stochastic Optimizer: Maximum iterations (100) reached and the optimization hasn't converged yet.\n",
      "  ConvergenceWarning,\n",
      "/usr/local/lib/python3.7/dist-packages/sklearn/neural_network/_multilayer_perceptron.py:696: ConvergenceWarning: Stochastic Optimizer: Maximum iterations (100) reached and the optimization hasn't converged yet.\n",
      "  ConvergenceWarning,\n",
      "/usr/local/lib/python3.7/dist-packages/sklearn/neural_network/_multilayer_perceptron.py:696: ConvergenceWarning: Stochastic Optimizer: Maximum iterations (100) reached and the optimization hasn't converged yet.\n",
      "  ConvergenceWarning,\n",
      "/usr/local/lib/python3.7/dist-packages/sklearn/neural_network/_multilayer_perceptron.py:696: ConvergenceWarning: Stochastic Optimizer: Maximum iterations (100) reached and the optimization hasn't converged yet.\n",
      "  ConvergenceWarning,\n",
      "/usr/local/lib/python3.7/dist-packages/sklearn/neural_network/_multilayer_perceptron.py:696: ConvergenceWarning: Stochastic Optimizer: Maximum iterations (100) reached and the optimization hasn't converged yet.\n",
      "  ConvergenceWarning,\n",
      "/usr/local/lib/python3.7/dist-packages/sklearn/neural_network/_multilayer_perceptron.py:696: ConvergenceWarning: Stochastic Optimizer: Maximum iterations (100) reached and the optimization hasn't converged yet.\n",
      "  ConvergenceWarning,\n",
      "/usr/local/lib/python3.7/dist-packages/sklearn/neural_network/_multilayer_perceptron.py:696: ConvergenceWarning: Stochastic Optimizer: Maximum iterations (100) reached and the optimization hasn't converged yet.\n",
      "  ConvergenceWarning,\n",
      "/usr/local/lib/python3.7/dist-packages/sklearn/neural_network/_multilayer_perceptron.py:696: ConvergenceWarning: Stochastic Optimizer: Maximum iterations (100) reached and the optimization hasn't converged yet.\n",
      "  ConvergenceWarning,\n",
      "/usr/local/lib/python3.7/dist-packages/sklearn/neural_network/_multilayer_perceptron.py:696: ConvergenceWarning: Stochastic Optimizer: Maximum iterations (100) reached and the optimization hasn't converged yet.\n",
      "  ConvergenceWarning,\n",
      "/usr/local/lib/python3.7/dist-packages/sklearn/neural_network/_multilayer_perceptron.py:696: ConvergenceWarning: Stochastic Optimizer: Maximum iterations (100) reached and the optimization hasn't converged yet.\n",
      "  ConvergenceWarning,\n",
      "/usr/local/lib/python3.7/dist-packages/sklearn/neural_network/_multilayer_perceptron.py:696: ConvergenceWarning: Stochastic Optimizer: Maximum iterations (100) reached and the optimization hasn't converged yet.\n",
      "  ConvergenceWarning,\n",
      "/usr/local/lib/python3.7/dist-packages/sklearn/neural_network/_multilayer_perceptron.py:696: ConvergenceWarning: Stochastic Optimizer: Maximum iterations (100) reached and the optimization hasn't converged yet.\n",
      "  ConvergenceWarning,\n",
      "/usr/local/lib/python3.7/dist-packages/sklearn/neural_network/_multilayer_perceptron.py:696: ConvergenceWarning: Stochastic Optimizer: Maximum iterations (100) reached and the optimization hasn't converged yet.\n",
      "  ConvergenceWarning,\n"
     ]
    },
    {
     "output_type": "stream",
     "name": "stdout",
     "text": [
      "{'verbose': False, 'hidden_layer_sizes': (15, 15), 'activation': 'relu', 'solver': 'adam', 'max_iter': 150}\n"
     ]
    },
    {
     "output_type": "stream",
     "name": "stderr",
     "text": [
      "/usr/local/lib/python3.7/dist-packages/sklearn/neural_network/_multilayer_perceptron.py:696: ConvergenceWarning: Stochastic Optimizer: Maximum iterations (150) reached and the optimization hasn't converged yet.\n",
      "  ConvergenceWarning,\n",
      "/usr/local/lib/python3.7/dist-packages/sklearn/neural_network/_multilayer_perceptron.py:696: ConvergenceWarning: Stochastic Optimizer: Maximum iterations (150) reached and the optimization hasn't converged yet.\n",
      "  ConvergenceWarning,\n",
      "/usr/local/lib/python3.7/dist-packages/sklearn/neural_network/_multilayer_perceptron.py:696: ConvergenceWarning: Stochastic Optimizer: Maximum iterations (150) reached and the optimization hasn't converged yet.\n",
      "  ConvergenceWarning,\n",
      "/usr/local/lib/python3.7/dist-packages/sklearn/neural_network/_multilayer_perceptron.py:696: ConvergenceWarning: Stochastic Optimizer: Maximum iterations (150) reached and the optimization hasn't converged yet.\n",
      "  ConvergenceWarning,\n",
      "/usr/local/lib/python3.7/dist-packages/sklearn/neural_network/_multilayer_perceptron.py:696: ConvergenceWarning: Stochastic Optimizer: Maximum iterations (150) reached and the optimization hasn't converged yet.\n",
      "  ConvergenceWarning,\n",
      "/usr/local/lib/python3.7/dist-packages/sklearn/neural_network/_multilayer_perceptron.py:696: ConvergenceWarning: Stochastic Optimizer: Maximum iterations (150) reached and the optimization hasn't converged yet.\n",
      "  ConvergenceWarning,\n",
      "/usr/local/lib/python3.7/dist-packages/sklearn/neural_network/_multilayer_perceptron.py:696: ConvergenceWarning: Stochastic Optimizer: Maximum iterations (150) reached and the optimization hasn't converged yet.\n",
      "  ConvergenceWarning,\n",
      "/usr/local/lib/python3.7/dist-packages/sklearn/neural_network/_multilayer_perceptron.py:696: ConvergenceWarning: Stochastic Optimizer: Maximum iterations (150) reached and the optimization hasn't converged yet.\n",
      "  ConvergenceWarning,\n",
      "/usr/local/lib/python3.7/dist-packages/sklearn/neural_network/_multilayer_perceptron.py:696: ConvergenceWarning: Stochastic Optimizer: Maximum iterations (150) reached and the optimization hasn't converged yet.\n",
      "  ConvergenceWarning,\n",
      "/usr/local/lib/python3.7/dist-packages/sklearn/neural_network/_multilayer_perceptron.py:696: ConvergenceWarning: Stochastic Optimizer: Maximum iterations (150) reached and the optimization hasn't converged yet.\n",
      "  ConvergenceWarning,\n",
      "/usr/local/lib/python3.7/dist-packages/sklearn/neural_network/_multilayer_perceptron.py:696: ConvergenceWarning: Stochastic Optimizer: Maximum iterations (150) reached and the optimization hasn't converged yet.\n",
      "  ConvergenceWarning,\n",
      "/usr/local/lib/python3.7/dist-packages/sklearn/neural_network/_multilayer_perceptron.py:696: ConvergenceWarning: Stochastic Optimizer: Maximum iterations (150) reached and the optimization hasn't converged yet.\n",
      "  ConvergenceWarning,\n",
      "/usr/local/lib/python3.7/dist-packages/sklearn/neural_network/_multilayer_perceptron.py:696: ConvergenceWarning: Stochastic Optimizer: Maximum iterations (150) reached and the optimization hasn't converged yet.\n",
      "  ConvergenceWarning,\n",
      "/usr/local/lib/python3.7/dist-packages/sklearn/neural_network/_multilayer_perceptron.py:696: ConvergenceWarning: Stochastic Optimizer: Maximum iterations (150) reached and the optimization hasn't converged yet.\n",
      "  ConvergenceWarning,\n",
      "/usr/local/lib/python3.7/dist-packages/sklearn/neural_network/_multilayer_perceptron.py:696: ConvergenceWarning: Stochastic Optimizer: Maximum iterations (150) reached and the optimization hasn't converged yet.\n",
      "  ConvergenceWarning,\n"
     ]
    },
    {
     "output_type": "stream",
     "name": "stdout",
     "text": [
      "{'verbose': False, 'hidden_layer_sizes': (15, 15), 'activation': 'relu', 'solver': 'adam', 'max_iter': 200}\n"
     ]
    },
    {
     "output_type": "stream",
     "name": "stderr",
     "text": [
      "/usr/local/lib/python3.7/dist-packages/sklearn/neural_network/_multilayer_perceptron.py:696: ConvergenceWarning: Stochastic Optimizer: Maximum iterations (200) reached and the optimization hasn't converged yet.\n",
      "  ConvergenceWarning,\n",
      "/usr/local/lib/python3.7/dist-packages/sklearn/neural_network/_multilayer_perceptron.py:696: ConvergenceWarning: Stochastic Optimizer: Maximum iterations (200) reached and the optimization hasn't converged yet.\n",
      "  ConvergenceWarning,\n",
      "/usr/local/lib/python3.7/dist-packages/sklearn/neural_network/_multilayer_perceptron.py:696: ConvergenceWarning: Stochastic Optimizer: Maximum iterations (200) reached and the optimization hasn't converged yet.\n",
      "  ConvergenceWarning,\n",
      "/usr/local/lib/python3.7/dist-packages/sklearn/neural_network/_multilayer_perceptron.py:696: ConvergenceWarning: Stochastic Optimizer: Maximum iterations (200) reached and the optimization hasn't converged yet.\n",
      "  ConvergenceWarning,\n",
      "/usr/local/lib/python3.7/dist-packages/sklearn/neural_network/_multilayer_perceptron.py:696: ConvergenceWarning: Stochastic Optimizer: Maximum iterations (200) reached and the optimization hasn't converged yet.\n",
      "  ConvergenceWarning,\n",
      "/usr/local/lib/python3.7/dist-packages/sklearn/neural_network/_multilayer_perceptron.py:696: ConvergenceWarning: Stochastic Optimizer: Maximum iterations (200) reached and the optimization hasn't converged yet.\n",
      "  ConvergenceWarning,\n",
      "/usr/local/lib/python3.7/dist-packages/sklearn/neural_network/_multilayer_perceptron.py:696: ConvergenceWarning: Stochastic Optimizer: Maximum iterations (200) reached and the optimization hasn't converged yet.\n",
      "  ConvergenceWarning,\n",
      "/usr/local/lib/python3.7/dist-packages/sklearn/neural_network/_multilayer_perceptron.py:696: ConvergenceWarning: Stochastic Optimizer: Maximum iterations (200) reached and the optimization hasn't converged yet.\n",
      "  ConvergenceWarning,\n",
      "/usr/local/lib/python3.7/dist-packages/sklearn/neural_network/_multilayer_perceptron.py:696: ConvergenceWarning: Stochastic Optimizer: Maximum iterations (200) reached and the optimization hasn't converged yet.\n",
      "  ConvergenceWarning,\n",
      "/usr/local/lib/python3.7/dist-packages/sklearn/neural_network/_multilayer_perceptron.py:696: ConvergenceWarning: Stochastic Optimizer: Maximum iterations (200) reached and the optimization hasn't converged yet.\n",
      "  ConvergenceWarning,\n",
      "/usr/local/lib/python3.7/dist-packages/sklearn/neural_network/_multilayer_perceptron.py:696: ConvergenceWarning: Stochastic Optimizer: Maximum iterations (200) reached and the optimization hasn't converged yet.\n",
      "  ConvergenceWarning,\n",
      "/usr/local/lib/python3.7/dist-packages/sklearn/neural_network/_multilayer_perceptron.py:696: ConvergenceWarning: Stochastic Optimizer: Maximum iterations (200) reached and the optimization hasn't converged yet.\n",
      "  ConvergenceWarning,\n"
     ]
    },
    {
     "output_type": "stream",
     "name": "stdout",
     "text": [
      "{'verbose': False, 'hidden_layer_sizes': (15, 15), 'activation': 'relu', 'solver': 'sgd', 'max_iter': 100}\n"
     ]
    },
    {
     "output_type": "stream",
     "name": "stderr",
     "text": [
      "/usr/local/lib/python3.7/dist-packages/sklearn/neural_network/_multilayer_perceptron.py:696: ConvergenceWarning: Stochastic Optimizer: Maximum iterations (100) reached and the optimization hasn't converged yet.\n",
      "  ConvergenceWarning,\n",
      "/usr/local/lib/python3.7/dist-packages/sklearn/neural_network/_multilayer_perceptron.py:696: ConvergenceWarning: Stochastic Optimizer: Maximum iterations (100) reached and the optimization hasn't converged yet.\n",
      "  ConvergenceWarning,\n",
      "/usr/local/lib/python3.7/dist-packages/sklearn/neural_network/_multilayer_perceptron.py:696: ConvergenceWarning: Stochastic Optimizer: Maximum iterations (100) reached and the optimization hasn't converged yet.\n",
      "  ConvergenceWarning,\n",
      "/usr/local/lib/python3.7/dist-packages/sklearn/neural_network/_multilayer_perceptron.py:696: ConvergenceWarning: Stochastic Optimizer: Maximum iterations (100) reached and the optimization hasn't converged yet.\n",
      "  ConvergenceWarning,\n",
      "/usr/local/lib/python3.7/dist-packages/sklearn/neural_network/_multilayer_perceptron.py:696: ConvergenceWarning: Stochastic Optimizer: Maximum iterations (100) reached and the optimization hasn't converged yet.\n",
      "  ConvergenceWarning,\n",
      "/usr/local/lib/python3.7/dist-packages/sklearn/neural_network/_multilayer_perceptron.py:696: ConvergenceWarning: Stochastic Optimizer: Maximum iterations (100) reached and the optimization hasn't converged yet.\n",
      "  ConvergenceWarning,\n",
      "/usr/local/lib/python3.7/dist-packages/sklearn/neural_network/_multilayer_perceptron.py:696: ConvergenceWarning: Stochastic Optimizer: Maximum iterations (100) reached and the optimization hasn't converged yet.\n",
      "  ConvergenceWarning,\n",
      "/usr/local/lib/python3.7/dist-packages/sklearn/neural_network/_multilayer_perceptron.py:696: ConvergenceWarning: Stochastic Optimizer: Maximum iterations (100) reached and the optimization hasn't converged yet.\n",
      "  ConvergenceWarning,\n",
      "/usr/local/lib/python3.7/dist-packages/sklearn/neural_network/_multilayer_perceptron.py:696: ConvergenceWarning: Stochastic Optimizer: Maximum iterations (100) reached and the optimization hasn't converged yet.\n",
      "  ConvergenceWarning,\n",
      "/usr/local/lib/python3.7/dist-packages/sklearn/neural_network/_multilayer_perceptron.py:696: ConvergenceWarning: Stochastic Optimizer: Maximum iterations (100) reached and the optimization hasn't converged yet.\n",
      "  ConvergenceWarning,\n",
      "/usr/local/lib/python3.7/dist-packages/sklearn/neural_network/_multilayer_perceptron.py:696: ConvergenceWarning: Stochastic Optimizer: Maximum iterations (100) reached and the optimization hasn't converged yet.\n",
      "  ConvergenceWarning,\n",
      "/usr/local/lib/python3.7/dist-packages/sklearn/neural_network/_multilayer_perceptron.py:696: ConvergenceWarning: Stochastic Optimizer: Maximum iterations (100) reached and the optimization hasn't converged yet.\n",
      "  ConvergenceWarning,\n",
      "/usr/local/lib/python3.7/dist-packages/sklearn/neural_network/_multilayer_perceptron.py:696: ConvergenceWarning: Stochastic Optimizer: Maximum iterations (100) reached and the optimization hasn't converged yet.\n",
      "  ConvergenceWarning,\n",
      "/usr/local/lib/python3.7/dist-packages/sklearn/neural_network/_multilayer_perceptron.py:696: ConvergenceWarning: Stochastic Optimizer: Maximum iterations (100) reached and the optimization hasn't converged yet.\n",
      "  ConvergenceWarning,\n",
      "/usr/local/lib/python3.7/dist-packages/sklearn/neural_network/_multilayer_perceptron.py:696: ConvergenceWarning: Stochastic Optimizer: Maximum iterations (100) reached and the optimization hasn't converged yet.\n",
      "  ConvergenceWarning,\n"
     ]
    },
    {
     "output_type": "stream",
     "name": "stdout",
     "text": [
      "{'verbose': False, 'hidden_layer_sizes': (15, 15), 'activation': 'relu', 'solver': 'sgd', 'max_iter': 150}\n"
     ]
    },
    {
     "output_type": "stream",
     "name": "stderr",
     "text": [
      "/usr/local/lib/python3.7/dist-packages/sklearn/neural_network/_multilayer_perceptron.py:696: ConvergenceWarning: Stochastic Optimizer: Maximum iterations (150) reached and the optimization hasn't converged yet.\n",
      "  ConvergenceWarning,\n",
      "/usr/local/lib/python3.7/dist-packages/sklearn/neural_network/_multilayer_perceptron.py:696: ConvergenceWarning: Stochastic Optimizer: Maximum iterations (150) reached and the optimization hasn't converged yet.\n",
      "  ConvergenceWarning,\n",
      "/usr/local/lib/python3.7/dist-packages/sklearn/neural_network/_multilayer_perceptron.py:696: ConvergenceWarning: Stochastic Optimizer: Maximum iterations (150) reached and the optimization hasn't converged yet.\n",
      "  ConvergenceWarning,\n",
      "/usr/local/lib/python3.7/dist-packages/sklearn/neural_network/_multilayer_perceptron.py:696: ConvergenceWarning: Stochastic Optimizer: Maximum iterations (150) reached and the optimization hasn't converged yet.\n",
      "  ConvergenceWarning,\n",
      "/usr/local/lib/python3.7/dist-packages/sklearn/neural_network/_multilayer_perceptron.py:696: ConvergenceWarning: Stochastic Optimizer: Maximum iterations (150) reached and the optimization hasn't converged yet.\n",
      "  ConvergenceWarning,\n",
      "/usr/local/lib/python3.7/dist-packages/sklearn/neural_network/_multilayer_perceptron.py:696: ConvergenceWarning: Stochastic Optimizer: Maximum iterations (150) reached and the optimization hasn't converged yet.\n",
      "  ConvergenceWarning,\n",
      "/usr/local/lib/python3.7/dist-packages/sklearn/neural_network/_multilayer_perceptron.py:696: ConvergenceWarning: Stochastic Optimizer: Maximum iterations (150) reached and the optimization hasn't converged yet.\n",
      "  ConvergenceWarning,\n",
      "/usr/local/lib/python3.7/dist-packages/sklearn/neural_network/_multilayer_perceptron.py:696: ConvergenceWarning: Stochastic Optimizer: Maximum iterations (150) reached and the optimization hasn't converged yet.\n",
      "  ConvergenceWarning,\n",
      "/usr/local/lib/python3.7/dist-packages/sklearn/neural_network/_multilayer_perceptron.py:696: ConvergenceWarning: Stochastic Optimizer: Maximum iterations (150) reached and the optimization hasn't converged yet.\n",
      "  ConvergenceWarning,\n",
      "/usr/local/lib/python3.7/dist-packages/sklearn/neural_network/_multilayer_perceptron.py:696: ConvergenceWarning: Stochastic Optimizer: Maximum iterations (150) reached and the optimization hasn't converged yet.\n",
      "  ConvergenceWarning,\n",
      "/usr/local/lib/python3.7/dist-packages/sklearn/neural_network/_multilayer_perceptron.py:696: ConvergenceWarning: Stochastic Optimizer: Maximum iterations (150) reached and the optimization hasn't converged yet.\n",
      "  ConvergenceWarning,\n",
      "/usr/local/lib/python3.7/dist-packages/sklearn/neural_network/_multilayer_perceptron.py:696: ConvergenceWarning: Stochastic Optimizer: Maximum iterations (150) reached and the optimization hasn't converged yet.\n",
      "  ConvergenceWarning,\n",
      "/usr/local/lib/python3.7/dist-packages/sklearn/neural_network/_multilayer_perceptron.py:696: ConvergenceWarning: Stochastic Optimizer: Maximum iterations (150) reached and the optimization hasn't converged yet.\n",
      "  ConvergenceWarning,\n",
      "/usr/local/lib/python3.7/dist-packages/sklearn/neural_network/_multilayer_perceptron.py:696: ConvergenceWarning: Stochastic Optimizer: Maximum iterations (150) reached and the optimization hasn't converged yet.\n",
      "  ConvergenceWarning,\n",
      "/usr/local/lib/python3.7/dist-packages/sklearn/neural_network/_multilayer_perceptron.py:696: ConvergenceWarning: Stochastic Optimizer: Maximum iterations (150) reached and the optimization hasn't converged yet.\n",
      "  ConvergenceWarning,\n"
     ]
    },
    {
     "output_type": "stream",
     "name": "stdout",
     "text": [
      "{'verbose': False, 'hidden_layer_sizes': (15, 15), 'activation': 'relu', 'solver': 'sgd', 'max_iter': 200}\n"
     ]
    },
    {
     "output_type": "stream",
     "name": "stderr",
     "text": [
      "/usr/local/lib/python3.7/dist-packages/sklearn/neural_network/_multilayer_perceptron.py:696: ConvergenceWarning: Stochastic Optimizer: Maximum iterations (200) reached and the optimization hasn't converged yet.\n",
      "  ConvergenceWarning,\n",
      "/usr/local/lib/python3.7/dist-packages/sklearn/neural_network/_multilayer_perceptron.py:696: ConvergenceWarning: Stochastic Optimizer: Maximum iterations (200) reached and the optimization hasn't converged yet.\n",
      "  ConvergenceWarning,\n",
      "/usr/local/lib/python3.7/dist-packages/sklearn/neural_network/_multilayer_perceptron.py:696: ConvergenceWarning: Stochastic Optimizer: Maximum iterations (200) reached and the optimization hasn't converged yet.\n",
      "  ConvergenceWarning,\n",
      "/usr/local/lib/python3.7/dist-packages/sklearn/neural_network/_multilayer_perceptron.py:696: ConvergenceWarning: Stochastic Optimizer: Maximum iterations (200) reached and the optimization hasn't converged yet.\n",
      "  ConvergenceWarning,\n",
      "/usr/local/lib/python3.7/dist-packages/sklearn/neural_network/_multilayer_perceptron.py:696: ConvergenceWarning: Stochastic Optimizer: Maximum iterations (200) reached and the optimization hasn't converged yet.\n",
      "  ConvergenceWarning,\n",
      "/usr/local/lib/python3.7/dist-packages/sklearn/neural_network/_multilayer_perceptron.py:696: ConvergenceWarning: Stochastic Optimizer: Maximum iterations (200) reached and the optimization hasn't converged yet.\n",
      "  ConvergenceWarning,\n",
      "/usr/local/lib/python3.7/dist-packages/sklearn/neural_network/_multilayer_perceptron.py:696: ConvergenceWarning: Stochastic Optimizer: Maximum iterations (200) reached and the optimization hasn't converged yet.\n",
      "  ConvergenceWarning,\n",
      "/usr/local/lib/python3.7/dist-packages/sklearn/neural_network/_multilayer_perceptron.py:696: ConvergenceWarning: Stochastic Optimizer: Maximum iterations (200) reached and the optimization hasn't converged yet.\n",
      "  ConvergenceWarning,\n",
      "/usr/local/lib/python3.7/dist-packages/sklearn/neural_network/_multilayer_perceptron.py:696: ConvergenceWarning: Stochastic Optimizer: Maximum iterations (200) reached and the optimization hasn't converged yet.\n",
      "  ConvergenceWarning,\n",
      "/usr/local/lib/python3.7/dist-packages/sklearn/neural_network/_multilayer_perceptron.py:696: ConvergenceWarning: Stochastic Optimizer: Maximum iterations (200) reached and the optimization hasn't converged yet.\n",
      "  ConvergenceWarning,\n",
      "/usr/local/lib/python3.7/dist-packages/sklearn/neural_network/_multilayer_perceptron.py:696: ConvergenceWarning: Stochastic Optimizer: Maximum iterations (200) reached and the optimization hasn't converged yet.\n",
      "  ConvergenceWarning,\n",
      "/usr/local/lib/python3.7/dist-packages/sklearn/neural_network/_multilayer_perceptron.py:696: ConvergenceWarning: Stochastic Optimizer: Maximum iterations (200) reached and the optimization hasn't converged yet.\n",
      "  ConvergenceWarning,\n",
      "/usr/local/lib/python3.7/dist-packages/sklearn/neural_network/_multilayer_perceptron.py:696: ConvergenceWarning: Stochastic Optimizer: Maximum iterations (200) reached and the optimization hasn't converged yet.\n",
      "  ConvergenceWarning,\n",
      "/usr/local/lib/python3.7/dist-packages/sklearn/neural_network/_multilayer_perceptron.py:696: ConvergenceWarning: Stochastic Optimizer: Maximum iterations (200) reached and the optimization hasn't converged yet.\n",
      "  ConvergenceWarning,\n",
      "/usr/local/lib/python3.7/dist-packages/sklearn/neural_network/_multilayer_perceptron.py:696: ConvergenceWarning: Stochastic Optimizer: Maximum iterations (200) reached and the optimization hasn't converged yet.\n",
      "  ConvergenceWarning,\n"
     ]
    }
   ]
  },
  {
   "cell_type": "code",
   "metadata": {
    "colab": {
     "base_uri": "https://localhost:8080/"
    },
    "id": "tbQoHEQ3B5vc",
    "executionInfo": {
     "status": "ok",
     "timestamp": 1638848353441,
     "user_tz": 240,
     "elapsed": 8,
     "user": {
      "displayName": "Will D Mad",
      "photoUrl": "https://lh3.googleusercontent.com/a/default-user=s64",
      "userId": "17727975939014449983"
     }
    },
    "outputId": "e67c3ff2-796f-44cc-9b75-6ad60f913453"
   },
   "source": [
    "results"
   ],
   "execution_count": null,
   "outputs": [
    {
     "output_type": "execute_result",
     "data": {
      "text/plain": [
       "[(dict_values([(15,), 'relu', 'adam', 100]),\n",
       "  0.7270018664708402,\n",
       "  0.0032232749063325706,\n",
       "  0.5496845515197352,\n",
       "  0.01609496391069023),\n",
       " (dict_values([(15,), 'relu', 'adam', 150]),\n",
       "  0.7268821522550639,\n",
       "  0.0031722979658155483,\n",
       "  0.543099878497132,\n",
       "  0.0120514480332433),\n",
       " (dict_values([(15,), 'relu', 'adam', 200]),\n",
       "  0.7285244936050427,\n",
       "  0.002969953258172106,\n",
       "  0.5452952766002247,\n",
       "  0.012137187120192766),\n",
       " (dict_values([(15,), 'relu', 'sgd', 100]),\n",
       "  0.7195222140627868,\n",
       "  0.0028445648185016713,\n",
       "  0.4985626045853832,\n",
       "  0.013170451995686035),\n",
       " (dict_values([(15,), 'relu', 'sgd', 150]),\n",
       "  0.7232895783611774,\n",
       "  0.0027318648061770458,\n",
       "  0.5082081492475831,\n",
       "  0.01627317260176654),\n",
       " (dict_values([(15,), 'relu', 'sgd', 200]),\n",
       "  0.7244064010770456,\n",
       "  0.0029539373118866435,\n",
       "  0.5227864260402957,\n",
       "  0.013656614625938292),\n",
       " (dict_values([(15, 15), 'relu', 'adam', 100]),\n",
       "  0.7512866409644452,\n",
       "  0.002304284608304138,\n",
       "  0.6069615811482124,\n",
       "  0.009310448297131),\n",
       " (dict_values([(15, 15), 'relu', 'adam', 150]),\n",
       "  0.7521292301572732,\n",
       "  0.0042397705388928925,\n",
       "  0.6075751593120714,\n",
       "  0.014325899842119209),\n",
       " (dict_values([(15, 15), 'relu', 'adam', 200]),\n",
       "  0.7536908695918242,\n",
       "  0.002548481736981989,\n",
       "  0.6131590514717765,\n",
       "  0.013394923539445998),\n",
       " (dict_values([(15, 15), 'relu', 'sgd', 100]),\n",
       "  0.7405349274830182,\n",
       "  0.0041854674091182905,\n",
       "  0.5487671766810082,\n",
       "  0.01979085403425542),\n",
       " (dict_values([(15, 15), 'relu', 'sgd', 150]),\n",
       "  0.7448434918303655,\n",
       "  0.004913271973759348,\n",
       "  0.5629663633009583,\n",
       "  0.02745920510883882),\n",
       " (dict_values([(15, 15), 'relu', 'sgd', 200]),\n",
       "  0.7489275442139404,\n",
       "  0.0032360932595978187,\n",
       "  0.5765767352287027,\n",
       "  0.011986076762303743)]"
      ]
     },
     "metadata": {},
     "execution_count": 18
    }
   ]
  },
  {
   "cell_type": "code",
   "metadata": {
    "id": "mcpdYz0vB7PQ"
   },
   "source": [
    "#9h21m"
   ],
   "execution_count": null,
   "outputs": []
  },
  {
   "cell_type": "code",
   "metadata": {
    "colab": {
     "base_uri": "https://localhost:8080/"
    },
    "id": "AngsSzID_EwT",
    "executionInfo": {
     "status": "ok",
     "timestamp": 1638831421792,
     "user_tz": 240,
     "elapsed": 16645164,
     "user": {
      "displayName": "Will D Mad",
      "photoUrl": "https://lh3.googleusercontent.com/a/default-user=s64",
      "userId": "17727975939014449983"
     }
    },
    "outputId": "486dfffc-456b-4918-d468-82632baf04d6"
   },
   "source": [
    "results = []\n",
    "for hidden_layer_sizes in hidden_layer_sizes_list:\n",
    "  params = base_params.copy()\n",
    "  params['hidden_layer_sizes'] = hidden_layer_sizes\n",
    "  params['activation'] = 'relu'\n",
    "  for s in solvers:\n",
    "    params['solver'] = s\n",
    "    for i in max_iters:\n",
    "      params['max_iter'] = i\n",
    "      print(params)\n",
    "      mlp_params_all, acc_mean, acc_std, f1s_mean, f1s_std = evaluate_mlp(X, y, N=N, **params)\n",
    "      summarized_mlp_params = { param_key: mlp_params_all[param_key] for param_key in param_keys }\n",
    "      results.append((summarized_mlp_params.values(), acc_mean, acc_std, f1s_mean, f1s_std))"
   ],
   "execution_count": null,
   "outputs": [
    {
     "output_type": "stream",
     "name": "stdout",
     "text": [
      "{'verbose': False, 'hidden_layer_sizes': (15, 5), 'activation': 'relu', 'solver': 'adam', 'max_iter': 100}\n"
     ]
    },
    {
     "output_type": "stream",
     "name": "stderr",
     "text": [
      "/usr/local/lib/python3.7/dist-packages/sklearn/neural_network/_multilayer_perceptron.py:696: ConvergenceWarning: Stochastic Optimizer: Maximum iterations (100) reached and the optimization hasn't converged yet.\n",
      "  ConvergenceWarning,\n",
      "/usr/local/lib/python3.7/dist-packages/sklearn/neural_network/_multilayer_perceptron.py:696: ConvergenceWarning: Stochastic Optimizer: Maximum iterations (100) reached and the optimization hasn't converged yet.\n",
      "  ConvergenceWarning,\n",
      "/usr/local/lib/python3.7/dist-packages/sklearn/neural_network/_multilayer_perceptron.py:696: ConvergenceWarning: Stochastic Optimizer: Maximum iterations (100) reached and the optimization hasn't converged yet.\n",
      "  ConvergenceWarning,\n",
      "/usr/local/lib/python3.7/dist-packages/sklearn/neural_network/_multilayer_perceptron.py:696: ConvergenceWarning: Stochastic Optimizer: Maximum iterations (100) reached and the optimization hasn't converged yet.\n",
      "  ConvergenceWarning,\n",
      "/usr/local/lib/python3.7/dist-packages/sklearn/neural_network/_multilayer_perceptron.py:696: ConvergenceWarning: Stochastic Optimizer: Maximum iterations (100) reached and the optimization hasn't converged yet.\n",
      "  ConvergenceWarning,\n",
      "/usr/local/lib/python3.7/dist-packages/sklearn/neural_network/_multilayer_perceptron.py:696: ConvergenceWarning: Stochastic Optimizer: Maximum iterations (100) reached and the optimization hasn't converged yet.\n",
      "  ConvergenceWarning,\n",
      "/usr/local/lib/python3.7/dist-packages/sklearn/neural_network/_multilayer_perceptron.py:696: ConvergenceWarning: Stochastic Optimizer: Maximum iterations (100) reached and the optimization hasn't converged yet.\n",
      "  ConvergenceWarning,\n",
      "/usr/local/lib/python3.7/dist-packages/sklearn/neural_network/_multilayer_perceptron.py:696: ConvergenceWarning: Stochastic Optimizer: Maximum iterations (100) reached and the optimization hasn't converged yet.\n",
      "  ConvergenceWarning,\n",
      "/usr/local/lib/python3.7/dist-packages/sklearn/neural_network/_multilayer_perceptron.py:696: ConvergenceWarning: Stochastic Optimizer: Maximum iterations (100) reached and the optimization hasn't converged yet.\n",
      "  ConvergenceWarning,\n",
      "/usr/local/lib/python3.7/dist-packages/sklearn/neural_network/_multilayer_perceptron.py:696: ConvergenceWarning: Stochastic Optimizer: Maximum iterations (100) reached and the optimization hasn't converged yet.\n",
      "  ConvergenceWarning,\n",
      "/usr/local/lib/python3.7/dist-packages/sklearn/neural_network/_multilayer_perceptron.py:696: ConvergenceWarning: Stochastic Optimizer: Maximum iterations (100) reached and the optimization hasn't converged yet.\n",
      "  ConvergenceWarning,\n",
      "/usr/local/lib/python3.7/dist-packages/sklearn/neural_network/_multilayer_perceptron.py:696: ConvergenceWarning: Stochastic Optimizer: Maximum iterations (100) reached and the optimization hasn't converged yet.\n",
      "  ConvergenceWarning,\n",
      "/usr/local/lib/python3.7/dist-packages/sklearn/neural_network/_multilayer_perceptron.py:696: ConvergenceWarning: Stochastic Optimizer: Maximum iterations (100) reached and the optimization hasn't converged yet.\n",
      "  ConvergenceWarning,\n"
     ]
    },
    {
     "output_type": "stream",
     "name": "stdout",
     "text": [
      "{'verbose': False, 'hidden_layer_sizes': (15, 5), 'activation': 'relu', 'solver': 'adam', 'max_iter': 150}\n"
     ]
    },
    {
     "output_type": "stream",
     "name": "stderr",
     "text": [
      "/usr/local/lib/python3.7/dist-packages/sklearn/neural_network/_multilayer_perceptron.py:696: ConvergenceWarning: Stochastic Optimizer: Maximum iterations (150) reached and the optimization hasn't converged yet.\n",
      "  ConvergenceWarning,\n",
      "/usr/local/lib/python3.7/dist-packages/sklearn/neural_network/_multilayer_perceptron.py:696: ConvergenceWarning: Stochastic Optimizer: Maximum iterations (150) reached and the optimization hasn't converged yet.\n",
      "  ConvergenceWarning,\n",
      "/usr/local/lib/python3.7/dist-packages/sklearn/neural_network/_multilayer_perceptron.py:696: ConvergenceWarning: Stochastic Optimizer: Maximum iterations (150) reached and the optimization hasn't converged yet.\n",
      "  ConvergenceWarning,\n",
      "/usr/local/lib/python3.7/dist-packages/sklearn/neural_network/_multilayer_perceptron.py:696: ConvergenceWarning: Stochastic Optimizer: Maximum iterations (150) reached and the optimization hasn't converged yet.\n",
      "  ConvergenceWarning,\n",
      "/usr/local/lib/python3.7/dist-packages/sklearn/neural_network/_multilayer_perceptron.py:696: ConvergenceWarning: Stochastic Optimizer: Maximum iterations (150) reached and the optimization hasn't converged yet.\n",
      "  ConvergenceWarning,\n",
      "/usr/local/lib/python3.7/dist-packages/sklearn/neural_network/_multilayer_perceptron.py:696: ConvergenceWarning: Stochastic Optimizer: Maximum iterations (150) reached and the optimization hasn't converged yet.\n",
      "  ConvergenceWarning,\n",
      "/usr/local/lib/python3.7/dist-packages/sklearn/neural_network/_multilayer_perceptron.py:696: ConvergenceWarning: Stochastic Optimizer: Maximum iterations (150) reached and the optimization hasn't converged yet.\n",
      "  ConvergenceWarning,\n"
     ]
    },
    {
     "output_type": "stream",
     "name": "stdout",
     "text": [
      "{'verbose': False, 'hidden_layer_sizes': (15, 5), 'activation': 'relu', 'solver': 'adam', 'max_iter': 200}\n"
     ]
    },
    {
     "output_type": "stream",
     "name": "stderr",
     "text": [
      "/usr/local/lib/python3.7/dist-packages/sklearn/neural_network/_multilayer_perceptron.py:696: ConvergenceWarning: Stochastic Optimizer: Maximum iterations (200) reached and the optimization hasn't converged yet.\n",
      "  ConvergenceWarning,\n",
      "/usr/local/lib/python3.7/dist-packages/sklearn/neural_network/_multilayer_perceptron.py:696: ConvergenceWarning: Stochastic Optimizer: Maximum iterations (200) reached and the optimization hasn't converged yet.\n",
      "  ConvergenceWarning,\n",
      "/usr/local/lib/python3.7/dist-packages/sklearn/neural_network/_multilayer_perceptron.py:696: ConvergenceWarning: Stochastic Optimizer: Maximum iterations (200) reached and the optimization hasn't converged yet.\n",
      "  ConvergenceWarning,\n"
     ]
    },
    {
     "output_type": "stream",
     "name": "stdout",
     "text": [
      "{'verbose': False, 'hidden_layer_sizes': (15, 5), 'activation': 'relu', 'solver': 'sgd', 'max_iter': 100}\n"
     ]
    },
    {
     "output_type": "stream",
     "name": "stderr",
     "text": [
      "/usr/local/lib/python3.7/dist-packages/sklearn/neural_network/_multilayer_perceptron.py:696: ConvergenceWarning: Stochastic Optimizer: Maximum iterations (100) reached and the optimization hasn't converged yet.\n",
      "  ConvergenceWarning,\n",
      "/usr/local/lib/python3.7/dist-packages/sklearn/neural_network/_multilayer_perceptron.py:696: ConvergenceWarning: Stochastic Optimizer: Maximum iterations (100) reached and the optimization hasn't converged yet.\n",
      "  ConvergenceWarning,\n",
      "/usr/local/lib/python3.7/dist-packages/sklearn/neural_network/_multilayer_perceptron.py:696: ConvergenceWarning: Stochastic Optimizer: Maximum iterations (100) reached and the optimization hasn't converged yet.\n",
      "  ConvergenceWarning,\n",
      "/usr/local/lib/python3.7/dist-packages/sklearn/neural_network/_multilayer_perceptron.py:696: ConvergenceWarning: Stochastic Optimizer: Maximum iterations (100) reached and the optimization hasn't converged yet.\n",
      "  ConvergenceWarning,\n",
      "/usr/local/lib/python3.7/dist-packages/sklearn/neural_network/_multilayer_perceptron.py:696: ConvergenceWarning: Stochastic Optimizer: Maximum iterations (100) reached and the optimization hasn't converged yet.\n",
      "  ConvergenceWarning,\n",
      "/usr/local/lib/python3.7/dist-packages/sklearn/neural_network/_multilayer_perceptron.py:696: ConvergenceWarning: Stochastic Optimizer: Maximum iterations (100) reached and the optimization hasn't converged yet.\n",
      "  ConvergenceWarning,\n",
      "/usr/local/lib/python3.7/dist-packages/sklearn/neural_network/_multilayer_perceptron.py:696: ConvergenceWarning: Stochastic Optimizer: Maximum iterations (100) reached and the optimization hasn't converged yet.\n",
      "  ConvergenceWarning,\n",
      "/usr/local/lib/python3.7/dist-packages/sklearn/neural_network/_multilayer_perceptron.py:696: ConvergenceWarning: Stochastic Optimizer: Maximum iterations (100) reached and the optimization hasn't converged yet.\n",
      "  ConvergenceWarning,\n",
      "/usr/local/lib/python3.7/dist-packages/sklearn/neural_network/_multilayer_perceptron.py:696: ConvergenceWarning: Stochastic Optimizer: Maximum iterations (100) reached and the optimization hasn't converged yet.\n",
      "  ConvergenceWarning,\n",
      "/usr/local/lib/python3.7/dist-packages/sklearn/neural_network/_multilayer_perceptron.py:696: ConvergenceWarning: Stochastic Optimizer: Maximum iterations (100) reached and the optimization hasn't converged yet.\n",
      "  ConvergenceWarning,\n",
      "/usr/local/lib/python3.7/dist-packages/sklearn/neural_network/_multilayer_perceptron.py:696: ConvergenceWarning: Stochastic Optimizer: Maximum iterations (100) reached and the optimization hasn't converged yet.\n",
      "  ConvergenceWarning,\n",
      "/usr/local/lib/python3.7/dist-packages/sklearn/neural_network/_multilayer_perceptron.py:696: ConvergenceWarning: Stochastic Optimizer: Maximum iterations (100) reached and the optimization hasn't converged yet.\n",
      "  ConvergenceWarning,\n",
      "/usr/local/lib/python3.7/dist-packages/sklearn/neural_network/_multilayer_perceptron.py:696: ConvergenceWarning: Stochastic Optimizer: Maximum iterations (100) reached and the optimization hasn't converged yet.\n",
      "  ConvergenceWarning,\n",
      "/usr/local/lib/python3.7/dist-packages/sklearn/neural_network/_multilayer_perceptron.py:696: ConvergenceWarning: Stochastic Optimizer: Maximum iterations (100) reached and the optimization hasn't converged yet.\n",
      "  ConvergenceWarning,\n",
      "/usr/local/lib/python3.7/dist-packages/sklearn/neural_network/_multilayer_perceptron.py:696: ConvergenceWarning: Stochastic Optimizer: Maximum iterations (100) reached and the optimization hasn't converged yet.\n",
      "  ConvergenceWarning,\n"
     ]
    },
    {
     "output_type": "stream",
     "name": "stdout",
     "text": [
      "{'verbose': False, 'hidden_layer_sizes': (15, 5), 'activation': 'relu', 'solver': 'sgd', 'max_iter': 150}\n"
     ]
    },
    {
     "output_type": "stream",
     "name": "stderr",
     "text": [
      "/usr/local/lib/python3.7/dist-packages/sklearn/neural_network/_multilayer_perceptron.py:696: ConvergenceWarning: Stochastic Optimizer: Maximum iterations (150) reached and the optimization hasn't converged yet.\n",
      "  ConvergenceWarning,\n",
      "/usr/local/lib/python3.7/dist-packages/sklearn/neural_network/_multilayer_perceptron.py:696: ConvergenceWarning: Stochastic Optimizer: Maximum iterations (150) reached and the optimization hasn't converged yet.\n",
      "  ConvergenceWarning,\n",
      "/usr/local/lib/python3.7/dist-packages/sklearn/neural_network/_multilayer_perceptron.py:696: ConvergenceWarning: Stochastic Optimizer: Maximum iterations (150) reached and the optimization hasn't converged yet.\n",
      "  ConvergenceWarning,\n",
      "/usr/local/lib/python3.7/dist-packages/sklearn/neural_network/_multilayer_perceptron.py:696: ConvergenceWarning: Stochastic Optimizer: Maximum iterations (150) reached and the optimization hasn't converged yet.\n",
      "  ConvergenceWarning,\n",
      "/usr/local/lib/python3.7/dist-packages/sklearn/neural_network/_multilayer_perceptron.py:696: ConvergenceWarning: Stochastic Optimizer: Maximum iterations (150) reached and the optimization hasn't converged yet.\n",
      "  ConvergenceWarning,\n",
      "/usr/local/lib/python3.7/dist-packages/sklearn/neural_network/_multilayer_perceptron.py:696: ConvergenceWarning: Stochastic Optimizer: Maximum iterations (150) reached and the optimization hasn't converged yet.\n",
      "  ConvergenceWarning,\n",
      "/usr/local/lib/python3.7/dist-packages/sklearn/neural_network/_multilayer_perceptron.py:696: ConvergenceWarning: Stochastic Optimizer: Maximum iterations (150) reached and the optimization hasn't converged yet.\n",
      "  ConvergenceWarning,\n",
      "/usr/local/lib/python3.7/dist-packages/sklearn/neural_network/_multilayer_perceptron.py:696: ConvergenceWarning: Stochastic Optimizer: Maximum iterations (150) reached and the optimization hasn't converged yet.\n",
      "  ConvergenceWarning,\n",
      "/usr/local/lib/python3.7/dist-packages/sklearn/neural_network/_multilayer_perceptron.py:696: ConvergenceWarning: Stochastic Optimizer: Maximum iterations (150) reached and the optimization hasn't converged yet.\n",
      "  ConvergenceWarning,\n",
      "/usr/local/lib/python3.7/dist-packages/sklearn/neural_network/_multilayer_perceptron.py:696: ConvergenceWarning: Stochastic Optimizer: Maximum iterations (150) reached and the optimization hasn't converged yet.\n",
      "  ConvergenceWarning,\n",
      "/usr/local/lib/python3.7/dist-packages/sklearn/neural_network/_multilayer_perceptron.py:696: ConvergenceWarning: Stochastic Optimizer: Maximum iterations (150) reached and the optimization hasn't converged yet.\n",
      "  ConvergenceWarning,\n",
      "/usr/local/lib/python3.7/dist-packages/sklearn/neural_network/_multilayer_perceptron.py:696: ConvergenceWarning: Stochastic Optimizer: Maximum iterations (150) reached and the optimization hasn't converged yet.\n",
      "  ConvergenceWarning,\n",
      "/usr/local/lib/python3.7/dist-packages/sklearn/neural_network/_multilayer_perceptron.py:696: ConvergenceWarning: Stochastic Optimizer: Maximum iterations (150) reached and the optimization hasn't converged yet.\n",
      "  ConvergenceWarning,\n",
      "/usr/local/lib/python3.7/dist-packages/sklearn/neural_network/_multilayer_perceptron.py:696: ConvergenceWarning: Stochastic Optimizer: Maximum iterations (150) reached and the optimization hasn't converged yet.\n",
      "  ConvergenceWarning,\n",
      "/usr/local/lib/python3.7/dist-packages/sklearn/neural_network/_multilayer_perceptron.py:696: ConvergenceWarning: Stochastic Optimizer: Maximum iterations (150) reached and the optimization hasn't converged yet.\n",
      "  ConvergenceWarning,\n"
     ]
    },
    {
     "output_type": "stream",
     "name": "stdout",
     "text": [
      "{'verbose': False, 'hidden_layer_sizes': (15, 5), 'activation': 'relu', 'solver': 'sgd', 'max_iter': 200}\n"
     ]
    },
    {
     "output_type": "stream",
     "name": "stderr",
     "text": [
      "/usr/local/lib/python3.7/dist-packages/sklearn/neural_network/_multilayer_perceptron.py:696: ConvergenceWarning: Stochastic Optimizer: Maximum iterations (200) reached and the optimization hasn't converged yet.\n",
      "  ConvergenceWarning,\n",
      "/usr/local/lib/python3.7/dist-packages/sklearn/neural_network/_multilayer_perceptron.py:696: ConvergenceWarning: Stochastic Optimizer: Maximum iterations (200) reached and the optimization hasn't converged yet.\n",
      "  ConvergenceWarning,\n",
      "/usr/local/lib/python3.7/dist-packages/sklearn/neural_network/_multilayer_perceptron.py:696: ConvergenceWarning: Stochastic Optimizer: Maximum iterations (200) reached and the optimization hasn't converged yet.\n",
      "  ConvergenceWarning,\n",
      "/usr/local/lib/python3.7/dist-packages/sklearn/neural_network/_multilayer_perceptron.py:696: ConvergenceWarning: Stochastic Optimizer: Maximum iterations (200) reached and the optimization hasn't converged yet.\n",
      "  ConvergenceWarning,\n",
      "/usr/local/lib/python3.7/dist-packages/sklearn/neural_network/_multilayer_perceptron.py:696: ConvergenceWarning: Stochastic Optimizer: Maximum iterations (200) reached and the optimization hasn't converged yet.\n",
      "  ConvergenceWarning,\n",
      "/usr/local/lib/python3.7/dist-packages/sklearn/neural_network/_multilayer_perceptron.py:696: ConvergenceWarning: Stochastic Optimizer: Maximum iterations (200) reached and the optimization hasn't converged yet.\n",
      "  ConvergenceWarning,\n",
      "/usr/local/lib/python3.7/dist-packages/sklearn/neural_network/_multilayer_perceptron.py:696: ConvergenceWarning: Stochastic Optimizer: Maximum iterations (200) reached and the optimization hasn't converged yet.\n",
      "  ConvergenceWarning,\n",
      "/usr/local/lib/python3.7/dist-packages/sklearn/neural_network/_multilayer_perceptron.py:696: ConvergenceWarning: Stochastic Optimizer: Maximum iterations (200) reached and the optimization hasn't converged yet.\n",
      "  ConvergenceWarning,\n"
     ]
    }
   ]
  },
  {
   "cell_type": "code",
   "metadata": {
    "colab": {
     "base_uri": "https://localhost:8080/"
    },
    "id": "hRKIHGTj_Ewv",
    "executionInfo": {
     "status": "ok",
     "timestamp": 1638831423654,
     "user_tz": 240,
     "elapsed": 6,
     "user": {
      "displayName": "Will D Mad",
      "photoUrl": "https://lh3.googleusercontent.com/a/default-user=s64",
      "userId": "17727975939014449983"
     }
    },
    "outputId": "f8ea6106-0df2-4cd1-dad7-1234d471a9e9"
   },
   "source": [
    "results"
   ],
   "execution_count": null,
   "outputs": [
    {
     "output_type": "execute_result",
     "data": {
      "text/plain": [
       "[(dict_values([(15, 5), 'relu', 'adam', 100]),\n",
       "  0.7318558380760052,\n",
       "  0.0036664064074808096,\n",
       "  0.545574918737118,\n",
       "  0.016229287481414837),\n",
       " (dict_values([(15, 5), 'relu', 'adam', 150]),\n",
       "  0.7312913071415459,\n",
       "  0.00439890590206203,\n",
       "  0.5374700236820792,\n",
       "  0.019954833971513115),\n",
       " (dict_values([(15, 5), 'relu', 'adam', 200]),\n",
       "  0.7333551343247049,\n",
       "  0.005311091075206219,\n",
       "  0.552094423769405,\n",
       "  0.014354399825830342),\n",
       " (dict_values([(15, 5), 'relu', 'sgd', 100]),\n",
       "  0.7243536197295147,\n",
       "  0.002315650430647485,\n",
       "  0.48676585022008595,\n",
       "  0.03573684454331189),\n",
       " (dict_values([(15, 5), 'relu', 'sgd', 150]),\n",
       "  0.7293846765803808,\n",
       "  0.0038161983622348617,\n",
       "  0.4952775319523584,\n",
       "  0.022871992708061013),\n",
       " (dict_values([(15, 5), 'relu', 'sgd', 200]),\n",
       "  0.7288851661465028,\n",
       "  0.0033169452129823843,\n",
       "  0.5069947526867756,\n",
       "  0.026962292626929233)]"
      ]
     },
     "metadata": {},
     "execution_count": 15
    }
   ]
  },
  {
   "cell_type": "code",
   "metadata": {
    "id": "Q4O-L_ER-VWc"
   },
   "source": [
    "#4h37m"
   ],
   "execution_count": null,
   "outputs": []
  },
  {
   "cell_type": "code",
   "metadata": {
    "colab": {
     "base_uri": "https://localhost:8080/"
    },
    "id": "oktupKNW_VBW",
    "executionInfo": {
     "status": "ok",
     "timestamp": 1638830878435,
     "user_tz": 240,
     "elapsed": 16031153,
     "user": {
      "displayName": "Willyan Dyeno Santos",
      "photoUrl": "https://lh3.googleusercontent.com/a-/AOh14Gg15ND6_SutUqJBMqNACnd8xmHyUihzsMdyJ7ub=s64",
      "userId": "02840806053201770774"
     }
    },
    "outputId": "d6384e2d-2512-4045-89c3-fd22f5a453fa"
   },
   "source": [
    "results = []\n",
    "for hidden_layer_sizes in hidden_layer_sizes_list:\n",
    "  params = base_params.copy()\n",
    "  params['hidden_layer_sizes'] = hidden_layer_sizes\n",
    "  params['activation'] = 'relu'\n",
    "  for s in solvers:\n",
    "    params['solver'] = s\n",
    "    for i in max_iters:\n",
    "      params['max_iter'] = i\n",
    "      print(params)\n",
    "      mlp_params_all, acc_mean, acc_std, f1s_mean, f1s_std = evaluate_mlp(X, y, N=N, **params)\n",
    "      summarized_mlp_params = { param_key: mlp_params_all[param_key] for param_key in param_keys }\n",
    "      results.append((summarized_mlp_params.values(), acc_mean, acc_std, f1s_mean, f1s_std))"
   ],
   "execution_count": null,
   "outputs": [
    {
     "output_type": "stream",
     "name": "stdout",
     "text": [
      "{'verbose': False, 'hidden_layer_sizes': (15, 10), 'activation': 'relu', 'solver': 'adam', 'max_iter': 100}\n"
     ]
    },
    {
     "output_type": "stream",
     "name": "stderr",
     "text": [
      "/usr/local/lib/python3.7/dist-packages/sklearn/neural_network/_multilayer_perceptron.py:696: ConvergenceWarning: Stochastic Optimizer: Maximum iterations (100) reached and the optimization hasn't converged yet.\n",
      "  ConvergenceWarning,\n",
      "/usr/local/lib/python3.7/dist-packages/sklearn/neural_network/_multilayer_perceptron.py:696: ConvergenceWarning: Stochastic Optimizer: Maximum iterations (100) reached and the optimization hasn't converged yet.\n",
      "  ConvergenceWarning,\n",
      "/usr/local/lib/python3.7/dist-packages/sklearn/neural_network/_multilayer_perceptron.py:696: ConvergenceWarning: Stochastic Optimizer: Maximum iterations (100) reached and the optimization hasn't converged yet.\n",
      "  ConvergenceWarning,\n",
      "/usr/local/lib/python3.7/dist-packages/sklearn/neural_network/_multilayer_perceptron.py:696: ConvergenceWarning: Stochastic Optimizer: Maximum iterations (100) reached and the optimization hasn't converged yet.\n",
      "  ConvergenceWarning,\n",
      "/usr/local/lib/python3.7/dist-packages/sklearn/neural_network/_multilayer_perceptron.py:696: ConvergenceWarning: Stochastic Optimizer: Maximum iterations (100) reached and the optimization hasn't converged yet.\n",
      "  ConvergenceWarning,\n",
      "/usr/local/lib/python3.7/dist-packages/sklearn/neural_network/_multilayer_perceptron.py:696: ConvergenceWarning: Stochastic Optimizer: Maximum iterations (100) reached and the optimization hasn't converged yet.\n",
      "  ConvergenceWarning,\n",
      "/usr/local/lib/python3.7/dist-packages/sklearn/neural_network/_multilayer_perceptron.py:696: ConvergenceWarning: Stochastic Optimizer: Maximum iterations (100) reached and the optimization hasn't converged yet.\n",
      "  ConvergenceWarning,\n",
      "/usr/local/lib/python3.7/dist-packages/sklearn/neural_network/_multilayer_perceptron.py:696: ConvergenceWarning: Stochastic Optimizer: Maximum iterations (100) reached and the optimization hasn't converged yet.\n",
      "  ConvergenceWarning,\n",
      "/usr/local/lib/python3.7/dist-packages/sklearn/neural_network/_multilayer_perceptron.py:696: ConvergenceWarning: Stochastic Optimizer: Maximum iterations (100) reached and the optimization hasn't converged yet.\n",
      "  ConvergenceWarning,\n",
      "/usr/local/lib/python3.7/dist-packages/sklearn/neural_network/_multilayer_perceptron.py:696: ConvergenceWarning: Stochastic Optimizer: Maximum iterations (100) reached and the optimization hasn't converged yet.\n",
      "  ConvergenceWarning,\n",
      "/usr/local/lib/python3.7/dist-packages/sklearn/neural_network/_multilayer_perceptron.py:696: ConvergenceWarning: Stochastic Optimizer: Maximum iterations (100) reached and the optimization hasn't converged yet.\n",
      "  ConvergenceWarning,\n",
      "/usr/local/lib/python3.7/dist-packages/sklearn/neural_network/_multilayer_perceptron.py:696: ConvergenceWarning: Stochastic Optimizer: Maximum iterations (100) reached and the optimization hasn't converged yet.\n",
      "  ConvergenceWarning,\n",
      "/usr/local/lib/python3.7/dist-packages/sklearn/neural_network/_multilayer_perceptron.py:696: ConvergenceWarning: Stochastic Optimizer: Maximum iterations (100) reached and the optimization hasn't converged yet.\n",
      "  ConvergenceWarning,\n",
      "/usr/local/lib/python3.7/dist-packages/sklearn/neural_network/_multilayer_perceptron.py:696: ConvergenceWarning: Stochastic Optimizer: Maximum iterations (100) reached and the optimization hasn't converged yet.\n",
      "  ConvergenceWarning,\n",
      "/usr/local/lib/python3.7/dist-packages/sklearn/neural_network/_multilayer_perceptron.py:696: ConvergenceWarning: Stochastic Optimizer: Maximum iterations (100) reached and the optimization hasn't converged yet.\n",
      "  ConvergenceWarning,\n"
     ]
    },
    {
     "output_type": "stream",
     "name": "stdout",
     "text": [
      "{'verbose': False, 'hidden_layer_sizes': (15, 10), 'activation': 'relu', 'solver': 'adam', 'max_iter': 150}\n"
     ]
    },
    {
     "output_type": "stream",
     "name": "stderr",
     "text": [
      "/usr/local/lib/python3.7/dist-packages/sklearn/neural_network/_multilayer_perceptron.py:696: ConvergenceWarning: Stochastic Optimizer: Maximum iterations (150) reached and the optimization hasn't converged yet.\n",
      "  ConvergenceWarning,\n",
      "/usr/local/lib/python3.7/dist-packages/sklearn/neural_network/_multilayer_perceptron.py:696: ConvergenceWarning: Stochastic Optimizer: Maximum iterations (150) reached and the optimization hasn't converged yet.\n",
      "  ConvergenceWarning,\n",
      "/usr/local/lib/python3.7/dist-packages/sklearn/neural_network/_multilayer_perceptron.py:696: ConvergenceWarning: Stochastic Optimizer: Maximum iterations (150) reached and the optimization hasn't converged yet.\n",
      "  ConvergenceWarning,\n",
      "/usr/local/lib/python3.7/dist-packages/sklearn/neural_network/_multilayer_perceptron.py:696: ConvergenceWarning: Stochastic Optimizer: Maximum iterations (150) reached and the optimization hasn't converged yet.\n",
      "  ConvergenceWarning,\n",
      "/usr/local/lib/python3.7/dist-packages/sklearn/neural_network/_multilayer_perceptron.py:696: ConvergenceWarning: Stochastic Optimizer: Maximum iterations (150) reached and the optimization hasn't converged yet.\n",
      "  ConvergenceWarning,\n",
      "/usr/local/lib/python3.7/dist-packages/sklearn/neural_network/_multilayer_perceptron.py:696: ConvergenceWarning: Stochastic Optimizer: Maximum iterations (150) reached and the optimization hasn't converged yet.\n",
      "  ConvergenceWarning,\n",
      "/usr/local/lib/python3.7/dist-packages/sklearn/neural_network/_multilayer_perceptron.py:696: ConvergenceWarning: Stochastic Optimizer: Maximum iterations (150) reached and the optimization hasn't converged yet.\n",
      "  ConvergenceWarning,\n",
      "/usr/local/lib/python3.7/dist-packages/sklearn/neural_network/_multilayer_perceptron.py:696: ConvergenceWarning: Stochastic Optimizer: Maximum iterations (150) reached and the optimization hasn't converged yet.\n",
      "  ConvergenceWarning,\n",
      "/usr/local/lib/python3.7/dist-packages/sklearn/neural_network/_multilayer_perceptron.py:696: ConvergenceWarning: Stochastic Optimizer: Maximum iterations (150) reached and the optimization hasn't converged yet.\n",
      "  ConvergenceWarning,\n",
      "/usr/local/lib/python3.7/dist-packages/sklearn/neural_network/_multilayer_perceptron.py:696: ConvergenceWarning: Stochastic Optimizer: Maximum iterations (150) reached and the optimization hasn't converged yet.\n",
      "  ConvergenceWarning,\n",
      "/usr/local/lib/python3.7/dist-packages/sklearn/neural_network/_multilayer_perceptron.py:696: ConvergenceWarning: Stochastic Optimizer: Maximum iterations (150) reached and the optimization hasn't converged yet.\n",
      "  ConvergenceWarning,\n",
      "/usr/local/lib/python3.7/dist-packages/sklearn/neural_network/_multilayer_perceptron.py:696: ConvergenceWarning: Stochastic Optimizer: Maximum iterations (150) reached and the optimization hasn't converged yet.\n",
      "  ConvergenceWarning,\n",
      "/usr/local/lib/python3.7/dist-packages/sklearn/neural_network/_multilayer_perceptron.py:696: ConvergenceWarning: Stochastic Optimizer: Maximum iterations (150) reached and the optimization hasn't converged yet.\n",
      "  ConvergenceWarning,\n",
      "/usr/local/lib/python3.7/dist-packages/sklearn/neural_network/_multilayer_perceptron.py:696: ConvergenceWarning: Stochastic Optimizer: Maximum iterations (150) reached and the optimization hasn't converged yet.\n",
      "  ConvergenceWarning,\n"
     ]
    },
    {
     "output_type": "stream",
     "name": "stdout",
     "text": [
      "{'verbose': False, 'hidden_layer_sizes': (15, 10), 'activation': 'relu', 'solver': 'adam', 'max_iter': 200}\n"
     ]
    },
    {
     "output_type": "stream",
     "name": "stderr",
     "text": [
      "/usr/local/lib/python3.7/dist-packages/sklearn/neural_network/_multilayer_perceptron.py:696: ConvergenceWarning: Stochastic Optimizer: Maximum iterations (200) reached and the optimization hasn't converged yet.\n",
      "  ConvergenceWarning,\n",
      "/usr/local/lib/python3.7/dist-packages/sklearn/neural_network/_multilayer_perceptron.py:696: ConvergenceWarning: Stochastic Optimizer: Maximum iterations (200) reached and the optimization hasn't converged yet.\n",
      "  ConvergenceWarning,\n",
      "/usr/local/lib/python3.7/dist-packages/sklearn/neural_network/_multilayer_perceptron.py:696: ConvergenceWarning: Stochastic Optimizer: Maximum iterations (200) reached and the optimization hasn't converged yet.\n",
      "  ConvergenceWarning,\n",
      "/usr/local/lib/python3.7/dist-packages/sklearn/neural_network/_multilayer_perceptron.py:696: ConvergenceWarning: Stochastic Optimizer: Maximum iterations (200) reached and the optimization hasn't converged yet.\n",
      "  ConvergenceWarning,\n",
      "/usr/local/lib/python3.7/dist-packages/sklearn/neural_network/_multilayer_perceptron.py:696: ConvergenceWarning: Stochastic Optimizer: Maximum iterations (200) reached and the optimization hasn't converged yet.\n",
      "  ConvergenceWarning,\n",
      "/usr/local/lib/python3.7/dist-packages/sklearn/neural_network/_multilayer_perceptron.py:696: ConvergenceWarning: Stochastic Optimizer: Maximum iterations (200) reached and the optimization hasn't converged yet.\n",
      "  ConvergenceWarning,\n",
      "/usr/local/lib/python3.7/dist-packages/sklearn/neural_network/_multilayer_perceptron.py:696: ConvergenceWarning: Stochastic Optimizer: Maximum iterations (200) reached and the optimization hasn't converged yet.\n",
      "  ConvergenceWarning,\n",
      "/usr/local/lib/python3.7/dist-packages/sklearn/neural_network/_multilayer_perceptron.py:696: ConvergenceWarning: Stochastic Optimizer: Maximum iterations (200) reached and the optimization hasn't converged yet.\n",
      "  ConvergenceWarning,\n",
      "/usr/local/lib/python3.7/dist-packages/sklearn/neural_network/_multilayer_perceptron.py:696: ConvergenceWarning: Stochastic Optimizer: Maximum iterations (200) reached and the optimization hasn't converged yet.\n",
      "  ConvergenceWarning,\n"
     ]
    },
    {
     "output_type": "stream",
     "name": "stdout",
     "text": [
      "{'verbose': False, 'hidden_layer_sizes': (15, 10), 'activation': 'relu', 'solver': 'sgd', 'max_iter': 100}\n"
     ]
    },
    {
     "output_type": "stream",
     "name": "stderr",
     "text": [
      "/usr/local/lib/python3.7/dist-packages/sklearn/neural_network/_multilayer_perceptron.py:696: ConvergenceWarning: Stochastic Optimizer: Maximum iterations (100) reached and the optimization hasn't converged yet.\n",
      "  ConvergenceWarning,\n",
      "/usr/local/lib/python3.7/dist-packages/sklearn/neural_network/_multilayer_perceptron.py:696: ConvergenceWarning: Stochastic Optimizer: Maximum iterations (100) reached and the optimization hasn't converged yet.\n",
      "  ConvergenceWarning,\n",
      "/usr/local/lib/python3.7/dist-packages/sklearn/neural_network/_multilayer_perceptron.py:696: ConvergenceWarning: Stochastic Optimizer: Maximum iterations (100) reached and the optimization hasn't converged yet.\n",
      "  ConvergenceWarning,\n",
      "/usr/local/lib/python3.7/dist-packages/sklearn/neural_network/_multilayer_perceptron.py:696: ConvergenceWarning: Stochastic Optimizer: Maximum iterations (100) reached and the optimization hasn't converged yet.\n",
      "  ConvergenceWarning,\n",
      "/usr/local/lib/python3.7/dist-packages/sklearn/neural_network/_multilayer_perceptron.py:696: ConvergenceWarning: Stochastic Optimizer: Maximum iterations (100) reached and the optimization hasn't converged yet.\n",
      "  ConvergenceWarning,\n",
      "/usr/local/lib/python3.7/dist-packages/sklearn/neural_network/_multilayer_perceptron.py:696: ConvergenceWarning: Stochastic Optimizer: Maximum iterations (100) reached and the optimization hasn't converged yet.\n",
      "  ConvergenceWarning,\n",
      "/usr/local/lib/python3.7/dist-packages/sklearn/neural_network/_multilayer_perceptron.py:696: ConvergenceWarning: Stochastic Optimizer: Maximum iterations (100) reached and the optimization hasn't converged yet.\n",
      "  ConvergenceWarning,\n",
      "/usr/local/lib/python3.7/dist-packages/sklearn/neural_network/_multilayer_perceptron.py:696: ConvergenceWarning: Stochastic Optimizer: Maximum iterations (100) reached and the optimization hasn't converged yet.\n",
      "  ConvergenceWarning,\n",
      "/usr/local/lib/python3.7/dist-packages/sklearn/neural_network/_multilayer_perceptron.py:696: ConvergenceWarning: Stochastic Optimizer: Maximum iterations (100) reached and the optimization hasn't converged yet.\n",
      "  ConvergenceWarning,\n",
      "/usr/local/lib/python3.7/dist-packages/sklearn/neural_network/_multilayer_perceptron.py:696: ConvergenceWarning: Stochastic Optimizer: Maximum iterations (100) reached and the optimization hasn't converged yet.\n",
      "  ConvergenceWarning,\n",
      "/usr/local/lib/python3.7/dist-packages/sklearn/neural_network/_multilayer_perceptron.py:696: ConvergenceWarning: Stochastic Optimizer: Maximum iterations (100) reached and the optimization hasn't converged yet.\n",
      "  ConvergenceWarning,\n",
      "/usr/local/lib/python3.7/dist-packages/sklearn/neural_network/_multilayer_perceptron.py:696: ConvergenceWarning: Stochastic Optimizer: Maximum iterations (100) reached and the optimization hasn't converged yet.\n",
      "  ConvergenceWarning,\n",
      "/usr/local/lib/python3.7/dist-packages/sklearn/neural_network/_multilayer_perceptron.py:696: ConvergenceWarning: Stochastic Optimizer: Maximum iterations (100) reached and the optimization hasn't converged yet.\n",
      "  ConvergenceWarning,\n",
      "/usr/local/lib/python3.7/dist-packages/sklearn/neural_network/_multilayer_perceptron.py:696: ConvergenceWarning: Stochastic Optimizer: Maximum iterations (100) reached and the optimization hasn't converged yet.\n",
      "  ConvergenceWarning,\n",
      "/usr/local/lib/python3.7/dist-packages/sklearn/neural_network/_multilayer_perceptron.py:696: ConvergenceWarning: Stochastic Optimizer: Maximum iterations (100) reached and the optimization hasn't converged yet.\n",
      "  ConvergenceWarning,\n"
     ]
    },
    {
     "output_type": "stream",
     "name": "stdout",
     "text": [
      "{'verbose': False, 'hidden_layer_sizes': (15, 10), 'activation': 'relu', 'solver': 'sgd', 'max_iter': 150}\n"
     ]
    },
    {
     "output_type": "stream",
     "name": "stderr",
     "text": [
      "/usr/local/lib/python3.7/dist-packages/sklearn/neural_network/_multilayer_perceptron.py:696: ConvergenceWarning: Stochastic Optimizer: Maximum iterations (150) reached and the optimization hasn't converged yet.\n",
      "  ConvergenceWarning,\n",
      "/usr/local/lib/python3.7/dist-packages/sklearn/neural_network/_multilayer_perceptron.py:696: ConvergenceWarning: Stochastic Optimizer: Maximum iterations (150) reached and the optimization hasn't converged yet.\n",
      "  ConvergenceWarning,\n",
      "/usr/local/lib/python3.7/dist-packages/sklearn/neural_network/_multilayer_perceptron.py:696: ConvergenceWarning: Stochastic Optimizer: Maximum iterations (150) reached and the optimization hasn't converged yet.\n",
      "  ConvergenceWarning,\n",
      "/usr/local/lib/python3.7/dist-packages/sklearn/neural_network/_multilayer_perceptron.py:696: ConvergenceWarning: Stochastic Optimizer: Maximum iterations (150) reached and the optimization hasn't converged yet.\n",
      "  ConvergenceWarning,\n",
      "/usr/local/lib/python3.7/dist-packages/sklearn/neural_network/_multilayer_perceptron.py:696: ConvergenceWarning: Stochastic Optimizer: Maximum iterations (150) reached and the optimization hasn't converged yet.\n",
      "  ConvergenceWarning,\n",
      "/usr/local/lib/python3.7/dist-packages/sklearn/neural_network/_multilayer_perceptron.py:696: ConvergenceWarning: Stochastic Optimizer: Maximum iterations (150) reached and the optimization hasn't converged yet.\n",
      "  ConvergenceWarning,\n",
      "/usr/local/lib/python3.7/dist-packages/sklearn/neural_network/_multilayer_perceptron.py:696: ConvergenceWarning: Stochastic Optimizer: Maximum iterations (150) reached and the optimization hasn't converged yet.\n",
      "  ConvergenceWarning,\n",
      "/usr/local/lib/python3.7/dist-packages/sklearn/neural_network/_multilayer_perceptron.py:696: ConvergenceWarning: Stochastic Optimizer: Maximum iterations (150) reached and the optimization hasn't converged yet.\n",
      "  ConvergenceWarning,\n",
      "/usr/local/lib/python3.7/dist-packages/sklearn/neural_network/_multilayer_perceptron.py:696: ConvergenceWarning: Stochastic Optimizer: Maximum iterations (150) reached and the optimization hasn't converged yet.\n",
      "  ConvergenceWarning,\n",
      "/usr/local/lib/python3.7/dist-packages/sklearn/neural_network/_multilayer_perceptron.py:696: ConvergenceWarning: Stochastic Optimizer: Maximum iterations (150) reached and the optimization hasn't converged yet.\n",
      "  ConvergenceWarning,\n",
      "/usr/local/lib/python3.7/dist-packages/sklearn/neural_network/_multilayer_perceptron.py:696: ConvergenceWarning: Stochastic Optimizer: Maximum iterations (150) reached and the optimization hasn't converged yet.\n",
      "  ConvergenceWarning,\n",
      "/usr/local/lib/python3.7/dist-packages/sklearn/neural_network/_multilayer_perceptron.py:696: ConvergenceWarning: Stochastic Optimizer: Maximum iterations (150) reached and the optimization hasn't converged yet.\n",
      "  ConvergenceWarning,\n",
      "/usr/local/lib/python3.7/dist-packages/sklearn/neural_network/_multilayer_perceptron.py:696: ConvergenceWarning: Stochastic Optimizer: Maximum iterations (150) reached and the optimization hasn't converged yet.\n",
      "  ConvergenceWarning,\n",
      "/usr/local/lib/python3.7/dist-packages/sklearn/neural_network/_multilayer_perceptron.py:696: ConvergenceWarning: Stochastic Optimizer: Maximum iterations (150) reached and the optimization hasn't converged yet.\n",
      "  ConvergenceWarning,\n",
      "/usr/local/lib/python3.7/dist-packages/sklearn/neural_network/_multilayer_perceptron.py:696: ConvergenceWarning: Stochastic Optimizer: Maximum iterations (150) reached and the optimization hasn't converged yet.\n",
      "  ConvergenceWarning,\n"
     ]
    },
    {
     "output_type": "stream",
     "name": "stdout",
     "text": [
      "{'verbose': False, 'hidden_layer_sizes': (15, 10), 'activation': 'relu', 'solver': 'sgd', 'max_iter': 200}\n"
     ]
    },
    {
     "output_type": "stream",
     "name": "stderr",
     "text": [
      "/usr/local/lib/python3.7/dist-packages/sklearn/neural_network/_multilayer_perceptron.py:696: ConvergenceWarning: Stochastic Optimizer: Maximum iterations (200) reached and the optimization hasn't converged yet.\n",
      "  ConvergenceWarning,\n",
      "/usr/local/lib/python3.7/dist-packages/sklearn/neural_network/_multilayer_perceptron.py:696: ConvergenceWarning: Stochastic Optimizer: Maximum iterations (200) reached and the optimization hasn't converged yet.\n",
      "  ConvergenceWarning,\n",
      "/usr/local/lib/python3.7/dist-packages/sklearn/neural_network/_multilayer_perceptron.py:696: ConvergenceWarning: Stochastic Optimizer: Maximum iterations (200) reached and the optimization hasn't converged yet.\n",
      "  ConvergenceWarning,\n",
      "/usr/local/lib/python3.7/dist-packages/sklearn/neural_network/_multilayer_perceptron.py:696: ConvergenceWarning: Stochastic Optimizer: Maximum iterations (200) reached and the optimization hasn't converged yet.\n",
      "  ConvergenceWarning,\n",
      "/usr/local/lib/python3.7/dist-packages/sklearn/neural_network/_multilayer_perceptron.py:696: ConvergenceWarning: Stochastic Optimizer: Maximum iterations (200) reached and the optimization hasn't converged yet.\n",
      "  ConvergenceWarning,\n",
      "/usr/local/lib/python3.7/dist-packages/sklearn/neural_network/_multilayer_perceptron.py:696: ConvergenceWarning: Stochastic Optimizer: Maximum iterations (200) reached and the optimization hasn't converged yet.\n",
      "  ConvergenceWarning,\n",
      "/usr/local/lib/python3.7/dist-packages/sklearn/neural_network/_multilayer_perceptron.py:696: ConvergenceWarning: Stochastic Optimizer: Maximum iterations (200) reached and the optimization hasn't converged yet.\n",
      "  ConvergenceWarning,\n",
      "/usr/local/lib/python3.7/dist-packages/sklearn/neural_network/_multilayer_perceptron.py:696: ConvergenceWarning: Stochastic Optimizer: Maximum iterations (200) reached and the optimization hasn't converged yet.\n",
      "  ConvergenceWarning,\n",
      "/usr/local/lib/python3.7/dist-packages/sklearn/neural_network/_multilayer_perceptron.py:696: ConvergenceWarning: Stochastic Optimizer: Maximum iterations (200) reached and the optimization hasn't converged yet.\n",
      "  ConvergenceWarning,\n",
      "/usr/local/lib/python3.7/dist-packages/sklearn/neural_network/_multilayer_perceptron.py:696: ConvergenceWarning: Stochastic Optimizer: Maximum iterations (200) reached and the optimization hasn't converged yet.\n",
      "  ConvergenceWarning,\n",
      "/usr/local/lib/python3.7/dist-packages/sklearn/neural_network/_multilayer_perceptron.py:696: ConvergenceWarning: Stochastic Optimizer: Maximum iterations (200) reached and the optimization hasn't converged yet.\n",
      "  ConvergenceWarning,\n",
      "/usr/local/lib/python3.7/dist-packages/sklearn/neural_network/_multilayer_perceptron.py:696: ConvergenceWarning: Stochastic Optimizer: Maximum iterations (200) reached and the optimization hasn't converged yet.\n",
      "  ConvergenceWarning,\n",
      "/usr/local/lib/python3.7/dist-packages/sklearn/neural_network/_multilayer_perceptron.py:696: ConvergenceWarning: Stochastic Optimizer: Maximum iterations (200) reached and the optimization hasn't converged yet.\n",
      "  ConvergenceWarning,\n",
      "/usr/local/lib/python3.7/dist-packages/sklearn/neural_network/_multilayer_perceptron.py:696: ConvergenceWarning: Stochastic Optimizer: Maximum iterations (200) reached and the optimization hasn't converged yet.\n",
      "  ConvergenceWarning,\n"
     ]
    }
   ]
  },
  {
   "cell_type": "code",
   "metadata": {
    "colab": {
     "base_uri": "https://localhost:8080/"
    },
    "id": "FbJt1iA8_VBZ",
    "executionInfo": {
     "status": "ok",
     "timestamp": 1638830878436,
     "user_tz": 240,
     "elapsed": 14,
     "user": {
      "displayName": "Willyan Dyeno Santos",
      "photoUrl": "https://lh3.googleusercontent.com/a-/AOh14Gg15ND6_SutUqJBMqNACnd8xmHyUihzsMdyJ7ub=s64",
      "userId": "02840806053201770774"
     }
    },
    "outputId": "daece5f5-494e-420b-a105-e4a753e18730"
   },
   "source": [
    "results"
   ],
   "execution_count": null,
   "outputs": [
    {
     "output_type": "execute_result",
     "data": {
      "text/plain": [
       "[(dict_values([(15, 10), 'relu', 'adam', 100]),\n",
       "  0.7416490728841564,\n",
       "  0.004709275541797526,\n",
       "  0.5729825610591711,\n",
       "  0.013399325576087319),\n",
       " (dict_values([(15, 10), 'relu', 'adam', 150]),\n",
       "  0.7433533749464537,\n",
       "  0.004059132266592982,\n",
       "  0.5840869398611442,\n",
       "  0.012442154145451773),\n",
       " (dict_values([(15, 10), 'relu', 'adam', 200]),\n",
       "  0.7462093048161068,\n",
       "  0.004223595044438851,\n",
       "  0.5861077895721103,\n",
       "  0.01841238993751436),\n",
       " (dict_values([(15, 10), 'relu', 'sgd', 100]),\n",
       "  0.7331531882993698,\n",
       "  0.0043406851311257105,\n",
       "  0.5315448902237031,\n",
       "  0.016931151450730344),\n",
       " (dict_values([(15, 10), 'relu', 'sgd', 150]),\n",
       "  0.7377849427819595,\n",
       "  0.0035772021007036124,\n",
       "  0.5470259360851606,\n",
       "  0.0209636777888971),\n",
       " (dict_values([(15, 10), 'relu', 'sgd', 200]),\n",
       "  0.7404029741141912,\n",
       "  0.004038814673149293,\n",
       "  0.5475937348337697,\n",
       "  0.03185500534905311)]"
      ]
     },
     "metadata": {},
     "execution_count": 16
    }
   ]
  },
  {
   "cell_type": "code",
   "metadata": {
    "id": "SRTmUo-z9H6h"
   },
   "source": [
    "#4h27m"
   ],
   "execution_count": null,
   "outputs": []
  },
  {
   "cell_type": "code",
   "metadata": {
    "colab": {
     "base_uri": "https://localhost:8080/"
    },
    "id": "U-iAYeh_0G30",
    "executionInfo": {
     "status": "ok",
     "timestamp": 1638845241124,
     "user_tz": 240,
     "elapsed": 1016835,
     "user": {
      "displayName": "Willyan Dyeno Santos",
      "photoUrl": "https://lh3.googleusercontent.com/a-/AOh14Gg15ND6_SutUqJBMqNACnd8xmHyUihzsMdyJ7ub=s64",
      "userId": "02840806053201770774"
     }
    },
    "outputId": "d8acef05-575b-4ca4-b3e5-1fc86b16b6ac"
   },
   "source": [
    "results = []\n",
    "for hidden_layer_sizes in hidden_layer_sizes_list:\n",
    "  params = base_params.copy()\n",
    "  params['hidden_layer_sizes'] = hidden_layer_sizes\n",
    "  params['activation'] = 'relu'\n",
    "  for s in solvers:\n",
    "    params['solver'] = s\n",
    "    for i in max_iters:\n",
    "      params['max_iter'] = i\n",
    "      print(params)\n",
    "      mlp_params_all, acc_mean, acc_std, f1s_mean, f1s_std = evaluate_mlp(X, y, N=N, **params)\n",
    "      summarized_mlp_params = { param_key: mlp_params_all[param_key] for param_key in param_keys }\n",
    "      results.append((summarized_mlp_params.values(), acc_mean, acc_std, f1s_mean, f1s_std))"
   ],
   "execution_count": null,
   "outputs": [
    {
     "metadata": {
      "tags": null
     },
     "name": "stdout",
     "output_type": "stream",
     "text": [
      "{'verbose': False, 'hidden_layer_sizes': (10, 5), 'activation': 'relu', 'solver': 'adam', 'max_iter': 100}\n"
     ]
    },
    {
     "metadata": {
      "tags": null
     },
     "name": "stderr",
     "output_type": "stream",
     "text": [
      "/usr/local/lib/python3.7/dist-packages/sklearn/neural_network/_multilayer_perceptron.py:696: ConvergenceWarning: Stochastic Optimizer: Maximum iterations (100) reached and the optimization hasn't converged yet.\n",
      "  ConvergenceWarning,\n",
      "/usr/local/lib/python3.7/dist-packages/sklearn/neural_network/_multilayer_perceptron.py:696: ConvergenceWarning: Stochastic Optimizer: Maximum iterations (100) reached and the optimization hasn't converged yet.\n",
      "  ConvergenceWarning,\n",
      "/usr/local/lib/python3.7/dist-packages/sklearn/neural_network/_multilayer_perceptron.py:696: ConvergenceWarning: Stochastic Optimizer: Maximum iterations (100) reached and the optimization hasn't converged yet.\n",
      "  ConvergenceWarning,\n",
      "/usr/local/lib/python3.7/dist-packages/sklearn/neural_network/_multilayer_perceptron.py:696: ConvergenceWarning: Stochastic Optimizer: Maximum iterations (100) reached and the optimization hasn't converged yet.\n",
      "  ConvergenceWarning,\n",
      "/usr/local/lib/python3.7/dist-packages/sklearn/neural_network/_multilayer_perceptron.py:696: ConvergenceWarning: Stochastic Optimizer: Maximum iterations (100) reached and the optimization hasn't converged yet.\n",
      "  ConvergenceWarning,\n",
      "/usr/local/lib/python3.7/dist-packages/sklearn/neural_network/_multilayer_perceptron.py:696: ConvergenceWarning: Stochastic Optimizer: Maximum iterations (100) reached and the optimization hasn't converged yet.\n",
      "  ConvergenceWarning,\n",
      "/usr/local/lib/python3.7/dist-packages/sklearn/neural_network/_multilayer_perceptron.py:696: ConvergenceWarning: Stochastic Optimizer: Maximum iterations (100) reached and the optimization hasn't converged yet.\n",
      "  ConvergenceWarning,\n",
      "/usr/local/lib/python3.7/dist-packages/sklearn/neural_network/_multilayer_perceptron.py:696: ConvergenceWarning: Stochastic Optimizer: Maximum iterations (100) reached and the optimization hasn't converged yet.\n",
      "  ConvergenceWarning,\n",
      "/usr/local/lib/python3.7/dist-packages/sklearn/neural_network/_multilayer_perceptron.py:696: ConvergenceWarning: Stochastic Optimizer: Maximum iterations (100) reached and the optimization hasn't converged yet.\n",
      "  ConvergenceWarning,\n"
     ]
    },
    {
     "metadata": {
      "tags": null
     },
     "name": "stdout",
     "output_type": "stream",
     "text": [
      "{'verbose': False, 'hidden_layer_sizes': (10, 5), 'activation': 'relu', 'solver': 'adam', 'max_iter': 150}\n"
     ]
    },
    {
     "metadata": {
      "tags": null
     },
     "name": "stderr",
     "output_type": "stream",
     "text": [
      "/usr/local/lib/python3.7/dist-packages/sklearn/neural_network/_multilayer_perceptron.py:696: ConvergenceWarning: Stochastic Optimizer: Maximum iterations (150) reached and the optimization hasn't converged yet.\n",
      "  ConvergenceWarning,\n",
      "/usr/local/lib/python3.7/dist-packages/sklearn/neural_network/_multilayer_perceptron.py:696: ConvergenceWarning: Stochastic Optimizer: Maximum iterations (150) reached and the optimization hasn't converged yet.\n",
      "  ConvergenceWarning,\n"
     ]
    },
    {
     "metadata": {
      "tags": null
     },
     "name": "stdout",
     "output_type": "stream",
     "text": [
      "{'verbose': False, 'hidden_layer_sizes': (10, 5), 'activation': 'relu', 'solver': 'adam', 'max_iter': 200}\n",
      "{'verbose': False, 'hidden_layer_sizes': (10, 5), 'activation': 'relu', 'solver': 'sgd', 'max_iter': 100}\n"
     ]
    },
    {
     "metadata": {
      "tags": null
     },
     "name": "stderr",
     "output_type": "stream",
     "text": [
      "/usr/local/lib/python3.7/dist-packages/sklearn/neural_network/_multilayer_perceptron.py:696: ConvergenceWarning: Stochastic Optimizer: Maximum iterations (100) reached and the optimization hasn't converged yet.\n",
      "  ConvergenceWarning,\n",
      "/usr/local/lib/python3.7/dist-packages/sklearn/neural_network/_multilayer_perceptron.py:696: ConvergenceWarning: Stochastic Optimizer: Maximum iterations (100) reached and the optimization hasn't converged yet.\n",
      "  ConvergenceWarning,\n",
      "/usr/local/lib/python3.7/dist-packages/sklearn/neural_network/_multilayer_perceptron.py:696: ConvergenceWarning: Stochastic Optimizer: Maximum iterations (100) reached and the optimization hasn't converged yet.\n",
      "  ConvergenceWarning,\n",
      "/usr/local/lib/python3.7/dist-packages/sklearn/neural_network/_multilayer_perceptron.py:696: ConvergenceWarning: Stochastic Optimizer: Maximum iterations (100) reached and the optimization hasn't converged yet.\n",
      "  ConvergenceWarning,\n",
      "/usr/local/lib/python3.7/dist-packages/sklearn/neural_network/_multilayer_perceptron.py:696: ConvergenceWarning: Stochastic Optimizer: Maximum iterations (100) reached and the optimization hasn't converged yet.\n",
      "  ConvergenceWarning,\n",
      "/usr/local/lib/python3.7/dist-packages/sklearn/neural_network/_multilayer_perceptron.py:696: ConvergenceWarning: Stochastic Optimizer: Maximum iterations (100) reached and the optimization hasn't converged yet.\n",
      "  ConvergenceWarning,\n",
      "/usr/local/lib/python3.7/dist-packages/sklearn/neural_network/_multilayer_perceptron.py:696: ConvergenceWarning: Stochastic Optimizer: Maximum iterations (100) reached and the optimization hasn't converged yet.\n",
      "  ConvergenceWarning,\n",
      "/usr/local/lib/python3.7/dist-packages/sklearn/neural_network/_multilayer_perceptron.py:696: ConvergenceWarning: Stochastic Optimizer: Maximum iterations (100) reached and the optimization hasn't converged yet.\n",
      "  ConvergenceWarning,\n",
      "/usr/local/lib/python3.7/dist-packages/sklearn/neural_network/_multilayer_perceptron.py:696: ConvergenceWarning: Stochastic Optimizer: Maximum iterations (100) reached and the optimization hasn't converged yet.\n",
      "  ConvergenceWarning,\n",
      "/usr/local/lib/python3.7/dist-packages/sklearn/neural_network/_multilayer_perceptron.py:696: ConvergenceWarning: Stochastic Optimizer: Maximum iterations (100) reached and the optimization hasn't converged yet.\n",
      "  ConvergenceWarning,\n",
      "/usr/local/lib/python3.7/dist-packages/sklearn/neural_network/_multilayer_perceptron.py:696: ConvergenceWarning: Stochastic Optimizer: Maximum iterations (100) reached and the optimization hasn't converged yet.\n",
      "  ConvergenceWarning,\n",
      "/usr/local/lib/python3.7/dist-packages/sklearn/neural_network/_multilayer_perceptron.py:696: ConvergenceWarning: Stochastic Optimizer: Maximum iterations (100) reached and the optimization hasn't converged yet.\n",
      "  ConvergenceWarning,\n",
      "/usr/local/lib/python3.7/dist-packages/sklearn/neural_network/_multilayer_perceptron.py:696: ConvergenceWarning: Stochastic Optimizer: Maximum iterations (100) reached and the optimization hasn't converged yet.\n",
      "  ConvergenceWarning,\n",
      "/usr/local/lib/python3.7/dist-packages/sklearn/neural_network/_multilayer_perceptron.py:696: ConvergenceWarning: Stochastic Optimizer: Maximum iterations (100) reached and the optimization hasn't converged yet.\n",
      "  ConvergenceWarning,\n"
     ]
    },
    {
     "metadata": {
      "tags": null
     },
     "name": "stdout",
     "output_type": "stream",
     "text": [
      "{'verbose': False, 'hidden_layer_sizes': (10, 5), 'activation': 'relu', 'solver': 'sgd', 'max_iter': 150}\n"
     ]
    },
    {
     "metadata": {
      "tags": null
     },
     "name": "stderr",
     "output_type": "stream",
     "text": [
      "/usr/local/lib/python3.7/dist-packages/sklearn/neural_network/_multilayer_perceptron.py:696: ConvergenceWarning: Stochastic Optimizer: Maximum iterations (150) reached and the optimization hasn't converged yet.\n",
      "  ConvergenceWarning,\n",
      "/usr/local/lib/python3.7/dist-packages/sklearn/neural_network/_multilayer_perceptron.py:696: ConvergenceWarning: Stochastic Optimizer: Maximum iterations (150) reached and the optimization hasn't converged yet.\n",
      "  ConvergenceWarning,\n",
      "/usr/local/lib/python3.7/dist-packages/sklearn/neural_network/_multilayer_perceptron.py:696: ConvergenceWarning: Stochastic Optimizer: Maximum iterations (150) reached and the optimization hasn't converged yet.\n",
      "  ConvergenceWarning,\n",
      "/usr/local/lib/python3.7/dist-packages/sklearn/neural_network/_multilayer_perceptron.py:696: ConvergenceWarning: Stochastic Optimizer: Maximum iterations (150) reached and the optimization hasn't converged yet.\n",
      "  ConvergenceWarning,\n",
      "/usr/local/lib/python3.7/dist-packages/sklearn/neural_network/_multilayer_perceptron.py:696: ConvergenceWarning: Stochastic Optimizer: Maximum iterations (150) reached and the optimization hasn't converged yet.\n",
      "  ConvergenceWarning,\n",
      "/usr/local/lib/python3.7/dist-packages/sklearn/neural_network/_multilayer_perceptron.py:696: ConvergenceWarning: Stochastic Optimizer: Maximum iterations (150) reached and the optimization hasn't converged yet.\n",
      "  ConvergenceWarning,\n",
      "/usr/local/lib/python3.7/dist-packages/sklearn/neural_network/_multilayer_perceptron.py:696: ConvergenceWarning: Stochastic Optimizer: Maximum iterations (150) reached and the optimization hasn't converged yet.\n",
      "  ConvergenceWarning,\n",
      "/usr/local/lib/python3.7/dist-packages/sklearn/neural_network/_multilayer_perceptron.py:696: ConvergenceWarning: Stochastic Optimizer: Maximum iterations (150) reached and the optimization hasn't converged yet.\n",
      "  ConvergenceWarning,\n",
      "/usr/local/lib/python3.7/dist-packages/sklearn/neural_network/_multilayer_perceptron.py:696: ConvergenceWarning: Stochastic Optimizer: Maximum iterations (150) reached and the optimization hasn't converged yet.\n",
      "  ConvergenceWarning,\n",
      "/usr/local/lib/python3.7/dist-packages/sklearn/neural_network/_multilayer_perceptron.py:696: ConvergenceWarning: Stochastic Optimizer: Maximum iterations (150) reached and the optimization hasn't converged yet.\n",
      "  ConvergenceWarning,\n",
      "/usr/local/lib/python3.7/dist-packages/sklearn/neural_network/_multilayer_perceptron.py:696: ConvergenceWarning: Stochastic Optimizer: Maximum iterations (150) reached and the optimization hasn't converged yet.\n",
      "  ConvergenceWarning,\n"
     ]
    },
    {
     "metadata": {
      "tags": null
     },
     "name": "stdout",
     "output_type": "stream",
     "text": [
      "{'verbose': False, 'hidden_layer_sizes': (10, 5), 'activation': 'relu', 'solver': 'sgd', 'max_iter': 200}\n"
     ]
    },
    {
     "metadata": {
      "tags": null
     },
     "name": "stderr",
     "output_type": "stream",
     "text": [
      "/usr/local/lib/python3.7/dist-packages/sklearn/neural_network/_multilayer_perceptron.py:696: ConvergenceWarning: Stochastic Optimizer: Maximum iterations (200) reached and the optimization hasn't converged yet.\n",
      "  ConvergenceWarning,\n",
      "/usr/local/lib/python3.7/dist-packages/sklearn/neural_network/_multilayer_perceptron.py:696: ConvergenceWarning: Stochastic Optimizer: Maximum iterations (200) reached and the optimization hasn't converged yet.\n",
      "  ConvergenceWarning,\n",
      "/usr/local/lib/python3.7/dist-packages/sklearn/neural_network/_multilayer_perceptron.py:696: ConvergenceWarning: Stochastic Optimizer: Maximum iterations (200) reached and the optimization hasn't converged yet.\n",
      "  ConvergenceWarning,\n"
     ]
    },
    {
     "metadata": {
      "tags": null
     },
     "name": "stdout",
     "output_type": "stream",
     "text": [
      "{'verbose': False, 'hidden_layer_sizes': (5, 10), 'activation': 'relu', 'solver': 'adam', 'max_iter': 100}\n"
     ]
    },
    {
     "metadata": {
      "tags": null
     },
     "name": "stderr",
     "output_type": "stream",
     "text": [
      "/usr/local/lib/python3.7/dist-packages/sklearn/neural_network/_multilayer_perceptron.py:696: ConvergenceWarning: Stochastic Optimizer: Maximum iterations (100) reached and the optimization hasn't converged yet.\n",
      "  ConvergenceWarning,\n",
      "/usr/local/lib/python3.7/dist-packages/sklearn/neural_network/_multilayer_perceptron.py:696: ConvergenceWarning: Stochastic Optimizer: Maximum iterations (100) reached and the optimization hasn't converged yet.\n",
      "  ConvergenceWarning,\n",
      "/usr/local/lib/python3.7/dist-packages/sklearn/neural_network/_multilayer_perceptron.py:696: ConvergenceWarning: Stochastic Optimizer: Maximum iterations (100) reached and the optimization hasn't converged yet.\n",
      "  ConvergenceWarning,\n",
      "/usr/local/lib/python3.7/dist-packages/sklearn/neural_network/_multilayer_perceptron.py:696: ConvergenceWarning: Stochastic Optimizer: Maximum iterations (100) reached and the optimization hasn't converged yet.\n",
      "  ConvergenceWarning,\n",
      "/usr/local/lib/python3.7/dist-packages/sklearn/neural_network/_multilayer_perceptron.py:696: ConvergenceWarning: Stochastic Optimizer: Maximum iterations (100) reached and the optimization hasn't converged yet.\n",
      "  ConvergenceWarning,\n",
      "/usr/local/lib/python3.7/dist-packages/sklearn/neural_network/_multilayer_perceptron.py:696: ConvergenceWarning: Stochastic Optimizer: Maximum iterations (100) reached and the optimization hasn't converged yet.\n",
      "  ConvergenceWarning,\n",
      "/usr/local/lib/python3.7/dist-packages/sklearn/neural_network/_multilayer_perceptron.py:696: ConvergenceWarning: Stochastic Optimizer: Maximum iterations (100) reached and the optimization hasn't converged yet.\n",
      "  ConvergenceWarning,\n",
      "/usr/local/lib/python3.7/dist-packages/sklearn/neural_network/_multilayer_perceptron.py:696: ConvergenceWarning: Stochastic Optimizer: Maximum iterations (100) reached and the optimization hasn't converged yet.\n",
      "  ConvergenceWarning,\n",
      "/usr/local/lib/python3.7/dist-packages/sklearn/neural_network/_multilayer_perceptron.py:696: ConvergenceWarning: Stochastic Optimizer: Maximum iterations (100) reached and the optimization hasn't converged yet.\n",
      "  ConvergenceWarning,\n",
      "/usr/local/lib/python3.7/dist-packages/sklearn/neural_network/_multilayer_perceptron.py:696: ConvergenceWarning: Stochastic Optimizer: Maximum iterations (100) reached and the optimization hasn't converged yet.\n",
      "  ConvergenceWarning,\n",
      "/usr/local/lib/python3.7/dist-packages/sklearn/neural_network/_multilayer_perceptron.py:696: ConvergenceWarning: Stochastic Optimizer: Maximum iterations (100) reached and the optimization hasn't converged yet.\n",
      "  ConvergenceWarning,\n",
      "/usr/local/lib/python3.7/dist-packages/sklearn/neural_network/_multilayer_perceptron.py:696: ConvergenceWarning: Stochastic Optimizer: Maximum iterations (100) reached and the optimization hasn't converged yet.\n",
      "  ConvergenceWarning,\n"
     ]
    },
    {
     "metadata": {
      "tags": null
     },
     "name": "stdout",
     "output_type": "stream",
     "text": [
      "{'verbose': False, 'hidden_layer_sizes': (5, 10), 'activation': 'relu', 'solver': 'adam', 'max_iter': 150}\n"
     ]
    },
    {
     "metadata": {
      "tags": null
     },
     "name": "stderr",
     "output_type": "stream",
     "text": [
      "/usr/local/lib/python3.7/dist-packages/sklearn/neural_network/_multilayer_perceptron.py:696: ConvergenceWarning: Stochastic Optimizer: Maximum iterations (150) reached and the optimization hasn't converged yet.\n",
      "  ConvergenceWarning,\n",
      "/usr/local/lib/python3.7/dist-packages/sklearn/neural_network/_multilayer_perceptron.py:696: ConvergenceWarning: Stochastic Optimizer: Maximum iterations (150) reached and the optimization hasn't converged yet.\n",
      "  ConvergenceWarning,\n",
      "/usr/local/lib/python3.7/dist-packages/sklearn/neural_network/_multilayer_perceptron.py:696: ConvergenceWarning: Stochastic Optimizer: Maximum iterations (150) reached and the optimization hasn't converged yet.\n",
      "  ConvergenceWarning,\n",
      "/usr/local/lib/python3.7/dist-packages/sklearn/neural_network/_multilayer_perceptron.py:696: ConvergenceWarning: Stochastic Optimizer: Maximum iterations (150) reached and the optimization hasn't converged yet.\n",
      "  ConvergenceWarning,\n"
     ]
    },
    {
     "metadata": {
      "tags": null
     },
     "name": "stdout",
     "output_type": "stream",
     "text": [
      "{'verbose': False, 'hidden_layer_sizes': (5, 10), 'activation': 'relu', 'solver': 'adam', 'max_iter': 200}\n"
     ]
    },
    {
     "metadata": {
      "tags": null
     },
     "name": "stderr",
     "output_type": "stream",
     "text": [
      "/usr/local/lib/python3.7/dist-packages/sklearn/neural_network/_multilayer_perceptron.py:696: ConvergenceWarning: Stochastic Optimizer: Maximum iterations (200) reached and the optimization hasn't converged yet.\n",
      "  ConvergenceWarning,\n",
      "/usr/local/lib/python3.7/dist-packages/sklearn/neural_network/_multilayer_perceptron.py:696: ConvergenceWarning: Stochastic Optimizer: Maximum iterations (200) reached and the optimization hasn't converged yet.\n",
      "  ConvergenceWarning,\n"
     ]
    },
    {
     "metadata": {
      "tags": null
     },
     "name": "stdout",
     "output_type": "stream",
     "text": [
      "{'verbose': False, 'hidden_layer_sizes': (5, 10), 'activation': 'relu', 'solver': 'sgd', 'max_iter': 100}\n"
     ]
    },
    {
     "metadata": {
      "tags": null
     },
     "name": "stderr",
     "output_type": "stream",
     "text": [
      "/usr/local/lib/python3.7/dist-packages/sklearn/neural_network/_multilayer_perceptron.py:696: ConvergenceWarning: Stochastic Optimizer: Maximum iterations (100) reached and the optimization hasn't converged yet.\n",
      "  ConvergenceWarning,\n",
      "/usr/local/lib/python3.7/dist-packages/sklearn/neural_network/_multilayer_perceptron.py:696: ConvergenceWarning: Stochastic Optimizer: Maximum iterations (100) reached and the optimization hasn't converged yet.\n",
      "  ConvergenceWarning,\n",
      "/usr/local/lib/python3.7/dist-packages/sklearn/neural_network/_multilayer_perceptron.py:696: ConvergenceWarning: Stochastic Optimizer: Maximum iterations (100) reached and the optimization hasn't converged yet.\n",
      "  ConvergenceWarning,\n",
      "/usr/local/lib/python3.7/dist-packages/sklearn/neural_network/_multilayer_perceptron.py:696: ConvergenceWarning: Stochastic Optimizer: Maximum iterations (100) reached and the optimization hasn't converged yet.\n",
      "  ConvergenceWarning,\n",
      "/usr/local/lib/python3.7/dist-packages/sklearn/neural_network/_multilayer_perceptron.py:696: ConvergenceWarning: Stochastic Optimizer: Maximum iterations (100) reached and the optimization hasn't converged yet.\n",
      "  ConvergenceWarning,\n",
      "/usr/local/lib/python3.7/dist-packages/sklearn/neural_network/_multilayer_perceptron.py:696: ConvergenceWarning: Stochastic Optimizer: Maximum iterations (100) reached and the optimization hasn't converged yet.\n",
      "  ConvergenceWarning,\n",
      "/usr/local/lib/python3.7/dist-packages/sklearn/neural_network/_multilayer_perceptron.py:696: ConvergenceWarning: Stochastic Optimizer: Maximum iterations (100) reached and the optimization hasn't converged yet.\n",
      "  ConvergenceWarning,\n",
      "/usr/local/lib/python3.7/dist-packages/sklearn/neural_network/_multilayer_perceptron.py:696: ConvergenceWarning: Stochastic Optimizer: Maximum iterations (100) reached and the optimization hasn't converged yet.\n",
      "  ConvergenceWarning,\n",
      "/usr/local/lib/python3.7/dist-packages/sklearn/neural_network/_multilayer_perceptron.py:696: ConvergenceWarning: Stochastic Optimizer: Maximum iterations (100) reached and the optimization hasn't converged yet.\n",
      "  ConvergenceWarning,\n",
      "/usr/local/lib/python3.7/dist-packages/sklearn/neural_network/_multilayer_perceptron.py:696: ConvergenceWarning: Stochastic Optimizer: Maximum iterations (100) reached and the optimization hasn't converged yet.\n",
      "  ConvergenceWarning,\n",
      "/usr/local/lib/python3.7/dist-packages/sklearn/neural_network/_multilayer_perceptron.py:696: ConvergenceWarning: Stochastic Optimizer: Maximum iterations (100) reached and the optimization hasn't converged yet.\n",
      "  ConvergenceWarning,\n",
      "/usr/local/lib/python3.7/dist-packages/sklearn/neural_network/_multilayer_perceptron.py:696: ConvergenceWarning: Stochastic Optimizer: Maximum iterations (100) reached and the optimization hasn't converged yet.\n",
      "  ConvergenceWarning,\n",
      "/usr/local/lib/python3.7/dist-packages/sklearn/neural_network/_multilayer_perceptron.py:696: ConvergenceWarning: Stochastic Optimizer: Maximum iterations (100) reached and the optimization hasn't converged yet.\n",
      "  ConvergenceWarning,\n",
      "/usr/local/lib/python3.7/dist-packages/sklearn/neural_network/_multilayer_perceptron.py:696: ConvergenceWarning: Stochastic Optimizer: Maximum iterations (100) reached and the optimization hasn't converged yet.\n",
      "  ConvergenceWarning,\n"
     ]
    },
    {
     "metadata": {
      "tags": null
     },
     "name": "stdout",
     "output_type": "stream",
     "text": [
      "{'verbose': False, 'hidden_layer_sizes': (5, 10), 'activation': 'relu', 'solver': 'sgd', 'max_iter': 150}\n"
     ]
    },
    {
     "metadata": {
      "tags": null
     },
     "name": "stderr",
     "output_type": "stream",
     "text": [
      "/usr/local/lib/python3.7/dist-packages/sklearn/neural_network/_multilayer_perceptron.py:696: ConvergenceWarning: Stochastic Optimizer: Maximum iterations (150) reached and the optimization hasn't converged yet.\n",
      "  ConvergenceWarning,\n",
      "/usr/local/lib/python3.7/dist-packages/sklearn/neural_network/_multilayer_perceptron.py:696: ConvergenceWarning: Stochastic Optimizer: Maximum iterations (150) reached and the optimization hasn't converged yet.\n",
      "  ConvergenceWarning,\n",
      "/usr/local/lib/python3.7/dist-packages/sklearn/neural_network/_multilayer_perceptron.py:696: ConvergenceWarning: Stochastic Optimizer: Maximum iterations (150) reached and the optimization hasn't converged yet.\n",
      "  ConvergenceWarning,\n",
      "/usr/local/lib/python3.7/dist-packages/sklearn/neural_network/_multilayer_perceptron.py:696: ConvergenceWarning: Stochastic Optimizer: Maximum iterations (150) reached and the optimization hasn't converged yet.\n",
      "  ConvergenceWarning,\n",
      "/usr/local/lib/python3.7/dist-packages/sklearn/neural_network/_multilayer_perceptron.py:696: ConvergenceWarning: Stochastic Optimizer: Maximum iterations (150) reached and the optimization hasn't converged yet.\n",
      "  ConvergenceWarning,\n",
      "/usr/local/lib/python3.7/dist-packages/sklearn/neural_network/_multilayer_perceptron.py:696: ConvergenceWarning: Stochastic Optimizer: Maximum iterations (150) reached and the optimization hasn't converged yet.\n",
      "  ConvergenceWarning,\n"
     ]
    },
    {
     "metadata": {
      "tags": null
     },
     "name": "stdout",
     "output_type": "stream",
     "text": [
      "{'verbose': False, 'hidden_layer_sizes': (5, 10), 'activation': 'relu', 'solver': 'sgd', 'max_iter': 200}\n"
     ]
    },
    {
     "output_type": "stream",
     "name": "stderr",
     "text": [
      "/usr/local/lib/python3.7/dist-packages/sklearn/neural_network/_multilayer_perceptron.py:696: ConvergenceWarning: Stochastic Optimizer: Maximum iterations (200) reached and the optimization hasn't converged yet.\n",
      "  ConvergenceWarning,\n",
      "/usr/local/lib/python3.7/dist-packages/sklearn/neural_network/_multilayer_perceptron.py:696: ConvergenceWarning: Stochastic Optimizer: Maximum iterations (200) reached and the optimization hasn't converged yet.\n",
      "  ConvergenceWarning,\n",
      "/usr/local/lib/python3.7/dist-packages/sklearn/neural_network/_multilayer_perceptron.py:696: ConvergenceWarning: Stochastic Optimizer: Maximum iterations (200) reached and the optimization hasn't converged yet.\n",
      "  ConvergenceWarning,\n"
     ]
    }
   ]
  },
  {
   "cell_type": "code",
   "metadata": {
    "colab": {
     "base_uri": "https://localhost:8080/"
    },
    "id": "ke2NEOy70G4N",
    "executionInfo": {
     "status": "ok",
     "timestamp": 1638845515844,
     "user_tz": 240,
     "elapsed": 452,
     "user": {
      "displayName": "Willyan Dyeno Santos",
      "photoUrl": "https://lh3.googleusercontent.com/a-/AOh14Gg15ND6_SutUqJBMqNACnd8xmHyUihzsMdyJ7ub=s64",
      "userId": "02840806053201770774"
     }
    },
    "outputId": "3d23448e-4dc8-4034-8745-594058be996a"
   },
   "source": [
    "results"
   ],
   "execution_count": null,
   "outputs": [
    {
     "output_type": "execute_result",
     "data": {
      "text/plain": [
       "[(dict_values([(10, 5), 'relu', 'adam', 100]),\n",
       "  0.7223509883116089,\n",
       "  0.0037692913168389016,\n",
       "  0.520334753750555,\n",
       "  0.014271646433979462),\n",
       " (dict_values([(10, 5), 'relu', 'adam', 150]),\n",
       "  0.723136206474512,\n",
       "  0.0024557810964027328,\n",
       "  0.5195169997101793,\n",
       "  0.016553008020719316),\n",
       " (dict_values([(10, 5), 'relu', 'adam', 200]),\n",
       "  0.7228768894192521,\n",
       "  0.004179181726441579,\n",
       "  0.5207713525277343,\n",
       "  0.025496370317984712),\n",
       " (dict_values([(10, 5), 'relu', 'sgd', 100]),\n",
       "  0.7186666207698428,\n",
       "  0.003873507308046744,\n",
       "  0.46272733982024994,\n",
       "  0.03030590575136932),\n",
       " (dict_values([(10, 5), 'relu', 'sgd', 150]),\n",
       "  0.7203059023315587,\n",
       "  0.0020636216182058267,\n",
       "  0.4827952687522767,\n",
       "  0.03054257554738478),\n",
       " (dict_values([(10, 5), 'relu', 'sgd', 200]),\n",
       "  0.7203215837464046,\n",
       "  0.003789591383864492,\n",
       "  0.4808007999455246,\n",
       "  0.023778367744806097),\n",
       " (dict_values([(5, 10), 'relu', 'adam', 100]),\n",
       "  0.7164383299675663,\n",
       "  0.0032985741062421673,\n",
       "  0.4861807330719915,\n",
       "  0.025327938356190016),\n",
       " (dict_values([(5, 10), 'relu', 'adam', 150]),\n",
       "  0.7148839575301389,\n",
       "  0.004126605230568878,\n",
       "  0.48552766120277274,\n",
       "  0.031075836407945836),\n",
       " (dict_values([(5, 10), 'relu', 'adam', 200]),\n",
       "  0.7169703506517349,\n",
       "  0.0036761812440623096,\n",
       "  0.49505893405822643,\n",
       "  0.021123144722474813),\n",
       " (dict_values([(5, 10), 'relu', 'sgd', 100]),\n",
       "  0.7125451318768743,\n",
       "  0.002969284837493581,\n",
       "  0.4587010325655364,\n",
       "  0.02058174872676061),\n",
       " (dict_values([(5, 10), 'relu', 'sgd', 150]),\n",
       "  0.7128434612324827,\n",
       "  0.003421860034035274,\n",
       "  0.4427943024341305,\n",
       "  0.025626685952449123),\n",
       " (dict_values([(5, 10), 'relu', 'sgd', 200]),\n",
       "  0.7110385686310505,\n",
       "  0.004124040904780024,\n",
       "  0.4370063294582198,\n",
       "  0.026161369879053827)]"
      ]
     },
     "metadata": {},
     "execution_count": 17
    }
   ]
  },
  {
   "cell_type": "code",
   "metadata": {
    "id": "2iGJ-lGDC43N"
   },
   "source": [
    "#8h30m"
   ],
   "execution_count": null,
   "outputs": []
  },
  {
   "cell_type": "code",
   "metadata": {
    "id": "C-mYAGlZC43O",
    "executionInfo": {
     "status": "ok",
     "timestamp": 1638849768049,
     "user_tz": 240,
     "elapsed": 1517,
     "user": {
      "displayName": "José Max Dias Figueira Junior",
      "photoUrl": "https://lh3.googleusercontent.com/a-/AOh14GiUkfqsRDxLzojLYrGgsXG_cTc15Dnqg5KFX8QqCQ=s64",
      "userId": "07239097205257965617"
     }
    }
   },
   "source": [
    "result = [(list([(5,), 'relu', 'adam', 100]),\n",
    "  0.705469371519491,\n",
    "  0.0029458928874302346,\n",
    "  0.4423940752159232,\n",
    "  0.02858402334355593),\n",
    " (list([(5,), 'relu', 'adam', 150]),\n",
    "  0.705310262529833,\n",
    "  0.002192551135854261,\n",
    "  0.4271710415538204,\n",
    "  0.027799313779843536),\n",
    " (list([(5,), 'relu', 'adam', 200]),\n",
    "  0.7054039685453765,\n",
    "  0.0032771629052610572,\n",
    "  0.43987025739646035,\n",
    "  0.028246519546912437),\n",
    " (list([(5,), 'relu', 'sgd', 100]),\n",
    "  0.7047208708157394,\n",
    "  0.0025656708307387533,\n",
    "  0.41310171401673074,\n",
    "  0.02014957843483062),\n",
    " (list([(5,), 'relu', 'sgd', 150]),\n",
    "  0.7045212196316016,\n",
    "  0.002263198894897379,\n",
    "  0.4193097129996595,\n",
    "  0.017476857228634013),\n",
    " (list([(5,), 'relu', 'sgd', 200]),\n",
    "  0.7044156569365401,\n",
    "  0.0028072154524445836,\n",
    "  0.42125158481482405,\n",
    "  0.016277679264441146),\n",
    " (list([(5, 5), 'relu', 'adam', 100]),\n",
    "  0.7119515329539198,\n",
    "  0.0037650219391031003,\n",
    "  0.442961611110956,\n",
    "  0.021578488859072195),\n",
    " (list([(5, 5), 'relu', 'adam', 150]),\n",
    "  0.7103657976868001,\n",
    "  0.00388272098035125,\n",
    "  0.452841347403888,\n",
    "  0.03795649413140989),\n",
    " (list([(5, 5), 'relu', 'adam', 200]),\n",
    "  0.7102583226240743,\n",
    "  0.0041037889061818185,\n",
    "  0.4489880381085712,\n",
    "  0.02797785631004338),\n",
    " (list([(5, 5), 'relu', 'sgd', 100]),\n",
    "  0.7090481763661955,\n",
    "  0.004412073897306191,\n",
    "  0.4107543189619765,\n",
    "  0.02377126199433356),\n",
    " (list([(5, 5), 'relu', 'sgd', 150]),\n",
    "  0.7088362860290067,\n",
    "  0.0032803983667225685,\n",
    "  0.4172790770980545,\n",
    "  0.020545455269463223),\n",
    " (list([(5, 5), 'relu', 'sgd', 200]),\n",
    "  0.7089877455480081,\n",
    "  0.00365294990954477,\n",
    "  0.4165336644695475,\n",
    "  0.019927013066685657),\n",
    " (list([(10,), 'relu', 'adam', 100]),\n",
    "  0.7192927299430879,\n",
    "  0.0023117367301981433,\n",
    "  0.5137528497144177,\n",
    "  0.02278765147420186),\n",
    " (list([(10,), 'relu', 'adam', 150]),\n",
    "  0.7182680833486322,\n",
    "  0.0024426614607055354,\n",
    "  0.5175936473380742,\n",
    "  0.012204959050403948),\n",
    " (list([(10,), 'relu', 'adam', 200]),\n",
    "  0.7187301113762927,\n",
    "  0.002188107180781239,\n",
    "  0.5255885467254611,\n",
    "  0.020621718863097653),\n",
    " (list([(10,), 'relu', 'sgd', 100]),\n",
    "  0.7144536748057035,\n",
    "  0.002964196923901096,\n",
    "  0.46838587127465325,\n",
    "  0.022783789971106198),\n",
    " (list([(10,), 'relu', 'sgd', 150]),\n",
    "  0.7137831987026498,\n",
    "  0.0026844496643420646,\n",
    "  0.47719251478140357,\n",
    "  0.018970020800949085),\n",
    " (list([(10,), 'relu', 'sgd', 200]),\n",
    "  0.7133207882014564,\n",
    "  0.002942268234113297,\n",
    "  0.4757703259825182,\n",
    "  0.015086129752905053),\n",
    " (list([(10, 10), 'relu', 'adam', 100]),\n",
    "  0.7304510127899149,\n",
    "  0.004563872157650154,\n",
    "  0.555991718339829,\n",
    "  0.023932194907386028),\n",
    " (list([(10, 10), 'relu', 'adam', 150]),\n",
    "  0.7342600667033842,\n",
    "  0.004280533430723158,\n",
    "  0.5566212984787671,\n",
    "  0.015369880565015938),\n",
    " (list([(10, 10), 'relu', 'adam', 200]),\n",
    "  0.7339659445566367,\n",
    "  0.004850522135417838,\n",
    "  0.5580634606606568,\n",
    "  0.022223868060981065),\n",
    " (list([(10, 10), 'relu', 'sgd', 100]),\n",
    "  0.7247865797686802,\n",
    "  0.003972419826607771,\n",
    "  0.5124701286222624,\n",
    "  0.023304315267830805),\n",
    " (list([(10, 10), 'relu', 'sgd', 150]),\n",
    "  0.7275415366256655,\n",
    "  0.004405533204787248,\n",
    "  0.5252427142306668,\n",
    "  0.02230702382316766),\n",
    " (list([(10, 10), 'relu', 'sgd', 200]),\n",
    "  0.7293506364359584,\n",
    "  0.004375797166197584,\n",
    "  0.5216745318733038,\n",
    "  0.02706628205352122),\n",
    "(list([(15,), 'relu', 'adam', 100]),\n",
    "  0.7270018664708402,\n",
    "  0.0032232749063325706,\n",
    "  0.5496845515197352,\n",
    "  0.01609496391069023),\n",
    " (list([(15,), 'relu', 'adam', 150]),\n",
    "  0.7268821522550639,\n",
    "  0.0031722979658155483,\n",
    "  0.543099878497132,\n",
    "  0.0120514480332433),\n",
    " (list([(15,), 'relu', 'adam', 200]),\n",
    "  0.7285244936050427,\n",
    "  0.002969953258172106,\n",
    "  0.5452952766002247,\n",
    "  0.012137187120192766),\n",
    " (list([(15,), 'relu', 'sgd', 100]),\n",
    "  0.7195222140627868,\n",
    "  0.0028445648185016713,\n",
    "  0.4985626045853832,\n",
    "  0.013170451995686035),\n",
    " (list([(15,), 'relu', 'sgd', 150]),\n",
    "  0.7232895783611774,\n",
    "  0.0027318648061770458,\n",
    "  0.5082081492475831,\n",
    "  0.01627317260176654),\n",
    " (list([(15,), 'relu', 'sgd', 200]),\n",
    "  0.7244064010770456,\n",
    "  0.0029539373118866435,\n",
    "  0.5227864260402957,\n",
    "  0.013656614625938292),\n",
    " (list([(15, 15), 'relu', 'adam', 100]),\n",
    "  0.7512866409644452,\n",
    "  0.002304284608304138,\n",
    "  0.6069615811482124,\n",
    "  0.009310448297131),\n",
    " (list([(15, 15), 'relu', 'adam', 150]),\n",
    "  0.7521292301572732,\n",
    "  0.0042397705388928925,\n",
    "  0.6075751593120714,\n",
    "  0.014325899842119209),\n",
    " (list([(15, 15), 'relu', 'adam', 200]),\n",
    "  0.7536908695918242,\n",
    "  0.002548481736981989,\n",
    "  0.6131590514717765,\n",
    "  0.013394923539445998),\n",
    " (list([(15, 15), 'relu', 'sgd', 100]),\n",
    "  0.7405349274830182,\n",
    "  0.0041854674091182905,\n",
    "  0.5487671766810082,\n",
    "  0.01979085403425542),\n",
    " (list([(15, 15), 'relu', 'sgd', 150]),\n",
    "  0.7448434918303655,\n",
    "  0.004913271973759348,\n",
    "  0.5629663633009583,\n",
    "  0.02745920510883882),\n",
    " (list([(15, 15), 'relu', 'sgd', 200]),\n",
    "  0.7489275442139404,\n",
    "  0.0032360932595978187,\n",
    "  0.5765767352287027,\n",
    "  0.011986076762303743),\n",
    "(list([(15, 5), 'relu', 'adam', 100]),\n",
    "  0.7318558380760052,\n",
    "  0.0036664064074808096,\n",
    "  0.545574918737118,\n",
    "  0.016229287481414837),\n",
    " (list([(15, 5), 'relu', 'adam', 150]),\n",
    "  0.7312913071415459,\n",
    "  0.00439890590206203,\n",
    "  0.5374700236820792,\n",
    "  0.019954833971513115),\n",
    " (list([(15, 5), 'relu', 'adam', 200]),\n",
    "  0.7333551343247049,\n",
    "  0.005311091075206219,\n",
    "  0.552094423769405,\n",
    "  0.014354399825830342),\n",
    " (list([(15, 5), 'relu', 'sgd', 100]),\n",
    "  0.7243536197295147,\n",
    "  0.002315650430647485,\n",
    "  0.48676585022008595,\n",
    "  0.03573684454331189),\n",
    " (list([(15, 5), 'relu', 'sgd', 150]),\n",
    "  0.7293846765803808,\n",
    "  0.0038161983622348617,\n",
    "  0.4952775319523584,\n",
    "  0.022871992708061013),\n",
    " (list([(15, 5), 'relu', 'sgd', 200]),\n",
    "  0.7288851661465028,\n",
    "  0.0033169452129823843,\n",
    "  0.5069947526867756,\n",
    "  0.026962292626929233),\n",
    "(list([(15, 10), 'relu', 'adam', 100]),\n",
    "  0.7416490728841564,\n",
    "  0.004709275541797526,\n",
    "  0.5729825610591711,\n",
    "  0.013399325576087319),\n",
    " (list([(15, 10), 'relu', 'adam', 150]),\n",
    "  0.7433533749464537,\n",
    "  0.004059132266592982,\n",
    "  0.5840869398611442,\n",
    "  0.012442154145451773),\n",
    " (list([(15, 10), 'relu', 'adam', 200]),\n",
    "  0.7462093048161068,\n",
    "  0.004223595044438851,\n",
    "  0.5861077895721103,\n",
    "  0.01841238993751436),\n",
    " (list([(15, 10), 'relu', 'sgd', 100]),\n",
    "  0.7331531882993698,\n",
    "  0.0043406851311257105,\n",
    "  0.5315448902237031,\n",
    "  0.016931151450730344),\n",
    " (list([(15, 10), 'relu', 'sgd', 150]),\n",
    "  0.7377849427819595,\n",
    "  0.0035772021007036124,\n",
    "  0.5470259360851606,\n",
    "  0.0209636777888971),\n",
    " (list([(15, 10), 'relu', 'sgd', 200]),\n",
    "  0.7404029741141912,\n",
    "  0.004038814673149293,\n",
    "  0.5475937348337697,\n",
    "  0.03185500534905311),\n",
    "(list([(10, 5), 'relu', 'adam', 100]),\n",
    "  0.7223509883116089,\n",
    "  0.0037692913168389016,\n",
    "  0.520334753750555,\n",
    "  0.014271646433979462),\n",
    " (list([(10, 5), 'relu', 'adam', 150]),\n",
    "  0.723136206474512,\n",
    "  0.0024557810964027328,\n",
    "  0.5195169997101793,\n",
    "  0.016553008020719316),\n",
    " (list([(10, 5), 'relu', 'adam', 200]),\n",
    "  0.7228768894192521,\n",
    "  0.004179181726441579,\n",
    "  0.5207713525277343,\n",
    "  0.025496370317984712),\n",
    " (list([(10, 5), 'relu', 'sgd', 100]),\n",
    "  0.7186666207698428,\n",
    "  0.003873507308046744,\n",
    "  0.46272733982024994,\n",
    "  0.03030590575136932),\n",
    " (list([(10, 5), 'relu', 'sgd', 150]),\n",
    "  0.7203059023315587,\n",
    "  0.0020636216182058267,\n",
    "  0.4827952687522767,\n",
    "  0.03054257554738478),\n",
    " (list([(10, 5), 'relu', 'sgd', 200]),\n",
    "  0.7203215837464046,\n",
    "  0.003789591383864492,\n",
    "  0.4808007999455246,\n",
    "  0.023778367744806097),\n",
    " (list([(5, 10), 'relu', 'adam', 100]),\n",
    "  0.7164383299675663,\n",
    "  0.0032985741062421673,\n",
    "  0.4861807330719915,\n",
    "  0.025327938356190016),\n",
    " (list([(5, 10), 'relu', 'adam', 150]),\n",
    "  0.7148839575301389,\n",
    "  0.004126605230568878,\n",
    "  0.48552766120277274,\n",
    "  0.031075836407945836),\n",
    " (list([(5, 10), 'relu', 'adam', 200]),\n",
    "  0.7169703506517349,\n",
    "  0.0036761812440623096,\n",
    "  0.49505893405822643,\n",
    "  0.021123144722474813),\n",
    " (list([(5, 10), 'relu', 'sgd', 100]),\n",
    "  0.7125451318768743,\n",
    "  0.002969284837493581,\n",
    "  0.4587010325655364,\n",
    "  0.02058174872676061),\n",
    " (list([(5, 10), 'relu', 'sgd', 150]),\n",
    "  0.7128434612324827,\n",
    "  0.003421860034035274,\n",
    "  0.4427943024341305,\n",
    "  0.025626685952449123),\n",
    " (list([(5, 10), 'relu', 'sgd', 200]),\n",
    "  0.7110385686310505,\n",
    "  0.004124040904780024,\n",
    "  0.4370063294582198,\n",
    "  0.026161369879053827)]"
   ],
   "execution_count": 17,
   "outputs": []
  },
  {
   "cell_type": "code",
   "metadata": {
    "id": "Jo0Cecf1K5Tj",
    "executionInfo": {
     "status": "ok",
     "timestamp": 1638849822627,
     "user_tz": 240,
     "elapsed": 324,
     "user": {
      "displayName": "José Max Dias Figueira Junior",
      "photoUrl": "https://lh3.googleusercontent.com/a-/AOh14GiUkfqsRDxLzojLYrGgsXG_cTc15Dnqg5KFX8QqCQ=s64",
      "userId": "07239097205257965617"
     }
    }
   },
   "source": [
    "df = pd.DataFrame(result, columns=['conf', 'acc_m', 'acc_sd', 'f1s_m', 'f1s_sd'])"
   ],
   "execution_count": 19,
   "outputs": []
  },
  {
   "cell_type": "code",
   "metadata": {
    "id": "k59YFtOEJCpX",
    "colab": {
     "base_uri": "https://localhost:8080/",
     "height": 143
    },
    "executionInfo": {
     "status": "ok",
     "timestamp": 1638849835334,
     "user_tz": 240,
     "elapsed": 330,
     "user": {
      "displayName": "José Max Dias Figueira Junior",
      "photoUrl": "https://lh3.googleusercontent.com/a-/AOh14GiUkfqsRDxLzojLYrGgsXG_cTc15Dnqg5KFX8QqCQ=s64",
      "userId": "07239097205257965617"
     }
    },
    "outputId": "413898ba-2e78-4c38-f8d2-f5637a411f9a"
   },
   "source": [
    "df2 = df.sort_values(['acc_m', 'acc_sd'], ascending = [False, True])\n",
    "df2 = df2.head(3)\n",
    "df2"
   ],
   "execution_count": 20,
   "outputs": [
    {
     "output_type": "execute_result",
     "data": {
      "text/html": [
       "<div>\n",
       "<style scoped>\n",
       "    .dataframe tbody tr th:only-of-type {\n",
       "        vertical-align: middle;\n",
       "    }\n",
       "\n",
       "    .dataframe tbody tr th {\n",
       "        vertical-align: top;\n",
       "    }\n",
       "\n",
       "    .dataframe thead th {\n",
       "        text-align: right;\n",
       "    }\n",
       "</style>\n",
       "<table border=\"1\" class=\"dataframe\">\n",
       "  <thead>\n",
       "    <tr style=\"text-align: right;\">\n",
       "      <th></th>\n",
       "      <th>conf</th>\n",
       "      <th>acc_m</th>\n",
       "      <th>acc_sd</th>\n",
       "      <th>f1s_m</th>\n",
       "      <th>f1s_sd</th>\n",
       "    </tr>\n",
       "  </thead>\n",
       "  <tbody>\n",
       "    <tr>\n",
       "      <th>32</th>\n",
       "      <td>[(15, 15), relu, adam, 200]</td>\n",
       "      <td>0.753691</td>\n",
       "      <td>0.002548</td>\n",
       "      <td>0.613159</td>\n",
       "      <td>0.013395</td>\n",
       "    </tr>\n",
       "    <tr>\n",
       "      <th>31</th>\n",
       "      <td>[(15, 15), relu, adam, 150]</td>\n",
       "      <td>0.752129</td>\n",
       "      <td>0.004240</td>\n",
       "      <td>0.607575</td>\n",
       "      <td>0.014326</td>\n",
       "    </tr>\n",
       "    <tr>\n",
       "      <th>30</th>\n",
       "      <td>[(15, 15), relu, adam, 100]</td>\n",
       "      <td>0.751287</td>\n",
       "      <td>0.002304</td>\n",
       "      <td>0.606962</td>\n",
       "      <td>0.009310</td>\n",
       "    </tr>\n",
       "  </tbody>\n",
       "</table>\n",
       "</div>"
      ],
      "text/plain": [
       "                           conf     acc_m    acc_sd     f1s_m    f1s_sd\n",
       "32  [(15, 15), relu, adam, 200]  0.753691  0.002548  0.613159  0.013395\n",
       "31  [(15, 15), relu, adam, 150]  0.752129  0.004240  0.607575  0.014326\n",
       "30  [(15, 15), relu, adam, 100]  0.751287  0.002304  0.606962  0.009310"
      ]
     },
     "metadata": {},
     "execution_count": 20
    }
   ]
  },
  {
   "cell_type": "code",
   "metadata": {
    "id": "1U6lVXPzK8Sf",
    "colab": {
     "base_uri": "https://localhost:8080/",
     "height": 143
    },
    "executionInfo": {
     "status": "ok",
     "timestamp": 1638849860841,
     "user_tz": 240,
     "elapsed": 439,
     "user": {
      "displayName": "José Max Dias Figueira Junior",
      "photoUrl": "https://lh3.googleusercontent.com/a-/AOh14GiUkfqsRDxLzojLYrGgsXG_cTc15Dnqg5KFX8QqCQ=s64",
      "userId": "07239097205257965617"
     }
    },
    "outputId": "7e4377be-125d-4a5f-9abf-7b769d6a5b21"
   },
   "source": [
    "df3 = df.sort_values(['f1s_m', 'f1s_sd'], ascending = [False, True])\n",
    "df3 = df3.head(3)\n",
    "df3"
   ],
   "execution_count": 21,
   "outputs": [
    {
     "output_type": "execute_result",
     "data": {
      "text/html": [
       "<div>\n",
       "<style scoped>\n",
       "    .dataframe tbody tr th:only-of-type {\n",
       "        vertical-align: middle;\n",
       "    }\n",
       "\n",
       "    .dataframe tbody tr th {\n",
       "        vertical-align: top;\n",
       "    }\n",
       "\n",
       "    .dataframe thead th {\n",
       "        text-align: right;\n",
       "    }\n",
       "</style>\n",
       "<table border=\"1\" class=\"dataframe\">\n",
       "  <thead>\n",
       "    <tr style=\"text-align: right;\">\n",
       "      <th></th>\n",
       "      <th>conf</th>\n",
       "      <th>acc_m</th>\n",
       "      <th>acc_sd</th>\n",
       "      <th>f1s_m</th>\n",
       "      <th>f1s_sd</th>\n",
       "    </tr>\n",
       "  </thead>\n",
       "  <tbody>\n",
       "    <tr>\n",
       "      <th>32</th>\n",
       "      <td>[(15, 15), relu, adam, 200]</td>\n",
       "      <td>0.753691</td>\n",
       "      <td>0.002548</td>\n",
       "      <td>0.613159</td>\n",
       "      <td>0.013395</td>\n",
       "    </tr>\n",
       "    <tr>\n",
       "      <th>31</th>\n",
       "      <td>[(15, 15), relu, adam, 150]</td>\n",
       "      <td>0.752129</td>\n",
       "      <td>0.004240</td>\n",
       "      <td>0.607575</td>\n",
       "      <td>0.014326</td>\n",
       "    </tr>\n",
       "    <tr>\n",
       "      <th>30</th>\n",
       "      <td>[(15, 15), relu, adam, 100]</td>\n",
       "      <td>0.751287</td>\n",
       "      <td>0.002304</td>\n",
       "      <td>0.606962</td>\n",
       "      <td>0.009310</td>\n",
       "    </tr>\n",
       "  </tbody>\n",
       "</table>\n",
       "</div>"
      ],
      "text/plain": [
       "                           conf     acc_m    acc_sd     f1s_m    f1s_sd\n",
       "32  [(15, 15), relu, adam, 200]  0.753691  0.002548  0.613159  0.013395\n",
       "31  [(15, 15), relu, adam, 150]  0.752129  0.004240  0.607575  0.014326\n",
       "30  [(15, 15), relu, adam, 100]  0.751287  0.002304  0.606962  0.009310"
      ]
     },
     "metadata": {},
     "execution_count": 21
    }
   ]
  },
  {
   "cell_type": "code",
   "metadata": {
    "colab": {
     "base_uri": "https://localhost:8080/",
     "height": 174
    },
    "id": "-jy0K8y07mug",
    "executionInfo": {
     "status": "ok",
     "timestamp": 1638849991222,
     "user_tz": 240,
     "elapsed": 435,
     "user": {
      "displayName": "José Max Dias Figueira Junior",
      "photoUrl": "https://lh3.googleusercontent.com/a-/AOh14GiUkfqsRDxLzojLYrGgsXG_cTc15Dnqg5KFX8QqCQ=s64",
      "userId": "07239097205257965617"
     }
    },
    "outputId": "8a884b05-c71f-4171-8283-cbece2086b7b"
   },
   "source": [
    "index = pd.MultiIndex.from_tuples([('Configuração MLP', str(param_keys)), \n",
    "                                   ('Acurácia', 'Média'),\n",
    "                                   ('Acurácia','Desvio Padrão'),\n",
    "                                   ('F1-Score','Média'),\n",
    "                                   ('F1-Score','Desvio Padrão')])\n",
    "\n",
    "df = pd.DataFrame(df3.values, columns=index)\n",
    "# df.set_index(('Configuração MLP', str(param_keys)))\n",
    "df"
   ],
   "execution_count": 24,
   "outputs": [
    {
     "output_type": "execute_result",
     "data": {
      "text/html": [
       "<div>\n",
       "<style scoped>\n",
       "    .dataframe tbody tr th:only-of-type {\n",
       "        vertical-align: middle;\n",
       "    }\n",
       "\n",
       "    .dataframe tbody tr th {\n",
       "        vertical-align: top;\n",
       "    }\n",
       "\n",
       "    .dataframe thead tr th {\n",
       "        text-align: left;\n",
       "    }\n",
       "</style>\n",
       "<table border=\"1\" class=\"dataframe\">\n",
       "  <thead>\n",
       "    <tr>\n",
       "      <th></th>\n",
       "      <th>Configuração MLP</th>\n",
       "      <th colspan=\"2\" halign=\"left\">Acurácia</th>\n",
       "      <th colspan=\"2\" halign=\"left\">F1-Score</th>\n",
       "    </tr>\n",
       "    <tr>\n",
       "      <th></th>\n",
       "      <th>['hidden_layer_sizes', 'activation', 'solver', 'max_iter']</th>\n",
       "      <th>Média</th>\n",
       "      <th>Desvio Padrão</th>\n",
       "      <th>Média</th>\n",
       "      <th>Desvio Padrão</th>\n",
       "    </tr>\n",
       "  </thead>\n",
       "  <tbody>\n",
       "    <tr>\n",
       "      <th>0</th>\n",
       "      <td>[(15, 15), relu, adam, 200]</td>\n",
       "      <td>0.753691</td>\n",
       "      <td>0.00254848</td>\n",
       "      <td>0.613159</td>\n",
       "      <td>0.0133949</td>\n",
       "    </tr>\n",
       "    <tr>\n",
       "      <th>1</th>\n",
       "      <td>[(15, 15), relu, adam, 150]</td>\n",
       "      <td>0.752129</td>\n",
       "      <td>0.00423977</td>\n",
       "      <td>0.607575</td>\n",
       "      <td>0.0143259</td>\n",
       "    </tr>\n",
       "    <tr>\n",
       "      <th>2</th>\n",
       "      <td>[(15, 15), relu, adam, 100]</td>\n",
       "      <td>0.751287</td>\n",
       "      <td>0.00230428</td>\n",
       "      <td>0.606962</td>\n",
       "      <td>0.00931045</td>\n",
       "    </tr>\n",
       "  </tbody>\n",
       "</table>\n",
       "</div>"
      ],
      "text/plain": [
       "                                            Configuração MLP  ...      F1-Score\n",
       "  ['hidden_layer_sizes', 'activation', 'solver', 'max_iter']  ... Desvio Padrão\n",
       "0                        [(15, 15), relu, adam, 200]          ...     0.0133949\n",
       "1                        [(15, 15), relu, adam, 150]          ...     0.0143259\n",
       "2                        [(15, 15), relu, adam, 100]          ...    0.00931045\n",
       "\n",
       "[3 rows x 5 columns]"
      ]
     },
     "metadata": {},
     "execution_count": 24
    }
   ]
  },
  {
   "cell_type": "markdown",
   "metadata": {
    "id": "9CxwEq_HkNv6"
   },
   "source": [
    "## Estimando o número de neurônios\n",
    "\n",
    "Um dos problemas de pesquisa com redes neurais artificiais consiste na determinação do número de neurônios em sua arquitetura. Embora não seja possível definir a priori qual rede neural é adequada para um problema, pois isto só é possível mediante uma busca exaustiva, há regras na literatura que sugerem o número de neurônios escondidos, tal como a regra da Pirâmide Geométrica, dada a seguir:\n",
    "\n",
    "$$N_h = \\alpha \\cdot \\sqrt{N_i \\cdot N_o},$$\n",
    "\n",
    "em que $N_h$ é o número de neurônios ocultos (a serem distribuídos em uma ou duas camadas ocultas), $N_i$ é o número de neurônios na camada de entrada e $N_o$ é o número de neurônios na camada de saída. \n",
    "\n",
    "1. Consulte a documentação da classe MLPClassifier (disponível em https://scikit-learn.org/stable/modules/generated/sklearn.neural_network.MLPClassifier.html) e obtenha os valores de $N_i$ e $N_o$.\n",
    "2. Teste os valores de $\\alpha$ como sendo iguais a $0.5$, $2$ e $3$."
   ]
  },
  {
   "cell_type": "markdown",
   "metadata": {
    "id": "Xii06jwrkNwD"
   },
   "source": [
    "# Estimando o número de neurônios"
   ]
  },
  {
   "cell_type": "markdown",
   "metadata": {
    "id": "NEclx5iYkNwD"
   },
   "source": [
    "hidden_layer_sizes -  encontrado no classificador MLP indica o número\n",
    "de neurônios na camada oculta e para estimar essa quantidade de neurônios foi utilizada a\n",
    "Regra da Pirâmide Geométrica (Geometric Pyramid Rule) proposta por Masters (1993). Onde,\n",
    "para uma camada oculta com $n$ entradas e $m$ saídas, a camada oculta terá $\\sqrt{n \\cdot m}$ neuronios.\n",
    "\n",
    "$$10 = \\alpha \\cdot \\sqrt{10 \\cdot 7},$$ $$\\alpha = 1.1952...$$"
   ]
  },
  {
   "cell_type": "markdown",
   "metadata": {
    "id": "WKiHz2lM9v37"
   },
   "source": [
    "### For $\\alpha = 0.5, N_h = 4 $ ($N_h$ = 4.18...)"
   ]
  },
  {
   "cell_type": "code",
   "metadata": {
    "id": "YPUmHWwi9v3-",
    "executionInfo": {
     "status": "ok",
     "timestamp": 1638848350592,
     "user_tz": 240,
     "elapsed": 319,
     "user": {
      "displayName": "José Max Dias Figueira Junior",
      "photoUrl": "https://lh3.googleusercontent.com/a-/AOh14GiUkfqsRDxLzojLYrGgsXG_cTc15Dnqg5KFX8QqCQ=s64",
      "userId": "07239097205257965617"
     }
    }
   },
   "source": [
    "p4 = {'random_state': 1, 'verbose': False, 'hidden_layer_sizes': (4,), 'activation': 'relu', 'solver': 'adam', 'max_iter': 200}"
   ],
   "execution_count": 14,
   "outputs": []
  },
  {
   "cell_type": "code",
   "metadata": {
    "id": "nP31961T9v3_",
    "executionInfo": {
     "status": "ok",
     "timestamp": 1638848429767,
     "user_tz": 240,
     "elapsed": 78010,
     "user": {
      "displayName": "José Max Dias Figueira Junior",
      "photoUrl": "https://lh3.googleusercontent.com/a-/AOh14GiUkfqsRDxLzojLYrGgsXG_cTc15Dnqg5KFX8QqCQ=s64",
      "userId": "07239097205257965617"
     }
    }
   },
   "source": [
    "mlp_params_all, acc_mean, acc_std, f1s_mean, f1s_std = evaluate_mlp(X, y, **p4)"
   ],
   "execution_count": 15,
   "outputs": []
  },
  {
   "cell_type": "code",
   "metadata": {
    "colab": {
     "base_uri": "https://localhost:8080/"
    },
    "id": "HMHnItt79v3_",
    "executionInfo": {
     "status": "ok",
     "timestamp": 1638848429776,
     "user_tz": 240,
     "elapsed": 28,
     "user": {
      "displayName": "José Max Dias Figueira Junior",
      "photoUrl": "https://lh3.googleusercontent.com/a-/AOh14GiUkfqsRDxLzojLYrGgsXG_cTc15Dnqg5KFX8QqCQ=s64",
      "userId": "07239097205257965617"
     }
    },
    "outputId": "75dc4711-712b-4117-f002-8239c7522a5c"
   },
   "source": [
    "print(mlp_params_all)\n",
    "print(acc_mean)\n",
    "print(acc_std)\n",
    "print(f1s_mean)\n",
    "print(f1s_std)"
   ],
   "execution_count": 16,
   "outputs": [
    {
     "output_type": "stream",
     "name": "stdout",
     "text": [
      "{'activation': 'relu', 'alpha': 0.0001, 'batch_size': 'auto', 'beta_1': 0.9, 'beta_2': 0.999, 'early_stopping': False, 'epsilon': 1e-08, 'hidden_layer_sizes': (4,), 'learning_rate': 'constant', 'learning_rate_init': 0.001, 'max_fun': 15000, 'max_iter': 200, 'momentum': 0.9, 'n_iter_no_change': 10, 'nesterovs_momentum': True, 'power_t': 0.5, 'random_state': 1, 'shuffle': True, 'solver': 'adam', 'tol': 0.0001, 'validation_fraction': 0.1, 'verbose': False, 'warm_start': False}\n",
      "0.7079585092711584\n",
      "0.0\n",
      "0.4363863090406502\n",
      "0.0\n"
     ]
    }
   ]
  },
  {
   "cell_type": "markdown",
   "metadata": {
    "id": "tJIL3OFr9v39"
   },
   "source": [
    "### For $\\alpha = 2, N_h = 17 $ ($N_h$ = 16.73...)"
   ]
  },
  {
   "cell_type": "code",
   "metadata": {
    "id": "EESiaifx6VT5",
    "executionInfo": {
     "status": "ok",
     "timestamp": 1638847607358,
     "user_tz": 240,
     "elapsed": 336,
     "user": {
      "displayName": "José Max Dias Figueira Junior",
      "photoUrl": "https://lh3.googleusercontent.com/a-/AOh14GiUkfqsRDxLzojLYrGgsXG_cTc15Dnqg5KFX8QqCQ=s64",
      "userId": "07239097205257965617"
     }
    }
   },
   "source": [
    "p17 = {'random_state': 1, 'verbose': False, 'hidden_layer_sizes': (17,), 'activation': 'relu', 'solver': 'adam', 'max_iter': 200}"
   ],
   "execution_count": 1,
   "outputs": []
  },
  {
   "cell_type": "code",
   "metadata": {
    "id": "RMHXOuXU6kP_",
    "executionInfo": {
     "status": "ok",
     "timestamp": 1638847919004,
     "user_tz": 240,
     "elapsed": 206486,
     "user": {
      "displayName": "José Max Dias Figueira Junior",
      "photoUrl": "https://lh3.googleusercontent.com/a-/AOh14GiUkfqsRDxLzojLYrGgsXG_cTc15Dnqg5KFX8QqCQ=s64",
      "userId": "07239097205257965617"
     }
    }
   },
   "source": [
    "mlp_params_all, acc_mean, acc_std, f1s_mean, f1s_std = evaluate_mlp(X, y, **p17)"
   ],
   "execution_count": 12,
   "outputs": []
  },
  {
   "cell_type": "code",
   "metadata": {
    "id": "2J8R4qIv68jS",
    "colab": {
     "base_uri": "https://localhost:8080/"
    },
    "executionInfo": {
     "status": "ok",
     "timestamp": 1638847919006,
     "user_tz": 240,
     "elapsed": 32,
     "user": {
      "displayName": "José Max Dias Figueira Junior",
      "photoUrl": "https://lh3.googleusercontent.com/a-/AOh14GiUkfqsRDxLzojLYrGgsXG_cTc15Dnqg5KFX8QqCQ=s64",
      "userId": "07239097205257965617"
     }
    },
    "outputId": "85996289-e36b-4851-88b2-68d49a1cbb1c"
   },
   "source": [
    "print(mlp_params_all)\n",
    "print(acc_mean)\n",
    "print(acc_std)\n",
    "print(f1s_mean)\n",
    "print(f1s_std)"
   ],
   "execution_count": 13,
   "outputs": [
    {
     "output_type": "stream",
     "name": "stdout",
     "text": [
      "{'activation': 'relu', 'alpha': 0.0001, 'batch_size': 'auto', 'beta_1': 0.9, 'beta_2': 0.999, 'early_stopping': False, 'epsilon': 1e-08, 'hidden_layer_sizes': (17,), 'learning_rate': 'constant', 'learning_rate_init': 0.001, 'max_fun': 15000, 'max_iter': 200, 'momentum': 0.9, 'n_iter_no_change': 10, 'nesterovs_momentum': True, 'power_t': 0.5, 'random_state': 1, 'shuffle': True, 'solver': 'adam', 'tol': 0.0001, 'validation_fraction': 0.1, 'verbose': False, 'warm_start': False}\n",
      "0.7348138883789241\n",
      "0.0\n",
      "0.554949352358149\n",
      "0.0\n"
     ]
    }
   ]
  },
  {
   "cell_type": "markdown",
   "metadata": {
    "id": "j1BtoTcw9Luj"
   },
   "source": [
    "### For $\\alpha = 3, N_h = 25 $ ($N_h$ = 25.01...)"
   ]
  },
  {
   "cell_type": "code",
   "metadata": {
    "id": "KMN31eo39Lul",
    "executionInfo": {
     "status": "ok",
     "timestamp": 1638858538995,
     "user_tz": 240,
     "elapsed": 300,
     "user": {
      "displayName": "José Max Dias Figueira Junior",
      "photoUrl": "https://lh3.googleusercontent.com/a-/AOh14GiUkfqsRDxLzojLYrGgsXG_cTc15Dnqg5KFX8QqCQ=s64",
      "userId": "07239097205257965617"
     }
    }
   },
   "source": [
    "p25 = {'random_state': 1, 'verbose': False, 'hidden_layer_sizes': (25,), 'activation': 'relu', 'solver': 'adam', 'max_iter': 200}"
   ],
   "execution_count": 47,
   "outputs": []
  },
  {
   "cell_type": "code",
   "metadata": {
    "id": "QcG_7lpr9Lum"
   },
   "source": [
    "mlp_params_all, acc_mean, acc_std, f1s_mean, f1s_std = evaluate_mlp(X, y, **p25)"
   ],
   "execution_count": null,
   "outputs": []
  },
  {
   "cell_type": "code",
   "metadata": {
    "colab": {
     "base_uri": "https://localhost:8080/"
    },
    "id": "CFXyBVha9Lun",
    "executionInfo": {
     "status": "ok",
     "timestamp": 1638847744692,
     "user_tz": 240,
     "elapsed": 15,
     "user": {
      "displayName": "Willyan Dyeno Santos",
      "photoUrl": "https://lh3.googleusercontent.com/a-/AOh14Gg15ND6_SutUqJBMqNACnd8xmHyUihzsMdyJ7ub=s64",
      "userId": "02840806053201770774"
     }
    },
    "outputId": "a585bd24-2a1b-4564-c5b1-6439427d4c7e"
   },
   "source": [
    "print(mlp_params_all)\n",
    "print(acc_mean)\n",
    "print(acc_std)\n",
    "print(f1s_mean)\n",
    "print(f1s_std)"
   ],
   "execution_count": null,
   "outputs": [
    {
     "output_type": "stream",
     "name": "stdout",
     "text": [
      "{'activation': 'relu', 'alpha': 0.0001, 'batch_size': 'auto', 'beta_1': 0.9, 'beta_2': 0.999, 'early_stopping': False, 'epsilon': 1e-08, 'hidden_layer_sizes': (25,), 'learning_rate': 'constant', 'learning_rate_init': 0.001, 'max_fun': 15000, 'max_iter': 200, 'momentum': 0.9, 'n_iter_no_change': 10, 'nesterovs_momentum': True, 'power_t': 0.5, 'random_state': 1, 'shuffle': True, 'solver': 'adam', 'tol': 0.0001, 'validation_fraction': 0.1, 'verbose': False, 'warm_start': False}\n",
      "0.7392486689921057\n",
      "0.0\n",
      "0.5943470181293872\n",
      "0.0\n"
     ]
    }
   ]
  },
  {
   "cell_type": "markdown",
   "metadata": {
    "id": "q7ivXY8q9Dhf"
   },
   "source": [
    "3. Proponha pelo menos 30 redes neurais segundo a regra da pirâmide geométrica e teste-as nos mesmos termos estabelecidos anterioremente  (solver, épocas, etc.)  \n",
    "    3.1 Apresente as top-3 melhores redes no tocante à F-Score e Acurácia  "
   ]
  },
  {
   "cell_type": "code",
   "metadata": {
    "colab": {
     "base_uri": "https://localhost:8080/"
    },
    "id": "Tknn8s3lJ6Aw",
    "executionInfo": {
     "status": "ok",
     "timestamp": 1638852111438,
     "user_tz": 240,
     "elapsed": 332,
     "user": {
      "displayName": "José Max Dias Figueira Junior",
      "photoUrl": "https://lh3.googleusercontent.com/a-/AOh14GiUkfqsRDxLzojLYrGgsXG_cTc15Dnqg5KFX8QqCQ=s64",
      "userId": "07239097205257965617"
     }
    },
    "outputId": "7bb02339-3e3d-4796-e800-ad499869f127"
   },
   "source": [
    "hidden_layer_sizes_list = []\n",
    "a=.5\n",
    "for h in range (0,30):\n",
    "  nh = a*((10*7)**(1/2))\n",
    "  hidden_layer_sizes_list.append((mt.ceil(nh),))\n",
    "  a+=.12\n",
    "  #print(a)\n",
    "hidden_layer_sizes_list"
   ],
   "execution_count": 36,
   "outputs": [
    {
     "output_type": "execute_result",
     "data": {
      "text/plain": [
       "[(5,),\n",
       " (6,),\n",
       " (7,),\n",
       " (8,),\n",
       " (9,),\n",
       " (10,),\n",
       " (11,),\n",
       " (12,),\n",
       " (13,),\n",
       " (14,),\n",
       " (15,),\n",
       " (16,),\n",
       " (17,),\n",
       " (18,),\n",
       " (19,),\n",
       " (20,),\n",
       " (21,),\n",
       " (22,),\n",
       " (23,),\n",
       " (24,),\n",
       " (25,),\n",
       " (26,),\n",
       " (27,),\n",
       " (28,),\n",
       " (29,),\n",
       " (30,),\n",
       " (31,),\n",
       " (32,),\n",
       " (33,),\n",
       " (34,)]"
      ]
     },
     "metadata": {},
     "execution_count": 36
    }
   ]
  },
  {
   "cell_type": "code",
   "metadata": {
    "id": "XglSG0xYJPWb",
    "executionInfo": {
     "status": "ok",
     "timestamp": 1638851251284,
     "user_tz": 240,
     "elapsed": 297,
     "user": {
      "displayName": "José Max Dias Figueira Junior",
      "photoUrl": "https://lh3.googleusercontent.com/a-/AOh14GiUkfqsRDxLzojLYrGgsXG_cTc15Dnqg5KFX8QqCQ=s64",
      "userId": "07239097205257965617"
     }
    }
   },
   "source": [
    "solvers = ['adam']\n",
    "max_iters = [200]"
   ],
   "execution_count": 25,
   "outputs": []
  },
  {
   "cell_type": "code",
   "metadata": {
    "id": "dGkJCha6JPW0",
    "executionInfo": {
     "status": "ok",
     "timestamp": 1638851253079,
     "user_tz": 240,
     "elapsed": 284,
     "user": {
      "displayName": "José Max Dias Figueira Junior",
      "photoUrl": "https://lh3.googleusercontent.com/a-/AOh14GiUkfqsRDxLzojLYrGgsXG_cTc15Dnqg5KFX8QqCQ=s64",
      "userId": "07239097205257965617"
     }
    }
   },
   "source": [
    "param_keys = ['hidden_layer_sizes', 'activation', 'solver', 'max_iter']"
   ],
   "execution_count": 26,
   "outputs": []
  },
  {
   "cell_type": "code",
   "metadata": {
    "id": "qXLM_NU3JPW1",
    "executionInfo": {
     "status": "ok",
     "timestamp": 1638851300770,
     "user_tz": 240,
     "elapsed": 304,
     "user": {
      "displayName": "José Max Dias Figueira Junior",
      "photoUrl": "https://lh3.googleusercontent.com/a-/AOh14GiUkfqsRDxLzojLYrGgsXG_cTc15Dnqg5KFX8QqCQ=s64",
      "userId": "07239097205257965617"
     }
    }
   },
   "source": [
    "base_params = {'verbose': False}"
   ],
   "execution_count": 28,
   "outputs": []
  },
  {
   "cell_type": "code",
   "metadata": {
    "colab": {
     "base_uri": "https://localhost:8080/"
    },
    "id": "35dapHS1JPW2",
    "executionInfo": {
     "status": "ok",
     "timestamp": 1638852152129,
     "user_tz": 240,
     "elapsed": 311,
     "user": {
      "displayName": "José Max Dias Figueira Junior",
      "photoUrl": "https://lh3.googleusercontent.com/a-/AOh14GiUkfqsRDxLzojLYrGgsXG_cTc15Dnqg5KFX8QqCQ=s64",
      "userId": "07239097205257965617"
     }
    },
    "outputId": "0614d2de-cad6-4a35-e01a-3bd97431fc14"
   },
   "source": [
    "results = []\n",
    "for hidden_layer_sizes in hidden_layer_sizes_list:\n",
    "  params = base_params.copy()\n",
    "  params['hidden_layer_sizes'] = hidden_layer_sizes\n",
    "  params['activation'] = 'relu'\n",
    "  for s in solvers:\n",
    "    params['solver'] = s\n",
    "    for i in max_iters:\n",
    "      params['max_iter'] = i\n",
    "      print(params)\n",
    "      #mlp_params_all, acc_mean, acc_std, f1s_mean, f1s_std = evaluate_mlp(X, y, N=N, **params)\n",
    "      #summarized_mlp_params = { param_key: mlp_params_all[param_key] for param_key in param_keys }\n",
    "      #results.append((summarized_mlp_params.values(), acc_mean, acc_std, f1s_mean, f1s_std))"
   ],
   "execution_count": 37,
   "outputs": [
    {
     "output_type": "stream",
     "name": "stdout",
     "text": [
      "{'verbose': False, 'hidden_layer_sizes': (5,), 'activation': 'relu', 'solver': 'adam', 'max_iter': 200}\n",
      "{'verbose': False, 'hidden_layer_sizes': (6,), 'activation': 'relu', 'solver': 'adam', 'max_iter': 200}\n",
      "{'verbose': False, 'hidden_layer_sizes': (7,), 'activation': 'relu', 'solver': 'adam', 'max_iter': 200}\n",
      "{'verbose': False, 'hidden_layer_sizes': (8,), 'activation': 'relu', 'solver': 'adam', 'max_iter': 200}\n",
      "{'verbose': False, 'hidden_layer_sizes': (9,), 'activation': 'relu', 'solver': 'adam', 'max_iter': 200}\n",
      "{'verbose': False, 'hidden_layer_sizes': (10,), 'activation': 'relu', 'solver': 'adam', 'max_iter': 200}\n",
      "{'verbose': False, 'hidden_layer_sizes': (11,), 'activation': 'relu', 'solver': 'adam', 'max_iter': 200}\n",
      "{'verbose': False, 'hidden_layer_sizes': (12,), 'activation': 'relu', 'solver': 'adam', 'max_iter': 200}\n",
      "{'verbose': False, 'hidden_layer_sizes': (13,), 'activation': 'relu', 'solver': 'adam', 'max_iter': 200}\n",
      "{'verbose': False, 'hidden_layer_sizes': (14,), 'activation': 'relu', 'solver': 'adam', 'max_iter': 200}\n",
      "{'verbose': False, 'hidden_layer_sizes': (15,), 'activation': 'relu', 'solver': 'adam', 'max_iter': 200}\n",
      "{'verbose': False, 'hidden_layer_sizes': (16,), 'activation': 'relu', 'solver': 'adam', 'max_iter': 200}\n",
      "{'verbose': False, 'hidden_layer_sizes': (17,), 'activation': 'relu', 'solver': 'adam', 'max_iter': 200}\n",
      "{'verbose': False, 'hidden_layer_sizes': (18,), 'activation': 'relu', 'solver': 'adam', 'max_iter': 200}\n",
      "{'verbose': False, 'hidden_layer_sizes': (19,), 'activation': 'relu', 'solver': 'adam', 'max_iter': 200}\n",
      "{'verbose': False, 'hidden_layer_sizes': (20,), 'activation': 'relu', 'solver': 'adam', 'max_iter': 200}\n",
      "{'verbose': False, 'hidden_layer_sizes': (21,), 'activation': 'relu', 'solver': 'adam', 'max_iter': 200}\n",
      "{'verbose': False, 'hidden_layer_sizes': (22,), 'activation': 'relu', 'solver': 'adam', 'max_iter': 200}\n",
      "{'verbose': False, 'hidden_layer_sizes': (23,), 'activation': 'relu', 'solver': 'adam', 'max_iter': 200}\n",
      "{'verbose': False, 'hidden_layer_sizes': (24,), 'activation': 'relu', 'solver': 'adam', 'max_iter': 200}\n",
      "{'verbose': False, 'hidden_layer_sizes': (25,), 'activation': 'relu', 'solver': 'adam', 'max_iter': 200}\n",
      "{'verbose': False, 'hidden_layer_sizes': (26,), 'activation': 'relu', 'solver': 'adam', 'max_iter': 200}\n",
      "{'verbose': False, 'hidden_layer_sizes': (27,), 'activation': 'relu', 'solver': 'adam', 'max_iter': 200}\n",
      "{'verbose': False, 'hidden_layer_sizes': (28,), 'activation': 'relu', 'solver': 'adam', 'max_iter': 200}\n",
      "{'verbose': False, 'hidden_layer_sizes': (29,), 'activation': 'relu', 'solver': 'adam', 'max_iter': 200}\n",
      "{'verbose': False, 'hidden_layer_sizes': (30,), 'activation': 'relu', 'solver': 'adam', 'max_iter': 200}\n",
      "{'verbose': False, 'hidden_layer_sizes': (31,), 'activation': 'relu', 'solver': 'adam', 'max_iter': 200}\n",
      "{'verbose': False, 'hidden_layer_sizes': (32,), 'activation': 'relu', 'solver': 'adam', 'max_iter': 200}\n",
      "{'verbose': False, 'hidden_layer_sizes': (33,), 'activation': 'relu', 'solver': 'adam', 'max_iter': 200}\n",
      "{'verbose': False, 'hidden_layer_sizes': (34,), 'activation': 'relu', 'solver': 'adam', 'max_iter': 200}\n"
     ]
    }
   ]
  },
  {
   "cell_type": "code",
   "metadata": {
    "colab": {
     "base_uri": "https://localhost:8080/"
    },
    "id": "RLxyL-eINDaY",
    "executionInfo": {
     "status": "ok",
     "timestamp": 1638854644552,
     "user_tz": 240,
     "elapsed": 1980698,
     "user": {
      "displayName": "José Max Dias Figueira Junior",
      "photoUrl": "https://lh3.googleusercontent.com/a-/AOh14GiUkfqsRDxLzojLYrGgsXG_cTc15Dnqg5KFX8QqCQ=s64",
      "userId": "07239097205257965617"
     }
    },
    "outputId": "087c09b9-ad61-4ac9-cea3-c01bb3fbb05b"
   },
   "source": [
    "hidden_layer_sizes_list = [(8,),(12,),(18,),(23,),(28,),(34,)]\n",
    "results = []\n",
    "for hidden_layer_sizes in hidden_layer_sizes_list:\n",
    "  params = base_params.copy()\n",
    "  params['hidden_layer_sizes'] = hidden_layer_sizes\n",
    "  params['activation'] = 'relu'\n",
    "  for s in solvers:\n",
    "    params['solver'] = s\n",
    "    for i in max_iters:\n",
    "      params['max_iter'] = i\n",
    "      print(params)\n",
    "      mlp_params_all, acc_mean, acc_std, f1s_mean, f1s_std = evaluate_mlp(X, y, N=2, **params)\n",
    "      summarized_mlp_params = { param_key: mlp_params_all[param_key] for param_key in param_keys }\n",
    "      out = (summarized_mlp_params.values(), acc_mean, acc_std, f1s_mean, f1s_std)\n",
    "      print(out)\n",
    "      results.append(out)"
   ],
   "execution_count": 38,
   "outputs": [
    {
     "output_type": "stream",
     "name": "stdout",
     "text": [
      "{'verbose': False, 'hidden_layer_sizes': (8,), 'activation': 'relu', 'solver': 'adam', 'max_iter': 200}\n",
      "{'verbose': False, 'hidden_layer_sizes': (12,), 'activation': 'relu', 'solver': 'adam', 'max_iter': 200}\n",
      "{'verbose': False, 'hidden_layer_sizes': (18,), 'activation': 'relu', 'solver': 'adam', 'max_iter': 200}\n",
      "{'verbose': False, 'hidden_layer_sizes': (23,), 'activation': 'relu', 'solver': 'adam', 'max_iter': 200}\n",
      "{'verbose': False, 'hidden_layer_sizes': (28,), 'activation': 'relu', 'solver': 'adam', 'max_iter': 200}\n"
     ]
    },
    {
     "output_type": "stream",
     "name": "stderr",
     "text": [
      "/usr/local/lib/python3.7/dist-packages/sklearn/neural_network/_multilayer_perceptron.py:696: ConvergenceWarning: Stochastic Optimizer: Maximum iterations (200) reached and the optimization hasn't converged yet.\n",
      "  ConvergenceWarning,\n"
     ]
    },
    {
     "output_type": "stream",
     "name": "stdout",
     "text": [
      "{'verbose': False, 'hidden_layer_sizes': (34,), 'activation': 'relu', 'solver': 'adam', 'max_iter': 200}\n"
     ]
    },
    {
     "output_type": "stream",
     "name": "stderr",
     "text": [
      "/usr/local/lib/python3.7/dist-packages/sklearn/neural_network/_multilayer_perceptron.py:696: ConvergenceWarning: Stochastic Optimizer: Maximum iterations (200) reached and the optimization hasn't converged yet.\n",
      "  ConvergenceWarning,\n",
      "/usr/local/lib/python3.7/dist-packages/sklearn/neural_network/_multilayer_perceptron.py:696: ConvergenceWarning: Stochastic Optimizer: Maximum iterations (200) reached and the optimization hasn't converged yet.\n",
      "  ConvergenceWarning,\n"
     ]
    }
   ]
  },
  {
   "cell_type": "code",
   "metadata": {
    "id": "V2B1K0Au9DK4",
    "colab": {
     "base_uri": "https://localhost:8080/"
    },
    "executionInfo": {
     "status": "ok",
     "timestamp": 1638854645585,
     "user_tz": 240,
     "elapsed": 10,
     "user": {
      "displayName": "José Max Dias Figueira Junior",
      "photoUrl": "https://lh3.googleusercontent.com/a-/AOh14GiUkfqsRDxLzojLYrGgsXG_cTc15Dnqg5KFX8QqCQ=s64",
      "userId": "07239097205257965617"
     }
    },
    "outputId": "39382d54-b296-4ccf-bd43-7664b5b0338a"
   },
   "source": [
    "results"
   ],
   "execution_count": 39,
   "outputs": [
    {
     "output_type": "execute_result",
     "data": {
      "text/plain": [
       "[(dict_values([(8,), 'relu', 'adam', 200]),\n",
       "  0.7157839177528915,\n",
       "  0.0004015972094730813,\n",
       "  0.5025686437357496,\n",
       "  0.018000561590425262),\n",
       " (dict_values([(12,), 'relu', 'adam', 200]),\n",
       "  0.7221205480080779,\n",
       "  0.0007486919405176873,\n",
       "  0.5268561580396305,\n",
       "  0.011221019790646769),\n",
       " (dict_values([(18,), 'relu', 'adam', 200]),\n",
       "  0.7304336102441711,\n",
       "  0.0006855838076005316,\n",
       "  0.5566854659956908,\n",
       "  0.008490894394530935),\n",
       " (dict_values([(23,), 'relu', 'adam', 200]),\n",
       "  0.7423983385349734,\n",
       "  0.0027939691573343195,\n",
       "  0.5813224711852301,\n",
       "  0.0018062263016207503),\n",
       " (dict_values([(28,), 'relu', 'adam', 200]),\n",
       "  0.7461676152010281,\n",
       "  0.004417569304204172,\n",
       "  0.5873848859307822,\n",
       "  0.006225647780268184),\n",
       " (dict_values([(34,), 'relu', 'adam', 200]),\n",
       "  0.7540819487791445,\n",
       "  0.0014887782265466942,\n",
       "  0.6150817228833124,\n",
       "  0.006465354081863772)]"
      ]
     },
     "metadata": {},
     "execution_count": 39
    }
   ]
  },
  {
   "cell_type": "code",
   "metadata": {
    "id": "x_lDd0qIkAxj",
    "executionInfo": {
     "status": "ok",
     "timestamp": 1638858244146,
     "user_tz": 240,
     "elapsed": 323,
     "user": {
      "displayName": "José Max Dias Figueira Junior",
      "photoUrl": "https://lh3.googleusercontent.com/a-/AOh14GiUkfqsRDxLzojLYrGgsXG_cTc15Dnqg5KFX8QqCQ=s64",
      "userId": "07239097205257965617"
     }
    }
   },
   "source": [
    "df = pd.DataFrame(results, columns=['conf', 'acc_m', 'acc_sd', 'f1s_m', 'f1s_sd'])"
   ],
   "execution_count": 40,
   "outputs": []
  },
  {
   "cell_type": "code",
   "metadata": {
    "colab": {
     "base_uri": "https://localhost:8080/",
     "height": 143
    },
    "id": "K6kMvFUXkAx6",
    "executionInfo": {
     "status": "ok",
     "timestamp": 1638858248301,
     "user_tz": 240,
     "elapsed": 304,
     "user": {
      "displayName": "José Max Dias Figueira Junior",
      "photoUrl": "https://lh3.googleusercontent.com/a-/AOh14GiUkfqsRDxLzojLYrGgsXG_cTc15Dnqg5KFX8QqCQ=s64",
      "userId": "07239097205257965617"
     }
    },
    "outputId": "d9a57723-c46f-4d5d-a705-f3207580e729"
   },
   "source": [
    "df2 = df.sort_values(['acc_m', 'acc_sd'], ascending = [False, True])\n",
    "df2 = df2.head(3)\n",
    "df2"
   ],
   "execution_count": 41,
   "outputs": [
    {
     "output_type": "execute_result",
     "data": {
      "text/html": [
       "<div>\n",
       "<style scoped>\n",
       "    .dataframe tbody tr th:only-of-type {\n",
       "        vertical-align: middle;\n",
       "    }\n",
       "\n",
       "    .dataframe tbody tr th {\n",
       "        vertical-align: top;\n",
       "    }\n",
       "\n",
       "    .dataframe thead th {\n",
       "        text-align: right;\n",
       "    }\n",
       "</style>\n",
       "<table border=\"1\" class=\"dataframe\">\n",
       "  <thead>\n",
       "    <tr style=\"text-align: right;\">\n",
       "      <th></th>\n",
       "      <th>conf</th>\n",
       "      <th>acc_m</th>\n",
       "      <th>acc_sd</th>\n",
       "      <th>f1s_m</th>\n",
       "      <th>f1s_sd</th>\n",
       "    </tr>\n",
       "  </thead>\n",
       "  <tbody>\n",
       "    <tr>\n",
       "      <th>5</th>\n",
       "      <td>((34,), relu, adam, 200)</td>\n",
       "      <td>0.754082</td>\n",
       "      <td>0.001489</td>\n",
       "      <td>0.615082</td>\n",
       "      <td>0.006465</td>\n",
       "    </tr>\n",
       "    <tr>\n",
       "      <th>4</th>\n",
       "      <td>((28,), relu, adam, 200)</td>\n",
       "      <td>0.746168</td>\n",
       "      <td>0.004418</td>\n",
       "      <td>0.587385</td>\n",
       "      <td>0.006226</td>\n",
       "    </tr>\n",
       "    <tr>\n",
       "      <th>3</th>\n",
       "      <td>((23,), relu, adam, 200)</td>\n",
       "      <td>0.742398</td>\n",
       "      <td>0.002794</td>\n",
       "      <td>0.581322</td>\n",
       "      <td>0.001806</td>\n",
       "    </tr>\n",
       "  </tbody>\n",
       "</table>\n",
       "</div>"
      ],
      "text/plain": [
       "                       conf     acc_m    acc_sd     f1s_m    f1s_sd\n",
       "5  ((34,), relu, adam, 200)  0.754082  0.001489  0.615082  0.006465\n",
       "4  ((28,), relu, adam, 200)  0.746168  0.004418  0.587385  0.006226\n",
       "3  ((23,), relu, adam, 200)  0.742398  0.002794  0.581322  0.001806"
      ]
     },
     "metadata": {},
     "execution_count": 41
    }
   ]
  },
  {
   "cell_type": "code",
   "metadata": {
    "colab": {
     "base_uri": "https://localhost:8080/",
     "height": 143
    },
    "id": "A0iqHV2_kAx7",
    "executionInfo": {
     "status": "ok",
     "timestamp": 1638858255805,
     "user_tz": 240,
     "elapsed": 458,
     "user": {
      "displayName": "José Max Dias Figueira Junior",
      "photoUrl": "https://lh3.googleusercontent.com/a-/AOh14GiUkfqsRDxLzojLYrGgsXG_cTc15Dnqg5KFX8QqCQ=s64",
      "userId": "07239097205257965617"
     }
    },
    "outputId": "9fce9da1-790f-421e-9f77-bb36299b7758"
   },
   "source": [
    "df3 = df.sort_values(['f1s_m', 'f1s_sd'], ascending = [False, True])\n",
    "df3 = df3.head(3)\n",
    "df3"
   ],
   "execution_count": 42,
   "outputs": [
    {
     "output_type": "execute_result",
     "data": {
      "text/html": [
       "<div>\n",
       "<style scoped>\n",
       "    .dataframe tbody tr th:only-of-type {\n",
       "        vertical-align: middle;\n",
       "    }\n",
       "\n",
       "    .dataframe tbody tr th {\n",
       "        vertical-align: top;\n",
       "    }\n",
       "\n",
       "    .dataframe thead th {\n",
       "        text-align: right;\n",
       "    }\n",
       "</style>\n",
       "<table border=\"1\" class=\"dataframe\">\n",
       "  <thead>\n",
       "    <tr style=\"text-align: right;\">\n",
       "      <th></th>\n",
       "      <th>conf</th>\n",
       "      <th>acc_m</th>\n",
       "      <th>acc_sd</th>\n",
       "      <th>f1s_m</th>\n",
       "      <th>f1s_sd</th>\n",
       "    </tr>\n",
       "  </thead>\n",
       "  <tbody>\n",
       "    <tr>\n",
       "      <th>5</th>\n",
       "      <td>((34,), relu, adam, 200)</td>\n",
       "      <td>0.754082</td>\n",
       "      <td>0.001489</td>\n",
       "      <td>0.615082</td>\n",
       "      <td>0.006465</td>\n",
       "    </tr>\n",
       "    <tr>\n",
       "      <th>4</th>\n",
       "      <td>((28,), relu, adam, 200)</td>\n",
       "      <td>0.746168</td>\n",
       "      <td>0.004418</td>\n",
       "      <td>0.587385</td>\n",
       "      <td>0.006226</td>\n",
       "    </tr>\n",
       "    <tr>\n",
       "      <th>3</th>\n",
       "      <td>((23,), relu, adam, 200)</td>\n",
       "      <td>0.742398</td>\n",
       "      <td>0.002794</td>\n",
       "      <td>0.581322</td>\n",
       "      <td>0.001806</td>\n",
       "    </tr>\n",
       "  </tbody>\n",
       "</table>\n",
       "</div>"
      ],
      "text/plain": [
       "                       conf     acc_m    acc_sd     f1s_m    f1s_sd\n",
       "5  ((34,), relu, adam, 200)  0.754082  0.001489  0.615082  0.006465\n",
       "4  ((28,), relu, adam, 200)  0.746168  0.004418  0.587385  0.006226\n",
       "3  ((23,), relu, adam, 200)  0.742398  0.002794  0.581322  0.001806"
      ]
     },
     "metadata": {},
     "execution_count": 42
    }
   ]
  },
  {
   "cell_type": "code",
   "metadata": {
    "colab": {
     "base_uri": "https://localhost:8080/",
     "height": 174
    },
    "id": "WcmKLsNOkAx7",
    "executionInfo": {
     "status": "ok",
     "timestamp": 1638858280954,
     "user_tz": 240,
     "elapsed": 331,
     "user": {
      "displayName": "José Max Dias Figueira Junior",
      "photoUrl": "https://lh3.googleusercontent.com/a-/AOh14GiUkfqsRDxLzojLYrGgsXG_cTc15Dnqg5KFX8QqCQ=s64",
      "userId": "07239097205257965617"
     }
    },
    "outputId": "2b44eea2-83f5-4115-9ad0-473bec414fd8"
   },
   "source": [
    "index = pd.MultiIndex.from_tuples([('Configuração MLP', str(param_keys)), \n",
    "                                   ('Acurácia', 'Média'),\n",
    "                                   ('Acurácia','Desvio Padrão'),\n",
    "                                   ('F1-Score','Média'),\n",
    "                                   ('F1-Score','Desvio Padrão')])\n",
    "\n",
    "df = pd.DataFrame(df3.values, columns=index)\n",
    "# df.set_index(('Configuração MLP', str(param_keys)))\n",
    "df"
   ],
   "execution_count": 43,
   "outputs": [
    {
     "output_type": "execute_result",
     "data": {
      "text/html": [
       "<div>\n",
       "<style scoped>\n",
       "    .dataframe tbody tr th:only-of-type {\n",
       "        vertical-align: middle;\n",
       "    }\n",
       "\n",
       "    .dataframe tbody tr th {\n",
       "        vertical-align: top;\n",
       "    }\n",
       "\n",
       "    .dataframe thead tr th {\n",
       "        text-align: left;\n",
       "    }\n",
       "</style>\n",
       "<table border=\"1\" class=\"dataframe\">\n",
       "  <thead>\n",
       "    <tr>\n",
       "      <th></th>\n",
       "      <th>Configuração MLP</th>\n",
       "      <th colspan=\"2\" halign=\"left\">Acurácia</th>\n",
       "      <th colspan=\"2\" halign=\"left\">F1-Score</th>\n",
       "    </tr>\n",
       "    <tr>\n",
       "      <th></th>\n",
       "      <th>['hidden_layer_sizes', 'activation', 'solver', 'max_iter']</th>\n",
       "      <th>Média</th>\n",
       "      <th>Desvio Padrão</th>\n",
       "      <th>Média</th>\n",
       "      <th>Desvio Padrão</th>\n",
       "    </tr>\n",
       "  </thead>\n",
       "  <tbody>\n",
       "    <tr>\n",
       "      <th>0</th>\n",
       "      <td>((34,), relu, adam, 200)</td>\n",
       "      <td>0.754082</td>\n",
       "      <td>0.00148878</td>\n",
       "      <td>0.615082</td>\n",
       "      <td>0.00646535</td>\n",
       "    </tr>\n",
       "    <tr>\n",
       "      <th>1</th>\n",
       "      <td>((28,), relu, adam, 200)</td>\n",
       "      <td>0.746168</td>\n",
       "      <td>0.00441757</td>\n",
       "      <td>0.587385</td>\n",
       "      <td>0.00622565</td>\n",
       "    </tr>\n",
       "    <tr>\n",
       "      <th>2</th>\n",
       "      <td>((23,), relu, adam, 200)</td>\n",
       "      <td>0.742398</td>\n",
       "      <td>0.00279397</td>\n",
       "      <td>0.581322</td>\n",
       "      <td>0.00180623</td>\n",
       "    </tr>\n",
       "  </tbody>\n",
       "</table>\n",
       "</div>"
      ],
      "text/plain": [
       "                                            Configuração MLP  ...      F1-Score\n",
       "  ['hidden_layer_sizes', 'activation', 'solver', 'max_iter']  ... Desvio Padrão\n",
       "0                           ((34,), relu, adam, 200)          ...    0.00646535\n",
       "1                           ((28,), relu, adam, 200)          ...    0.00622565\n",
       "2                           ((23,), relu, adam, 200)          ...    0.00180623\n",
       "\n",
       "[3 rows x 5 columns]"
      ]
     },
     "metadata": {},
     "execution_count": 43
    }
   ]
  },
  {
   "cell_type": "markdown",
   "metadata": {
    "id": "OsTJC0KPkNv7"
   },
   "source": [
    "## Testando as Redes Neurais com Atributos Categóricos\n",
    "\n",
    "1. Considere as 6 redes neurais obtidas nos dois top-3 anteriores (arquiteturas próprias e regra da pirâmide geométrica)\n",
    "2. Com todos os atributos preditores da base de dados original, incluindo os categóricos, treine e teste estas mesmas redes por 15 repetições  \n",
    "    2.1 Considere o melhor otimizador para cada uma delas  \n",
    "    2.2 Faça uso de 200 épocas para treinamento  \n",
    "    2.2 Apresente os resultados de acurácia e F-Score em termos da média +- dp para cada arquitetura\n",
    "3. Apresente o gráfico boxplot para o F-Score das 6 arquiteturas perante as 15 repetições"
   ]
  },
  {
   "cell_type": "code",
   "metadata": {
    "id": "I3W2n-FnkNv7"
   },
   "source": [
    ""
   ],
   "execution_count": null,
   "outputs": []
  },
  {
   "cell_type": "code",
   "metadata": {
    "id": "umrxuyR9IxFG",
    "executionInfo": {
     "status": "ok",
     "timestamp": 1638858347630,
     "user_tz": 240,
     "elapsed": 320,
     "user": {
      "displayName": "José Max Dias Figueira Junior",
      "photoUrl": "https://lh3.googleusercontent.com/a-/AOh14GiUkfqsRDxLzojLYrGgsXG_cTc15Dnqg5KFX8QqCQ=s64",
      "userId": "07239097205257965617"
     }
    }
   },
   "source": [
    "data = data_all"
   ],
   "execution_count": 44,
   "outputs": []
  },
  {
   "cell_type": "code",
   "metadata": {
    "colab": {
     "base_uri": "https://localhost:8080/"
    },
    "id": "2DfGHtJ5IxFU",
    "executionInfo": {
     "status": "ok",
     "timestamp": 1638858350605,
     "user_tz": 240,
     "elapsed": 416,
     "user": {
      "displayName": "José Max Dias Figueira Junior",
      "photoUrl": "https://lh3.googleusercontent.com/a-/AOh14GiUkfqsRDxLzojLYrGgsXG_cTc15Dnqg5KFX8QqCQ=s64",
      "userId": "07239097205257965617"
     }
    },
    "outputId": "5b582f41-fa3a-40a8-de1e-94c9ae6e82a4"
   },
   "source": [
    "data.shape"
   ],
   "execution_count": 45,
   "outputs": [
    {
     "output_type": "execute_result",
     "data": {
      "text/plain": [
       "(581012, 55)"
      ]
     },
     "metadata": {},
     "execution_count": 45
    }
   ]
  },
  {
   "cell_type": "code",
   "metadata": {
    "colab": {
     "base_uri": "https://localhost:8080/"
    },
    "id": "NY25o20LIxFU",
    "executionInfo": {
     "status": "ok",
     "timestamp": 1638858360953,
     "user_tz": 240,
     "elapsed": 424,
     "user": {
      "displayName": "José Max Dias Figueira Junior",
      "photoUrl": "https://lh3.googleusercontent.com/a-/AOh14GiUkfqsRDxLzojLYrGgsXG_cTc15Dnqg5KFX8QqCQ=s64",
      "userId": "07239097205257965617"
     }
    },
    "outputId": "5b74c4b2-33c0-42f6-f4fd-feb4b82358da"
   },
   "source": [
    "data.dtypes"
   ],
   "execution_count": 46,
   "outputs": [
    {
     "output_type": "execute_result",
     "data": {
      "text/plain": [
       "Elevation                             int64\n",
       "Aspect                                int64\n",
       "Slope                                 int64\n",
       "Horizontal_Distance_To_Hydrology      int64\n",
       "Vertical_Distance_To_Hydrology        int64\n",
       "Horizontal_Distance_To_Roadways       int64\n",
       "Hillshade_9am                         int64\n",
       "Hillshade_Noon                        int64\n",
       "Hillshade_3pm                         int64\n",
       "Horizontal_Distance_To_Fire_Points    int64\n",
       "Wilderness_Area1                      int64\n",
       "Wilderness_Area2                      int64\n",
       "Wilderness_Area3                      int64\n",
       "Wilderness_Area4                      int64\n",
       "Soil_Type1                            int64\n",
       "Soil_Type2                            int64\n",
       "Soil_Type3                            int64\n",
       "Soil_Type4                            int64\n",
       "Soil_Type5                            int64\n",
       "Soil_Type6                            int64\n",
       "Soil_Type7                            int64\n",
       "Soil_Type8                            int64\n",
       "Soil_Type9                            int64\n",
       "Soil_Type10                           int64\n",
       "Soil_Type11                           int64\n",
       "Soil_Type12                           int64\n",
       "Soil_Type13                           int64\n",
       "Soil_Type14                           int64\n",
       "Soil_Type15                           int64\n",
       "Soil_Type16                           int64\n",
       "Soil_Type17                           int64\n",
       "Soil_Type18                           int64\n",
       "Soil_Type19                           int64\n",
       "Soil_Type20                           int64\n",
       "Soil_Type21                           int64\n",
       "Soil_Type22                           int64\n",
       "Soil_Type23                           int64\n",
       "Soil_Type24                           int64\n",
       "Soil_Type25                           int64\n",
       "Soil_Type26                           int64\n",
       "Soil_Type27                           int64\n",
       "Soil_Type28                           int64\n",
       "Soil_Type29                           int64\n",
       "Soil_Type30                           int64\n",
       "Soil_Type31                           int64\n",
       "Soil_Type32                           int64\n",
       "Soil_Type33                           int64\n",
       "Soil_Type34                           int64\n",
       "Soil_Type35                           int64\n",
       "Soil_Type36                           int64\n",
       "Soil_Type37                           int64\n",
       "Soil_Type38                           int64\n",
       "Soil_Type39                           int64\n",
       "Soil_Type40                           int64\n",
       "Cover_Type                            int64\n",
       "dtype: object"
      ]
     },
     "metadata": {},
     "execution_count": 46
    }
   ]
  },
  {
   "cell_type": "code",
   "metadata": {
    "id": "vQ11xiTgn-sr",
    "executionInfo": {
     "status": "ok",
     "timestamp": 1638859289516,
     "user_tz": 240,
     "elapsed": 423,
     "user": {
      "displayName": "José Max Dias Figueira Junior",
      "photoUrl": "https://lh3.googleusercontent.com/a-/AOh14GiUkfqsRDxLzojLYrGgsXG_cTc15Dnqg5KFX8QqCQ=s64",
      "userId": "07239097205257965617"
     }
    }
   },
   "source": [
    "X = data.iloc[:, :(data.shape[1] - 1)]\n",
    "y = data.iloc[:, -1:]"
   ],
   "execution_count": 54,
   "outputs": []
  },
  {
   "cell_type": "code",
   "metadata": {
    "id": "UDFO5-uolTJw"
   },
   "source": [
    "#arquitetura própria"
   ],
   "execution_count": null,
   "outputs": []
  },
  {
   "cell_type": "code",
   "metadata": {
    "id": "vfUFRNFFlTrX",
    "executionInfo": {
     "status": "ok",
     "timestamp": 1638858842692,
     "user_tz": 240,
     "elapsed": 416,
     "user": {
      "displayName": "José Max Dias Figueira Junior",
      "photoUrl": "https://lh3.googleusercontent.com/a-/AOh14GiUkfqsRDxLzojLYrGgsXG_cTc15Dnqg5KFX8QqCQ=s64",
      "userId": "07239097205257965617"
     }
    }
   },
   "source": [
    "ptop1_custom = {'verbose': False, 'hidden_layer_sizes': (15,15), 'activation': 'relu', 'solver': 'adam', 'max_iter': 200}"
   ],
   "execution_count": 48,
   "outputs": []
  },
  {
   "cell_type": "code",
   "metadata": {
    "colab": {
     "base_uri": "https://localhost:8080/"
    },
    "id": "vXaTiQ6TlTrY",
    "executionInfo": {
     "status": "ok",
     "timestamp": 1638860086054,
     "user_tz": 240,
     "elapsed": 642949,
     "user": {
      "displayName": "José Max Dias Figueira Junior",
      "photoUrl": "https://lh3.googleusercontent.com/a-/AOh14GiUkfqsRDxLzojLYrGgsXG_cTc15Dnqg5KFX8QqCQ=s64",
      "userId": "07239097205257965617"
     }
    },
    "outputId": "728b073e-a4b6-4409-95fb-0366f55ef656"
   },
   "source": [
    "mlp_params_all, acc_mean, acc_std, f1s_mean, f1s_std = evaluate_mlp(X, y, N=2, **ptop1_custom)"
   ],
   "execution_count": 55,
   "outputs": [
    {
     "output_type": "stream",
     "name": "stderr",
     "text": [
      "/usr/local/lib/python3.7/dist-packages/sklearn/neural_network/_multilayer_perceptron.py:696: ConvergenceWarning: Stochastic Optimizer: Maximum iterations (200) reached and the optimization hasn't converged yet.\n",
      "  ConvergenceWarning,\n"
     ]
    }
   ]
  },
  {
   "cell_type": "code",
   "metadata": {
    "colab": {
     "base_uri": "https://localhost:8080/"
    },
    "id": "gdzCA76WlTrZ",
    "executionInfo": {
     "status": "ok",
     "timestamp": 1638860086060,
     "user_tz": 240,
     "elapsed": 25,
     "user": {
      "displayName": "José Max Dias Figueira Junior",
      "photoUrl": "https://lh3.googleusercontent.com/a-/AOh14GiUkfqsRDxLzojLYrGgsXG_cTc15Dnqg5KFX8QqCQ=s64",
      "userId": "07239097205257965617"
     }
    },
    "outputId": "6b0b93de-eea8-476e-edf8-c509d88792fa"
   },
   "source": [
    "print(mlp_params_all)\n",
    "print('Acurácia - Média: ', acc_mean)\n",
    "print('Acurácia - Desvio Padrão : ', acc_std)\n",
    "print('F1-Score - Média: ', f1s_mean)\n",
    "print('F1-Score - Desvio Padrão: ', f1s_std)"
   ],
   "execution_count": 56,
   "outputs": [
    {
     "output_type": "stream",
     "name": "stdout",
     "text": [
      "{'activation': 'relu', 'alpha': 0.0001, 'batch_size': 'auto', 'beta_1': 0.9, 'beta_2': 0.999, 'early_stopping': False, 'epsilon': 1e-08, 'hidden_layer_sizes': (15, 15), 'learning_rate': 'constant', 'learning_rate_init': 0.001, 'max_fun': 15000, 'max_iter': 200, 'momentum': 0.9, 'n_iter_no_change': 10, 'nesterovs_momentum': True, 'power_t': 0.5, 'random_state': None, 'shuffle': True, 'solver': 'adam', 'tol': 0.0001, 'validation_fraction': 0.1, 'verbose': False, 'warm_start': False}\n",
      "Acurácia - Média:  0.7973769965118414\n",
      "Acurácia - Desvio Padrão :  0.0025702221406278536\n",
      "F1-Score - Média:  0.6795517374981748\n",
      "F1-Score - Desvio Padrão:  0.0008670632605654593\n"
     ]
    }
   ]
  },
  {
   "cell_type": "code",
   "metadata": {
    "id": "Ef8iUHg2mFko"
   },
   "source": [
    "#regra da pirâmide geométrica"
   ],
   "execution_count": null,
   "outputs": []
  },
  {
   "cell_type": "code",
   "metadata": {
    "id": "szGxCo4amhLy",
    "executionInfo": {
     "status": "ok",
     "timestamp": 1638859229893,
     "user_tz": 240,
     "elapsed": 3,
     "user": {
      "displayName": "José Max Dias Figueira Junior",
      "photoUrl": "https://lh3.googleusercontent.com/a-/AOh14GiUkfqsRDxLzojLYrGgsXG_cTc15Dnqg5KFX8QqCQ=s64",
      "userId": "07239097205257965617"
     }
    }
   },
   "source": [
    "ptop1_geo = {'verbose': False, 'hidden_layer_sizes': (34,), 'activation': 'relu', 'solver': 'adam', 'max_iter': 200}"
   ],
   "execution_count": 51,
   "outputs": []
  },
  {
   "cell_type": "code",
   "metadata": {
    "colab": {
     "base_uri": "https://localhost:8080/"
    },
    "id": "gobLOUccmhMA",
    "executionInfo": {
     "status": "ok",
     "timestamp": 1638861108094,
     "user_tz": 240,
     "elapsed": 1020977,
     "user": {
      "displayName": "José Max Dias Figueira Junior",
      "photoUrl": "https://lh3.googleusercontent.com/a-/AOh14GiUkfqsRDxLzojLYrGgsXG_cTc15Dnqg5KFX8QqCQ=s64",
      "userId": "07239097205257965617"
     }
    },
    "outputId": "e8dad1a2-f0fc-47cc-ddc9-6bc9d888acfd"
   },
   "source": [
    "mlp_params_all, acc_mean, acc_std, f1s_mean, f1s_std = evaluate_mlp(X, y, N=2, **ptop1_geo)"
   ],
   "execution_count": 57,
   "outputs": [
    {
     "output_type": "stream",
     "name": "stderr",
     "text": [
      "/usr/local/lib/python3.7/dist-packages/sklearn/neural_network/_multilayer_perceptron.py:696: ConvergenceWarning: Stochastic Optimizer: Maximum iterations (200) reached and the optimization hasn't converged yet.\n",
      "  ConvergenceWarning,\n"
     ]
    }
   ]
  },
  {
   "cell_type": "code",
   "metadata": {
    "colab": {
     "base_uri": "https://localhost:8080/"
    },
    "id": "SiJT1JE1mhMB",
    "executionInfo": {
     "status": "ok",
     "timestamp": 1638861108098,
     "user_tz": 240,
     "elapsed": 24,
     "user": {
      "displayName": "José Max Dias Figueira Junior",
      "photoUrl": "https://lh3.googleusercontent.com/a-/AOh14GiUkfqsRDxLzojLYrGgsXG_cTc15Dnqg5KFX8QqCQ=s64",
      "userId": "07239097205257965617"
     }
    },
    "outputId": "425598ec-4958-4489-e7bd-d70153b32c10"
   },
   "source": [
    "print(mlp_params_all)\n",
    "print('Acurácia - Média: ', acc_mean)\n",
    "print('Acurácia - Desvio Padrão : ', acc_std)\n",
    "print('F1-Score - Média: ', f1s_mean)\n",
    "print('F1-Score - Desvio Padrão: ', f1s_std)"
   ],
   "execution_count": 58,
   "outputs": [
    {
     "output_type": "stream",
     "name": "stdout",
     "text": [
      "{'activation': 'relu', 'alpha': 0.0001, 'batch_size': 'auto', 'beta_1': 0.9, 'beta_2': 0.999, 'early_stopping': False, 'epsilon': 1e-08, 'hidden_layer_sizes': (34,), 'learning_rate': 'constant', 'learning_rate_init': 0.001, 'max_fun': 15000, 'max_iter': 200, 'momentum': 0.9, 'n_iter_no_change': 10, 'nesterovs_momentum': True, 'power_t': 0.5, 'random_state': None, 'shuffle': True, 'solver': 'adam', 'tol': 0.0001, 'validation_fraction': 0.1, 'verbose': False, 'warm_start': False}\n",
      "Acurácia - Média:  0.8157156462272811\n",
      "Acurácia - Desvio Padrão :  0.001414195887644576\n",
      "F1-Score - Média:  0.7186963825624235\n",
      "F1-Score - Desvio Padrão:  0.007296691637514063\n"
     ]
    }
   ]
  },
  {
   "cell_type": "code",
   "metadata": {
    "id": "a_3RdkJdkNv8"
   },
   "source": [
    ""
   ],
   "execution_count": null,
   "outputs": []
  }
 ]
}
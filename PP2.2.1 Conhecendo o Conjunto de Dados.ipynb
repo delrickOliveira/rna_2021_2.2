{
 "cells": [
  {
   "cell_type": "markdown",
   "metadata": {
    "id": "GGC7Kk84KWEM"
   },
   "source": [
    "## Redes Neurais Artificiais 2021.1\n",
    "\n",
    "- **Disciplina**: Redes Neurais Artificiais 2021.1  \n",
    "- **Professora**: Elloá B. Guedes (ebgcosta@uea.edu.br)  \n",
    "- **Github**: http://github.com/elloa  \n",
    "- **Equipe**: Benjamin Broges / Delrick Oliveira / Jogno Júnior / Max Dias\n",
    "\n",
    "### Explorando uma base de dados\n",
    "\n",
    "Nesta atividade prática iremos explorar a seguinte base de dados **_Forest Cover Type_**\n",
    "\n",
    "1. Obtenha esta base de dados no seguinte link: https://www.kaggle.com/uciml/forest-cover-type-dataset/download\n",
    "2. Consulte a documentação oficial da base de dados: https://archive.ics.uci.edu/ml/datasets/covertype\n",
    "3. **Responda**:  \n",
    "\n",
    "    3.1 O que é cada exemplo na base de dados? \n",
    "        Observações de árvores de quatro áreas da Floresta Nacional Roosevelt no Colorado.\n",
    "    3.2 Em que ano ela foi obtida?  \n",
    "        Em 1998.\n",
    "    3.3 Quem foram os responsáveis pela criação desta base de dados?  \n",
    "        Jock A. Blackard / Dr. Denis J. Dean / Dr. Charles W. Anderson."
   ]
  },
  {
   "cell_type": "code",
   "execution_count": 1,
   "metadata": {
    "id": "GSsu9gtxKWEQ"
   },
   "outputs": [],
   "source": [
    "## Reservado para a importação de bibliotecas\n",
    "import pandas as pd\n",
    "import numpy as np"
   ]
  },
  {
   "cell_type": "markdown",
   "metadata": {
    "id": "6U87vzGkKWES"
   },
   "source": []
  },
  {
   "cell_type": "markdown",
   "metadata": {
    "id": "T-3nMFSMKWET"
   },
   "source": []
  },
  {
   "cell_type": "markdown",
   "metadata": {
    "id": "UEJeRfMhKWET"
   },
   "source": []
  },
  {
   "cell_type": "markdown",
   "metadata": {
    "id": "dlUrXreIKWET"
   },
   "source": [
    "### Manipulando a base de dados\n",
    "\n",
    "1. Abra a base de dados com o pandas\n",
    "2. Imprima os 10 primeiros exemplos pertencentes à esta base\n",
    "3. Imprima os 10 últimos exemplos pertencentes à esta base\n",
    "4. Quantos exemplos esta base de dados possui?\n",
    "5. Quais são os atributos que a base de dados possui e quais seus tipos?\n",
    "6. Há algum dado faltante na base?\n",
    "7. De acordo com a documentação da base de dados, qual o significado dos atributos do tipo \"Soil Type\"?  \n",
    "  7.1 Este atributo é quantitativo ou qualitativo?  \n",
    "  7.2 Qual o tipo de codificação utilizada para denotar este atributo? Consulte a seguinte referência:  \n",
    "  * https://pbpython.com/categorical-encoding.html"
   ]
  },
  {
   "cell_type": "code",
   "execution_count": null,
   "metadata": {
    "id": "c_F3bgxYKWEU"
   },
   "outputs": [],
   "source": []
  },
  {
   "cell_type": "code",
   "execution_count": null,
   "metadata": {
    "id": "-YQHImSYKWEV"
   },
   "outputs": [],
   "source": []
  },
  {
   "cell_type": "code",
   "execution_count": null,
   "metadata": {
    "id": "JAKv_TEvKWEV"
   },
   "outputs": [],
   "source": []
  },
  {
   "cell_type": "code",
   "execution_count": null,
   "metadata": {
    "id": "zE7Q374QKWEW"
   },
   "outputs": [],
   "source": []
  },
  {
   "cell_type": "markdown",
   "metadata": {
    "id": "bMWUCbeYKWEW"
   },
   "source": [
    "### Visualizando a base de dados\n",
    "\n",
    "1. Baseando-se nos fundamentos de visualização de dados abordados na disciplina, plote cada um dos atributos preditores de maneira a enfatizar a sua distribuição, tendência central e dispersão  \n",
    "1.1 Considere que o número de columas no dataset é diferente do número de atributos, conforme discussão promovida a respeito do dataset  \n",
    "1.2 Se preferir, opte por complementar as informações visuais com medidas estatísticas  \n",
    "2. A partir da visualização elaborada, o que pode-se dizer a respeito do balanceamento do atributo-alvo?\n",
    "3. Que tipo de tarefa de Aprendizado de Máquina é sugestiva para este problema?  \n",
    "3.1 Apresente métricas de desempenho compatíveis para a avaliação do problema (liste-as)  \n",
    "3.2 Escolha uma das métricas apresentadas para ser utilizada como referência pela equipe"
   ]
  },
  {
   "cell_type": "code",
   "execution_count": null,
   "metadata": {
    "id": "h_v_6X43KWEX"
   },
   "outputs": [],
   "source": []
  },
  {
   "cell_type": "code",
   "execution_count": null,
   "metadata": {
    "id": "z-ZkPN03KWEX"
   },
   "outputs": [],
   "source": []
  },
  {
   "cell_type": "code",
   "execution_count": null,
   "metadata": {
    "id": "uxzgcFsMKWEX"
   },
   "outputs": [],
   "source": []
  },
  {
   "cell_type": "code",
   "execution_count": null,
   "metadata": {
    "id": "Pw5gF9igKWEY"
   },
   "outputs": [],
   "source": []
  },
  {
   "cell_type": "code",
   "execution_count": null,
   "metadata": {
    "id": "0_XBjzPDKWEY"
   },
   "outputs": [],
   "source": []
  },
  {
   "cell_type": "code",
   "execution_count": null,
   "metadata": {
    "id": "u5pINIkIKWEY"
   },
   "outputs": [],
   "source": []
  }
 ],
 "metadata": {
  "colab": {
   "name": "PP2.2.1 - Conhecendo o Conjunto de Dados.ipynb",
   "provenance": []
  },
  "kernelspec": {
   "display_name": "Python 3 (ipykernel)",
   "language": "python",
   "name": "python3"
  },
  "language_info": {
   "codemirror_mode": {
    "name": "ipython",
    "version": 3
   },
   "file_extension": ".py",
   "mimetype": "text/x-python",
   "name": "python",
   "nbconvert_exporter": "python",
   "pygments_lexer": "ipython3",
   "version": "3.8.5"
  }
 },
 "nbformat": 4,
 "nbformat_minor": 1
}

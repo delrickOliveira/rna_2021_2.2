{
 "cells": [
  {
   "cell_type": "markdown",
   "metadata": {},
   "source": [
    "## Redes Neurais Artificiais 2021.1\n",
    "\n",
    "- **Disciplina**: Redes Neurais Artificiais 2021.1  \n",
    "- **Professora**: Elloá B. Guedes (ebgcosta@uea.edu.br)  \n",
    "- **Github**: http://github.com/elloa  \n",
    "\n",
    "### Explorando uma base de dados\n",
    "\n",
    "Nesta atividade prática iremos explorar a seguinte base de dados **_Forest Cover Type_**\n",
    "\n",
    "1. Obtenha esta base de dados no seguinte link: https://www.kaggle.com/uciml/forest-cover-type-dataset/download\n",
    "2. Consulte a documentação oficial da base de dados: https://archive.ics.uci.edu/ml/datasets/covertype\n",
    "3. **Responda**:  \n",
    "\n",
    "    3.1 O que é cada exemplo na base de dados?  \n",
    "    3.2 Em que ano ela foi obtida?  \n",
    "    3.3 Quem foram os responsáveis pela criação desta base de dados?  "
   ]
  },
  {
   "cell_type": "code",
   "execution_count": 9,
   "outputs": [
    {
     "name": "stdout",
     "output_type": "stream",
     "text": [
      "Requirement already satisfied: pandas in /home/delrick/anaconda3/envs/rna_2021_22/lib/python3.9/site-packages (1.3.4)\n",
      "Requirement already satisfied: python-dateutil>=2.7.3 in /home/delrick/anaconda3/envs/rna_2021_22/lib/python3.9/site-packages (from pandas) (2.8.2)\n",
      "Requirement already satisfied: pytz>=2017.3 in /home/delrick/anaconda3/envs/rna_2021_22/lib/python3.9/site-packages (from pandas) (2021.3)\n",
      "Requirement already satisfied: numpy>=1.17.3 in /home/delrick/anaconda3/envs/rna_2021_22/lib/python3.9/site-packages (from pandas) (1.21.4)\n",
      "Requirement already satisfied: six>=1.5 in /home/delrick/anaconda3/envs/rna_2021_22/lib/python3.9/site-packages (from python-dateutil>=2.7.3->pandas) (1.16.0)\n",
      "Requirement already satisfied: numpy in /home/delrick/anaconda3/envs/rna_2021_22/lib/python3.9/site-packages (1.21.4)\n",
      "Requirement already satisfied: matplotlib in /home/delrick/anaconda3/envs/rna_2021_22/lib/python3.9/site-packages (3.5.0)\n",
      "Requirement already satisfied: cycler>=0.10 in /home/delrick/anaconda3/envs/rna_2021_22/lib/python3.9/site-packages (from matplotlib) (0.11.0)\n",
      "Requirement already satisfied: python-dateutil>=2.7 in /home/delrick/anaconda3/envs/rna_2021_22/lib/python3.9/site-packages (from matplotlib) (2.8.2)\n",
      "Requirement already satisfied: pillow>=6.2.0 in /home/delrick/anaconda3/envs/rna_2021_22/lib/python3.9/site-packages (from matplotlib) (8.4.0)\n",
      "Requirement already satisfied: kiwisolver>=1.0.1 in /home/delrick/anaconda3/envs/rna_2021_22/lib/python3.9/site-packages (from matplotlib) (1.3.2)\n",
      "Requirement already satisfied: setuptools-scm>=4 in /home/delrick/anaconda3/envs/rna_2021_22/lib/python3.9/site-packages (from matplotlib) (6.3.2)\n",
      "Requirement already satisfied: fonttools>=4.22.0 in /home/delrick/anaconda3/envs/rna_2021_22/lib/python3.9/site-packages (from matplotlib) (4.28.1)\n",
      "Requirement already satisfied: numpy>=1.17 in /home/delrick/anaconda3/envs/rna_2021_22/lib/python3.9/site-packages (from matplotlib) (1.21.4)\n",
      "Requirement already satisfied: pyparsing>=2.2.1 in /home/delrick/anaconda3/envs/rna_2021_22/lib/python3.9/site-packages (from matplotlib) (3.0.4)\n",
      "Requirement already satisfied: packaging>=20.0 in /home/delrick/anaconda3/envs/rna_2021_22/lib/python3.9/site-packages (from matplotlib) (21.0)\n",
      "Requirement already satisfied: six>=1.5 in /home/delrick/anaconda3/envs/rna_2021_22/lib/python3.9/site-packages (from python-dateutil>=2.7->matplotlib) (1.16.0)\n",
      "Requirement already satisfied: tomli>=1.0.0 in /home/delrick/anaconda3/envs/rna_2021_22/lib/python3.9/site-packages (from setuptools-scm>=4->matplotlib) (1.2.2)\n",
      "Requirement already satisfied: setuptools in /home/delrick/anaconda3/envs/rna_2021_22/lib/python3.9/site-packages (from setuptools-scm>=4->matplotlib) (58.0.4)\n",
      "Requirement already satisfied: kaggle in /home/delrick/anaconda3/envs/rna_2021_22/lib/python3.9/site-packages (1.5.12)\n",
      "Requirement already satisfied: python-dateutil in /home/delrick/anaconda3/envs/rna_2021_22/lib/python3.9/site-packages (from kaggle) (2.8.2)\n",
      "Requirement already satisfied: python-slugify in /home/delrick/anaconda3/envs/rna_2021_22/lib/python3.9/site-packages (from kaggle) (5.0.2)\n",
      "Requirement already satisfied: tqdm in /home/delrick/anaconda3/envs/rna_2021_22/lib/python3.9/site-packages (from kaggle) (4.62.3)\n",
      "Requirement already satisfied: certifi in /home/delrick/anaconda3/envs/rna_2021_22/lib/python3.9/site-packages (from kaggle) (2021.10.8)\n",
      "Requirement already satisfied: six>=1.10 in /home/delrick/anaconda3/envs/rna_2021_22/lib/python3.9/site-packages (from kaggle) (1.16.0)\n",
      "Requirement already satisfied: urllib3 in /home/delrick/anaconda3/envs/rna_2021_22/lib/python3.9/site-packages (from kaggle) (1.26.7)\n",
      "Requirement already satisfied: requests in /home/delrick/anaconda3/envs/rna_2021_22/lib/python3.9/site-packages (from kaggle) (2.26.0)\n",
      "Requirement already satisfied: text-unidecode>=1.3 in /home/delrick/anaconda3/envs/rna_2021_22/lib/python3.9/site-packages (from python-slugify->kaggle) (1.3)\n",
      "Requirement already satisfied: idna<4,>=2.5 in /home/delrick/anaconda3/envs/rna_2021_22/lib/python3.9/site-packages (from requests->kaggle) (3.3)\n",
      "Requirement already satisfied: charset-normalizer~=2.0.0 in /home/delrick/anaconda3/envs/rna_2021_22/lib/python3.9/site-packages (from requests->kaggle) (2.0.7)\n"
     ]
    }
   ],
   "source": [
    "import sys\n",
    "import subprocess\n",
    "\n",
    "def setup_packages():\n",
    "    \"\"\"\n",
    "    Commands in console to install pip packages\n",
    "    :return: void\n",
    "    \"\"\"\n",
    "    packages = [\"pandas\", \"numpy\", \"matplotlib\", \"kaggle\"]\n",
    "    for package in packages:\n",
    "        subprocess.check_call([sys.executable, \"-m\", \"pip\", \"install\", package])\n",
    "    pass\n",
    "\n",
    "# doing setup of project,\n",
    "setup_packages()"
   ],
   "metadata": {
    "collapsed": false,
    "pycharm": {
     "name": "#%%\n"
    }
   }
  },
  {
   "cell_type": "code",
   "execution_count": 10,
   "outputs": [
    {
     "name": "stdout",
     "output_type": "stream",
     "text": [
      "Warning: Your Kaggle API key is readable by other users on this system! To fix this, you can run 'chmod 600 /home/delrick/.kaggle/kaggle.json'\n",
      "forest-cover-type-dataset.zip: Skipping, found more recently modified local copy (use --force to force download)\n"
     ]
    }
   ],
   "source": [
    "# before run do the following:\n",
    "# download token from your kaggle profile and put in to the\n",
    "# folder ~/kaggle/kaggle.json on linux and\n",
    "# in C:\\Users<Windows-username>.kaggle\\kaggle.json in Windows\n",
    "# any doubts see for reference: https://www.kaggle.com/docs/api\n",
    "\n",
    "from zipfile import ZipFile\n",
    "\n",
    "def download_unzip_dataset():\n",
    "    \"\"\"\n",
    "    Using kaggle api to download project dataset and zipfile module to unzip it\n",
    "    :return: void\n",
    "    \"\"\"\n",
    "    subprocess.check_call([\"kaggle\", \"datasets\", \"download\", \"-d\", \"uciml/forest-cover-type-dataset\"])\n",
    "    with ZipFile('forest-cover-type-dataset.zip', 'r') as zipObj:\n",
    "        zipObj.extractall(\"data\")\n",
    "    pass\n",
    "download_unzip_dataset()"
   ],
   "metadata": {
    "collapsed": false,
    "pycharm": {
     "name": "#%%\n"
    }
   }
  },
  {
   "cell_type": "code",
   "execution_count": 11,
   "outputs": [],
   "source": [
    "## Reservado para a importação de bibliotecas\n",
    "import pandas as pd\n",
    "import numpy as np\n",
    "import matplotlib.pyplot as plt\n"
   ],
   "metadata": {
    "collapsed": false,
    "pycharm": {
     "name": "#%%\n"
    }
   }
  },
  {
   "cell_type": "markdown",
   "metadata": {},
   "source": [
    "### Manipulando a base de dados\n",
    "\n",
    "1. Abra a base de dados com o pandas\n",
    "2. Imprima os 10 primeiros exemplos pertencentes à esta base\n",
    "3. Imprima os 10 últimos exemplos pertencentes à esta base\n",
    "4. Quantos exemplos esta base de dados possui?\n",
    "5. Quais são os atributos que a base de dados possui e quais seus tipos?\n",
    "6. Há algum dado faltante na base?\n",
    "7. De acordo com a documentação da base de dados, qual o significado dos atributos do tipo \"Soil Type\"?  \n",
    "  7.1 Este atributo é quantitativo ou qualitativo?  \n",
    "  7.2 Qual o tipo de codificação utilizada para denotar este atributo? Consulte a seguinte referência:  \n",
    "  * https://pbpython.com/categorical-encoding.html"
   ]
  },
  {
   "cell_type": "code",
   "execution_count": 30,
   "metadata": {},
   "outputs": [],
   "source": [
    "# 1. Abra a base de dados com o pandas\n",
    "\n",
    "data = pd.read_csv(\"data/covtype.csv\", sep = \",\")"
   ]
  },
  {
   "cell_type": "code",
   "execution_count": 31,
   "metadata": {},
   "outputs": [
    {
     "data": {
      "text/plain": "   Elevation  Aspect  Slope  Horizontal_Distance_To_Hydrology  \\\n0       2596      51      3                               258   \n1       2590      56      2                               212   \n2       2804     139      9                               268   \n3       2785     155     18                               242   \n4       2595      45      2                               153   \n5       2579     132      6                               300   \n6       2606      45      7                               270   \n7       2605      49      4                               234   \n8       2617      45      9                               240   \n9       2612      59     10                               247   \n\n   Vertical_Distance_To_Hydrology  Horizontal_Distance_To_Roadways  \\\n0                               0                              510   \n1                              -6                              390   \n2                              65                             3180   \n3                             118                             3090   \n4                              -1                              391   \n5                             -15                               67   \n6                               5                              633   \n7                               7                              573   \n8                              56                              666   \n9                              11                              636   \n\n   Hillshade_9am  Hillshade_Noon  Hillshade_3pm  \\\n0            221             232            148   \n1            220             235            151   \n2            234             238            135   \n3            238             238            122   \n4            220             234            150   \n5            230             237            140   \n6            222             225            138   \n7            222             230            144   \n8            223             221            133   \n9            228             219            124   \n\n   Horizontal_Distance_To_Fire_Points  ...  Soil_Type32  Soil_Type33  \\\n0                                6279  ...            0            0   \n1                                6225  ...            0            0   \n2                                6121  ...            0            0   \n3                                6211  ...            0            0   \n4                                6172  ...            0            0   \n5                                6031  ...            0            0   \n6                                6256  ...            0            0   \n7                                6228  ...            0            0   \n8                                6244  ...            0            0   \n9                                6230  ...            0            0   \n\n   Soil_Type34  Soil_Type35  Soil_Type36  Soil_Type37  Soil_Type38  \\\n0            0            0            0            0            0   \n1            0            0            0            0            0   \n2            0            0            0            0            0   \n3            0            0            0            0            0   \n4            0            0            0            0            0   \n5            0            0            0            0            0   \n6            0            0            0            0            0   \n7            0            0            0            0            0   \n8            0            0            0            0            0   \n9            0            0            0            0            0   \n\n   Soil_Type39  Soil_Type40  Cover_Type  \n0            0            0           5  \n1            0            0           5  \n2            0            0           2  \n3            0            0           2  \n4            0            0           5  \n5            0            0           2  \n6            0            0           5  \n7            0            0           5  \n8            0            0           5  \n9            0            0           5  \n\n[10 rows x 55 columns]",
      "text/html": "<div>\n<style scoped>\n    .dataframe tbody tr th:only-of-type {\n        vertical-align: middle;\n    }\n\n    .dataframe tbody tr th {\n        vertical-align: top;\n    }\n\n    .dataframe thead th {\n        text-align: right;\n    }\n</style>\n<table border=\"1\" class=\"dataframe\">\n  <thead>\n    <tr style=\"text-align: right;\">\n      <th></th>\n      <th>Elevation</th>\n      <th>Aspect</th>\n      <th>Slope</th>\n      <th>Horizontal_Distance_To_Hydrology</th>\n      <th>Vertical_Distance_To_Hydrology</th>\n      <th>Horizontal_Distance_To_Roadways</th>\n      <th>Hillshade_9am</th>\n      <th>Hillshade_Noon</th>\n      <th>Hillshade_3pm</th>\n      <th>Horizontal_Distance_To_Fire_Points</th>\n      <th>...</th>\n      <th>Soil_Type32</th>\n      <th>Soil_Type33</th>\n      <th>Soil_Type34</th>\n      <th>Soil_Type35</th>\n      <th>Soil_Type36</th>\n      <th>Soil_Type37</th>\n      <th>Soil_Type38</th>\n      <th>Soil_Type39</th>\n      <th>Soil_Type40</th>\n      <th>Cover_Type</th>\n    </tr>\n  </thead>\n  <tbody>\n    <tr>\n      <th>0</th>\n      <td>2596</td>\n      <td>51</td>\n      <td>3</td>\n      <td>258</td>\n      <td>0</td>\n      <td>510</td>\n      <td>221</td>\n      <td>232</td>\n      <td>148</td>\n      <td>6279</td>\n      <td>...</td>\n      <td>0</td>\n      <td>0</td>\n      <td>0</td>\n      <td>0</td>\n      <td>0</td>\n      <td>0</td>\n      <td>0</td>\n      <td>0</td>\n      <td>0</td>\n      <td>5</td>\n    </tr>\n    <tr>\n      <th>1</th>\n      <td>2590</td>\n      <td>56</td>\n      <td>2</td>\n      <td>212</td>\n      <td>-6</td>\n      <td>390</td>\n      <td>220</td>\n      <td>235</td>\n      <td>151</td>\n      <td>6225</td>\n      <td>...</td>\n      <td>0</td>\n      <td>0</td>\n      <td>0</td>\n      <td>0</td>\n      <td>0</td>\n      <td>0</td>\n      <td>0</td>\n      <td>0</td>\n      <td>0</td>\n      <td>5</td>\n    </tr>\n    <tr>\n      <th>2</th>\n      <td>2804</td>\n      <td>139</td>\n      <td>9</td>\n      <td>268</td>\n      <td>65</td>\n      <td>3180</td>\n      <td>234</td>\n      <td>238</td>\n      <td>135</td>\n      <td>6121</td>\n      <td>...</td>\n      <td>0</td>\n      <td>0</td>\n      <td>0</td>\n      <td>0</td>\n      <td>0</td>\n      <td>0</td>\n      <td>0</td>\n      <td>0</td>\n      <td>0</td>\n      <td>2</td>\n    </tr>\n    <tr>\n      <th>3</th>\n      <td>2785</td>\n      <td>155</td>\n      <td>18</td>\n      <td>242</td>\n      <td>118</td>\n      <td>3090</td>\n      <td>238</td>\n      <td>238</td>\n      <td>122</td>\n      <td>6211</td>\n      <td>...</td>\n      <td>0</td>\n      <td>0</td>\n      <td>0</td>\n      <td>0</td>\n      <td>0</td>\n      <td>0</td>\n      <td>0</td>\n      <td>0</td>\n      <td>0</td>\n      <td>2</td>\n    </tr>\n    <tr>\n      <th>4</th>\n      <td>2595</td>\n      <td>45</td>\n      <td>2</td>\n      <td>153</td>\n      <td>-1</td>\n      <td>391</td>\n      <td>220</td>\n      <td>234</td>\n      <td>150</td>\n      <td>6172</td>\n      <td>...</td>\n      <td>0</td>\n      <td>0</td>\n      <td>0</td>\n      <td>0</td>\n      <td>0</td>\n      <td>0</td>\n      <td>0</td>\n      <td>0</td>\n      <td>0</td>\n      <td>5</td>\n    </tr>\n    <tr>\n      <th>5</th>\n      <td>2579</td>\n      <td>132</td>\n      <td>6</td>\n      <td>300</td>\n      <td>-15</td>\n      <td>67</td>\n      <td>230</td>\n      <td>237</td>\n      <td>140</td>\n      <td>6031</td>\n      <td>...</td>\n      <td>0</td>\n      <td>0</td>\n      <td>0</td>\n      <td>0</td>\n      <td>0</td>\n      <td>0</td>\n      <td>0</td>\n      <td>0</td>\n      <td>0</td>\n      <td>2</td>\n    </tr>\n    <tr>\n      <th>6</th>\n      <td>2606</td>\n      <td>45</td>\n      <td>7</td>\n      <td>270</td>\n      <td>5</td>\n      <td>633</td>\n      <td>222</td>\n      <td>225</td>\n      <td>138</td>\n      <td>6256</td>\n      <td>...</td>\n      <td>0</td>\n      <td>0</td>\n      <td>0</td>\n      <td>0</td>\n      <td>0</td>\n      <td>0</td>\n      <td>0</td>\n      <td>0</td>\n      <td>0</td>\n      <td>5</td>\n    </tr>\n    <tr>\n      <th>7</th>\n      <td>2605</td>\n      <td>49</td>\n      <td>4</td>\n      <td>234</td>\n      <td>7</td>\n      <td>573</td>\n      <td>222</td>\n      <td>230</td>\n      <td>144</td>\n      <td>6228</td>\n      <td>...</td>\n      <td>0</td>\n      <td>0</td>\n      <td>0</td>\n      <td>0</td>\n      <td>0</td>\n      <td>0</td>\n      <td>0</td>\n      <td>0</td>\n      <td>0</td>\n      <td>5</td>\n    </tr>\n    <tr>\n      <th>8</th>\n      <td>2617</td>\n      <td>45</td>\n      <td>9</td>\n      <td>240</td>\n      <td>56</td>\n      <td>666</td>\n      <td>223</td>\n      <td>221</td>\n      <td>133</td>\n      <td>6244</td>\n      <td>...</td>\n      <td>0</td>\n      <td>0</td>\n      <td>0</td>\n      <td>0</td>\n      <td>0</td>\n      <td>0</td>\n      <td>0</td>\n      <td>0</td>\n      <td>0</td>\n      <td>5</td>\n    </tr>\n    <tr>\n      <th>9</th>\n      <td>2612</td>\n      <td>59</td>\n      <td>10</td>\n      <td>247</td>\n      <td>11</td>\n      <td>636</td>\n      <td>228</td>\n      <td>219</td>\n      <td>124</td>\n      <td>6230</td>\n      <td>...</td>\n      <td>0</td>\n      <td>0</td>\n      <td>0</td>\n      <td>0</td>\n      <td>0</td>\n      <td>0</td>\n      <td>0</td>\n      <td>0</td>\n      <td>0</td>\n      <td>5</td>\n    </tr>\n  </tbody>\n</table>\n<p>10 rows × 55 columns</p>\n</div>"
     },
     "execution_count": 31,
     "metadata": {},
     "output_type": "execute_result"
    }
   ],
   "source": [
    "# 2. Imprima os 10 primeiros exemplos pertencentes à esta base\n",
    "\n",
    "data.head(10)"
   ]
  },
  {
   "cell_type": "code",
   "execution_count": 32,
   "metadata": {},
   "outputs": [
    {
     "data": {
      "text/plain": "        Elevation  Aspect  Slope  Horizontal_Distance_To_Hydrology  \\\n581002       2419     168     25                               108   \n581003       2415     161     25                                95   \n581004       2410     158     24                                90   \n581005       2405     159     22                                90   \n581006       2401     157     21                                90   \n581007       2396     153     20                                85   \n581008       2391     152     19                                67   \n581009       2386     159     17                                60   \n581010       2384     170     15                                60   \n581011       2383     165     13                                60   \n\n        Vertical_Distance_To_Hydrology  Horizontal_Distance_To_Roadways  \\\n581002                              33                              124   \n581003                              29                              120   \n581004                              24                              120   \n581005                              19                              120   \n581006                              15                              120   \n581007                              17                              108   \n581008                              12                               95   \n581009                               7                               90   \n581010                               5                               90   \n581011                               4                               67   \n\n        Hillshade_9am  Hillshade_Noon  Hillshade_3pm  \\\n581002            230             240            126   \n581003            236             237            116   \n581004            238             236            115   \n581005            237             238            119   \n581006            238             238            119   \n581007            240             237            118   \n581008            240             237            119   \n581009            236             241            130   \n581010            230             245            143   \n581011            231             244            141   \n\n        Horizontal_Distance_To_Fire_Points  ...  Soil_Type32  Soil_Type33  \\\n581002                                 812  ...            0            0   \n581003                                 815  ...            0            0   \n581004                                 819  ...            0            0   \n581005                                 824  ...            0            0   \n581006                                 830  ...            0            0   \n581007                                 837  ...            0            0   \n581008                                 845  ...            0            0   \n581009                                 854  ...            0            0   \n581010                                 864  ...            0            0   \n581011                                 875  ...            0            0   \n\n        Soil_Type34  Soil_Type35  Soil_Type36  Soil_Type37  Soil_Type38  \\\n581002            0            0            0            0            0   \n581003            0            0            0            0            0   \n581004            0            0            0            0            0   \n581005            0            0            0            0            0   \n581006            0            0            0            0            0   \n581007            0            0            0            0            0   \n581008            0            0            0            0            0   \n581009            0            0            0            0            0   \n581010            0            0            0            0            0   \n581011            0            0            0            0            0   \n\n        Soil_Type39  Soil_Type40  Cover_Type  \n581002            0            0           3  \n581003            0            0           3  \n581004            0            0           3  \n581005            0            0           3  \n581006            0            0           3  \n581007            0            0           3  \n581008            0            0           3  \n581009            0            0           3  \n581010            0            0           3  \n581011            0            0           3  \n\n[10 rows x 55 columns]",
      "text/html": "<div>\n<style scoped>\n    .dataframe tbody tr th:only-of-type {\n        vertical-align: middle;\n    }\n\n    .dataframe tbody tr th {\n        vertical-align: top;\n    }\n\n    .dataframe thead th {\n        text-align: right;\n    }\n</style>\n<table border=\"1\" class=\"dataframe\">\n  <thead>\n    <tr style=\"text-align: right;\">\n      <th></th>\n      <th>Elevation</th>\n      <th>Aspect</th>\n      <th>Slope</th>\n      <th>Horizontal_Distance_To_Hydrology</th>\n      <th>Vertical_Distance_To_Hydrology</th>\n      <th>Horizontal_Distance_To_Roadways</th>\n      <th>Hillshade_9am</th>\n      <th>Hillshade_Noon</th>\n      <th>Hillshade_3pm</th>\n      <th>Horizontal_Distance_To_Fire_Points</th>\n      <th>...</th>\n      <th>Soil_Type32</th>\n      <th>Soil_Type33</th>\n      <th>Soil_Type34</th>\n      <th>Soil_Type35</th>\n      <th>Soil_Type36</th>\n      <th>Soil_Type37</th>\n      <th>Soil_Type38</th>\n      <th>Soil_Type39</th>\n      <th>Soil_Type40</th>\n      <th>Cover_Type</th>\n    </tr>\n  </thead>\n  <tbody>\n    <tr>\n      <th>581002</th>\n      <td>2419</td>\n      <td>168</td>\n      <td>25</td>\n      <td>108</td>\n      <td>33</td>\n      <td>124</td>\n      <td>230</td>\n      <td>240</td>\n      <td>126</td>\n      <td>812</td>\n      <td>...</td>\n      <td>0</td>\n      <td>0</td>\n      <td>0</td>\n      <td>0</td>\n      <td>0</td>\n      <td>0</td>\n      <td>0</td>\n      <td>0</td>\n      <td>0</td>\n      <td>3</td>\n    </tr>\n    <tr>\n      <th>581003</th>\n      <td>2415</td>\n      <td>161</td>\n      <td>25</td>\n      <td>95</td>\n      <td>29</td>\n      <td>120</td>\n      <td>236</td>\n      <td>237</td>\n      <td>116</td>\n      <td>815</td>\n      <td>...</td>\n      <td>0</td>\n      <td>0</td>\n      <td>0</td>\n      <td>0</td>\n      <td>0</td>\n      <td>0</td>\n      <td>0</td>\n      <td>0</td>\n      <td>0</td>\n      <td>3</td>\n    </tr>\n    <tr>\n      <th>581004</th>\n      <td>2410</td>\n      <td>158</td>\n      <td>24</td>\n      <td>90</td>\n      <td>24</td>\n      <td>120</td>\n      <td>238</td>\n      <td>236</td>\n      <td>115</td>\n      <td>819</td>\n      <td>...</td>\n      <td>0</td>\n      <td>0</td>\n      <td>0</td>\n      <td>0</td>\n      <td>0</td>\n      <td>0</td>\n      <td>0</td>\n      <td>0</td>\n      <td>0</td>\n      <td>3</td>\n    </tr>\n    <tr>\n      <th>581005</th>\n      <td>2405</td>\n      <td>159</td>\n      <td>22</td>\n      <td>90</td>\n      <td>19</td>\n      <td>120</td>\n      <td>237</td>\n      <td>238</td>\n      <td>119</td>\n      <td>824</td>\n      <td>...</td>\n      <td>0</td>\n      <td>0</td>\n      <td>0</td>\n      <td>0</td>\n      <td>0</td>\n      <td>0</td>\n      <td>0</td>\n      <td>0</td>\n      <td>0</td>\n      <td>3</td>\n    </tr>\n    <tr>\n      <th>581006</th>\n      <td>2401</td>\n      <td>157</td>\n      <td>21</td>\n      <td>90</td>\n      <td>15</td>\n      <td>120</td>\n      <td>238</td>\n      <td>238</td>\n      <td>119</td>\n      <td>830</td>\n      <td>...</td>\n      <td>0</td>\n      <td>0</td>\n      <td>0</td>\n      <td>0</td>\n      <td>0</td>\n      <td>0</td>\n      <td>0</td>\n      <td>0</td>\n      <td>0</td>\n      <td>3</td>\n    </tr>\n    <tr>\n      <th>581007</th>\n      <td>2396</td>\n      <td>153</td>\n      <td>20</td>\n      <td>85</td>\n      <td>17</td>\n      <td>108</td>\n      <td>240</td>\n      <td>237</td>\n      <td>118</td>\n      <td>837</td>\n      <td>...</td>\n      <td>0</td>\n      <td>0</td>\n      <td>0</td>\n      <td>0</td>\n      <td>0</td>\n      <td>0</td>\n      <td>0</td>\n      <td>0</td>\n      <td>0</td>\n      <td>3</td>\n    </tr>\n    <tr>\n      <th>581008</th>\n      <td>2391</td>\n      <td>152</td>\n      <td>19</td>\n      <td>67</td>\n      <td>12</td>\n      <td>95</td>\n      <td>240</td>\n      <td>237</td>\n      <td>119</td>\n      <td>845</td>\n      <td>...</td>\n      <td>0</td>\n      <td>0</td>\n      <td>0</td>\n      <td>0</td>\n      <td>0</td>\n      <td>0</td>\n      <td>0</td>\n      <td>0</td>\n      <td>0</td>\n      <td>3</td>\n    </tr>\n    <tr>\n      <th>581009</th>\n      <td>2386</td>\n      <td>159</td>\n      <td>17</td>\n      <td>60</td>\n      <td>7</td>\n      <td>90</td>\n      <td>236</td>\n      <td>241</td>\n      <td>130</td>\n      <td>854</td>\n      <td>...</td>\n      <td>0</td>\n      <td>0</td>\n      <td>0</td>\n      <td>0</td>\n      <td>0</td>\n      <td>0</td>\n      <td>0</td>\n      <td>0</td>\n      <td>0</td>\n      <td>3</td>\n    </tr>\n    <tr>\n      <th>581010</th>\n      <td>2384</td>\n      <td>170</td>\n      <td>15</td>\n      <td>60</td>\n      <td>5</td>\n      <td>90</td>\n      <td>230</td>\n      <td>245</td>\n      <td>143</td>\n      <td>864</td>\n      <td>...</td>\n      <td>0</td>\n      <td>0</td>\n      <td>0</td>\n      <td>0</td>\n      <td>0</td>\n      <td>0</td>\n      <td>0</td>\n      <td>0</td>\n      <td>0</td>\n      <td>3</td>\n    </tr>\n    <tr>\n      <th>581011</th>\n      <td>2383</td>\n      <td>165</td>\n      <td>13</td>\n      <td>60</td>\n      <td>4</td>\n      <td>67</td>\n      <td>231</td>\n      <td>244</td>\n      <td>141</td>\n      <td>875</td>\n      <td>...</td>\n      <td>0</td>\n      <td>0</td>\n      <td>0</td>\n      <td>0</td>\n      <td>0</td>\n      <td>0</td>\n      <td>0</td>\n      <td>0</td>\n      <td>0</td>\n      <td>3</td>\n    </tr>\n  </tbody>\n</table>\n<p>10 rows × 55 columns</p>\n</div>"
     },
     "execution_count": 32,
     "metadata": {},
     "output_type": "execute_result"
    }
   ],
   "source": [
    "# 3. Imprima os 10 últimos exemplos pertencentes à esta base\n",
    "\n",
    "data.tail(10)"
   ]
  },
  {
   "cell_type": "code",
   "execution_count": 37,
   "metadata": {},
   "outputs": [
    {
     "name": "stdout",
     "output_type": "stream",
     "text": [
      "A base de dados possui 581012 exemplos\n"
     ]
    }
   ],
   "source": [
    "# 4. Quantos exemplos esta base de dados possui ?\n",
    "\n",
    "print(\"A base de dados possui {} exemplos\".format(len(data)))"
   ]
  },
  {
   "cell_type": "markdown",
   "metadata": {},
   "source": [
    "### Visualizando a base de dados\n",
    "\n",
    "1. Baseando-se nos fundamentos de visualização de dados abordados na disciplina, plote cada um dos atributos preditores de maneira a enfatizar a sua distribuição, tendência central e dispersão  \n",
    "1.1 Considere que o número de columas no dataset é diferente do número de atributos, conforme discussão promovida a respeito do dataset  \n",
    "1.2 Se preferir, opte por complementar as informações visuais com medidas estatísticas  \n",
    "2. A partir da visualização elaborada, o que pode-se dizer a respeito do balanceamento do atributo-alvo?\n",
    "3. Que tipo de tarefa de Aprendizado de Máquina é sugestiva para este problema?  \n",
    "3.1 Apresente métricas de desempenho compatíveis para a avaliação do problema (liste-as)  \n",
    "3.2 Escolha uma das métricas apresentadas para ser utilizada como referência pela equipe"
   ]
  },
  {
   "cell_type": "code",
   "execution_count": 15,
   "metadata": {},
   "outputs": [],
   "source": []
  },
  {
   "cell_type": "code",
   "execution_count": 15,
   "metadata": {},
   "outputs": [],
   "source": []
  },
  {
   "cell_type": "code",
   "execution_count": 15,
   "metadata": {},
   "outputs": [],
   "source": []
  },
  {
   "cell_type": "code",
   "execution_count": 15,
   "metadata": {},
   "outputs": [],
   "source": []
  },
  {
   "cell_type": "code",
   "execution_count": 15,
   "metadata": {},
   "outputs": [],
   "source": []
  },
  {
   "cell_type": "code",
   "execution_count": 15,
   "metadata": {},
   "outputs": [],
   "source": []
  }
 ],
 "metadata": {
  "kernelspec": {
   "name": "pycharm-6fd95997",
   "language": "python",
   "display_name": "PyCharm (redes_neurais_artificiais_2021)"
  },
  "language_info": {
   "codemirror_mode": {
    "name": "ipython",
    "version": 3
   },
   "file_extension": ".py",
   "mimetype": "text/x-python",
   "name": "python",
   "nbconvert_exporter": "python",
   "pygments_lexer": "ipython3",
   "version": "3.6.10"
  }
 },
 "nbformat": 4,
 "nbformat_minor": 4
}
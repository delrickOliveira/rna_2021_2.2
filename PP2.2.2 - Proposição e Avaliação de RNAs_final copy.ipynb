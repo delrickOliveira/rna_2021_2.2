{
 "cells": [
  {
   "cell_type": "markdown",
   "metadata": {
    "id": "YbV0HpwJkNv1"
   },
   "source": [
    "## Redes Neurais Artificiais 2021.1\n",
    "\n",
    "- **Disciplina**: Redes Neurais Artificiais 2021.1  \n",
    "- **Professora**: Elloá B. Guedes (ebgcosta@uea.edu.br)  \n",
    "- **Github**: http://github.com/elloa  \n",
    "        \n",
    "\n",
    "Levando em conta a base de dados **_Forest Cover Type_**, esta segunda parte do Projeto Prático 2.2 diz respeito à proposição e avaliação de múltiplas redes neurais artificiais do tipo feedforward multilayer perceptron para o problema da classificação multi-classe da cobertura florestal em uma área do Roosevelt National Forest.\n",
    "\n",
    "## Testando Redes Neurais sem os Atributos Categórios\n",
    "\n",
    "1. Abra a base de dados em questão\n",
    "2. Elimine todas as colunas relativas aos atributos categóricos\n",
    "3. Armazene o atributo alvo em uma variável y e os atributos preditores em uma variável X\n",
    "4. Efetue uma partição holdout 70/30 com o sklearn, distribuindo os exemplos de maneira aleatória\n",
    "5. Efetue o escalonamento dos atributos\n",
    "\n",
    "### Escalonando os atributos\n",
    "\n",
    "O treinamento de uma rede neural artificial é mais eficiente quando os valores que lhes são fornecidos como entrada são pequenos, pois isto favorece a convergência. Isto é feito escalonando-se todos os atributos para o intervalo [0,1], mas precisa ser feito de maneira cautelosa, para que informações do conjunto de teste não sejam fornecidas no treinamento.\n",
    "\n",
    "Há duas estratégias para tal escalonamento: normalização e padronização. Ambas possuem características particulares, vantagens e limitações, como é possível ver aqui: https://www.analyticsvidhya.com/blog/2020/04/feature-scaling-machine-learning-normalization-standardization/\n",
    "\n",
    "\n",
    "No nosso caso, vamos usar a padronização. Assim, com os atributos preditores do treinamento, isto é, X_train, deve-se subtrair a média e dividir pelo desvio padrão:\n",
    "\n",
    "X_train_std = (X_train - np.mean(X_train))/np.std(X_train)\n",
    "\n",
    "Em seguida, o mesmo deve ser feito com os atributos preditores do conjunto de testes, mas com padronização relativa ao conjunto de treinamento:\n",
    "\n",
    "X_test_std = (X_test - np.mean(X_train))/np.std(X_train)\n",
    "\n",
    "Se todo o conjunto X for utilizado na padronização, a rede neural receberá informações do conjunto de teste por meio da média e variância utilizada para preparar os dados de treinamento, o que não é desejável."
   ]
  },
  {
   "cell_type": "code",
   "execution_count": 1,
   "metadata": {
    "executionInfo": {
     "elapsed": 755,
     "status": "ok",
     "timestamp": 1638847633434,
     "user": {
      "displayName": "José Max Dias Figueira Junior",
      "photoUrl": "https://lh3.googleusercontent.com/a-/AOh14GiUkfqsRDxLzojLYrGgsXG_cTc15Dnqg5KFX8QqCQ=s64",
      "userId": "07239097205257965617"
     },
     "user_tz": 240
    },
    "id": "PDpSGv2NkNv8"
   },
   "outputs": [],
   "source": [
    "import pandas as pd\n",
    "import numpy as np\n",
    "from sklearn.model_selection import train_test_split\n",
    "from sklearn.neural_network import MLPClassifier\n",
    "from sklearn.metrics import precision_score, recall_score, accuracy_score, f1_score, ConfusionMatrixDisplay\n",
    "import matplotlib.pyplot as plt\n",
    "import math as mt\n",
    "from imblearn.under_sampling import NearMiss\n",
    "from warnings import filterwarnings\n",
    "filterwarnings('ignore')"
   ]
  },
  {
   "cell_type": "markdown",
   "metadata": {
    "id": "Vf0jnlIimGiq"
   },
   "source": [
    "1. Abra a base de dados em questão"
   ]
  },
  {
   "cell_type": "code",
   "execution_count": 2,
   "metadata": {
    "executionInfo": {
     "elapsed": 2184,
     "status": "ok",
     "timestamp": 1638847637426,
     "user": {
      "displayName": "José Max Dias Figueira Junior",
      "photoUrl": "https://lh3.googleusercontent.com/a-/AOh14GiUkfqsRDxLzojLYrGgsXG_cTc15Dnqg5KFX8QqCQ=s64",
      "userId": "07239097205257965617"
     },
     "user_tz": 240
    },
    "id": "U2GdNp8pkNv9"
   },
   "outputs": [],
   "source": [
    "data_all = pd.read_csv('data/covtype.csv')"
   ]
  },
  {
   "cell_type": "markdown",
   "metadata": {
    "id": "LCXSJ83RmJKF"
   },
   "source": [
    "\n",
    "2. Elimine todas as colunas relativas aos atributos categóricos"
   ]
  },
  {
   "cell_type": "code",
   "execution_count": 3,
   "metadata": {
    "executionInfo": {
     "elapsed": 289,
     "status": "ok",
     "timestamp": 1638847639225,
     "user": {
      "displayName": "José Max Dias Figueira Junior",
      "photoUrl": "https://lh3.googleusercontent.com/a-/AOh14GiUkfqsRDxLzojLYrGgsXG_cTc15Dnqg5KFX8QqCQ=s64",
      "userId": "07239097205257965617"
     },
     "user_tz": 240
    },
    "id": "mOstqYh7nMI3"
   },
   "outputs": [],
   "source": [
    "categoricos = list(filter(lambda x: (x.startswith('Wilderness_Area') or x.startswith('Soil_Type')), data_all.columns.to_list()))"
   ]
  },
  {
   "cell_type": "code",
   "execution_count": 4,
   "metadata": {
    "executionInfo": {
     "elapsed": 288,
     "status": "ok",
     "timestamp": 1638847642402,
     "user": {
      "displayName": "José Max Dias Figueira Junior",
      "photoUrl": "https://lh3.googleusercontent.com/a-/AOh14GiUkfqsRDxLzojLYrGgsXG_cTc15Dnqg5KFX8QqCQ=s64",
      "userId": "07239097205257965617"
     },
     "user_tz": 240
    },
    "id": "V4PJDGEmkNv9"
   },
   "outputs": [],
   "source": [
    "data = data_all.drop(categoricos, axis=1)"
   ]
  },
  {
   "cell_type": "code",
   "execution_count": 5,
   "metadata": {
    "colab": {
     "base_uri": "https://localhost:8080/"
    },
    "executionInfo": {
     "elapsed": 369,
     "status": "ok",
     "timestamp": 1638847644118,
     "user": {
      "displayName": "José Max Dias Figueira Junior",
      "photoUrl": "https://lh3.googleusercontent.com/a-/AOh14GiUkfqsRDxLzojLYrGgsXG_cTc15Dnqg5KFX8QqCQ=s64",
      "userId": "07239097205257965617"
     },
     "user_tz": 240
    },
    "id": "irz0I1PG3f4a",
    "outputId": "523eaef8-49bc-4bf0-bf6e-3ab21f6799d0"
   },
   "outputs": [
    {
     "data": {
      "text/plain": [
       "(581012, 11)"
      ]
     },
     "execution_count": 5,
     "metadata": {},
     "output_type": "execute_result"
    }
   ],
   "source": [
    "data.shape"
   ]
  },
  {
   "cell_type": "code",
   "execution_count": 6,
   "metadata": {
    "colab": {
     "base_uri": "https://localhost:8080/"
    },
    "executionInfo": {
     "elapsed": 425,
     "status": "ok",
     "timestamp": 1638847647335,
     "user": {
      "displayName": "José Max Dias Figueira Junior",
      "photoUrl": "https://lh3.googleusercontent.com/a-/AOh14GiUkfqsRDxLzojLYrGgsXG_cTc15Dnqg5KFX8QqCQ=s64",
      "userId": "07239097205257965617"
     },
     "user_tz": 240
    },
    "id": "0BSYvdboAysI",
    "outputId": "70f337dd-0cc7-4cad-8116-96e8bf9ee7f2"
   },
   "outputs": [
    {
     "data": {
      "text/plain": [
       "Elevation                             int64\n",
       "Aspect                                int64\n",
       "Slope                                 int64\n",
       "Horizontal_Distance_To_Hydrology      int64\n",
       "Vertical_Distance_To_Hydrology        int64\n",
       "Horizontal_Distance_To_Roadways       int64\n",
       "Hillshade_9am                         int64\n",
       "Hillshade_Noon                        int64\n",
       "Hillshade_3pm                         int64\n",
       "Horizontal_Distance_To_Fire_Points    int64\n",
       "Cover_Type                            int64\n",
       "dtype: object"
      ]
     },
     "execution_count": 6,
     "metadata": {},
     "output_type": "execute_result"
    }
   ],
   "source": [
    "data.dtypes"
   ]
  },
  {
   "cell_type": "markdown",
   "metadata": {
    "id": "bqNA68mHmNgd"
   },
   "source": [
    "\n",
    "3. Armazene o atributo alvo em uma variável y e os atributos preditores em uma variável X"
   ]
  },
  {
   "cell_type": "code",
   "execution_count": 7,
   "metadata": {
    "executionInfo": {
     "elapsed": 425,
     "status": "ok",
     "timestamp": 1638847650488,
     "user": {
      "displayName": "José Max Dias Figueira Junior",
      "photoUrl": "https://lh3.googleusercontent.com/a-/AOh14GiUkfqsRDxLzojLYrGgsXG_cTc15Dnqg5KFX8QqCQ=s64",
      "userId": "07239097205257965617"
     },
     "user_tz": 240
    },
    "id": "Q8Xqs1t3kNv-"
   },
   "outputs": [],
   "source": [
    "X = data.iloc[:, :(data.shape[1] - 1)]\n",
    "y = data.iloc[:, -1:]\n",
    "\n",
    "nm1 = NearMiss(version=1)\n",
    "X_resampled_nm1, y_resampled = nm1.fit_resample(X, y)\n",
    "\n",
    "X = X_resampled_nm1\n",
    "y = y_resampled"
   ]
  },
  {
   "cell_type": "markdown",
   "metadata": {
    "id": "taEH7IkbmQFC"
   },
   "source": [
    "\n",
    "4. Efetue uma partição holdout 70/30 com o sklearn, distribuindo os exemplos de maneira aleatória"
   ]
  },
  {
   "cell_type": "code",
   "execution_count": 8,
   "metadata": {
    "executionInfo": {
     "elapsed": 337,
     "status": "ok",
     "timestamp": 1638847652078,
     "user": {
      "displayName": "José Max Dias Figueira Junior",
      "photoUrl": "https://lh3.googleusercontent.com/a-/AOh14GiUkfqsRDxLzojLYrGgsXG_cTc15Dnqg5KFX8QqCQ=s64",
      "userId": "07239097205257965617"
     },
     "user_tz": 240
    },
    "id": "HBW3rNT0kNv-"
   },
   "outputs": [],
   "source": [
    "X_train, X_test, y_train, y_test = train_test_split(X, y, train_size=0.7, shuffle=True)"
   ]
  },
  {
   "cell_type": "markdown",
   "metadata": {
    "id": "8xGTuntCmSG_"
   },
   "source": [
    "\n",
    "5. Efetue o escalonamento dos atributos"
   ]
  },
  {
   "cell_type": "code",
   "execution_count": 9,
   "metadata": {
    "id": "08wpXX3skNv-"
   },
   "outputs": [],
   "source": [
    "X_train_std = (X_train - np.mean(X_train))/np.std(X_train)\n",
    "X_test_std = (X_test - np.mean(X_train))/np.std(X_train)"
   ]
  },
  {
   "cell_type": "markdown",
   "metadata": {
    "id": "BIJ6AlA8lEhm"
   },
   "source": [
    "### Continuando\n",
    "\n",
    "5. Treine uma rede neural multilayer perceptron para este problema com uma única camada e dez neurônios  \n",
    "    5.1 Utilize a função de ativação ReLU  \n",
    "    5.2 Utilize o solver Adam    \n",
    "    5.3 Imprima o passo a passo do treinamento    \n",
    "    5.4 Utilize o número máximo de épocas igual a 300  "
   ]
  },
  {
   "cell_type": "code",
   "execution_count": 10,
   "metadata": {
    "id": "joXvQBOwkNv_"
   },
   "outputs": [],
   "source": [
    "mlp = MLPClassifier(hidden_layer_sizes=(10,), max_iter=300, activation='relu', solver='adam', verbose=True, random_state=1)"
   ]
  },
  {
   "cell_type": "code",
   "execution_count": 11,
   "metadata": {
    "colab": {
     "base_uri": "https://localhost:8080/"
    },
    "executionInfo": {
     "elapsed": 107136,
     "status": "ok",
     "timestamp": 1638265197062,
     "user": {
      "displayName": "José Max Dias Figueira Junior",
      "photoUrl": "https://lh3.googleusercontent.com/a-/AOh14GiUkfqsRDxLzojLYrGgsXG_cTc15Dnqg5KFX8QqCQ=s64",
      "userId": "07239097205257965617"
     },
     "user_tz": 240
    },
    "id": "gcPPHlAdkNv_",
    "outputId": "2ee17bfb-80b1-443a-d891-ae2cd75ec82f"
   },
   "outputs": [
    {
     "name": "stdout",
     "output_type": "stream",
     "text": [
      "Iteration 1, loss = 2.21447723\n",
      "Iteration 2, loss = 1.94400272\n",
      "Iteration 3, loss = 1.77019974\n",
      "Iteration 4, loss = 1.62579117\n",
      "Iteration 5, loss = 1.49214005\n",
      "Iteration 6, loss = 1.37529111\n",
      "Iteration 7, loss = 1.27653501\n",
      "Iteration 8, loss = 1.19636778\n",
      "Iteration 9, loss = 1.13256787\n",
      "Iteration 10, loss = 1.08051907\n",
      "Iteration 11, loss = 1.03717392\n",
      "Iteration 12, loss = 1.00009078\n",
      "Iteration 13, loss = 0.96791218\n",
      "Iteration 14, loss = 0.93909701\n",
      "Iteration 15, loss = 0.91287903\n",
      "Iteration 16, loss = 0.88884546\n",
      "Iteration 17, loss = 0.86703478\n",
      "Iteration 18, loss = 0.84693598\n",
      "Iteration 19, loss = 0.82872956\n",
      "Iteration 20, loss = 0.81163038\n",
      "Iteration 21, loss = 0.79588132\n",
      "Iteration 22, loss = 0.78160997\n",
      "Iteration 23, loss = 0.76811067\n",
      "Iteration 24, loss = 0.75601877\n",
      "Iteration 25, loss = 0.74413488\n",
      "Iteration 26, loss = 0.73354161\n",
      "Iteration 27, loss = 0.72352787\n",
      "Iteration 28, loss = 0.71376392\n",
      "Iteration 29, loss = 0.70491903\n",
      "Iteration 30, loss = 0.69662127\n",
      "Iteration 31, loss = 0.68850440\n",
      "Iteration 32, loss = 0.68147026\n",
      "Iteration 33, loss = 0.67429306\n",
      "Iteration 34, loss = 0.66810270\n",
      "Iteration 35, loss = 0.66181848\n",
      "Iteration 36, loss = 0.65575033\n",
      "Iteration 37, loss = 0.65032816\n",
      "Iteration 38, loss = 0.64518688\n",
      "Iteration 39, loss = 0.64024381\n",
      "Iteration 40, loss = 0.63568061\n",
      "Iteration 41, loss = 0.63110174\n",
      "Iteration 42, loss = 0.62671023\n",
      "Iteration 43, loss = 0.62271080\n",
      "Iteration 44, loss = 0.61907647\n",
      "Iteration 45, loss = 0.61543105\n",
      "Iteration 46, loss = 0.61164637\n",
      "Iteration 47, loss = 0.60845725\n",
      "Iteration 48, loss = 0.60538949\n",
      "Iteration 49, loss = 0.60254038\n",
      "Iteration 50, loss = 0.59925417\n",
      "Iteration 51, loss = 0.59695169\n",
      "Iteration 52, loss = 0.59399609\n",
      "Iteration 53, loss = 0.59160340\n",
      "Iteration 54, loss = 0.58951731\n",
      "Iteration 55, loss = 0.58699777\n",
      "Iteration 56, loss = 0.58487571\n",
      "Iteration 57, loss = 0.58270915\n",
      "Iteration 58, loss = 0.58072736\n",
      "Iteration 59, loss = 0.57902220\n",
      "Iteration 60, loss = 0.57675128\n",
      "Iteration 61, loss = 0.57508540\n",
      "Iteration 62, loss = 0.57349718\n",
      "Iteration 63, loss = 0.57168374\n",
      "Iteration 64, loss = 0.57009942\n",
      "Iteration 65, loss = 0.56872874\n",
      "Iteration 66, loss = 0.56729347\n",
      "Iteration 67, loss = 0.56571877\n",
      "Iteration 68, loss = 0.56397599\n",
      "Iteration 69, loss = 0.56277696\n",
      "Iteration 70, loss = 0.56136293\n",
      "Iteration 71, loss = 0.56054861\n",
      "Iteration 72, loss = 0.55954573\n",
      "Iteration 73, loss = 0.55761768\n",
      "Iteration 74, loss = 0.55673932\n",
      "Iteration 75, loss = 0.55567128\n",
      "Iteration 76, loss = 0.55458154\n",
      "Iteration 77, loss = 0.55325239\n",
      "Iteration 78, loss = 0.55256336\n",
      "Iteration 79, loss = 0.55138125\n",
      "Iteration 80, loss = 0.55060716\n",
      "Iteration 81, loss = 0.54932363\n",
      "Iteration 82, loss = 0.54846909\n",
      "Iteration 83, loss = 0.54758123\n",
      "Iteration 84, loss = 0.54663689\n",
      "Iteration 85, loss = 0.54598775\n",
      "Iteration 86, loss = 0.54502170\n",
      "Iteration 87, loss = 0.54448926\n",
      "Iteration 88, loss = 0.54357804\n",
      "Iteration 89, loss = 0.54284100\n",
      "Iteration 90, loss = 0.54204370\n",
      "Iteration 91, loss = 0.54108937\n",
      "Iteration 92, loss = 0.54080847\n",
      "Iteration 93, loss = 0.54007274\n",
      "Iteration 94, loss = 0.53942533\n",
      "Iteration 95, loss = 0.53835522\n",
      "Iteration 96, loss = 0.53841867\n",
      "Iteration 97, loss = 0.53728894\n",
      "Iteration 98, loss = 0.53671738\n",
      "Iteration 99, loss = 0.53627621\n",
      "Iteration 100, loss = 0.53553348\n",
      "Iteration 101, loss = 0.53495172\n",
      "Iteration 102, loss = 0.53417822\n",
      "Iteration 103, loss = 0.53430773\n",
      "Iteration 104, loss = 0.53335341\n",
      "Iteration 105, loss = 0.53279338\n",
      "Iteration 106, loss = 0.53195344\n",
      "Iteration 107, loss = 0.53160895\n",
      "Iteration 108, loss = 0.53086964\n",
      "Iteration 109, loss = 0.53137402\n",
      "Iteration 110, loss = 0.53023638\n",
      "Iteration 111, loss = 0.52937134\n",
      "Iteration 112, loss = 0.52916831\n",
      "Iteration 113, loss = 0.52901541\n",
      "Iteration 114, loss = 0.52821909\n",
      "Iteration 115, loss = 0.52797829\n",
      "Iteration 116, loss = 0.52723359\n",
      "Iteration 117, loss = 0.52682392\n",
      "Iteration 118, loss = 0.52660208\n",
      "Iteration 119, loss = 0.52632243\n",
      "Iteration 120, loss = 0.52561743\n",
      "Iteration 121, loss = 0.52528611\n",
      "Iteration 122, loss = 0.52470522\n",
      "Iteration 123, loss = 0.52442485\n",
      "Iteration 124, loss = 0.52433094\n",
      "Iteration 125, loss = 0.52394834\n",
      "Iteration 126, loss = 0.52362151\n",
      "Iteration 127, loss = 0.52320869\n",
      "Iteration 128, loss = 0.52284179\n",
      "Iteration 129, loss = 0.52254122\n",
      "Iteration 130, loss = 0.52182376\n",
      "Iteration 131, loss = 0.52176519\n",
      "Iteration 132, loss = 0.52134903\n",
      "Iteration 133, loss = 0.52109801\n",
      "Iteration 134, loss = 0.52097176\n",
      "Iteration 135, loss = 0.52065201\n",
      "Iteration 136, loss = 0.52040800\n",
      "Iteration 137, loss = 0.52024410\n",
      "Iteration 138, loss = 0.51980166\n",
      "Iteration 139, loss = 0.51958098\n",
      "Iteration 140, loss = 0.51901249\n",
      "Iteration 141, loss = 0.51880271\n",
      "Iteration 142, loss = 0.51869250\n",
      "Iteration 143, loss = 0.51837595\n",
      "Iteration 144, loss = 0.51804442\n",
      "Iteration 145, loss = 0.51808563\n",
      "Iteration 146, loss = 0.51768564\n",
      "Iteration 147, loss = 0.51738313\n",
      "Iteration 148, loss = 0.51712268\n",
      "Iteration 149, loss = 0.51715726\n",
      "Iteration 150, loss = 0.51679973\n",
      "Iteration 151, loss = 0.51655152\n",
      "Iteration 152, loss = 0.51633006\n",
      "Iteration 153, loss = 0.51623502\n",
      "Iteration 154, loss = 0.51593335\n",
      "Iteration 155, loss = 0.51597983\n",
      "Iteration 156, loss = 0.51586200\n",
      "Iteration 157, loss = 0.51528174\n",
      "Iteration 158, loss = 0.51551766\n",
      "Iteration 159, loss = 0.51474219\n",
      "Iteration 160, loss = 0.51521516\n",
      "Iteration 161, loss = 0.51464956\n",
      "Iteration 162, loss = 0.51445865\n",
      "Iteration 163, loss = 0.51420311\n",
      "Iteration 164, loss = 0.51422415\n",
      "Iteration 165, loss = 0.51404669\n",
      "Iteration 166, loss = 0.51399138\n",
      "Iteration 167, loss = 0.51379318\n",
      "Iteration 168, loss = 0.51368474\n",
      "Iteration 169, loss = 0.51325668\n",
      "Iteration 170, loss = 0.51343179\n",
      "Iteration 171, loss = 0.51300648\n",
      "Iteration 172, loss = 0.51278510\n",
      "Iteration 173, loss = 0.51269393\n",
      "Iteration 174, loss = 0.51244021\n",
      "Iteration 175, loss = 0.51259507\n",
      "Iteration 176, loss = 0.51205150\n",
      "Iteration 177, loss = 0.51173784\n",
      "Iteration 178, loss = 0.51203193\n",
      "Iteration 179, loss = 0.51152212\n",
      "Iteration 180, loss = 0.51148865\n",
      "Iteration 181, loss = 0.51142480\n",
      "Iteration 182, loss = 0.51131680\n",
      "Iteration 183, loss = 0.51138638\n",
      "Iteration 184, loss = 0.51064587\n",
      "Iteration 185, loss = 0.51080026\n",
      "Iteration 186, loss = 0.51047486\n",
      "Iteration 187, loss = 0.51051300\n",
      "Iteration 188, loss = 0.51032848\n",
      "Iteration 189, loss = 0.51021489\n",
      "Iteration 190, loss = 0.50971535\n",
      "Iteration 191, loss = 0.50985904\n",
      "Iteration 192, loss = 0.50937806\n",
      "Iteration 193, loss = 0.50968759\n",
      "Iteration 194, loss = 0.50891596\n",
      "Iteration 195, loss = 0.50909632\n",
      "Iteration 196, loss = 0.50881140\n",
      "Iteration 197, loss = 0.50867065\n",
      "Iteration 198, loss = 0.50886132\n",
      "Iteration 199, loss = 0.50852765\n",
      "Iteration 200, loss = 0.50877675\n",
      "Iteration 201, loss = 0.50792884\n",
      "Iteration 202, loss = 0.50794927\n",
      "Iteration 203, loss = 0.50813216\n",
      "Iteration 204, loss = 0.50795414\n",
      "Iteration 205, loss = 0.50759072\n",
      "Iteration 206, loss = 0.50725854\n",
      "Iteration 207, loss = 0.50718323\n",
      "Iteration 208, loss = 0.50731465\n",
      "Iteration 209, loss = 0.50673247\n",
      "Iteration 210, loss = 0.50678100\n",
      "Iteration 211, loss = 0.50668190\n",
      "Iteration 212, loss = 0.50665703\n",
      "Iteration 213, loss = 0.50652504\n",
      "Iteration 214, loss = 0.50617842\n",
      "Iteration 215, loss = 0.50602297\n",
      "Iteration 216, loss = 0.50609322\n",
      "Iteration 217, loss = 0.50613020\n",
      "Iteration 218, loss = 0.50569255\n",
      "Iteration 219, loss = 0.50518238\n",
      "Iteration 220, loss = 0.50555610\n",
      "Iteration 221, loss = 0.50528986\n",
      "Iteration 222, loss = 0.50523220\n",
      "Iteration 223, loss = 0.50472922\n",
      "Iteration 224, loss = 0.50495235\n",
      "Iteration 225, loss = 0.50489796\n",
      "Iteration 226, loss = 0.50482795\n",
      "Iteration 227, loss = 0.50468568\n",
      "Iteration 228, loss = 0.50450607\n",
      "Iteration 229, loss = 0.50440579\n",
      "Iteration 230, loss = 0.50460933\n",
      "Iteration 231, loss = 0.50413347\n",
      "Iteration 232, loss = 0.50407259\n",
      "Iteration 233, loss = 0.50404384\n",
      "Iteration 234, loss = 0.50361711\n",
      "Iteration 235, loss = 0.50361012\n",
      "Iteration 236, loss = 0.50343867\n",
      "Iteration 237, loss = 0.50351872\n",
      "Iteration 238, loss = 0.50320385\n",
      "Iteration 239, loss = 0.50333582\n",
      "Iteration 240, loss = 0.50314507\n",
      "Iteration 241, loss = 0.50313132\n",
      "Iteration 242, loss = 0.50285613\n",
      "Iteration 243, loss = 0.50266631\n",
      "Iteration 244, loss = 0.50257191\n",
      "Iteration 245, loss = 0.50268786\n",
      "Iteration 246, loss = 0.50288737\n",
      "Iteration 247, loss = 0.50224910\n",
      "Iteration 248, loss = 0.50261266\n",
      "Iteration 249, loss = 0.50230542\n",
      "Iteration 250, loss = 0.50181873\n",
      "Iteration 251, loss = 0.50227471\n",
      "Iteration 252, loss = 0.50198597\n",
      "Iteration 253, loss = 0.50166877\n",
      "Iteration 254, loss = 0.50161879\n",
      "Iteration 255, loss = 0.50138394\n",
      "Iteration 256, loss = 0.50125299\n",
      "Iteration 257, loss = 0.50100013\n",
      "Iteration 258, loss = 0.50132793\n",
      "Iteration 259, loss = 0.50107955\n",
      "Iteration 260, loss = 0.50121220\n",
      "Iteration 261, loss = 0.50071928\n",
      "Iteration 262, loss = 0.50068480\n",
      "Iteration 263, loss = 0.50065339\n",
      "Iteration 264, loss = 0.50072320\n",
      "Iteration 265, loss = 0.50034464\n",
      "Iteration 266, loss = 0.50041945\n",
      "Iteration 267, loss = 0.50043738\n",
      "Iteration 268, loss = 0.50025987\n",
      "Iteration 269, loss = 0.50022692\n",
      "Iteration 270, loss = 0.50018531\n",
      "Iteration 271, loss = 0.49978636\n",
      "Iteration 272, loss = 0.49993931\n",
      "Iteration 273, loss = 0.49988761\n",
      "Iteration 274, loss = 0.50007857\n",
      "Iteration 275, loss = 0.49939092\n",
      "Iteration 276, loss = 0.49950408\n",
      "Iteration 277, loss = 0.49951461\n",
      "Iteration 278, loss = 0.49944577\n",
      "Iteration 279, loss = 0.49919311\n",
      "Iteration 280, loss = 0.49904289\n",
      "Iteration 281, loss = 0.49920821\n",
      "Iteration 282, loss = 0.49892366\n",
      "Iteration 283, loss = 0.49898204\n",
      "Iteration 284, loss = 0.49882473\n",
      "Iteration 285, loss = 0.49848988\n",
      "Iteration 286, loss = 0.49856722\n",
      "Iteration 287, loss = 0.49843722\n",
      "Iteration 288, loss = 0.49837578\n",
      "Iteration 289, loss = 0.49818648\n",
      "Iteration 290, loss = 0.49832504\n",
      "Iteration 291, loss = 0.49827600\n",
      "Iteration 292, loss = 0.49809031\n",
      "Iteration 293, loss = 0.49780605\n",
      "Iteration 294, loss = 0.49780982\n",
      "Iteration 295, loss = 0.49765202\n",
      "Iteration 296, loss = 0.49769617\n",
      "Iteration 297, loss = 0.49792213\n",
      "Iteration 298, loss = 0.49755558\n",
      "Iteration 299, loss = 0.49767494\n",
      "Iteration 300, loss = 0.49774774\n"
     ]
    },
    {
     "data": {
      "text/plain": [
       "MLPClassifier(hidden_layer_sizes=(10,), max_iter=300, random_state=1,\n",
       "              verbose=True)"
      ]
     },
     "execution_count": 11,
     "metadata": {},
     "output_type": "execute_result"
    }
   ],
   "source": [
    "mlp.fit(X_train_std, y_train.values.ravel())"
   ]
  },
  {
   "cell_type": "markdown",
   "metadata": {
    "id": "OYboeij0lSa4"
   },
   "source": [
    "6. Com o modelo em questão, após o treinamento, apresente:  \n",
    "    6.1 Matriz de confusão para o conjunto de teste  \n",
    "    6.2 Acurácia  \n",
    "    6.3 F-Score  \n",
    "    6.4 Precisão  \n",
    "    6.5 Revocação  "
   ]
  },
  {
   "cell_type": "code",
   "execution_count": 12,
   "metadata": {
    "id": "meoegYeYkNv_"
   },
   "outputs": [],
   "source": [
    "y_pred = mlp.predict(X_test_std)"
   ]
  },
  {
   "cell_type": "code",
   "execution_count": 13,
   "metadata": {
    "colab": {
     "base_uri": "https://localhost:8080/",
     "height": 295
    },
    "executionInfo": {
     "elapsed": 862,
     "status": "ok",
     "timestamp": 1638265611737,
     "user": {
      "displayName": "José Max Dias Figueira Junior",
      "photoUrl": "https://lh3.googleusercontent.com/a-/AOh14GiUkfqsRDxLzojLYrGgsXG_cTc15Dnqg5KFX8QqCQ=s64",
      "userId": "07239097205257965617"
     },
     "user_tz": 240
    },
    "id": "NMesNEDokNwA",
    "outputId": "8be772f8-de60-4d0d-8b34-2fe6a05eab56"
   },
   "outputs": [
    {
     "data": {
      "image/png": "[encoded data removed]",
      "text/plain": [
       "<Figure size 432x288 with 2 Axes>"
      ]
     },
     "metadata": {
      "needs_background": "light"
     },
     "output_type": "display_data"
    }
   ],
   "source": [
    "matrix = ConfusionMatrixDisplay.from_predictions(y_test, y_pred)\n",
    "plt.title('Matriz de confusão para o conjunto de teste')\n",
    "plt.show(matrix)\n",
    "plt.show()"
   ]
  },
  {
   "cell_type": "code",
   "execution_count": 14,
   "metadata": {
    "colab": {
     "base_uri": "https://localhost:8080/"
    },
    "executionInfo": {
     "elapsed": 488,
     "status": "ok",
     "timestamp": 1638265617283,
     "user": {
      "displayName": "José Max Dias Figueira Junior",
      "photoUrl": "https://lh3.googleusercontent.com/a-/AOh14GiUkfqsRDxLzojLYrGgsXG_cTc15Dnqg5KFX8QqCQ=s64",
      "userId": "07239097205257965617"
     },
     "user_tz": 240
    },
    "id": "xGlAWxsZkNwA",
    "outputId": "82d88737-8752-437e-8e5e-723474e8515f"
   },
   "outputs": [
    {
     "name": "stdout",
     "output_type": "stream",
     "text": [
      "Acurácia: 0.7781244583116658\n",
      "F1-Score: 0.7798074734237663\n",
      "Precisão: 0.7827251344376541\n",
      "Revocação: 0.7781244583116658\n"
     ]
    }
   ],
   "source": [
    "print('Acurácia:', accuracy_score(y_pred, y_test))\n",
    "print('F1-Score:', f1_score(y_pred,y_test, average='weighted'))\n",
    "print('Precisão:', precision_score(y_pred, y_test, average='weighted'))\n",
    "print('Revocação:', recall_score(y_pred, y_test, average='weighted'))"
   ]
  },
  {
   "cell_type": "markdown",
   "metadata": {
    "id": "nP4d8neTlWjt"
   },
   "source": [
    "7. Repita o treinamento da mesma rede anterior sem imprimir o passo a passo (verbose False) por 15 vezes  \n",
    "    7.1 Cada uma destas repetições deve ser feita com uma nova partição Holdout  \n",
    "    7.2 Apresente a média e o desvio padrão da acurácia e do F-Score para o conjunto de treino  "
   ]
  },
  {
   "cell_type": "code",
   "execution_count": 15,
   "metadata": {
    "executionInfo": {
     "elapsed": 294,
     "status": "ok",
     "timestamp": 1638847686330,
     "user": {
      "displayName": "José Max Dias Figueira Junior",
      "photoUrl": "https://lh3.googleusercontent.com/a-/AOh14GiUkfqsRDxLzojLYrGgsXG_cTc15Dnqg5KFX8QqCQ=s64",
      "userId": "07239097205257965617"
     },
     "user_tz": 240
    },
    "id": "eqPw34wV6Qmv"
   },
   "outputs": [],
   "source": [
    "def evaluate_mlp(*args, N=1, train_size=.7, **kwargs):\n",
    "  X, y = args\n",
    "  f1_scores = []\n",
    "  acuracias = []\n",
    "  mlp = None\n",
    "  for i in range(N):\n",
    "    X_train, X_test, y_train, y_test = train_test_split(X, y, train_size=train_size, shuffle=True)\n",
    "\n",
    "    X_train_std = (X_train - np.mean(X_train))/np.std(X_train)\n",
    "    X_test_std = (X_test - np.mean(X_train))/np.std(X_train)\n",
    "\n",
    "    mlp = MLPClassifier(**kwargs)\n",
    "    mlp.fit(X_train_std, y_train.values.ravel())\n",
    "\n",
    "    y_pred=mlp.predict(X_test_std)\n",
    "\n",
    "    acuracias.append(accuracy_score(y_pred, y_test))\n",
    "    f1_scores.append(f1_score(y_pred, y_test, average='weighted'))\n",
    "  return (mlp.get_params(), np.mean(acuracias), np.std(acuracias), np.mean(f1_scores), np.std(f1_scores))"
   ]
  },
  {
   "cell_type": "code",
   "execution_count": 16,
   "metadata": {
    "id": "ARKU1RZF4RLJ"
   },
   "outputs": [],
   "source": [
    "N=15\n",
    "mlp_params_adam = mlp.get_params()\n",
    "mlp_params_adam['verbose'] = False"
   ]
  },
  {
   "cell_type": "code",
   "execution_count": 17,
   "metadata": {
    "id": "lVW2L3rolio2"
   },
   "outputs": [],
   "source": [
    "_, adam_acc_mean, adam_acc_std, adam_f1_mean, adam_f1_std = evaluate_mlp(X, y, N=N, **mlp_params_adam)"
   ]
  },
  {
   "cell_type": "markdown",
   "metadata": {
    "id": "oUwAf_4zFQ2k"
   },
   "source": [
    "23m0s\n",
    "Acurácia - Média:  0.7155972706688697\n",
    "Acurácia - Desvio Padrão :  0.002155649672444464\n",
    "F1-Score - Média:  0.5168943657692464\n",
    "F1-Score - Desvio Padrão:  0.008230984559501947"
   ]
  },
  {
   "cell_type": "markdown",
   "metadata": {
    "id": "q9UfCltxIZxh"
   },
   "source": [
    "23m56s\n",
    "Acurácia - Média:  0.7152962639985313\n",
    "Acurácia - Desvio Padrão :  0.00238822397143433\n",
    "F1-Score - Média:  0.5203633874934127\n",
    "F1-Score - Desvio Padrão:  0.01141224018916451"
   ]
  },
  {
   "cell_type": "code",
   "execution_count": 18,
   "metadata": {
    "colab": {
     "base_uri": "https://localhost:8080/"
    },
    "executionInfo": {
     "elapsed": 473,
     "status": "ok",
     "timestamp": 1638297374070,
     "user": {
      "displayName": "José Max Dias Figueira Junior",
      "photoUrl": "https://lh3.googleusercontent.com/a-/AOh14GiUkfqsRDxLzojLYrGgsXG_cTc15Dnqg5KFX8QqCQ=s64",
      "userId": "07239097205257965617"
     },
     "user_tz": 240
    },
    "id": "7U8YlzwVrzNc",
    "outputId": "0f2f8610-6f10-4c99-ffd2-ad7dc30fe5e2"
   },
   "outputs": [
    {
     "name": "stdout",
     "output_type": "stream",
     "text": [
      "Acurácia - Média:  0.7844918241174093\n",
      "Acurácia - Desvio Padrão :  0.004621598126468234\n",
      "F1-Score - Média:  0.7860139434476939\n",
      "F1-Score - Desvio Padrão:  0.004663513419293073\n"
     ]
    }
   ],
   "source": [
    "print('Acurácia - Média: ', adam_acc_mean)\n",
    "print('Acurácia - Desvio Padrão : ', adam_acc_std)\n",
    "print('F1-Score - Média: ', adam_f1_mean)\n",
    "print('F1-Score - Desvio Padrão: ', adam_f1_std)"
   ]
  },
  {
   "cell_type": "markdown",
   "metadata": {
    "id": "w01fL3g5nJQy"
   },
   "source": [
    "8. Repita por 15 vezes o treinamento desta mesma rede, mas utilizando o otimizador SGD  \n",
    "    8.1 Apresente a média e o desvio padrão da acurácia e do F-Score para o conjunto de treino"
   ]
  },
  {
   "cell_type": "code",
   "execution_count": 19,
   "metadata": {
    "id": "934gBYc911Fe"
   },
   "outputs": [],
   "source": [
    "param_keys = ['hidden_layer_sizes', 'activation', 'max_iter']"
   ]
  },
  {
   "cell_type": "code",
   "execution_count": 20,
   "metadata": {
    "id": "HNVJE_jO11Fj"
   },
   "outputs": [],
   "source": [
    "mlp_params_sgd = { param_key: mlp_params_adam[param_key] for param_key in param_keys }\n",
    "mlp_params_sgd['solver'] = 'sgd'"
   ]
  },
  {
   "cell_type": "code",
   "execution_count": 21,
   "metadata": {
    "id": "4_0WezDR0Yy-"
   },
   "outputs": [],
   "source": [
    "_, sgd_acc_mean, sgd_acc_std, sgd_f1_mean, sgd_f1_std = evaluate_mlp(X, y, N=N, **mlp_params_sgd)"
   ]
  },
  {
   "cell_type": "markdown",
   "metadata": {
    "id": "StShcFJ7XMIR"
   },
   "source": [
    "28m44s\n",
    "Acurácia - Média:  0.7168732023743958\n",
    "Acurácia - Desvio Padrão :  0.0019541708800809333\n",
    "F1-Score - Média:  0.46965596308789714\n",
    "F1-Score - Desvio Padrão:  0.008262353195469531"
   ]
  },
  {
   "cell_type": "markdown",
   "metadata": {
    "id": "RoLfhsAPBMG-"
   },
   "source": [
    "34m\n",
    "Acurácia - Média:  0.7160329080227649\n",
    "Acurácia - Desvio Padrão :  0.0016266547641324695\n",
    "F1-Score - Média:  0.46468009813821104\n",
    "F1-Score - Desvio Padrão:  0.011731148839183107"
   ]
  },
  {
   "cell_type": "code",
   "execution_count": 22,
   "metadata": {
    "colab": {
     "base_uri": "https://localhost:8080/"
    },
    "executionInfo": {
     "elapsed": 307,
     "status": "ok",
     "timestamp": 1638295439328,
     "user": {
      "displayName": "José Max Dias Figueira Junior",
      "photoUrl": "https://lh3.googleusercontent.com/a-/AOh14GiUkfqsRDxLzojLYrGgsXG_cTc15Dnqg5KFX8QqCQ=s64",
      "userId": "07239097205257965617"
     },
     "user_tz": 240
    },
    "id": "vLD4oa3k5ABH",
    "outputId": "07b23672-270c-4a03-ab32-a0a714d47f78"
   },
   "outputs": [
    {
     "name": "stdout",
     "output_type": "stream",
     "text": [
      "Acurácia - Média:  0.7386028774484312\n",
      "Acurácia - Desvio Padrão :  0.00879867636665825\n",
      "F1-Score - Média:  0.7411713766353568\n",
      "F1-Score - Desvio Padrão:  0.008265399501672602\n"
     ]
    }
   ],
   "source": [
    "print('Acurácia - Média: ', sgd_acc_mean)\n",
    "print('Acurácia - Desvio Padrão : ', sgd_acc_std)\n",
    "print('F1-Score - Média: ', sgd_f1_mean)\n",
    "print('F1-Score - Desvio Padrão: ', sgd_f1_std)"
   ]
  },
  {
   "cell_type": "markdown",
   "metadata": {
    "id": "UgmdD9sKltDu"
   },
   "source": [
    "9. Houve influência da escolha do otimizador no desempenho da rede?"
   ]
  },
  {
   "cell_type": "markdown",
   "metadata": {
    "id": "BjCBSaJnkNwD"
   },
   "source": [
    "Sim. Com otimizador SGD o tempo de treinamento foi maior e o F-Score foi menor em relação ao otimizador ADAM. Em termos de Acurácia, os resultados são semelhantes com ambos os otimizadores."
   ]
  },
  {
   "cell_type": "markdown",
   "metadata": {
    "id": "wvDRcqqSkNv5"
   },
   "source": [
    "## Discussão\n",
    "\n",
    "Nos passos anteriores, você avaliou o desempenho de uma única rede neural que contém os seguintes parâmetros: uma única camada oculta com 10 neurônios e função de ativação ReLU. O otimizador utilizado, quer seja SGD ou ADAM, trata-se do algoritmo para aproximar o gradiente do erro. Neste sentido, a escolha do otimizador é um hiperparâmetro, pois diz respeito a como a rede neural definida previamente atuará \"em tempo de execução\"  durante o processo de treinamento. Também são hiperparâmetros a quantidade de épocas, a taxa de aprendizado inicial, dentre outros.\n",
    "\n",
    "Cabe alientar também que você efetuou o treinamento desta rede por 15 vezes e apresentou os resultados em termos de média +- desvio padrão. Lembre-se que em uma rede neural há a inicialização aleatória de pesos e, em consequência, o desempenho delas está sujeito à uma flutuação estocástica. A execução destas múltiplas vezes faz com que eliminemos algum viés introduzido por uma boa ou má \"sorte\" na escolha de pesos no caso de uma única execução.\n",
    "\n",
    "Você também aprendeu uma estratégia para escalonar os atributos para uma melhor convergência da rede. Utilize-a em todos os treinamentos e testes propostos a seguir.\n",
    "\n",
    "## Propondo Novas Arquiteturas\n",
    "\n",
    "Variando  os parâmetros (uma ou duas camadas ocultas, com diferente números de neurônios em cada uma delas e a função de ativação) e o hiperparâmetros solver (Adam ou SGD) e o número de épocas (100,150 e 200), atenda ao que se pede:\n",
    "\n",
    "1. Proponha 10 arquiteturas distintas de RNAs para o problema em questão, à sua escolha\n",
    "2. Avalie cada uma das arquiteturas perante todos os hiperparâmetros apresentados por 15 vezes\n",
    "3. Como resultado da avaliação, apresente:  \n",
    "    3.1 Top-3 melhores redes no tocante à F-Score e Acurácia  \n",
    "    3.2 Repetição em que houve o melhor desempenho de cada uma dessas redes: ilustre tp, tf, fp e fn  "
   ]
  },
  {
   "cell_type": "code",
   "execution_count": 23,
   "metadata": {
    "id": "CmMpCRTdP2re"
   },
   "outputs": [],
   "source": [
    "hidden_layer_sizes_list = [\n",
    "                 (5,),(10,),(15,),\n",
    "                 (5,5),(10,10),(15,15),\n",
    "                 (10,5),(15,5),(15,10),\n",
    "                 (5,10)\n",
    "                 ]\n"
   ]
  },
  {
   "cell_type": "code",
   "execution_count": 24,
   "metadata": {
    "id": "FSa8WxnnkNv6"
   },
   "outputs": [],
   "source": [
    "solvers = ['adam', 'sgd']\n",
    "max_iters = [100, 150, 200]"
   ]
  },
  {
   "cell_type": "code",
   "execution_count": 25,
   "metadata": {
    "executionInfo": {
     "elapsed": 307,
     "status": "ok",
     "timestamp": 1638849983631,
     "user": {
      "displayName": "José Max Dias Figueira Junior",
      "photoUrl": "https://lh3.googleusercontent.com/a-/AOh14GiUkfqsRDxLzojLYrGgsXG_cTc15Dnqg5KFX8QqCQ=s64",
      "userId": "07239097205257965617"
     },
     "user_tz": 240
    },
    "id": "KhXfj768i4lw"
   },
   "outputs": [],
   "source": [
    "param_keys = ['hidden_layer_sizes', 'activation', 'solver', 'max_iter']"
   ]
  },
  {
   "cell_type": "code",
   "execution_count": 26,
   "metadata": {
    "id": "M30HHGYinKLQ"
   },
   "outputs": [],
   "source": [
    "base_params = {'random_state': 1, 'verbose': False}"
   ]
  },
  {
   "cell_type": "code",
   "execution_count": 27,
   "metadata": {
    "colab": {
     "base_uri": "https://localhost:8080/"
    },
    "executionInfo": {
     "elapsed": 309,
     "status": "ok",
     "timestamp": 1638305809081,
     "user": {
      "displayName": "José Max Dias Figueira Junior",
      "photoUrl": "https://lh3.googleusercontent.com/a-/AOh14GiUkfqsRDxLzojLYrGgsXG_cTc15Dnqg5KFX8QqCQ=s64",
      "userId": "07239097205257965617"
     },
     "user_tz": 240
    },
    "id": "TV1ZEfGx6A7l",
    "outputId": "84642a8a-ef75-40ad-a6c6-fb01d07eb189"
   },
   "outputs": [
    {
     "name": "stdout",
     "output_type": "stream",
     "text": [
      "{'random_state': 1, 'verbose': False, 'hidden_layer_sizes': (5,), 'activation': 'relu', 'solver': 'adam', 'max_iter': 100}\n",
      "{'random_state': 1, 'verbose': False, 'hidden_layer_sizes': (5,), 'activation': 'relu', 'solver': 'adam', 'max_iter': 150}\n",
      "{'random_state': 1, 'verbose': False, 'hidden_layer_sizes': (5,), 'activation': 'relu', 'solver': 'adam', 'max_iter': 200}\n",
      "{'random_state': 1, 'verbose': False, 'hidden_layer_sizes': (5,), 'activation': 'relu', 'solver': 'sgd', 'max_iter': 100}\n",
      "{'random_state': 1, 'verbose': False, 'hidden_layer_sizes': (5,), 'activation': 'relu', 'solver': 'sgd', 'max_iter': 150}\n",
      "{'random_state': 1, 'verbose': False, 'hidden_layer_sizes': (5,), 'activation': 'relu', 'solver': 'sgd', 'max_iter': 200}\n",
      "{'random_state': 1, 'verbose': False, 'hidden_layer_sizes': (10,), 'activation': 'relu', 'solver': 'adam', 'max_iter': 100}\n",
      "{'random_state': 1, 'verbose': False, 'hidden_layer_sizes': (10,), 'activation': 'relu', 'solver': 'adam', 'max_iter': 150}\n",
      "{'random_state': 1, 'verbose': False, 'hidden_layer_sizes': (10,), 'activation': 'relu', 'solver': 'adam', 'max_iter': 200}\n",
      "{'random_state': 1, 'verbose': False, 'hidden_layer_sizes': (10,), 'activation': 'relu', 'solver': 'sgd', 'max_iter': 100}\n",
      "{'random_state': 1, 'verbose': False, 'hidden_layer_sizes': (10,), 'activation': 'relu', 'solver': 'sgd', 'max_iter': 150}\n",
      "{'random_state': 1, 'verbose': False, 'hidden_layer_sizes': (10,), 'activation': 'relu', 'solver': 'sgd', 'max_iter': 200}\n"
     ]
    }
   ],
   "source": [
    "results = []\n",
    "for hidden_layer_sizes in hidden_layer_sizes_list:\n",
    "  params = base_params.copy()\n",
    "  params['hidden_layer_sizes'] = hidden_layer_sizes\n",
    "  params['activation'] = 'relu'\n",
    "  for s in solvers:\n",
    "    params['solver'] = s\n",
    "    for i in max_iters:\n",
    "      params['max_iter'] = i\n",
    "      print(params)\n",
    "      mlp_params_all, acc_mean, acc_std, f1s_mean, f1s_std = evaluate_mlp(X, y, N=N, **params)\n",
    "      summarized_mlp_params = { param_key: mlp_params_all[param_key] for param_key in param_keys }\n",
    "      results.append((summarized_mlp_params.values(), acc_mean, acc_std, f1s_mean, f1s_std))"
   ]
  },
  {
   "cell_type": "code",
   "execution_count": null,
   "metadata": {
    "colab": {
     "base_uri": "https://localhost:8080/"
    },
    "executionInfo": {
     "elapsed": 19604388,
     "status": "ok",
     "timestamp": 1638834093490,
     "user": {
      "displayName": "José Max Dias Figueira Junior",
      "photoUrl": "https://lh3.googleusercontent.com/a-/AOh14GiUkfqsRDxLzojLYrGgsXG_cTc15Dnqg5KFX8QqCQ=s64",
      "userId": "07239097205257965617"
     },
     "user_tz": 240
    },
    "id": "fQo9Gdb9MK3K",
    "outputId": "2915a4a6-7c12-47a5-c3eb-7a73a46cf61d"
   },
   "outputs": [
    {
     "name": "stdout",
     "output_type": "stream",
     "text": [
      "{'verbose': False, 'hidden_layer_sizes': (5,), 'activation': 'relu', 'solver': 'adam', 'max_iter': 100}\n"
     ]
    },
    {
     "name": "stderr",
     "output_type": "stream",
     "text": [
      "/usr/local/lib/python3.7/dist-packages/sklearn/neural_network/_multilayer_perceptron.py:696: ConvergenceWarning: Stochastic Optimizer: Maximum iterations (100) reached and the optimization hasn't converged yet.\n",
      "  ConvergenceWarning,\n"
     ]
    },
    {
     "name": "stdout",
     "output_type": "stream",
     "text": [
      "{'verbose': False, 'hidden_layer_sizes': (5,), 'activation': 'relu', 'solver': 'adam', 'max_iter': 150}\n"
     ]
    },
    {
     "name": "stderr",
     "output_type": "stream",
     "text": [
      "/usr/local/lib/python3.7/dist-packages/sklearn/neural_network/_multilayer_perceptron.py:696: ConvergenceWarning: Stochastic Optimizer: Maximum iterations (150) reached and the optimization hasn't converged yet.\n",
      "  ConvergenceWarning,\n"
     ]
    },
    {
     "name": "stdout",
     "output_type": "stream",
     "text": [
      "{'verbose': False, 'hidden_layer_sizes': (5,), 'activation': 'relu', 'solver': 'adam', 'max_iter': 200}\n",
      "{'verbose': False, 'hidden_layer_sizes': (5,), 'activation': 'relu', 'solver': 'sgd', 'max_iter': 100}\n"
     ]
    },
    {
     "name": "stderr",
     "output_type": "stream",
     "text": [
      "/usr/local/lib/python3.7/dist-packages/sklearn/neural_network/_multilayer_perceptron.py:696: ConvergenceWarning: Stochastic Optimizer: Maximum iterations (100) reached and the optimization hasn't converged yet.\n",
      "  ConvergenceWarning,\n",
      "/usr/local/lib/python3.7/dist-packages/sklearn/neural_network/_multilayer_perceptron.py:696: ConvergenceWarning: Stochastic Optimizer: Maximum iterations (100) reached and the optimization hasn't converged yet.\n",
      "  ConvergenceWarning,\n",
      "/usr/local/lib/python3.7/dist-packages/sklearn/neural_network/_multilayer_perceptron.py:696: ConvergenceWarning: Stochastic Optimizer: Maximum iterations (100) reached and the optimization hasn't converged yet.\n",
      "  ConvergenceWarning,\n",
      "/usr/local/lib/python3.7/dist-packages/sklearn/neural_network/_multilayer_perceptron.py:696: ConvergenceWarning: Stochastic Optimizer: Maximum iterations (100) reached and the optimization hasn't converged yet.\n",
      "  ConvergenceWarning,\n",
      "/usr/local/lib/python3.7/dist-packages/sklearn/neural_network/_multilayer_perceptron.py:696: ConvergenceWarning: Stochastic Optimizer: Maximum iterations (100) reached and the optimization hasn't converged yet.\n",
      "  ConvergenceWarning,\n",
      "/usr/local/lib/python3.7/dist-packages/sklearn/neural_network/_multilayer_perceptron.py:696: ConvergenceWarning: Stochastic Optimizer: Maximum iterations (100) reached and the optimization hasn't converged yet.\n",
      "  ConvergenceWarning,\n",
      "/usr/local/lib/python3.7/dist-packages/sklearn/neural_network/_multilayer_perceptron.py:696: ConvergenceWarning: Stochastic Optimizer: Maximum iterations (100) reached and the optimization hasn't converged yet.\n",
      "  ConvergenceWarning,\n",
      "/usr/local/lib/python3.7/dist-packages/sklearn/neural_network/_multilayer_perceptron.py:696: ConvergenceWarning: Stochastic Optimizer: Maximum iterations (100) reached and the optimization hasn't converged yet.\n",
      "  ConvergenceWarning,\n",
      "/usr/local/lib/python3.7/dist-packages/sklearn/neural_network/_multilayer_perceptron.py:696: ConvergenceWarning: Stochastic Optimizer: Maximum iterations (100) reached and the optimization hasn't converged yet.\n",
      "  ConvergenceWarning,\n",
      "/usr/local/lib/python3.7/dist-packages/sklearn/neural_network/_multilayer_perceptron.py:696: ConvergenceWarning: Stochastic Optimizer: Maximum iterations (100) reached and the optimization hasn't converged yet.\n",
      "  ConvergenceWarning,\n",
      "/usr/local/lib/python3.7/dist-packages/sklearn/neural_network/_multilayer_perceptron.py:696: ConvergenceWarning: Stochastic Optimizer: Maximum iterations (100) reached and the optimization hasn't converged yet.\n",
      "  ConvergenceWarning,\n"
     ]
    },
    {
     "name": "stdout",
     "output_type": "stream",
     "text": [
      "{'verbose': False, 'hidden_layer_sizes': (5,), 'activation': 'relu', 'solver': 'sgd', 'max_iter': 150}\n",
      "{'verbose': False, 'hidden_layer_sizes': (5,), 'activation': 'relu', 'solver': 'sgd', 'max_iter': 200}\n",
      "{'verbose': False, 'hidden_layer_sizes': (5, 5), 'activation': 'relu', 'solver': 'adam', 'max_iter': 100}\n"
     ]
    },
    {
     "name": "stderr",
     "output_type": "stream",
     "text": [
      "/usr/local/lib/python3.7/dist-packages/sklearn/neural_network/_multilayer_perceptron.py:696: ConvergenceWarning: Stochastic Optimizer: Maximum iterations (100) reached and the optimization hasn't converged yet.\n",
      "  ConvergenceWarning,\n",
      "/usr/local/lib/python3.7/dist-packages/sklearn/neural_network/_multilayer_perceptron.py:696: ConvergenceWarning: Stochastic Optimizer: Maximum iterations (100) reached and the optimization hasn't converged yet.\n",
      "  ConvergenceWarning,\n",
      "/usr/local/lib/python3.7/dist-packages/sklearn/neural_network/_multilayer_perceptron.py:696: ConvergenceWarning: Stochastic Optimizer: Maximum iterations (100) reached and the optimization hasn't converged yet.\n",
      "  ConvergenceWarning,\n",
      "/usr/local/lib/python3.7/dist-packages/sklearn/neural_network/_multilayer_perceptron.py:696: ConvergenceWarning: Stochastic Optimizer: Maximum iterations (100) reached and the optimization hasn't converged yet.\n",
      "  ConvergenceWarning,\n",
      "/usr/local/lib/python3.7/dist-packages/sklearn/neural_network/_multilayer_perceptron.py:696: ConvergenceWarning: Stochastic Optimizer: Maximum iterations (100) reached and the optimization hasn't converged yet.\n",
      "  ConvergenceWarning,\n",
      "/usr/local/lib/python3.7/dist-packages/sklearn/neural_network/_multilayer_perceptron.py:696: ConvergenceWarning: Stochastic Optimizer: Maximum iterations (100) reached and the optimization hasn't converged yet.\n",
      "  ConvergenceWarning,\n",
      "/usr/local/lib/python3.7/dist-packages/sklearn/neural_network/_multilayer_perceptron.py:696: ConvergenceWarning: Stochastic Optimizer: Maximum iterations (100) reached and the optimization hasn't converged yet.\n",
      "  ConvergenceWarning,\n"
     ]
    },
    {
     "name": "stdout",
     "output_type": "stream",
     "text": [
      "{'verbose': False, 'hidden_layer_sizes': (5, 5), 'activation': 'relu', 'solver': 'adam', 'max_iter': 150}\n"
     ]
    },
    {
     "name": "stderr",
     "output_type": "stream",
     "text": [
      "/usr/local/lib/python3.7/dist-packages/sklearn/neural_network/_multilayer_perceptron.py:696: ConvergenceWarning: Stochastic Optimizer: Maximum iterations (150) reached and the optimization hasn't converged yet.\n",
      "  ConvergenceWarning,\n",
      "/usr/local/lib/python3.7/dist-packages/sklearn/neural_network/_multilayer_perceptron.py:696: ConvergenceWarning: Stochastic Optimizer: Maximum iterations (150) reached and the optimization hasn't converged yet.\n",
      "  ConvergenceWarning,\n"
     ]
    },
    {
     "name": "stdout",
     "output_type": "stream",
     "text": [
      "{'verbose': False, 'hidden_layer_sizes': (5, 5), 'activation': 'relu', 'solver': 'adam', 'max_iter': 200}\n"
     ]
    },
    {
     "name": "stderr",
     "output_type": "stream",
     "text": [
      "/usr/local/lib/python3.7/dist-packages/sklearn/neural_network/_multilayer_perceptron.py:696: ConvergenceWarning: Stochastic Optimizer: Maximum iterations (200) reached and the optimization hasn't converged yet.\n",
      "  ConvergenceWarning,\n"
     ]
    },
    {
     "name": "stdout",
     "output_type": "stream",
     "text": [
      "{'verbose': False, 'hidden_layer_sizes': (5, 5), 'activation': 'relu', 'solver': 'sgd', 'max_iter': 100}\n"
     ]
    },
    {
     "name": "stderr",
     "output_type": "stream",
     "text": [
      "/usr/local/lib/python3.7/dist-packages/sklearn/neural_network/_multilayer_perceptron.py:696: ConvergenceWarning: Stochastic Optimizer: Maximum iterations (100) reached and the optimization hasn't converged yet.\n",
      "  ConvergenceWarning,\n",
      "/usr/local/lib/python3.7/dist-packages/sklearn/neural_network/_multilayer_perceptron.py:696: ConvergenceWarning: Stochastic Optimizer: Maximum iterations (100) reached and the optimization hasn't converged yet.\n",
      "  ConvergenceWarning,\n",
      "/usr/local/lib/python3.7/dist-packages/sklearn/neural_network/_multilayer_perceptron.py:696: ConvergenceWarning: Stochastic Optimizer: Maximum iterations (100) reached and the optimization hasn't converged yet.\n",
      "  ConvergenceWarning,\n",
      "/usr/local/lib/python3.7/dist-packages/sklearn/neural_network/_multilayer_perceptron.py:696: ConvergenceWarning: Stochastic Optimizer: Maximum iterations (100) reached and the optimization hasn't converged yet.\n",
      "  ConvergenceWarning,\n",
      "/usr/local/lib/python3.7/dist-packages/sklearn/neural_network/_multilayer_perceptron.py:696: ConvergenceWarning: Stochastic Optimizer: Maximum iterations (100) reached and the optimization hasn't converged yet.\n",
      "  ConvergenceWarning,\n",
      "/usr/local/lib/python3.7/dist-packages/sklearn/neural_network/_multilayer_perceptron.py:696: ConvergenceWarning: Stochastic Optimizer: Maximum iterations (100) reached and the optimization hasn't converged yet.\n",
      "  ConvergenceWarning,\n",
      "/usr/local/lib/python3.7/dist-packages/sklearn/neural_network/_multilayer_perceptron.py:696: ConvergenceWarning: Stochastic Optimizer: Maximum iterations (100) reached and the optimization hasn't converged yet.\n",
      "  ConvergenceWarning,\n",
      "/usr/local/lib/python3.7/dist-packages/sklearn/neural_network/_multilayer_perceptron.py:696: ConvergenceWarning: Stochastic Optimizer: Maximum iterations (100) reached and the optimization hasn't converged yet.\n",
      "  ConvergenceWarning,\n",
      "/usr/local/lib/python3.7/dist-packages/sklearn/neural_network/_multilayer_perceptron.py:696: ConvergenceWarning: Stochastic Optimizer: Maximum iterations (100) reached and the optimization hasn't converged yet.\n",
      "  ConvergenceWarning,\n",
      "/usr/local/lib/python3.7/dist-packages/sklearn/neural_network/_multilayer_perceptron.py:696: ConvergenceWarning: Stochastic Optimizer: Maximum iterations (100) reached and the optimization hasn't converged yet.\n",
      "  ConvergenceWarning,\n",
      "/usr/local/lib/python3.7/dist-packages/sklearn/neural_network/_multilayer_perceptron.py:696: ConvergenceWarning: Stochastic Optimizer: Maximum iterations (100) reached and the optimization hasn't converged yet.\n",
      "  ConvergenceWarning,\n"
     ]
    },
    {
     "name": "stdout",
     "output_type": "stream",
     "text": [
      "{'verbose': False, 'hidden_layer_sizes': (5, 5), 'activation': 'relu', 'solver': 'sgd', 'max_iter': 150}\n"
     ]
    },
    {
     "name": "stderr",
     "output_type": "stream",
     "text": [
      "/usr/local/lib/python3.7/dist-packages/sklearn/neural_network/_multilayer_perceptron.py:696: ConvergenceWarning: Stochastic Optimizer: Maximum iterations (150) reached and the optimization hasn't converged yet.\n",
      "  ConvergenceWarning,\n",
      "/usr/local/lib/python3.7/dist-packages/sklearn/neural_network/_multilayer_perceptron.py:696: ConvergenceWarning: Stochastic Optimizer: Maximum iterations (150) reached and the optimization hasn't converged yet.\n",
      "  ConvergenceWarning,\n",
      "/usr/local/lib/python3.7/dist-packages/sklearn/neural_network/_multilayer_perceptron.py:696: ConvergenceWarning: Stochastic Optimizer: Maximum iterations (150) reached and the optimization hasn't converged yet.\n",
      "  ConvergenceWarning,\n",
      "/usr/local/lib/python3.7/dist-packages/sklearn/neural_network/_multilayer_perceptron.py:696: ConvergenceWarning: Stochastic Optimizer: Maximum iterations (150) reached and the optimization hasn't converged yet.\n",
      "  ConvergenceWarning,\n",
      "/usr/local/lib/python3.7/dist-packages/sklearn/neural_network/_multilayer_perceptron.py:696: ConvergenceWarning: Stochastic Optimizer: Maximum iterations (150) reached and the optimization hasn't converged yet.\n",
      "  ConvergenceWarning,\n"
     ]
    },
    {
     "name": "stdout",
     "output_type": "stream",
     "text": [
      "{'verbose': False, 'hidden_layer_sizes': (5, 5), 'activation': 'relu', 'solver': 'sgd', 'max_iter': 200}\n"
     ]
    },
    {
     "name": "stderr",
     "output_type": "stream",
     "text": [
      "/usr/local/lib/python3.7/dist-packages/sklearn/neural_network/_multilayer_perceptron.py:696: ConvergenceWarning: Stochastic Optimizer: Maximum iterations (200) reached and the optimization hasn't converged yet.\n",
      "  ConvergenceWarning,\n",
      "/usr/local/lib/python3.7/dist-packages/sklearn/neural_network/_multilayer_perceptron.py:696: ConvergenceWarning: Stochastic Optimizer: Maximum iterations (200) reached and the optimization hasn't converged yet.\n",
      "  ConvergenceWarning,\n"
     ]
    }
   ],
   "source": [
    "results = []\n",
    "for hidden_layer_sizes in hidden_layer_sizes_list:\n",
    "  params = base_params.copy()\n",
    "  params['hidden_layer_sizes'] = hidden_layer_sizes\n",
    "  params['activation'] = 'relu'\n",
    "  for s in solvers:\n",
    "    params['solver'] = s\n",
    "    for i in max_iters:\n",
    "      params['max_iter'] = i\n",
    "      print(params)\n",
    "      mlp_params_all, acc_mean, acc_std, f1s_mean, f1s_std = evaluate_mlp(X, y, N=N, **params)\n",
    "      summarized_mlp_params = { param_key: mlp_params_all[param_key] for param_key in param_keys }\n",
    "      results.append((summarized_mlp_params.values(), acc_mean, acc_std, f1s_mean, f1s_std))"
   ]
  },
  {
   "cell_type": "code",
   "execution_count": null,
   "metadata": {
    "colab": {
     "base_uri": "https://localhost:8080/"
    },
    "executionInfo": {
     "elapsed": 25,
     "status": "ok",
     "timestamp": 1638834093491,
     "user": {
      "displayName": "José Max Dias Figueira Junior",
      "photoUrl": "https://lh3.googleusercontent.com/a-/AOh14GiUkfqsRDxLzojLYrGgsXG_cTc15Dnqg5KFX8QqCQ=s64",
      "userId": "07239097205257965617"
     },
     "user_tz": 240
    },
    "id": "Y482NSSnMK3i",
    "outputId": "ee392cc3-6c3b-42ae-afe8-ea7bb6376a3c"
   },
   "outputs": [
    {
     "data": {
      "text/plain": [
       "[(dict_values([(5,), 'relu', 'adam', 100]),\n",
       "  0.705469371519491,\n",
       "  0.0029458928874302346,\n",
       "  0.4423940752159232,\n",
       "  0.02858402334355593),\n",
       " (dict_values([(5,), 'relu', 'adam', 150]),\n",
       "  0.705310262529833,\n",
       "  0.002192551135854261,\n",
       "  0.4271710415538204,\n",
       "  0.027799313779843536),\n",
       " (dict_values([(5,), 'relu', 'adam', 200]),\n",
       "  0.7054039685453765,\n",
       "  0.0032771629052610572,\n",
       "  0.43987025739646035,\n",
       "  0.028246519546912437),\n",
       " (dict_values([(5,), 'relu', 'sgd', 100]),\n",
       "  0.7047208708157394,\n",
       "  0.0025656708307387533,\n",
       "  0.41310171401673074,\n",
       "  0.02014957843483062),\n",
       " (dict_values([(5,), 'relu', 'sgd', 150]),\n",
       "  0.7045212196316016,\n",
       "  0.002263198894897379,\n",
       "  0.4193097129996595,\n",
       "  0.017476857228634013),\n",
       " (dict_values([(5,), 'relu', 'sgd', 200]),\n",
       "  0.7044156569365401,\n",
       "  0.0028072154524445836,\n",
       "  0.42125158481482405,\n",
       "  0.016277679264441146),\n",
       " (dict_values([(5, 5), 'relu', 'adam', 100]),\n",
       "  0.7119515329539198,\n",
       "  0.0037650219391031003,\n",
       "  0.442961611110956,\n",
       "  0.021578488859072195),\n",
       " (dict_values([(5, 5), 'relu', 'adam', 150]),\n",
       "  0.7103657976868001,\n",
       "  0.00388272098035125,\n",
       "  0.452841347403888,\n",
       "  0.03795649413140989),\n",
       " (dict_values([(5, 5), 'relu', 'adam', 200]),\n",
       "  0.7102583226240743,\n",
       "  0.0041037889061818185,\n",
       "  0.4489880381085712,\n",
       "  0.02797785631004338),\n",
       " (dict_values([(5, 5), 'relu', 'sgd', 100]),\n",
       "  0.7090481763661955,\n",
       "  0.004412073897306191,\n",
       "  0.4107543189619765,\n",
       "  0.02377126199433356),\n",
       " (dict_values([(5, 5), 'relu', 'sgd', 150]),\n",
       "  0.7088362860290067,\n",
       "  0.0032803983667225685,\n",
       "  0.4172790770980545,\n",
       "  0.020545455269463223),\n",
       " (dict_values([(5, 5), 'relu', 'sgd', 200]),\n",
       "  0.7089877455480081,\n",
       "  0.00365294990954477,\n",
       "  0.4165336644695475,\n",
       "  0.019927013066685657)]"
      ]
     },
     "execution_count": 15,
     "metadata": {},
     "output_type": "execute_result"
    }
   ],
   "source": [
    "results"
   ]
  },
  {
   "cell_type": "code",
   "execution_count": null,
   "metadata": {
    "id": "Idpjh5J1MK3j"
   },
   "outputs": [],
   "source": [
    "#5h26m"
   ]
  },
  {
   "cell_type": "code",
   "execution_count": null,
   "metadata": {
    "colab": {
     "base_uri": "https://localhost:8080/"
    },
    "executionInfo": {
     "elapsed": 25151282,
     "status": "ok",
     "timestamp": 1638839705890,
     "user": {
      "displayName": "José Max Dias Figueira Junior",
      "photoUrl": "https://lh3.googleusercontent.com/a-/AOh14GiUkfqsRDxLzojLYrGgsXG_cTc15Dnqg5KFX8QqCQ=s64",
      "userId": "07239097205257965617"
     },
     "user_tz": 240
    },
    "id": "vLgamfCTmgI-",
    "outputId": "b9f3437f-59e8-4e09-9310-c3d55ce34767"
   },
   "outputs": [
    {
     "name": "stdout",
     "output_type": "stream",
     "text": [
      "{'verbose': False, 'hidden_layer_sizes': (10,), 'activation': 'relu', 'solver': 'adam', 'max_iter': 100}\n"
     ]
    },
    {
     "name": "stderr",
     "output_type": "stream",
     "text": [
      "/usr/local/lib/python3.7/dist-packages/sklearn/neural_network/_multilayer_perceptron.py:696: ConvergenceWarning: Stochastic Optimizer: Maximum iterations (100) reached and the optimization hasn't converged yet.\n",
      "  ConvergenceWarning,\n",
      "/usr/local/lib/python3.7/dist-packages/sklearn/neural_network/_multilayer_perceptron.py:696: ConvergenceWarning: Stochastic Optimizer: Maximum iterations (100) reached and the optimization hasn't converged yet.\n",
      "  ConvergenceWarning,\n"
     ]
    },
    {
     "name": "stdout",
     "output_type": "stream",
     "text": [
      "{'verbose': False, 'hidden_layer_sizes': (10,), 'activation': 'relu', 'solver': 'adam', 'max_iter': 150}\n",
      "{'verbose': False, 'hidden_layer_sizes': (10,), 'activation': 'relu', 'solver': 'adam', 'max_iter': 200}\n",
      "{'verbose': False, 'hidden_layer_sizes': (10,), 'activation': 'relu', 'solver': 'sgd', 'max_iter': 100}\n"
     ]
    },
    {
     "name": "stderr",
     "output_type": "stream",
     "text": [
      "/usr/local/lib/python3.7/dist-packages/sklearn/neural_network/_multilayer_perceptron.py:696: ConvergenceWarning: Stochastic Optimizer: Maximum iterations (100) reached and the optimization hasn't converged yet.\n",
      "  ConvergenceWarning,\n",
      "/usr/local/lib/python3.7/dist-packages/sklearn/neural_network/_multilayer_perceptron.py:696: ConvergenceWarning: Stochastic Optimizer: Maximum iterations (100) reached and the optimization hasn't converged yet.\n",
      "  ConvergenceWarning,\n",
      "/usr/local/lib/python3.7/dist-packages/sklearn/neural_network/_multilayer_perceptron.py:696: ConvergenceWarning: Stochastic Optimizer: Maximum iterations (100) reached and the optimization hasn't converged yet.\n",
      "  ConvergenceWarning,\n",
      "/usr/local/lib/python3.7/dist-packages/sklearn/neural_network/_multilayer_perceptron.py:696: ConvergenceWarning: Stochastic Optimizer: Maximum iterations (100) reached and the optimization hasn't converged yet.\n",
      "  ConvergenceWarning,\n",
      "/usr/local/lib/python3.7/dist-packages/sklearn/neural_network/_multilayer_perceptron.py:696: ConvergenceWarning: Stochastic Optimizer: Maximum iterations (100) reached and the optimization hasn't converged yet.\n",
      "  ConvergenceWarning,\n",
      "/usr/local/lib/python3.7/dist-packages/sklearn/neural_network/_multilayer_perceptron.py:696: ConvergenceWarning: Stochastic Optimizer: Maximum iterations (100) reached and the optimization hasn't converged yet.\n",
      "  ConvergenceWarning,\n",
      "/usr/local/lib/python3.7/dist-packages/sklearn/neural_network/_multilayer_perceptron.py:696: ConvergenceWarning: Stochastic Optimizer: Maximum iterations (100) reached and the optimization hasn't converged yet.\n",
      "  ConvergenceWarning,\n",
      "/usr/local/lib/python3.7/dist-packages/sklearn/neural_network/_multilayer_perceptron.py:696: ConvergenceWarning: Stochastic Optimizer: Maximum iterations (100) reached and the optimization hasn't converged yet.\n",
      "  ConvergenceWarning,\n",
      "/usr/local/lib/python3.7/dist-packages/sklearn/neural_network/_multilayer_perceptron.py:696: ConvergenceWarning: Stochastic Optimizer: Maximum iterations (100) reached and the optimization hasn't converged yet.\n",
      "  ConvergenceWarning,\n",
      "/usr/local/lib/python3.7/dist-packages/sklearn/neural_network/_multilayer_perceptron.py:696: ConvergenceWarning: Stochastic Optimizer: Maximum iterations (100) reached and the optimization hasn't converged yet.\n",
      "  ConvergenceWarning,\n",
      "/usr/local/lib/python3.7/dist-packages/sklearn/neural_network/_multilayer_perceptron.py:696: ConvergenceWarning: Stochastic Optimizer: Maximum iterations (100) reached and the optimization hasn't converged yet.\n",
      "  ConvergenceWarning,\n",
      "/usr/local/lib/python3.7/dist-packages/sklearn/neural_network/_multilayer_perceptron.py:696: ConvergenceWarning: Stochastic Optimizer: Maximum iterations (100) reached and the optimization hasn't converged yet.\n",
      "  ConvergenceWarning,\n",
      "/usr/local/lib/python3.7/dist-packages/sklearn/neural_network/_multilayer_perceptron.py:696: ConvergenceWarning: Stochastic Optimizer: Maximum iterations (100) reached and the optimization hasn't converged yet.\n",
      "  ConvergenceWarning,\n"
     ]
    },
    {
     "name": "stdout",
     "output_type": "stream",
     "text": [
      "{'verbose': False, 'hidden_layer_sizes': (10,), 'activation': 'relu', 'solver': 'sgd', 'max_iter': 150}\n"
     ]
    },
    {
     "name": "stderr",
     "output_type": "stream",
     "text": [
      "/usr/local/lib/python3.7/dist-packages/sklearn/neural_network/_multilayer_perceptron.py:696: ConvergenceWarning: Stochastic Optimizer: Maximum iterations (150) reached and the optimization hasn't converged yet.\n",
      "  ConvergenceWarning,\n",
      "/usr/local/lib/python3.7/dist-packages/sklearn/neural_network/_multilayer_perceptron.py:696: ConvergenceWarning: Stochastic Optimizer: Maximum iterations (150) reached and the optimization hasn't converged yet.\n",
      "  ConvergenceWarning,\n",
      "/usr/local/lib/python3.7/dist-packages/sklearn/neural_network/_multilayer_perceptron.py:696: ConvergenceWarning: Stochastic Optimizer: Maximum iterations (150) reached and the optimization hasn't converged yet.\n",
      "  ConvergenceWarning,\n"
     ]
    },
    {
     "name": "stdout",
     "output_type": "stream",
     "text": [
      "{'verbose': False, 'hidden_layer_sizes': (10,), 'activation': 'relu', 'solver': 'sgd', 'max_iter': 200}\n",
      "{'verbose': False, 'hidden_layer_sizes': (10, 10), 'activation': 'relu', 'solver': 'adam', 'max_iter': 100}\n"
     ]
    },
    {
     "name": "stderr",
     "output_type": "stream",
     "text": [
      "/usr/local/lib/python3.7/dist-packages/sklearn/neural_network/_multilayer_perceptron.py:696: ConvergenceWarning: Stochastic Optimizer: Maximum iterations (100) reached and the optimization hasn't converged yet.\n",
      "  ConvergenceWarning,\n",
      "/usr/local/lib/python3.7/dist-packages/sklearn/neural_network/_multilayer_perceptron.py:696: ConvergenceWarning: Stochastic Optimizer: Maximum iterations (100) reached and the optimization hasn't converged yet.\n",
      "  ConvergenceWarning,\n",
      "/usr/local/lib/python3.7/dist-packages/sklearn/neural_network/_multilayer_perceptron.py:696: ConvergenceWarning: Stochastic Optimizer: Maximum iterations (100) reached and the optimization hasn't converged yet.\n",
      "  ConvergenceWarning,\n",
      "/usr/local/lib/python3.7/dist-packages/sklearn/neural_network/_multilayer_perceptron.py:696: ConvergenceWarning: Stochastic Optimizer: Maximum iterations (100) reached and the optimization hasn't converged yet.\n",
      "  ConvergenceWarning,\n",
      "/usr/local/lib/python3.7/dist-packages/sklearn/neural_network/_multilayer_perceptron.py:696: ConvergenceWarning: Stochastic Optimizer: Maximum iterations (100) reached and the optimization hasn't converged yet.\n",
      "  ConvergenceWarning,\n",
      "/usr/local/lib/python3.7/dist-packages/sklearn/neural_network/_multilayer_perceptron.py:696: ConvergenceWarning: Stochastic Optimizer: Maximum iterations (100) reached and the optimization hasn't converged yet.\n",
      "  ConvergenceWarning,\n",
      "/usr/local/lib/python3.7/dist-packages/sklearn/neural_network/_multilayer_perceptron.py:696: ConvergenceWarning: Stochastic Optimizer: Maximum iterations (100) reached and the optimization hasn't converged yet.\n",
      "  ConvergenceWarning,\n",
      "/usr/local/lib/python3.7/dist-packages/sklearn/neural_network/_multilayer_perceptron.py:696: ConvergenceWarning: Stochastic Optimizer: Maximum iterations (100) reached and the optimization hasn't converged yet.\n",
      "  ConvergenceWarning,\n",
      "/usr/local/lib/python3.7/dist-packages/sklearn/neural_network/_multilayer_perceptron.py:696: ConvergenceWarning: Stochastic Optimizer: Maximum iterations (100) reached and the optimization hasn't converged yet.\n",
      "  ConvergenceWarning,\n",
      "/usr/local/lib/python3.7/dist-packages/sklearn/neural_network/_multilayer_perceptron.py:696: ConvergenceWarning: Stochastic Optimizer: Maximum iterations (100) reached and the optimization hasn't converged yet.\n",
      "  ConvergenceWarning,\n",
      "/usr/local/lib/python3.7/dist-packages/sklearn/neural_network/_multilayer_perceptron.py:696: ConvergenceWarning: Stochastic Optimizer: Maximum iterations (100) reached and the optimization hasn't converged yet.\n",
      "  ConvergenceWarning,\n",
      "/usr/local/lib/python3.7/dist-packages/sklearn/neural_network/_multilayer_perceptron.py:696: ConvergenceWarning: Stochastic Optimizer: Maximum iterations (100) reached and the optimization hasn't converged yet.\n",
      "  ConvergenceWarning,\n",
      "/usr/local/lib/python3.7/dist-packages/sklearn/neural_network/_multilayer_perceptron.py:696: ConvergenceWarning: Stochastic Optimizer: Maximum iterations (100) reached and the optimization hasn't converged yet.\n",
      "  ConvergenceWarning,\n",
      "/usr/local/lib/python3.7/dist-packages/sklearn/neural_network/_multilayer_perceptron.py:696: ConvergenceWarning: Stochastic Optimizer: Maximum iterations (100) reached and the optimization hasn't converged yet.\n",
      "  ConvergenceWarning,\n",
      "/usr/local/lib/python3.7/dist-packages/sklearn/neural_network/_multilayer_perceptron.py:696: ConvergenceWarning: Stochastic Optimizer: Maximum iterations (100) reached and the optimization hasn't converged yet.\n",
      "  ConvergenceWarning,\n"
     ]
    },
    {
     "name": "stdout",
     "output_type": "stream",
     "text": [
      "{'verbose': False, 'hidden_layer_sizes': (10, 10), 'activation': 'relu', 'solver': 'adam', 'max_iter': 150}\n"
     ]
    },
    {
     "name": "stderr",
     "output_type": "stream",
     "text": [
      "/usr/local/lib/python3.7/dist-packages/sklearn/neural_network/_multilayer_perceptron.py:696: ConvergenceWarning: Stochastic Optimizer: Maximum iterations (150) reached and the optimization hasn't converged yet.\n",
      "  ConvergenceWarning,\n",
      "/usr/local/lib/python3.7/dist-packages/sklearn/neural_network/_multilayer_perceptron.py:696: ConvergenceWarning: Stochastic Optimizer: Maximum iterations (150) reached and the optimization hasn't converged yet.\n",
      "  ConvergenceWarning,\n",
      "/usr/local/lib/python3.7/dist-packages/sklearn/neural_network/_multilayer_perceptron.py:696: ConvergenceWarning: Stochastic Optimizer: Maximum iterations (150) reached and the optimization hasn't converged yet.\n",
      "  ConvergenceWarning,\n",
      "/usr/local/lib/python3.7/dist-packages/sklearn/neural_network/_multilayer_perceptron.py:696: ConvergenceWarning: Stochastic Optimizer: Maximum iterations (150) reached and the optimization hasn't converged yet.\n",
      "  ConvergenceWarning,\n",
      "/usr/local/lib/python3.7/dist-packages/sklearn/neural_network/_multilayer_perceptron.py:696: ConvergenceWarning: Stochastic Optimizer: Maximum iterations (150) reached and the optimization hasn't converged yet.\n",
      "  ConvergenceWarning,\n",
      "/usr/local/lib/python3.7/dist-packages/sklearn/neural_network/_multilayer_perceptron.py:696: ConvergenceWarning: Stochastic Optimizer: Maximum iterations (150) reached and the optimization hasn't converged yet.\n",
      "  ConvergenceWarning,\n",
      "/usr/local/lib/python3.7/dist-packages/sklearn/neural_network/_multilayer_perceptron.py:696: ConvergenceWarning: Stochastic Optimizer: Maximum iterations (150) reached and the optimization hasn't converged yet.\n",
      "  ConvergenceWarning,\n",
      "/usr/local/lib/python3.7/dist-packages/sklearn/neural_network/_multilayer_perceptron.py:696: ConvergenceWarning: Stochastic Optimizer: Maximum iterations (150) reached and the optimization hasn't converged yet.\n",
      "  ConvergenceWarning,\n",
      "/usr/local/lib/python3.7/dist-packages/sklearn/neural_network/_multilayer_perceptron.py:696: ConvergenceWarning: Stochastic Optimizer: Maximum iterations (150) reached and the optimization hasn't converged yet.\n",
      "  ConvergenceWarning,\n",
      "/usr/local/lib/python3.7/dist-packages/sklearn/neural_network/_multilayer_perceptron.py:696: ConvergenceWarning: Stochastic Optimizer: Maximum iterations (150) reached and the optimization hasn't converged yet.\n",
      "  ConvergenceWarning,\n",
      "/usr/local/lib/python3.7/dist-packages/sklearn/neural_network/_multilayer_perceptron.py:696: ConvergenceWarning: Stochastic Optimizer: Maximum iterations (150) reached and the optimization hasn't converged yet.\n",
      "  ConvergenceWarning,\n"
     ]
    },
    {
     "name": "stdout",
     "output_type": "stream",
     "text": [
      "{'verbose': False, 'hidden_layer_sizes': (10, 10), 'activation': 'relu', 'solver': 'adam', 'max_iter': 200}\n"
     ]
    },
    {
     "name": "stderr",
     "output_type": "stream",
     "text": [
      "/usr/local/lib/python3.7/dist-packages/sklearn/neural_network/_multilayer_perceptron.py:696: ConvergenceWarning: Stochastic Optimizer: Maximum iterations (200) reached and the optimization hasn't converged yet.\n",
      "  ConvergenceWarning,\n",
      "/usr/local/lib/python3.7/dist-packages/sklearn/neural_network/_multilayer_perceptron.py:696: ConvergenceWarning: Stochastic Optimizer: Maximum iterations (200) reached and the optimization hasn't converged yet.\n",
      "  ConvergenceWarning,\n",
      "/usr/local/lib/python3.7/dist-packages/sklearn/neural_network/_multilayer_perceptron.py:696: ConvergenceWarning: Stochastic Optimizer: Maximum iterations (200) reached and the optimization hasn't converged yet.\n",
      "  ConvergenceWarning,\n",
      "/usr/local/lib/python3.7/dist-packages/sklearn/neural_network/_multilayer_perceptron.py:696: ConvergenceWarning: Stochastic Optimizer: Maximum iterations (200) reached and the optimization hasn't converged yet.\n",
      "  ConvergenceWarning,\n",
      "/usr/local/lib/python3.7/dist-packages/sklearn/neural_network/_multilayer_perceptron.py:696: ConvergenceWarning: Stochastic Optimizer: Maximum iterations (200) reached and the optimization hasn't converged yet.\n",
      "  ConvergenceWarning,\n",
      "/usr/local/lib/python3.7/dist-packages/sklearn/neural_network/_multilayer_perceptron.py:696: ConvergenceWarning: Stochastic Optimizer: Maximum iterations (200) reached and the optimization hasn't converged yet.\n",
      "  ConvergenceWarning,\n"
     ]
    },
    {
     "name": "stdout",
     "output_type": "stream",
     "text": [
      "{'verbose': False, 'hidden_layer_sizes': (10, 10), 'activation': 'relu', 'solver': 'sgd', 'max_iter': 100}\n"
     ]
    },
    {
     "name": "stderr",
     "output_type": "stream",
     "text": [
      "/usr/local/lib/python3.7/dist-packages/sklearn/neural_network/_multilayer_perceptron.py:696: ConvergenceWarning: Stochastic Optimizer: Maximum iterations (100) reached and the optimization hasn't converged yet.\n",
      "  ConvergenceWarning,\n",
      "/usr/local/lib/python3.7/dist-packages/sklearn/neural_network/_multilayer_perceptron.py:696: ConvergenceWarning: Stochastic Optimizer: Maximum iterations (100) reached and the optimization hasn't converged yet.\n",
      "  ConvergenceWarning,\n",
      "/usr/local/lib/python3.7/dist-packages/sklearn/neural_network/_multilayer_perceptron.py:696: ConvergenceWarning: Stochastic Optimizer: Maximum iterations (100) reached and the optimization hasn't converged yet.\n",
      "  ConvergenceWarning,\n",
      "/usr/local/lib/python3.7/dist-packages/sklearn/neural_network/_multilayer_perceptron.py:696: ConvergenceWarning: Stochastic Optimizer: Maximum iterations (100) reached and the optimization hasn't converged yet.\n",
      "  ConvergenceWarning,\n",
      "/usr/local/lib/python3.7/dist-packages/sklearn/neural_network/_multilayer_perceptron.py:696: ConvergenceWarning: Stochastic Optimizer: Maximum iterations (100) reached and the optimization hasn't converged yet.\n",
      "  ConvergenceWarning,\n",
      "/usr/local/lib/python3.7/dist-packages/sklearn/neural_network/_multilayer_perceptron.py:696: ConvergenceWarning: Stochastic Optimizer: Maximum iterations (100) reached and the optimization hasn't converged yet.\n",
      "  ConvergenceWarning,\n",
      "/usr/local/lib/python3.7/dist-packages/sklearn/neural_network/_multilayer_perceptron.py:696: ConvergenceWarning: Stochastic Optimizer: Maximum iterations (100) reached and the optimization hasn't converged yet.\n",
      "  ConvergenceWarning,\n",
      "/usr/local/lib/python3.7/dist-packages/sklearn/neural_network/_multilayer_perceptron.py:696: ConvergenceWarning: Stochastic Optimizer: Maximum iterations (100) reached and the optimization hasn't converged yet.\n",
      "  ConvergenceWarning,\n",
      "/usr/local/lib/python3.7/dist-packages/sklearn/neural_network/_multilayer_perceptron.py:696: ConvergenceWarning: Stochastic Optimizer: Maximum iterations (100) reached and the optimization hasn't converged yet.\n",
      "  ConvergenceWarning,\n",
      "/usr/local/lib/python3.7/dist-packages/sklearn/neural_network/_multilayer_perceptron.py:696: ConvergenceWarning: Stochastic Optimizer: Maximum iterations (100) reached and the optimization hasn't converged yet.\n",
      "  ConvergenceWarning,\n",
      "/usr/local/lib/python3.7/dist-packages/sklearn/neural_network/_multilayer_perceptron.py:696: ConvergenceWarning: Stochastic Optimizer: Maximum iterations (100) reached and the optimization hasn't converged yet.\n",
      "  ConvergenceWarning,\n",
      "/usr/local/lib/python3.7/dist-packages/sklearn/neural_network/_multilayer_perceptron.py:696: ConvergenceWarning: Stochastic Optimizer: Maximum iterations (100) reached and the optimization hasn't converged yet.\n",
      "  ConvergenceWarning,\n",
      "/usr/local/lib/python3.7/dist-packages/sklearn/neural_network/_multilayer_perceptron.py:696: ConvergenceWarning: Stochastic Optimizer: Maximum iterations (100) reached and the optimization hasn't converged yet.\n",
      "  ConvergenceWarning,\n",
      "/usr/local/lib/python3.7/dist-packages/sklearn/neural_network/_multilayer_perceptron.py:696: ConvergenceWarning: Stochastic Optimizer: Maximum iterations (100) reached and the optimization hasn't converged yet.\n",
      "  ConvergenceWarning,\n",
      "/usr/local/lib/python3.7/dist-packages/sklearn/neural_network/_multilayer_perceptron.py:696: ConvergenceWarning: Stochastic Optimizer: Maximum iterations (100) reached and the optimization hasn't converged yet.\n",
      "  ConvergenceWarning,\n"
     ]
    },
    {
     "name": "stdout",
     "output_type": "stream",
     "text": [
      "{'verbose': False, 'hidden_layer_sizes': (10, 10), 'activation': 'relu', 'solver': 'sgd', 'max_iter': 150}\n"
     ]
    },
    {
     "name": "stderr",
     "output_type": "stream",
     "text": [
      "/usr/local/lib/python3.7/dist-packages/sklearn/neural_network/_multilayer_perceptron.py:696: ConvergenceWarning: Stochastic Optimizer: Maximum iterations (150) reached and the optimization hasn't converged yet.\n",
      "  ConvergenceWarning,\n",
      "/usr/local/lib/python3.7/dist-packages/sklearn/neural_network/_multilayer_perceptron.py:696: ConvergenceWarning: Stochastic Optimizer: Maximum iterations (150) reached and the optimization hasn't converged yet.\n",
      "  ConvergenceWarning,\n",
      "/usr/local/lib/python3.7/dist-packages/sklearn/neural_network/_multilayer_perceptron.py:696: ConvergenceWarning: Stochastic Optimizer: Maximum iterations (150) reached and the optimization hasn't converged yet.\n",
      "  ConvergenceWarning,\n",
      "/usr/local/lib/python3.7/dist-packages/sklearn/neural_network/_multilayer_perceptron.py:696: ConvergenceWarning: Stochastic Optimizer: Maximum iterations (150) reached and the optimization hasn't converged yet.\n",
      "  ConvergenceWarning,\n",
      "/usr/local/lib/python3.7/dist-packages/sklearn/neural_network/_multilayer_perceptron.py:696: ConvergenceWarning: Stochastic Optimizer: Maximum iterations (150) reached and the optimization hasn't converged yet.\n",
      "  ConvergenceWarning,\n",
      "/usr/local/lib/python3.7/dist-packages/sklearn/neural_network/_multilayer_perceptron.py:696: ConvergenceWarning: Stochastic Optimizer: Maximum iterations (150) reached and the optimization hasn't converged yet.\n",
      "  ConvergenceWarning,\n",
      "/usr/local/lib/python3.7/dist-packages/sklearn/neural_network/_multilayer_perceptron.py:696: ConvergenceWarning: Stochastic Optimizer: Maximum iterations (150) reached and the optimization hasn't converged yet.\n",
      "  ConvergenceWarning,\n",
      "/usr/local/lib/python3.7/dist-packages/sklearn/neural_network/_multilayer_perceptron.py:696: ConvergenceWarning: Stochastic Optimizer: Maximum iterations (150) reached and the optimization hasn't converged yet.\n",
      "  ConvergenceWarning,\n",
      "/usr/local/lib/python3.7/dist-packages/sklearn/neural_network/_multilayer_perceptron.py:696: ConvergenceWarning: Stochastic Optimizer: Maximum iterations (150) reached and the optimization hasn't converged yet.\n",
      "  ConvergenceWarning,\n",
      "/usr/local/lib/python3.7/dist-packages/sklearn/neural_network/_multilayer_perceptron.py:696: ConvergenceWarning: Stochastic Optimizer: Maximum iterations (150) reached and the optimization hasn't converged yet.\n",
      "  ConvergenceWarning,\n",
      "/usr/local/lib/python3.7/dist-packages/sklearn/neural_network/_multilayer_perceptron.py:696: ConvergenceWarning: Stochastic Optimizer: Maximum iterations (150) reached and the optimization hasn't converged yet.\n",
      "  ConvergenceWarning,\n",
      "/usr/local/lib/python3.7/dist-packages/sklearn/neural_network/_multilayer_perceptron.py:696: ConvergenceWarning: Stochastic Optimizer: Maximum iterations (150) reached and the optimization hasn't converged yet.\n",
      "  ConvergenceWarning,\n",
      "/usr/local/lib/python3.7/dist-packages/sklearn/neural_network/_multilayer_perceptron.py:696: ConvergenceWarning: Stochastic Optimizer: Maximum iterations (150) reached and the optimization hasn't converged yet.\n",
      "  ConvergenceWarning,\n",
      "/usr/local/lib/python3.7/dist-packages/sklearn/neural_network/_multilayer_perceptron.py:696: ConvergenceWarning: Stochastic Optimizer: Maximum iterations (150) reached and the optimization hasn't converged yet.\n",
      "  ConvergenceWarning,\n",
      "/usr/local/lib/python3.7/dist-packages/sklearn/neural_network/_multilayer_perceptron.py:696: ConvergenceWarning: Stochastic Optimizer: Maximum iterations (150) reached and the optimization hasn't converged yet.\n",
      "  ConvergenceWarning,\n"
     ]
    },
    {
     "name": "stdout",
     "output_type": "stream",
     "text": [
      "{'verbose': False, 'hidden_layer_sizes': (10, 10), 'activation': 'relu', 'solver': 'sgd', 'max_iter': 200}\n"
     ]
    },
    {
     "name": "stderr",
     "output_type": "stream",
     "text": [
      "/usr/local/lib/python3.7/dist-packages/sklearn/neural_network/_multilayer_perceptron.py:696: ConvergenceWarning: Stochastic Optimizer: Maximum iterations (200) reached and the optimization hasn't converged yet.\n",
      "  ConvergenceWarning,\n",
      "/usr/local/lib/python3.7/dist-packages/sklearn/neural_network/_multilayer_perceptron.py:696: ConvergenceWarning: Stochastic Optimizer: Maximum iterations (200) reached and the optimization hasn't converged yet.\n",
      "  ConvergenceWarning,\n",
      "/usr/local/lib/python3.7/dist-packages/sklearn/neural_network/_multilayer_perceptron.py:696: ConvergenceWarning: Stochastic Optimizer: Maximum iterations (200) reached and the optimization hasn't converged yet.\n",
      "  ConvergenceWarning,\n",
      "/usr/local/lib/python3.7/dist-packages/sklearn/neural_network/_multilayer_perceptron.py:696: ConvergenceWarning: Stochastic Optimizer: Maximum iterations (200) reached and the optimization hasn't converged yet.\n",
      "  ConvergenceWarning,\n",
      "/usr/local/lib/python3.7/dist-packages/sklearn/neural_network/_multilayer_perceptron.py:696: ConvergenceWarning: Stochastic Optimizer: Maximum iterations (200) reached and the optimization hasn't converged yet.\n",
      "  ConvergenceWarning,\n",
      "/usr/local/lib/python3.7/dist-packages/sklearn/neural_network/_multilayer_perceptron.py:696: ConvergenceWarning: Stochastic Optimizer: Maximum iterations (200) reached and the optimization hasn't converged yet.\n",
      "  ConvergenceWarning,\n",
      "/usr/local/lib/python3.7/dist-packages/sklearn/neural_network/_multilayer_perceptron.py:696: ConvergenceWarning: Stochastic Optimizer: Maximum iterations (200) reached and the optimization hasn't converged yet.\n",
      "  ConvergenceWarning,\n",
      "/usr/local/lib/python3.7/dist-packages/sklearn/neural_network/_multilayer_perceptron.py:696: ConvergenceWarning: Stochastic Optimizer: Maximum iterations (200) reached and the optimization hasn't converged yet.\n",
      "  ConvergenceWarning,\n",
      "/usr/local/lib/python3.7/dist-packages/sklearn/neural_network/_multilayer_perceptron.py:696: ConvergenceWarning: Stochastic Optimizer: Maximum iterations (200) reached and the optimization hasn't converged yet.\n",
      "  ConvergenceWarning,\n",
      "/usr/local/lib/python3.7/dist-packages/sklearn/neural_network/_multilayer_perceptron.py:696: ConvergenceWarning: Stochastic Optimizer: Maximum iterations (200) reached and the optimization hasn't converged yet.\n",
      "  ConvergenceWarning,\n",
      "/usr/local/lib/python3.7/dist-packages/sklearn/neural_network/_multilayer_perceptron.py:696: ConvergenceWarning: Stochastic Optimizer: Maximum iterations (200) reached and the optimization hasn't converged yet.\n",
      "  ConvergenceWarning,\n"
     ]
    }
   ],
   "source": [
    "results = []\n",
    "for hidden_layer_sizes in hidden_layer_sizes_list:\n",
    "  params = base_params.copy()\n",
    "  params['hidden_layer_sizes'] = hidden_layer_sizes\n",
    "  params['activation'] = 'relu'\n",
    "  for s in solvers:\n",
    "    params['solver'] = s\n",
    "    for i in max_iters:\n",
    "      params['max_iter'] = i\n",
    "      print(params)\n",
    "      mlp_params_all, acc_mean, acc_std, f1s_mean, f1s_std = evaluate_mlp(X, y, N=N, **params)\n",
    "      summarized_mlp_params = { param_key: mlp_params_all[param_key] for param_key in param_keys }\n",
    "      results.append((summarized_mlp_params.values(), acc_mean, acc_std, f1s_mean, f1s_std))"
   ]
  },
  {
   "cell_type": "code",
   "execution_count": null,
   "metadata": {
    "colab": {
     "base_uri": "https://localhost:8080/"
    },
    "executionInfo": {
     "elapsed": 43,
     "status": "ok",
     "timestamp": 1638839705891,
     "user": {
      "displayName": "José Max Dias Figueira Junior",
      "photoUrl": "https://lh3.googleusercontent.com/a-/AOh14GiUkfqsRDxLzojLYrGgsXG_cTc15Dnqg5KFX8QqCQ=s64",
      "userId": "07239097205257965617"
     },
     "user_tz": 240
    },
    "id": "SmcARDrNmgJC",
    "outputId": "f5ec74e5-99cc-4510-c6fb-46f4d3be33aa"
   },
   "outputs": [
    {
     "data": {
      "text/plain": [
       "[(dict_values([(10,), 'relu', 'adam', 100]),\n",
       "  0.7192927299430879,\n",
       "  0.0023117367301981433,\n",
       "  0.5137528497144177,\n",
       "  0.02278765147420186),\n",
       " (dict_values([(10,), 'relu', 'adam', 150]),\n",
       "  0.7182680833486322,\n",
       "  0.0024426614607055354,\n",
       "  0.5175936473380742,\n",
       "  0.012204959050403948),\n",
       " (dict_values([(10,), 'relu', 'adam', 200]),\n",
       "  0.7187301113762927,\n",
       "  0.002188107180781239,\n",
       "  0.5255885467254611,\n",
       "  0.020621718863097653),\n",
       " (dict_values([(10,), 'relu', 'sgd', 100]),\n",
       "  0.7144536748057035,\n",
       "  0.002964196923901096,\n",
       "  0.46838587127465325,\n",
       "  0.022783789971106198),\n",
       " (dict_values([(10,), 'relu', 'sgd', 150]),\n",
       "  0.7137831987026498,\n",
       "  0.0026844496643420646,\n",
       "  0.47719251478140357,\n",
       "  0.018970020800949085),\n",
       " (dict_values([(10,), 'relu', 'sgd', 200]),\n",
       "  0.7133207882014564,\n",
       "  0.002942268234113297,\n",
       "  0.4757703259825182,\n",
       "  0.015086129752905053),\n",
       " (dict_values([(10, 10), 'relu', 'adam', 100]),\n",
       "  0.7304510127899149,\n",
       "  0.004563872157650154,\n",
       "  0.555991718339829,\n",
       "  0.023932194907386028),\n",
       " (dict_values([(10, 10), 'relu', 'adam', 150]),\n",
       "  0.7342600667033842,\n",
       "  0.004280533430723158,\n",
       "  0.5566212984787671,\n",
       "  0.015369880565015938),\n",
       " (dict_values([(10, 10), 'relu', 'adam', 200]),\n",
       "  0.7339659445566367,\n",
       "  0.004850522135417838,\n",
       "  0.5580634606606568,\n",
       "  0.022223868060981065),\n",
       " (dict_values([(10, 10), 'relu', 'sgd', 100]),\n",
       "  0.7247865797686802,\n",
       "  0.003972419826607771,\n",
       "  0.5124701286222624,\n",
       "  0.023304315267830805),\n",
       " (dict_values([(10, 10), 'relu', 'sgd', 150]),\n",
       "  0.7275415366256655,\n",
       "  0.004405533204787248,\n",
       "  0.5252427142306668,\n",
       "  0.02230702382316766),\n",
       " (dict_values([(10, 10), 'relu', 'sgd', 200]),\n",
       "  0.7293506364359584,\n",
       "  0.004375797166197584,\n",
       "  0.5216745318733038,\n",
       "  0.02706628205352122)]"
      ]
     },
     "execution_count": 15,
     "metadata": {},
     "output_type": "execute_result"
    }
   ],
   "source": [
    "results"
   ]
  },
  {
   "cell_type": "code",
   "execution_count": null,
   "metadata": {
    "id": "2a4kjbmZmjwA"
   },
   "outputs": [],
   "source": [
    "#6h59m"
   ]
  },
  {
   "cell_type": "code",
   "execution_count": null,
   "metadata": {
    "colab": {
     "base_uri": "https://localhost:8080/"
    },
    "executionInfo": {
     "elapsed": 33694545,
     "status": "ok",
     "timestamp": 1638848350139,
     "user": {
      "displayName": "Will D Mad",
      "photoUrl": "https://lh3.googleusercontent.com/a/default-user=s64",
      "userId": "17727975939014449983"
     },
     "user_tz": 240
    },
    "id": "HJ5KQjduB5vB",
    "outputId": "c92fd902-1dac-4135-f2aa-a18548c39d0c"
   },
   "outputs": [
    {
     "name": "stdout",
     "output_type": "stream",
     "text": [
      "{'verbose': False, 'hidden_layer_sizes': (15,), 'activation': 'relu', 'solver': 'adam', 'max_iter': 100}\n"
     ]
    },
    {
     "name": "stderr",
     "output_type": "stream",
     "text": [
      "/usr/local/lib/python3.7/dist-packages/sklearn/neural_network/_multilayer_perceptron.py:696: ConvergenceWarning: Stochastic Optimizer: Maximum iterations (100) reached and the optimization hasn't converged yet.\n",
      "  ConvergenceWarning,\n",
      "/usr/local/lib/python3.7/dist-packages/sklearn/neural_network/_multilayer_perceptron.py:696: ConvergenceWarning: Stochastic Optimizer: Maximum iterations (100) reached and the optimization hasn't converged yet.\n",
      "  ConvergenceWarning,\n",
      "/usr/local/lib/python3.7/dist-packages/sklearn/neural_network/_multilayer_perceptron.py:696: ConvergenceWarning: Stochastic Optimizer: Maximum iterations (100) reached and the optimization hasn't converged yet.\n",
      "  ConvergenceWarning,\n",
      "/usr/local/lib/python3.7/dist-packages/sklearn/neural_network/_multilayer_perceptron.py:696: ConvergenceWarning: Stochastic Optimizer: Maximum iterations (100) reached and the optimization hasn't converged yet.\n",
      "  ConvergenceWarning,\n",
      "/usr/local/lib/python3.7/dist-packages/sklearn/neural_network/_multilayer_perceptron.py:696: ConvergenceWarning: Stochastic Optimizer: Maximum iterations (100) reached and the optimization hasn't converged yet.\n",
      "  ConvergenceWarning,\n",
      "/usr/local/lib/python3.7/dist-packages/sklearn/neural_network/_multilayer_perceptron.py:696: ConvergenceWarning: Stochastic Optimizer: Maximum iterations (100) reached and the optimization hasn't converged yet.\n",
      "  ConvergenceWarning,\n",
      "/usr/local/lib/python3.7/dist-packages/sklearn/neural_network/_multilayer_perceptron.py:696: ConvergenceWarning: Stochastic Optimizer: Maximum iterations (100) reached and the optimization hasn't converged yet.\n",
      "  ConvergenceWarning,\n",
      "/usr/local/lib/python3.7/dist-packages/sklearn/neural_network/_multilayer_perceptron.py:696: ConvergenceWarning: Stochastic Optimizer: Maximum iterations (100) reached and the optimization hasn't converged yet.\n",
      "  ConvergenceWarning,\n",
      "/usr/local/lib/python3.7/dist-packages/sklearn/neural_network/_multilayer_perceptron.py:696: ConvergenceWarning: Stochastic Optimizer: Maximum iterations (100) reached and the optimization hasn't converged yet.\n",
      "  ConvergenceWarning,\n",
      "/usr/local/lib/python3.7/dist-packages/sklearn/neural_network/_multilayer_perceptron.py:696: ConvergenceWarning: Stochastic Optimizer: Maximum iterations (100) reached and the optimization hasn't converged yet.\n",
      "  ConvergenceWarning,\n"
     ]
    },
    {
     "name": "stdout",
     "output_type": "stream",
     "text": [
      "{'verbose': False, 'hidden_layer_sizes': (15,), 'activation': 'relu', 'solver': 'adam', 'max_iter': 150}\n"
     ]
    },
    {
     "name": "stderr",
     "output_type": "stream",
     "text": [
      "/usr/local/lib/python3.7/dist-packages/sklearn/neural_network/_multilayer_perceptron.py:696: ConvergenceWarning: Stochastic Optimizer: Maximum iterations (150) reached and the optimization hasn't converged yet.\n",
      "  ConvergenceWarning,\n"
     ]
    },
    {
     "name": "stdout",
     "output_type": "stream",
     "text": [
      "{'verbose': False, 'hidden_layer_sizes': (15,), 'activation': 'relu', 'solver': 'adam', 'max_iter': 200}\n",
      "{'verbose': False, 'hidden_layer_sizes': (15,), 'activation': 'relu', 'solver': 'sgd', 'max_iter': 100}\n"
     ]
    },
    {
     "name": "stderr",
     "output_type": "stream",
     "text": [
      "/usr/local/lib/python3.7/dist-packages/sklearn/neural_network/_multilayer_perceptron.py:696: ConvergenceWarning: Stochastic Optimizer: Maximum iterations (100) reached and the optimization hasn't converged yet.\n",
      "  ConvergenceWarning,\n",
      "/usr/local/lib/python3.7/dist-packages/sklearn/neural_network/_multilayer_perceptron.py:696: ConvergenceWarning: Stochastic Optimizer: Maximum iterations (100) reached and the optimization hasn't converged yet.\n",
      "  ConvergenceWarning,\n",
      "/usr/local/lib/python3.7/dist-packages/sklearn/neural_network/_multilayer_perceptron.py:696: ConvergenceWarning: Stochastic Optimizer: Maximum iterations (100) reached and the optimization hasn't converged yet.\n",
      "  ConvergenceWarning,\n",
      "/usr/local/lib/python3.7/dist-packages/sklearn/neural_network/_multilayer_perceptron.py:696: ConvergenceWarning: Stochastic Optimizer: Maximum iterations (100) reached and the optimization hasn't converged yet.\n",
      "  ConvergenceWarning,\n",
      "/usr/local/lib/python3.7/dist-packages/sklearn/neural_network/_multilayer_perceptron.py:696: ConvergenceWarning: Stochastic Optimizer: Maximum iterations (100) reached and the optimization hasn't converged yet.\n",
      "  ConvergenceWarning,\n",
      "/usr/local/lib/python3.7/dist-packages/sklearn/neural_network/_multilayer_perceptron.py:696: ConvergenceWarning: Stochastic Optimizer: Maximum iterations (100) reached and the optimization hasn't converged yet.\n",
      "  ConvergenceWarning,\n",
      "/usr/local/lib/python3.7/dist-packages/sklearn/neural_network/_multilayer_perceptron.py:696: ConvergenceWarning: Stochastic Optimizer: Maximum iterations (100) reached and the optimization hasn't converged yet.\n",
      "  ConvergenceWarning,\n",
      "/usr/local/lib/python3.7/dist-packages/sklearn/neural_network/_multilayer_perceptron.py:696: ConvergenceWarning: Stochastic Optimizer: Maximum iterations (100) reached and the optimization hasn't converged yet.\n",
      "  ConvergenceWarning,\n",
      "/usr/local/lib/python3.7/dist-packages/sklearn/neural_network/_multilayer_perceptron.py:696: ConvergenceWarning: Stochastic Optimizer: Maximum iterations (100) reached and the optimization hasn't converged yet.\n",
      "  ConvergenceWarning,\n",
      "/usr/local/lib/python3.7/dist-packages/sklearn/neural_network/_multilayer_perceptron.py:696: ConvergenceWarning: Stochastic Optimizer: Maximum iterations (100) reached and the optimization hasn't converged yet.\n",
      "  ConvergenceWarning,\n",
      "/usr/local/lib/python3.7/dist-packages/sklearn/neural_network/_multilayer_perceptron.py:696: ConvergenceWarning: Stochastic Optimizer: Maximum iterations (100) reached and the optimization hasn't converged yet.\n",
      "  ConvergenceWarning,\n",
      "/usr/local/lib/python3.7/dist-packages/sklearn/neural_network/_multilayer_perceptron.py:696: ConvergenceWarning: Stochastic Optimizer: Maximum iterations (100) reached and the optimization hasn't converged yet.\n",
      "  ConvergenceWarning,\n",
      "/usr/local/lib/python3.7/dist-packages/sklearn/neural_network/_multilayer_perceptron.py:696: ConvergenceWarning: Stochastic Optimizer: Maximum iterations (100) reached and the optimization hasn't converged yet.\n",
      "  ConvergenceWarning,\n",
      "/usr/local/lib/python3.7/dist-packages/sklearn/neural_network/_multilayer_perceptron.py:696: ConvergenceWarning: Stochastic Optimizer: Maximum iterations (100) reached and the optimization hasn't converged yet.\n",
      "  ConvergenceWarning,\n",
      "/usr/local/lib/python3.7/dist-packages/sklearn/neural_network/_multilayer_perceptron.py:696: ConvergenceWarning: Stochastic Optimizer: Maximum iterations (100) reached and the optimization hasn't converged yet.\n",
      "  ConvergenceWarning,\n"
     ]
    },
    {
     "name": "stdout",
     "output_type": "stream",
     "text": [
      "{'verbose': False, 'hidden_layer_sizes': (15,), 'activation': 'relu', 'solver': 'sgd', 'max_iter': 150}\n"
     ]
    },
    {
     "name": "stderr",
     "output_type": "stream",
     "text": [
      "/usr/local/lib/python3.7/dist-packages/sklearn/neural_network/_multilayer_perceptron.py:696: ConvergenceWarning: Stochastic Optimizer: Maximum iterations (150) reached and the optimization hasn't converged yet.\n",
      "  ConvergenceWarning,\n",
      "/usr/local/lib/python3.7/dist-packages/sklearn/neural_network/_multilayer_perceptron.py:696: ConvergenceWarning: Stochastic Optimizer: Maximum iterations (150) reached and the optimization hasn't converged yet.\n",
      "  ConvergenceWarning,\n",
      "/usr/local/lib/python3.7/dist-packages/sklearn/neural_network/_multilayer_perceptron.py:696: ConvergenceWarning: Stochastic Optimizer: Maximum iterations (150) reached and the optimization hasn't converged yet.\n",
      "  ConvergenceWarning,\n",
      "/usr/local/lib/python3.7/dist-packages/sklearn/neural_network/_multilayer_perceptron.py:696: ConvergenceWarning: Stochastic Optimizer: Maximum iterations (150) reached and the optimization hasn't converged yet.\n",
      "  ConvergenceWarning,\n",
      "/usr/local/lib/python3.7/dist-packages/sklearn/neural_network/_multilayer_perceptron.py:696: ConvergenceWarning: Stochastic Optimizer: Maximum iterations (150) reached and the optimization hasn't converged yet.\n",
      "  ConvergenceWarning,\n",
      "/usr/local/lib/python3.7/dist-packages/sklearn/neural_network/_multilayer_perceptron.py:696: ConvergenceWarning: Stochastic Optimizer: Maximum iterations (150) reached and the optimization hasn't converged yet.\n",
      "  ConvergenceWarning,\n",
      "/usr/local/lib/python3.7/dist-packages/sklearn/neural_network/_multilayer_perceptron.py:696: ConvergenceWarning: Stochastic Optimizer: Maximum iterations (150) reached and the optimization hasn't converged yet.\n",
      "  ConvergenceWarning,\n",
      "/usr/local/lib/python3.7/dist-packages/sklearn/neural_network/_multilayer_perceptron.py:696: ConvergenceWarning: Stochastic Optimizer: Maximum iterations (150) reached and the optimization hasn't converged yet.\n",
      "  ConvergenceWarning,\n"
     ]
    },
    {
     "name": "stdout",
     "output_type": "stream",
     "text": [
      "{'verbose': False, 'hidden_layer_sizes': (15,), 'activation': 'relu', 'solver': 'sgd', 'max_iter': 200}\n"
     ]
    },
    {
     "name": "stderr",
     "output_type": "stream",
     "text": [
      "/usr/local/lib/python3.7/dist-packages/sklearn/neural_network/_multilayer_perceptron.py:696: ConvergenceWarning: Stochastic Optimizer: Maximum iterations (200) reached and the optimization hasn't converged yet.\n",
      "  ConvergenceWarning,\n",
      "/usr/local/lib/python3.7/dist-packages/sklearn/neural_network/_multilayer_perceptron.py:696: ConvergenceWarning: Stochastic Optimizer: Maximum iterations (200) reached and the optimization hasn't converged yet.\n",
      "  ConvergenceWarning,\n",
      "/usr/local/lib/python3.7/dist-packages/sklearn/neural_network/_multilayer_perceptron.py:696: ConvergenceWarning: Stochastic Optimizer: Maximum iterations (200) reached and the optimization hasn't converged yet.\n",
      "  ConvergenceWarning,\n"
     ]
    },
    {
     "name": "stdout",
     "output_type": "stream",
     "text": [
      "{'verbose': False, 'hidden_layer_sizes': (15, 15), 'activation': 'relu', 'solver': 'adam', 'max_iter': 100}\n"
     ]
    },
    {
     "name": "stderr",
     "output_type": "stream",
     "text": [
      "/usr/local/lib/python3.7/dist-packages/sklearn/neural_network/_multilayer_perceptron.py:696: ConvergenceWarning: Stochastic Optimizer: Maximum iterations (100) reached and the optimization hasn't converged yet.\n",
      "  ConvergenceWarning,\n",
      "/usr/local/lib/python3.7/dist-packages/sklearn/neural_network/_multilayer_perceptron.py:696: ConvergenceWarning: Stochastic Optimizer: Maximum iterations (100) reached and the optimization hasn't converged yet.\n",
      "  ConvergenceWarning,\n",
      "/usr/local/lib/python3.7/dist-packages/sklearn/neural_network/_multilayer_perceptron.py:696: ConvergenceWarning: Stochastic Optimizer: Maximum iterations (100) reached and the optimization hasn't converged yet.\n",
      "  ConvergenceWarning,\n",
      "/usr/local/lib/python3.7/dist-packages/sklearn/neural_network/_multilayer_perceptron.py:696: ConvergenceWarning: Stochastic Optimizer: Maximum iterations (100) reached and the optimization hasn't converged yet.\n",
      "  ConvergenceWarning,\n",
      "/usr/local/lib/python3.7/dist-packages/sklearn/neural_network/_multilayer_perceptron.py:696: ConvergenceWarning: Stochastic Optimizer: Maximum iterations (100) reached and the optimization hasn't converged yet.\n",
      "  ConvergenceWarning,\n",
      "/usr/local/lib/python3.7/dist-packages/sklearn/neural_network/_multilayer_perceptron.py:696: ConvergenceWarning: Stochastic Optimizer: Maximum iterations (100) reached and the optimization hasn't converged yet.\n",
      "  ConvergenceWarning,\n",
      "/usr/local/lib/python3.7/dist-packages/sklearn/neural_network/_multilayer_perceptron.py:696: ConvergenceWarning: Stochastic Optimizer: Maximum iterations (100) reached and the optimization hasn't converged yet.\n",
      "  ConvergenceWarning,\n",
      "/usr/local/lib/python3.7/dist-packages/sklearn/neural_network/_multilayer_perceptron.py:696: ConvergenceWarning: Stochastic Optimizer: Maximum iterations (100) reached and the optimization hasn't converged yet.\n",
      "  ConvergenceWarning,\n",
      "/usr/local/lib/python3.7/dist-packages/sklearn/neural_network/_multilayer_perceptron.py:696: ConvergenceWarning: Stochastic Optimizer: Maximum iterations (100) reached and the optimization hasn't converged yet.\n",
      "  ConvergenceWarning,\n",
      "/usr/local/lib/python3.7/dist-packages/sklearn/neural_network/_multilayer_perceptron.py:696: ConvergenceWarning: Stochastic Optimizer: Maximum iterations (100) reached and the optimization hasn't converged yet.\n",
      "  ConvergenceWarning,\n",
      "/usr/local/lib/python3.7/dist-packages/sklearn/neural_network/_multilayer_perceptron.py:696: ConvergenceWarning: Stochastic Optimizer: Maximum iterations (100) reached and the optimization hasn't converged yet.\n",
      "  ConvergenceWarning,\n",
      "/usr/local/lib/python3.7/dist-packages/sklearn/neural_network/_multilayer_perceptron.py:696: ConvergenceWarning: Stochastic Optimizer: Maximum iterations (100) reached and the optimization hasn't converged yet.\n",
      "  ConvergenceWarning,\n",
      "/usr/local/lib/python3.7/dist-packages/sklearn/neural_network/_multilayer_perceptron.py:696: ConvergenceWarning: Stochastic Optimizer: Maximum iterations (100) reached and the optimization hasn't converged yet.\n",
      "  ConvergenceWarning,\n",
      "/usr/local/lib/python3.7/dist-packages/sklearn/neural_network/_multilayer_perceptron.py:696: ConvergenceWarning: Stochastic Optimizer: Maximum iterations (100) reached and the optimization hasn't converged yet.\n",
      "  ConvergenceWarning,\n",
      "/usr/local/lib/python3.7/dist-packages/sklearn/neural_network/_multilayer_perceptron.py:696: ConvergenceWarning: Stochastic Optimizer: Maximum iterations (100) reached and the optimization hasn't converged yet.\n",
      "  ConvergenceWarning,\n"
     ]
    },
    {
     "name": "stdout",
     "output_type": "stream",
     "text": [
      "{'verbose': False, 'hidden_layer_sizes': (15, 15), 'activation': 'relu', 'solver': 'adam', 'max_iter': 150}\n"
     ]
    },
    {
     "name": "stderr",
     "output_type": "stream",
     "text": [
      "/usr/local/lib/python3.7/dist-packages/sklearn/neural_network/_multilayer_perceptron.py:696: ConvergenceWarning: Stochastic Optimizer: Maximum iterations (150) reached and the optimization hasn't converged yet.\n",
      "  ConvergenceWarning,\n",
      "/usr/local/lib/python3.7/dist-packages/sklearn/neural_network/_multilayer_perceptron.py:696: ConvergenceWarning: Stochastic Optimizer: Maximum iterations (150) reached and the optimization hasn't converged yet.\n",
      "  ConvergenceWarning,\n",
      "/usr/local/lib/python3.7/dist-packages/sklearn/neural_network/_multilayer_perceptron.py:696: ConvergenceWarning: Stochastic Optimizer: Maximum iterations (150) reached and the optimization hasn't converged yet.\n",
      "  ConvergenceWarning,\n",
      "/usr/local/lib/python3.7/dist-packages/sklearn/neural_network/_multilayer_perceptron.py:696: ConvergenceWarning: Stochastic Optimizer: Maximum iterations (150) reached and the optimization hasn't converged yet.\n",
      "  ConvergenceWarning,\n",
      "/usr/local/lib/python3.7/dist-packages/sklearn/neural_network/_multilayer_perceptron.py:696: ConvergenceWarning: Stochastic Optimizer: Maximum iterations (150) reached and the optimization hasn't converged yet.\n",
      "  ConvergenceWarning,\n",
      "/usr/local/lib/python3.7/dist-packages/sklearn/neural_network/_multilayer_perceptron.py:696: ConvergenceWarning: Stochastic Optimizer: Maximum iterations (150) reached and the optimization hasn't converged yet.\n",
      "  ConvergenceWarning,\n",
      "/usr/local/lib/python3.7/dist-packages/sklearn/neural_network/_multilayer_perceptron.py:696: ConvergenceWarning: Stochastic Optimizer: Maximum iterations (150) reached and the optimization hasn't converged yet.\n",
      "  ConvergenceWarning,\n",
      "/usr/local/lib/python3.7/dist-packages/sklearn/neural_network/_multilayer_perceptron.py:696: ConvergenceWarning: Stochastic Optimizer: Maximum iterations (150) reached and the optimization hasn't converged yet.\n",
      "  ConvergenceWarning,\n",
      "/usr/local/lib/python3.7/dist-packages/sklearn/neural_network/_multilayer_perceptron.py:696: ConvergenceWarning: Stochastic Optimizer: Maximum iterations (150) reached and the optimization hasn't converged yet.\n",
      "  ConvergenceWarning,\n",
      "/usr/local/lib/python3.7/dist-packages/sklearn/neural_network/_multilayer_perceptron.py:696: ConvergenceWarning: Stochastic Optimizer: Maximum iterations (150) reached and the optimization hasn't converged yet.\n",
      "  ConvergenceWarning,\n",
      "/usr/local/lib/python3.7/dist-packages/sklearn/neural_network/_multilayer_perceptron.py:696: ConvergenceWarning: Stochastic Optimizer: Maximum iterations (150) reached and the optimization hasn't converged yet.\n",
      "  ConvergenceWarning,\n",
      "/usr/local/lib/python3.7/dist-packages/sklearn/neural_network/_multilayer_perceptron.py:696: ConvergenceWarning: Stochastic Optimizer: Maximum iterations (150) reached and the optimization hasn't converged yet.\n",
      "  ConvergenceWarning,\n",
      "/usr/local/lib/python3.7/dist-packages/sklearn/neural_network/_multilayer_perceptron.py:696: ConvergenceWarning: Stochastic Optimizer: Maximum iterations (150) reached and the optimization hasn't converged yet.\n",
      "  ConvergenceWarning,\n",
      "/usr/local/lib/python3.7/dist-packages/sklearn/neural_network/_multilayer_perceptron.py:696: ConvergenceWarning: Stochastic Optimizer: Maximum iterations (150) reached and the optimization hasn't converged yet.\n",
      "  ConvergenceWarning,\n",
      "/usr/local/lib/python3.7/dist-packages/sklearn/neural_network/_multilayer_perceptron.py:696: ConvergenceWarning: Stochastic Optimizer: Maximum iterations (150) reached and the optimization hasn't converged yet.\n",
      "  ConvergenceWarning,\n"
     ]
    },
    {
     "name": "stdout",
     "output_type": "stream",
     "text": [
      "{'verbose': False, 'hidden_layer_sizes': (15, 15), 'activation': 'relu', 'solver': 'adam', 'max_iter': 200}\n"
     ]
    },
    {
     "name": "stderr",
     "output_type": "stream",
     "text": [
      "/usr/local/lib/python3.7/dist-packages/sklearn/neural_network/_multilayer_perceptron.py:696: ConvergenceWarning: Stochastic Optimizer: Maximum iterations (200) reached and the optimization hasn't converged yet.\n",
      "  ConvergenceWarning,\n",
      "/usr/local/lib/python3.7/dist-packages/sklearn/neural_network/_multilayer_perceptron.py:696: ConvergenceWarning: Stochastic Optimizer: Maximum iterations (200) reached and the optimization hasn't converged yet.\n",
      "  ConvergenceWarning,\n",
      "/usr/local/lib/python3.7/dist-packages/sklearn/neural_network/_multilayer_perceptron.py:696: ConvergenceWarning: Stochastic Optimizer: Maximum iterations (200) reached and the optimization hasn't converged yet.\n",
      "  ConvergenceWarning,\n",
      "/usr/local/lib/python3.7/dist-packages/sklearn/neural_network/_multilayer_perceptron.py:696: ConvergenceWarning: Stochastic Optimizer: Maximum iterations (200) reached and the optimization hasn't converged yet.\n",
      "  ConvergenceWarning,\n",
      "/usr/local/lib/python3.7/dist-packages/sklearn/neural_network/_multilayer_perceptron.py:696: ConvergenceWarning: Stochastic Optimizer: Maximum iterations (200) reached and the optimization hasn't converged yet.\n",
      "  ConvergenceWarning,\n",
      "/usr/local/lib/python3.7/dist-packages/sklearn/neural_network/_multilayer_perceptron.py:696: ConvergenceWarning: Stochastic Optimizer: Maximum iterations (200) reached and the optimization hasn't converged yet.\n",
      "  ConvergenceWarning,\n",
      "/usr/local/lib/python3.7/dist-packages/sklearn/neural_network/_multilayer_perceptron.py:696: ConvergenceWarning: Stochastic Optimizer: Maximum iterations (200) reached and the optimization hasn't converged yet.\n",
      "  ConvergenceWarning,\n",
      "/usr/local/lib/python3.7/dist-packages/sklearn/neural_network/_multilayer_perceptron.py:696: ConvergenceWarning: Stochastic Optimizer: Maximum iterations (200) reached and the optimization hasn't converged yet.\n",
      "  ConvergenceWarning,\n",
      "/usr/local/lib/python3.7/dist-packages/sklearn/neural_network/_multilayer_perceptron.py:696: ConvergenceWarning: Stochastic Optimizer: Maximum iterations (200) reached and the optimization hasn't converged yet.\n",
      "  ConvergenceWarning,\n",
      "/usr/local/lib/python3.7/dist-packages/sklearn/neural_network/_multilayer_perceptron.py:696: ConvergenceWarning: Stochastic Optimizer: Maximum iterations (200) reached and the optimization hasn't converged yet.\n",
      "  ConvergenceWarning,\n",
      "/usr/local/lib/python3.7/dist-packages/sklearn/neural_network/_multilayer_perceptron.py:696: ConvergenceWarning: Stochastic Optimizer: Maximum iterations (200) reached and the optimization hasn't converged yet.\n",
      "  ConvergenceWarning,\n",
      "/usr/local/lib/python3.7/dist-packages/sklearn/neural_network/_multilayer_perceptron.py:696: ConvergenceWarning: Stochastic Optimizer: Maximum iterations (200) reached and the optimization hasn't converged yet.\n",
      "  ConvergenceWarning,\n"
     ]
    },
    {
     "name": "stdout",
     "output_type": "stream",
     "text": [
      "{'verbose': False, 'hidden_layer_sizes': (15, 15), 'activation': 'relu', 'solver': 'sgd', 'max_iter': 100}\n"
     ]
    },
    {
     "name": "stderr",
     "output_type": "stream",
     "text": [
      "/usr/local/lib/python3.7/dist-packages/sklearn/neural_network/_multilayer_perceptron.py:696: ConvergenceWarning: Stochastic Optimizer: Maximum iterations (100) reached and the optimization hasn't converged yet.\n",
      "  ConvergenceWarning,\n",
      "/usr/local/lib/python3.7/dist-packages/sklearn/neural_network/_multilayer_perceptron.py:696: ConvergenceWarning: Stochastic Optimizer: Maximum iterations (100) reached and the optimization hasn't converged yet.\n",
      "  ConvergenceWarning,\n",
      "/usr/local/lib/python3.7/dist-packages/sklearn/neural_network/_multilayer_perceptron.py:696: ConvergenceWarning: Stochastic Optimizer: Maximum iterations (100) reached and the optimization hasn't converged yet.\n",
      "  ConvergenceWarning,\n",
      "/usr/local/lib/python3.7/dist-packages/sklearn/neural_network/_multilayer_perceptron.py:696: ConvergenceWarning: Stochastic Optimizer: Maximum iterations (100) reached and the optimization hasn't converged yet.\n",
      "  ConvergenceWarning,\n",
      "/usr/local/lib/python3.7/dist-packages/sklearn/neural_network/_multilayer_perceptron.py:696: ConvergenceWarning: Stochastic Optimizer: Maximum iterations (100) reached and the optimization hasn't converged yet.\n",
      "  ConvergenceWarning,\n",
      "/usr/local/lib/python3.7/dist-packages/sklearn/neural_network/_multilayer_perceptron.py:696: ConvergenceWarning: Stochastic Optimizer: Maximum iterations (100) reached and the optimization hasn't converged yet.\n",
      "  ConvergenceWarning,\n",
      "/usr/local/lib/python3.7/dist-packages/sklearn/neural_network/_multilayer_perceptron.py:696: ConvergenceWarning: Stochastic Optimizer: Maximum iterations (100) reached and the optimization hasn't converged yet.\n",
      "  ConvergenceWarning,\n",
      "/usr/local/lib/python3.7/dist-packages/sklearn/neural_network/_multilayer_perceptron.py:696: ConvergenceWarning: Stochastic Optimizer: Maximum iterations (100) reached and the optimization hasn't converged yet.\n",
      "  ConvergenceWarning,\n",
      "/usr/local/lib/python3.7/dist-packages/sklearn/neural_network/_multilayer_perceptron.py:696: ConvergenceWarning: Stochastic Optimizer: Maximum iterations (100) reached and the optimization hasn't converged yet.\n",
      "  ConvergenceWarning,\n",
      "/usr/local/lib/python3.7/dist-packages/sklearn/neural_network/_multilayer_perceptron.py:696: ConvergenceWarning: Stochastic Optimizer: Maximum iterations (100) reached and the optimization hasn't converged yet.\n",
      "  ConvergenceWarning,\n",
      "/usr/local/lib/python3.7/dist-packages/sklearn/neural_network/_multilayer_perceptron.py:696: ConvergenceWarning: Stochastic Optimizer: Maximum iterations (100) reached and the optimization hasn't converged yet.\n",
      "  ConvergenceWarning,\n",
      "/usr/local/lib/python3.7/dist-packages/sklearn/neural_network/_multilayer_perceptron.py:696: ConvergenceWarning: Stochastic Optimizer: Maximum iterations (100) reached and the optimization hasn't converged yet.\n",
      "  ConvergenceWarning,\n",
      "/usr/local/lib/python3.7/dist-packages/sklearn/neural_network/_multilayer_perceptron.py:696: ConvergenceWarning: Stochastic Optimizer: Maximum iterations (100) reached and the optimization hasn't converged yet.\n",
      "  ConvergenceWarning,\n",
      "/usr/local/lib/python3.7/dist-packages/sklearn/neural_network/_multilayer_perceptron.py:696: ConvergenceWarning: Stochastic Optimizer: Maximum iterations (100) reached and the optimization hasn't converged yet.\n",
      "  ConvergenceWarning,\n",
      "/usr/local/lib/python3.7/dist-packages/sklearn/neural_network/_multilayer_perceptron.py:696: ConvergenceWarning: Stochastic Optimizer: Maximum iterations (100) reached and the optimization hasn't converged yet.\n",
      "  ConvergenceWarning,\n"
     ]
    },
    {
     "name": "stdout",
     "output_type": "stream",
     "text": [
      "{'verbose': False, 'hidden_layer_sizes': (15, 15), 'activation': 'relu', 'solver': 'sgd', 'max_iter': 150}\n"
     ]
    },
    {
     "name": "stderr",
     "output_type": "stream",
     "text": [
      "/usr/local/lib/python3.7/dist-packages/sklearn/neural_network/_multilayer_perceptron.py:696: ConvergenceWarning: Stochastic Optimizer: Maximum iterations (150) reached and the optimization hasn't converged yet.\n",
      "  ConvergenceWarning,\n",
      "/usr/local/lib/python3.7/dist-packages/sklearn/neural_network/_multilayer_perceptron.py:696: ConvergenceWarning: Stochastic Optimizer: Maximum iterations (150) reached and the optimization hasn't converged yet.\n",
      "  ConvergenceWarning,\n",
      "/usr/local/lib/python3.7/dist-packages/sklearn/neural_network/_multilayer_perceptron.py:696: ConvergenceWarning: Stochastic Optimizer: Maximum iterations (150) reached and the optimization hasn't converged yet.\n",
      "  ConvergenceWarning,\n",
      "/usr/local/lib/python3.7/dist-packages/sklearn/neural_network/_multilayer_perceptron.py:696: ConvergenceWarning: Stochastic Optimizer: Maximum iterations (150) reached and the optimization hasn't converged yet.\n",
      "  ConvergenceWarning,\n",
      "/usr/local/lib/python3.7/dist-packages/sklearn/neural_network/_multilayer_perceptron.py:696: ConvergenceWarning: Stochastic Optimizer: Maximum iterations (150) reached and the optimization hasn't converged yet.\n",
      "  ConvergenceWarning,\n",
      "/usr/local/lib/python3.7/dist-packages/sklearn/neural_network/_multilayer_perceptron.py:696: ConvergenceWarning: Stochastic Optimizer: Maximum iterations (150) reached and the optimization hasn't converged yet.\n",
      "  ConvergenceWarning,\n",
      "/usr/local/lib/python3.7/dist-packages/sklearn/neural_network/_multilayer_perceptron.py:696: ConvergenceWarning: Stochastic Optimizer: Maximum iterations (150) reached and the optimization hasn't converged yet.\n",
      "  ConvergenceWarning,\n",
      "/usr/local/lib/python3.7/dist-packages/sklearn/neural_network/_multilayer_perceptron.py:696: ConvergenceWarning: Stochastic Optimizer: Maximum iterations (150) reached and the optimization hasn't converged yet.\n",
      "  ConvergenceWarning,\n",
      "/usr/local/lib/python3.7/dist-packages/sklearn/neural_network/_multilayer_perceptron.py:696: ConvergenceWarning: Stochastic Optimizer: Maximum iterations (150) reached and the optimization hasn't converged yet.\n",
      "  ConvergenceWarning,\n",
      "/usr/local/lib/python3.7/dist-packages/sklearn/neural_network/_multilayer_perceptron.py:696: ConvergenceWarning: Stochastic Optimizer: Maximum iterations (150) reached and the optimization hasn't converged yet.\n",
      "  ConvergenceWarning,\n",
      "/usr/local/lib/python3.7/dist-packages/sklearn/neural_network/_multilayer_perceptron.py:696: ConvergenceWarning: Stochastic Optimizer: Maximum iterations (150) reached and the optimization hasn't converged yet.\n",
      "  ConvergenceWarning,\n",
      "/usr/local/lib/python3.7/dist-packages/sklearn/neural_network/_multilayer_perceptron.py:696: ConvergenceWarning: Stochastic Optimizer: Maximum iterations (150) reached and the optimization hasn't converged yet.\n",
      "  ConvergenceWarning,\n",
      "/usr/local/lib/python3.7/dist-packages/sklearn/neural_network/_multilayer_perceptron.py:696: ConvergenceWarning: Stochastic Optimizer: Maximum iterations (150) reached and the optimization hasn't converged yet.\n",
      "  ConvergenceWarning,\n",
      "/usr/local/lib/python3.7/dist-packages/sklearn/neural_network/_multilayer_perceptron.py:696: ConvergenceWarning: Stochastic Optimizer: Maximum iterations (150) reached and the optimization hasn't converged yet.\n",
      "  ConvergenceWarning,\n",
      "/usr/local/lib/python3.7/dist-packages/sklearn/neural_network/_multilayer_perceptron.py:696: ConvergenceWarning: Stochastic Optimizer: Maximum iterations (150) reached and the optimization hasn't converged yet.\n",
      "  ConvergenceWarning,\n"
     ]
    },
    {
     "name": "stdout",
     "output_type": "stream",
     "text": [
      "{'verbose': False, 'hidden_layer_sizes': (15, 15), 'activation': 'relu', 'solver': 'sgd', 'max_iter': 200}\n"
     ]
    },
    {
     "name": "stderr",
     "output_type": "stream",
     "text": [
      "/usr/local/lib/python3.7/dist-packages/sklearn/neural_network/_multilayer_perceptron.py:696: ConvergenceWarning: Stochastic Optimizer: Maximum iterations (200) reached and the optimization hasn't converged yet.\n",
      "  ConvergenceWarning,\n",
      "/usr/local/lib/python3.7/dist-packages/sklearn/neural_network/_multilayer_perceptron.py:696: ConvergenceWarning: Stochastic Optimizer: Maximum iterations (200) reached and the optimization hasn't converged yet.\n",
      "  ConvergenceWarning,\n",
      "/usr/local/lib/python3.7/dist-packages/sklearn/neural_network/_multilayer_perceptron.py:696: ConvergenceWarning: Stochastic Optimizer: Maximum iterations (200) reached and the optimization hasn't converged yet.\n",
      "  ConvergenceWarning,\n",
      "/usr/local/lib/python3.7/dist-packages/sklearn/neural_network/_multilayer_perceptron.py:696: ConvergenceWarning: Stochastic Optimizer: Maximum iterations (200) reached and the optimization hasn't converged yet.\n",
      "  ConvergenceWarning,\n",
      "/usr/local/lib/python3.7/dist-packages/sklearn/neural_network/_multilayer_perceptron.py:696: ConvergenceWarning: Stochastic Optimizer: Maximum iterations (200) reached and the optimization hasn't converged yet.\n",
      "  ConvergenceWarning,\n",
      "/usr/local/lib/python3.7/dist-packages/sklearn/neural_network/_multilayer_perceptron.py:696: ConvergenceWarning: Stochastic Optimizer: Maximum iterations (200) reached and the optimization hasn't converged yet.\n",
      "  ConvergenceWarning,\n",
      "/usr/local/lib/python3.7/dist-packages/sklearn/neural_network/_multilayer_perceptron.py:696: ConvergenceWarning: Stochastic Optimizer: Maximum iterations (200) reached and the optimization hasn't converged yet.\n",
      "  ConvergenceWarning,\n",
      "/usr/local/lib/python3.7/dist-packages/sklearn/neural_network/_multilayer_perceptron.py:696: ConvergenceWarning: Stochastic Optimizer: Maximum iterations (200) reached and the optimization hasn't converged yet.\n",
      "  ConvergenceWarning,\n",
      "/usr/local/lib/python3.7/dist-packages/sklearn/neural_network/_multilayer_perceptron.py:696: ConvergenceWarning: Stochastic Optimizer: Maximum iterations (200) reached and the optimization hasn't converged yet.\n",
      "  ConvergenceWarning,\n",
      "/usr/local/lib/python3.7/dist-packages/sklearn/neural_network/_multilayer_perceptron.py:696: ConvergenceWarning: Stochastic Optimizer: Maximum iterations (200) reached and the optimization hasn't converged yet.\n",
      "  ConvergenceWarning,\n",
      "/usr/local/lib/python3.7/dist-packages/sklearn/neural_network/_multilayer_perceptron.py:696: ConvergenceWarning: Stochastic Optimizer: Maximum iterations (200) reached and the optimization hasn't converged yet.\n",
      "  ConvergenceWarning,\n",
      "/usr/local/lib/python3.7/dist-packages/sklearn/neural_network/_multilayer_perceptron.py:696: ConvergenceWarning: Stochastic Optimizer: Maximum iterations (200) reached and the optimization hasn't converged yet.\n",
      "  ConvergenceWarning,\n",
      "/usr/local/lib/python3.7/dist-packages/sklearn/neural_network/_multilayer_perceptron.py:696: ConvergenceWarning: Stochastic Optimizer: Maximum iterations (200) reached and the optimization hasn't converged yet.\n",
      "  ConvergenceWarning,\n",
      "/usr/local/lib/python3.7/dist-packages/sklearn/neural_network/_multilayer_perceptron.py:696: ConvergenceWarning: Stochastic Optimizer: Maximum iterations (200) reached and the optimization hasn't converged yet.\n",
      "  ConvergenceWarning,\n",
      "/usr/local/lib/python3.7/dist-packages/sklearn/neural_network/_multilayer_perceptron.py:696: ConvergenceWarning: Stochastic Optimizer: Maximum iterations (200) reached and the optimization hasn't converged yet.\n",
      "  ConvergenceWarning,\n"
     ]
    }
   ],
   "source": [
    "results = []\n",
    "for hidden_layer_sizes in hidden_layer_sizes_list:\n",
    "  params = base_params.copy()\n",
    "  params['hidden_layer_sizes'] = hidden_layer_sizes\n",
    "  params['activation'] = 'relu'\n",
    "  for s in solvers:\n",
    "    params['solver'] = s\n",
    "    for i in max_iters:\n",
    "      params['max_iter'] = i\n",
    "      print(params)\n",
    "      mlp_params_all, acc_mean, acc_std, f1s_mean, f1s_std = evaluate_mlp(X, y, N=N, **params)\n",
    "      summarized_mlp_params = { param_key: mlp_params_all[param_key] for param_key in param_keys }\n",
    "      results.append((summarized_mlp_params.values(), acc_mean, acc_std, f1s_mean, f1s_std))"
   ]
  },
  {
   "cell_type": "code",
   "execution_count": null,
   "metadata": {
    "colab": {
     "base_uri": "https://localhost:8080/"
    },
    "executionInfo": {
     "elapsed": 8,
     "status": "ok",
     "timestamp": 1638848353441,
     "user": {
      "displayName": "Will D Mad",
      "photoUrl": "https://lh3.googleusercontent.com/a/default-user=s64",
      "userId": "17727975939014449983"
     },
     "user_tz": 240
    },
    "id": "tbQoHEQ3B5vc",
    "outputId": "e67c3ff2-796f-44cc-9b75-6ad60f913453"
   },
   "outputs": [
    {
     "data": {
      "text/plain": [
       "[(dict_values([(15,), 'relu', 'adam', 100]),\n",
       "  0.7270018664708402,\n",
       "  0.0032232749063325706,\n",
       "  0.5496845515197352,\n",
       "  0.01609496391069023),\n",
       " (dict_values([(15,), 'relu', 'adam', 150]),\n",
       "  0.7268821522550639,\n",
       "  0.0031722979658155483,\n",
       "  0.543099878497132,\n",
       "  0.0120514480332433),\n",
       " (dict_values([(15,), 'relu', 'adam', 200]),\n",
       "  0.7285244936050427,\n",
       "  0.002969953258172106,\n",
       "  0.5452952766002247,\n",
       "  0.012137187120192766),\n",
       " (dict_values([(15,), 'relu', 'sgd', 100]),\n",
       "  0.7195222140627868,\n",
       "  0.0028445648185016713,\n",
       "  0.4985626045853832,\n",
       "  0.013170451995686035),\n",
       " (dict_values([(15,), 'relu', 'sgd', 150]),\n",
       "  0.7232895783611774,\n",
       "  0.0027318648061770458,\n",
       "  0.5082081492475831,\n",
       "  0.01627317260176654),\n",
       " (dict_values([(15,), 'relu', 'sgd', 200]),\n",
       "  0.7244064010770456,\n",
       "  0.0029539373118866435,\n",
       "  0.5227864260402957,\n",
       "  0.013656614625938292),\n",
       " (dict_values([(15, 15), 'relu', 'adam', 100]),\n",
       "  0.7512866409644452,\n",
       "  0.002304284608304138,\n",
       "  0.6069615811482124,\n",
       "  0.009310448297131),\n",
       " (dict_values([(15, 15), 'relu', 'adam', 150]),\n",
       "  0.7521292301572732,\n",
       "  0.0042397705388928925,\n",
       "  0.6075751593120714,\n",
       "  0.014325899842119209),\n",
       " (dict_values([(15, 15), 'relu', 'adam', 200]),\n",
       "  0.7536908695918242,\n",
       "  0.002548481736981989,\n",
       "  0.6131590514717765,\n",
       "  0.013394923539445998),\n",
       " (dict_values([(15, 15), 'relu', 'sgd', 100]),\n",
       "  0.7405349274830182,\n",
       "  0.0041854674091182905,\n",
       "  0.5487671766810082,\n",
       "  0.01979085403425542),\n",
       " (dict_values([(15, 15), 'relu', 'sgd', 150]),\n",
       "  0.7448434918303655,\n",
       "  0.004913271973759348,\n",
       "  0.5629663633009583,\n",
       "  0.02745920510883882),\n",
       " (dict_values([(15, 15), 'relu', 'sgd', 200]),\n",
       "  0.7489275442139404,\n",
       "  0.0032360932595978187,\n",
       "  0.5765767352287027,\n",
       "  0.011986076762303743)]"
      ]
     },
     "execution_count": 18,
     "metadata": {},
     "output_type": "execute_result"
    }
   ],
   "source": [
    "results"
   ]
  },
  {
   "cell_type": "code",
   "execution_count": null,
   "metadata": {
    "id": "mcpdYz0vB7PQ"
   },
   "outputs": [],
   "source": [
    "#9h21m"
   ]
  },
  {
   "cell_type": "code",
   "execution_count": null,
   "metadata": {
    "colab": {
     "base_uri": "https://localhost:8080/"
    },
    "executionInfo": {
     "elapsed": 16645164,
     "status": "ok",
     "timestamp": 1638831421792,
     "user": {
      "displayName": "Will D Mad",
      "photoUrl": "https://lh3.googleusercontent.com/a/default-user=s64",
      "userId": "17727975939014449983"
     },
     "user_tz": 240
    },
    "id": "AngsSzID_EwT",
    "outputId": "486dfffc-456b-4918-d468-82632baf04d6"
   },
   "outputs": [
    {
     "name": "stdout",
     "output_type": "stream",
     "text": [
      "{'verbose': False, 'hidden_layer_sizes': (15, 5), 'activation': 'relu', 'solver': 'adam', 'max_iter': 100}\n"
     ]
    },
    {
     "name": "stderr",
     "output_type": "stream",
     "text": [
      "/usr/local/lib/python3.7/dist-packages/sklearn/neural_network/_multilayer_perceptron.py:696: ConvergenceWarning: Stochastic Optimizer: Maximum iterations (100) reached and the optimization hasn't converged yet.\n",
      "  ConvergenceWarning,\n",
      "/usr/local/lib/python3.7/dist-packages/sklearn/neural_network/_multilayer_perceptron.py:696: ConvergenceWarning: Stochastic Optimizer: Maximum iterations (100) reached and the optimization hasn't converged yet.\n",
      "  ConvergenceWarning,\n",
      "/usr/local/lib/python3.7/dist-packages/sklearn/neural_network/_multilayer_perceptron.py:696: ConvergenceWarning: Stochastic Optimizer: Maximum iterations (100) reached and the optimization hasn't converged yet.\n",
      "  ConvergenceWarning,\n",
      "/usr/local/lib/python3.7/dist-packages/sklearn/neural_network/_multilayer_perceptron.py:696: ConvergenceWarning: Stochastic Optimizer: Maximum iterations (100) reached and the optimization hasn't converged yet.\n",
      "  ConvergenceWarning,\n",
      "/usr/local/lib/python3.7/dist-packages/sklearn/neural_network/_multilayer_perceptron.py:696: ConvergenceWarning: Stochastic Optimizer: Maximum iterations (100) reached and the optimization hasn't converged yet.\n",
      "  ConvergenceWarning,\n",
      "/usr/local/lib/python3.7/dist-packages/sklearn/neural_network/_multilayer_perceptron.py:696: ConvergenceWarning: Stochastic Optimizer: Maximum iterations (100) reached and the optimization hasn't converged yet.\n",
      "  ConvergenceWarning,\n",
      "/usr/local/lib/python3.7/dist-packages/sklearn/neural_network/_multilayer_perceptron.py:696: ConvergenceWarning: Stochastic Optimizer: Maximum iterations (100) reached and the optimization hasn't converged yet.\n",
      "  ConvergenceWarning,\n",
      "/usr/local/lib/python3.7/dist-packages/sklearn/neural_network/_multilayer_perceptron.py:696: ConvergenceWarning: Stochastic Optimizer: Maximum iterations (100) reached and the optimization hasn't converged yet.\n",
      "  ConvergenceWarning,\n",
      "/usr/local/lib/python3.7/dist-packages/sklearn/neural_network/_multilayer_perceptron.py:696: ConvergenceWarning: Stochastic Optimizer: Maximum iterations (100) reached and the optimization hasn't converged yet.\n",
      "  ConvergenceWarning,\n",
      "/usr/local/lib/python3.7/dist-packages/sklearn/neural_network/_multilayer_perceptron.py:696: ConvergenceWarning: Stochastic Optimizer: Maximum iterations (100) reached and the optimization hasn't converged yet.\n",
      "  ConvergenceWarning,\n",
      "/usr/local/lib/python3.7/dist-packages/sklearn/neural_network/_multilayer_perceptron.py:696: ConvergenceWarning: Stochastic Optimizer: Maximum iterations (100) reached and the optimization hasn't converged yet.\n",
      "  ConvergenceWarning,\n",
      "/usr/local/lib/python3.7/dist-packages/sklearn/neural_network/_multilayer_perceptron.py:696: ConvergenceWarning: Stochastic Optimizer: Maximum iterations (100) reached and the optimization hasn't converged yet.\n",
      "  ConvergenceWarning,\n",
      "/usr/local/lib/python3.7/dist-packages/sklearn/neural_network/_multilayer_perceptron.py:696: ConvergenceWarning: Stochastic Optimizer: Maximum iterations (100) reached and the optimization hasn't converged yet.\n",
      "  ConvergenceWarning,\n"
     ]
    },
    {
     "name": "stdout",
     "output_type": "stream",
     "text": [
      "{'verbose': False, 'hidden_layer_sizes': (15, 5), 'activation': 'relu', 'solver': 'adam', 'max_iter': 150}\n"
     ]
    },
    {
     "name": "stderr",
     "output_type": "stream",
     "text": [
      "/usr/local/lib/python3.7/dist-packages/sklearn/neural_network/_multilayer_perceptron.py:696: ConvergenceWarning: Stochastic Optimizer: Maximum iterations (150) reached and the optimization hasn't converged yet.\n",
      "  ConvergenceWarning,\n",
      "/usr/local/lib/python3.7/dist-packages/sklearn/neural_network/_multilayer_perceptron.py:696: ConvergenceWarning: Stochastic Optimizer: Maximum iterations (150) reached and the optimization hasn't converged yet.\n",
      "  ConvergenceWarning,\n",
      "/usr/local/lib/python3.7/dist-packages/sklearn/neural_network/_multilayer_perceptron.py:696: ConvergenceWarning: Stochastic Optimizer: Maximum iterations (150) reached and the optimization hasn't converged yet.\n",
      "  ConvergenceWarning,\n",
      "/usr/local/lib/python3.7/dist-packages/sklearn/neural_network/_multilayer_perceptron.py:696: ConvergenceWarning: Stochastic Optimizer: Maximum iterations (150) reached and the optimization hasn't converged yet.\n",
      "  ConvergenceWarning,\n",
      "/usr/local/lib/python3.7/dist-packages/sklearn/neural_network/_multilayer_perceptron.py:696: ConvergenceWarning: Stochastic Optimizer: Maximum iterations (150) reached and the optimization hasn't converged yet.\n",
      "  ConvergenceWarning,\n",
      "/usr/local/lib/python3.7/dist-packages/sklearn/neural_network/_multilayer_perceptron.py:696: ConvergenceWarning: Stochastic Optimizer: Maximum iterations (150) reached and the optimization hasn't converged yet.\n",
      "  ConvergenceWarning,\n",
      "/usr/local/lib/python3.7/dist-packages/sklearn/neural_network/_multilayer_perceptron.py:696: ConvergenceWarning: Stochastic Optimizer: Maximum iterations (150) reached and the optimization hasn't converged yet.\n",
      "  ConvergenceWarning,\n"
     ]
    },
    {
     "name": "stdout",
     "output_type": "stream",
     "text": [
      "{'verbose': False, 'hidden_layer_sizes': (15, 5), 'activation': 'relu', 'solver': 'adam', 'max_iter': 200}\n"
     ]
    },
    {
     "name": "stderr",
     "output_type": "stream",
     "text": [
      "/usr/local/lib/python3.7/dist-packages/sklearn/neural_network/_multilayer_perceptron.py:696: ConvergenceWarning: Stochastic Optimizer: Maximum iterations (200) reached and the optimization hasn't converged yet.\n",
      "  ConvergenceWarning,\n",
      "/usr/local/lib/python3.7/dist-packages/sklearn/neural_network/_multilayer_perceptron.py:696: ConvergenceWarning: Stochastic Optimizer: Maximum iterations (200) reached and the optimization hasn't converged yet.\n",
      "  ConvergenceWarning,\n",
      "/usr/local/lib/python3.7/dist-packages/sklearn/neural_network/_multilayer_perceptron.py:696: ConvergenceWarning: Stochastic Optimizer: Maximum iterations (200) reached and the optimization hasn't converged yet.\n",
      "  ConvergenceWarning,\n"
     ]
    },
    {
     "name": "stdout",
     "output_type": "stream",
     "text": [
      "{'verbose': False, 'hidden_layer_sizes': (15, 5), 'activation': 'relu', 'solver': 'sgd', 'max_iter': 100}\n"
     ]
    },
    {
     "name": "stderr",
     "output_type": "stream",
     "text": [
      "/usr/local/lib/python3.7/dist-packages/sklearn/neural_network/_multilayer_perceptron.py:696: ConvergenceWarning: Stochastic Optimizer: Maximum iterations (100) reached and the optimization hasn't converged yet.\n",
      "  ConvergenceWarning,\n",
      "/usr/local/lib/python3.7/dist-packages/sklearn/neural_network/_multilayer_perceptron.py:696: ConvergenceWarning: Stochastic Optimizer: Maximum iterations (100) reached and the optimization hasn't converged yet.\n",
      "  ConvergenceWarning,\n",
      "/usr/local/lib/python3.7/dist-packages/sklearn/neural_network/_multilayer_perceptron.py:696: ConvergenceWarning: Stochastic Optimizer: Maximum iterations (100) reached and the optimization hasn't converged yet.\n",
      "  ConvergenceWarning,\n",
      "/usr/local/lib/python3.7/dist-packages/sklearn/neural_network/_multilayer_perceptron.py:696: ConvergenceWarning: Stochastic Optimizer: Maximum iterations (100) reached and the optimization hasn't converged yet.\n",
      "  ConvergenceWarning,\n",
      "/usr/local/lib/python3.7/dist-packages/sklearn/neural_network/_multilayer_perceptron.py:696: ConvergenceWarning: Stochastic Optimizer: Maximum iterations (100) reached and the optimization hasn't converged yet.\n",
      "  ConvergenceWarning,\n",
      "/usr/local/lib/python3.7/dist-packages/sklearn/neural_network/_multilayer_perceptron.py:696: ConvergenceWarning: Stochastic Optimizer: Maximum iterations (100) reached and the optimization hasn't converged yet.\n",
      "  ConvergenceWarning,\n",
      "/usr/local/lib/python3.7/dist-packages/sklearn/neural_network/_multilayer_perceptron.py:696: ConvergenceWarning: Stochastic Optimizer: Maximum iterations (100) reached and the optimization hasn't converged yet.\n",
      "  ConvergenceWarning,\n",
      "/usr/local/lib/python3.7/dist-packages/sklearn/neural_network/_multilayer_perceptron.py:696: ConvergenceWarning: Stochastic Optimizer: Maximum iterations (100) reached and the optimization hasn't converged yet.\n",
      "  ConvergenceWarning,\n",
      "/usr/local/lib/python3.7/dist-packages/sklearn/neural_network/_multilayer_perceptron.py:696: ConvergenceWarning: Stochastic Optimizer: Maximum iterations (100) reached and the optimization hasn't converged yet.\n",
      "  ConvergenceWarning,\n",
      "/usr/local/lib/python3.7/dist-packages/sklearn/neural_network/_multilayer_perceptron.py:696: ConvergenceWarning: Stochastic Optimizer: Maximum iterations (100) reached and the optimization hasn't converged yet.\n",
      "  ConvergenceWarning,\n",
      "/usr/local/lib/python3.7/dist-packages/sklearn/neural_network/_multilayer_perceptron.py:696: ConvergenceWarning: Stochastic Optimizer: Maximum iterations (100) reached and the optimization hasn't converged yet.\n",
      "  ConvergenceWarning,\n",
      "/usr/local/lib/python3.7/dist-packages/sklearn/neural_network/_multilayer_perceptron.py:696: ConvergenceWarning: Stochastic Optimizer: Maximum iterations (100) reached and the optimization hasn't converged yet.\n",
      "  ConvergenceWarning,\n",
      "/usr/local/lib/python3.7/dist-packages/sklearn/neural_network/_multilayer_perceptron.py:696: ConvergenceWarning: Stochastic Optimizer: Maximum iterations (100) reached and the optimization hasn't converged yet.\n",
      "  ConvergenceWarning,\n",
      "/usr/local/lib/python3.7/dist-packages/sklearn/neural_network/_multilayer_perceptron.py:696: ConvergenceWarning: Stochastic Optimizer: Maximum iterations (100) reached and the optimization hasn't converged yet.\n",
      "  ConvergenceWarning,\n",
      "/usr/local/lib/python3.7/dist-packages/sklearn/neural_network/_multilayer_perceptron.py:696: ConvergenceWarning: Stochastic Optimizer: Maximum iterations (100) reached and the optimization hasn't converged yet.\n",
      "  ConvergenceWarning,\n"
     ]
    },
    {
     "name": "stdout",
     "output_type": "stream",
     "text": [
      "{'verbose': False, 'hidden_layer_sizes': (15, 5), 'activation': 'relu', 'solver': 'sgd', 'max_iter': 150}\n"
     ]
    },
    {
     "name": "stderr",
     "output_type": "stream",
     "text": [
      "/usr/local/lib/python3.7/dist-packages/sklearn/neural_network/_multilayer_perceptron.py:696: ConvergenceWarning: Stochastic Optimizer: Maximum iterations (150) reached and the optimization hasn't converged yet.\n",
      "  ConvergenceWarning,\n",
      "/usr/local/lib/python3.7/dist-packages/sklearn/neural_network/_multilayer_perceptron.py:696: ConvergenceWarning: Stochastic Optimizer: Maximum iterations (150) reached and the optimization hasn't converged yet.\n",
      "  ConvergenceWarning,\n",
      "/usr/local/lib/python3.7/dist-packages/sklearn/neural_network/_multilayer_perceptron.py:696: ConvergenceWarning: Stochastic Optimizer: Maximum iterations (150) reached and the optimization hasn't converged yet.\n",
      "  ConvergenceWarning,\n",
      "/usr/local/lib/python3.7/dist-packages/sklearn/neural_network/_multilayer_perceptron.py:696: ConvergenceWarning: Stochastic Optimizer: Maximum iterations (150) reached and the optimization hasn't converged yet.\n",
      "  ConvergenceWarning,\n",
      "/usr/local/lib/python3.7/dist-packages/sklearn/neural_network/_multilayer_perceptron.py:696: ConvergenceWarning: Stochastic Optimizer: Maximum iterations (150) reached and the optimization hasn't converged yet.\n",
      "  ConvergenceWarning,\n",
      "/usr/local/lib/python3.7/dist-packages/sklearn/neural_network/_multilayer_perceptron.py:696: ConvergenceWarning: Stochastic Optimizer: Maximum iterations (150) reached and the optimization hasn't converged yet.\n",
      "  ConvergenceWarning,\n",
      "/usr/local/lib/python3.7/dist-packages/sklearn/neural_network/_multilayer_perceptron.py:696: ConvergenceWarning: Stochastic Optimizer: Maximum iterations (150) reached and the optimization hasn't converged yet.\n",
      "  ConvergenceWarning,\n",
      "/usr/local/lib/python3.7/dist-packages/sklearn/neural_network/_multilayer_perceptron.py:696: ConvergenceWarning: Stochastic Optimizer: Maximum iterations (150) reached and the optimization hasn't converged yet.\n",
      "  ConvergenceWarning,\n",
      "/usr/local/lib/python3.7/dist-packages/sklearn/neural_network/_multilayer_perceptron.py:696: ConvergenceWarning: Stochastic Optimizer: Maximum iterations (150) reached and the optimization hasn't converged yet.\n",
      "  ConvergenceWarning,\n",
      "/usr/local/lib/python3.7/dist-packages/sklearn/neural_network/_multilayer_perceptron.py:696: ConvergenceWarning: Stochastic Optimizer: Maximum iterations (150) reached and the optimization hasn't converged yet.\n",
      "  ConvergenceWarning,\n",
      "/usr/local/lib/python3.7/dist-packages/sklearn/neural_network/_multilayer_perceptron.py:696: ConvergenceWarning: Stochastic Optimizer: Maximum iterations (150) reached and the optimization hasn't converged yet.\n",
      "  ConvergenceWarning,\n",
      "/usr/local/lib/python3.7/dist-packages/sklearn/neural_network/_multilayer_perceptron.py:696: ConvergenceWarning: Stochastic Optimizer: Maximum iterations (150) reached and the optimization hasn't converged yet.\n",
      "  ConvergenceWarning,\n",
      "/usr/local/lib/python3.7/dist-packages/sklearn/neural_network/_multilayer_perceptron.py:696: ConvergenceWarning: Stochastic Optimizer: Maximum iterations (150) reached and the optimization hasn't converged yet.\n",
      "  ConvergenceWarning,\n",
      "/usr/local/lib/python3.7/dist-packages/sklearn/neural_network/_multilayer_perceptron.py:696: ConvergenceWarning: Stochastic Optimizer: Maximum iterations (150) reached and the optimization hasn't converged yet.\n",
      "  ConvergenceWarning,\n",
      "/usr/local/lib/python3.7/dist-packages/sklearn/neural_network/_multilayer_perceptron.py:696: ConvergenceWarning: Stochastic Optimizer: Maximum iterations (150) reached and the optimization hasn't converged yet.\n",
      "  ConvergenceWarning,\n"
     ]
    },
    {
     "name": "stdout",
     "output_type": "stream",
     "text": [
      "{'verbose': False, 'hidden_layer_sizes': (15, 5), 'activation': 'relu', 'solver': 'sgd', 'max_iter': 200}\n"
     ]
    },
    {
     "name": "stderr",
     "output_type": "stream",
     "text": [
      "/usr/local/lib/python3.7/dist-packages/sklearn/neural_network/_multilayer_perceptron.py:696: ConvergenceWarning: Stochastic Optimizer: Maximum iterations (200) reached and the optimization hasn't converged yet.\n",
      "  ConvergenceWarning,\n",
      "/usr/local/lib/python3.7/dist-packages/sklearn/neural_network/_multilayer_perceptron.py:696: ConvergenceWarning: Stochastic Optimizer: Maximum iterations (200) reached and the optimization hasn't converged yet.\n",
      "  ConvergenceWarning,\n",
      "/usr/local/lib/python3.7/dist-packages/sklearn/neural_network/_multilayer_perceptron.py:696: ConvergenceWarning: Stochastic Optimizer: Maximum iterations (200) reached and the optimization hasn't converged yet.\n",
      "  ConvergenceWarning,\n",
      "/usr/local/lib/python3.7/dist-packages/sklearn/neural_network/_multilayer_perceptron.py:696: ConvergenceWarning: Stochastic Optimizer: Maximum iterations (200) reached and the optimization hasn't converged yet.\n",
      "  ConvergenceWarning,\n",
      "/usr/local/lib/python3.7/dist-packages/sklearn/neural_network/_multilayer_perceptron.py:696: ConvergenceWarning: Stochastic Optimizer: Maximum iterations (200) reached and the optimization hasn't converged yet.\n",
      "  ConvergenceWarning,\n",
      "/usr/local/lib/python3.7/dist-packages/sklearn/neural_network/_multilayer_perceptron.py:696: ConvergenceWarning: Stochastic Optimizer: Maximum iterations (200) reached and the optimization hasn't converged yet.\n",
      "  ConvergenceWarning,\n",
      "/usr/local/lib/python3.7/dist-packages/sklearn/neural_network/_multilayer_perceptron.py:696: ConvergenceWarning: Stochastic Optimizer: Maximum iterations (200) reached and the optimization hasn't converged yet.\n",
      "  ConvergenceWarning,\n",
      "/usr/local/lib/python3.7/dist-packages/sklearn/neural_network/_multilayer_perceptron.py:696: ConvergenceWarning: Stochastic Optimizer: Maximum iterations (200) reached and the optimization hasn't converged yet.\n",
      "  ConvergenceWarning,\n"
     ]
    }
   ],
   "source": [
    "results = []\n",
    "for hidden_layer_sizes in hidden_layer_sizes_list:\n",
    "  params = base_params.copy()\n",
    "  params['hidden_layer_sizes'] = hidden_layer_sizes\n",
    "  params['activation'] = 'relu'\n",
    "  for s in solvers:\n",
    "    params['solver'] = s\n",
    "    for i in max_iters:\n",
    "      params['max_iter'] = i\n",
    "      print(params)\n",
    "      mlp_params_all, acc_mean, acc_std, f1s_mean, f1s_std = evaluate_mlp(X, y, N=N, **params)\n",
    "      summarized_mlp_params = { param_key: mlp_params_all[param_key] for param_key in param_keys }\n",
    "      results.append((summarized_mlp_params.values(), acc_mean, acc_std, f1s_mean, f1s_std))"
   ]
  },
  {
   "cell_type": "code",
   "execution_count": null,
   "metadata": {
    "colab": {
     "base_uri": "https://localhost:8080/"
    },
    "executionInfo": {
     "elapsed": 6,
     "status": "ok",
     "timestamp": 1638831423654,
     "user": {
      "displayName": "Will D Mad",
      "photoUrl": "https://lh3.googleusercontent.com/a/default-user=s64",
      "userId": "17727975939014449983"
     },
     "user_tz": 240
    },
    "id": "hRKIHGTj_Ewv",
    "outputId": "f8ea6106-0df2-4cd1-dad7-1234d471a9e9"
   },
   "outputs": [
    {
     "data": {
      "text/plain": [
       "[(dict_values([(15, 5), 'relu', 'adam', 100]),\n",
       "  0.7318558380760052,\n",
       "  0.0036664064074808096,\n",
       "  0.545574918737118,\n",
       "  0.016229287481414837),\n",
       " (dict_values([(15, 5), 'relu', 'adam', 150]),\n",
       "  0.7312913071415459,\n",
       "  0.00439890590206203,\n",
       "  0.5374700236820792,\n",
       "  0.019954833971513115),\n",
       " (dict_values([(15, 5), 'relu', 'adam', 200]),\n",
       "  0.7333551343247049,\n",
       "  0.005311091075206219,\n",
       "  0.552094423769405,\n",
       "  0.014354399825830342),\n",
       " (dict_values([(15, 5), 'relu', 'sgd', 100]),\n",
       "  0.7243536197295147,\n",
       "  0.002315650430647485,\n",
       "  0.48676585022008595,\n",
       "  0.03573684454331189),\n",
       " (dict_values([(15, 5), 'relu', 'sgd', 150]),\n",
       "  0.7293846765803808,\n",
       "  0.0038161983622348617,\n",
       "  0.4952775319523584,\n",
       "  0.022871992708061013),\n",
       " (dict_values([(15, 5), 'relu', 'sgd', 200]),\n",
       "  0.7288851661465028,\n",
       "  0.0033169452129823843,\n",
       "  0.5069947526867756,\n",
       "  0.026962292626929233)]"
      ]
     },
     "execution_count": 15,
     "metadata": {},
     "output_type": "execute_result"
    }
   ],
   "source": [
    "results"
   ]
  },
  {
   "cell_type": "code",
   "execution_count": null,
   "metadata": {
    "id": "Q4O-L_ER-VWc"
   },
   "outputs": [],
   "source": [
    "#4h37m"
   ]
  },
  {
   "cell_type": "code",
   "execution_count": null,
   "metadata": {
    "colab": {
     "base_uri": "https://localhost:8080/"
    },
    "executionInfo": {
     "elapsed": 16031153,
     "status": "ok",
     "timestamp": 1638830878435,
     "user": {
      "displayName": "Willyan Dyeno Santos",
      "photoUrl": "https://lh3.googleusercontent.com/a-/AOh14Gg15ND6_SutUqJBMqNACnd8xmHyUihzsMdyJ7ub=s64",
      "userId": "02840806053201770774"
     },
     "user_tz": 240
    },
    "id": "oktupKNW_VBW",
    "outputId": "d6384e2d-2512-4045-89c3-fd22f5a453fa"
   },
   "outputs": [
    {
     "name": "stdout",
     "output_type": "stream",
     "text": [
      "{'verbose': False, 'hidden_layer_sizes': (15, 10), 'activation': 'relu', 'solver': 'adam', 'max_iter': 100}\n"
     ]
    },
    {
     "name": "stderr",
     "output_type": "stream",
     "text": [
      "/usr/local/lib/python3.7/dist-packages/sklearn/neural_network/_multilayer_perceptron.py:696: ConvergenceWarning: Stochastic Optimizer: Maximum iterations (100) reached and the optimization hasn't converged yet.\n",
      "  ConvergenceWarning,\n",
      "/usr/local/lib/python3.7/dist-packages/sklearn/neural_network/_multilayer_perceptron.py:696: ConvergenceWarning: Stochastic Optimizer: Maximum iterations (100) reached and the optimization hasn't converged yet.\n",
      "  ConvergenceWarning,\n",
      "/usr/local/lib/python3.7/dist-packages/sklearn/neural_network/_multilayer_perceptron.py:696: ConvergenceWarning: Stochastic Optimizer: Maximum iterations (100) reached and the optimization hasn't converged yet.\n",
      "  ConvergenceWarning,\n",
      "/usr/local/lib/python3.7/dist-packages/sklearn/neural_network/_multilayer_perceptron.py:696: ConvergenceWarning: Stochastic Optimizer: Maximum iterations (100) reached and the optimization hasn't converged yet.\n",
      "  ConvergenceWarning,\n",
      "/usr/local/lib/python3.7/dist-packages/sklearn/neural_network/_multilayer_perceptron.py:696: ConvergenceWarning: Stochastic Optimizer: Maximum iterations (100) reached and the optimization hasn't converged yet.\n",
      "  ConvergenceWarning,\n",
      "/usr/local/lib/python3.7/dist-packages/sklearn/neural_network/_multilayer_perceptron.py:696: ConvergenceWarning: Stochastic Optimizer: Maximum iterations (100) reached and the optimization hasn't converged yet.\n",
      "  ConvergenceWarning,\n",
      "/usr/local/lib/python3.7/dist-packages/sklearn/neural_network/_multilayer_perceptron.py:696: ConvergenceWarning: Stochastic Optimizer: Maximum iterations (100) reached and the optimization hasn't converged yet.\n",
      "  ConvergenceWarning,\n",
      "/usr/local/lib/python3.7/dist-packages/sklearn/neural_network/_multilayer_perceptron.py:696: ConvergenceWarning: Stochastic Optimizer: Maximum iterations (100) reached and the optimization hasn't converged yet.\n",
      "  ConvergenceWarning,\n",
      "/usr/local/lib/python3.7/dist-packages/sklearn/neural_network/_multilayer_perceptron.py:696: ConvergenceWarning: Stochastic Optimizer: Maximum iterations (100) reached and the optimization hasn't converged yet.\n",
      "  ConvergenceWarning,\n",
      "/usr/local/lib/python3.7/dist-packages/sklearn/neural_network/_multilayer_perceptron.py:696: ConvergenceWarning: Stochastic Optimizer: Maximum iterations (100) reached and the optimization hasn't converged yet.\n",
      "  ConvergenceWarning,\n",
      "/usr/local/lib/python3.7/dist-packages/sklearn/neural_network/_multilayer_perceptron.py:696: ConvergenceWarning: Stochastic Optimizer: Maximum iterations (100) reached and the optimization hasn't converged yet.\n",
      "  ConvergenceWarning,\n",
      "/usr/local/lib/python3.7/dist-packages/sklearn/neural_network/_multilayer_perceptron.py:696: ConvergenceWarning: Stochastic Optimizer: Maximum iterations (100) reached and the optimization hasn't converged yet.\n",
      "  ConvergenceWarning,\n",
      "/usr/local/lib/python3.7/dist-packages/sklearn/neural_network/_multilayer_perceptron.py:696: ConvergenceWarning: Stochastic Optimizer: Maximum iterations (100) reached and the optimization hasn't converged yet.\n",
      "  ConvergenceWarning,\n",
      "/usr/local/lib/python3.7/dist-packages/sklearn/neural_network/_multilayer_perceptron.py:696: ConvergenceWarning: Stochastic Optimizer: Maximum iterations (100) reached and the optimization hasn't converged yet.\n",
      "  ConvergenceWarning,\n",
      "/usr/local/lib/python3.7/dist-packages/sklearn/neural_network/_multilayer_perceptron.py:696: ConvergenceWarning: Stochastic Optimizer: Maximum iterations (100) reached and the optimization hasn't converged yet.\n",
      "  ConvergenceWarning,\n"
     ]
    },
    {
     "name": "stdout",
     "output_type": "stream",
     "text": [
      "{'verbose': False, 'hidden_layer_sizes': (15, 10), 'activation': 'relu', 'solver': 'adam', 'max_iter': 150}\n"
     ]
    },
    {
     "name": "stderr",
     "output_type": "stream",
     "text": [
      "/usr/local/lib/python3.7/dist-packages/sklearn/neural_network/_multilayer_perceptron.py:696: ConvergenceWarning: Stochastic Optimizer: Maximum iterations (150) reached and the optimization hasn't converged yet.\n",
      "  ConvergenceWarning,\n",
      "/usr/local/lib/python3.7/dist-packages/sklearn/neural_network/_multilayer_perceptron.py:696: ConvergenceWarning: Stochastic Optimizer: Maximum iterations (150) reached and the optimization hasn't converged yet.\n",
      "  ConvergenceWarning,\n",
      "/usr/local/lib/python3.7/dist-packages/sklearn/neural_network/_multilayer_perceptron.py:696: ConvergenceWarning: Stochastic Optimizer: Maximum iterations (150) reached and the optimization hasn't converged yet.\n",
      "  ConvergenceWarning,\n",
      "/usr/local/lib/python3.7/dist-packages/sklearn/neural_network/_multilayer_perceptron.py:696: ConvergenceWarning: Stochastic Optimizer: Maximum iterations (150) reached and the optimization hasn't converged yet.\n",
      "  ConvergenceWarning,\n",
      "/usr/local/lib/python3.7/dist-packages/sklearn/neural_network/_multilayer_perceptron.py:696: ConvergenceWarning: Stochastic Optimizer: Maximum iterations (150) reached and the optimization hasn't converged yet.\n",
      "  ConvergenceWarning,\n",
      "/usr/local/lib/python3.7/dist-packages/sklearn/neural_network/_multilayer_perceptron.py:696: ConvergenceWarning: Stochastic Optimizer: Maximum iterations (150) reached and the optimization hasn't converged yet.\n",
      "  ConvergenceWarning,\n",
      "/usr/local/lib/python3.7/dist-packages/sklearn/neural_network/_multilayer_perceptron.py:696: ConvergenceWarning: Stochastic Optimizer: Maximum iterations (150) reached and the optimization hasn't converged yet.\n",
      "  ConvergenceWarning,\n",
      "/usr/local/lib/python3.7/dist-packages/sklearn/neural_network/_multilayer_perceptron.py:696: ConvergenceWarning: Stochastic Optimizer: Maximum iterations (150) reached and the optimization hasn't converged yet.\n",
      "  ConvergenceWarning,\n",
      "/usr/local/lib/python3.7/dist-packages/sklearn/neural_network/_multilayer_perceptron.py:696: ConvergenceWarning: Stochastic Optimizer: Maximum iterations (150) reached and the optimization hasn't converged yet.\n",
      "  ConvergenceWarning,\n",
      "/usr/local/lib/python3.7/dist-packages/sklearn/neural_network/_multilayer_perceptron.py:696: ConvergenceWarning: Stochastic Optimizer: Maximum iterations (150) reached and the optimization hasn't converged yet.\n",
      "  ConvergenceWarning,\n",
      "/usr/local/lib/python3.7/dist-packages/sklearn/neural_network/_multilayer_perceptron.py:696: ConvergenceWarning: Stochastic Optimizer: Maximum iterations (150) reached and the optimization hasn't converged yet.\n",
      "  ConvergenceWarning,\n",
      "/usr/local/lib/python3.7/dist-packages/sklearn/neural_network/_multilayer_perceptron.py:696: ConvergenceWarning: Stochastic Optimizer: Maximum iterations (150) reached and the optimization hasn't converged yet.\n",
      "  ConvergenceWarning,\n",
      "/usr/local/lib/python3.7/dist-packages/sklearn/neural_network/_multilayer_perceptron.py:696: ConvergenceWarning: Stochastic Optimizer: Maximum iterations (150) reached and the optimization hasn't converged yet.\n",
      "  ConvergenceWarning,\n",
      "/usr/local/lib/python3.7/dist-packages/sklearn/neural_network/_multilayer_perceptron.py:696: ConvergenceWarning: Stochastic Optimizer: Maximum iterations (150) reached and the optimization hasn't converged yet.\n",
      "  ConvergenceWarning,\n"
     ]
    },
    {
     "name": "stdout",
     "output_type": "stream",
     "text": [
      "{'verbose': False, 'hidden_layer_sizes': (15, 10), 'activation': 'relu', 'solver': 'adam', 'max_iter': 200}\n"
     ]
    },
    {
     "name": "stderr",
     "output_type": "stream",
     "text": [
      "/usr/local/lib/python3.7/dist-packages/sklearn/neural_network/_multilayer_perceptron.py:696: ConvergenceWarning: Stochastic Optimizer: Maximum iterations (200) reached and the optimization hasn't converged yet.\n",
      "  ConvergenceWarning,\n",
      "/usr/local/lib/python3.7/dist-packages/sklearn/neural_network/_multilayer_perceptron.py:696: ConvergenceWarning: Stochastic Optimizer: Maximum iterations (200) reached and the optimization hasn't converged yet.\n",
      "  ConvergenceWarning,\n",
      "/usr/local/lib/python3.7/dist-packages/sklearn/neural_network/_multilayer_perceptron.py:696: ConvergenceWarning: Stochastic Optimizer: Maximum iterations (200) reached and the optimization hasn't converged yet.\n",
      "  ConvergenceWarning,\n",
      "/usr/local/lib/python3.7/dist-packages/sklearn/neural_network/_multilayer_perceptron.py:696: ConvergenceWarning: Stochastic Optimizer: Maximum iterations (200) reached and the optimization hasn't converged yet.\n",
      "  ConvergenceWarning,\n",
      "/usr/local/lib/python3.7/dist-packages/sklearn/neural_network/_multilayer_perceptron.py:696: ConvergenceWarning: Stochastic Optimizer: Maximum iterations (200) reached and the optimization hasn't converged yet.\n",
      "  ConvergenceWarning,\n",
      "/usr/local/lib/python3.7/dist-packages/sklearn/neural_network/_multilayer_perceptron.py:696: ConvergenceWarning: Stochastic Optimizer: Maximum iterations (200) reached and the optimization hasn't converged yet.\n",
      "  ConvergenceWarning,\n",
      "/usr/local/lib/python3.7/dist-packages/sklearn/neural_network/_multilayer_perceptron.py:696: ConvergenceWarning: Stochastic Optimizer: Maximum iterations (200) reached and the optimization hasn't converged yet.\n",
      "  ConvergenceWarning,\n",
      "/usr/local/lib/python3.7/dist-packages/sklearn/neural_network/_multilayer_perceptron.py:696: ConvergenceWarning: Stochastic Optimizer: Maximum iterations (200) reached and the optimization hasn't converged yet.\n",
      "  ConvergenceWarning,\n",
      "/usr/local/lib/python3.7/dist-packages/sklearn/neural_network/_multilayer_perceptron.py:696: ConvergenceWarning: Stochastic Optimizer: Maximum iterations (200) reached and the optimization hasn't converged yet.\n",
      "  ConvergenceWarning,\n"
     ]
    },
    {
     "name": "stdout",
     "output_type": "stream",
     "text": [
      "{'verbose': False, 'hidden_layer_sizes': (15, 10), 'activation': 'relu', 'solver': 'sgd', 'max_iter': 100}\n"
     ]
    },
    {
     "name": "stderr",
     "output_type": "stream",
     "text": [
      "/usr/local/lib/python3.7/dist-packages/sklearn/neural_network/_multilayer_perceptron.py:696: ConvergenceWarning: Stochastic Optimizer: Maximum iterations (100) reached and the optimization hasn't converged yet.\n",
      "  ConvergenceWarning,\n",
      "/usr/local/lib/python3.7/dist-packages/sklearn/neural_network/_multilayer_perceptron.py:696: ConvergenceWarning: Stochastic Optimizer: Maximum iterations (100) reached and the optimization hasn't converged yet.\n",
      "  ConvergenceWarning,\n",
      "/usr/local/lib/python3.7/dist-packages/sklearn/neural_network/_multilayer_perceptron.py:696: ConvergenceWarning: Stochastic Optimizer: Maximum iterations (100) reached and the optimization hasn't converged yet.\n",
      "  ConvergenceWarning,\n",
      "/usr/local/lib/python3.7/dist-packages/sklearn/neural_network/_multilayer_perceptron.py:696: ConvergenceWarning: Stochastic Optimizer: Maximum iterations (100) reached and the optimization hasn't converged yet.\n",
      "  ConvergenceWarning,\n",
      "/usr/local/lib/python3.7/dist-packages/sklearn/neural_network/_multilayer_perceptron.py:696: ConvergenceWarning: Stochastic Optimizer: Maximum iterations (100) reached and the optimization hasn't converged yet.\n",
      "  ConvergenceWarning,\n",
      "/usr/local/lib/python3.7/dist-packages/sklearn/neural_network/_multilayer_perceptron.py:696: ConvergenceWarning: Stochastic Optimizer: Maximum iterations (100) reached and the optimization hasn't converged yet.\n",
      "  ConvergenceWarning,\n",
      "/usr/local/lib/python3.7/dist-packages/sklearn/neural_network/_multilayer_perceptron.py:696: ConvergenceWarning: Stochastic Optimizer: Maximum iterations (100) reached and the optimization hasn't converged yet.\n",
      "  ConvergenceWarning,\n",
      "/usr/local/lib/python3.7/dist-packages/sklearn/neural_network/_multilayer_perceptron.py:696: ConvergenceWarning: Stochastic Optimizer: Maximum iterations (100) reached and the optimization hasn't converged yet.\n",
      "  ConvergenceWarning,\n",
      "/usr/local/lib/python3.7/dist-packages/sklearn/neural_network/_multilayer_perceptron.py:696: ConvergenceWarning: Stochastic Optimizer: Maximum iterations (100) reached and the optimization hasn't converged yet.\n",
      "  ConvergenceWarning,\n",
      "/usr/local/lib/python3.7/dist-packages/sklearn/neural_network/_multilayer_perceptron.py:696: ConvergenceWarning: Stochastic Optimizer: Maximum iterations (100) reached and the optimization hasn't converged yet.\n",
      "  ConvergenceWarning,\n",
      "/usr/local/lib/python3.7/dist-packages/sklearn/neural_network/_multilayer_perceptron.py:696: ConvergenceWarning: Stochastic Optimizer: Maximum iterations (100) reached and the optimization hasn't converged yet.\n",
      "  ConvergenceWarning,\n",
      "/usr/local/lib/python3.7/dist-packages/sklearn/neural_network/_multilayer_perceptron.py:696: ConvergenceWarning: Stochastic Optimizer: Maximum iterations (100) reached and the optimization hasn't converged yet.\n",
      "  ConvergenceWarning,\n",
      "/usr/local/lib/python3.7/dist-packages/sklearn/neural_network/_multilayer_perceptron.py:696: ConvergenceWarning: Stochastic Optimizer: Maximum iterations (100) reached and the optimization hasn't converged yet.\n",
      "  ConvergenceWarning,\n",
      "/usr/local/lib/python3.7/dist-packages/sklearn/neural_network/_multilayer_perceptron.py:696: ConvergenceWarning: Stochastic Optimizer: Maximum iterations (100) reached and the optimization hasn't converged yet.\n",
      "  ConvergenceWarning,\n",
      "/usr/local/lib/python3.7/dist-packages/sklearn/neural_network/_multilayer_perceptron.py:696: ConvergenceWarning: Stochastic Optimizer: Maximum iterations (100) reached and the optimization hasn't converged yet.\n",
      "  ConvergenceWarning,\n"
     ]
    },
    {
     "name": "stdout",
     "output_type": "stream",
     "text": [
      "{'verbose': False, 'hidden_layer_sizes': (15, 10), 'activation': 'relu', 'solver': 'sgd', 'max_iter': 150}\n"
     ]
    },
    {
     "name": "stderr",
     "output_type": "stream",
     "text": [
      "/usr/local/lib/python3.7/dist-packages/sklearn/neural_network/_multilayer_perceptron.py:696: ConvergenceWarning: Stochastic Optimizer: Maximum iterations (150) reached and the optimization hasn't converged yet.\n",
      "  ConvergenceWarning,\n",
      "/usr/local/lib/python3.7/dist-packages/sklearn/neural_network/_multilayer_perceptron.py:696: ConvergenceWarning: Stochastic Optimizer: Maximum iterations (150) reached and the optimization hasn't converged yet.\n",
      "  ConvergenceWarning,\n",
      "/usr/local/lib/python3.7/dist-packages/sklearn/neural_network/_multilayer_perceptron.py:696: ConvergenceWarning: Stochastic Optimizer: Maximum iterations (150) reached and the optimization hasn't converged yet.\n",
      "  ConvergenceWarning,\n",
      "/usr/local/lib/python3.7/dist-packages/sklearn/neural_network/_multilayer_perceptron.py:696: ConvergenceWarning: Stochastic Optimizer: Maximum iterations (150) reached and the optimization hasn't converged yet.\n",
      "  ConvergenceWarning,\n",
      "/usr/local/lib/python3.7/dist-packages/sklearn/neural_network/_multilayer_perceptron.py:696: ConvergenceWarning: Stochastic Optimizer: Maximum iterations (150) reached and the optimization hasn't converged yet.\n",
      "  ConvergenceWarning,\n",
      "/usr/local/lib/python3.7/dist-packages/sklearn/neural_network/_multilayer_perceptron.py:696: ConvergenceWarning: Stochastic Optimizer: Maximum iterations (150) reached and the optimization hasn't converged yet.\n",
      "  ConvergenceWarning,\n",
      "/usr/local/lib/python3.7/dist-packages/sklearn/neural_network/_multilayer_perceptron.py:696: ConvergenceWarning: Stochastic Optimizer: Maximum iterations (150) reached and the optimization hasn't converged yet.\n",
      "  ConvergenceWarning,\n",
      "/usr/local/lib/python3.7/dist-packages/sklearn/neural_network/_multilayer_perceptron.py:696: ConvergenceWarning: Stochastic Optimizer: Maximum iterations (150) reached and the optimization hasn't converged yet.\n",
      "  ConvergenceWarning,\n",
      "/usr/local/lib/python3.7/dist-packages/sklearn/neural_network/_multilayer_perceptron.py:696: ConvergenceWarning: Stochastic Optimizer: Maximum iterations (150) reached and the optimization hasn't converged yet.\n",
      "  ConvergenceWarning,\n",
      "/usr/local/lib/python3.7/dist-packages/sklearn/neural_network/_multilayer_perceptron.py:696: ConvergenceWarning: Stochastic Optimizer: Maximum iterations (150) reached and the optimization hasn't converged yet.\n",
      "  ConvergenceWarning,\n",
      "/usr/local/lib/python3.7/dist-packages/sklearn/neural_network/_multilayer_perceptron.py:696: ConvergenceWarning: Stochastic Optimizer: Maximum iterations (150) reached and the optimization hasn't converged yet.\n",
      "  ConvergenceWarning,\n",
      "/usr/local/lib/python3.7/dist-packages/sklearn/neural_network/_multilayer_perceptron.py:696: ConvergenceWarning: Stochastic Optimizer: Maximum iterations (150) reached and the optimization hasn't converged yet.\n",
      "  ConvergenceWarning,\n",
      "/usr/local/lib/python3.7/dist-packages/sklearn/neural_network/_multilayer_perceptron.py:696: ConvergenceWarning: Stochastic Optimizer: Maximum iterations (150) reached and the optimization hasn't converged yet.\n",
      "  ConvergenceWarning,\n",
      "/usr/local/lib/python3.7/dist-packages/sklearn/neural_network/_multilayer_perceptron.py:696: ConvergenceWarning: Stochastic Optimizer: Maximum iterations (150) reached and the optimization hasn't converged yet.\n",
      "  ConvergenceWarning,\n",
      "/usr/local/lib/python3.7/dist-packages/sklearn/neural_network/_multilayer_perceptron.py:696: ConvergenceWarning: Stochastic Optimizer: Maximum iterations (150) reached and the optimization hasn't converged yet.\n",
      "  ConvergenceWarning,\n"
     ]
    },
    {
     "name": "stdout",
     "output_type": "stream",
     "text": [
      "{'verbose': False, 'hidden_layer_sizes': (15, 10), 'activation': 'relu', 'solver': 'sgd', 'max_iter': 200}\n"
     ]
    },
    {
     "name": "stderr",
     "output_type": "stream",
     "text": [
      "/usr/local/lib/python3.7/dist-packages/sklearn/neural_network/_multilayer_perceptron.py:696: ConvergenceWarning: Stochastic Optimizer: Maximum iterations (200) reached and the optimization hasn't converged yet.\n",
      "  ConvergenceWarning,\n",
      "/usr/local/lib/python3.7/dist-packages/sklearn/neural_network/_multilayer_perceptron.py:696: ConvergenceWarning: Stochastic Optimizer: Maximum iterations (200) reached and the optimization hasn't converged yet.\n",
      "  ConvergenceWarning,\n",
      "/usr/local/lib/python3.7/dist-packages/sklearn/neural_network/_multilayer_perceptron.py:696: ConvergenceWarning: Stochastic Optimizer: Maximum iterations (200) reached and the optimization hasn't converged yet.\n",
      "  ConvergenceWarning,\n",
      "/usr/local/lib/python3.7/dist-packages/sklearn/neural_network/_multilayer_perceptron.py:696: ConvergenceWarning: Stochastic Optimizer: Maximum iterations (200) reached and the optimization hasn't converged yet.\n",
      "  ConvergenceWarning,\n",
      "/usr/local/lib/python3.7/dist-packages/sklearn/neural_network/_multilayer_perceptron.py:696: ConvergenceWarning: Stochastic Optimizer: Maximum iterations (200) reached and the optimization hasn't converged yet.\n",
      "  ConvergenceWarning,\n",
      "/usr/local/lib/python3.7/dist-packages/sklearn/neural_network/_multilayer_perceptron.py:696: ConvergenceWarning: Stochastic Optimizer: Maximum iterations (200) reached and the optimization hasn't converged yet.\n",
      "  ConvergenceWarning,\n",
      "/usr/local/lib/python3.7/dist-packages/sklearn/neural_network/_multilayer_perceptron.py:696: ConvergenceWarning: Stochastic Optimizer: Maximum iterations (200) reached and the optimization hasn't converged yet.\n",
      "  ConvergenceWarning,\n",
      "/usr/local/lib/python3.7/dist-packages/sklearn/neural_network/_multilayer_perceptron.py:696: ConvergenceWarning: Stochastic Optimizer: Maximum iterations (200) reached and the optimization hasn't converged yet.\n",
      "  ConvergenceWarning,\n",
      "/usr/local/lib/python3.7/dist-packages/sklearn/neural_network/_multilayer_perceptron.py:696: ConvergenceWarning: Stochastic Optimizer: Maximum iterations (200) reached and the optimization hasn't converged yet.\n",
      "  ConvergenceWarning,\n",
      "/usr/local/lib/python3.7/dist-packages/sklearn/neural_network/_multilayer_perceptron.py:696: ConvergenceWarning: Stochastic Optimizer: Maximum iterations (200) reached and the optimization hasn't converged yet.\n",
      "  ConvergenceWarning,\n",
      "/usr/local/lib/python3.7/dist-packages/sklearn/neural_network/_multilayer_perceptron.py:696: ConvergenceWarning: Stochastic Optimizer: Maximum iterations (200) reached and the optimization hasn't converged yet.\n",
      "  ConvergenceWarning,\n",
      "/usr/local/lib/python3.7/dist-packages/sklearn/neural_network/_multilayer_perceptron.py:696: ConvergenceWarning: Stochastic Optimizer: Maximum iterations (200) reached and the optimization hasn't converged yet.\n",
      "  ConvergenceWarning,\n",
      "/usr/local/lib/python3.7/dist-packages/sklearn/neural_network/_multilayer_perceptron.py:696: ConvergenceWarning: Stochastic Optimizer: Maximum iterations (200) reached and the optimization hasn't converged yet.\n",
      "  ConvergenceWarning,\n",
      "/usr/local/lib/python3.7/dist-packages/sklearn/neural_network/_multilayer_perceptron.py:696: ConvergenceWarning: Stochastic Optimizer: Maximum iterations (200) reached and the optimization hasn't converged yet.\n",
      "  ConvergenceWarning,\n"
     ]
    }
   ],
   "source": [
    "results = []\n",
    "for hidden_layer_sizes in hidden_layer_sizes_list:\n",
    "  params = base_params.copy()\n",
    "  params['hidden_layer_sizes'] = hidden_layer_sizes\n",
    "  params['activation'] = 'relu'\n",
    "  for s in solvers:\n",
    "    params['solver'] = s\n",
    "    for i in max_iters:\n",
    "      params['max_iter'] = i\n",
    "      print(params)\n",
    "      mlp_params_all, acc_mean, acc_std, f1s_mean, f1s_std = evaluate_mlp(X, y, N=N, **params)\n",
    "      summarized_mlp_params = { param_key: mlp_params_all[param_key] for param_key in param_keys }\n",
    "      results.append((summarized_mlp_params.values(), acc_mean, acc_std, f1s_mean, f1s_std))"
   ]
  },
  {
   "cell_type": "code",
   "execution_count": null,
   "metadata": {
    "colab": {
     "base_uri": "https://localhost:8080/"
    },
    "executionInfo": {
     "elapsed": 14,
     "status": "ok",
     "timestamp": 1638830878436,
     "user": {
      "displayName": "Willyan Dyeno Santos",
      "photoUrl": "https://lh3.googleusercontent.com/a-/AOh14Gg15ND6_SutUqJBMqNACnd8xmHyUihzsMdyJ7ub=s64",
      "userId": "02840806053201770774"
     },
     "user_tz": 240
    },
    "id": "FbJt1iA8_VBZ",
    "outputId": "daece5f5-494e-420b-a105-e4a753e18730"
   },
   "outputs": [
    {
     "data": {
      "text/plain": [
       "[(dict_values([(15, 10), 'relu', 'adam', 100]),\n",
       "  0.7416490728841564,\n",
       "  0.004709275541797526,\n",
       "  0.5729825610591711,\n",
       "  0.013399325576087319),\n",
       " (dict_values([(15, 10), 'relu', 'adam', 150]),\n",
       "  0.7433533749464537,\n",
       "  0.004059132266592982,\n",
       "  0.5840869398611442,\n",
       "  0.012442154145451773),\n",
       " (dict_values([(15, 10), 'relu', 'adam', 200]),\n",
       "  0.7462093048161068,\n",
       "  0.004223595044438851,\n",
       "  0.5861077895721103,\n",
       "  0.01841238993751436),\n",
       " (dict_values([(15, 10), 'relu', 'sgd', 100]),\n",
       "  0.7331531882993698,\n",
       "  0.0043406851311257105,\n",
       "  0.5315448902237031,\n",
       "  0.016931151450730344),\n",
       " (dict_values([(15, 10), 'relu', 'sgd', 150]),\n",
       "  0.7377849427819595,\n",
       "  0.0035772021007036124,\n",
       "  0.5470259360851606,\n",
       "  0.0209636777888971),\n",
       " (dict_values([(15, 10), 'relu', 'sgd', 200]),\n",
       "  0.7404029741141912,\n",
       "  0.004038814673149293,\n",
       "  0.5475937348337697,\n",
       "  0.03185500534905311)]"
      ]
     },
     "execution_count": 16,
     "metadata": {},
     "output_type": "execute_result"
    }
   ],
   "source": [
    "results"
   ]
  },
  {
   "cell_type": "code",
   "execution_count": null,
   "metadata": {
    "id": "SRTmUo-z9H6h"
   },
   "outputs": [],
   "source": [
    "#4h27m"
   ]
  },
  {
   "cell_type": "code",
   "execution_count": null,
   "metadata": {
    "colab": {
     "base_uri": "https://localhost:8080/"
    },
    "executionInfo": {
     "elapsed": 1016835,
     "status": "ok",
     "timestamp": 1638845241124,
     "user": {
      "displayName": "Willyan Dyeno Santos",
      "photoUrl": "https://lh3.googleusercontent.com/a-/AOh14Gg15ND6_SutUqJBMqNACnd8xmHyUihzsMdyJ7ub=s64",
      "userId": "02840806053201770774"
     },
     "user_tz": 240
    },
    "id": "U-iAYeh_0G30",
    "outputId": "d8acef05-575b-4ca4-b3e5-1fc86b16b6ac"
   },
   "outputs": [
    {
     "name": "stdout",
     "output_type": "stream",
     "text": [
      "{'verbose': False, 'hidden_layer_sizes': (10, 5), 'activation': 'relu', 'solver': 'adam', 'max_iter': 100}\n"
     ]
    },
    {
     "name": "stderr",
     "output_type": "stream",
     "text": [
      "/usr/local/lib/python3.7/dist-packages/sklearn/neural_network/_multilayer_perceptron.py:696: ConvergenceWarning: Stochastic Optimizer: Maximum iterations (100) reached and the optimization hasn't converged yet.\n",
      "  ConvergenceWarning,\n",
      "/usr/local/lib/python3.7/dist-packages/sklearn/neural_network/_multilayer_perceptron.py:696: ConvergenceWarning: Stochastic Optimizer: Maximum iterations (100) reached and the optimization hasn't converged yet.\n",
      "  ConvergenceWarning,\n",
      "/usr/local/lib/python3.7/dist-packages/sklearn/neural_network/_multilayer_perceptron.py:696: ConvergenceWarning: Stochastic Optimizer: Maximum iterations (100) reached and the optimization hasn't converged yet.\n",
      "  ConvergenceWarning,\n",
      "/usr/local/lib/python3.7/dist-packages/sklearn/neural_network/_multilayer_perceptron.py:696: ConvergenceWarning: Stochastic Optimizer: Maximum iterations (100) reached and the optimization hasn't converged yet.\n",
      "  ConvergenceWarning,\n",
      "/usr/local/lib/python3.7/dist-packages/sklearn/neural_network/_multilayer_perceptron.py:696: ConvergenceWarning: Stochastic Optimizer: Maximum iterations (100) reached and the optimization hasn't converged yet.\n",
      "  ConvergenceWarning,\n",
      "/usr/local/lib/python3.7/dist-packages/sklearn/neural_network/_multilayer_perceptron.py:696: ConvergenceWarning: Stochastic Optimizer: Maximum iterations (100) reached and the optimization hasn't converged yet.\n",
      "  ConvergenceWarning,\n",
      "/usr/local/lib/python3.7/dist-packages/sklearn/neural_network/_multilayer_perceptron.py:696: ConvergenceWarning: Stochastic Optimizer: Maximum iterations (100) reached and the optimization hasn't converged yet.\n",
      "  ConvergenceWarning,\n",
      "/usr/local/lib/python3.7/dist-packages/sklearn/neural_network/_multilayer_perceptron.py:696: ConvergenceWarning: Stochastic Optimizer: Maximum iterations (100) reached and the optimization hasn't converged yet.\n",
      "  ConvergenceWarning,\n",
      "/usr/local/lib/python3.7/dist-packages/sklearn/neural_network/_multilayer_perceptron.py:696: ConvergenceWarning: Stochastic Optimizer: Maximum iterations (100) reached and the optimization hasn't converged yet.\n",
      "  ConvergenceWarning,\n"
     ]
    },
    {
     "name": "stdout",
     "output_type": "stream",
     "text": [
      "{'verbose': False, 'hidden_layer_sizes': (10, 5), 'activation': 'relu', 'solver': 'adam', 'max_iter': 150}\n"
     ]
    },
    {
     "name": "stderr",
     "output_type": "stream",
     "text": [
      "/usr/local/lib/python3.7/dist-packages/sklearn/neural_network/_multilayer_perceptron.py:696: ConvergenceWarning: Stochastic Optimizer: Maximum iterations (150) reached and the optimization hasn't converged yet.\n",
      "  ConvergenceWarning,\n",
      "/usr/local/lib/python3.7/dist-packages/sklearn/neural_network/_multilayer_perceptron.py:696: ConvergenceWarning: Stochastic Optimizer: Maximum iterations (150) reached and the optimization hasn't converged yet.\n",
      "  ConvergenceWarning,\n"
     ]
    },
    {
     "name": "stdout",
     "output_type": "stream",
     "text": [
      "{'verbose': False, 'hidden_layer_sizes': (10, 5), 'activation': 'relu', 'solver': 'adam', 'max_iter': 200}\n",
      "{'verbose': False, 'hidden_layer_sizes': (10, 5), 'activation': 'relu', 'solver': 'sgd', 'max_iter': 100}\n"
     ]
    },
    {
     "name": "stderr",
     "output_type": "stream",
     "text": [
      "/usr/local/lib/python3.7/dist-packages/sklearn/neural_network/_multilayer_perceptron.py:696: ConvergenceWarning: Stochastic Optimizer: Maximum iterations (100) reached and the optimization hasn't converged yet.\n",
      "  ConvergenceWarning,\n",
      "/usr/local/lib/python3.7/dist-packages/sklearn/neural_network/_multilayer_perceptron.py:696: ConvergenceWarning: Stochastic Optimizer: Maximum iterations (100) reached and the optimization hasn't converged yet.\n",
      "  ConvergenceWarning,\n",
      "/usr/local/lib/python3.7/dist-packages/sklearn/neural_network/_multilayer_perceptron.py:696: ConvergenceWarning: Stochastic Optimizer: Maximum iterations (100) reached and the optimization hasn't converged yet.\n",
      "  ConvergenceWarning,\n",
      "/usr/local/lib/python3.7/dist-packages/sklearn/neural_network/_multilayer_perceptron.py:696: ConvergenceWarning: Stochastic Optimizer: Maximum iterations (100) reached and the optimization hasn't converged yet.\n",
      "  ConvergenceWarning,\n",
      "/usr/local/lib/python3.7/dist-packages/sklearn/neural_network/_multilayer_perceptron.py:696: ConvergenceWarning: Stochastic Optimizer: Maximum iterations (100) reached and the optimization hasn't converged yet.\n",
      "  ConvergenceWarning,\n",
      "/usr/local/lib/python3.7/dist-packages/sklearn/neural_network/_multilayer_perceptron.py:696: ConvergenceWarning: Stochastic Optimizer: Maximum iterations (100) reached and the optimization hasn't converged yet.\n",
      "  ConvergenceWarning,\n",
      "/usr/local/lib/python3.7/dist-packages/sklearn/neural_network/_multilayer_perceptron.py:696: ConvergenceWarning: Stochastic Optimizer: Maximum iterations (100) reached and the optimization hasn't converged yet.\n",
      "  ConvergenceWarning,\n",
      "/usr/local/lib/python3.7/dist-packages/sklearn/neural_network/_multilayer_perceptron.py:696: ConvergenceWarning: Stochastic Optimizer: Maximum iterations (100) reached and the optimization hasn't converged yet.\n",
      "  ConvergenceWarning,\n",
      "/usr/local/lib/python3.7/dist-packages/sklearn/neural_network/_multilayer_perceptron.py:696: ConvergenceWarning: Stochastic Optimizer: Maximum iterations (100) reached and the optimization hasn't converged yet.\n",
      "  ConvergenceWarning,\n",
      "/usr/local/lib/python3.7/dist-packages/sklearn/neural_network/_multilayer_perceptron.py:696: ConvergenceWarning: Stochastic Optimizer: Maximum iterations (100) reached and the optimization hasn't converged yet.\n",
      "  ConvergenceWarning,\n",
      "/usr/local/lib/python3.7/dist-packages/sklearn/neural_network/_multilayer_perceptron.py:696: ConvergenceWarning: Stochastic Optimizer: Maximum iterations (100) reached and the optimization hasn't converged yet.\n",
      "  ConvergenceWarning,\n",
      "/usr/local/lib/python3.7/dist-packages/sklearn/neural_network/_multilayer_perceptron.py:696: ConvergenceWarning: Stochastic Optimizer: Maximum iterations (100) reached and the optimization hasn't converged yet.\n",
      "  ConvergenceWarning,\n",
      "/usr/local/lib/python3.7/dist-packages/sklearn/neural_network/_multilayer_perceptron.py:696: ConvergenceWarning: Stochastic Optimizer: Maximum iterations (100) reached and the optimization hasn't converged yet.\n",
      "  ConvergenceWarning,\n",
      "/usr/local/lib/python3.7/dist-packages/sklearn/neural_network/_multilayer_perceptron.py:696: ConvergenceWarning: Stochastic Optimizer: Maximum iterations (100) reached and the optimization hasn't converged yet.\n",
      "  ConvergenceWarning,\n"
     ]
    },
    {
     "name": "stdout",
     "output_type": "stream",
     "text": [
      "{'verbose': False, 'hidden_layer_sizes': (10, 5), 'activation': 'relu', 'solver': 'sgd', 'max_iter': 150}\n"
     ]
    },
    {
     "name": "stderr",
     "output_type": "stream",
     "text": [
      "/usr/local/lib/python3.7/dist-packages/sklearn/neural_network/_multilayer_perceptron.py:696: ConvergenceWarning: Stochastic Optimizer: Maximum iterations (150) reached and the optimization hasn't converged yet.\n",
      "  ConvergenceWarning,\n",
      "/usr/local/lib/python3.7/dist-packages/sklearn/neural_network/_multilayer_perceptron.py:696: ConvergenceWarning: Stochastic Optimizer: Maximum iterations (150) reached and the optimization hasn't converged yet.\n",
      "  ConvergenceWarning,\n",
      "/usr/local/lib/python3.7/dist-packages/sklearn/neural_network/_multilayer_perceptron.py:696: ConvergenceWarning: Stochastic Optimizer: Maximum iterations (150) reached and the optimization hasn't converged yet.\n",
      "  ConvergenceWarning,\n",
      "/usr/local/lib/python3.7/dist-packages/sklearn/neural_network/_multilayer_perceptron.py:696: ConvergenceWarning: Stochastic Optimizer: Maximum iterations (150) reached and the optimization hasn't converged yet.\n",
      "  ConvergenceWarning,\n",
      "/usr/local/lib/python3.7/dist-packages/sklearn/neural_network/_multilayer_perceptron.py:696: ConvergenceWarning: Stochastic Optimizer: Maximum iterations (150) reached and the optimization hasn't converged yet.\n",
      "  ConvergenceWarning,\n",
      "/usr/local/lib/python3.7/dist-packages/sklearn/neural_network/_multilayer_perceptron.py:696: ConvergenceWarning: Stochastic Optimizer: Maximum iterations (150) reached and the optimization hasn't converged yet.\n",
      "  ConvergenceWarning,\n",
      "/usr/local/lib/python3.7/dist-packages/sklearn/neural_network/_multilayer_perceptron.py:696: ConvergenceWarning: Stochastic Optimizer: Maximum iterations (150) reached and the optimization hasn't converged yet.\n",
      "  ConvergenceWarning,\n",
      "/usr/local/lib/python3.7/dist-packages/sklearn/neural_network/_multilayer_perceptron.py:696: ConvergenceWarning: Stochastic Optimizer: Maximum iterations (150) reached and the optimization hasn't converged yet.\n",
      "  ConvergenceWarning,\n",
      "/usr/local/lib/python3.7/dist-packages/sklearn/neural_network/_multilayer_perceptron.py:696: ConvergenceWarning: Stochastic Optimizer: Maximum iterations (150) reached and the optimization hasn't converged yet.\n",
      "  ConvergenceWarning,\n",
      "/usr/local/lib/python3.7/dist-packages/sklearn/neural_network/_multilayer_perceptron.py:696: ConvergenceWarning: Stochastic Optimizer: Maximum iterations (150) reached and the optimization hasn't converged yet.\n",
      "  ConvergenceWarning,\n",
      "/usr/local/lib/python3.7/dist-packages/sklearn/neural_network/_multilayer_perceptron.py:696: ConvergenceWarning: Stochastic Optimizer: Maximum iterations (150) reached and the optimization hasn't converged yet.\n",
      "  ConvergenceWarning,\n"
     ]
    },
    {
     "name": "stdout",
     "output_type": "stream",
     "text": [
      "{'verbose': False, 'hidden_layer_sizes': (10, 5), 'activation': 'relu', 'solver': 'sgd', 'max_iter': 200}\n"
     ]
    },
    {
     "name": "stderr",
     "output_type": "stream",
     "text": [
      "/usr/local/lib/python3.7/dist-packages/sklearn/neural_network/_multilayer_perceptron.py:696: ConvergenceWarning: Stochastic Optimizer: Maximum iterations (200) reached and the optimization hasn't converged yet.\n",
      "  ConvergenceWarning,\n",
      "/usr/local/lib/python3.7/dist-packages/sklearn/neural_network/_multilayer_perceptron.py:696: ConvergenceWarning: Stochastic Optimizer: Maximum iterations (200) reached and the optimization hasn't converged yet.\n",
      "  ConvergenceWarning,\n",
      "/usr/local/lib/python3.7/dist-packages/sklearn/neural_network/_multilayer_perceptron.py:696: ConvergenceWarning: Stochastic Optimizer: Maximum iterations (200) reached and the optimization hasn't converged yet.\n",
      "  ConvergenceWarning,\n"
     ]
    },
    {
     "name": "stdout",
     "output_type": "stream",
     "text": [
      "{'verbose': False, 'hidden_layer_sizes': (5, 10), 'activation': 'relu', 'solver': 'adam', 'max_iter': 100}\n"
     ]
    },
    {
     "name": "stderr",
     "output_type": "stream",
     "text": [
      "/usr/local/lib/python3.7/dist-packages/sklearn/neural_network/_multilayer_perceptron.py:696: ConvergenceWarning: Stochastic Optimizer: Maximum iterations (100) reached and the optimization hasn't converged yet.\n",
      "  ConvergenceWarning,\n",
      "/usr/local/lib/python3.7/dist-packages/sklearn/neural_network/_multilayer_perceptron.py:696: ConvergenceWarning: Stochastic Optimizer: Maximum iterations (100) reached and the optimization hasn't converged yet.\n",
      "  ConvergenceWarning,\n",
      "/usr/local/lib/python3.7/dist-packages/sklearn/neural_network/_multilayer_perceptron.py:696: ConvergenceWarning: Stochastic Optimizer: Maximum iterations (100) reached and the optimization hasn't converged yet.\n",
      "  ConvergenceWarning,\n",
      "/usr/local/lib/python3.7/dist-packages/sklearn/neural_network/_multilayer_perceptron.py:696: ConvergenceWarning: Stochastic Optimizer: Maximum iterations (100) reached and the optimization hasn't converged yet.\n",
      "  ConvergenceWarning,\n",
      "/usr/local/lib/python3.7/dist-packages/sklearn/neural_network/_multilayer_perceptron.py:696: ConvergenceWarning: Stochastic Optimizer: Maximum iterations (100) reached and the optimization hasn't converged yet.\n",
      "  ConvergenceWarning,\n",
      "/usr/local/lib/python3.7/dist-packages/sklearn/neural_network/_multilayer_perceptron.py:696: ConvergenceWarning: Stochastic Optimizer: Maximum iterations (100) reached and the optimization hasn't converged yet.\n",
      "  ConvergenceWarning,\n",
      "/usr/local/lib/python3.7/dist-packages/sklearn/neural_network/_multilayer_perceptron.py:696: ConvergenceWarning: Stochastic Optimizer: Maximum iterations (100) reached and the optimization hasn't converged yet.\n",
      "  ConvergenceWarning,\n",
      "/usr/local/lib/python3.7/dist-packages/sklearn/neural_network/_multilayer_perceptron.py:696: ConvergenceWarning: Stochastic Optimizer: Maximum iterations (100) reached and the optimization hasn't converged yet.\n",
      "  ConvergenceWarning,\n",
      "/usr/local/lib/python3.7/dist-packages/sklearn/neural_network/_multilayer_perceptron.py:696: ConvergenceWarning: Stochastic Optimizer: Maximum iterations (100) reached and the optimization hasn't converged yet.\n",
      "  ConvergenceWarning,\n",
      "/usr/local/lib/python3.7/dist-packages/sklearn/neural_network/_multilayer_perceptron.py:696: ConvergenceWarning: Stochastic Optimizer: Maximum iterations (100) reached and the optimization hasn't converged yet.\n",
      "  ConvergenceWarning,\n",
      "/usr/local/lib/python3.7/dist-packages/sklearn/neural_network/_multilayer_perceptron.py:696: ConvergenceWarning: Stochastic Optimizer: Maximum iterations (100) reached and the optimization hasn't converged yet.\n",
      "  ConvergenceWarning,\n",
      "/usr/local/lib/python3.7/dist-packages/sklearn/neural_network/_multilayer_perceptron.py:696: ConvergenceWarning: Stochastic Optimizer: Maximum iterations (100) reached and the optimization hasn't converged yet.\n",
      "  ConvergenceWarning,\n"
     ]
    },
    {
     "name": "stdout",
     "output_type": "stream",
     "text": [
      "{'verbose': False, 'hidden_layer_sizes': (5, 10), 'activation': 'relu', 'solver': 'adam', 'max_iter': 150}\n"
     ]
    },
    {
     "name": "stderr",
     "output_type": "stream",
     "text": [
      "/usr/local/lib/python3.7/dist-packages/sklearn/neural_network/_multilayer_perceptron.py:696: ConvergenceWarning: Stochastic Optimizer: Maximum iterations (150) reached and the optimization hasn't converged yet.\n",
      "  ConvergenceWarning,\n",
      "/usr/local/lib/python3.7/dist-packages/sklearn/neural_network/_multilayer_perceptron.py:696: ConvergenceWarning: Stochastic Optimizer: Maximum iterations (150) reached and the optimization hasn't converged yet.\n",
      "  ConvergenceWarning,\n",
      "/usr/local/lib/python3.7/dist-packages/sklearn/neural_network/_multilayer_perceptron.py:696: ConvergenceWarning: Stochastic Optimizer: Maximum iterations (150) reached and the optimization hasn't converged yet.\n",
      "  ConvergenceWarning,\n",
      "/usr/local/lib/python3.7/dist-packages/sklearn/neural_network/_multilayer_perceptron.py:696: ConvergenceWarning: Stochastic Optimizer: Maximum iterations (150) reached and the optimization hasn't converged yet.\n",
      "  ConvergenceWarning,\n"
     ]
    },
    {
     "name": "stdout",
     "output_type": "stream",
     "text": [
      "{'verbose': False, 'hidden_layer_sizes': (5, 10), 'activation': 'relu', 'solver': 'adam', 'max_iter': 200}\n"
     ]
    },
    {
     "name": "stderr",
     "output_type": "stream",
     "text": [
      "/usr/local/lib/python3.7/dist-packages/sklearn/neural_network/_multilayer_perceptron.py:696: ConvergenceWarning: Stochastic Optimizer: Maximum iterations (200) reached and the optimization hasn't converged yet.\n",
      "  ConvergenceWarning,\n",
      "/usr/local/lib/python3.7/dist-packages/sklearn/neural_network/_multilayer_perceptron.py:696: ConvergenceWarning: Stochastic Optimizer: Maximum iterations (200) reached and the optimization hasn't converged yet.\n",
      "  ConvergenceWarning,\n"
     ]
    },
    {
     "name": "stdout",
     "output_type": "stream",
     "text": [
      "{'verbose': False, 'hidden_layer_sizes': (5, 10), 'activation': 'relu', 'solver': 'sgd', 'max_iter': 100}\n"
     ]
    },
    {
     "name": "stderr",
     "output_type": "stream",
     "text": [
      "/usr/local/lib/python3.7/dist-packages/sklearn/neural_network/_multilayer_perceptron.py:696: ConvergenceWarning: Stochastic Optimizer: Maximum iterations (100) reached and the optimization hasn't converged yet.\n",
      "  ConvergenceWarning,\n",
      "/usr/local/lib/python3.7/dist-packages/sklearn/neural_network/_multilayer_perceptron.py:696: ConvergenceWarning: Stochastic Optimizer: Maximum iterations (100) reached and the optimization hasn't converged yet.\n",
      "  ConvergenceWarning,\n",
      "/usr/local/lib/python3.7/dist-packages/sklearn/neural_network/_multilayer_perceptron.py:696: ConvergenceWarning: Stochastic Optimizer: Maximum iterations (100) reached and the optimization hasn't converged yet.\n",
      "  ConvergenceWarning,\n",
      "/usr/local/lib/python3.7/dist-packages/sklearn/neural_network/_multilayer_perceptron.py:696: ConvergenceWarning: Stochastic Optimizer: Maximum iterations (100) reached and the optimization hasn't converged yet.\n",
      "  ConvergenceWarning,\n",
      "/usr/local/lib/python3.7/dist-packages/sklearn/neural_network/_multilayer_perceptron.py:696: ConvergenceWarning: Stochastic Optimizer: Maximum iterations (100) reached and the optimization hasn't converged yet.\n",
      "  ConvergenceWarning,\n",
      "/usr/local/lib/python3.7/dist-packages/sklearn/neural_network/_multilayer_perceptron.py:696: ConvergenceWarning: Stochastic Optimizer: Maximum iterations (100) reached and the optimization hasn't converged yet.\n",
      "  ConvergenceWarning,\n",
      "/usr/local/lib/python3.7/dist-packages/sklearn/neural_network/_multilayer_perceptron.py:696: ConvergenceWarning: Stochastic Optimizer: Maximum iterations (100) reached and the optimization hasn't converged yet.\n",
      "  ConvergenceWarning,\n",
      "/usr/local/lib/python3.7/dist-packages/sklearn/neural_network/_multilayer_perceptron.py:696: ConvergenceWarning: Stochastic Optimizer: Maximum iterations (100) reached and the optimization hasn't converged yet.\n",
      "  ConvergenceWarning,\n",
      "/usr/local/lib/python3.7/dist-packages/sklearn/neural_network/_multilayer_perceptron.py:696: ConvergenceWarning: Stochastic Optimizer: Maximum iterations (100) reached and the optimization hasn't converged yet.\n",
      "  ConvergenceWarning,\n",
      "/usr/local/lib/python3.7/dist-packages/sklearn/neural_network/_multilayer_perceptron.py:696: ConvergenceWarning: Stochastic Optimizer: Maximum iterations (100) reached and the optimization hasn't converged yet.\n",
      "  ConvergenceWarning,\n",
      "/usr/local/lib/python3.7/dist-packages/sklearn/neural_network/_multilayer_perceptron.py:696: ConvergenceWarning: Stochastic Optimizer: Maximum iterations (100) reached and the optimization hasn't converged yet.\n",
      "  ConvergenceWarning,\n",
      "/usr/local/lib/python3.7/dist-packages/sklearn/neural_network/_multilayer_perceptron.py:696: ConvergenceWarning: Stochastic Optimizer: Maximum iterations (100) reached and the optimization hasn't converged yet.\n",
      "  ConvergenceWarning,\n",
      "/usr/local/lib/python3.7/dist-packages/sklearn/neural_network/_multilayer_perceptron.py:696: ConvergenceWarning: Stochastic Optimizer: Maximum iterations (100) reached and the optimization hasn't converged yet.\n",
      "  ConvergenceWarning,\n",
      "/usr/local/lib/python3.7/dist-packages/sklearn/neural_network/_multilayer_perceptron.py:696: ConvergenceWarning: Stochastic Optimizer: Maximum iterations (100) reached and the optimization hasn't converged yet.\n",
      "  ConvergenceWarning,\n"
     ]
    },
    {
     "name": "stdout",
     "output_type": "stream",
     "text": [
      "{'verbose': False, 'hidden_layer_sizes': (5, 10), 'activation': 'relu', 'solver': 'sgd', 'max_iter': 150}\n"
     ]
    },
    {
     "name": "stderr",
     "output_type": "stream",
     "text": [
      "/usr/local/lib/python3.7/dist-packages/sklearn/neural_network/_multilayer_perceptron.py:696: ConvergenceWarning: Stochastic Optimizer: Maximum iterations (150) reached and the optimization hasn't converged yet.\n",
      "  ConvergenceWarning,\n",
      "/usr/local/lib/python3.7/dist-packages/sklearn/neural_network/_multilayer_perceptron.py:696: ConvergenceWarning: Stochastic Optimizer: Maximum iterations (150) reached and the optimization hasn't converged yet.\n",
      "  ConvergenceWarning,\n",
      "/usr/local/lib/python3.7/dist-packages/sklearn/neural_network/_multilayer_perceptron.py:696: ConvergenceWarning: Stochastic Optimizer: Maximum iterations (150) reached and the optimization hasn't converged yet.\n",
      "  ConvergenceWarning,\n",
      "/usr/local/lib/python3.7/dist-packages/sklearn/neural_network/_multilayer_perceptron.py:696: ConvergenceWarning: Stochastic Optimizer: Maximum iterations (150) reached and the optimization hasn't converged yet.\n",
      "  ConvergenceWarning,\n",
      "/usr/local/lib/python3.7/dist-packages/sklearn/neural_network/_multilayer_perceptron.py:696: ConvergenceWarning: Stochastic Optimizer: Maximum iterations (150) reached and the optimization hasn't converged yet.\n",
      "  ConvergenceWarning,\n",
      "/usr/local/lib/python3.7/dist-packages/sklearn/neural_network/_multilayer_perceptron.py:696: ConvergenceWarning: Stochastic Optimizer: Maximum iterations (150) reached and the optimization hasn't converged yet.\n",
      "  ConvergenceWarning,\n"
     ]
    },
    {
     "name": "stdout",
     "output_type": "stream",
     "text": [
      "{'verbose': False, 'hidden_layer_sizes': (5, 10), 'activation': 'relu', 'solver': 'sgd', 'max_iter': 200}\n"
     ]
    },
    {
     "name": "stderr",
     "output_type": "stream",
     "text": [
      "/usr/local/lib/python3.7/dist-packages/sklearn/neural_network/_multilayer_perceptron.py:696: ConvergenceWarning: Stochastic Optimizer: Maximum iterations (200) reached and the optimization hasn't converged yet.\n",
      "  ConvergenceWarning,\n",
      "/usr/local/lib/python3.7/dist-packages/sklearn/neural_network/_multilayer_perceptron.py:696: ConvergenceWarning: Stochastic Optimizer: Maximum iterations (200) reached and the optimization hasn't converged yet.\n",
      "  ConvergenceWarning,\n",
      "/usr/local/lib/python3.7/dist-packages/sklearn/neural_network/_multilayer_perceptron.py:696: ConvergenceWarning: Stochastic Optimizer: Maximum iterations (200) reached and the optimization hasn't converged yet.\n",
      "  ConvergenceWarning,\n"
     ]
    }
   ],
   "source": [
    "results = []\n",
    "for hidden_layer_sizes in hidden_layer_sizes_list:\n",
    "  params = base_params.copy()\n",
    "  params['hidden_layer_sizes'] = hidden_layer_sizes\n",
    "  params['activation'] = 'relu'\n",
    "  for s in solvers:\n",
    "    params['solver'] = s\n",
    "    for i in max_iters:\n",
    "      params['max_iter'] = i\n",
    "      print(params)\n",
    "      mlp_params_all, acc_mean, acc_std, f1s_mean, f1s_std = evaluate_mlp(X, y, N=N, **params)\n",
    "      summarized_mlp_params = { param_key: mlp_params_all[param_key] for param_key in param_keys }\n",
    "      results.append((summarized_mlp_params.values(), acc_mean, acc_std, f1s_mean, f1s_std))"
   ]
  },
  {
   "cell_type": "code",
   "execution_count": null,
   "metadata": {
    "colab": {
     "base_uri": "https://localhost:8080/"
    },
    "executionInfo": {
     "elapsed": 452,
     "status": "ok",
     "timestamp": 1638845515844,
     "user": {
      "displayName": "Willyan Dyeno Santos",
      "photoUrl": "https://lh3.googleusercontent.com/a-/AOh14Gg15ND6_SutUqJBMqNACnd8xmHyUihzsMdyJ7ub=s64",
      "userId": "02840806053201770774"
     },
     "user_tz": 240
    },
    "id": "ke2NEOy70G4N",
    "outputId": "3d23448e-4dc8-4034-8745-594058be996a"
   },
   "outputs": [
    {
     "data": {
      "text/plain": [
       "[(dict_values([(10, 5), 'relu', 'adam', 100]),\n",
       "  0.7223509883116089,\n",
       "  0.0037692913168389016,\n",
       "  0.520334753750555,\n",
       "  0.014271646433979462),\n",
       " (dict_values([(10, 5), 'relu', 'adam', 150]),\n",
       "  0.723136206474512,\n",
       "  0.0024557810964027328,\n",
       "  0.5195169997101793,\n",
       "  0.016553008020719316),\n",
       " (dict_values([(10, 5), 'relu', 'adam', 200]),\n",
       "  0.7228768894192521,\n",
       "  0.004179181726441579,\n",
       "  0.5207713525277343,\n",
       "  0.025496370317984712),\n",
       " (dict_values([(10, 5), 'relu', 'sgd', 100]),\n",
       "  0.7186666207698428,\n",
       "  0.003873507308046744,\n",
       "  0.46272733982024994,\n",
       "  0.03030590575136932),\n",
       " (dict_values([(10, 5), 'relu', 'sgd', 150]),\n",
       "  0.7203059023315587,\n",
       "  0.0020636216182058267,\n",
       "  0.4827952687522767,\n",
       "  0.03054257554738478),\n",
       " (dict_values([(10, 5), 'relu', 'sgd', 200]),\n",
       "  0.7203215837464046,\n",
       "  0.003789591383864492,\n",
       "  0.4808007999455246,\n",
       "  0.023778367744806097),\n",
       " (dict_values([(5, 10), 'relu', 'adam', 100]),\n",
       "  0.7164383299675663,\n",
       "  0.0032985741062421673,\n",
       "  0.4861807330719915,\n",
       "  0.025327938356190016),\n",
       " (dict_values([(5, 10), 'relu', 'adam', 150]),\n",
       "  0.7148839575301389,\n",
       "  0.004126605230568878,\n",
       "  0.48552766120277274,\n",
       "  0.031075836407945836),\n",
       " (dict_values([(5, 10), 'relu', 'adam', 200]),\n",
       "  0.7169703506517349,\n",
       "  0.0036761812440623096,\n",
       "  0.49505893405822643,\n",
       "  0.021123144722474813),\n",
       " (dict_values([(5, 10), 'relu', 'sgd', 100]),\n",
       "  0.7125451318768743,\n",
       "  0.002969284837493581,\n",
       "  0.4587010325655364,\n",
       "  0.02058174872676061),\n",
       " (dict_values([(5, 10), 'relu', 'sgd', 150]),\n",
       "  0.7128434612324827,\n",
       "  0.003421860034035274,\n",
       "  0.4427943024341305,\n",
       "  0.025626685952449123),\n",
       " (dict_values([(5, 10), 'relu', 'sgd', 200]),\n",
       "  0.7110385686310505,\n",
       "  0.004124040904780024,\n",
       "  0.4370063294582198,\n",
       "  0.026161369879053827)]"
      ]
     },
     "execution_count": 17,
     "metadata": {},
     "output_type": "execute_result"
    }
   ],
   "source": [
    "results"
   ]
  },
  {
   "cell_type": "code",
   "execution_count": null,
   "metadata": {
    "id": "2iGJ-lGDC43N"
   },
   "outputs": [],
   "source": [
    "#8h30m"
   ]
  },
  {
   "cell_type": "code",
   "execution_count": 17,
   "metadata": {
    "executionInfo": {
     "elapsed": 1517,
     "status": "ok",
     "timestamp": 1638849768049,
     "user": {
      "displayName": "José Max Dias Figueira Junior",
      "photoUrl": "https://lh3.googleusercontent.com/a-/AOh14GiUkfqsRDxLzojLYrGgsXG_cTc15Dnqg5KFX8QqCQ=s64",
      "userId": "07239097205257965617"
     },
     "user_tz": 240
    },
    "id": "C-mYAGlZC43O"
   },
   "outputs": [],
   "source": [
    "result = [(list([(5,), 'relu', 'adam', 100]),\n",
    "  0.705469371519491,\n",
    "  0.0029458928874302346,\n",
    "  0.4423940752159232,\n",
    "  0.02858402334355593),\n",
    " (list([(5,), 'relu', 'adam', 150]),\n",
    "  0.705310262529833,\n",
    "  0.002192551135854261,\n",
    "  0.4271710415538204,\n",
    "  0.027799313779843536),\n",
    " (list([(5,), 'relu', 'adam', 200]),\n",
    "  0.7054039685453765,\n",
    "  0.0032771629052610572,\n",
    "  0.43987025739646035,\n",
    "  0.028246519546912437),\n",
    " (list([(5,), 'relu', 'sgd', 100]),\n",
    "  0.7047208708157394,\n",
    "  0.0025656708307387533,\n",
    "  0.41310171401673074,\n",
    "  0.02014957843483062),\n",
    " (list([(5,), 'relu', 'sgd', 150]),\n",
    "  0.7045212196316016,\n",
    "  0.002263198894897379,\n",
    "  0.4193097129996595,\n",
    "  0.017476857228634013),\n",
    " (list([(5,), 'relu', 'sgd', 200]),\n",
    "  0.7044156569365401,\n",
    "  0.0028072154524445836,\n",
    "  0.42125158481482405,\n",
    "  0.016277679264441146),\n",
    " (list([(5, 5), 'relu', 'adam', 100]),\n",
    "  0.7119515329539198,\n",
    "  0.0037650219391031003,\n",
    "  0.442961611110956,\n",
    "  0.021578488859072195),\n",
    " (list([(5, 5), 'relu', 'adam', 150]),\n",
    "  0.7103657976868001,\n",
    "  0.00388272098035125,\n",
    "  0.452841347403888,\n",
    "  0.03795649413140989),\n",
    " (list([(5, 5), 'relu', 'adam', 200]),\n",
    "  0.7102583226240743,\n",
    "  0.0041037889061818185,\n",
    "  0.4489880381085712,\n",
    "  0.02797785631004338),\n",
    " (list([(5, 5), 'relu', 'sgd', 100]),\n",
    "  0.7090481763661955,\n",
    "  0.004412073897306191,\n",
    "  0.4107543189619765,\n",
    "  0.02377126199433356),\n",
    " (list([(5, 5), 'relu', 'sgd', 150]),\n",
    "  0.7088362860290067,\n",
    "  0.0032803983667225685,\n",
    "  0.4172790770980545,\n",
    "  0.020545455269463223),\n",
    " (list([(5, 5), 'relu', 'sgd', 200]),\n",
    "  0.7089877455480081,\n",
    "  0.00365294990954477,\n",
    "  0.4165336644695475,\n",
    "  0.019927013066685657),\n",
    " (list([(10,), 'relu', 'adam', 100]),\n",
    "  0.7192927299430879,\n",
    "  0.0023117367301981433,\n",
    "  0.5137528497144177,\n",
    "  0.02278765147420186),\n",
    " (list([(10,), 'relu', 'adam', 150]),\n",
    "  0.7182680833486322,\n",
    "  0.0024426614607055354,\n",
    "  0.5175936473380742,\n",
    "  0.012204959050403948),\n",
    " (list([(10,), 'relu', 'adam', 200]),\n",
    "  0.7187301113762927,\n",
    "  0.002188107180781239,\n",
    "  0.5255885467254611,\n",
    "  0.020621718863097653),\n",
    " (list([(10,), 'relu', 'sgd', 100]),\n",
    "  0.7144536748057035,\n",
    "  0.002964196923901096,\n",
    "  0.46838587127465325,\n",
    "  0.022783789971106198),\n",
    " (list([(10,), 'relu', 'sgd', 150]),\n",
    "  0.7137831987026498,\n",
    "  0.0026844496643420646,\n",
    "  0.47719251478140357,\n",
    "  0.018970020800949085),\n",
    " (list([(10,), 'relu', 'sgd', 200]),\n",
    "  0.7133207882014564,\n",
    "  0.002942268234113297,\n",
    "  0.4757703259825182,\n",
    "  0.015086129752905053),\n",
    " (list([(10, 10), 'relu', 'adam', 100]),\n",
    "  0.7304510127899149,\n",
    "  0.004563872157650154,\n",
    "  0.555991718339829,\n",
    "  0.023932194907386028),\n",
    " (list([(10, 10), 'relu', 'adam', 150]),\n",
    "  0.7342600667033842,\n",
    "  0.004280533430723158,\n",
    "  0.5566212984787671,\n",
    "  0.015369880565015938),\n",
    " (list([(10, 10), 'relu', 'adam', 200]),\n",
    "  0.7339659445566367,\n",
    "  0.004850522135417838,\n",
    "  0.5580634606606568,\n",
    "  0.022223868060981065),\n",
    " (list([(10, 10), 'relu', 'sgd', 100]),\n",
    "  0.7247865797686802,\n",
    "  0.003972419826607771,\n",
    "  0.5124701286222624,\n",
    "  0.023304315267830805),\n",
    " (list([(10, 10), 'relu', 'sgd', 150]),\n",
    "  0.7275415366256655,\n",
    "  0.004405533204787248,\n",
    "  0.5252427142306668,\n",
    "  0.02230702382316766),\n",
    " (list([(10, 10), 'relu', 'sgd', 200]),\n",
    "  0.7293506364359584,\n",
    "  0.004375797166197584,\n",
    "  0.5216745318733038,\n",
    "  0.02706628205352122),\n",
    "(list([(15,), 'relu', 'adam', 100]),\n",
    "  0.7270018664708402,\n",
    "  0.0032232749063325706,\n",
    "  0.5496845515197352,\n",
    "  0.01609496391069023),\n",
    " (list([(15,), 'relu', 'adam', 150]),\n",
    "  0.7268821522550639,\n",
    "  0.0031722979658155483,\n",
    "  0.543099878497132,\n",
    "  0.0120514480332433),\n",
    " (list([(15,), 'relu', 'adam', 200]),\n",
    "  0.7285244936050427,\n",
    "  0.002969953258172106,\n",
    "  0.5452952766002247,\n",
    "  0.012137187120192766),\n",
    " (list([(15,), 'relu', 'sgd', 100]),\n",
    "  0.7195222140627868,\n",
    "  0.0028445648185016713,\n",
    "  0.4985626045853832,\n",
    "  0.013170451995686035),\n",
    " (list([(15,), 'relu', 'sgd', 150]),\n",
    "  0.7232895783611774,\n",
    "  0.0027318648061770458,\n",
    "  0.5082081492475831,\n",
    "  0.01627317260176654),\n",
    " (list([(15,), 'relu', 'sgd', 200]),\n",
    "  0.7244064010770456,\n",
    "  0.0029539373118866435,\n",
    "  0.5227864260402957,\n",
    "  0.013656614625938292),\n",
    " (list([(15, 15), 'relu', 'adam', 100]),\n",
    "  0.7512866409644452,\n",
    "  0.002304284608304138,\n",
    "  0.6069615811482124,\n",
    "  0.009310448297131),\n",
    " (list([(15, 15), 'relu', 'adam', 150]),\n",
    "  0.7521292301572732,\n",
    "  0.0042397705388928925,\n",
    "  0.6075751593120714,\n",
    "  0.014325899842119209),\n",
    " (list([(15, 15), 'relu', 'adam', 200]),\n",
    "  0.7536908695918242,\n",
    "  0.002548481736981989,\n",
    "  0.6131590514717765,\n",
    "  0.013394923539445998),\n",
    " (list([(15, 15), 'relu', 'sgd', 100]),\n",
    "  0.7405349274830182,\n",
    "  0.0041854674091182905,\n",
    "  0.5487671766810082,\n",
    "  0.01979085403425542),\n",
    " (list([(15, 15), 'relu', 'sgd', 150]),\n",
    "  0.7448434918303655,\n",
    "  0.004913271973759348,\n",
    "  0.5629663633009583,\n",
    "  0.02745920510883882),\n",
    " (list([(15, 15), 'relu', 'sgd', 200]),\n",
    "  0.7489275442139404,\n",
    "  0.0032360932595978187,\n",
    "  0.5765767352287027,\n",
    "  0.011986076762303743),\n",
    "(list([(15, 5), 'relu', 'adam', 100]),\n",
    "  0.7318558380760052,\n",
    "  0.0036664064074808096,\n",
    "  0.545574918737118,\n",
    "  0.016229287481414837),\n",
    " (list([(15, 5), 'relu', 'adam', 150]),\n",
    "  0.7312913071415459,\n",
    "  0.00439890590206203,\n",
    "  0.5374700236820792,\n",
    "  0.019954833971513115),\n",
    " (list([(15, 5), 'relu', 'adam', 200]),\n",
    "  0.7333551343247049,\n",
    "  0.005311091075206219,\n",
    "  0.552094423769405,\n",
    "  0.014354399825830342),\n",
    " (list([(15, 5), 'relu', 'sgd', 100]),\n",
    "  0.7243536197295147,\n",
    "  0.002315650430647485,\n",
    "  0.48676585022008595,\n",
    "  0.03573684454331189),\n",
    " (list([(15, 5), 'relu', 'sgd', 150]),\n",
    "  0.7293846765803808,\n",
    "  0.0038161983622348617,\n",
    "  0.4952775319523584,\n",
    "  0.022871992708061013),\n",
    " (list([(15, 5), 'relu', 'sgd', 200]),\n",
    "  0.7288851661465028,\n",
    "  0.0033169452129823843,\n",
    "  0.5069947526867756,\n",
    "  0.026962292626929233),\n",
    "(list([(15, 10), 'relu', 'adam', 100]),\n",
    "  0.7416490728841564,\n",
    "  0.004709275541797526,\n",
    "  0.5729825610591711,\n",
    "  0.013399325576087319),\n",
    " (list([(15, 10), 'relu', 'adam', 150]),\n",
    "  0.7433533749464537,\n",
    "  0.004059132266592982,\n",
    "  0.5840869398611442,\n",
    "  0.012442154145451773),\n",
    " (list([(15, 10), 'relu', 'adam', 200]),\n",
    "  0.7462093048161068,\n",
    "  0.004223595044438851,\n",
    "  0.5861077895721103,\n",
    "  0.01841238993751436),\n",
    " (list([(15, 10), 'relu', 'sgd', 100]),\n",
    "  0.7331531882993698,\n",
    "  0.0043406851311257105,\n",
    "  0.5315448902237031,\n",
    "  0.016931151450730344),\n",
    " (list([(15, 10), 'relu', 'sgd', 150]),\n",
    "  0.7377849427819595,\n",
    "  0.0035772021007036124,\n",
    "  0.5470259360851606,\n",
    "  0.0209636777888971),\n",
    " (list([(15, 10), 'relu', 'sgd', 200]),\n",
    "  0.7404029741141912,\n",
    "  0.004038814673149293,\n",
    "  0.5475937348337697,\n",
    "  0.03185500534905311),\n",
    "(list([(10, 5), 'relu', 'adam', 100]),\n",
    "  0.7223509883116089,\n",
    "  0.0037692913168389016,\n",
    "  0.520334753750555,\n",
    "  0.014271646433979462),\n",
    " (list([(10, 5), 'relu', 'adam', 150]),\n",
    "  0.723136206474512,\n",
    "  0.0024557810964027328,\n",
    "  0.5195169997101793,\n",
    "  0.016553008020719316),\n",
    " (list([(10, 5), 'relu', 'adam', 200]),\n",
    "  0.7228768894192521,\n",
    "  0.004179181726441579,\n",
    "  0.5207713525277343,\n",
    "  0.025496370317984712),\n",
    " (list([(10, 5), 'relu', 'sgd', 100]),\n",
    "  0.7186666207698428,\n",
    "  0.003873507308046744,\n",
    "  0.46272733982024994,\n",
    "  0.03030590575136932),\n",
    " (list([(10, 5), 'relu', 'sgd', 150]),\n",
    "  0.7203059023315587,\n",
    "  0.0020636216182058267,\n",
    "  0.4827952687522767,\n",
    "  0.03054257554738478),\n",
    " (list([(10, 5), 'relu', 'sgd', 200]),\n",
    "  0.7203215837464046,\n",
    "  0.003789591383864492,\n",
    "  0.4808007999455246,\n",
    "  0.023778367744806097),\n",
    " (list([(5, 10), 'relu', 'adam', 100]),\n",
    "  0.7164383299675663,\n",
    "  0.0032985741062421673,\n",
    "  0.4861807330719915,\n",
    "  0.025327938356190016),\n",
    " (list([(5, 10), 'relu', 'adam', 150]),\n",
    "  0.7148839575301389,\n",
    "  0.004126605230568878,\n",
    "  0.48552766120277274,\n",
    "  0.031075836407945836),\n",
    " (list([(5, 10), 'relu', 'adam', 200]),\n",
    "  0.7169703506517349,\n",
    "  0.0036761812440623096,\n",
    "  0.49505893405822643,\n",
    "  0.021123144722474813),\n",
    " (list([(5, 10), 'relu', 'sgd', 100]),\n",
    "  0.7125451318768743,\n",
    "  0.002969284837493581,\n",
    "  0.4587010325655364,\n",
    "  0.02058174872676061),\n",
    " (list([(5, 10), 'relu', 'sgd', 150]),\n",
    "  0.7128434612324827,\n",
    "  0.003421860034035274,\n",
    "  0.4427943024341305,\n",
    "  0.025626685952449123),\n",
    " (list([(5, 10), 'relu', 'sgd', 200]),\n",
    "  0.7110385686310505,\n",
    "  0.004124040904780024,\n",
    "  0.4370063294582198,\n",
    "  0.026161369879053827)]"
   ]
  },
  {
   "cell_type": "code",
   "execution_count": 19,
   "metadata": {
    "executionInfo": {
     "elapsed": 324,
     "status": "ok",
     "timestamp": 1638849822627,
     "user": {
      "displayName": "José Max Dias Figueira Junior",
      "photoUrl": "https://lh3.googleusercontent.com/a-/AOh14GiUkfqsRDxLzojLYrGgsXG_cTc15Dnqg5KFX8QqCQ=s64",
      "userId": "07239097205257965617"
     },
     "user_tz": 240
    },
    "id": "Jo0Cecf1K5Tj"
   },
   "outputs": [],
   "source": [
    "df = pd.DataFrame(result, columns=['conf', 'acc_m', 'acc_sd', 'f1s_m', 'f1s_sd'])"
   ]
  },
  {
   "cell_type": "code",
   "execution_count": 20,
   "metadata": {
    "colab": {
     "base_uri": "https://localhost:8080/",
     "height": 143
    },
    "executionInfo": {
     "elapsed": 330,
     "status": "ok",
     "timestamp": 1638849835334,
     "user": {
      "displayName": "José Max Dias Figueira Junior",
      "photoUrl": "https://lh3.googleusercontent.com/a-/AOh14GiUkfqsRDxLzojLYrGgsXG_cTc15Dnqg5KFX8QqCQ=s64",
      "userId": "07239097205257965617"
     },
     "user_tz": 240
    },
    "id": "k59YFtOEJCpX",
    "outputId": "413898ba-2e78-4c38-f8d2-f5637a411f9a"
   },
   "outputs": [
    {
     "data": {
      "text/html": [
       "<div>\n",
       "<style scoped>\n",
       "    .dataframe tbody tr th:only-of-type {\n",
       "        vertical-align: middle;\n",
       "    }\n",
       "\n",
       "    .dataframe tbody tr th {\n",
       "        vertical-align: top;\n",
       "    }\n",
       "\n",
       "    .dataframe thead th {\n",
       "        text-align: right;\n",
       "    }\n",
       "</style>\n",
       "<table border=\"1\" class=\"dataframe\">\n",
       "  <thead>\n",
       "    <tr style=\"text-align: right;\">\n",
       "      <th></th>\n",
       "      <th>conf</th>\n",
       "      <th>acc_m</th>\n",
       "      <th>acc_sd</th>\n",
       "      <th>f1s_m</th>\n",
       "      <th>f1s_sd</th>\n",
       "    </tr>\n",
       "  </thead>\n",
       "  <tbody>\n",
       "    <tr>\n",
       "      <th>32</th>\n",
       "      <td>[(15, 15), relu, adam, 200]</td>\n",
       "      <td>0.753691</td>\n",
       "      <td>0.002548</td>\n",
       "      <td>0.613159</td>\n",
       "      <td>0.013395</td>\n",
       "    </tr>\n",
       "    <tr>\n",
       "      <th>31</th>\n",
       "      <td>[(15, 15), relu, adam, 150]</td>\n",
       "      <td>0.752129</td>\n",
       "      <td>0.004240</td>\n",
       "      <td>0.607575</td>\n",
       "      <td>0.014326</td>\n",
       "    </tr>\n",
       "    <tr>\n",
       "      <th>30</th>\n",
       "      <td>[(15, 15), relu, adam, 100]</td>\n",
       "      <td>0.751287</td>\n",
       "      <td>0.002304</td>\n",
       "      <td>0.606962</td>\n",
       "      <td>0.009310</td>\n",
       "    </tr>\n",
       "  </tbody>\n",
       "</table>\n",
       "</div>"
      ],
      "text/plain": [
       "                           conf     acc_m    acc_sd     f1s_m    f1s_sd\n",
       "32  [(15, 15), relu, adam, 200]  0.753691  0.002548  0.613159  0.013395\n",
       "31  [(15, 15), relu, adam, 150]  0.752129  0.004240  0.607575  0.014326\n",
       "30  [(15, 15), relu, adam, 100]  0.751287  0.002304  0.606962  0.009310"
      ]
     },
     "execution_count": 20,
     "metadata": {},
     "output_type": "execute_result"
    }
   ],
   "source": [
    "df2 = df.sort_values(['acc_m', 'acc_sd'], ascending = [False, True])\n",
    "df2 = df2.head(3)\n",
    "df2"
   ]
  },
  {
   "cell_type": "code",
   "execution_count": 21,
   "metadata": {
    "colab": {
     "base_uri": "https://localhost:8080/",
     "height": 143
    },
    "executionInfo": {
     "elapsed": 439,
     "status": "ok",
     "timestamp": 1638849860841,
     "user": {
      "displayName": "José Max Dias Figueira Junior",
      "photoUrl": "https://lh3.googleusercontent.com/a-/AOh14GiUkfqsRDxLzojLYrGgsXG_cTc15Dnqg5KFX8QqCQ=s64",
      "userId": "07239097205257965617"
     },
     "user_tz": 240
    },
    "id": "1U6lVXPzK8Sf",
    "outputId": "7e4377be-125d-4a5f-9abf-7b769d6a5b21"
   },
   "outputs": [
    {
     "data": {
      "text/html": [
       "<div>\n",
       "<style scoped>\n",
       "    .dataframe tbody tr th:only-of-type {\n",
       "        vertical-align: middle;\n",
       "    }\n",
       "\n",
       "    .dataframe tbody tr th {\n",
       "        vertical-align: top;\n",
       "    }\n",
       "\n",
       "    .dataframe thead th {\n",
       "        text-align: right;\n",
       "    }\n",
       "</style>\n",
       "<table border=\"1\" class=\"dataframe\">\n",
       "  <thead>\n",
       "    <tr style=\"text-align: right;\">\n",
       "      <th></th>\n",
       "      <th>conf</th>\n",
       "      <th>acc_m</th>\n",
       "      <th>acc_sd</th>\n",
       "      <th>f1s_m</th>\n",
       "      <th>f1s_sd</th>\n",
       "    </tr>\n",
       "  </thead>\n",
       "  <tbody>\n",
       "    <tr>\n",
       "      <th>32</th>\n",
       "      <td>[(15, 15), relu, adam, 200]</td>\n",
       "      <td>0.753691</td>\n",
       "      <td>0.002548</td>\n",
       "      <td>0.613159</td>\n",
       "      <td>0.013395</td>\n",
       "    </tr>\n",
       "    <tr>\n",
       "      <th>31</th>\n",
       "      <td>[(15, 15), relu, adam, 150]</td>\n",
       "      <td>0.752129</td>\n",
       "      <td>0.004240</td>\n",
       "      <td>0.607575</td>\n",
       "      <td>0.014326</td>\n",
       "    </tr>\n",
       "    <tr>\n",
       "      <th>30</th>\n",
       "      <td>[(15, 15), relu, adam, 100]</td>\n",
       "      <td>0.751287</td>\n",
       "      <td>0.002304</td>\n",
       "      <td>0.606962</td>\n",
       "      <td>0.009310</td>\n",
       "    </tr>\n",
       "  </tbody>\n",
       "</table>\n",
       "</div>"
      ],
      "text/plain": [
       "                           conf     acc_m    acc_sd     f1s_m    f1s_sd\n",
       "32  [(15, 15), relu, adam, 200]  0.753691  0.002548  0.613159  0.013395\n",
       "31  [(15, 15), relu, adam, 150]  0.752129  0.004240  0.607575  0.014326\n",
       "30  [(15, 15), relu, adam, 100]  0.751287  0.002304  0.606962  0.009310"
      ]
     },
     "execution_count": 21,
     "metadata": {},
     "output_type": "execute_result"
    }
   ],
   "source": [
    "df3 = df.sort_values(['f1s_m', 'f1s_sd'], ascending = [False, True])\n",
    "df3 = df3.head(3)\n",
    "df3"
   ]
  },
  {
   "cell_type": "code",
   "execution_count": 24,
   "metadata": {
    "colab": {
     "base_uri": "https://localhost:8080/",
     "height": 174
    },
    "executionInfo": {
     "elapsed": 435,
     "status": "ok",
     "timestamp": 1638849991222,
     "user": {
      "displayName": "José Max Dias Figueira Junior",
      "photoUrl": "https://lh3.googleusercontent.com/a-/AOh14GiUkfqsRDxLzojLYrGgsXG_cTc15Dnqg5KFX8QqCQ=s64",
      "userId": "07239097205257965617"
     },
     "user_tz": 240
    },
    "id": "-jy0K8y07mug",
    "outputId": "8a884b05-c71f-4171-8283-cbece2086b7b"
   },
   "outputs": [
    {
     "data": {
      "text/html": [
       "<div>\n",
       "<style scoped>\n",
       "    .dataframe tbody tr th:only-of-type {\n",
       "        vertical-align: middle;\n",
       "    }\n",
       "\n",
       "    .dataframe tbody tr th {\n",
       "        vertical-align: top;\n",
       "    }\n",
       "\n",
       "    .dataframe thead tr th {\n",
       "        text-align: left;\n",
       "    }\n",
       "</style>\n",
       "<table border=\"1\" class=\"dataframe\">\n",
       "  <thead>\n",
       "    <tr>\n",
       "      <th></th>\n",
       "      <th>Configuração MLP</th>\n",
       "      <th colspan=\"2\" halign=\"left\">Acurácia</th>\n",
       "      <th colspan=\"2\" halign=\"left\">F1-Score</th>\n",
       "    </tr>\n",
       "    <tr>\n",
       "      <th></th>\n",
       "      <th>['hidden_layer_sizes', 'activation', 'solver', 'max_iter']</th>\n",
       "      <th>Média</th>\n",
       "      <th>Desvio Padrão</th>\n",
       "      <th>Média</th>\n",
       "      <th>Desvio Padrão</th>\n",
       "    </tr>\n",
       "  </thead>\n",
       "  <tbody>\n",
       "    <tr>\n",
       "      <th>0</th>\n",
       "      <td>[(15, 15), relu, adam, 200]</td>\n",
       "      <td>0.753691</td>\n",
       "      <td>0.00254848</td>\n",
       "      <td>0.613159</td>\n",
       "      <td>0.0133949</td>\n",
       "    </tr>\n",
       "    <tr>\n",
       "      <th>1</th>\n",
       "      <td>[(15, 15), relu, adam, 150]</td>\n",
       "      <td>0.752129</td>\n",
       "      <td>0.00423977</td>\n",
       "      <td>0.607575</td>\n",
       "      <td>0.0143259</td>\n",
       "    </tr>\n",
       "    <tr>\n",
       "      <th>2</th>\n",
       "      <td>[(15, 15), relu, adam, 100]</td>\n",
       "      <td>0.751287</td>\n",
       "      <td>0.00230428</td>\n",
       "      <td>0.606962</td>\n",
       "      <td>0.00931045</td>\n",
       "    </tr>\n",
       "  </tbody>\n",
       "</table>\n",
       "</div>"
      ],
      "text/plain": [
       "                                            Configuração MLP  ...      F1-Score\n",
       "  ['hidden_layer_sizes', 'activation', 'solver', 'max_iter']  ... Desvio Padrão\n",
       "0                        [(15, 15), relu, adam, 200]          ...     0.0133949\n",
       "1                        [(15, 15), relu, adam, 150]          ...     0.0143259\n",
       "2                        [(15, 15), relu, adam, 100]          ...    0.00931045\n",
       "\n",
       "[3 rows x 5 columns]"
      ]
     },
     "execution_count": 24,
     "metadata": {},
     "output_type": "execute_result"
    }
   ],
   "source": [
    "index = pd.MultiIndex.from_tuples([('Configuração MLP', str(param_keys)), \n",
    "                                   ('Acurácia', 'Média'),\n",
    "                                   ('Acurácia','Desvio Padrão'),\n",
    "                                   ('F1-Score','Média'),\n",
    "                                   ('F1-Score','Desvio Padrão')])\n",
    "\n",
    "df = pd.DataFrame(df3.values, columns=index)\n",
    "# df.set_index(('Configuração MLP', str(param_keys)))\n",
    "df"
   ]
  },
  {
   "cell_type": "markdown",
   "metadata": {
    "id": "9CxwEq_HkNv6"
   },
   "source": [
    "## Estimando o número de neurônios\n",
    "\n",
    "Um dos problemas de pesquisa com redes neurais artificiais consiste na determinação do número de neurônios em sua arquitetura. Embora não seja possível definir a priori qual rede neural é adequada para um problema, pois isto só é possível mediante uma busca exaustiva, há regras na literatura que sugerem o número de neurônios escondidos, tal como a regra da Pirâmide Geométrica, dada a seguir:\n",
    "\n",
    "$$N_h = \\alpha \\cdot \\sqrt{N_i \\cdot N_o},$$\n",
    "\n",
    "em que $N_h$ é o número de neurônios ocultos (a serem distribuídos em uma ou duas camadas ocultas), $N_i$ é o número de neurônios na camada de entrada e $N_o$ é o número de neurônios na camada de saída. \n",
    "\n",
    "1. Consulte a documentação da classe MLPClassifier (disponível em https://scikit-learn.org/stable/modules/generated/sklearn.neural_network.MLPClassifier.html) e obtenha os valores de $N_i$ e $N_o$.\n",
    "2. Teste os valores de $\\alpha$ como sendo iguais a $0.5$, $2$ e $3$."
   ]
  },
  {
   "cell_type": "markdown",
   "metadata": {
    "id": "Xii06jwrkNwD"
   },
   "source": [
    "# Estimando o número de neurônios"
   ]
  },
  {
   "cell_type": "markdown",
   "metadata": {
    "id": "NEclx5iYkNwD"
   },
   "source": [
    "hidden_layer_sizes -  encontrado no classificador MLP indica o número\n",
    "de neurônios na camada oculta e para estimar essa quantidade de neurônios foi utilizada a\n",
    "Regra da Pirâmide Geométrica (Geometric Pyramid Rule) proposta por Masters (1993). Onde,\n",
    "para uma camada oculta com $n$ entradas e $m$ saídas, a camada oculta terá $\\sqrt{n \\cdot m}$ neuronios.\n",
    "\n",
    "$$10 = \\alpha \\cdot \\sqrt{10 \\cdot 7},$$ $$\\alpha = 1.1952...$$"
   ]
  },
  {
   "cell_type": "markdown",
   "metadata": {
    "id": "WKiHz2lM9v37"
   },
   "source": [
    "### For $\\alpha = 0.5, N_h = 4 $ ($N_h$ = 4.18...)"
   ]
  },
  {
   "cell_type": "code",
   "execution_count": 14,
   "metadata": {
    "executionInfo": {
     "elapsed": 319,
     "status": "ok",
     "timestamp": 1638848350592,
     "user": {
      "displayName": "José Max Dias Figueira Junior",
      "photoUrl": "https://lh3.googleusercontent.com/a-/AOh14GiUkfqsRDxLzojLYrGgsXG_cTc15Dnqg5KFX8QqCQ=s64",
      "userId": "07239097205257965617"
     },
     "user_tz": 240
    },
    "id": "YPUmHWwi9v3-"
   },
   "outputs": [],
   "source": [
    "p4 = {'random_state': 1, 'verbose': False, 'hidden_layer_sizes': (4,), 'activation': 'relu', 'solver': 'adam', 'max_iter': 200}"
   ]
  },
  {
   "cell_type": "code",
   "execution_count": 15,
   "metadata": {
    "executionInfo": {
     "elapsed": 78010,
     "status": "ok",
     "timestamp": 1638848429767,
     "user": {
      "displayName": "José Max Dias Figueira Junior",
      "photoUrl": "https://lh3.googleusercontent.com/a-/AOh14GiUkfqsRDxLzojLYrGgsXG_cTc15Dnqg5KFX8QqCQ=s64",
      "userId": "07239097205257965617"
     },
     "user_tz": 240
    },
    "id": "nP31961T9v3_"
   },
   "outputs": [],
   "source": [
    "mlp_params_all, acc_mean, acc_std, f1s_mean, f1s_std = evaluate_mlp(X, y, **p4)"
   ]
  },
  {
   "cell_type": "code",
   "execution_count": 16,
   "metadata": {
    "colab": {
     "base_uri": "https://localhost:8080/"
    },
    "executionInfo": {
     "elapsed": 28,
     "status": "ok",
     "timestamp": 1638848429776,
     "user": {
      "displayName": "José Max Dias Figueira Junior",
      "photoUrl": "https://lh3.googleusercontent.com/a-/AOh14GiUkfqsRDxLzojLYrGgsXG_cTc15Dnqg5KFX8QqCQ=s64",
      "userId": "07239097205257965617"
     },
     "user_tz": 240
    },
    "id": "HMHnItt79v3_",
    "outputId": "75dc4711-712b-4117-f002-8239c7522a5c"
   },
   "outputs": [
    {
     "name": "stdout",
     "output_type": "stream",
     "text": [
      "{'activation': 'relu', 'alpha': 0.0001, 'batch_size': 'auto', 'beta_1': 0.9, 'beta_2': 0.999, 'early_stopping': False, 'epsilon': 1e-08, 'hidden_layer_sizes': (4,), 'learning_rate': 'constant', 'learning_rate_init': 0.001, 'max_fun': 15000, 'max_iter': 200, 'momentum': 0.9, 'n_iter_no_change': 10, 'nesterovs_momentum': True, 'power_t': 0.5, 'random_state': 1, 'shuffle': True, 'solver': 'adam', 'tol': 0.0001, 'validation_fraction': 0.1, 'verbose': False, 'warm_start': False}\n",
      "0.7079585092711584\n",
      "0.0\n",
      "0.4363863090406502\n",
      "0.0\n"
     ]
    }
   ],
   "source": [
    "print(mlp_params_all)\n",
    "print(acc_mean)\n",
    "print(acc_std)\n",
    "print(f1s_mean)\n",
    "print(f1s_std)"
   ]
  },
  {
   "cell_type": "markdown",
   "metadata": {
    "id": "tJIL3OFr9v39"
   },
   "source": [
    "### For $\\alpha = 2, N_h = 17 $ ($N_h$ = 16.73...)"
   ]
  },
  {
   "cell_type": "code",
   "execution_count": 1,
   "metadata": {
    "executionInfo": {
     "elapsed": 336,
     "status": "ok",
     "timestamp": 1638847607358,
     "user": {
      "displayName": "José Max Dias Figueira Junior",
      "photoUrl": "https://lh3.googleusercontent.com/a-/AOh14GiUkfqsRDxLzojLYrGgsXG_cTc15Dnqg5KFX8QqCQ=s64",
      "userId": "07239097205257965617"
     },
     "user_tz": 240
    },
    "id": "EESiaifx6VT5"
   },
   "outputs": [],
   "source": [
    "p17 = {'random_state': 1, 'verbose': False, 'hidden_layer_sizes': (17,), 'activation': 'relu', 'solver': 'adam', 'max_iter': 200}"
   ]
  },
  {
   "cell_type": "code",
   "execution_count": 12,
   "metadata": {
    "executionInfo": {
     "elapsed": 206486,
     "status": "ok",
     "timestamp": 1638847919004,
     "user": {
      "displayName": "José Max Dias Figueira Junior",
      "photoUrl": "https://lh3.googleusercontent.com/a-/AOh14GiUkfqsRDxLzojLYrGgsXG_cTc15Dnqg5KFX8QqCQ=s64",
      "userId": "07239097205257965617"
     },
     "user_tz": 240
    },
    "id": "RMHXOuXU6kP_"
   },
   "outputs": [],
   "source": [
    "mlp_params_all, acc_mean, acc_std, f1s_mean, f1s_std = evaluate_mlp(X, y, **p17)"
   ]
  },
  {
   "cell_type": "code",
   "execution_count": 13,
   "metadata": {
    "colab": {
     "base_uri": "https://localhost:8080/"
    },
    "executionInfo": {
     "elapsed": 32,
     "status": "ok",
     "timestamp": 1638847919006,
     "user": {
      "displayName": "José Max Dias Figueira Junior",
      "photoUrl": "https://lh3.googleusercontent.com/a-/AOh14GiUkfqsRDxLzojLYrGgsXG_cTc15Dnqg5KFX8QqCQ=s64",
      "userId": "07239097205257965617"
     },
     "user_tz": 240
    },
    "id": "2J8R4qIv68jS",
    "outputId": "85996289-e36b-4851-88b2-68d49a1cbb1c"
   },
   "outputs": [
    {
     "name": "stdout",
     "output_type": "stream",
     "text": [
      "{'activation': 'relu', 'alpha': 0.0001, 'batch_size': 'auto', 'beta_1': 0.9, 'beta_2': 0.999, 'early_stopping': False, 'epsilon': 1e-08, 'hidden_layer_sizes': (17,), 'learning_rate': 'constant', 'learning_rate_init': 0.001, 'max_fun': 15000, 'max_iter': 200, 'momentum': 0.9, 'n_iter_no_change': 10, 'nesterovs_momentum': True, 'power_t': 0.5, 'random_state': 1, 'shuffle': True, 'solver': 'adam', 'tol': 0.0001, 'validation_fraction': 0.1, 'verbose': False, 'warm_start': False}\n",
      "0.7348138883789241\n",
      "0.0\n",
      "0.554949352358149\n",
      "0.0\n"
     ]
    }
   ],
   "source": [
    "print(mlp_params_all)\n",
    "print(acc_mean)\n",
    "print(acc_std)\n",
    "print(f1s_mean)\n",
    "print(f1s_std)"
   ]
  },
  {
   "cell_type": "markdown",
   "metadata": {
    "id": "j1BtoTcw9Luj"
   },
   "source": [
    "### For $\\alpha = 3, N_h = 25 $ ($N_h$ = 25.01...)"
   ]
  },
  {
   "cell_type": "code",
   "execution_count": 47,
   "metadata": {
    "executionInfo": {
     "elapsed": 300,
     "status": "ok",
     "timestamp": 1638858538995,
     "user": {
      "displayName": "José Max Dias Figueira Junior",
      "photoUrl": "https://lh3.googleusercontent.com/a-/AOh14GiUkfqsRDxLzojLYrGgsXG_cTc15Dnqg5KFX8QqCQ=s64",
      "userId": "07239097205257965617"
     },
     "user_tz": 240
    },
    "id": "KMN31eo39Lul"
   },
   "outputs": [],
   "source": [
    "p25 = {'random_state': 1, 'verbose': False, 'hidden_layer_sizes': (25,), 'activation': 'relu', 'solver': 'adam', 'max_iter': 200}"
   ]
  },
  {
   "cell_type": "code",
   "execution_count": null,
   "metadata": {
    "id": "QcG_7lpr9Lum"
   },
   "outputs": [],
   "source": [
    "mlp_params_all, acc_mean, acc_std, f1s_mean, f1s_std = evaluate_mlp(X, y, **p25)"
   ]
  },
  {
   "cell_type": "code",
   "execution_count": null,
   "metadata": {
    "colab": {
     "base_uri": "https://localhost:8080/"
    },
    "executionInfo": {
     "elapsed": 15,
     "status": "ok",
     "timestamp": 1638847744692,
     "user": {
      "displayName": "Willyan Dyeno Santos",
      "photoUrl": "https://lh3.googleusercontent.com/a-/AOh14Gg15ND6_SutUqJBMqNACnd8xmHyUihzsMdyJ7ub=s64",
      "userId": "02840806053201770774"
     },
     "user_tz": 240
    },
    "id": "CFXyBVha9Lun",
    "outputId": "a585bd24-2a1b-4564-c5b1-6439427d4c7e"
   },
   "outputs": [
    {
     "name": "stdout",
     "output_type": "stream",
     "text": [
      "{'activation': 'relu', 'alpha': 0.0001, 'batch_size': 'auto', 'beta_1': 0.9, 'beta_2': 0.999, 'early_stopping': False, 'epsilon': 1e-08, 'hidden_layer_sizes': (25,), 'learning_rate': 'constant', 'learning_rate_init': 0.001, 'max_fun': 15000, 'max_iter': 200, 'momentum': 0.9, 'n_iter_no_change': 10, 'nesterovs_momentum': True, 'power_t': 0.5, 'random_state': 1, 'shuffle': True, 'solver': 'adam', 'tol': 0.0001, 'validation_fraction': 0.1, 'verbose': False, 'warm_start': False}\n",
      "0.7392486689921057\n",
      "0.0\n",
      "0.5943470181293872\n",
      "0.0\n"
     ]
    }
   ],
   "source": [
    "print(mlp_params_all)\n",
    "print(acc_mean)\n",
    "print(acc_std)\n",
    "print(f1s_mean)\n",
    "print(f1s_std)"
   ]
  },
  {
   "cell_type": "markdown",
   "metadata": {
    "id": "q7ivXY8q9Dhf"
   },
   "source": [
    "3. Proponha pelo menos 30 redes neurais segundo a regra da pirâmide geométrica e teste-as nos mesmos termos estabelecidos anterioremente  (solver, épocas, etc.)  \n",
    "    3.1 Apresente as top-3 melhores redes no tocante à F-Score e Acurácia  "
   ]
  },
  {
   "cell_type": "code",
   "execution_count": 36,
   "metadata": {
    "colab": {
     "base_uri": "https://localhost:8080/"
    },
    "executionInfo": {
     "elapsed": 332,
     "status": "ok",
     "timestamp": 1638852111438,
     "user": {
      "displayName": "José Max Dias Figueira Junior",
      "photoUrl": "https://lh3.googleusercontent.com/a-/AOh14GiUkfqsRDxLzojLYrGgsXG_cTc15Dnqg5KFX8QqCQ=s64",
      "userId": "07239097205257965617"
     },
     "user_tz": 240
    },
    "id": "Tknn8s3lJ6Aw",
    "outputId": "7bb02339-3e3d-4796-e800-ad499869f127"
   },
   "outputs": [
    {
     "data": {
      "text/plain": [
       "[(5,),\n",
       " (6,),\n",
       " (7,),\n",
       " (8,),\n",
       " (9,),\n",
       " (10,),\n",
       " (11,),\n",
       " (12,),\n",
       " (13,),\n",
       " (14,),\n",
       " (15,),\n",
       " (16,),\n",
       " (17,),\n",
       " (18,),\n",
       " (19,),\n",
       " (20,),\n",
       " (21,),\n",
       " (22,),\n",
       " (23,),\n",
       " (24,),\n",
       " (25,),\n",
       " (26,),\n",
       " (27,),\n",
       " (28,),\n",
       " (29,),\n",
       " (30,),\n",
       " (31,),\n",
       " (32,),\n",
       " (33,),\n",
       " (34,)]"
      ]
     },
     "execution_count": 36,
     "metadata": {},
     "output_type": "execute_result"
    }
   ],
   "source": [
    "hidden_layer_sizes_list = []\n",
    "a=.5\n",
    "for h in range (0,30):\n",
    "  nh = a*((10*7)**(1/2))\n",
    "  hidden_layer_sizes_list.append((mt.ceil(nh),))\n",
    "  a+=.12\n",
    "  #print(a)\n",
    "hidden_layer_sizes_list"
   ]
  },
  {
   "cell_type": "code",
   "execution_count": 25,
   "metadata": {
    "executionInfo": {
     "elapsed": 297,
     "status": "ok",
     "timestamp": 1638851251284,
     "user": {
      "displayName": "José Max Dias Figueira Junior",
      "photoUrl": "https://lh3.googleusercontent.com/a-/AOh14GiUkfqsRDxLzojLYrGgsXG_cTc15Dnqg5KFX8QqCQ=s64",
      "userId": "07239097205257965617"
     },
     "user_tz": 240
    },
    "id": "XglSG0xYJPWb"
   },
   "outputs": [],
   "source": [
    "solvers = ['adam']\n",
    "max_iters = [200]"
   ]
  },
  {
   "cell_type": "code",
   "execution_count": 26,
   "metadata": {
    "executionInfo": {
     "elapsed": 284,
     "status": "ok",
     "timestamp": 1638851253079,
     "user": {
      "displayName": "José Max Dias Figueira Junior",
      "photoUrl": "https://lh3.googleusercontent.com/a-/AOh14GiUkfqsRDxLzojLYrGgsXG_cTc15Dnqg5KFX8QqCQ=s64",
      "userId": "07239097205257965617"
     },
     "user_tz": 240
    },
    "id": "dGkJCha6JPW0"
   },
   "outputs": [],
   "source": [
    "param_keys = ['hidden_layer_sizes', 'activation', 'solver', 'max_iter']"
   ]
  },
  {
   "cell_type": "code",
   "execution_count": 28,
   "metadata": {
    "executionInfo": {
     "elapsed": 304,
     "status": "ok",
     "timestamp": 1638851300770,
     "user": {
      "displayName": "José Max Dias Figueira Junior",
      "photoUrl": "https://lh3.googleusercontent.com/a-/AOh14GiUkfqsRDxLzojLYrGgsXG_cTc15Dnqg5KFX8QqCQ=s64",
      "userId": "07239097205257965617"
     },
     "user_tz": 240
    },
    "id": "qXLM_NU3JPW1"
   },
   "outputs": [],
   "source": [
    "base_params = {'verbose': False}"
   ]
  },
  {
   "cell_type": "code",
   "execution_count": 37,
   "metadata": {
    "colab": {
     "base_uri": "https://localhost:8080/"
    },
    "executionInfo": {
     "elapsed": 311,
     "status": "ok",
     "timestamp": 1638852152129,
     "user": {
      "displayName": "José Max Dias Figueira Junior",
      "photoUrl": "https://lh3.googleusercontent.com/a-/AOh14GiUkfqsRDxLzojLYrGgsXG_cTc15Dnqg5KFX8QqCQ=s64",
      "userId": "07239097205257965617"
     },
     "user_tz": 240
    },
    "id": "35dapHS1JPW2",
    "outputId": "0614d2de-cad6-4a35-e01a-3bd97431fc14"
   },
   "outputs": [
    {
     "name": "stdout",
     "output_type": "stream",
     "text": [
      "{'verbose': False, 'hidden_layer_sizes': (5,), 'activation': 'relu', 'solver': 'adam', 'max_iter': 200}\n",
      "{'verbose': False, 'hidden_layer_sizes': (6,), 'activation': 'relu', 'solver': 'adam', 'max_iter': 200}\n",
      "{'verbose': False, 'hidden_layer_sizes': (7,), 'activation': 'relu', 'solver': 'adam', 'max_iter': 200}\n",
      "{'verbose': False, 'hidden_layer_sizes': (8,), 'activation': 'relu', 'solver': 'adam', 'max_iter': 200}\n",
      "{'verbose': False, 'hidden_layer_sizes': (9,), 'activation': 'relu', 'solver': 'adam', 'max_iter': 200}\n",
      "{'verbose': False, 'hidden_layer_sizes': (10,), 'activation': 'relu', 'solver': 'adam', 'max_iter': 200}\n",
      "{'verbose': False, 'hidden_layer_sizes': (11,), 'activation': 'relu', 'solver': 'adam', 'max_iter': 200}\n",
      "{'verbose': False, 'hidden_layer_sizes': (12,), 'activation': 'relu', 'solver': 'adam', 'max_iter': 200}\n",
      "{'verbose': False, 'hidden_layer_sizes': (13,), 'activation': 'relu', 'solver': 'adam', 'max_iter': 200}\n",
      "{'verbose': False, 'hidden_layer_sizes': (14,), 'activation': 'relu', 'solver': 'adam', 'max_iter': 200}\n",
      "{'verbose': False, 'hidden_layer_sizes': (15,), 'activation': 'relu', 'solver': 'adam', 'max_iter': 200}\n",
      "{'verbose': False, 'hidden_layer_sizes': (16,), 'activation': 'relu', 'solver': 'adam', 'max_iter': 200}\n",
      "{'verbose': False, 'hidden_layer_sizes': (17,), 'activation': 'relu', 'solver': 'adam', 'max_iter': 200}\n",
      "{'verbose': False, 'hidden_layer_sizes': (18,), 'activation': 'relu', 'solver': 'adam', 'max_iter': 200}\n",
      "{'verbose': False, 'hidden_layer_sizes': (19,), 'activation': 'relu', 'solver': 'adam', 'max_iter': 200}\n",
      "{'verbose': False, 'hidden_layer_sizes': (20,), 'activation': 'relu', 'solver': 'adam', 'max_iter': 200}\n",
      "{'verbose': False, 'hidden_layer_sizes': (21,), 'activation': 'relu', 'solver': 'adam', 'max_iter': 200}\n",
      "{'verbose': False, 'hidden_layer_sizes': (22,), 'activation': 'relu', 'solver': 'adam', 'max_iter': 200}\n",
      "{'verbose': False, 'hidden_layer_sizes': (23,), 'activation': 'relu', 'solver': 'adam', 'max_iter': 200}\n",
      "{'verbose': False, 'hidden_layer_sizes': (24,), 'activation': 'relu', 'solver': 'adam', 'max_iter': 200}\n",
      "{'verbose': False, 'hidden_layer_sizes': (25,), 'activation': 'relu', 'solver': 'adam', 'max_iter': 200}\n",
      "{'verbose': False, 'hidden_layer_sizes': (26,), 'activation': 'relu', 'solver': 'adam', 'max_iter': 200}\n",
      "{'verbose': False, 'hidden_layer_sizes': (27,), 'activation': 'relu', 'solver': 'adam', 'max_iter': 200}\n",
      "{'verbose': False, 'hidden_layer_sizes': (28,), 'activation': 'relu', 'solver': 'adam', 'max_iter': 200}\n",
      "{'verbose': False, 'hidden_layer_sizes': (29,), 'activation': 'relu', 'solver': 'adam', 'max_iter': 200}\n",
      "{'verbose': False, 'hidden_layer_sizes': (30,), 'activation': 'relu', 'solver': 'adam', 'max_iter': 200}\n",
      "{'verbose': False, 'hidden_layer_sizes': (31,), 'activation': 'relu', 'solver': 'adam', 'max_iter': 200}\n",
      "{'verbose': False, 'hidden_layer_sizes': (32,), 'activation': 'relu', 'solver': 'adam', 'max_iter': 200}\n",
      "{'verbose': False, 'hidden_layer_sizes': (33,), 'activation': 'relu', 'solver': 'adam', 'max_iter': 200}\n",
      "{'verbose': False, 'hidden_layer_sizes': (34,), 'activation': 'relu', 'solver': 'adam', 'max_iter': 200}\n"
     ]
    }
   ],
   "source": [
    "results = []\n",
    "for hidden_layer_sizes in hidden_layer_sizes_list:\n",
    "  params = base_params.copy()\n",
    "  params['hidden_layer_sizes'] = hidden_layer_sizes\n",
    "  params['activation'] = 'relu'\n",
    "  for s in solvers:\n",
    "    params['solver'] = s\n",
    "    for i in max_iters:\n",
    "      params['max_iter'] = i\n",
    "      print(params)\n",
    "      #mlp_params_all, acc_mean, acc_std, f1s_mean, f1s_std = evaluate_mlp(X, y, N=N, **params)\n",
    "      #summarized_mlp_params = { param_key: mlp_params_all[param_key] for param_key in param_keys }\n",
    "      #results.append((summarized_mlp_params.values(), acc_mean, acc_std, f1s_mean, f1s_std))"
   ]
  },
  {
   "cell_type": "code",
   "execution_count": 38,
   "metadata": {
    "colab": {
     "base_uri": "https://localhost:8080/"
    },
    "executionInfo": {
     "elapsed": 1980698,
     "status": "ok",
     "timestamp": 1638854644552,
     "user": {
      "displayName": "José Max Dias Figueira Junior",
      "photoUrl": "https://lh3.googleusercontent.com/a-/AOh14GiUkfqsRDxLzojLYrGgsXG_cTc15Dnqg5KFX8QqCQ=s64",
      "userId": "07239097205257965617"
     },
     "user_tz": 240
    },
    "id": "RLxyL-eINDaY",
    "outputId": "087c09b9-ad61-4ac9-cea3-c01bb3fbb05b"
   },
   "outputs": [
    {
     "name": "stdout",
     "output_type": "stream",
     "text": [
      "{'verbose': False, 'hidden_layer_sizes': (8,), 'activation': 'relu', 'solver': 'adam', 'max_iter': 200}\n",
      "{'verbose': False, 'hidden_layer_sizes': (12,), 'activation': 'relu', 'solver': 'adam', 'max_iter': 200}\n",
      "{'verbose': False, 'hidden_layer_sizes': (18,), 'activation': 'relu', 'solver': 'adam', 'max_iter': 200}\n",
      "{'verbose': False, 'hidden_layer_sizes': (23,), 'activation': 'relu', 'solver': 'adam', 'max_iter': 200}\n",
      "{'verbose': False, 'hidden_layer_sizes': (28,), 'activation': 'relu', 'solver': 'adam', 'max_iter': 200}\n"
     ]
    },
    {
     "name": "stderr",
     "output_type": "stream",
     "text": [
      "/usr/local/lib/python3.7/dist-packages/sklearn/neural_network/_multilayer_perceptron.py:696: ConvergenceWarning: Stochastic Optimizer: Maximum iterations (200) reached and the optimization hasn't converged yet.\n",
      "  ConvergenceWarning,\n"
     ]
    },
    {
     "name": "stdout",
     "output_type": "stream",
     "text": [
      "{'verbose': False, 'hidden_layer_sizes': (34,), 'activation': 'relu', 'solver': 'adam', 'max_iter': 200}\n"
     ]
    },
    {
     "name": "stderr",
     "output_type": "stream",
     "text": [
      "/usr/local/lib/python3.7/dist-packages/sklearn/neural_network/_multilayer_perceptron.py:696: ConvergenceWarning: Stochastic Optimizer: Maximum iterations (200) reached and the optimization hasn't converged yet.\n",
      "  ConvergenceWarning,\n",
      "/usr/local/lib/python3.7/dist-packages/sklearn/neural_network/_multilayer_perceptron.py:696: ConvergenceWarning: Stochastic Optimizer: Maximum iterations (200) reached and the optimization hasn't converged yet.\n",
      "  ConvergenceWarning,\n"
     ]
    }
   ],
   "source": [
    "hidden_layer_sizes_list = [(8,),(12,),(18,),(23,),(28,),(34,)]\n",
    "results = []\n",
    "for hidden_layer_sizes in hidden_layer_sizes_list:\n",
    "  params = base_params.copy()\n",
    "  params['hidden_layer_sizes'] = hidden_layer_sizes\n",
    "  params['activation'] = 'relu'\n",
    "  for s in solvers:\n",
    "    params['solver'] = s\n",
    "    for i in max_iters:\n",
    "      params['max_iter'] = i\n",
    "      print(params)\n",
    "      mlp_params_all, acc_mean, acc_std, f1s_mean, f1s_std = evaluate_mlp(X, y, N=2, **params)\n",
    "      summarized_mlp_params = { param_key: mlp_params_all[param_key] for param_key in param_keys }\n",
    "      out = (summarized_mlp_params.values(), acc_mean, acc_std, f1s_mean, f1s_std)\n",
    "      print(out)\n",
    "      results.append(out)"
   ]
  },
  {
   "cell_type": "code",
   "execution_count": 39,
   "metadata": {
    "colab": {
     "base_uri": "https://localhost:8080/"
    },
    "executionInfo": {
     "elapsed": 10,
     "status": "ok",
     "timestamp": 1638854645585,
     "user": {
      "displayName": "José Max Dias Figueira Junior",
      "photoUrl": "https://lh3.googleusercontent.com/a-/AOh14GiUkfqsRDxLzojLYrGgsXG_cTc15Dnqg5KFX8QqCQ=s64",
      "userId": "07239097205257965617"
     },
     "user_tz": 240
    },
    "id": "V2B1K0Au9DK4",
    "outputId": "39382d54-b296-4ccf-bd43-7664b5b0338a"
   },
   "outputs": [
    {
     "data": {
      "text/plain": [
       "[(dict_values([(8,), 'relu', 'adam', 200]),\n",
       "  0.7157839177528915,\n",
       "  0.0004015972094730813,\n",
       "  0.5025686437357496,\n",
       "  0.018000561590425262),\n",
       " (dict_values([(12,), 'relu', 'adam', 200]),\n",
       "  0.7221205480080779,\n",
       "  0.0007486919405176873,\n",
       "  0.5268561580396305,\n",
       "  0.011221019790646769),\n",
       " (dict_values([(18,), 'relu', 'adam', 200]),\n",
       "  0.7304336102441711,\n",
       "  0.0006855838076005316,\n",
       "  0.5566854659956908,\n",
       "  0.008490894394530935),\n",
       " (dict_values([(23,), 'relu', 'adam', 200]),\n",
       "  0.7423983385349734,\n",
       "  0.0027939691573343195,\n",
       "  0.5813224711852301,\n",
       "  0.0018062263016207503),\n",
       " (dict_values([(28,), 'relu', 'adam', 200]),\n",
       "  0.7461676152010281,\n",
       "  0.004417569304204172,\n",
       "  0.5873848859307822,\n",
       "  0.006225647780268184),\n",
       " (dict_values([(34,), 'relu', 'adam', 200]),\n",
       "  0.7540819487791445,\n",
       "  0.0014887782265466942,\n",
       "  0.6150817228833124,\n",
       "  0.006465354081863772)]"
      ]
     },
     "execution_count": 39,
     "metadata": {},
     "output_type": "execute_result"
    }
   ],
   "source": [
    "results"
   ]
  },
  {
   "cell_type": "code",
   "execution_count": 40,
   "metadata": {
    "executionInfo": {
     "elapsed": 323,
     "status": "ok",
     "timestamp": 1638858244146,
     "user": {
      "displayName": "José Max Dias Figueira Junior",
      "photoUrl": "https://lh3.googleusercontent.com/a-/AOh14GiUkfqsRDxLzojLYrGgsXG_cTc15Dnqg5KFX8QqCQ=s64",
      "userId": "07239097205257965617"
     },
     "user_tz": 240
    },
    "id": "x_lDd0qIkAxj"
   },
   "outputs": [],
   "source": [
    "df = pd.DataFrame(results, columns=['conf', 'acc_m', 'acc_sd', 'f1s_m', 'f1s_sd'])"
   ]
  },
  {
   "cell_type": "code",
   "execution_count": 41,
   "metadata": {
    "colab": {
     "base_uri": "https://localhost:8080/",
     "height": 143
    },
    "executionInfo": {
     "elapsed": 304,
     "status": "ok",
     "timestamp": 1638858248301,
     "user": {
      "displayName": "José Max Dias Figueira Junior",
      "photoUrl": "https://lh3.googleusercontent.com/a-/AOh14GiUkfqsRDxLzojLYrGgsXG_cTc15Dnqg5KFX8QqCQ=s64",
      "userId": "07239097205257965617"
     },
     "user_tz": 240
    },
    "id": "K6kMvFUXkAx6",
    "outputId": "d9a57723-c46f-4d5d-a705-f3207580e729"
   },
   "outputs": [
    {
     "data": {
      "text/html": [
       "<div>\n",
       "<style scoped>\n",
       "    .dataframe tbody tr th:only-of-type {\n",
       "        vertical-align: middle;\n",
       "    }\n",
       "\n",
       "    .dataframe tbody tr th {\n",
       "        vertical-align: top;\n",
       "    }\n",
       "\n",
       "    .dataframe thead th {\n",
       "        text-align: right;\n",
       "    }\n",
       "</style>\n",
       "<table border=\"1\" class=\"dataframe\">\n",
       "  <thead>\n",
       "    <tr style=\"text-align: right;\">\n",
       "      <th></th>\n",
       "      <th>conf</th>\n",
       "      <th>acc_m</th>\n",
       "      <th>acc_sd</th>\n",
       "      <th>f1s_m</th>\n",
       "      <th>f1s_sd</th>\n",
       "    </tr>\n",
       "  </thead>\n",
       "  <tbody>\n",
       "    <tr>\n",
       "      <th>5</th>\n",
       "      <td>((34,), relu, adam, 200)</td>\n",
       "      <td>0.754082</td>\n",
       "      <td>0.001489</td>\n",
       "      <td>0.615082</td>\n",
       "      <td>0.006465</td>\n",
       "    </tr>\n",
       "    <tr>\n",
       "      <th>4</th>\n",
       "      <td>((28,), relu, adam, 200)</td>\n",
       "      <td>0.746168</td>\n",
       "      <td>0.004418</td>\n",
       "      <td>0.587385</td>\n",
       "      <td>0.006226</td>\n",
       "    </tr>\n",
       "    <tr>\n",
       "      <th>3</th>\n",
       "      <td>((23,), relu, adam, 200)</td>\n",
       "      <td>0.742398</td>\n",
       "      <td>0.002794</td>\n",
       "      <td>0.581322</td>\n",
       "      <td>0.001806</td>\n",
       "    </tr>\n",
       "  </tbody>\n",
       "</table>\n",
       "</div>"
      ],
      "text/plain": [
       "                       conf     acc_m    acc_sd     f1s_m    f1s_sd\n",
       "5  ((34,), relu, adam, 200)  0.754082  0.001489  0.615082  0.006465\n",
       "4  ((28,), relu, adam, 200)  0.746168  0.004418  0.587385  0.006226\n",
       "3  ((23,), relu, adam, 200)  0.742398  0.002794  0.581322  0.001806"
      ]
     },
     "execution_count": 41,
     "metadata": {},
     "output_type": "execute_result"
    }
   ],
   "source": [
    "df2 = df.sort_values(['acc_m', 'acc_sd'], ascending = [False, True])\n",
    "df2 = df2.head(3)\n",
    "df2"
   ]
  },
  {
   "cell_type": "code",
   "execution_count": 42,
   "metadata": {
    "colab": {
     "base_uri": "https://localhost:8080/",
     "height": 143
    },
    "executionInfo": {
     "elapsed": 458,
     "status": "ok",
     "timestamp": 1638858255805,
     "user": {
      "displayName": "José Max Dias Figueira Junior",
      "photoUrl": "https://lh3.googleusercontent.com/a-/AOh14GiUkfqsRDxLzojLYrGgsXG_cTc15Dnqg5KFX8QqCQ=s64",
      "userId": "07239097205257965617"
     },
     "user_tz": 240
    },
    "id": "A0iqHV2_kAx7",
    "outputId": "9fce9da1-790f-421e-9f77-bb36299b7758"
   },
   "outputs": [
    {
     "data": {
      "text/html": [
       "<div>\n",
       "<style scoped>\n",
       "    .dataframe tbody tr th:only-of-type {\n",
       "        vertical-align: middle;\n",
       "    }\n",
       "\n",
       "    .dataframe tbody tr th {\n",
       "        vertical-align: top;\n",
       "    }\n",
       "\n",
       "    .dataframe thead th {\n",
       "        text-align: right;\n",
       "    }\n",
       "</style>\n",
       "<table border=\"1\" class=\"dataframe\">\n",
       "  <thead>\n",
       "    <tr style=\"text-align: right;\">\n",
       "      <th></th>\n",
       "      <th>conf</th>\n",
       "      <th>acc_m</th>\n",
       "      <th>acc_sd</th>\n",
       "      <th>f1s_m</th>\n",
       "      <th>f1s_sd</th>\n",
       "    </tr>\n",
       "  </thead>\n",
       "  <tbody>\n",
       "    <tr>\n",
       "      <th>5</th>\n",
       "      <td>((34,), relu, adam, 200)</td>\n",
       "      <td>0.754082</td>\n",
       "      <td>0.001489</td>\n",
       "      <td>0.615082</td>\n",
       "      <td>0.006465</td>\n",
       "    </tr>\n",
       "    <tr>\n",
       "      <th>4</th>\n",
       "      <td>((28,), relu, adam, 200)</td>\n",
       "      <td>0.746168</td>\n",
       "      <td>0.004418</td>\n",
       "      <td>0.587385</td>\n",
       "      <td>0.006226</td>\n",
       "    </tr>\n",
       "    <tr>\n",
       "      <th>3</th>\n",
       "      <td>((23,), relu, adam, 200)</td>\n",
       "      <td>0.742398</td>\n",
       "      <td>0.002794</td>\n",
       "      <td>0.581322</td>\n",
       "      <td>0.001806</td>\n",
       "    </tr>\n",
       "  </tbody>\n",
       "</table>\n",
       "</div>"
      ],
      "text/plain": [
       "                       conf     acc_m    acc_sd     f1s_m    f1s_sd\n",
       "5  ((34,), relu, adam, 200)  0.754082  0.001489  0.615082  0.006465\n",
       "4  ((28,), relu, adam, 200)  0.746168  0.004418  0.587385  0.006226\n",
       "3  ((23,), relu, adam, 200)  0.742398  0.002794  0.581322  0.001806"
      ]
     },
     "execution_count": 42,
     "metadata": {},
     "output_type": "execute_result"
    }
   ],
   "source": [
    "df3 = df.sort_values(['f1s_m', 'f1s_sd'], ascending = [False, True])\n",
    "df3 = df3.head(3)\n",
    "df3"
   ]
  },
  {
   "cell_type": "code",
   "execution_count": 43,
   "metadata": {
    "colab": {
     "base_uri": "https://localhost:8080/",
     "height": 174
    },
    "executionInfo": {
     "elapsed": 331,
     "status": "ok",
     "timestamp": 1638858280954,
     "user": {
      "displayName": "José Max Dias Figueira Junior",
      "photoUrl": "https://lh3.googleusercontent.com/a-/AOh14GiUkfqsRDxLzojLYrGgsXG_cTc15Dnqg5KFX8QqCQ=s64",
      "userId": "07239097205257965617"
     },
     "user_tz": 240
    },
    "id": "WcmKLsNOkAx7",
    "outputId": "2b44eea2-83f5-4115-9ad0-473bec414fd8"
   },
   "outputs": [
    {
     "data": {
      "text/html": [
       "<div>\n",
       "<style scoped>\n",
       "    .dataframe tbody tr th:only-of-type {\n",
       "        vertical-align: middle;\n",
       "    }\n",
       "\n",
       "    .dataframe tbody tr th {\n",
       "        vertical-align: top;\n",
       "    }\n",
       "\n",
       "    .dataframe thead tr th {\n",
       "        text-align: left;\n",
       "    }\n",
       "</style>\n",
       "<table border=\"1\" class=\"dataframe\">\n",
       "  <thead>\n",
       "    <tr>\n",
       "      <th></th>\n",
       "      <th>Configuração MLP</th>\n",
       "      <th colspan=\"2\" halign=\"left\">Acurácia</th>\n",
       "      <th colspan=\"2\" halign=\"left\">F1-Score</th>\n",
       "    </tr>\n",
       "    <tr>\n",
       "      <th></th>\n",
       "      <th>['hidden_layer_sizes', 'activation', 'solver', 'max_iter']</th>\n",
       "      <th>Média</th>\n",
       "      <th>Desvio Padrão</th>\n",
       "      <th>Média</th>\n",
       "      <th>Desvio Padrão</th>\n",
       "    </tr>\n",
       "  </thead>\n",
       "  <tbody>\n",
       "    <tr>\n",
       "      <th>0</th>\n",
       "      <td>((34,), relu, adam, 200)</td>\n",
       "      <td>0.754082</td>\n",
       "      <td>0.00148878</td>\n",
       "      <td>0.615082</td>\n",
       "      <td>0.00646535</td>\n",
       "    </tr>\n",
       "    <tr>\n",
       "      <th>1</th>\n",
       "      <td>((28,), relu, adam, 200)</td>\n",
       "      <td>0.746168</td>\n",
       "      <td>0.00441757</td>\n",
       "      <td>0.587385</td>\n",
       "      <td>0.00622565</td>\n",
       "    </tr>\n",
       "    <tr>\n",
       "      <th>2</th>\n",
       "      <td>((23,), relu, adam, 200)</td>\n",
       "      <td>0.742398</td>\n",
       "      <td>0.00279397</td>\n",
       "      <td>0.581322</td>\n",
       "      <td>0.00180623</td>\n",
       "    </tr>\n",
       "  </tbody>\n",
       "</table>\n",
       "</div>"
      ],
      "text/plain": [
       "                                            Configuração MLP  ...      F1-Score\n",
       "  ['hidden_layer_sizes', 'activation', 'solver', 'max_iter']  ... Desvio Padrão\n",
       "0                           ((34,), relu, adam, 200)          ...    0.00646535\n",
       "1                           ((28,), relu, adam, 200)          ...    0.00622565\n",
       "2                           ((23,), relu, adam, 200)          ...    0.00180623\n",
       "\n",
       "[3 rows x 5 columns]"
      ]
     },
     "execution_count": 43,
     "metadata": {},
     "output_type": "execute_result"
    }
   ],
   "source": [
    "index = pd.MultiIndex.from_tuples([('Configuração MLP', str(param_keys)), \n",
    "                                   ('Acurácia', 'Média'),\n",
    "                                   ('Acurácia','Desvio Padrão'),\n",
    "                                   ('F1-Score','Média'),\n",
    "                                   ('F1-Score','Desvio Padrão')])\n",
    "\n",
    "df = pd.DataFrame(df3.values, columns=index)\n",
    "# df.set_index(('Configuração MLP', str(param_keys)))\n",
    "df"
   ]
  },
  {
   "cell_type": "markdown",
   "metadata": {
    "id": "OsTJC0KPkNv7"
   },
   "source": [
    "## Testando as Redes Neurais com Atributos Categóricos\n",
    "\n",
    "1. Considere as 6 redes neurais obtidas nos dois top-3 anteriores (arquiteturas próprias e regra da pirâmide geométrica)\n",
    "2. Com todos os atributos preditores da base de dados original, incluindo os categóricos, treine e teste estas mesmas redes por 15 repetições  \n",
    "    2.1 Considere o melhor otimizador para cada uma delas  \n",
    "    2.2 Faça uso de 200 épocas para treinamento  \n",
    "    2.2 Apresente os resultados de acurácia e F-Score em termos da média +- dp para cada arquitetura\n",
    "3. Apresente o gráfico boxplot para o F-Score das 6 arquiteturas perante as 15 repetições"
   ]
  },
  {
   "cell_type": "code",
   "execution_count": null,
   "metadata": {
    "id": "I3W2n-FnkNv7"
   },
   "outputs": [],
   "source": []
  },
  {
   "cell_type": "code",
   "execution_count": 44,
   "metadata": {
    "executionInfo": {
     "elapsed": 320,
     "status": "ok",
     "timestamp": 1638858347630,
     "user": {
      "displayName": "José Max Dias Figueira Junior",
      "photoUrl": "https://lh3.googleusercontent.com/a-/AOh14GiUkfqsRDxLzojLYrGgsXG_cTc15Dnqg5KFX8QqCQ=s64",
      "userId": "07239097205257965617"
     },
     "user_tz": 240
    },
    "id": "umrxuyR9IxFG"
   },
   "outputs": [],
   "source": [
    "data = data_all"
   ]
  },
  {
   "cell_type": "code",
   "execution_count": 45,
   "metadata": {
    "colab": {
     "base_uri": "https://localhost:8080/"
    },
    "executionInfo": {
     "elapsed": 416,
     "status": "ok",
     "timestamp": 1638858350605,
     "user": {
      "displayName": "José Max Dias Figueira Junior",
      "photoUrl": "https://lh3.googleusercontent.com/a-/AOh14GiUkfqsRDxLzojLYrGgsXG_cTc15Dnqg5KFX8QqCQ=s64",
      "userId": "07239097205257965617"
     },
     "user_tz": 240
    },
    "id": "2DfGHtJ5IxFU",
    "outputId": "5b582f41-fa3a-40a8-de1e-94c9ae6e82a4"
   },
   "outputs": [
    {
     "data": {
      "text/plain": [
       "(581012, 55)"
      ]
     },
     "execution_count": 45,
     "metadata": {},
     "output_type": "execute_result"
    }
   ],
   "source": [
    "data.shape"
   ]
  },
  {
   "cell_type": "code",
   "execution_count": 46,
   "metadata": {
    "colab": {
     "base_uri": "https://localhost:8080/"
    },
    "executionInfo": {
     "elapsed": 424,
     "status": "ok",
     "timestamp": 1638858360953,
     "user": {
      "displayName": "José Max Dias Figueira Junior",
      "photoUrl": "https://lh3.googleusercontent.com/a-/AOh14GiUkfqsRDxLzojLYrGgsXG_cTc15Dnqg5KFX8QqCQ=s64",
      "userId": "07239097205257965617"
     },
     "user_tz": 240
    },
    "id": "NY25o20LIxFU",
    "outputId": "5b74c4b2-33c0-42f6-f4fd-feb4b82358da"
   },
   "outputs": [
    {
     "data": {
      "text/plain": [
       "Elevation                             int64\n",
       "Aspect                                int64\n",
       "Slope                                 int64\n",
       "Horizontal_Distance_To_Hydrology      int64\n",
       "Vertical_Distance_To_Hydrology        int64\n",
       "Horizontal_Distance_To_Roadways       int64\n",
       "Hillshade_9am                         int64\n",
       "Hillshade_Noon                        int64\n",
       "Hillshade_3pm                         int64\n",
       "Horizontal_Distance_To_Fire_Points    int64\n",
       "Wilderness_Area1                      int64\n",
       "Wilderness_Area2                      int64\n",
       "Wilderness_Area3                      int64\n",
       "Wilderness_Area4                      int64\n",
       "Soil_Type1                            int64\n",
       "Soil_Type2                            int64\n",
       "Soil_Type3                            int64\n",
       "Soil_Type4                            int64\n",
       "Soil_Type5                            int64\n",
       "Soil_Type6                            int64\n",
       "Soil_Type7                            int64\n",
       "Soil_Type8                            int64\n",
       "Soil_Type9                            int64\n",
       "Soil_Type10                           int64\n",
       "Soil_Type11                           int64\n",
       "Soil_Type12                           int64\n",
       "Soil_Type13                           int64\n",
       "Soil_Type14                           int64\n",
       "Soil_Type15                           int64\n",
       "Soil_Type16                           int64\n",
       "Soil_Type17                           int64\n",
       "Soil_Type18                           int64\n",
       "Soil_Type19                           int64\n",
       "Soil_Type20                           int64\n",
       "Soil_Type21                           int64\n",
       "Soil_Type22                           int64\n",
       "Soil_Type23                           int64\n",
       "Soil_Type24                           int64\n",
       "Soil_Type25                           int64\n",
       "Soil_Type26                           int64\n",
       "Soil_Type27                           int64\n",
       "Soil_Type28                           int64\n",
       "Soil_Type29                           int64\n",
       "Soil_Type30                           int64\n",
       "Soil_Type31                           int64\n",
       "Soil_Type32                           int64\n",
       "Soil_Type33                           int64\n",
       "Soil_Type34                           int64\n",
       "Soil_Type35                           int64\n",
       "Soil_Type36                           int64\n",
       "Soil_Type37                           int64\n",
       "Soil_Type38                           int64\n",
       "Soil_Type39                           int64\n",
       "Soil_Type40                           int64\n",
       "Cover_Type                            int64\n",
       "dtype: object"
      ]
     },
     "execution_count": 46,
     "metadata": {},
     "output_type": "execute_result"
    }
   ],
   "source": [
    "data.dtypes"
   ]
  },
  {
   "cell_type": "code",
   "execution_count": 54,
   "metadata": {
    "executionInfo": {
     "elapsed": 423,
     "status": "ok",
     "timestamp": 1638859289516,
     "user": {
      "displayName": "José Max Dias Figueira Junior",
      "photoUrl": "https://lh3.googleusercontent.com/a-/AOh14GiUkfqsRDxLzojLYrGgsXG_cTc15Dnqg5KFX8QqCQ=s64",
      "userId": "07239097205257965617"
     },
     "user_tz": 240
    },
    "id": "vQ11xiTgn-sr"
   },
   "outputs": [],
   "source": [
    "X = data.iloc[:, :(data.shape[1] - 1)]\n",
    "y = data.iloc[:, -1:]"
   ]
  },
  {
   "cell_type": "code",
   "execution_count": null,
   "metadata": {
    "id": "UDFO5-uolTJw"
   },
   "outputs": [],
   "source": [
    "#arquitetura própria"
   ]
  },
  {
   "cell_type": "code",
   "execution_count": 48,
   "metadata": {
    "executionInfo": {
     "elapsed": 416,
     "status": "ok",
     "timestamp": 1638858842692,
     "user": {
      "displayName": "José Max Dias Figueira Junior",
      "photoUrl": "https://lh3.googleusercontent.com/a-/AOh14GiUkfqsRDxLzojLYrGgsXG_cTc15Dnqg5KFX8QqCQ=s64",
      "userId": "07239097205257965617"
     },
     "user_tz": 240
    },
    "id": "vfUFRNFFlTrX"
   },
   "outputs": [],
   "source": [
    "ptop1_custom = {'verbose': False, 'hidden_layer_sizes': (15,15), 'activation': 'relu', 'solver': 'adam', 'max_iter': 200}"
   ]
  },
  {
   "cell_type": "code",
   "execution_count": 55,
   "metadata": {
    "colab": {
     "base_uri": "https://localhost:8080/"
    },
    "executionInfo": {
     "elapsed": 642949,
     "status": "ok",
     "timestamp": 1638860086054,
     "user": {
      "displayName": "José Max Dias Figueira Junior",
      "photoUrl": "https://lh3.googleusercontent.com/a-/AOh14GiUkfqsRDxLzojLYrGgsXG_cTc15Dnqg5KFX8QqCQ=s64",
      "userId": "07239097205257965617"
     },
     "user_tz": 240
    },
    "id": "vXaTiQ6TlTrY",
    "outputId": "728b073e-a4b6-4409-95fb-0366f55ef656"
   },
   "outputs": [
    {
     "name": "stderr",
     "output_type": "stream",
     "text": [
      "/usr/local/lib/python3.7/dist-packages/sklearn/neural_network/_multilayer_perceptron.py:696: ConvergenceWarning: Stochastic Optimizer: Maximum iterations (200) reached and the optimization hasn't converged yet.\n",
      "  ConvergenceWarning,\n"
     ]
    }
   ],
   "source": [
    "mlp_params_all, acc_mean, acc_std, f1s_mean, f1s_std = evaluate_mlp(X, y, N=2, **ptop1_custom)"
   ]
  },
  {
   "cell_type": "code",
   "execution_count": 56,
   "metadata": {
    "colab": {
     "base_uri": "https://localhost:8080/"
    },
    "executionInfo": {
     "elapsed": 25,
     "status": "ok",
     "timestamp": 1638860086060,
     "user": {
      "displayName": "José Max Dias Figueira Junior",
      "photoUrl": "https://lh3.googleusercontent.com/a-/AOh14GiUkfqsRDxLzojLYrGgsXG_cTc15Dnqg5KFX8QqCQ=s64",
      "userId": "07239097205257965617"
     },
     "user_tz": 240
    },
    "id": "gdzCA76WlTrZ",
    "outputId": "6b0b93de-eea8-476e-edf8-c509d88792fa"
   },
   "outputs": [
    {
     "name": "stdout",
     "output_type": "stream",
     "text": [
      "{'activation': 'relu', 'alpha': 0.0001, 'batch_size': 'auto', 'beta_1': 0.9, 'beta_2': 0.999, 'early_stopping': False, 'epsilon': 1e-08, 'hidden_layer_sizes': (15, 15), 'learning_rate': 'constant', 'learning_rate_init': 0.001, 'max_fun': 15000, 'max_iter': 200, 'momentum': 0.9, 'n_iter_no_change': 10, 'nesterovs_momentum': True, 'power_t': 0.5, 'random_state': None, 'shuffle': True, 'solver': 'adam', 'tol': 0.0001, 'validation_fraction': 0.1, 'verbose': False, 'warm_start': False}\n",
      "Acurácia - Média:  0.7973769965118414\n",
      "Acurácia - Desvio Padrão :  0.0025702221406278536\n",
      "F1-Score - Média:  0.6795517374981748\n",
      "F1-Score - Desvio Padrão:  0.0008670632605654593\n"
     ]
    }
   ],
   "source": [
    "print(mlp_params_all)\n",
    "print('Acurácia - Média: ', acc_mean)\n",
    "print('Acurácia - Desvio Padrão : ', acc_std)\n",
    "print('F1-Score - Média: ', f1s_mean)\n",
    "print('F1-Score - Desvio Padrão: ', f1s_std)"
   ]
  },
  {
   "cell_type": "code",
   "execution_count": null,
   "metadata": {
    "id": "Ef8iUHg2mFko"
   },
   "outputs": [],
   "source": [
    "#regra da pirâmide geométrica"
   ]
  },
  {
   "cell_type": "code",
   "execution_count": 51,
   "metadata": {
    "executionInfo": {
     "elapsed": 3,
     "status": "ok",
     "timestamp": 1638859229893,
     "user": {
      "displayName": "José Max Dias Figueira Junior",
      "photoUrl": "https://lh3.googleusercontent.com/a-/AOh14GiUkfqsRDxLzojLYrGgsXG_cTc15Dnqg5KFX8QqCQ=s64",
      "userId": "07239097205257965617"
     },
     "user_tz": 240
    },
    "id": "szGxCo4amhLy"
   },
   "outputs": [],
   "source": [
    "ptop1_geo = {'verbose': False, 'hidden_layer_sizes': (34,), 'activation': 'relu', 'solver': 'adam', 'max_iter': 200}"
   ]
  },
  {
   "cell_type": "code",
   "execution_count": 57,
   "metadata": {
    "colab": {
     "base_uri": "https://localhost:8080/"
    },
    "executionInfo": {
     "elapsed": 1020977,
     "status": "ok",
     "timestamp": 1638861108094,
     "user": {
      "displayName": "José Max Dias Figueira Junior",
      "photoUrl": "https://lh3.googleusercontent.com/a-/AOh14GiUkfqsRDxLzojLYrGgsXG_cTc15Dnqg5KFX8QqCQ=s64",
      "userId": "07239097205257965617"
     },
     "user_tz": 240
    },
    "id": "gobLOUccmhMA",
    "outputId": "e8dad1a2-f0fc-47cc-ddc9-6bc9d888acfd"
   },
   "outputs": [
    {
     "name": "stderr",
     "output_type": "stream",
     "text": [
      "/usr/local/lib/python3.7/dist-packages/sklearn/neural_network/_multilayer_perceptron.py:696: ConvergenceWarning: Stochastic Optimizer: Maximum iterations (200) reached and the optimization hasn't converged yet.\n",
      "  ConvergenceWarning,\n"
     ]
    }
   ],
   "source": [
    "mlp_params_all, acc_mean, acc_std, f1s_mean, f1s_std = evaluate_mlp(X, y, N=2, **ptop1_geo)"
   ]
  },
  {
   "cell_type": "code",
   "execution_count": 58,
   "metadata": {
    "colab": {
     "base_uri": "https://localhost:8080/"
    },
    "executionInfo": {
     "elapsed": 24,
     "status": "ok",
     "timestamp": 1638861108098,
     "user": {
      "displayName": "José Max Dias Figueira Junior",
      "photoUrl": "https://lh3.googleusercontent.com/a-/AOh14GiUkfqsRDxLzojLYrGgsXG_cTc15Dnqg5KFX8QqCQ=s64",
      "userId": "07239097205257965617"
     },
     "user_tz": 240
    },
    "id": "SiJT1JE1mhMB",
    "outputId": "425598ec-4958-4489-e7bd-d70153b32c10"
   },
   "outputs": [
    {
     "name": "stdout",
     "output_type": "stream",
     "text": [
      "{'activation': 'relu', 'alpha': 0.0001, 'batch_size': 'auto', 'beta_1': 0.9, 'beta_2': 0.999, 'early_stopping': False, 'epsilon': 1e-08, 'hidden_layer_sizes': (34,), 'learning_rate': 'constant', 'learning_rate_init': 0.001, 'max_fun': 15000, 'max_iter': 200, 'momentum': 0.9, 'n_iter_no_change': 10, 'nesterovs_momentum': True, 'power_t': 0.5, 'random_state': None, 'shuffle': True, 'solver': 'adam', 'tol': 0.0001, 'validation_fraction': 0.1, 'verbose': False, 'warm_start': False}\n",
      "Acurácia - Média:  0.8157156462272811\n",
      "Acurácia - Desvio Padrão :  0.001414195887644576\n",
      "F1-Score - Média:  0.7186963825624235\n",
      "F1-Score - Desvio Padrão:  0.007296691637514063\n"
     ]
    }
   ],
   "source": [
    "print(mlp_params_all)\n",
    "print('Acurácia - Média: ', acc_mean)\n",
    "print('Acurácia - Desvio Padrão : ', acc_std)\n",
    "print('F1-Score - Média: ', f1s_mean)\n",
    "print('F1-Score - Desvio Padrão: ', f1s_std)"
   ]
  },
  {
   "cell_type": "code",
   "execution_count": null,
   "metadata": {
    "id": "a_3RdkJdkNv8"
   },
   "outputs": [],
   "source": []
  }
 ],
 "metadata": {
  "colab": {
   "collapsed_sections": [],
   "name": "PP2.2.2 - Proposição e Avaliação de RNAs_Max.ipynb",
   "provenance": []
  },
  "kernelspec": {
   "display_name": "Python 3 (ipykernel)",
   "language": "python",
   "name": "python3"
  },
  "language_info": {
   "codemirror_mode": {
    "name": "ipython",
    "version": 3
   },
   "file_extension": ".py",
   "mimetype": "text/x-python",
   "name": "python",
   "nbconvert_exporter": "python",
   "pygments_lexer": "ipython3",
   "version": "3.7.6"
  }
 },
 "nbformat": 4,
 "nbformat_minor": 0
}

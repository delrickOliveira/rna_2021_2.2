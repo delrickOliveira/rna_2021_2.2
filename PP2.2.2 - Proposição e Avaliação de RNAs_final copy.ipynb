{
 "cells": [
  {
   "cell_type": "markdown",
   "metadata": {
    "id": "YbV0HpwJkNv1"
   },
   "source": [
    "## Redes Neurais Artificiais 2021.1\n",
    "\n",
    "- **Disciplina**: Redes Neurais Artificiais 2021.1  \n",
    "- **Professora**: Elloá B. Guedes (ebgcosta@uea.edu.br)  \n",
    "- **Github**: http://github.com/elloa  \n",
    "        \n",
    "\n",
    "Levando em conta a base de dados **_Forest Cover Type_**, esta segunda parte do Projeto Prático 2.2 diz respeito à proposição e avaliação de múltiplas redes neurais artificiais do tipo feedforward multilayer perceptron para o problema da classificação multi-classe da cobertura florestal em uma área do Roosevelt National Forest.\n",
    "\n",
    "## Testando Redes Neurais sem os Atributos Categórios\n",
    "\n",
    "1. Abra a base de dados em questão\n",
    "2. Elimine todas as colunas relativas aos atributos categóricos\n",
    "3. Armazene o atributo alvo em uma variável y e os atributos preditores em uma variável X\n",
    "4. Efetue uma partição holdout 70/30 com o sklearn, distribuindo os exemplos de maneira aleatória\n",
    "5. Efetue o escalonamento dos atributos\n",
    "\n",
    "### Escalonando os atributos\n",
    "\n",
    "O treinamento de uma rede neural artificial é mais eficiente quando os valores que lhes são fornecidos como entrada são pequenos, pois isto favorece a convergência. Isto é feito escalonando-se todos os atributos para o intervalo [0,1], mas precisa ser feito de maneira cautelosa, para que informações do conjunto de teste não sejam fornecidas no treinamento.\n",
    "\n",
    "Há duas estratégias para tal escalonamento: normalização e padronização. Ambas possuem características particulares, vantagens e limitações, como é possível ver aqui: https://www.analyticsvidhya.com/blog/2020/04/feature-scaling-machine-learning-normalization-standardization/\n",
    "\n",
    "\n",
    "No nosso caso, vamos usar a padronização. Assim, com os atributos preditores do treinamento, isto é, X_train, deve-se subtrair a média e dividir pelo desvio padrão:\n",
    "\n",
    "X_train_std = (X_train - np.mean(X_train))/np.std(X_train)\n",
    "\n",
    "Em seguida, o mesmo deve ser feito com os atributos preditores do conjunto de testes, mas com padronização relativa ao conjunto de treinamento:\n",
    "\n",
    "X_test_std = (X_test - np.mean(X_train))/np.std(X_train)\n",
    "\n",
    "Se todo o conjunto X for utilizado na padronização, a rede neural receberá informações do conjunto de teste por meio da média e variância utilizada para preparar os dados de treinamento, o que não é desejável."
   ]
  },
  {
   "cell_type": "code",
   "execution_count": 2,
   "metadata": {
    "executionInfo": {
     "elapsed": 755,
     "status": "ok",
     "timestamp": 1638847633434,
     "user": {
      "displayName": "José Max Dias Figueira Junior",
      "photoUrl": "https://lh3.googleusercontent.com/a-/AOh14GiUkfqsRDxLzojLYrGgsXG_cTc15Dnqg5KFX8QqCQ=s64",
      "userId": "07239097205257965617"
     },
     "user_tz": 240
    },
    "id": "PDpSGv2NkNv8"
   },
   "outputs": [],
   "source": [
    "import pandas as pd\n",
    "import numpy as np\n",
    "from sklearn.model_selection import train_test_split\n",
    "from sklearn.neural_network import MLPClassifier\n",
    "from sklearn.metrics import precision_score, recall_score, accuracy_score, f1_score, ConfusionMatrixDisplay\n",
    "import matplotlib.pyplot as plt\n",
    "import math as mt\n",
    "from imblearn.under_sampling import NearMiss\n",
    "from warnings import filterwarnings\n",
    "filterwarnings('ignore')"
   ]
  },
  {
   "cell_type": "markdown",
   "metadata": {
    "id": "Vf0jnlIimGiq"
   },
   "source": [
    "1. Abra a base de dados em questão"
   ]
  },
  {
   "cell_type": "code",
   "execution_count": 41,
   "metadata": {
    "executionInfo": {
     "elapsed": 2184,
     "status": "ok",
     "timestamp": 1638847637426,
     "user": {
      "displayName": "José Max Dias Figueira Junior",
      "photoUrl": "https://lh3.googleusercontent.com/a-/AOh14GiUkfqsRDxLzojLYrGgsXG_cTc15Dnqg5KFX8QqCQ=s64",
      "userId": "07239097205257965617"
     },
     "user_tz": 240
    },
    "id": "U2GdNp8pkNv9"
   },
   "outputs": [],
   "source": [
    "data_all = pd.read_csv('data/covtype.csv')"
   ]
  },
  {
   "cell_type": "markdown",
   "metadata": {
    "id": "LCXSJ83RmJKF"
   },
   "source": [
    "\n",
    "2. Elimine todas as colunas relativas aos atributos categóricos"
   ]
  },
  {
   "cell_type": "code",
   "execution_count": 42,
   "metadata": {
    "executionInfo": {
     "elapsed": 289,
     "status": "ok",
     "timestamp": 1638847639225,
     "user": {
      "displayName": "José Max Dias Figueira Junior",
      "photoUrl": "https://lh3.googleusercontent.com/a-/AOh14GiUkfqsRDxLzojLYrGgsXG_cTc15Dnqg5KFX8QqCQ=s64",
      "userId": "07239097205257965617"
     },
     "user_tz": 240
    },
    "id": "mOstqYh7nMI3"
   },
   "outputs": [],
   "source": [
    "categoricos = list(filter(lambda x: (x.startswith('Wilderness_Area') or x.startswith('Soil_Type')), data_all.columns.to_list()))"
   ]
  },
  {
   "cell_type": "code",
   "execution_count": 43,
   "metadata": {
    "executionInfo": {
     "elapsed": 288,
     "status": "ok",
     "timestamp": 1638847642402,
     "user": {
      "displayName": "José Max Dias Figueira Junior",
      "photoUrl": "https://lh3.googleusercontent.com/a-/AOh14GiUkfqsRDxLzojLYrGgsXG_cTc15Dnqg5KFX8QqCQ=s64",
      "userId": "07239097205257965617"
     },
     "user_tz": 240
    },
    "id": "V4PJDGEmkNv9"
   },
   "outputs": [],
   "source": [
    "data = data_all.drop(categoricos, axis=1)"
   ]
  },
  {
   "cell_type": "code",
   "execution_count": 44,
   "metadata": {
    "colab": {
     "base_uri": "https://localhost:8080/"
    },
    "executionInfo": {
     "elapsed": 369,
     "status": "ok",
     "timestamp": 1638847644118,
     "user": {
      "displayName": "José Max Dias Figueira Junior",
      "photoUrl": "https://lh3.googleusercontent.com/a-/AOh14GiUkfqsRDxLzojLYrGgsXG_cTc15Dnqg5KFX8QqCQ=s64",
      "userId": "07239097205257965617"
     },
     "user_tz": 240
    },
    "id": "irz0I1PG3f4a",
    "outputId": "523eaef8-49bc-4bf0-bf6e-3ab21f6799d0"
   },
   "outputs": [
    {
     "data": {
      "text/plain": [
       "(581012, 11)"
      ]
     },
     "execution_count": 44,
     "metadata": {},
     "output_type": "execute_result"
    }
   ],
   "source": [
    "data.shape"
   ]
  },
  {
   "cell_type": "code",
   "execution_count": 45,
   "metadata": {
    "colab": {
     "base_uri": "https://localhost:8080/"
    },
    "executionInfo": {
     "elapsed": 425,
     "status": "ok",
     "timestamp": 1638847647335,
     "user": {
      "displayName": "José Max Dias Figueira Junior",
      "photoUrl": "https://lh3.googleusercontent.com/a-/AOh14GiUkfqsRDxLzojLYrGgsXG_cTc15Dnqg5KFX8QqCQ=s64",
      "userId": "07239097205257965617"
     },
     "user_tz": 240
    },
    "id": "0BSYvdboAysI",
    "outputId": "70f337dd-0cc7-4cad-8116-96e8bf9ee7f2"
   },
   "outputs": [
    {
     "data": {
      "text/plain": [
       "Elevation                             int64\n",
       "Aspect                                int64\n",
       "Slope                                 int64\n",
       "Horizontal_Distance_To_Hydrology      int64\n",
       "Vertical_Distance_To_Hydrology        int64\n",
       "Horizontal_Distance_To_Roadways       int64\n",
       "Hillshade_9am                         int64\n",
       "Hillshade_Noon                        int64\n",
       "Hillshade_3pm                         int64\n",
       "Horizontal_Distance_To_Fire_Points    int64\n",
       "Cover_Type                            int64\n",
       "dtype: object"
      ]
     },
     "execution_count": 45,
     "metadata": {},
     "output_type": "execute_result"
    }
   ],
   "source": [
    "data.dtypes"
   ]
  },
  {
   "cell_type": "markdown",
   "metadata": {
    "id": "bqNA68mHmNgd"
   },
   "source": [
    "\n",
    "3. Armazene o atributo alvo em uma variável y e os atributos preditores em uma variável X"
   ]
  },
  {
   "cell_type": "code",
   "execution_count": 46,
   "metadata": {
    "executionInfo": {
     "elapsed": 425,
     "status": "ok",
     "timestamp": 1638847650488,
     "user": {
      "displayName": "José Max Dias Figueira Junior",
      "photoUrl": "https://lh3.googleusercontent.com/a-/AOh14GiUkfqsRDxLzojLYrGgsXG_cTc15Dnqg5KFX8QqCQ=s64",
      "userId": "07239097205257965617"
     },
     "user_tz": 240
    },
    "id": "Q8Xqs1t3kNv-"
   },
   "outputs": [],
   "source": [
    "X = data.iloc[:, :(data.shape[1] - 1)]\n",
    "y = data.iloc[:, -1:]\n",
    "\n",
    "nm1 = NearMiss(version=1)\n",
    "X_resampled_nm1, y_resampled = nm1.fit_resample(X, y)\n",
    "\n",
    "X = X_resampled_nm1\n",
    "y = y_resampled"
   ]
  },
  {
   "cell_type": "markdown",
   "metadata": {
    "id": "taEH7IkbmQFC"
   },
   "source": [
    "\n",
    "4. Efetue uma partição holdout 70/30 com o sklearn, distribuindo os exemplos de maneira aleatória"
   ]
  },
  {
   "cell_type": "code",
   "execution_count": 8,
   "metadata": {
    "executionInfo": {
     "elapsed": 337,
     "status": "ok",
     "timestamp": 1638847652078,
     "user": {
      "displayName": "José Max Dias Figueira Junior",
      "photoUrl": "https://lh3.googleusercontent.com/a-/AOh14GiUkfqsRDxLzojLYrGgsXG_cTc15Dnqg5KFX8QqCQ=s64",
      "userId": "07239097205257965617"
     },
     "user_tz": 240
    },
    "id": "HBW3rNT0kNv-"
   },
   "outputs": [],
   "source": [
    "X_train, X_test, y_train, y_test = train_test_split(X, y, train_size=0.7, shuffle=True)"
   ]
  },
  {
   "cell_type": "markdown",
   "metadata": {
    "id": "8xGTuntCmSG_"
   },
   "source": [
    "\n",
    "5. Efetue o escalonamento dos atributos"
   ]
  },
  {
   "cell_type": "code",
   "execution_count": 9,
   "metadata": {
    "id": "08wpXX3skNv-"
   },
   "outputs": [],
   "source": [
    "X_train_std = (X_train - np.mean(X_train))/np.std(X_train)\n",
    "X_test_std = (X_test - np.mean(X_train))/np.std(X_train)"
   ]
  },
  {
   "cell_type": "markdown",
   "metadata": {
    "id": "BIJ6AlA8lEhm"
   },
   "source": [
    "### Continuando\n",
    "\n",
    "5. Treine uma rede neural multilayer perceptron para este problema com uma única camada e dez neurônios  \n",
    "    5.1 Utilize a função de ativação ReLU  \n",
    "    5.2 Utilize o solver Adam    \n",
    "    5.3 Imprima o passo a passo do treinamento    \n",
    "    5.4 Utilize o número máximo de épocas igual a 300  "
   ]
  },
  {
   "cell_type": "code",
   "execution_count": 10,
   "metadata": {
    "id": "joXvQBOwkNv_"
   },
   "outputs": [],
   "source": [
    "mlp = MLPClassifier(hidden_layer_sizes=(10,), max_iter=300, activation='relu', solver='adam', verbose=True, random_state=1)"
   ]
  },
  {
   "cell_type": "code",
   "execution_count": 11,
   "metadata": {
    "colab": {
     "base_uri": "https://localhost:8080/"
    },
    "executionInfo": {
     "elapsed": 107136,
     "status": "ok",
     "timestamp": 1638265197062,
     "user": {
      "displayName": "José Max Dias Figueira Junior",
      "photoUrl": "https://lh3.googleusercontent.com/a-/AOh14GiUkfqsRDxLzojLYrGgsXG_cTc15Dnqg5KFX8QqCQ=s64",
      "userId": "07239097205257965617"
     },
     "user_tz": 240
    },
    "id": "gcPPHlAdkNv_",
    "outputId": "2ee17bfb-80b1-443a-d891-ae2cd75ec82f"
   },
   "outputs": [
    {
     "name": "stdout",
     "output_type": "stream",
     "text": [
      "Iteration 1, loss = 2.21447723\n",
      "Iteration 2, loss = 1.94400272\n",
      "Iteration 3, loss = 1.77019974\n",
      "Iteration 4, loss = 1.62579117\n",
      "Iteration 5, loss = 1.49214005\n",
      "Iteration 6, loss = 1.37529111\n",
      "Iteration 7, loss = 1.27653501\n",
      "Iteration 8, loss = 1.19636778\n",
      "Iteration 9, loss = 1.13256787\n",
      "Iteration 10, loss = 1.08051907\n",
      "Iteration 11, loss = 1.03717392\n",
      "Iteration 12, loss = 1.00009078\n",
      "Iteration 13, loss = 0.96791218\n",
      "Iteration 14, loss = 0.93909701\n",
      "Iteration 15, loss = 0.91287903\n",
      "Iteration 16, loss = 0.88884546\n",
      "Iteration 17, loss = 0.86703478\n",
      "Iteration 18, loss = 0.84693598\n",
      "Iteration 19, loss = 0.82872956\n",
      "Iteration 20, loss = 0.81163038\n",
      "Iteration 21, loss = 0.79588132\n",
      "Iteration 22, loss = 0.78160997\n",
      "Iteration 23, loss = 0.76811067\n",
      "Iteration 24, loss = 0.75601877\n",
      "Iteration 25, loss = 0.74413488\n",
      "Iteration 26, loss = 0.73354161\n",
      "Iteration 27, loss = 0.72352787\n",
      "Iteration 28, loss = 0.71376392\n",
      "Iteration 29, loss = 0.70491903\n",
      "Iteration 30, loss = 0.69662127\n",
      "Iteration 31, loss = 0.68850440\n",
      "Iteration 32, loss = 0.68147026\n",
      "Iteration 33, loss = 0.67429306\n",
      "Iteration 34, loss = 0.66810270\n",
      "Iteration 35, loss = 0.66181848\n",
      "Iteration 36, loss = 0.65575033\n",
      "Iteration 37, loss = 0.65032816\n",
      "Iteration 38, loss = 0.64518688\n",
      "Iteration 39, loss = 0.64024381\n",
      "Iteration 40, loss = 0.63568061\n",
      "Iteration 41, loss = 0.63110174\n",
      "Iteration 42, loss = 0.62671023\n",
      "Iteration 43, loss = 0.62271080\n",
      "Iteration 44, loss = 0.61907647\n",
      "Iteration 45, loss = 0.61543105\n",
      "Iteration 46, loss = 0.61164637\n",
      "Iteration 47, loss = 0.60845725\n",
      "Iteration 48, loss = 0.60538949\n",
      "Iteration 49, loss = 0.60254038\n",
      "Iteration 50, loss = 0.59925417\n",
      "Iteration 51, loss = 0.59695169\n",
      "Iteration 52, loss = 0.59399609\n",
      "Iteration 53, loss = 0.59160340\n",
      "Iteration 54, loss = 0.58951731\n",
      "Iteration 55, loss = 0.58699777\n",
      "Iteration 56, loss = 0.58487571\n",
      "Iteration 57, loss = 0.58270915\n",
      "Iteration 58, loss = 0.58072736\n",
      "Iteration 59, loss = 0.57902220\n",
      "Iteration 60, loss = 0.57675128\n",
      "Iteration 61, loss = 0.57508540\n",
      "Iteration 62, loss = 0.57349718\n",
      "Iteration 63, loss = 0.57168374\n",
      "Iteration 64, loss = 0.57009942\n",
      "Iteration 65, loss = 0.56872874\n",
      "Iteration 66, loss = 0.56729347\n",
      "Iteration 67, loss = 0.56571877\n",
      "Iteration 68, loss = 0.56397599\n",
      "Iteration 69, loss = 0.56277696\n",
      "Iteration 70, loss = 0.56136293\n",
      "Iteration 71, loss = 0.56054861\n",
      "Iteration 72, loss = 0.55954573\n",
      "Iteration 73, loss = 0.55761768\n",
      "Iteration 74, loss = 0.55673932\n",
      "Iteration 75, loss = 0.55567128\n",
      "Iteration 76, loss = 0.55458154\n",
      "Iteration 77, loss = 0.55325239\n",
      "Iteration 78, loss = 0.55256336\n",
      "Iteration 79, loss = 0.55138125\n",
      "Iteration 80, loss = 0.55060716\n",
      "Iteration 81, loss = 0.54932363\n",
      "Iteration 82, loss = 0.54846909\n",
      "Iteration 83, loss = 0.54758123\n",
      "Iteration 84, loss = 0.54663689\n",
      "Iteration 85, loss = 0.54598775\n",
      "Iteration 86, loss = 0.54502170\n",
      "Iteration 87, loss = 0.54448926\n",
      "Iteration 88, loss = 0.54357804\n",
      "Iteration 89, loss = 0.54284100\n",
      "Iteration 90, loss = 0.54204370\n",
      "Iteration 91, loss = 0.54108937\n",
      "Iteration 92, loss = 0.54080847\n",
      "Iteration 93, loss = 0.54007274\n",
      "Iteration 94, loss = 0.53942533\n",
      "Iteration 95, loss = 0.53835522\n",
      "Iteration 96, loss = 0.53841867\n",
      "Iteration 97, loss = 0.53728894\n",
      "Iteration 98, loss = 0.53671738\n",
      "Iteration 99, loss = 0.53627621\n",
      "Iteration 100, loss = 0.53553348\n",
      "Iteration 101, loss = 0.53495172\n",
      "Iteration 102, loss = 0.53417822\n",
      "Iteration 103, loss = 0.53430773\n",
      "Iteration 104, loss = 0.53335341\n",
      "Iteration 105, loss = 0.53279338\n",
      "Iteration 106, loss = 0.53195344\n",
      "Iteration 107, loss = 0.53160895\n",
      "Iteration 108, loss = 0.53086964\n",
      "Iteration 109, loss = 0.53137402\n",
      "Iteration 110, loss = 0.53023638\n",
      "Iteration 111, loss = 0.52937134\n",
      "Iteration 112, loss = 0.52916831\n",
      "Iteration 113, loss = 0.52901541\n",
      "Iteration 114, loss = 0.52821909\n",
      "Iteration 115, loss = 0.52797829\n",
      "Iteration 116, loss = 0.52723359\n",
      "Iteration 117, loss = 0.52682392\n",
      "Iteration 118, loss = 0.52660208\n",
      "Iteration 119, loss = 0.52632243\n",
      "Iteration 120, loss = 0.52561743\n",
      "Iteration 121, loss = 0.52528611\n",
      "Iteration 122, loss = 0.52470522\n",
      "Iteration 123, loss = 0.52442485\n",
      "Iteration 124, loss = 0.52433094\n",
      "Iteration 125, loss = 0.52394834\n",
      "Iteration 126, loss = 0.52362151\n",
      "Iteration 127, loss = 0.52320869\n",
      "Iteration 128, loss = 0.52284179\n",
      "Iteration 129, loss = 0.52254122\n",
      "Iteration 130, loss = 0.52182376\n",
      "Iteration 131, loss = 0.52176519\n",
      "Iteration 132, loss = 0.52134903\n",
      "Iteration 133, loss = 0.52109801\n",
      "Iteration 134, loss = 0.52097176\n",
      "Iteration 135, loss = 0.52065201\n",
      "Iteration 136, loss = 0.52040800\n",
      "Iteration 137, loss = 0.52024410\n",
      "Iteration 138, loss = 0.51980166\n",
      "Iteration 139, loss = 0.51958098\n",
      "Iteration 140, loss = 0.51901249\n",
      "Iteration 141, loss = 0.51880271\n",
      "Iteration 142, loss = 0.51869250\n",
      "Iteration 143, loss = 0.51837595\n",
      "Iteration 144, loss = 0.51804442\n",
      "Iteration 145, loss = 0.51808563\n",
      "Iteration 146, loss = 0.51768564\n",
      "Iteration 147, loss = 0.51738313\n",
      "Iteration 148, loss = 0.51712268\n",
      "Iteration 149, loss = 0.51715726\n",
      "Iteration 150, loss = 0.51679973\n",
      "Iteration 151, loss = 0.51655152\n",
      "Iteration 152, loss = 0.51633006\n",
      "Iteration 153, loss = 0.51623502\n",
      "Iteration 154, loss = 0.51593335\n",
      "Iteration 155, loss = 0.51597983\n",
      "Iteration 156, loss = 0.51586200\n",
      "Iteration 157, loss = 0.51528174\n",
      "Iteration 158, loss = 0.51551766\n",
      "Iteration 159, loss = 0.51474219\n",
      "Iteration 160, loss = 0.51521516\n",
      "Iteration 161, loss = 0.51464956\n",
      "Iteration 162, loss = 0.51445865\n",
      "Iteration 163, loss = 0.51420311\n",
      "Iteration 164, loss = 0.51422415\n",
      "Iteration 165, loss = 0.51404669\n",
      "Iteration 166, loss = 0.51399138\n",
      "Iteration 167, loss = 0.51379318\n",
      "Iteration 168, loss = 0.51368474\n",
      "Iteration 169, loss = 0.51325668\n",
      "Iteration 170, loss = 0.51343179\n",
      "Iteration 171, loss = 0.51300648\n",
      "Iteration 172, loss = 0.51278510\n",
      "Iteration 173, loss = 0.51269393\n",
      "Iteration 174, loss = 0.51244021\n",
      "Iteration 175, loss = 0.51259507\n",
      "Iteration 176, loss = 0.51205150\n",
      "Iteration 177, loss = 0.51173784\n",
      "Iteration 178, loss = 0.51203193\n",
      "Iteration 179, loss = 0.51152212\n",
      "Iteration 180, loss = 0.51148865\n",
      "Iteration 181, loss = 0.51142480\n",
      "Iteration 182, loss = 0.51131680\n",
      "Iteration 183, loss = 0.51138638\n",
      "Iteration 184, loss = 0.51064587\n",
      "Iteration 185, loss = 0.51080026\n",
      "Iteration 186, loss = 0.51047486\n",
      "Iteration 187, loss = 0.51051300\n",
      "Iteration 188, loss = 0.51032848\n",
      "Iteration 189, loss = 0.51021489\n",
      "Iteration 190, loss = 0.50971535\n",
      "Iteration 191, loss = 0.50985904\n",
      "Iteration 192, loss = 0.50937806\n",
      "Iteration 193, loss = 0.50968759\n",
      "Iteration 194, loss = 0.50891596\n",
      "Iteration 195, loss = 0.50909632\n",
      "Iteration 196, loss = 0.50881140\n",
      "Iteration 197, loss = 0.50867065\n",
      "Iteration 198, loss = 0.50886132\n",
      "Iteration 199, loss = 0.50852765\n",
      "Iteration 200, loss = 0.50877675\n",
      "Iteration 201, loss = 0.50792884\n",
      "Iteration 202, loss = 0.50794927\n",
      "Iteration 203, loss = 0.50813216\n",
      "Iteration 204, loss = 0.50795414\n",
      "Iteration 205, loss = 0.50759072\n",
      "Iteration 206, loss = 0.50725854\n",
      "Iteration 207, loss = 0.50718323\n",
      "Iteration 208, loss = 0.50731465\n",
      "Iteration 209, loss = 0.50673247\n",
      "Iteration 210, loss = 0.50678100\n",
      "Iteration 211, loss = 0.50668190\n",
      "Iteration 212, loss = 0.50665703\n",
      "Iteration 213, loss = 0.50652504\n",
      "Iteration 214, loss = 0.50617842\n",
      "Iteration 215, loss = 0.50602297\n",
      "Iteration 216, loss = 0.50609322\n",
      "Iteration 217, loss = 0.50613020\n",
      "Iteration 218, loss = 0.50569255\n",
      "Iteration 219, loss = 0.50518238\n",
      "Iteration 220, loss = 0.50555610\n",
      "Iteration 221, loss = 0.50528986\n",
      "Iteration 222, loss = 0.50523220\n",
      "Iteration 223, loss = 0.50472922\n",
      "Iteration 224, loss = 0.50495235\n",
      "Iteration 225, loss = 0.50489796\n",
      "Iteration 226, loss = 0.50482795\n",
      "Iteration 227, loss = 0.50468568\n",
      "Iteration 228, loss = 0.50450607\n",
      "Iteration 229, loss = 0.50440579\n",
      "Iteration 230, loss = 0.50460933\n",
      "Iteration 231, loss = 0.50413347\n",
      "Iteration 232, loss = 0.50407259\n",
      "Iteration 233, loss = 0.50404384\n",
      "Iteration 234, loss = 0.50361711\n",
      "Iteration 235, loss = 0.50361012\n",
      "Iteration 236, loss = 0.50343867\n",
      "Iteration 237, loss = 0.50351872\n",
      "Iteration 238, loss = 0.50320385\n",
      "Iteration 239, loss = 0.50333582\n",
      "Iteration 240, loss = 0.50314507\n",
      "Iteration 241, loss = 0.50313132\n",
      "Iteration 242, loss = 0.50285613\n",
      "Iteration 243, loss = 0.50266631\n",
      "Iteration 244, loss = 0.50257191\n",
      "Iteration 245, loss = 0.50268786\n",
      "Iteration 246, loss = 0.50288737\n",
      "Iteration 247, loss = 0.50224910\n",
      "Iteration 248, loss = 0.50261266\n",
      "Iteration 249, loss = 0.50230542\n",
      "Iteration 250, loss = 0.50181873\n",
      "Iteration 251, loss = 0.50227471\n",
      "Iteration 252, loss = 0.50198597\n",
      "Iteration 253, loss = 0.50166877\n",
      "Iteration 254, loss = 0.50161879\n",
      "Iteration 255, loss = 0.50138394\n",
      "Iteration 256, loss = 0.50125299\n",
      "Iteration 257, loss = 0.50100013\n",
      "Iteration 258, loss = 0.50132793\n",
      "Iteration 259, loss = 0.50107955\n",
      "Iteration 260, loss = 0.50121220\n",
      "Iteration 261, loss = 0.50071928\n",
      "Iteration 262, loss = 0.50068480\n",
      "Iteration 263, loss = 0.50065339\n",
      "Iteration 264, loss = 0.50072320\n",
      "Iteration 265, loss = 0.50034464\n",
      "Iteration 266, loss = 0.50041945\n",
      "Iteration 267, loss = 0.50043738\n",
      "Iteration 268, loss = 0.50025987\n",
      "Iteration 269, loss = 0.50022692\n",
      "Iteration 270, loss = 0.50018531\n",
      "Iteration 271, loss = 0.49978636\n",
      "Iteration 272, loss = 0.49993931\n",
      "Iteration 273, loss = 0.49988761\n",
      "Iteration 274, loss = 0.50007857\n",
      "Iteration 275, loss = 0.49939092\n",
      "Iteration 276, loss = 0.49950408\n",
      "Iteration 277, loss = 0.49951461\n",
      "Iteration 278, loss = 0.49944577\n",
      "Iteration 279, loss = 0.49919311\n",
      "Iteration 280, loss = 0.49904289\n",
      "Iteration 281, loss = 0.49920821\n",
      "Iteration 282, loss = 0.49892366\n",
      "Iteration 283, loss = 0.49898204\n",
      "Iteration 284, loss = 0.49882473\n",
      "Iteration 285, loss = 0.49848988\n",
      "Iteration 286, loss = 0.49856722\n",
      "Iteration 287, loss = 0.49843722\n",
      "Iteration 288, loss = 0.49837578\n",
      "Iteration 289, loss = 0.49818648\n",
      "Iteration 290, loss = 0.49832504\n",
      "Iteration 291, loss = 0.49827600\n",
      "Iteration 292, loss = 0.49809031\n",
      "Iteration 293, loss = 0.49780605\n",
      "Iteration 294, loss = 0.49780982\n",
      "Iteration 295, loss = 0.49765202\n",
      "Iteration 296, loss = 0.49769617\n",
      "Iteration 297, loss = 0.49792213\n",
      "Iteration 298, loss = 0.49755558\n",
      "Iteration 299, loss = 0.49767494\n",
      "Iteration 300, loss = 0.49774774\n"
     ]
    },
    {
     "data": {
      "text/plain": [
       "MLPClassifier(hidden_layer_sizes=(10,), max_iter=300, random_state=1,\n",
       "              verbose=True)"
      ]
     },
     "execution_count": 11,
     "metadata": {},
     "output_type": "execute_result"
    }
   ],
   "source": [
    "mlp.fit(X_train_std, y_train.values.ravel())"
   ]
  },
  {
   "cell_type": "markdown",
   "metadata": {
    "id": "OYboeij0lSa4"
   },
   "source": [
    "6. Com o modelo em questão, após o treinamento, apresente:  \n",
    "    6.1 Matriz de confusão para o conjunto de teste  \n",
    "    6.2 Acurácia  \n",
    "    6.3 F-Score  \n",
    "    6.4 Precisão  \n",
    "    6.5 Revocação  "
   ]
  },
  {
   "cell_type": "code",
   "execution_count": 12,
   "metadata": {
    "id": "meoegYeYkNv_"
   },
   "outputs": [],
   "source": [
    "y_pred = mlp.predict(X_test_std)"
   ]
  },
  {
   "cell_type": "code",
   "execution_count": 13,
   "metadata": {
    "colab": {
     "base_uri": "https://localhost:8080/",
     "height": 295
    },
    "executionInfo": {
     "elapsed": 862,
     "status": "ok",
     "timestamp": 1638265611737,
     "user": {
      "displayName": "José Max Dias Figueira Junior",
      "photoUrl": "https://lh3.googleusercontent.com/a-/AOh14GiUkfqsRDxLzojLYrGgsXG_cTc15Dnqg5KFX8QqCQ=s64",
      "userId": "07239097205257965617"
     },
     "user_tz": 240
    },
    "id": "NMesNEDokNwA",
    "outputId": "8be772f8-de60-4d0d-8b34-2fe6a05eab56"
   },
   "outputs": [
    {
     "data": {
      "image/png": "[encoded data removed]",
      "text/plain": [
       "<Figure size 432x288 with 2 Axes>"
      ]
     },
     "metadata": {
      "needs_background": "light"
     },
     "output_type": "display_data"
    }
   ],
   "source": [
    "matrix = ConfusionMatrixDisplay.from_predictions(y_test, y_pred)\n",
    "plt.title('Matriz de confusão para o conjunto de teste')\n",
    "plt.show(matrix)\n",
    "plt.show()"
   ]
  },
  {
   "cell_type": "code",
   "execution_count": 14,
   "metadata": {
    "colab": {
     "base_uri": "https://localhost:8080/"
    },
    "executionInfo": {
     "elapsed": 488,
     "status": "ok",
     "timestamp": 1638265617283,
     "user": {
      "displayName": "José Max Dias Figueira Junior",
      "photoUrl": "https://lh3.googleusercontent.com/a-/AOh14GiUkfqsRDxLzojLYrGgsXG_cTc15Dnqg5KFX8QqCQ=s64",
      "userId": "07239097205257965617"
     },
     "user_tz": 240
    },
    "id": "xGlAWxsZkNwA",
    "outputId": "82d88737-8752-437e-8e5e-723474e8515f"
   },
   "outputs": [
    {
     "name": "stdout",
     "output_type": "stream",
     "text": [
      "Acurácia: 0.7781244583116658\n",
      "F1-Score: 0.7798074734237663\n",
      "Precisão: 0.7827251344376541\n",
      "Revocação: 0.7781244583116658\n"
     ]
    }
   ],
   "source": [
    "print('Acurácia:', accuracy_score(y_pred, y_test))\n",
    "print('F1-Score:', f1_score(y_pred,y_test, average='weighted'))\n",
    "print('Precisão:', precision_score(y_pred, y_test, average='weighted'))\n",
    "print('Revocação:', recall_score(y_pred, y_test, average='weighted'))"
   ]
  },
  {
   "cell_type": "markdown",
   "metadata": {
    "id": "nP4d8neTlWjt"
   },
   "source": [
    "7. Repita o treinamento da mesma rede anterior sem imprimir o passo a passo (verbose False) por 15 vezes  \n",
    "    7.1 Cada uma destas repetições deve ser feita com uma nova partição Holdout  \n",
    "    7.2 Apresente a média e o desvio padrão da acurácia e do F-Score para o conjunto de treino  "
   ]
  },
  {
   "cell_type": "code",
   "execution_count": 3,
   "metadata": {
    "executionInfo": {
     "elapsed": 294,
     "status": "ok",
     "timestamp": 1638847686330,
     "user": {
      "displayName": "José Max Dias Figueira Junior",
      "photoUrl": "https://lh3.googleusercontent.com/a-/AOh14GiUkfqsRDxLzojLYrGgsXG_cTc15Dnqg5KFX8QqCQ=s64",
      "userId": "07239097205257965617"
     },
     "user_tz": 240
    },
    "id": "eqPw34wV6Qmv"
   },
   "outputs": [],
   "source": [
    "def evaluate_mlp(*args, N=1, train_size=.7, **kwargs):\n",
    "  X, y = args\n",
    "  f1_scores = []\n",
    "  acuracias = []\n",
    "  mlp = None\n",
    "  for i in range(N):\n",
    "    X_train, X_test, y_train, y_test = train_test_split(X, y, train_size=train_size, shuffle=True)\n",
    "\n",
    "    X_train_std = (X_train - np.mean(X_train))/np.std(X_train)\n",
    "    X_test_std = (X_test - np.mean(X_train))/np.std(X_train)\n",
    "\n",
    "    mlp = MLPClassifier(**kwargs)\n",
    "    mlp.fit(X_train_std, y_train)\n",
    "\n",
    "    y_pred=mlp.predict(X_test_std)\n",
    "\n",
    "    acuracias.append(accuracy_score(y_pred, y_test))\n",
    "    f1_scores.append(f1_score(y_pred, y_test, average='weighted'))\n",
    "  return (mlp.get_params(), np.mean(acuracias), np.std(acuracias), np.mean(f1_scores), np.std(f1_scores))"
   ]
  },
  {
   "cell_type": "code",
   "execution_count": 16,
   "metadata": {
    "id": "ARKU1RZF4RLJ"
   },
   "outputs": [],
   "source": [
    "N=15\n",
    "mlp_params_adam = mlp.get_params()\n",
    "mlp_params_adam['verbose'] = False"
   ]
  },
  {
   "cell_type": "code",
   "execution_count": 17,
   "metadata": {
    "id": "lVW2L3rolio2"
   },
   "outputs": [],
   "source": [
    "_, adam_acc_mean, adam_acc_std, adam_f1_mean, adam_f1_std = evaluate_mlp(X, y, N=N, **mlp_params_adam)"
   ]
  },
  {
   "cell_type": "markdown",
   "metadata": {
    "id": "oUwAf_4zFQ2k"
   },
   "source": [
    "23m0s\n",
    "Acurácia - Média:  0.7155972706688697\n",
    "Acurácia - Desvio Padrão :  0.002155649672444464\n",
    "F1-Score - Média:  0.5168943657692464\n",
    "F1-Score - Desvio Padrão:  0.008230984559501947"
   ]
  },
  {
   "cell_type": "markdown",
   "metadata": {
    "id": "q9UfCltxIZxh"
   },
   "source": [
    "23m56s\n",
    "Acurácia - Média:  0.7152962639985313\n",
    "Acurácia - Desvio Padrão :  0.00238822397143433\n",
    "F1-Score - Média:  0.5203633874934127\n",
    "F1-Score - Desvio Padrão:  0.01141224018916451"
   ]
  },
  {
   "cell_type": "code",
   "execution_count": 18,
   "metadata": {
    "colab": {
     "base_uri": "https://localhost:8080/"
    },
    "executionInfo": {
     "elapsed": 473,
     "status": "ok",
     "timestamp": 1638297374070,
     "user": {
      "displayName": "José Max Dias Figueira Junior",
      "photoUrl": "https://lh3.googleusercontent.com/a-/AOh14GiUkfqsRDxLzojLYrGgsXG_cTc15Dnqg5KFX8QqCQ=s64",
      "userId": "07239097205257965617"
     },
     "user_tz": 240
    },
    "id": "7U8YlzwVrzNc",
    "outputId": "0f2f8610-6f10-4c99-ffd2-ad7dc30fe5e2"
   },
   "outputs": [
    {
     "name": "stdout",
     "output_type": "stream",
     "text": [
      "Acurácia - Média:  0.7844918241174093\n",
      "Acurácia - Desvio Padrão :  0.004621598126468234\n",
      "F1-Score - Média:  0.7860139434476939\n",
      "F1-Score - Desvio Padrão:  0.004663513419293073\n"
     ]
    }
   ],
   "source": [
    "print('Acurácia - Média: ', adam_acc_mean)\n",
    "print('Acurácia - Desvio Padrão : ', adam_acc_std)\n",
    "print('F1-Score - Média: ', adam_f1_mean)\n",
    "print('F1-Score - Desvio Padrão: ', adam_f1_std)"
   ]
  },
  {
   "cell_type": "markdown",
   "metadata": {
    "id": "w01fL3g5nJQy"
   },
   "source": [
    "8. Repita por 15 vezes o treinamento desta mesma rede, mas utilizando o otimizador SGD  \n",
    "    8.1 Apresente a média e o desvio padrão da acurácia e do F-Score para o conjunto de treino"
   ]
  },
  {
   "cell_type": "code",
   "execution_count": 19,
   "metadata": {
    "id": "934gBYc911Fe"
   },
   "outputs": [],
   "source": [
    "param_keys = ['hidden_layer_sizes', 'activation', 'max_iter']"
   ]
  },
  {
   "cell_type": "code",
   "execution_count": 20,
   "metadata": {
    "id": "HNVJE_jO11Fj"
   },
   "outputs": [],
   "source": [
    "mlp_params_sgd = { param_key: mlp_params_adam[param_key] for param_key in param_keys }\n",
    "mlp_params_sgd['solver'] = 'sgd'"
   ]
  },
  {
   "cell_type": "code",
   "execution_count": 21,
   "metadata": {
    "id": "4_0WezDR0Yy-"
   },
   "outputs": [],
   "source": [
    "_, sgd_acc_mean, sgd_acc_std, sgd_f1_mean, sgd_f1_std = evaluate_mlp(X, y, N=N, **mlp_params_sgd)"
   ]
  },
  {
   "cell_type": "markdown",
   "metadata": {
    "id": "StShcFJ7XMIR"
   },
   "source": [
    "28m44s\n",
    "Acurácia - Média:  0.7168732023743958\n",
    "Acurácia - Desvio Padrão :  0.0019541708800809333\n",
    "F1-Score - Média:  0.46965596308789714\n",
    "F1-Score - Desvio Padrão:  0.008262353195469531"
   ]
  },
  {
   "cell_type": "markdown",
   "metadata": {
    "id": "RoLfhsAPBMG-"
   },
   "source": [
    "34m\n",
    "Acurácia - Média:  0.7160329080227649\n",
    "Acurácia - Desvio Padrão :  0.0016266547641324695\n",
    "F1-Score - Média:  0.46468009813821104\n",
    "F1-Score - Desvio Padrão:  0.011731148839183107"
   ]
  },
  {
   "cell_type": "code",
   "execution_count": 22,
   "metadata": {
    "colab": {
     "base_uri": "https://localhost:8080/"
    },
    "executionInfo": {
     "elapsed": 307,
     "status": "ok",
     "timestamp": 1638295439328,
     "user": {
      "displayName": "José Max Dias Figueira Junior",
      "photoUrl": "https://lh3.googleusercontent.com/a-/AOh14GiUkfqsRDxLzojLYrGgsXG_cTc15Dnqg5KFX8QqCQ=s64",
      "userId": "07239097205257965617"
     },
     "user_tz": 240
    },
    "id": "vLD4oa3k5ABH",
    "outputId": "07b23672-270c-4a03-ab32-a0a714d47f78"
   },
   "outputs": [
    {
     "name": "stdout",
     "output_type": "stream",
     "text": [
      "Acurácia - Média:  0.7386028774484312\n",
      "Acurácia - Desvio Padrão :  0.00879867636665825\n",
      "F1-Score - Média:  0.7411713766353568\n",
      "F1-Score - Desvio Padrão:  0.008265399501672602\n"
     ]
    }
   ],
   "source": [
    "print('Acurácia - Média: ', sgd_acc_mean)\n",
    "print('Acurácia - Desvio Padrão : ', sgd_acc_std)\n",
    "print('F1-Score - Média: ', sgd_f1_mean)\n",
    "print('F1-Score - Desvio Padrão: ', sgd_f1_std)"
   ]
  },
  {
   "cell_type": "markdown",
   "metadata": {
    "id": "UgmdD9sKltDu"
   },
   "source": [
    "9. Houve influência da escolha do otimizador no desempenho da rede?"
   ]
  },
  {
   "cell_type": "markdown",
   "metadata": {
    "id": "BjCBSaJnkNwD"
   },
   "source": [
    "Sim. Com otimizador SGD o tempo de treinamento foi maior e o F-Score foi menor em relação ao otimizador ADAM. Em termos de Acurácia, os resultados são semelhantes com ambos os otimizadores."
   ]
  },
  {
   "cell_type": "markdown",
   "metadata": {
    "id": "wvDRcqqSkNv5"
   },
   "source": [
    "## Discussão\n",
    "\n",
    "Nos passos anteriores, você avaliou o desempenho de uma única rede neural que contém os seguintes parâmetros: uma única camada oculta com 10 neurônios e função de ativação ReLU. O otimizador utilizado, quer seja SGD ou ADAM, trata-se do algoritmo para aproximar o gradiente do erro. Neste sentido, a escolha do otimizador é um hiperparâmetro, pois diz respeito a como a rede neural definida previamente atuará \"em tempo de execução\"  durante o processo de treinamento. Também são hiperparâmetros a quantidade de épocas, a taxa de aprendizado inicial, dentre outros.\n",
    "\n",
    "Cabe alientar também que você efetuou o treinamento desta rede por 15 vezes e apresentou os resultados em termos de média +- desvio padrão. Lembre-se que em uma rede neural há a inicialização aleatória de pesos e, em consequência, o desempenho delas está sujeito à uma flutuação estocástica. A execução destas múltiplas vezes faz com que eliminemos algum viés introduzido por uma boa ou má \"sorte\" na escolha de pesos no caso de uma única execução.\n",
    "\n",
    "Você também aprendeu uma estratégia para escalonar os atributos para uma melhor convergência da rede. Utilize-a em todos os treinamentos e testes propostos a seguir.\n",
    "\n",
    "## Propondo Novas Arquiteturas\n",
    "\n",
    "Variando  os parâmetros (uma ou duas camadas ocultas, com diferente números de neurônios em cada uma delas e a função de ativação) e o hiperparâmetros solver (Adam ou SGD) e o número de épocas (100,150 e 200), atenda ao que se pede:\n",
    "\n",
    "1. Proponha 10 arquiteturas distintas de RNAs para o problema em questão, à sua escolha\n",
    "2. Avalie cada uma das arquiteturas perante todos os hiperparâmetros apresentados por 15 vezes\n",
    "3. Como resultado da avaliação, apresente:  \n",
    "    3.1 Top-3 melhores redes no tocante à F-Score e Acurácia  \n",
    "    3.2 Repetição em que houve o melhor desempenho de cada uma dessas redes: ilustre tp, tf, fp e fn  "
   ]
  },
  {
   "cell_type": "code",
   "execution_count": 23,
   "metadata": {
    "id": "CmMpCRTdP2re"
   },
   "outputs": [],
   "source": [
    "hidden_layer_sizes_list = [\n",
    "                 (5,),(10,),(15,),\n",
    "                 (5,5),(10,10),(15,15),\n",
    "                 (10,5),(15,5),(15,10),\n",
    "                 (5,10)\n",
    "                 ]\n"
   ]
  },
  {
   "cell_type": "code",
   "execution_count": 24,
   "metadata": {
    "id": "FSa8WxnnkNv6"
   },
   "outputs": [],
   "source": [
    "solvers = ['adam', 'sgd']\n",
    "max_iters = [100, 150, 200]"
   ]
  },
  {
   "cell_type": "code",
   "execution_count": 25,
   "metadata": {
    "executionInfo": {
     "elapsed": 307,
     "status": "ok",
     "timestamp": 1638849983631,
     "user": {
      "displayName": "José Max Dias Figueira Junior",
      "photoUrl": "https://lh3.googleusercontent.com/a-/AOh14GiUkfqsRDxLzojLYrGgsXG_cTc15Dnqg5KFX8QqCQ=s64",
      "userId": "07239097205257965617"
     },
     "user_tz": 240
    },
    "id": "KhXfj768i4lw"
   },
   "outputs": [],
   "source": [
    "param_keys = ['hidden_layer_sizes', 'activation', 'solver', 'max_iter']"
   ]
  },
  {
   "cell_type": "code",
   "execution_count": 26,
   "metadata": {
    "id": "M30HHGYinKLQ"
   },
   "outputs": [],
   "source": [
    "base_params = {'random_state': 1, 'verbose': False}"
   ]
  },
  {
   "cell_type": "code",
   "execution_count": 27,
   "metadata": {
    "colab": {
     "base_uri": "https://localhost:8080/"
    },
    "executionInfo": {
     "elapsed": 309,
     "status": "ok",
     "timestamp": 1638305809081,
     "user": {
      "displayName": "José Max Dias Figueira Junior",
      "photoUrl": "https://lh3.googleusercontent.com/a-/AOh14GiUkfqsRDxLzojLYrGgsXG_cTc15Dnqg5KFX8QqCQ=s64",
      "userId": "07239097205257965617"
     },
     "user_tz": 240
    },
    "id": "TV1ZEfGx6A7l",
    "outputId": "84642a8a-ef75-40ad-a6c6-fb01d07eb189"
   },
   "outputs": [
    {
     "name": "stdout",
     "output_type": "stream",
     "text": [
      "{'random_state': 1, 'verbose': False, 'hidden_layer_sizes': (5,), 'activation': 'relu', 'solver': 'adam', 'max_iter': 100}\n",
      "{'random_state': 1, 'verbose': False, 'hidden_layer_sizes': (5,), 'activation': 'relu', 'solver': 'adam', 'max_iter': 150}\n",
      "{'random_state': 1, 'verbose': False, 'hidden_layer_sizes': (5,), 'activation': 'relu', 'solver': 'adam', 'max_iter': 200}\n",
      "{'random_state': 1, 'verbose': False, 'hidden_layer_sizes': (5,), 'activation': 'relu', 'solver': 'sgd', 'max_iter': 100}\n",
      "{'random_state': 1, 'verbose': False, 'hidden_layer_sizes': (5,), 'activation': 'relu', 'solver': 'sgd', 'max_iter': 150}\n",
      "{'random_state': 1, 'verbose': False, 'hidden_layer_sizes': (5,), 'activation': 'relu', 'solver': 'sgd', 'max_iter': 200}\n",
      "{'random_state': 1, 'verbose': False, 'hidden_layer_sizes': (10,), 'activation': 'relu', 'solver': 'adam', 'max_iter': 100}\n",
      "{'random_state': 1, 'verbose': False, 'hidden_layer_sizes': (10,), 'activation': 'relu', 'solver': 'adam', 'max_iter': 150}\n",
      "{'random_state': 1, 'verbose': False, 'hidden_layer_sizes': (10,), 'activation': 'relu', 'solver': 'adam', 'max_iter': 200}\n",
      "{'random_state': 1, 'verbose': False, 'hidden_layer_sizes': (10,), 'activation': 'relu', 'solver': 'sgd', 'max_iter': 100}\n",
      "{'random_state': 1, 'verbose': False, 'hidden_layer_sizes': (10,), 'activation': 'relu', 'solver': 'sgd', 'max_iter': 150}\n",
      "{'random_state': 1, 'verbose': False, 'hidden_layer_sizes': (10,), 'activation': 'relu', 'solver': 'sgd', 'max_iter': 200}\n",
      "{'random_state': 1, 'verbose': False, 'hidden_layer_sizes': (15,), 'activation': 'relu', 'solver': 'adam', 'max_iter': 100}\n",
      "{'random_state': 1, 'verbose': False, 'hidden_layer_sizes': (15,), 'activation': 'relu', 'solver': 'adam', 'max_iter': 150}\n",
      "{'random_state': 1, 'verbose': False, 'hidden_layer_sizes': (15,), 'activation': 'relu', 'solver': 'adam', 'max_iter': 200}\n",
      "{'random_state': 1, 'verbose': False, 'hidden_layer_sizes': (15,), 'activation': 'relu', 'solver': 'sgd', 'max_iter': 100}\n",
      "{'random_state': 1, 'verbose': False, 'hidden_layer_sizes': (15,), 'activation': 'relu', 'solver': 'sgd', 'max_iter': 150}\n",
      "{'random_state': 1, 'verbose': False, 'hidden_layer_sizes': (15,), 'activation': 'relu', 'solver': 'sgd', 'max_iter': 200}\n",
      "{'random_state': 1, 'verbose': False, 'hidden_layer_sizes': (5, 5), 'activation': 'relu', 'solver': 'adam', 'max_iter': 100}\n",
      "{'random_state': 1, 'verbose': False, 'hidden_layer_sizes': (5, 5), 'activation': 'relu', 'solver': 'adam', 'max_iter': 150}\n",
      "{'random_state': 1, 'verbose': False, 'hidden_layer_sizes': (5, 5), 'activation': 'relu', 'solver': 'adam', 'max_iter': 200}\n",
      "{'random_state': 1, 'verbose': False, 'hidden_layer_sizes': (5, 5), 'activation': 'relu', 'solver': 'sgd', 'max_iter': 100}\n",
      "{'random_state': 1, 'verbose': False, 'hidden_layer_sizes': (5, 5), 'activation': 'relu', 'solver': 'sgd', 'max_iter': 150}\n",
      "{'random_state': 1, 'verbose': False, 'hidden_layer_sizes': (5, 5), 'activation': 'relu', 'solver': 'sgd', 'max_iter': 200}\n",
      "{'random_state': 1, 'verbose': False, 'hidden_layer_sizes': (10, 10), 'activation': 'relu', 'solver': 'adam', 'max_iter': 100}\n",
      "{'random_state': 1, 'verbose': False, 'hidden_layer_sizes': (10, 10), 'activation': 'relu', 'solver': 'adam', 'max_iter': 150}\n",
      "{'random_state': 1, 'verbose': False, 'hidden_layer_sizes': (10, 10), 'activation': 'relu', 'solver': 'adam', 'max_iter': 200}\n",
      "{'random_state': 1, 'verbose': False, 'hidden_layer_sizes': (10, 10), 'activation': 'relu', 'solver': 'sgd', 'max_iter': 100}\n",
      "{'random_state': 1, 'verbose': False, 'hidden_layer_sizes': (10, 10), 'activation': 'relu', 'solver': 'sgd', 'max_iter': 150}\n",
      "{'random_state': 1, 'verbose': False, 'hidden_layer_sizes': (10, 10), 'activation': 'relu', 'solver': 'sgd', 'max_iter': 200}\n",
      "{'random_state': 1, 'verbose': False, 'hidden_layer_sizes': (15, 15), 'activation': 'relu', 'solver': 'adam', 'max_iter': 100}\n",
      "{'random_state': 1, 'verbose': False, 'hidden_layer_sizes': (15, 15), 'activation': 'relu', 'solver': 'adam', 'max_iter': 150}\n",
      "{'random_state': 1, 'verbose': False, 'hidden_layer_sizes': (15, 15), 'activation': 'relu', 'solver': 'adam', 'max_iter': 200}\n",
      "{'random_state': 1, 'verbose': False, 'hidden_layer_sizes': (15, 15), 'activation': 'relu', 'solver': 'sgd', 'max_iter': 100}\n",
      "{'random_state': 1, 'verbose': False, 'hidden_layer_sizes': (15, 15), 'activation': 'relu', 'solver': 'sgd', 'max_iter': 150}\n",
      "{'random_state': 1, 'verbose': False, 'hidden_layer_sizes': (15, 15), 'activation': 'relu', 'solver': 'sgd', 'max_iter': 200}\n",
      "{'random_state': 1, 'verbose': False, 'hidden_layer_sizes': (10, 5), 'activation': 'relu', 'solver': 'adam', 'max_iter': 100}\n",
      "{'random_state': 1, 'verbose': False, 'hidden_layer_sizes': (10, 5), 'activation': 'relu', 'solver': 'adam', 'max_iter': 150}\n",
      "{'random_state': 1, 'verbose': False, 'hidden_layer_sizes': (10, 5), 'activation': 'relu', 'solver': 'adam', 'max_iter': 200}\n",
      "{'random_state': 1, 'verbose': False, 'hidden_layer_sizes': (10, 5), 'activation': 'relu', 'solver': 'sgd', 'max_iter': 100}\n",
      "{'random_state': 1, 'verbose': False, 'hidden_layer_sizes': (10, 5), 'activation': 'relu', 'solver': 'sgd', 'max_iter': 150}\n",
      "{'random_state': 1, 'verbose': False, 'hidden_layer_sizes': (10, 5), 'activation': 'relu', 'solver': 'sgd', 'max_iter': 200}\n",
      "{'random_state': 1, 'verbose': False, 'hidden_layer_sizes': (15, 5), 'activation': 'relu', 'solver': 'adam', 'max_iter': 100}\n",
      "{'random_state': 1, 'verbose': False, 'hidden_layer_sizes': (15, 5), 'activation': 'relu', 'solver': 'adam', 'max_iter': 150}\n",
      "{'random_state': 1, 'verbose': False, 'hidden_layer_sizes': (15, 5), 'activation': 'relu', 'solver': 'adam', 'max_iter': 200}\n",
      "{'random_state': 1, 'verbose': False, 'hidden_layer_sizes': (15, 5), 'activation': 'relu', 'solver': 'sgd', 'max_iter': 100}\n",
      "{'random_state': 1, 'verbose': False, 'hidden_layer_sizes': (15, 5), 'activation': 'relu', 'solver': 'sgd', 'max_iter': 150}\n",
      "{'random_state': 1, 'verbose': False, 'hidden_layer_sizes': (15, 5), 'activation': 'relu', 'solver': 'sgd', 'max_iter': 200}\n",
      "{'random_state': 1, 'verbose': False, 'hidden_layer_sizes': (15, 10), 'activation': 'relu', 'solver': 'adam', 'max_iter': 100}\n",
      "{'random_state': 1, 'verbose': False, 'hidden_layer_sizes': (15, 10), 'activation': 'relu', 'solver': 'adam', 'max_iter': 150}\n",
      "{'random_state': 1, 'verbose': False, 'hidden_layer_sizes': (15, 10), 'activation': 'relu', 'solver': 'adam', 'max_iter': 200}\n",
      "{'random_state': 1, 'verbose': False, 'hidden_layer_sizes': (15, 10), 'activation': 'relu', 'solver': 'sgd', 'max_iter': 100}\n",
      "{'random_state': 1, 'verbose': False, 'hidden_layer_sizes': (15, 10), 'activation': 'relu', 'solver': 'sgd', 'max_iter': 150}\n",
      "{'random_state': 1, 'verbose': False, 'hidden_layer_sizes': (15, 10), 'activation': 'relu', 'solver': 'sgd', 'max_iter': 200}\n",
      "{'random_state': 1, 'verbose': False, 'hidden_layer_sizes': (5, 10), 'activation': 'relu', 'solver': 'adam', 'max_iter': 100}\n",
      "{'random_state': 1, 'verbose': False, 'hidden_layer_sizes': (5, 10), 'activation': 'relu', 'solver': 'adam', 'max_iter': 150}\n",
      "{'random_state': 1, 'verbose': False, 'hidden_layer_sizes': (5, 10), 'activation': 'relu', 'solver': 'adam', 'max_iter': 200}\n",
      "{'random_state': 1, 'verbose': False, 'hidden_layer_sizes': (5, 10), 'activation': 'relu', 'solver': 'sgd', 'max_iter': 100}\n",
      "{'random_state': 1, 'verbose': False, 'hidden_layer_sizes': (5, 10), 'activation': 'relu', 'solver': 'sgd', 'max_iter': 150}\n",
      "{'random_state': 1, 'verbose': False, 'hidden_layer_sizes': (5, 10), 'activation': 'relu', 'solver': 'sgd', 'max_iter': 200}\n"
     ]
    }
   ],
   "source": [
    "results = []\n",
    "for hidden_layer_sizes in hidden_layer_sizes_list:\n",
    "  params = base_params.copy()\n",
    "  params['hidden_layer_sizes'] = hidden_layer_sizes\n",
    "  params['activation'] = 'relu'\n",
    "  for s in solvers:\n",
    "    params['solver'] = s\n",
    "    for i in max_iters:\n",
    "      params['max_iter'] = i\n",
    "      print(params)\n",
    "      mlp_params_all, acc_mean, acc_std, f1s_mean, f1s_std = evaluate_mlp(X, y, N=N, **params)\n",
    "      summarized_mlp_params = { param_key: mlp_params_all[param_key] for param_key in param_keys }\n",
    "      results.append((summarized_mlp_params.values(), acc_mean, acc_std, f1s_mean, f1s_std))"
   ]
  },
  {
   "cell_type": "code",
   "execution_count": 28,
   "metadata": {
    "colab": {
     "base_uri": "https://localhost:8080/"
    },
    "executionInfo": {
     "elapsed": 25,
     "status": "ok",
     "timestamp": 1638834093491,
     "user": {
      "displayName": "José Max Dias Figueira Junior",
      "photoUrl": "https://lh3.googleusercontent.com/a-/AOh14GiUkfqsRDxLzojLYrGgsXG_cTc15Dnqg5KFX8QqCQ=s64",
      "userId": "07239097205257965617"
     },
     "user_tz": 240
    },
    "id": "Y482NSSnMK3i",
    "outputId": "ee392cc3-6c3b-42ae-afe8-ea7bb6376a3c"
   },
   "outputs": [
    {
     "data": {
      "text/plain": [
       "[(dict_values([(5,), 'relu', 'adam', 100]),\n",
       "  0.715121049286416,\n",
       "  0.005123318492208162,\n",
       "  0.7191541811500409,\n",
       "  0.004876718164884206),\n",
       " (dict_values([(5,), 'relu', 'adam', 150]),\n",
       "  0.7236493904200612,\n",
       "  0.005824668596555305,\n",
       "  0.7259578363246543,\n",
       "  0.0054732803125856705),\n",
       " (dict_values([(5,), 'relu', 'adam', 200]),\n",
       "  0.7303403247241,\n",
       "  0.004832709510061077,\n",
       "  0.7322567987198315,\n",
       "  0.00455666273674572),\n",
       " (dict_values([(5,), 'relu', 'sgd', 100]),\n",
       "  0.631374588316866,\n",
       "  0.007256259052614434,\n",
       "  0.6464861701938358,\n",
       "  0.005630722496520147),\n",
       " (dict_values([(5,), 'relu', 'sgd', 150]),\n",
       "  0.6645403593921534,\n",
       "  0.0056773340596060875,\n",
       "  0.674331211433234,\n",
       "  0.005267931449069522),\n",
       " (dict_values([(5,), 'relu', 'sgd', 200]),\n",
       "  0.6795169584561161,\n",
       "  0.004002054349692193,\n",
       "  0.6869803407937958,\n",
       "  0.0042830639134400815),\n",
       " (dict_values([(10,), 'relu', 'adam', 100]),\n",
       "  0.769099208412781,\n",
       "  0.0050256588631228125,\n",
       "  0.7704518424473453,\n",
       "  0.004866355706544726),\n",
       " (dict_values([(10,), 'relu', 'adam', 150]),\n",
       "  0.7748772173109147,\n",
       "  0.005323349556892935,\n",
       "  0.7762034636517854,\n",
       "  0.00543900066340853),\n",
       " (dict_values([(10,), 'relu', 'adam', 200]),\n",
       "  0.7786560351302941,\n",
       "  0.0051469574415967,\n",
       "  0.7797315906807845,\n",
       "  0.004651044905405886),\n",
       " (dict_values([(10,), 'relu', 'sgd', 100]),\n",
       "  0.6917778933379558,\n",
       "  0.005999298597683585,\n",
       "  0.6982669644952463,\n",
       "  0.0057666183961364624),\n",
       " (dict_values([(10,), 'relu', 'sgd', 150]),\n",
       "  0.7090656959611717,\n",
       "  0.004408798745329324,\n",
       "  0.7142348182700945,\n",
       "  0.0041763357999825175),\n",
       " (dict_values([(10,), 'relu', 'sgd', 200]),\n",
       "  0.723464494135321,\n",
       "  0.006378565921758702,\n",
       "  0.7270670712762031,\n",
       "  0.005921191856794693),\n",
       " (dict_values([(15,), 'relu', 'adam', 100]),\n",
       "  0.7770728606922055,\n",
       "  0.008795594802910334,\n",
       "  0.7779782658288863,\n",
       "  0.008665855916312828),\n",
       " (dict_values([(15,), 'relu', 'adam', 150]),\n",
       "  0.7877159530825677,\n",
       "  0.00710699792023131,\n",
       "  0.78859210026551,\n",
       "  0.007247060724596463),\n",
       " (dict_values([(15,), 'relu', 'adam', 200]),\n",
       "  0.7959438377535101,\n",
       "  0.005786277091082354,\n",
       "  0.7965228972031405,\n",
       "  0.005622667229546884),\n",
       " (dict_values([(15,), 'relu', 'sgd', 100]),\n",
       "  0.7033916912232044,\n",
       "  0.004682911352211669,\n",
       "  0.7094573036414047,\n",
       "  0.004553177597686516),\n",
       " (dict_values([(15,), 'relu', 'sgd', 150]),\n",
       "  0.7192927717108684,\n",
       "  0.005122510399859531,\n",
       "  0.7231134542028393,\n",
       "  0.005034785065104091),\n",
       " (dict_values([(15,), 'relu', 'sgd', 200]),\n",
       "  0.7287802623216039,\n",
       "  0.005067415922517875,\n",
       "  0.7314483559473927,\n",
       "  0.005134761374910084),\n",
       " (dict_values([(5, 5), 'relu', 'adam', 100]),\n",
       "  0.7263072745132028,\n",
       "  0.005595237180095342,\n",
       "  0.7282495258143856,\n",
       "  0.005354566223703663),\n",
       " (dict_values([(5, 5), 'relu', 'adam', 150]),\n",
       "  0.727659328595366,\n",
       "  0.0050230275513994515,\n",
       "  0.7293588092206597,\n",
       "  0.004776377554919064),\n",
       " (dict_values([(5, 5), 'relu', 'adam', 200]),\n",
       "  0.735910325301901,\n",
       "  0.00538745961851486,\n",
       "  0.7370303700044919,\n",
       "  0.005956074295127515),\n",
       " (dict_values([(5, 5), 'relu', 'sgd', 100]),\n",
       "  0.6694632229733632,\n",
       "  0.004332751614657833,\n",
       "  0.6803248678092059,\n",
       "  0.005811119562690602),\n",
       " (dict_values([(5, 5), 'relu', 'sgd', 150]),\n",
       "  0.6819321661755359,\n",
       "  0.0065084493523553935,\n",
       "  0.6881754690911728,\n",
       "  0.008671576210397795),\n",
       " (dict_values([(5, 5), 'relu', 'sgd', 200]),\n",
       "  0.6937655283989137,\n",
       "  0.005153647091528327,\n",
       "  0.7016042307223914,\n",
       "  0.006971087189041853),\n",
       " (dict_values([(10, 10), 'relu', 'adam', 100]),\n",
       "  0.7830010978216907,\n",
       "  0.005981576096978887,\n",
       "  0.7837530125413135,\n",
       "  0.005897179945041377),\n",
       " (dict_values([(10, 10), 'relu', 'adam', 150]),\n",
       "  0.7959669497891028,\n",
       "  0.007967235270025243,\n",
       "  0.7966611090785525,\n",
       "  0.00786122451590397),\n",
       " (dict_values([(10, 10), 'relu', 'adam', 200]),\n",
       "  0.7985208297220778,\n",
       "  0.0047028875241805265,\n",
       "  0.7994948661116642,\n",
       "  0.0049248108087308826),\n",
       " (dict_values([(10, 10), 'relu', 'sgd', 100]),\n",
       "  0.7166926677067083,\n",
       "  0.0057024469252770545,\n",
       "  0.7206542926117427,\n",
       "  0.005412775304441914),\n",
       " (dict_values([(10, 10), 'relu', 'sgd', 150]),\n",
       "  0.735471196625643,\n",
       "  0.005184957382148101,\n",
       "  0.7372441172200356,\n",
       "  0.004718483566129265),\n",
       " (dict_values([(10, 10), 'relu', 'sgd', 200]),\n",
       "  0.7473045588490207,\n",
       "  0.006219736061390685,\n",
       "  0.7485069879226578,\n",
       "  0.006250936631921243),\n",
       " (dict_values([(15, 15), 'relu', 'adam', 100]),\n",
       "  0.8145259143699081,\n",
       "  0.003591672795497793,\n",
       "  0.815029340361235,\n",
       "  0.0033088553859518225),\n",
       " (dict_values([(15, 15), 'relu', 'adam', 150]),\n",
       "  0.8291327208643902,\n",
       "  0.004618129412567488,\n",
       "  0.8294273393113033,\n",
       "  0.004712293256314258),\n",
       " (dict_values([(15, 15), 'relu', 'adam', 200]),\n",
       "  0.835349858438782,\n",
       "  0.00600630625584246,\n",
       "  0.835863317078043,\n",
       "  0.005955325372021317),\n",
       " (dict_values([(15, 15), 'relu', 'sgd', 100]),\n",
       "  0.7428786040330503,\n",
       "  0.004301105735567149,\n",
       "  0.7455695587716096,\n",
       "  0.004282206919902324),\n",
       " (dict_values([(15, 15), 'relu', 'sgd', 150]),\n",
       "  0.7648581498815508,\n",
       "  0.004191761280005247,\n",
       "  0.766703092656727,\n",
       "  0.0037174338796264242),\n",
       " (dict_values([(15, 15), 'relu', 'sgd', 200]),\n",
       "  0.7790027156641821,\n",
       "  0.006259629346992249,\n",
       "  0.780437846768931,\n",
       "  0.006081473750886272),\n",
       " (dict_values([(10, 5), 'relu', 'adam', 100]),\n",
       "  0.7707748309932396,\n",
       "  0.0056770988359739994,\n",
       "  0.7703879174579158,\n",
       "  0.0057622925717216375),\n",
       " (dict_values([(10, 5), 'relu', 'adam', 150]),\n",
       "  0.7759865950193563,\n",
       "  0.006699899679248422,\n",
       "  0.7756855403537799,\n",
       "  0.007175286232527891),\n",
       " (dict_values([(10, 5), 'relu', 'adam', 200]),\n",
       "  0.783197550124227,\n",
       "  0.0046887251661805115,\n",
       "  0.7831895529271306,\n",
       "  0.004510252019959327),\n",
       " (dict_values([(10, 5), 'relu', 'sgd', 100]),\n",
       "  0.6918703414803259,\n",
       "  0.006252371654784867,\n",
       "  0.6981185642765776,\n",
       "  0.006308050481517393),\n",
       " (dict_values([(10, 5), 'relu', 'sgd', 150]),\n",
       "  0.7222511122667129,\n",
       "  0.004524442925575431,\n",
       "  0.725464477283822,\n",
       "  0.005437573304337537),\n",
       " (dict_values([(10, 5), 'relu', 'sgd', 200]),\n",
       "  0.7380828566475992,\n",
       "  0.005101036217563586,\n",
       "  0.7396971404116376,\n",
       "  0.004909961270393459),\n",
       " (dict_values([(15, 5), 'relu', 'adam', 100]),\n",
       "  0.787819957242734,\n",
       "  0.005489704468102671,\n",
       "  0.7880699517961902,\n",
       "  0.005382838568950721),\n",
       " (dict_values([(15, 5), 'relu', 'adam', 150]),\n",
       "  0.795897613682325,\n",
       "  0.008639435332848737,\n",
       "  0.7964556472294607,\n",
       "  0.008666952283093814),\n",
       " (dict_values([(15, 5), 'relu', 'adam', 200]),\n",
       "  0.804795747385451,\n",
       "  0.00636227786674752,\n",
       "  0.8048276599282214,\n",
       "  0.006056333726754149),\n",
       " (dict_values([(15, 5), 'relu', 'sgd', 100]),\n",
       "  0.7235684982954874,\n",
       "  0.004499492497830042,\n",
       "  0.7273795237127502,\n",
       "  0.0043802458179022),\n",
       " (dict_values([(15, 5), 'relu', 'sgd', 150]),\n",
       "  0.7464840815854857,\n",
       "  0.006030935008271538,\n",
       "  0.7483716215465913,\n",
       "  0.006272787666815501),\n",
       " (dict_values([(15, 5), 'relu', 'sgd', 200]),\n",
       "  0.7628358467672041,\n",
       "  0.005636518016805553,\n",
       "  0.7639285618256791,\n",
       "  0.005185577944596793),\n",
       " (dict_values([(15, 10), 'relu', 'adam', 100]),\n",
       "  0.8029583405558446,\n",
       "  0.0049711565551156835,\n",
       "  0.8037663253261859,\n",
       "  0.0046988043478832795),\n",
       " (dict_values([(15, 10), 'relu', 'adam', 150]),\n",
       "  0.8104004160166407,\n",
       "  0.006462345852964831,\n",
       "  0.8109409033306226,\n",
       "  0.006703540611867791),\n",
       " (dict_values([(15, 10), 'relu', 'adam', 200]),\n",
       "  0.820916392211244,\n",
       "  0.004516111862444069,\n",
       "  0.8216754657833658,\n",
       "  0.004557117516960506),\n",
       " (dict_values([(15, 10), 'relu', 'sgd', 100]),\n",
       "  0.7422776911076443,\n",
       "  0.0049528828044105725,\n",
       "  0.7441883525660782,\n",
       "  0.005104620403396225),\n",
       " (dict_values([(15, 10), 'relu', 'sgd', 150]),\n",
       "  0.765204830415439,\n",
       "  0.004853059708314001,\n",
       "  0.766424496205839,\n",
       "  0.00474513024805394),\n",
       " (dict_values([(15, 10), 'relu', 'sgd', 200]),\n",
       "  0.772739354018605,\n",
       "  0.003924012559964746,\n",
       "  0.7734518852893103,\n",
       "  0.0035729719966718443),\n",
       " (dict_values([(5, 10), 'relu', 'adam', 100]),\n",
       "  0.7350320679493846,\n",
       "  0.007252393259385479,\n",
       "  0.7383759402322624,\n",
       "  0.006769445082010526),\n",
       " (dict_values([(5, 10), 'relu', 'adam', 150]),\n",
       "  0.743907089616918,\n",
       "  0.006735721152815775,\n",
       "  0.7471734748181346,\n",
       "  0.006715931871296873),\n",
       " (dict_values([(5, 10), 'relu', 'adam', 200]),\n",
       "  0.7452360316634887,\n",
       "  0.007027864215956599,\n",
       "  0.7487948211069411,\n",
       "  0.0062294653204308294),\n",
       " (dict_values([(5, 10), 'relu', 'sgd', 100]),\n",
       "  0.7025249898884846,\n",
       "  0.006553963681680669,\n",
       "  0.7092837122479395,\n",
       "  0.005645505846384299),\n",
       " (dict_values([(5, 10), 'relu', 'sgd', 150]),\n",
       "  0.7158144103541919,\n",
       "  0.0066051108498813085,\n",
       "  0.7213304771336746,\n",
       "  0.006166082778782073),\n",
       " (dict_values([(5, 10), 'relu', 'sgd', 200]),\n",
       "  0.7239498468827641,\n",
       "  0.004648996156758328,\n",
       "  0.7291151796608768,\n",
       "  0.0046440828756846445)]"
      ]
     },
     "execution_count": 28,
     "metadata": {},
     "output_type": "execute_result"
    }
   ],
   "source": [
    "results"
   ]
  },
  {
   "cell_type": "code",
   "execution_count": 30,
   "metadata": {
    "executionInfo": {
     "elapsed": 324,
     "status": "ok",
     "timestamp": 1638849822627,
     "user": {
      "displayName": "José Max Dias Figueira Junior",
      "photoUrl": "https://lh3.googleusercontent.com/a-/AOh14GiUkfqsRDxLzojLYrGgsXG_cTc15Dnqg5KFX8QqCQ=s64",
      "userId": "07239097205257965617"
     },
     "user_tz": 240
    },
    "id": "Jo0Cecf1K5Tj"
   },
   "outputs": [],
   "source": [
    "df = pd.DataFrame(results, columns=['conf', 'acc_m', 'acc_sd', 'f1s_m', 'f1s_sd'])"
   ]
  },
  {
   "cell_type": "code",
   "execution_count": 32,
   "metadata": {},
   "outputs": [
    {
     "data": {
      "text/html": [
       "<div>\n",
       "<style scoped>\n",
       "    .dataframe tbody tr th:only-of-type {\n",
       "        vertical-align: middle;\n",
       "    }\n",
       "\n",
       "    .dataframe tbody tr th {\n",
       "        vertical-align: top;\n",
       "    }\n",
       "\n",
       "    .dataframe thead th {\n",
       "        text-align: right;\n",
       "    }\n",
       "</style>\n",
       "<table border=\"1\" class=\"dataframe\">\n",
       "  <thead>\n",
       "    <tr style=\"text-align: right;\">\n",
       "      <th></th>\n",
       "      <th>conf</th>\n",
       "      <th>acc_m</th>\n",
       "      <th>acc_sd</th>\n",
       "      <th>f1s_m</th>\n",
       "      <th>f1s_sd</th>\n",
       "    </tr>\n",
       "  </thead>\n",
       "  <tbody>\n",
       "    <tr>\n",
       "      <th>0</th>\n",
       "      <td>((5,), relu, adam, 100)</td>\n",
       "      <td>0.715121</td>\n",
       "      <td>0.005123</td>\n",
       "      <td>0.719154</td>\n",
       "      <td>0.004877</td>\n",
       "    </tr>\n",
       "    <tr>\n",
       "      <th>1</th>\n",
       "      <td>((5,), relu, adam, 150)</td>\n",
       "      <td>0.723649</td>\n",
       "      <td>0.005825</td>\n",
       "      <td>0.725958</td>\n",
       "      <td>0.005473</td>\n",
       "    </tr>\n",
       "    <tr>\n",
       "      <th>2</th>\n",
       "      <td>((5,), relu, adam, 200)</td>\n",
       "      <td>0.730340</td>\n",
       "      <td>0.004833</td>\n",
       "      <td>0.732257</td>\n",
       "      <td>0.004557</td>\n",
       "    </tr>\n",
       "    <tr>\n",
       "      <th>3</th>\n",
       "      <td>((5,), relu, sgd, 100)</td>\n",
       "      <td>0.631375</td>\n",
       "      <td>0.007256</td>\n",
       "      <td>0.646486</td>\n",
       "      <td>0.005631</td>\n",
       "    </tr>\n",
       "    <tr>\n",
       "      <th>4</th>\n",
       "      <td>((5,), relu, sgd, 150)</td>\n",
       "      <td>0.664540</td>\n",
       "      <td>0.005677</td>\n",
       "      <td>0.674331</td>\n",
       "      <td>0.005268</td>\n",
       "    </tr>\n",
       "    <tr>\n",
       "      <th>5</th>\n",
       "      <td>((5,), relu, sgd, 200)</td>\n",
       "      <td>0.679517</td>\n",
       "      <td>0.004002</td>\n",
       "      <td>0.686980</td>\n",
       "      <td>0.004283</td>\n",
       "    </tr>\n",
       "    <tr>\n",
       "      <th>6</th>\n",
       "      <td>((10,), relu, adam, 100)</td>\n",
       "      <td>0.769099</td>\n",
       "      <td>0.005026</td>\n",
       "      <td>0.770452</td>\n",
       "      <td>0.004866</td>\n",
       "    </tr>\n",
       "    <tr>\n",
       "      <th>7</th>\n",
       "      <td>((10,), relu, adam, 150)</td>\n",
       "      <td>0.774877</td>\n",
       "      <td>0.005323</td>\n",
       "      <td>0.776203</td>\n",
       "      <td>0.005439</td>\n",
       "    </tr>\n",
       "    <tr>\n",
       "      <th>8</th>\n",
       "      <td>((10,), relu, adam, 200)</td>\n",
       "      <td>0.778656</td>\n",
       "      <td>0.005147</td>\n",
       "      <td>0.779732</td>\n",
       "      <td>0.004651</td>\n",
       "    </tr>\n",
       "    <tr>\n",
       "      <th>9</th>\n",
       "      <td>((10,), relu, sgd, 100)</td>\n",
       "      <td>0.691778</td>\n",
       "      <td>0.005999</td>\n",
       "      <td>0.698267</td>\n",
       "      <td>0.005767</td>\n",
       "    </tr>\n",
       "    <tr>\n",
       "      <th>10</th>\n",
       "      <td>((10,), relu, sgd, 150)</td>\n",
       "      <td>0.709066</td>\n",
       "      <td>0.004409</td>\n",
       "      <td>0.714235</td>\n",
       "      <td>0.004176</td>\n",
       "    </tr>\n",
       "    <tr>\n",
       "      <th>11</th>\n",
       "      <td>((10,), relu, sgd, 200)</td>\n",
       "      <td>0.723464</td>\n",
       "      <td>0.006379</td>\n",
       "      <td>0.727067</td>\n",
       "      <td>0.005921</td>\n",
       "    </tr>\n",
       "    <tr>\n",
       "      <th>12</th>\n",
       "      <td>((15,), relu, adam, 100)</td>\n",
       "      <td>0.777073</td>\n",
       "      <td>0.008796</td>\n",
       "      <td>0.777978</td>\n",
       "      <td>0.008666</td>\n",
       "    </tr>\n",
       "    <tr>\n",
       "      <th>13</th>\n",
       "      <td>((15,), relu, adam, 150)</td>\n",
       "      <td>0.787716</td>\n",
       "      <td>0.007107</td>\n",
       "      <td>0.788592</td>\n",
       "      <td>0.007247</td>\n",
       "    </tr>\n",
       "    <tr>\n",
       "      <th>14</th>\n",
       "      <td>((15,), relu, adam, 200)</td>\n",
       "      <td>0.795944</td>\n",
       "      <td>0.005786</td>\n",
       "      <td>0.796523</td>\n",
       "      <td>0.005623</td>\n",
       "    </tr>\n",
       "    <tr>\n",
       "      <th>15</th>\n",
       "      <td>((15,), relu, sgd, 100)</td>\n",
       "      <td>0.703392</td>\n",
       "      <td>0.004683</td>\n",
       "      <td>0.709457</td>\n",
       "      <td>0.004553</td>\n",
       "    </tr>\n",
       "    <tr>\n",
       "      <th>16</th>\n",
       "      <td>((15,), relu, sgd, 150)</td>\n",
       "      <td>0.719293</td>\n",
       "      <td>0.005123</td>\n",
       "      <td>0.723113</td>\n",
       "      <td>0.005035</td>\n",
       "    </tr>\n",
       "    <tr>\n",
       "      <th>17</th>\n",
       "      <td>((15,), relu, sgd, 200)</td>\n",
       "      <td>0.728780</td>\n",
       "      <td>0.005067</td>\n",
       "      <td>0.731448</td>\n",
       "      <td>0.005135</td>\n",
       "    </tr>\n",
       "    <tr>\n",
       "      <th>18</th>\n",
       "      <td>((5, 5), relu, adam, 100)</td>\n",
       "      <td>0.726307</td>\n",
       "      <td>0.005595</td>\n",
       "      <td>0.728250</td>\n",
       "      <td>0.005355</td>\n",
       "    </tr>\n",
       "    <tr>\n",
       "      <th>19</th>\n",
       "      <td>((5, 5), relu, adam, 150)</td>\n",
       "      <td>0.727659</td>\n",
       "      <td>0.005023</td>\n",
       "      <td>0.729359</td>\n",
       "      <td>0.004776</td>\n",
       "    </tr>\n",
       "    <tr>\n",
       "      <th>20</th>\n",
       "      <td>((5, 5), relu, adam, 200)</td>\n",
       "      <td>0.735910</td>\n",
       "      <td>0.005387</td>\n",
       "      <td>0.737030</td>\n",
       "      <td>0.005956</td>\n",
       "    </tr>\n",
       "    <tr>\n",
       "      <th>21</th>\n",
       "      <td>((5, 5), relu, sgd, 100)</td>\n",
       "      <td>0.669463</td>\n",
       "      <td>0.004333</td>\n",
       "      <td>0.680325</td>\n",
       "      <td>0.005811</td>\n",
       "    </tr>\n",
       "    <tr>\n",
       "      <th>22</th>\n",
       "      <td>((5, 5), relu, sgd, 150)</td>\n",
       "      <td>0.681932</td>\n",
       "      <td>0.006508</td>\n",
       "      <td>0.688175</td>\n",
       "      <td>0.008672</td>\n",
       "    </tr>\n",
       "    <tr>\n",
       "      <th>23</th>\n",
       "      <td>((5, 5), relu, sgd, 200)</td>\n",
       "      <td>0.693766</td>\n",
       "      <td>0.005154</td>\n",
       "      <td>0.701604</td>\n",
       "      <td>0.006971</td>\n",
       "    </tr>\n",
       "    <tr>\n",
       "      <th>24</th>\n",
       "      <td>((10, 10), relu, adam, 100)</td>\n",
       "      <td>0.783001</td>\n",
       "      <td>0.005982</td>\n",
       "      <td>0.783753</td>\n",
       "      <td>0.005897</td>\n",
       "    </tr>\n",
       "    <tr>\n",
       "      <th>25</th>\n",
       "      <td>((10, 10), relu, adam, 150)</td>\n",
       "      <td>0.795967</td>\n",
       "      <td>0.007967</td>\n",
       "      <td>0.796661</td>\n",
       "      <td>0.007861</td>\n",
       "    </tr>\n",
       "    <tr>\n",
       "      <th>26</th>\n",
       "      <td>((10, 10), relu, adam, 200)</td>\n",
       "      <td>0.798521</td>\n",
       "      <td>0.004703</td>\n",
       "      <td>0.799495</td>\n",
       "      <td>0.004925</td>\n",
       "    </tr>\n",
       "    <tr>\n",
       "      <th>27</th>\n",
       "      <td>((10, 10), relu, sgd, 100)</td>\n",
       "      <td>0.716693</td>\n",
       "      <td>0.005702</td>\n",
       "      <td>0.720654</td>\n",
       "      <td>0.005413</td>\n",
       "    </tr>\n",
       "    <tr>\n",
       "      <th>28</th>\n",
       "      <td>((10, 10), relu, sgd, 150)</td>\n",
       "      <td>0.735471</td>\n",
       "      <td>0.005185</td>\n",
       "      <td>0.737244</td>\n",
       "      <td>0.004718</td>\n",
       "    </tr>\n",
       "    <tr>\n",
       "      <th>29</th>\n",
       "      <td>((10, 10), relu, sgd, 200)</td>\n",
       "      <td>0.747305</td>\n",
       "      <td>0.006220</td>\n",
       "      <td>0.748507</td>\n",
       "      <td>0.006251</td>\n",
       "    </tr>\n",
       "    <tr>\n",
       "      <th>30</th>\n",
       "      <td>((15, 15), relu, adam, 100)</td>\n",
       "      <td>0.814526</td>\n",
       "      <td>0.003592</td>\n",
       "      <td>0.815029</td>\n",
       "      <td>0.003309</td>\n",
       "    </tr>\n",
       "    <tr>\n",
       "      <th>31</th>\n",
       "      <td>((15, 15), relu, adam, 150)</td>\n",
       "      <td>0.829133</td>\n",
       "      <td>0.004618</td>\n",
       "      <td>0.829427</td>\n",
       "      <td>0.004712</td>\n",
       "    </tr>\n",
       "    <tr>\n",
       "      <th>32</th>\n",
       "      <td>((15, 15), relu, adam, 200)</td>\n",
       "      <td>0.835350</td>\n",
       "      <td>0.006006</td>\n",
       "      <td>0.835863</td>\n",
       "      <td>0.005955</td>\n",
       "    </tr>\n",
       "    <tr>\n",
       "      <th>33</th>\n",
       "      <td>((15, 15), relu, sgd, 100)</td>\n",
       "      <td>0.742879</td>\n",
       "      <td>0.004301</td>\n",
       "      <td>0.745570</td>\n",
       "      <td>0.004282</td>\n",
       "    </tr>\n",
       "    <tr>\n",
       "      <th>34</th>\n",
       "      <td>((15, 15), relu, sgd, 150)</td>\n",
       "      <td>0.764858</td>\n",
       "      <td>0.004192</td>\n",
       "      <td>0.766703</td>\n",
       "      <td>0.003717</td>\n",
       "    </tr>\n",
       "    <tr>\n",
       "      <th>35</th>\n",
       "      <td>((15, 15), relu, sgd, 200)</td>\n",
       "      <td>0.779003</td>\n",
       "      <td>0.006260</td>\n",
       "      <td>0.780438</td>\n",
       "      <td>0.006081</td>\n",
       "    </tr>\n",
       "    <tr>\n",
       "      <th>36</th>\n",
       "      <td>((10, 5), relu, adam, 100)</td>\n",
       "      <td>0.770775</td>\n",
       "      <td>0.005677</td>\n",
       "      <td>0.770388</td>\n",
       "      <td>0.005762</td>\n",
       "    </tr>\n",
       "    <tr>\n",
       "      <th>37</th>\n",
       "      <td>((10, 5), relu, adam, 150)</td>\n",
       "      <td>0.775987</td>\n",
       "      <td>0.006700</td>\n",
       "      <td>0.775686</td>\n",
       "      <td>0.007175</td>\n",
       "    </tr>\n",
       "    <tr>\n",
       "      <th>38</th>\n",
       "      <td>((10, 5), relu, adam, 200)</td>\n",
       "      <td>0.783198</td>\n",
       "      <td>0.004689</td>\n",
       "      <td>0.783190</td>\n",
       "      <td>0.004510</td>\n",
       "    </tr>\n",
       "    <tr>\n",
       "      <th>39</th>\n",
       "      <td>((10, 5), relu, sgd, 100)</td>\n",
       "      <td>0.691870</td>\n",
       "      <td>0.006252</td>\n",
       "      <td>0.698119</td>\n",
       "      <td>0.006308</td>\n",
       "    </tr>\n",
       "    <tr>\n",
       "      <th>40</th>\n",
       "      <td>((10, 5), relu, sgd, 150)</td>\n",
       "      <td>0.722251</td>\n",
       "      <td>0.004524</td>\n",
       "      <td>0.725464</td>\n",
       "      <td>0.005438</td>\n",
       "    </tr>\n",
       "    <tr>\n",
       "      <th>41</th>\n",
       "      <td>((10, 5), relu, sgd, 200)</td>\n",
       "      <td>0.738083</td>\n",
       "      <td>0.005101</td>\n",
       "      <td>0.739697</td>\n",
       "      <td>0.004910</td>\n",
       "    </tr>\n",
       "    <tr>\n",
       "      <th>42</th>\n",
       "      <td>((15, 5), relu, adam, 100)</td>\n",
       "      <td>0.787820</td>\n",
       "      <td>0.005490</td>\n",
       "      <td>0.788070</td>\n",
       "      <td>0.005383</td>\n",
       "    </tr>\n",
       "    <tr>\n",
       "      <th>43</th>\n",
       "      <td>((15, 5), relu, adam, 150)</td>\n",
       "      <td>0.795898</td>\n",
       "      <td>0.008639</td>\n",
       "      <td>0.796456</td>\n",
       "      <td>0.008667</td>\n",
       "    </tr>\n",
       "    <tr>\n",
       "      <th>44</th>\n",
       "      <td>((15, 5), relu, adam, 200)</td>\n",
       "      <td>0.804796</td>\n",
       "      <td>0.006362</td>\n",
       "      <td>0.804828</td>\n",
       "      <td>0.006056</td>\n",
       "    </tr>\n",
       "    <tr>\n",
       "      <th>45</th>\n",
       "      <td>((15, 5), relu, sgd, 100)</td>\n",
       "      <td>0.723568</td>\n",
       "      <td>0.004499</td>\n",
       "      <td>0.727380</td>\n",
       "      <td>0.004380</td>\n",
       "    </tr>\n",
       "    <tr>\n",
       "      <th>46</th>\n",
       "      <td>((15, 5), relu, sgd, 150)</td>\n",
       "      <td>0.746484</td>\n",
       "      <td>0.006031</td>\n",
       "      <td>0.748372</td>\n",
       "      <td>0.006273</td>\n",
       "    </tr>\n",
       "    <tr>\n",
       "      <th>47</th>\n",
       "      <td>((15, 5), relu, sgd, 200)</td>\n",
       "      <td>0.762836</td>\n",
       "      <td>0.005637</td>\n",
       "      <td>0.763929</td>\n",
       "      <td>0.005186</td>\n",
       "    </tr>\n",
       "    <tr>\n",
       "      <th>48</th>\n",
       "      <td>((15, 10), relu, adam, 100)</td>\n",
       "      <td>0.802958</td>\n",
       "      <td>0.004971</td>\n",
       "      <td>0.803766</td>\n",
       "      <td>0.004699</td>\n",
       "    </tr>\n",
       "    <tr>\n",
       "      <th>49</th>\n",
       "      <td>((15, 10), relu, adam, 150)</td>\n",
       "      <td>0.810400</td>\n",
       "      <td>0.006462</td>\n",
       "      <td>0.810941</td>\n",
       "      <td>0.006704</td>\n",
       "    </tr>\n",
       "    <tr>\n",
       "      <th>50</th>\n",
       "      <td>((15, 10), relu, adam, 200)</td>\n",
       "      <td>0.820916</td>\n",
       "      <td>0.004516</td>\n",
       "      <td>0.821675</td>\n",
       "      <td>0.004557</td>\n",
       "    </tr>\n",
       "    <tr>\n",
       "      <th>51</th>\n",
       "      <td>((15, 10), relu, sgd, 100)</td>\n",
       "      <td>0.742278</td>\n",
       "      <td>0.004953</td>\n",
       "      <td>0.744188</td>\n",
       "      <td>0.005105</td>\n",
       "    </tr>\n",
       "    <tr>\n",
       "      <th>52</th>\n",
       "      <td>((15, 10), relu, sgd, 150)</td>\n",
       "      <td>0.765205</td>\n",
       "      <td>0.004853</td>\n",
       "      <td>0.766424</td>\n",
       "      <td>0.004745</td>\n",
       "    </tr>\n",
       "    <tr>\n",
       "      <th>53</th>\n",
       "      <td>((15, 10), relu, sgd, 200)</td>\n",
       "      <td>0.772739</td>\n",
       "      <td>0.003924</td>\n",
       "      <td>0.773452</td>\n",
       "      <td>0.003573</td>\n",
       "    </tr>\n",
       "    <tr>\n",
       "      <th>54</th>\n",
       "      <td>((5, 10), relu, adam, 100)</td>\n",
       "      <td>0.735032</td>\n",
       "      <td>0.007252</td>\n",
       "      <td>0.738376</td>\n",
       "      <td>0.006769</td>\n",
       "    </tr>\n",
       "    <tr>\n",
       "      <th>55</th>\n",
       "      <td>((5, 10), relu, adam, 150)</td>\n",
       "      <td>0.743907</td>\n",
       "      <td>0.006736</td>\n",
       "      <td>0.747173</td>\n",
       "      <td>0.006716</td>\n",
       "    </tr>\n",
       "    <tr>\n",
       "      <th>56</th>\n",
       "      <td>((5, 10), relu, adam, 200)</td>\n",
       "      <td>0.745236</td>\n",
       "      <td>0.007028</td>\n",
       "      <td>0.748795</td>\n",
       "      <td>0.006229</td>\n",
       "    </tr>\n",
       "    <tr>\n",
       "      <th>57</th>\n",
       "      <td>((5, 10), relu, sgd, 100)</td>\n",
       "      <td>0.702525</td>\n",
       "      <td>0.006554</td>\n",
       "      <td>0.709284</td>\n",
       "      <td>0.005646</td>\n",
       "    </tr>\n",
       "    <tr>\n",
       "      <th>58</th>\n",
       "      <td>((5, 10), relu, sgd, 150)</td>\n",
       "      <td>0.715814</td>\n",
       "      <td>0.006605</td>\n",
       "      <td>0.721330</td>\n",
       "      <td>0.006166</td>\n",
       "    </tr>\n",
       "    <tr>\n",
       "      <th>59</th>\n",
       "      <td>((5, 10), relu, sgd, 200)</td>\n",
       "      <td>0.723950</td>\n",
       "      <td>0.004649</td>\n",
       "      <td>0.729115</td>\n",
       "      <td>0.004644</td>\n",
       "    </tr>\n",
       "  </tbody>\n",
       "</table>\n",
       "</div>"
      ],
      "text/plain": [
       "                           conf     acc_m    acc_sd     f1s_m    f1s_sd\n",
       "0       ((5,), relu, adam, 100)  0.715121  0.005123  0.719154  0.004877\n",
       "1       ((5,), relu, adam, 150)  0.723649  0.005825  0.725958  0.005473\n",
       "2       ((5,), relu, adam, 200)  0.730340  0.004833  0.732257  0.004557\n",
       "3        ((5,), relu, sgd, 100)  0.631375  0.007256  0.646486  0.005631\n",
       "4        ((5,), relu, sgd, 150)  0.664540  0.005677  0.674331  0.005268\n",
       "5        ((5,), relu, sgd, 200)  0.679517  0.004002  0.686980  0.004283\n",
       "6      ((10,), relu, adam, 100)  0.769099  0.005026  0.770452  0.004866\n",
       "7      ((10,), relu, adam, 150)  0.774877  0.005323  0.776203  0.005439\n",
       "8      ((10,), relu, adam, 200)  0.778656  0.005147  0.779732  0.004651\n",
       "9       ((10,), relu, sgd, 100)  0.691778  0.005999  0.698267  0.005767\n",
       "10      ((10,), relu, sgd, 150)  0.709066  0.004409  0.714235  0.004176\n",
       "11      ((10,), relu, sgd, 200)  0.723464  0.006379  0.727067  0.005921\n",
       "12     ((15,), relu, adam, 100)  0.777073  0.008796  0.777978  0.008666\n",
       "13     ((15,), relu, adam, 150)  0.787716  0.007107  0.788592  0.007247\n",
       "14     ((15,), relu, adam, 200)  0.795944  0.005786  0.796523  0.005623\n",
       "15      ((15,), relu, sgd, 100)  0.703392  0.004683  0.709457  0.004553\n",
       "16      ((15,), relu, sgd, 150)  0.719293  0.005123  0.723113  0.005035\n",
       "17      ((15,), relu, sgd, 200)  0.728780  0.005067  0.731448  0.005135\n",
       "18    ((5, 5), relu, adam, 100)  0.726307  0.005595  0.728250  0.005355\n",
       "19    ((5, 5), relu, adam, 150)  0.727659  0.005023  0.729359  0.004776\n",
       "20    ((5, 5), relu, adam, 200)  0.735910  0.005387  0.737030  0.005956\n",
       "21     ((5, 5), relu, sgd, 100)  0.669463  0.004333  0.680325  0.005811\n",
       "22     ((5, 5), relu, sgd, 150)  0.681932  0.006508  0.688175  0.008672\n",
       "23     ((5, 5), relu, sgd, 200)  0.693766  0.005154  0.701604  0.006971\n",
       "24  ((10, 10), relu, adam, 100)  0.783001  0.005982  0.783753  0.005897\n",
       "25  ((10, 10), relu, adam, 150)  0.795967  0.007967  0.796661  0.007861\n",
       "26  ((10, 10), relu, adam, 200)  0.798521  0.004703  0.799495  0.004925\n",
       "27   ((10, 10), relu, sgd, 100)  0.716693  0.005702  0.720654  0.005413\n",
       "28   ((10, 10), relu, sgd, 150)  0.735471  0.005185  0.737244  0.004718\n",
       "29   ((10, 10), relu, sgd, 200)  0.747305  0.006220  0.748507  0.006251\n",
       "30  ((15, 15), relu, adam, 100)  0.814526  0.003592  0.815029  0.003309\n",
       "31  ((15, 15), relu, adam, 150)  0.829133  0.004618  0.829427  0.004712\n",
       "32  ((15, 15), relu, adam, 200)  0.835350  0.006006  0.835863  0.005955\n",
       "33   ((15, 15), relu, sgd, 100)  0.742879  0.004301  0.745570  0.004282\n",
       "34   ((15, 15), relu, sgd, 150)  0.764858  0.004192  0.766703  0.003717\n",
       "35   ((15, 15), relu, sgd, 200)  0.779003  0.006260  0.780438  0.006081\n",
       "36   ((10, 5), relu, adam, 100)  0.770775  0.005677  0.770388  0.005762\n",
       "37   ((10, 5), relu, adam, 150)  0.775987  0.006700  0.775686  0.007175\n",
       "38   ((10, 5), relu, adam, 200)  0.783198  0.004689  0.783190  0.004510\n",
       "39    ((10, 5), relu, sgd, 100)  0.691870  0.006252  0.698119  0.006308\n",
       "40    ((10, 5), relu, sgd, 150)  0.722251  0.004524  0.725464  0.005438\n",
       "41    ((10, 5), relu, sgd, 200)  0.738083  0.005101  0.739697  0.004910\n",
       "42   ((15, 5), relu, adam, 100)  0.787820  0.005490  0.788070  0.005383\n",
       "43   ((15, 5), relu, adam, 150)  0.795898  0.008639  0.796456  0.008667\n",
       "44   ((15, 5), relu, adam, 200)  0.804796  0.006362  0.804828  0.006056\n",
       "45    ((15, 5), relu, sgd, 100)  0.723568  0.004499  0.727380  0.004380\n",
       "46    ((15, 5), relu, sgd, 150)  0.746484  0.006031  0.748372  0.006273\n",
       "47    ((15, 5), relu, sgd, 200)  0.762836  0.005637  0.763929  0.005186\n",
       "48  ((15, 10), relu, adam, 100)  0.802958  0.004971  0.803766  0.004699\n",
       "49  ((15, 10), relu, adam, 150)  0.810400  0.006462  0.810941  0.006704\n",
       "50  ((15, 10), relu, adam, 200)  0.820916  0.004516  0.821675  0.004557\n",
       "51   ((15, 10), relu, sgd, 100)  0.742278  0.004953  0.744188  0.005105\n",
       "52   ((15, 10), relu, sgd, 150)  0.765205  0.004853  0.766424  0.004745\n",
       "53   ((15, 10), relu, sgd, 200)  0.772739  0.003924  0.773452  0.003573\n",
       "54   ((5, 10), relu, adam, 100)  0.735032  0.007252  0.738376  0.006769\n",
       "55   ((5, 10), relu, adam, 150)  0.743907  0.006736  0.747173  0.006716\n",
       "56   ((5, 10), relu, adam, 200)  0.745236  0.007028  0.748795  0.006229\n",
       "57    ((5, 10), relu, sgd, 100)  0.702525  0.006554  0.709284  0.005646\n",
       "58    ((5, 10), relu, sgd, 150)  0.715814  0.006605  0.721330  0.006166\n",
       "59    ((5, 10), relu, sgd, 200)  0.723950  0.004649  0.729115  0.004644"
      ]
     },
     "execution_count": 32,
     "metadata": {},
     "output_type": "execute_result"
    }
   ],
   "source": [
    "df"
   ]
  },
  {
   "cell_type": "code",
   "execution_count": 33,
   "metadata": {
    "colab": {
     "base_uri": "https://localhost:8080/",
     "height": 143
    },
    "executionInfo": {
     "elapsed": 330,
     "status": "ok",
     "timestamp": 1638849835334,
     "user": {
      "displayName": "José Max Dias Figueira Junior",
      "photoUrl": "https://lh3.googleusercontent.com/a-/AOh14GiUkfqsRDxLzojLYrGgsXG_cTc15Dnqg5KFX8QqCQ=s64",
      "userId": "07239097205257965617"
     },
     "user_tz": 240
    },
    "id": "k59YFtOEJCpX",
    "outputId": "413898ba-2e78-4c38-f8d2-f5637a411f9a"
   },
   "outputs": [
    {
     "data": {
      "text/html": [
       "<div>\n",
       "<style scoped>\n",
       "    .dataframe tbody tr th:only-of-type {\n",
       "        vertical-align: middle;\n",
       "    }\n",
       "\n",
       "    .dataframe tbody tr th {\n",
       "        vertical-align: top;\n",
       "    }\n",
       "\n",
       "    .dataframe thead th {\n",
       "        text-align: right;\n",
       "    }\n",
       "</style>\n",
       "<table border=\"1\" class=\"dataframe\">\n",
       "  <thead>\n",
       "    <tr style=\"text-align: right;\">\n",
       "      <th></th>\n",
       "      <th>conf</th>\n",
       "      <th>acc_m</th>\n",
       "      <th>acc_sd</th>\n",
       "      <th>f1s_m</th>\n",
       "      <th>f1s_sd</th>\n",
       "    </tr>\n",
       "  </thead>\n",
       "  <tbody>\n",
       "    <tr>\n",
       "      <th>32</th>\n",
       "      <td>((15, 15), relu, adam, 200)</td>\n",
       "      <td>0.835350</td>\n",
       "      <td>0.006006</td>\n",
       "      <td>0.835863</td>\n",
       "      <td>0.005955</td>\n",
       "    </tr>\n",
       "    <tr>\n",
       "      <th>31</th>\n",
       "      <td>((15, 15), relu, adam, 150)</td>\n",
       "      <td>0.829133</td>\n",
       "      <td>0.004618</td>\n",
       "      <td>0.829427</td>\n",
       "      <td>0.004712</td>\n",
       "    </tr>\n",
       "    <tr>\n",
       "      <th>50</th>\n",
       "      <td>((15, 10), relu, adam, 200)</td>\n",
       "      <td>0.820916</td>\n",
       "      <td>0.004516</td>\n",
       "      <td>0.821675</td>\n",
       "      <td>0.004557</td>\n",
       "    </tr>\n",
       "  </tbody>\n",
       "</table>\n",
       "</div>"
      ],
      "text/plain": [
       "                           conf     acc_m    acc_sd     f1s_m    f1s_sd\n",
       "32  ((15, 15), relu, adam, 200)  0.835350  0.006006  0.835863  0.005955\n",
       "31  ((15, 15), relu, adam, 150)  0.829133  0.004618  0.829427  0.004712\n",
       "50  ((15, 10), relu, adam, 200)  0.820916  0.004516  0.821675  0.004557"
      ]
     },
     "execution_count": 33,
     "metadata": {},
     "output_type": "execute_result"
    }
   ],
   "source": [
    "df2 = df.sort_values(['acc_m', 'acc_sd'], ascending = [False, True])\n",
    "df2 = df2.head(3)\n",
    "df2"
   ]
  },
  {
   "cell_type": "code",
   "execution_count": 34,
   "metadata": {
    "colab": {
     "base_uri": "https://localhost:8080/",
     "height": 143
    },
    "executionInfo": {
     "elapsed": 439,
     "status": "ok",
     "timestamp": 1638849860841,
     "user": {
      "displayName": "José Max Dias Figueira Junior",
      "photoUrl": "https://lh3.googleusercontent.com/a-/AOh14GiUkfqsRDxLzojLYrGgsXG_cTc15Dnqg5KFX8QqCQ=s64",
      "userId": "07239097205257965617"
     },
     "user_tz": 240
    },
    "id": "1U6lVXPzK8Sf",
    "outputId": "7e4377be-125d-4a5f-9abf-7b769d6a5b21"
   },
   "outputs": [
    {
     "data": {
      "text/html": [
       "<div>\n",
       "<style scoped>\n",
       "    .dataframe tbody tr th:only-of-type {\n",
       "        vertical-align: middle;\n",
       "    }\n",
       "\n",
       "    .dataframe tbody tr th {\n",
       "        vertical-align: top;\n",
       "    }\n",
       "\n",
       "    .dataframe thead th {\n",
       "        text-align: right;\n",
       "    }\n",
       "</style>\n",
       "<table border=\"1\" class=\"dataframe\">\n",
       "  <thead>\n",
       "    <tr style=\"text-align: right;\">\n",
       "      <th></th>\n",
       "      <th>conf</th>\n",
       "      <th>acc_m</th>\n",
       "      <th>acc_sd</th>\n",
       "      <th>f1s_m</th>\n",
       "      <th>f1s_sd</th>\n",
       "    </tr>\n",
       "  </thead>\n",
       "  <tbody>\n",
       "    <tr>\n",
       "      <th>32</th>\n",
       "      <td>((15, 15), relu, adam, 200)</td>\n",
       "      <td>0.835350</td>\n",
       "      <td>0.006006</td>\n",
       "      <td>0.835863</td>\n",
       "      <td>0.005955</td>\n",
       "    </tr>\n",
       "    <tr>\n",
       "      <th>31</th>\n",
       "      <td>((15, 15), relu, adam, 150)</td>\n",
       "      <td>0.829133</td>\n",
       "      <td>0.004618</td>\n",
       "      <td>0.829427</td>\n",
       "      <td>0.004712</td>\n",
       "    </tr>\n",
       "    <tr>\n",
       "      <th>50</th>\n",
       "      <td>((15, 10), relu, adam, 200)</td>\n",
       "      <td>0.820916</td>\n",
       "      <td>0.004516</td>\n",
       "      <td>0.821675</td>\n",
       "      <td>0.004557</td>\n",
       "    </tr>\n",
       "  </tbody>\n",
       "</table>\n",
       "</div>"
      ],
      "text/plain": [
       "                           conf     acc_m    acc_sd     f1s_m    f1s_sd\n",
       "32  ((15, 15), relu, adam, 200)  0.835350  0.006006  0.835863  0.005955\n",
       "31  ((15, 15), relu, adam, 150)  0.829133  0.004618  0.829427  0.004712\n",
       "50  ((15, 10), relu, adam, 200)  0.820916  0.004516  0.821675  0.004557"
      ]
     },
     "execution_count": 34,
     "metadata": {},
     "output_type": "execute_result"
    }
   ],
   "source": [
    "df3 = df.sort_values(['f1s_m', 'f1s_sd'], ascending = [False, True])\n",
    "df3 = df3.head(3)\n",
    "df3"
   ]
  },
  {
   "cell_type": "code",
   "execution_count": 35,
   "metadata": {
    "colab": {
     "base_uri": "https://localhost:8080/",
     "height": 174
    },
    "executionInfo": {
     "elapsed": 435,
     "status": "ok",
     "timestamp": 1638849991222,
     "user": {
      "displayName": "José Max Dias Figueira Junior",
      "photoUrl": "https://lh3.googleusercontent.com/a-/AOh14GiUkfqsRDxLzojLYrGgsXG_cTc15Dnqg5KFX8QqCQ=s64",
      "userId": "07239097205257965617"
     },
     "user_tz": 240
    },
    "id": "-jy0K8y07mug",
    "outputId": "8a884b05-c71f-4171-8283-cbece2086b7b"
   },
   "outputs": [
    {
     "data": {
      "text/html": [
       "<div>\n",
       "<style scoped>\n",
       "    .dataframe tbody tr th:only-of-type {\n",
       "        vertical-align: middle;\n",
       "    }\n",
       "\n",
       "    .dataframe tbody tr th {\n",
       "        vertical-align: top;\n",
       "    }\n",
       "\n",
       "    .dataframe thead tr th {\n",
       "        text-align: left;\n",
       "    }\n",
       "</style>\n",
       "<table border=\"1\" class=\"dataframe\">\n",
       "  <thead>\n",
       "    <tr>\n",
       "      <th></th>\n",
       "      <th>Configuração MLP</th>\n",
       "      <th colspan=\"2\" halign=\"left\">Acurácia</th>\n",
       "      <th colspan=\"2\" halign=\"left\">F1-Score</th>\n",
       "    </tr>\n",
       "    <tr>\n",
       "      <th></th>\n",
       "      <th>['hidden_layer_sizes', 'activation', 'solver', 'max_iter']</th>\n",
       "      <th>Média</th>\n",
       "      <th>Desvio Padrão</th>\n",
       "      <th>Média</th>\n",
       "      <th>Desvio Padrão</th>\n",
       "    </tr>\n",
       "  </thead>\n",
       "  <tbody>\n",
       "    <tr>\n",
       "      <th>0</th>\n",
       "      <td>((15, 15), relu, adam, 200)</td>\n",
       "      <td>0.83535</td>\n",
       "      <td>0.00600631</td>\n",
       "      <td>0.835863</td>\n",
       "      <td>0.00595533</td>\n",
       "    </tr>\n",
       "    <tr>\n",
       "      <th>1</th>\n",
       "      <td>((15, 15), relu, adam, 150)</td>\n",
       "      <td>0.829133</td>\n",
       "      <td>0.00461813</td>\n",
       "      <td>0.829427</td>\n",
       "      <td>0.00471229</td>\n",
       "    </tr>\n",
       "    <tr>\n",
       "      <th>2</th>\n",
       "      <td>((15, 10), relu, adam, 200)</td>\n",
       "      <td>0.820916</td>\n",
       "      <td>0.00451611</td>\n",
       "      <td>0.821675</td>\n",
       "      <td>0.00455712</td>\n",
       "    </tr>\n",
       "  </tbody>\n",
       "</table>\n",
       "</div>"
      ],
      "text/plain": [
       "                                            Configuração MLP  Acurácia  \\\n",
       "  ['hidden_layer_sizes', 'activation', 'solver', 'max_iter']     Média   \n",
       "0                        ((15, 15), relu, adam, 200)           0.83535   \n",
       "1                        ((15, 15), relu, adam, 150)          0.829133   \n",
       "2                        ((15, 10), relu, adam, 200)          0.820916   \n",
       "\n",
       "                 F1-Score                \n",
       "  Desvio Padrão     Média Desvio Padrão  \n",
       "0    0.00600631  0.835863    0.00595533  \n",
       "1    0.00461813  0.829427    0.00471229  \n",
       "2    0.00451611  0.821675    0.00455712  "
      ]
     },
     "execution_count": 35,
     "metadata": {},
     "output_type": "execute_result"
    }
   ],
   "source": [
    "index = pd.MultiIndex.from_tuples([('Configuração MLP', str(param_keys)), \n",
    "                                   ('Acurácia', 'Média'),\n",
    "                                   ('Acurácia','Desvio Padrão'),\n",
    "                                   ('F1-Score','Média'),\n",
    "                                   ('F1-Score','Desvio Padrão')])\n",
    "\n",
    "df = pd.DataFrame(df3.values, columns=index)\n",
    "# df.set_index(('Configuração MLP', str(param_keys)))\n",
    "df"
   ]
  },
  {
   "cell_type": "markdown",
   "metadata": {
    "id": "9CxwEq_HkNv6"
   },
   "source": [
    "## Estimando o número de neurônios\n",
    "\n",
    "Um dos problemas de pesquisa com redes neurais artificiais consiste na determinação do número de neurônios em sua arquitetura. Embora não seja possível definir a priori qual rede neural é adequada para um problema, pois isto só é possível mediante uma busca exaustiva, há regras na literatura que sugerem o número de neurônios escondidos, tal como a regra da Pirâmide Geométrica, dada a seguir:\n",
    "\n",
    "$$N_h = \\alpha \\cdot \\sqrt{N_i \\cdot N_o},$$\n",
    "\n",
    "em que $N_h$ é o número de neurônios ocultos (a serem distribuídos em uma ou duas camadas ocultas), $N_i$ é o número de neurônios na camada de entrada e $N_o$ é o número de neurônios na camada de saída. \n",
    "\n",
    "1. Consulte a documentação da classe MLPClassifier (disponível em https://scikit-learn.org/stable/modules/generated/sklearn.neural_network.MLPClassifier.html) e obtenha os valores de $N_i$ e $N_o$.\n",
    "2. Teste os valores de $\\alpha$ como sendo iguais a $0.5$, $2$ e $3$."
   ]
  },
  {
   "cell_type": "markdown",
   "metadata": {
    "id": "Xii06jwrkNwD"
   },
   "source": [
    "# Estimando o número de neurônios"
   ]
  },
  {
   "cell_type": "markdown",
   "metadata": {
    "id": "NEclx5iYkNwD"
   },
   "source": [
    "hidden_layer_sizes -  encontrado no classificador MLP indica o número\n",
    "de neurônios na camada oculta e para estimar essa quantidade de neurônios foi utilizada a\n",
    "Regra da Pirâmide Geométrica (Geometric Pyramid Rule) proposta por Masters (1993). Onde,\n",
    "para uma camada oculta com $n$ entradas e $m$ saídas, a camada oculta terá $\\sqrt{n \\cdot m}$ neuronios.\n",
    "\n",
    "$$10 = \\alpha \\cdot \\sqrt{10 \\cdot 7},$$ $$\\alpha = 1.1952...$$"
   ]
  },
  {
   "cell_type": "markdown",
   "metadata": {
    "id": "WKiHz2lM9v37"
   },
   "source": [
    "### For $\\alpha = 0.5, N_h = 4 $ ($N_h$ = 4.18...)"
   ]
  },
  {
   "cell_type": "code",
   "execution_count": 36,
   "metadata": {
    "executionInfo": {
     "elapsed": 319,
     "status": "ok",
     "timestamp": 1638848350592,
     "user": {
      "displayName": "José Max Dias Figueira Junior",
      "photoUrl": "https://lh3.googleusercontent.com/a-/AOh14GiUkfqsRDxLzojLYrGgsXG_cTc15Dnqg5KFX8QqCQ=s64",
      "userId": "07239097205257965617"
     },
     "user_tz": 240
    },
    "id": "YPUmHWwi9v3-"
   },
   "outputs": [],
   "source": [
    "p4 = {'random_state': 1, 'verbose': False, 'hidden_layer_sizes': (4,), 'activation': 'relu', 'solver': 'adam', 'max_iter': 200}"
   ]
  },
  {
   "cell_type": "code",
   "execution_count": 37,
   "metadata": {
    "executionInfo": {
     "elapsed": 78010,
     "status": "ok",
     "timestamp": 1638848429767,
     "user": {
      "displayName": "José Max Dias Figueira Junior",
      "photoUrl": "https://lh3.googleusercontent.com/a-/AOh14GiUkfqsRDxLzojLYrGgsXG_cTc15Dnqg5KFX8QqCQ=s64",
      "userId": "07239097205257965617"
     },
     "user_tz": 240
    },
    "id": "nP31961T9v3_"
   },
   "outputs": [],
   "source": [
    "mlp_params_all, acc_mean, acc_std, f1s_mean, f1s_std = evaluate_mlp(X, y, **p4)"
   ]
  },
  {
   "cell_type": "code",
   "execution_count": 38,
   "metadata": {
    "colab": {
     "base_uri": "https://localhost:8080/"
    },
    "executionInfo": {
     "elapsed": 28,
     "status": "ok",
     "timestamp": 1638848429776,
     "user": {
      "displayName": "José Max Dias Figueira Junior",
      "photoUrl": "https://lh3.googleusercontent.com/a-/AOh14GiUkfqsRDxLzojLYrGgsXG_cTc15Dnqg5KFX8QqCQ=s64",
      "userId": "07239097205257965617"
     },
     "user_tz": 240
    },
    "id": "HMHnItt79v3_",
    "outputId": "75dc4711-712b-4117-f002-8239c7522a5c"
   },
   "outputs": [
    {
     "name": "stdout",
     "output_type": "stream",
     "text": [
      "{'activation': 'relu', 'alpha': 0.0001, 'batch_size': 'auto', 'beta_1': 0.9, 'beta_2': 0.999, 'early_stopping': False, 'epsilon': 1e-08, 'hidden_layer_sizes': (4,), 'learning_rate': 'constant', 'learning_rate_init': 0.001, 'max_fun': 15000, 'max_iter': 200, 'momentum': 0.9, 'n_iter_no_change': 10, 'nesterovs_momentum': True, 'power_t': 0.5, 'random_state': 1, 'shuffle': True, 'solver': 'adam', 'tol': 0.0001, 'validation_fraction': 0.1, 'verbose': False, 'warm_start': False}\n",
      "0.6935344080429884\n",
      "0.0\n",
      "0.6976432592636556\n",
      "0.0\n"
     ]
    }
   ],
   "source": [
    "print(mlp_params_all)\n",
    "print(acc_mean)\n",
    "print(acc_std)\n",
    "print(f1s_mean)\n",
    "print(f1s_std)"
   ]
  },
  {
   "cell_type": "markdown",
   "metadata": {
    "id": "tJIL3OFr9v39"
   },
   "source": [
    "### For $\\alpha = 2, N_h = 17 $ ($N_h$ = 16.73...)"
   ]
  },
  {
   "cell_type": "code",
   "execution_count": 39,
   "metadata": {
    "executionInfo": {
     "elapsed": 336,
     "status": "ok",
     "timestamp": 1638847607358,
     "user": {
      "displayName": "José Max Dias Figueira Junior",
      "photoUrl": "https://lh3.googleusercontent.com/a-/AOh14GiUkfqsRDxLzojLYrGgsXG_cTc15Dnqg5KFX8QqCQ=s64",
      "userId": "07239097205257965617"
     },
     "user_tz": 240
    },
    "id": "EESiaifx6VT5"
   },
   "outputs": [],
   "source": [
    "p17 = {'random_state': 1, 'verbose': False, 'hidden_layer_sizes': (17,), 'activation': 'relu', 'solver': 'adam', 'max_iter': 200}"
   ]
  },
  {
   "cell_type": "code",
   "execution_count": 40,
   "metadata": {
    "executionInfo": {
     "elapsed": 206486,
     "status": "ok",
     "timestamp": 1638847919004,
     "user": {
      "displayName": "José Max Dias Figueira Junior",
      "photoUrl": "https://lh3.googleusercontent.com/a-/AOh14GiUkfqsRDxLzojLYrGgsXG_cTc15Dnqg5KFX8QqCQ=s64",
      "userId": "07239097205257965617"
     },
     "user_tz": 240
    },
    "id": "RMHXOuXU6kP_"
   },
   "outputs": [],
   "source": [
    "mlp_params_all, acc_mean, acc_std, f1s_mean, f1s_std = evaluate_mlp(X, y, **p17)"
   ]
  },
  {
   "cell_type": "code",
   "execution_count": 41,
   "metadata": {
    "colab": {
     "base_uri": "https://localhost:8080/"
    },
    "executionInfo": {
     "elapsed": 32,
     "status": "ok",
     "timestamp": 1638847919006,
     "user": {
      "displayName": "José Max Dias Figueira Junior",
      "photoUrl": "https://lh3.googleusercontent.com/a-/AOh14GiUkfqsRDxLzojLYrGgsXG_cTc15Dnqg5KFX8QqCQ=s64",
      "userId": "07239097205257965617"
     },
     "user_tz": 240
    },
    "id": "2J8R4qIv68jS",
    "outputId": "85996289-e36b-4851-88b2-68d49a1cbb1c"
   },
   "outputs": [
    {
     "name": "stdout",
     "output_type": "stream",
     "text": [
      "{'activation': 'relu', 'alpha': 0.0001, 'batch_size': 'auto', 'beta_1': 0.9, 'beta_2': 0.999, 'early_stopping': False, 'epsilon': 1e-08, 'hidden_layer_sizes': (17,), 'learning_rate': 'constant', 'learning_rate_init': 0.001, 'max_fun': 15000, 'max_iter': 200, 'momentum': 0.9, 'n_iter_no_change': 10, 'nesterovs_momentum': True, 'power_t': 0.5, 'random_state': 1, 'shuffle': True, 'solver': 'adam', 'tol': 0.0001, 'validation_fraction': 0.1, 'verbose': False, 'warm_start': False}\n",
      "0.8055122204888195\n",
      "0.0\n",
      "0.8057810815133948\n",
      "0.0\n"
     ]
    }
   ],
   "source": [
    "print(mlp_params_all)\n",
    "print(acc_mean)\n",
    "print(acc_std)\n",
    "print(f1s_mean)\n",
    "print(f1s_std)"
   ]
  },
  {
   "cell_type": "markdown",
   "metadata": {
    "id": "j1BtoTcw9Luj"
   },
   "source": [
    "### For $\\alpha = 3, N_h = 25 $ ($N_h$ = 25.01...)"
   ]
  },
  {
   "cell_type": "code",
   "execution_count": 42,
   "metadata": {
    "executionInfo": {
     "elapsed": 300,
     "status": "ok",
     "timestamp": 1638858538995,
     "user": {
      "displayName": "José Max Dias Figueira Junior",
      "photoUrl": "https://lh3.googleusercontent.com/a-/AOh14GiUkfqsRDxLzojLYrGgsXG_cTc15Dnqg5KFX8QqCQ=s64",
      "userId": "07239097205257965617"
     },
     "user_tz": 240
    },
    "id": "KMN31eo39Lul"
   },
   "outputs": [],
   "source": [
    "p25 = {'random_state': 1, 'verbose': False, 'hidden_layer_sizes': (25,), 'activation': 'relu', 'solver': 'adam', 'max_iter': 200}"
   ]
  },
  {
   "cell_type": "code",
   "execution_count": 43,
   "metadata": {
    "id": "QcG_7lpr9Lum"
   },
   "outputs": [],
   "source": [
    "mlp_params_all, acc_mean, acc_std, f1s_mean, f1s_std = evaluate_mlp(X, y, **p25)"
   ]
  },
  {
   "cell_type": "code",
   "execution_count": 44,
   "metadata": {
    "colab": {
     "base_uri": "https://localhost:8080/"
    },
    "executionInfo": {
     "elapsed": 15,
     "status": "ok",
     "timestamp": 1638847744692,
     "user": {
      "displayName": "Willyan Dyeno Santos",
      "photoUrl": "https://lh3.googleusercontent.com/a-/AOh14Gg15ND6_SutUqJBMqNACnd8xmHyUihzsMdyJ7ub=s64",
      "userId": "02840806053201770774"
     },
     "user_tz": 240
    },
    "id": "CFXyBVha9Lun",
    "outputId": "a585bd24-2a1b-4564-c5b1-6439427d4c7e"
   },
   "outputs": [
    {
     "name": "stdout",
     "output_type": "stream",
     "text": [
      "{'activation': 'relu', 'alpha': 0.0001, 'batch_size': 'auto', 'beta_1': 0.9, 'beta_2': 0.999, 'early_stopping': False, 'epsilon': 1e-08, 'hidden_layer_sizes': (25,), 'learning_rate': 'constant', 'learning_rate_init': 0.001, 'max_fun': 15000, 'max_iter': 200, 'momentum': 0.9, 'n_iter_no_change': 10, 'nesterovs_momentum': True, 'power_t': 0.5, 'random_state': 1, 'shuffle': True, 'solver': 'adam', 'tol': 0.0001, 'validation_fraction': 0.1, 'verbose': False, 'warm_start': False}\n",
      "0.8218062055815566\n",
      "0.0\n",
      "0.8214220619192246\n",
      "0.0\n"
     ]
    }
   ],
   "source": [
    "print(mlp_params_all)\n",
    "print(acc_mean)\n",
    "print(acc_std)\n",
    "print(f1s_mean)\n",
    "print(f1s_std)"
   ]
  },
  {
   "cell_type": "markdown",
   "metadata": {
    "id": "q7ivXY8q9Dhf"
   },
   "source": [
    "3. Proponha pelo menos 30 redes neurais segundo a regra da pirâmide geométrica e teste-as nos mesmos termos estabelecidos anterioremente  (solver, épocas, etc.)  \n",
    "    3.1 Apresente as top-3 melhores redes no tocante à F-Score e Acurácia  "
   ]
  },
  {
   "cell_type": "code",
   "execution_count": 58,
   "metadata": {},
   "outputs": [],
   "source": [
    "import random\n",
    "neurons = []\n",
    "hidden_layer_sizes_list = []\n",
    "\n",
    "for i in range(1,17): \n",
    "    neurons.append(i)\n",
    "\n",
    "while (not len(hidden_layer_sizes_list) == 30):\n",
    "    camada1, camada2 = random.sample(neurons, 2)\n",
    "    if camada1 + camada2 in (4,17):\n",
    "        hidden_layer_sizes_list.append((mt.ceil(camada1),(camada2)))\n",
    "       \n"
   ]
  },
  {
   "cell_type": "code",
   "execution_count": 59,
   "metadata": {
    "executionInfo": {
     "elapsed": 297,
     "status": "ok",
     "timestamp": 1638851251284,
     "user": {
      "displayName": "José Max Dias Figueira Junior",
      "photoUrl": "https://lh3.googleusercontent.com/a-/AOh14GiUkfqsRDxLzojLYrGgsXG_cTc15Dnqg5KFX8QqCQ=s64",
      "userId": "07239097205257965617"
     },
     "user_tz": 240
    },
    "id": "XglSG0xYJPWb"
   },
   "outputs": [],
   "source": [
    "solvers = ['adam','sgd']\n",
    "max_iters = [200]"
   ]
  },
  {
   "cell_type": "code",
   "execution_count": 60,
   "metadata": {
    "executionInfo": {
     "elapsed": 284,
     "status": "ok",
     "timestamp": 1638851253079,
     "user": {
      "displayName": "José Max Dias Figueira Junior",
      "photoUrl": "https://lh3.googleusercontent.com/a-/AOh14GiUkfqsRDxLzojLYrGgsXG_cTc15Dnqg5KFX8QqCQ=s64",
      "userId": "07239097205257965617"
     },
     "user_tz": 240
    },
    "id": "dGkJCha6JPW0"
   },
   "outputs": [],
   "source": [
    "param_keys = ['hidden_layer_sizes', 'activation', 'solver', 'max_iter']"
   ]
  },
  {
   "cell_type": "code",
   "execution_count": 61,
   "metadata": {
    "executionInfo": {
     "elapsed": 304,
     "status": "ok",
     "timestamp": 1638851300770,
     "user": {
      "displayName": "José Max Dias Figueira Junior",
      "photoUrl": "https://lh3.googleusercontent.com/a-/AOh14GiUkfqsRDxLzojLYrGgsXG_cTc15Dnqg5KFX8QqCQ=s64",
      "userId": "07239097205257965617"
     },
     "user_tz": 240
    },
    "id": "qXLM_NU3JPW1"
   },
   "outputs": [],
   "source": [
    "base_params = {'verbose': False}"
   ]
  },
  {
   "cell_type": "code",
   "execution_count": 62,
   "metadata": {
    "colab": {
     "base_uri": "https://localhost:8080/"
    },
    "executionInfo": {
     "elapsed": 311,
     "status": "ok",
     "timestamp": 1638852152129,
     "user": {
      "displayName": "José Max Dias Figueira Junior",
      "photoUrl": "https://lh3.googleusercontent.com/a-/AOh14GiUkfqsRDxLzojLYrGgsXG_cTc15Dnqg5KFX8QqCQ=s64",
      "userId": "07239097205257965617"
     },
     "user_tz": 240
    },
    "id": "35dapHS1JPW2",
    "outputId": "0614d2de-cad6-4a35-e01a-3bd97431fc14"
   },
   "outputs": [
    {
     "name": "stdout",
     "output_type": "stream",
     "text": [
      "{'verbose': False, 'hidden_layer_sizes': (7, 10), 'activation': 'relu', 'solver': 'adam', 'max_iter': 200}\n",
      "{'verbose': False, 'hidden_layer_sizes': (7, 10), 'activation': 'relu', 'solver': 'sgd', 'max_iter': 200}\n",
      "{'verbose': False, 'hidden_layer_sizes': (1, 16), 'activation': 'relu', 'solver': 'adam', 'max_iter': 200}\n",
      "{'verbose': False, 'hidden_layer_sizes': (1, 16), 'activation': 'relu', 'solver': 'sgd', 'max_iter': 200}\n",
      "{'verbose': False, 'hidden_layer_sizes': (14, 3), 'activation': 'relu', 'solver': 'adam', 'max_iter': 200}\n",
      "{'verbose': False, 'hidden_layer_sizes': (14, 3), 'activation': 'relu', 'solver': 'sgd', 'max_iter': 200}\n",
      "{'verbose': False, 'hidden_layer_sizes': (13, 4), 'activation': 'relu', 'solver': 'adam', 'max_iter': 200}\n",
      "{'verbose': False, 'hidden_layer_sizes': (13, 4), 'activation': 'relu', 'solver': 'sgd', 'max_iter': 200}\n",
      "{'verbose': False, 'hidden_layer_sizes': (3, 1), 'activation': 'relu', 'solver': 'adam', 'max_iter': 200}\n",
      "{'verbose': False, 'hidden_layer_sizes': (3, 1), 'activation': 'relu', 'solver': 'sgd', 'max_iter': 200}\n",
      "{'verbose': False, 'hidden_layer_sizes': (1, 16), 'activation': 'relu', 'solver': 'adam', 'max_iter': 200}\n",
      "{'verbose': False, 'hidden_layer_sizes': (1, 16), 'activation': 'relu', 'solver': 'sgd', 'max_iter': 200}\n",
      "{'verbose': False, 'hidden_layer_sizes': (6, 11), 'activation': 'relu', 'solver': 'adam', 'max_iter': 200}\n",
      "{'verbose': False, 'hidden_layer_sizes': (6, 11), 'activation': 'relu', 'solver': 'sgd', 'max_iter': 200}\n",
      "{'verbose': False, 'hidden_layer_sizes': (10, 7), 'activation': 'relu', 'solver': 'adam', 'max_iter': 200}\n",
      "{'verbose': False, 'hidden_layer_sizes': (10, 7), 'activation': 'relu', 'solver': 'sgd', 'max_iter': 200}\n",
      "{'verbose': False, 'hidden_layer_sizes': (11, 6), 'activation': 'relu', 'solver': 'adam', 'max_iter': 200}\n",
      "{'verbose': False, 'hidden_layer_sizes': (11, 6), 'activation': 'relu', 'solver': 'sgd', 'max_iter': 200}\n",
      "{'verbose': False, 'hidden_layer_sizes': (8, 9), 'activation': 'relu', 'solver': 'adam', 'max_iter': 200}\n",
      "{'verbose': False, 'hidden_layer_sizes': (8, 9), 'activation': 'relu', 'solver': 'sgd', 'max_iter': 200}\n",
      "{'verbose': False, 'hidden_layer_sizes': (5, 12), 'activation': 'relu', 'solver': 'adam', 'max_iter': 200}\n",
      "{'verbose': False, 'hidden_layer_sizes': (5, 12), 'activation': 'relu', 'solver': 'sgd', 'max_iter': 200}\n",
      "{'verbose': False, 'hidden_layer_sizes': (13, 4), 'activation': 'relu', 'solver': 'adam', 'max_iter': 200}\n",
      "{'verbose': False, 'hidden_layer_sizes': (13, 4), 'activation': 'relu', 'solver': 'sgd', 'max_iter': 200}\n",
      "{'verbose': False, 'hidden_layer_sizes': (11, 6), 'activation': 'relu', 'solver': 'adam', 'max_iter': 200}\n",
      "{'verbose': False, 'hidden_layer_sizes': (11, 6), 'activation': 'relu', 'solver': 'sgd', 'max_iter': 200}\n",
      "{'verbose': False, 'hidden_layer_sizes': (3, 1), 'activation': 'relu', 'solver': 'adam', 'max_iter': 200}\n",
      "{'verbose': False, 'hidden_layer_sizes': (3, 1), 'activation': 'relu', 'solver': 'sgd', 'max_iter': 200}\n",
      "{'verbose': False, 'hidden_layer_sizes': (3, 1), 'activation': 'relu', 'solver': 'adam', 'max_iter': 200}\n",
      "{'verbose': False, 'hidden_layer_sizes': (3, 1), 'activation': 'relu', 'solver': 'sgd', 'max_iter': 200}\n",
      "{'verbose': False, 'hidden_layer_sizes': (3, 14), 'activation': 'relu', 'solver': 'adam', 'max_iter': 200}\n",
      "{'verbose': False, 'hidden_layer_sizes': (3, 14), 'activation': 'relu', 'solver': 'sgd', 'max_iter': 200}\n",
      "{'verbose': False, 'hidden_layer_sizes': (14, 3), 'activation': 'relu', 'solver': 'adam', 'max_iter': 200}\n",
      "{'verbose': False, 'hidden_layer_sizes': (14, 3), 'activation': 'relu', 'solver': 'sgd', 'max_iter': 200}\n",
      "{'verbose': False, 'hidden_layer_sizes': (7, 10), 'activation': 'relu', 'solver': 'adam', 'max_iter': 200}\n",
      "{'verbose': False, 'hidden_layer_sizes': (7, 10), 'activation': 'relu', 'solver': 'sgd', 'max_iter': 200}\n",
      "{'verbose': False, 'hidden_layer_sizes': (3, 14), 'activation': 'relu', 'solver': 'adam', 'max_iter': 200}\n",
      "{'verbose': False, 'hidden_layer_sizes': (3, 14), 'activation': 'relu', 'solver': 'sgd', 'max_iter': 200}\n",
      "{'verbose': False, 'hidden_layer_sizes': (9, 8), 'activation': 'relu', 'solver': 'adam', 'max_iter': 200}\n",
      "{'verbose': False, 'hidden_layer_sizes': (9, 8), 'activation': 'relu', 'solver': 'sgd', 'max_iter': 200}\n",
      "{'verbose': False, 'hidden_layer_sizes': (7, 10), 'activation': 'relu', 'solver': 'adam', 'max_iter': 200}\n",
      "{'verbose': False, 'hidden_layer_sizes': (7, 10), 'activation': 'relu', 'solver': 'sgd', 'max_iter': 200}\n",
      "{'verbose': False, 'hidden_layer_sizes': (4, 13), 'activation': 'relu', 'solver': 'adam', 'max_iter': 200}\n",
      "{'verbose': False, 'hidden_layer_sizes': (4, 13), 'activation': 'relu', 'solver': 'sgd', 'max_iter': 200}\n",
      "{'verbose': False, 'hidden_layer_sizes': (1, 16), 'activation': 'relu', 'solver': 'adam', 'max_iter': 200}\n",
      "{'verbose': False, 'hidden_layer_sizes': (1, 16), 'activation': 'relu', 'solver': 'sgd', 'max_iter': 200}\n",
      "{'verbose': False, 'hidden_layer_sizes': (5, 12), 'activation': 'relu', 'solver': 'adam', 'max_iter': 200}\n",
      "{'verbose': False, 'hidden_layer_sizes': (5, 12), 'activation': 'relu', 'solver': 'sgd', 'max_iter': 200}\n",
      "{'verbose': False, 'hidden_layer_sizes': (5, 12), 'activation': 'relu', 'solver': 'adam', 'max_iter': 200}\n",
      "{'verbose': False, 'hidden_layer_sizes': (5, 12), 'activation': 'relu', 'solver': 'sgd', 'max_iter': 200}\n",
      "{'verbose': False, 'hidden_layer_sizes': (13, 4), 'activation': 'relu', 'solver': 'adam', 'max_iter': 200}\n",
      "{'verbose': False, 'hidden_layer_sizes': (13, 4), 'activation': 'relu', 'solver': 'sgd', 'max_iter': 200}\n",
      "{'verbose': False, 'hidden_layer_sizes': (8, 9), 'activation': 'relu', 'solver': 'adam', 'max_iter': 200}\n",
      "{'verbose': False, 'hidden_layer_sizes': (8, 9), 'activation': 'relu', 'solver': 'sgd', 'max_iter': 200}\n",
      "{'verbose': False, 'hidden_layer_sizes': (11, 6), 'activation': 'relu', 'solver': 'adam', 'max_iter': 200}\n",
      "{'verbose': False, 'hidden_layer_sizes': (11, 6), 'activation': 'relu', 'solver': 'sgd', 'max_iter': 200}\n",
      "{'verbose': False, 'hidden_layer_sizes': (2, 15), 'activation': 'relu', 'solver': 'adam', 'max_iter': 200}\n",
      "{'verbose': False, 'hidden_layer_sizes': (2, 15), 'activation': 'relu', 'solver': 'sgd', 'max_iter': 200}\n",
      "{'verbose': False, 'hidden_layer_sizes': (12, 5), 'activation': 'relu', 'solver': 'adam', 'max_iter': 200}\n",
      "{'verbose': False, 'hidden_layer_sizes': (12, 5), 'activation': 'relu', 'solver': 'sgd', 'max_iter': 200}\n"
     ]
    }
   ],
   "source": [
    "results = []\n",
    "for hidden_layer_sizes in hidden_layer_sizes_list:\n",
    "  params = base_params.copy()\n",
    "  params['hidden_layer_sizes'] = hidden_layer_sizes\n",
    "  params['activation'] = 'relu'\n",
    "  for s in solvers:\n",
    "    params['solver'] = s\n",
    "    for i in max_iters:\n",
    "      params['max_iter'] = i\n",
    "      print(params)\n",
    "      mlp_params_all, acc_mean, acc_std, f1s_mean, f1s_std = evaluate_mlp(X, y, N=N, **params)\n",
    "      summarized_mlp_params = { param_key: mlp_params_all[param_key] for param_key in param_keys }\n",
    "      results.append((summarized_mlp_params.values(), acc_mean, acc_std, f1s_mean, f1s_std))"
   ]
  },
  {
   "cell_type": "code",
   "execution_count": 63,
   "metadata": {
    "colab": {
     "base_uri": "https://localhost:8080/"
    },
    "executionInfo": {
     "elapsed": 10,
     "status": "ok",
     "timestamp": 1638854645585,
     "user": {
      "displayName": "José Max Dias Figueira Junior",
      "photoUrl": "https://lh3.googleusercontent.com/a-/AOh14GiUkfqsRDxLzojLYrGgsXG_cTc15Dnqg5KFX8QqCQ=s64",
      "userId": "07239097205257965617"
     },
     "user_tz": 240
    },
    "id": "V2B1K0Au9DK4",
    "outputId": "39382d54-b296-4ccf-bd43-7664b5b0338a"
   },
   "outputs": [
    {
     "data": {
      "text/plain": [
       "[(dict_values([(7, 10), 'relu', 'adam', 200]),\n",
       "  0.7785404749523315,\n",
       "  0.00948004876956288,\n",
       "  0.7790194685629295,\n",
       "  0.00982293519613518),\n",
       " (dict_values([(7, 10), 'relu', 'sgd', 200]),\n",
       "  0.7356214248569943,\n",
       "  0.012401637040467811,\n",
       "  0.7388129951878533,\n",
       "  0.011000230050265167),\n",
       " (dict_values([(1, 16), 'relu', 'adam', 200]),\n",
       "  0.6483041543883978,\n",
       "  0.006729076207905052,\n",
       "  0.6581245612887936,\n",
       "  0.004903492374988661),\n",
       " (dict_values([(1, 16), 'relu', 'sgd', 200]),\n",
       "  0.6241405211764026,\n",
       "  0.015847973532879873,\n",
       "  0.6573942965994815,\n",
       "  0.00475840153339616),\n",
       " (dict_values([(14, 3), 'relu', 'adam', 200]),\n",
       "  0.775027445542266,\n",
       "  0.009087586561887979,\n",
       "  0.7760241513883523,\n",
       "  0.008829486700045894),\n",
       " (dict_values([(14, 3), 'relu', 'sgd', 200]),\n",
       "  0.7184376263939446,\n",
       "  0.022297395480434596,\n",
       "  0.7288139166124445,\n",
       "  0.013525071699980894),\n",
       " (dict_values([(13, 4), 'relu', 'adam', 200]),\n",
       "  0.7837060149072631,\n",
       "  0.008481329831255754,\n",
       "  0.7845086764546797,\n",
       "  0.008304840286707313),\n",
       " (dict_values([(13, 4), 'relu', 'sgd', 200]),\n",
       "  0.719916796671867,\n",
       "  0.02455004111614855,\n",
       "  0.724048958766556,\n",
       "  0.021240509732341054),\n",
       " (dict_values([(3, 1), 'relu', 'adam', 200]),\n",
       "  0.5977696885653204,\n",
       "  0.1285445554204824,\n",
       "  0.6204948927491465,\n",
       "  0.10718318466817324),\n",
       " (dict_values([(3, 1), 'relu', 'sgd', 200]),\n",
       "  0.41130178540474965,\n",
       "  0.17464161877819362,\n",
       "  0.48070687491627034,\n",
       "  0.15328202718379255),\n",
       " (dict_values([(1, 16), 'relu', 'adam', 200]),\n",
       "  0.652683885133183,\n",
       "  0.006391428582203663,\n",
       "  0.6607810873746905,\n",
       "  0.00666348946449174),\n",
       " (dict_values([(1, 16), 'relu', 'sgd', 200]),\n",
       "  0.6321257294736233,\n",
       "  0.015141179434761653,\n",
       "  0.6593210560569301,\n",
       "  0.0054668266242570845),\n",
       " (dict_values([(6, 11), 'relu', 'adam', 200]),\n",
       "  0.7633096434968508,\n",
       "  0.009372749720048784,\n",
       "  0.7639264116732699,\n",
       "  0.009582624768373177),\n",
       " (dict_values([(6, 11), 'relu', 'sgd', 200]),\n",
       "  0.7300629802969897,\n",
       "  0.00938739931072679,\n",
       "  0.7326019723504271,\n",
       "  0.008858312443951598),\n",
       " (dict_values([(10, 7), 'relu', 'adam', 200]),\n",
       "  0.7886288784884727,\n",
       "  0.00668826930287891,\n",
       "  0.7894491093898167,\n",
       "  0.006549915653396762),\n",
       " (dict_values([(10, 7), 'relu', 'sgd', 200]),\n",
       "  0.7398855954238169,\n",
       "  0.007198332441408244,\n",
       "  0.7416723199853714,\n",
       "  0.006701733627492771),\n",
       " (dict_values([(11, 6), 'relu', 'adam', 200]),\n",
       "  0.7881088576876409,\n",
       "  0.006517471099575825,\n",
       "  0.7892926063164343,\n",
       "  0.006530076475056526),\n",
       " (dict_values([(11, 6), 'relu', 'sgd', 200]),\n",
       "  0.7452360316634888,\n",
       "  0.01048624408690994,\n",
       "  0.7476391689134746,\n",
       "  0.009459627589056526),\n",
       " (dict_values([(8, 9), 'relu', 'adam', 200]),\n",
       "  0.781891720113249,\n",
       "  0.008378264324606971,\n",
       "  0.7826246237683505,\n",
       "  0.007693994519173971),\n",
       " (dict_values([(8, 9), 'relu', 'sgd', 200]),\n",
       "  0.7378748483272662,\n",
       "  0.010368433713097062,\n",
       "  0.7402424914306625,\n",
       "  0.009177063818145008),\n",
       " (dict_values([(5, 12), 'relu', 'adam', 200]),\n",
       "  0.7550008667013345,\n",
       "  0.01209028998201209,\n",
       "  0.7560529610589538,\n",
       "  0.011908407117755794),\n",
       " (dict_values([(5, 12), 'relu', 'sgd', 200]),\n",
       "  0.718969203212573,\n",
       "  0.01063231511915728,\n",
       "  0.7229249339846817,\n",
       "  0.009069592348839235),\n",
       " (dict_values([(13, 4), 'relu', 'adam', 200]),\n",
       "  0.7801583174438087,\n",
       "  0.009684011863013467,\n",
       "  0.7809426830381584,\n",
       "  0.009382101243895907),\n",
       " (dict_values([(13, 4), 'relu', 'sgd', 200]),\n",
       "  0.7322123996070953,\n",
       "  0.032499697064403296,\n",
       "  0.7371765344862033,\n",
       "  0.02508564373800283),\n",
       " (dict_values([(11, 6), 'relu', 'adam', 200]),\n",
       "  0.7880973016698446,\n",
       "  0.009093756342653215,\n",
       "  0.7890804866161351,\n",
       "  0.008690913129729033),\n",
       " (dict_values([(11, 6), 'relu', 'sgd', 200]),\n",
       "  0.7374357196510083,\n",
       "  0.01176782831744024,\n",
       "  0.7406246051229487,\n",
       "  0.010875417979404658),\n",
       " (dict_values([(3, 1), 'relu', 'adam', 200]),\n",
       "  0.5462529612295602,\n",
       "  0.20605478592535006,\n",
       "  0.5832990193950865,\n",
       "  0.17190949424135368),\n",
       " (dict_values([(3, 1), 'relu', 'sgd', 200]),\n",
       "  0.4676142601259606,\n",
       "  0.1687259132278921,\n",
       "  0.5355386416443754,\n",
       "  0.1483321940941706),\n",
       " (dict_values([(3, 1), 'relu', 'adam', 200]),\n",
       "  0.5522274224302305,\n",
       "  0.17434468572224426,\n",
       "  0.5950117087168457,\n",
       "  0.1444174514093275),\n",
       " (dict_values([(3, 1), 'relu', 'sgd', 200]),\n",
       "  0.4118333622233779,\n",
       "  0.1750618141870561,\n",
       "  0.4898005747458836,\n",
       "  0.15475461382565714),\n",
       " (dict_values([(3, 14), 'relu', 'adam', 200]),\n",
       "  0.7229329173166925,\n",
       "  0.009874169223560216,\n",
       "  0.7247615474073459,\n",
       "  0.009864291018967823),\n",
       " (dict_values([(3, 14), 'relu', 'sgd', 200]),\n",
       "  0.6970705494886462,\n",
       "  0.012329973149509949,\n",
       "  0.7026102599955134,\n",
       "  0.012395071771835008),\n",
       " (dict_values([(14, 3), 'relu', 'adam', 200]),\n",
       "  0.7746114289016004,\n",
       "  0.009588389458618174,\n",
       "  0.7760306648554046,\n",
       "  0.009431452166379096),\n",
       " (dict_values([(14, 3), 'relu', 'sgd', 200]),\n",
       "  0.7181487259490379,\n",
       "  0.03161490778332088,\n",
       "  0.7280505683932385,\n",
       "  0.022249821710938856),\n",
       " (dict_values([(7, 10), 'relu', 'adam', 200]),\n",
       "  0.7755590223608945,\n",
       "  0.008762220473567041,\n",
       "  0.775845462227485,\n",
       "  0.0090190159457695),\n",
       " (dict_values([(7, 10), 'relu', 'sgd', 200]),\n",
       "  0.7356214248569943,\n",
       "  0.006075388836086531,\n",
       "  0.7376262008037011,\n",
       "  0.005570306781708088),\n",
       " (dict_values([(3, 14), 'relu', 'adam', 200]),\n",
       "  0.7205408216328654,\n",
       "  0.013679347901075323,\n",
       "  0.7237307337694605,\n",
       "  0.01004125345907177),\n",
       " (dict_values([(3, 14), 'relu', 'sgd', 200]),\n",
       "  0.692737042815046,\n",
       "  0.011961533487269822,\n",
       "  0.6974109405113714,\n",
       "  0.011842770590643667),\n",
       " (dict_values([(9, 8), 'relu', 'adam', 200]),\n",
       "  0.7866181313919224,\n",
       "  0.009701275219296625,\n",
       "  0.7873435388951421,\n",
       "  0.009632804029298338),\n",
       " (dict_values([(9, 8), 'relu', 'sgd', 200]),\n",
       "  0.7400242676373723,\n",
       "  0.013330185854960453,\n",
       "  0.7437489128739132,\n",
       "  0.01205247013252044),\n",
       " (dict_values([(7, 10), 'relu', 'adam', 200]),\n",
       "  0.7803085456751605,\n",
       "  0.009405803443968012,\n",
       "  0.7811380497676069,\n",
       "  0.00933589068984088),\n",
       " (dict_values([(7, 10), 'relu', 'sgd', 200]),\n",
       "  0.732674640318946,\n",
       "  0.009551284649802781,\n",
       "  0.7348836584055375,\n",
       "  0.009068098439604337),\n",
       " (dict_values([(4, 13), 'relu', 'adam', 200]),\n",
       "  0.7432946206737159,\n",
       "  0.00782184496456658,\n",
       "  0.7441134774655465,\n",
       "  0.007726962809657136),\n",
       " (dict_values([(4, 13), 'relu', 'sgd', 200]),\n",
       "  0.7105101981857052,\n",
       "  0.009353195517680407,\n",
       "  0.7146383986034355,\n",
       "  0.008425084881326877),\n",
       " (dict_values([(1, 16), 'relu', 'adam', 200]),\n",
       "  0.6506269139654474,\n",
       "  0.006085491576953158,\n",
       "  0.6624675777707003,\n",
       "  0.004554453896419457),\n",
       " (dict_values([(1, 16), 'relu', 'sgd', 200]),\n",
       "  0.6283122436008551,\n",
       "  0.01366971890959588,\n",
       "  0.654651236440081,\n",
       "  0.008290572745847123),\n",
       " (dict_values([(5, 12), 'relu', 'adam', 200]),\n",
       "  0.7554053273242042,\n",
       "  0.007924378584890122,\n",
       "  0.7564140037030165,\n",
       "  0.008171566128605704),\n",
       " (dict_values([(5, 12), 'relu', 'sgd', 200]),\n",
       "  0.7187958629456289,\n",
       "  0.011065838937261424,\n",
       "  0.7214751806790419,\n",
       "  0.010575650156199662),\n",
       " (dict_values([(5, 12), 'relu', 'adam', 200]),\n",
       "  0.7583289998266597,\n",
       "  0.01190385387584333,\n",
       "  0.7595086881916958,\n",
       "  0.011648830429813026),\n",
       " (dict_values([(5, 12), 'relu', 'sgd', 200]),\n",
       "  0.7198243485294967,\n",
       "  0.010702207702633018,\n",
       "  0.7233713075473671,\n",
       "  0.009635029184022974),\n",
       " (dict_values([(13, 4), 'relu', 'adam', 200]),\n",
       "  0.7814757034725833,\n",
       "  0.0093266442563902,\n",
       "  0.7818333506762821,\n",
       "  0.00919249848801886),\n",
       " (dict_values([(13, 4), 'relu', 'sgd', 200]),\n",
       "  0.7277171086843475,\n",
       "  0.018700000700485206,\n",
       "  0.7332865145230951,\n",
       "  0.011709022577601773),\n",
       " (dict_values([(8, 9), 'relu', 'adam', 200]),\n",
       "  0.7810827988675102,\n",
       "  0.008313219611761192,\n",
       "  0.7817926843265586,\n",
       "  0.008354565853331929),\n",
       " (dict_values([(8, 9), 'relu', 'sgd', 200]),\n",
       "  0.7383833131103023,\n",
       "  0.009086616644029969,\n",
       "  0.74041421706723,\n",
       "  0.009229337714570744),\n",
       " (dict_values([(11, 6), 'relu', 'adam', 200]),\n",
       "  0.7913792107239845,\n",
       "  0.00764660920424636,\n",
       "  0.7916597639472805,\n",
       "  0.007582301868466869),\n",
       " (dict_values([(11, 6), 'relu', 'sgd', 200]),\n",
       "  0.7450858034321374,\n",
       "  0.010575896771866858,\n",
       "  0.7473361437742165,\n",
       "  0.010389978458975237),\n",
       " (dict_values([(2, 15), 'relu', 'adam', 200]),\n",
       "  0.6910267521811984,\n",
       "  0.012005673638111631,\n",
       "  0.6943026375160684,\n",
       "  0.010658361245101144),\n",
       " (dict_values([(2, 15), 'relu', 'sgd', 200]),\n",
       "  0.6633385335413415,\n",
       "  0.012698512496480437,\n",
       "  0.6708786724955889,\n",
       "  0.012837882586292499),\n",
       " (dict_values([(12, 5), 'relu', 'adam', 200]),\n",
       "  0.7891835673426936,\n",
       "  0.011742392612236422,\n",
       "  0.7898076978066405,\n",
       "  0.011633772681166433),\n",
       " (dict_values([(12, 5), 'relu', 'sgd', 200]),\n",
       "  0.7299589761368231,\n",
       "  0.01734383112872284,\n",
       "  0.7347630129385659,\n",
       "  0.014105559401536698)]"
      ]
     },
     "execution_count": 63,
     "metadata": {},
     "output_type": "execute_result"
    }
   ],
   "source": [
    "results"
   ]
  },
  {
   "cell_type": "code",
   "execution_count": 64,
   "metadata": {
    "executionInfo": {
     "elapsed": 323,
     "status": "ok",
     "timestamp": 1638858244146,
     "user": {
      "displayName": "José Max Dias Figueira Junior",
      "photoUrl": "https://lh3.googleusercontent.com/a-/AOh14GiUkfqsRDxLzojLYrGgsXG_cTc15Dnqg5KFX8QqCQ=s64",
      "userId": "07239097205257965617"
     },
     "user_tz": 240
    },
    "id": "x_lDd0qIkAxj"
   },
   "outputs": [],
   "source": [
    "df = pd.DataFrame(results, columns=['conf', 'acc_m', 'acc_sd', 'f1s_m', 'f1s_sd'])"
   ]
  },
  {
   "cell_type": "code",
   "execution_count": 65,
   "metadata": {
    "colab": {
     "base_uri": "https://localhost:8080/",
     "height": 143
    },
    "executionInfo": {
     "elapsed": 304,
     "status": "ok",
     "timestamp": 1638858248301,
     "user": {
      "displayName": "José Max Dias Figueira Junior",
      "photoUrl": "https://lh3.googleusercontent.com/a-/AOh14GiUkfqsRDxLzojLYrGgsXG_cTc15Dnqg5KFX8QqCQ=s64",
      "userId": "07239097205257965617"
     },
     "user_tz": 240
    },
    "id": "K6kMvFUXkAx6",
    "outputId": "d9a57723-c46f-4d5d-a705-f3207580e729"
   },
   "outputs": [
    {
     "data": {
      "text/html": [
       "<div>\n",
       "<style scoped>\n",
       "    .dataframe tbody tr th:only-of-type {\n",
       "        vertical-align: middle;\n",
       "    }\n",
       "\n",
       "    .dataframe tbody tr th {\n",
       "        vertical-align: top;\n",
       "    }\n",
       "\n",
       "    .dataframe thead th {\n",
       "        text-align: right;\n",
       "    }\n",
       "</style>\n",
       "<table border=\"1\" class=\"dataframe\">\n",
       "  <thead>\n",
       "    <tr style=\"text-align: right;\">\n",
       "      <th></th>\n",
       "      <th>conf</th>\n",
       "      <th>acc_m</th>\n",
       "      <th>acc_sd</th>\n",
       "      <th>f1s_m</th>\n",
       "      <th>f1s_sd</th>\n",
       "    </tr>\n",
       "  </thead>\n",
       "  <tbody>\n",
       "    <tr>\n",
       "      <th>54</th>\n",
       "      <td>((11, 6), relu, adam, 200)</td>\n",
       "      <td>0.791379</td>\n",
       "      <td>0.007647</td>\n",
       "      <td>0.791660</td>\n",
       "      <td>0.007582</td>\n",
       "    </tr>\n",
       "    <tr>\n",
       "      <th>58</th>\n",
       "      <td>((12, 5), relu, adam, 200)</td>\n",
       "      <td>0.789184</td>\n",
       "      <td>0.011742</td>\n",
       "      <td>0.789808</td>\n",
       "      <td>0.011634</td>\n",
       "    </tr>\n",
       "    <tr>\n",
       "      <th>14</th>\n",
       "      <td>((10, 7), relu, adam, 200)</td>\n",
       "      <td>0.788629</td>\n",
       "      <td>0.006688</td>\n",
       "      <td>0.789449</td>\n",
       "      <td>0.006550</td>\n",
       "    </tr>\n",
       "  </tbody>\n",
       "</table>\n",
       "</div>"
      ],
      "text/plain": [
       "                          conf     acc_m    acc_sd     f1s_m    f1s_sd\n",
       "54  ((11, 6), relu, adam, 200)  0.791379  0.007647  0.791660  0.007582\n",
       "58  ((12, 5), relu, adam, 200)  0.789184  0.011742  0.789808  0.011634\n",
       "14  ((10, 7), relu, adam, 200)  0.788629  0.006688  0.789449  0.006550"
      ]
     },
     "execution_count": 65,
     "metadata": {},
     "output_type": "execute_result"
    }
   ],
   "source": [
    "df2 = df.sort_values(['acc_m', 'acc_sd'], ascending = [False, True])\n",
    "df2 = df2.head(3)\n",
    "df2"
   ]
  },
  {
   "cell_type": "code",
   "execution_count": 66,
   "metadata": {
    "colab": {
     "base_uri": "https://localhost:8080/",
     "height": 143
    },
    "executionInfo": {
     "elapsed": 458,
     "status": "ok",
     "timestamp": 1638858255805,
     "user": {
      "displayName": "José Max Dias Figueira Junior",
      "photoUrl": "https://lh3.googleusercontent.com/a-/AOh14GiUkfqsRDxLzojLYrGgsXG_cTc15Dnqg5KFX8QqCQ=s64",
      "userId": "07239097205257965617"
     },
     "user_tz": 240
    },
    "id": "A0iqHV2_kAx7",
    "outputId": "9fce9da1-790f-421e-9f77-bb36299b7758"
   },
   "outputs": [
    {
     "data": {
      "text/html": [
       "<div>\n",
       "<style scoped>\n",
       "    .dataframe tbody tr th:only-of-type {\n",
       "        vertical-align: middle;\n",
       "    }\n",
       "\n",
       "    .dataframe tbody tr th {\n",
       "        vertical-align: top;\n",
       "    }\n",
       "\n",
       "    .dataframe thead th {\n",
       "        text-align: right;\n",
       "    }\n",
       "</style>\n",
       "<table border=\"1\" class=\"dataframe\">\n",
       "  <thead>\n",
       "    <tr style=\"text-align: right;\">\n",
       "      <th></th>\n",
       "      <th>conf</th>\n",
       "      <th>acc_m</th>\n",
       "      <th>acc_sd</th>\n",
       "      <th>f1s_m</th>\n",
       "      <th>f1s_sd</th>\n",
       "    </tr>\n",
       "  </thead>\n",
       "  <tbody>\n",
       "    <tr>\n",
       "      <th>54</th>\n",
       "      <td>((11, 6), relu, adam, 200)</td>\n",
       "      <td>0.791379</td>\n",
       "      <td>0.007647</td>\n",
       "      <td>0.791660</td>\n",
       "      <td>0.007582</td>\n",
       "    </tr>\n",
       "    <tr>\n",
       "      <th>58</th>\n",
       "      <td>((12, 5), relu, adam, 200)</td>\n",
       "      <td>0.789184</td>\n",
       "      <td>0.011742</td>\n",
       "      <td>0.789808</td>\n",
       "      <td>0.011634</td>\n",
       "    </tr>\n",
       "    <tr>\n",
       "      <th>14</th>\n",
       "      <td>((10, 7), relu, adam, 200)</td>\n",
       "      <td>0.788629</td>\n",
       "      <td>0.006688</td>\n",
       "      <td>0.789449</td>\n",
       "      <td>0.006550</td>\n",
       "    </tr>\n",
       "  </tbody>\n",
       "</table>\n",
       "</div>"
      ],
      "text/plain": [
       "                          conf     acc_m    acc_sd     f1s_m    f1s_sd\n",
       "54  ((11, 6), relu, adam, 200)  0.791379  0.007647  0.791660  0.007582\n",
       "58  ((12, 5), relu, adam, 200)  0.789184  0.011742  0.789808  0.011634\n",
       "14  ((10, 7), relu, adam, 200)  0.788629  0.006688  0.789449  0.006550"
      ]
     },
     "execution_count": 66,
     "metadata": {},
     "output_type": "execute_result"
    }
   ],
   "source": [
    "df3 = df.sort_values(['f1s_m', 'f1s_sd'], ascending = [False, True])\n",
    "df3 = df3.head(3)\n",
    "df3"
   ]
  },
  {
   "cell_type": "code",
   "execution_count": 67,
   "metadata": {
    "colab": {
     "base_uri": "https://localhost:8080/",
     "height": 174
    },
    "executionInfo": {
     "elapsed": 331,
     "status": "ok",
     "timestamp": 1638858280954,
     "user": {
      "displayName": "José Max Dias Figueira Junior",
      "photoUrl": "https://lh3.googleusercontent.com/a-/AOh14GiUkfqsRDxLzojLYrGgsXG_cTc15Dnqg5KFX8QqCQ=s64",
      "userId": "07239097205257965617"
     },
     "user_tz": 240
    },
    "id": "WcmKLsNOkAx7",
    "outputId": "2b44eea2-83f5-4115-9ad0-473bec414fd8"
   },
   "outputs": [
    {
     "data": {
      "text/html": [
       "<div>\n",
       "<style scoped>\n",
       "    .dataframe tbody tr th:only-of-type {\n",
       "        vertical-align: middle;\n",
       "    }\n",
       "\n",
       "    .dataframe tbody tr th {\n",
       "        vertical-align: top;\n",
       "    }\n",
       "\n",
       "    .dataframe thead tr th {\n",
       "        text-align: left;\n",
       "    }\n",
       "</style>\n",
       "<table border=\"1\" class=\"dataframe\">\n",
       "  <thead>\n",
       "    <tr>\n",
       "      <th></th>\n",
       "      <th>Configuração MLP</th>\n",
       "      <th colspan=\"2\" halign=\"left\">Acurácia</th>\n",
       "      <th colspan=\"2\" halign=\"left\">F1-Score</th>\n",
       "    </tr>\n",
       "    <tr>\n",
       "      <th></th>\n",
       "      <th>['hidden_layer_sizes', 'activation', 'solver', 'max_iter']</th>\n",
       "      <th>Média</th>\n",
       "      <th>Desvio Padrão</th>\n",
       "      <th>Média</th>\n",
       "      <th>Desvio Padrão</th>\n",
       "    </tr>\n",
       "  </thead>\n",
       "  <tbody>\n",
       "    <tr>\n",
       "      <th>0</th>\n",
       "      <td>((11, 6), relu, adam, 200)</td>\n",
       "      <td>0.791379</td>\n",
       "      <td>0.00764661</td>\n",
       "      <td>0.79166</td>\n",
       "      <td>0.0075823</td>\n",
       "    </tr>\n",
       "    <tr>\n",
       "      <th>1</th>\n",
       "      <td>((12, 5), relu, adam, 200)</td>\n",
       "      <td>0.789184</td>\n",
       "      <td>0.0117424</td>\n",
       "      <td>0.789808</td>\n",
       "      <td>0.0116338</td>\n",
       "    </tr>\n",
       "    <tr>\n",
       "      <th>2</th>\n",
       "      <td>((10, 7), relu, adam, 200)</td>\n",
       "      <td>0.788629</td>\n",
       "      <td>0.00668827</td>\n",
       "      <td>0.789449</td>\n",
       "      <td>0.00654992</td>\n",
       "    </tr>\n",
       "  </tbody>\n",
       "</table>\n",
       "</div>"
      ],
      "text/plain": [
       "                                            Configuração MLP  Acurácia  \\\n",
       "  ['hidden_layer_sizes', 'activation', 'solver', 'max_iter']     Média   \n",
       "0                         ((11, 6), relu, adam, 200)          0.791379   \n",
       "1                         ((12, 5), relu, adam, 200)          0.789184   \n",
       "2                         ((10, 7), relu, adam, 200)          0.788629   \n",
       "\n",
       "                 F1-Score                \n",
       "  Desvio Padrão     Média Desvio Padrão  \n",
       "0    0.00764661   0.79166     0.0075823  \n",
       "1     0.0117424  0.789808     0.0116338  \n",
       "2    0.00668827  0.789449    0.00654992  "
      ]
     },
     "execution_count": 67,
     "metadata": {},
     "output_type": "execute_result"
    }
   ],
   "source": [
    "index = pd.MultiIndex.from_tuples([('Configuração MLP', str(param_keys)), \n",
    "                                   ('Acurácia', 'Média'),\n",
    "                                   ('Acurácia','Desvio Padrão'),\n",
    "                                   ('F1-Score','Média'),\n",
    "                                   ('F1-Score','Desvio Padrão')])\n",
    "\n",
    "df = pd.DataFrame(df3.values, columns=index)\n",
    "# df.set_index(('Configuração MLP', str(param_keys)))\n",
    "df"
   ]
  },
  {
   "cell_type": "markdown",
   "metadata": {
    "id": "OsTJC0KPkNv7"
   },
   "source": [
    "## Testando as Redes Neurais com Atributos Categóricos\n",
    "\n",
    "1. Considere as 6 redes neurais obtidas nos dois top-3 anteriores (arquiteturas próprias e regra da pirâmide geométrica)\n",
    "2. Com todos os atributos preditores da base de dados original, incluindo os categóricos, treine e teste estas mesmas redes por 15 repetições  \n",
    "    2.1 Considere o melhor otimizador para cada uma delas  \n",
    "    2.2 Faça uso de 200 épocas para treinamento  \n",
    "    2.2 Apresente os resultados de acurácia e F-Score em termos da média +- dp para cada arquitetura\n",
    "3. Apresente o gráfico boxplot para o F-Score das 6 arquiteturas perante as 15 repetições"
   ]
  },
  {
   "cell_type": "code",
   "execution_count": null,
   "metadata": {
    "id": "I3W2n-FnkNv7"
   },
   "outputs": [],
   "source": []
  },
  {
   "cell_type": "code",
   "execution_count": 30,
   "metadata": {
    "executionInfo": {
     "elapsed": 320,
     "status": "ok",
     "timestamp": 1638858347630,
     "user": {
      "displayName": "José Max Dias Figueira Junior",
      "photoUrl": "https://lh3.googleusercontent.com/a-/AOh14GiUkfqsRDxLzojLYrGgsXG_cTc15Dnqg5KFX8QqCQ=s64",
      "userId": "07239097205257965617"
     },
     "user_tz": 240
    },
    "id": "umrxuyR9IxFG"
   },
   "outputs": [],
   "source": [
    "data_all_full = pd.read_csv('data/covtype.csv')"
   ]
  },
  {
   "cell_type": "code",
   "execution_count": 31,
   "metadata": {
    "colab": {
     "base_uri": "https://localhost:8080/"
    },
    "executionInfo": {
     "elapsed": 416,
     "status": "ok",
     "timestamp": 1638858350605,
     "user": {
      "displayName": "José Max Dias Figueira Junior",
      "photoUrl": "https://lh3.googleusercontent.com/a-/AOh14GiUkfqsRDxLzojLYrGgsXG_cTc15Dnqg5KFX8QqCQ=s64",
      "userId": "07239097205257965617"
     },
     "user_tz": 240
    },
    "id": "2DfGHtJ5IxFU",
    "outputId": "5b582f41-fa3a-40a8-de1e-94c9ae6e82a4"
   },
   "outputs": [
    {
     "data": {
      "text/plain": [
       "(581012, 55)"
      ]
     },
     "execution_count": 31,
     "metadata": {},
     "output_type": "execute_result"
    }
   ],
   "source": [
    "data_all_full.shape"
   ]
  },
  {
   "cell_type": "code",
   "execution_count": 32,
   "metadata": {
    "colab": {
     "base_uri": "https://localhost:8080/"
    },
    "executionInfo": {
     "elapsed": 424,
     "status": "ok",
     "timestamp": 1638858360953,
     "user": {
      "displayName": "José Max Dias Figueira Junior",
      "photoUrl": "https://lh3.googleusercontent.com/a-/AOh14GiUkfqsRDxLzojLYrGgsXG_cTc15Dnqg5KFX8QqCQ=s64",
      "userId": "07239097205257965617"
     },
     "user_tz": 240
    },
    "id": "NY25o20LIxFU",
    "outputId": "5b74c4b2-33c0-42f6-f4fd-feb4b82358da"
   },
   "outputs": [
    {
     "data": {
      "text/plain": [
       "Elevation                             int64\n",
       "Aspect                                int64\n",
       "Slope                                 int64\n",
       "Horizontal_Distance_To_Hydrology      int64\n",
       "Vertical_Distance_To_Hydrology        int64\n",
       "Horizontal_Distance_To_Roadways       int64\n",
       "Hillshade_9am                         int64\n",
       "Hillshade_Noon                        int64\n",
       "Hillshade_3pm                         int64\n",
       "Horizontal_Distance_To_Fire_Points    int64\n",
       "Wilderness_Area1                      int64\n",
       "Wilderness_Area2                      int64\n",
       "Wilderness_Area3                      int64\n",
       "Wilderness_Area4                      int64\n",
       "Soil_Type1                            int64\n",
       "Soil_Type2                            int64\n",
       "Soil_Type3                            int64\n",
       "Soil_Type4                            int64\n",
       "Soil_Type5                            int64\n",
       "Soil_Type6                            int64\n",
       "Soil_Type7                            int64\n",
       "Soil_Type8                            int64\n",
       "Soil_Type9                            int64\n",
       "Soil_Type10                           int64\n",
       "Soil_Type11                           int64\n",
       "Soil_Type12                           int64\n",
       "Soil_Type13                           int64\n",
       "Soil_Type14                           int64\n",
       "Soil_Type15                           int64\n",
       "Soil_Type16                           int64\n",
       "Soil_Type17                           int64\n",
       "Soil_Type18                           int64\n",
       "Soil_Type19                           int64\n",
       "Soil_Type20                           int64\n",
       "Soil_Type21                           int64\n",
       "Soil_Type22                           int64\n",
       "Soil_Type23                           int64\n",
       "Soil_Type24                           int64\n",
       "Soil_Type25                           int64\n",
       "Soil_Type26                           int64\n",
       "Soil_Type27                           int64\n",
       "Soil_Type28                           int64\n",
       "Soil_Type29                           int64\n",
       "Soil_Type30                           int64\n",
       "Soil_Type31                           int64\n",
       "Soil_Type32                           int64\n",
       "Soil_Type33                           int64\n",
       "Soil_Type34                           int64\n",
       "Soil_Type35                           int64\n",
       "Soil_Type36                           int64\n",
       "Soil_Type37                           int64\n",
       "Soil_Type38                           int64\n",
       "Soil_Type39                           int64\n",
       "Soil_Type40                           int64\n",
       "Cover_Type                            int64\n",
       "dtype: object"
      ]
     },
     "execution_count": 32,
     "metadata": {},
     "output_type": "execute_result"
    }
   ],
   "source": [
    "data_all_full.dtypes"
   ]
  },
  {
   "cell_type": "code",
   "execution_count": 33,
   "metadata": {
    "executionInfo": {
     "elapsed": 423,
     "status": "ok",
     "timestamp": 1638859289516,
     "user": {
      "displayName": "José Max Dias Figueira Junior",
      "photoUrl": "https://lh3.googleusercontent.com/a-/AOh14GiUkfqsRDxLzojLYrGgsXG_cTc15Dnqg5KFX8QqCQ=s64",
      "userId": "07239097205257965617"
     },
     "user_tz": 240
    },
    "id": "vQ11xiTgn-sr"
   },
   "outputs": [],
   "source": [
    "X = data_all_full.iloc[:, :(data_all_full.shape[1] - 1)]\n",
    "y = data_all_full.iloc[:, -1:]\n",
    "\n"
   ]
  },
  {
   "cell_type": "code",
   "execution_count": 34,
   "metadata": {},
   "outputs": [],
   "source": [
    "nm1 = NearMiss(version=1)\n",
    "X_resampled_nm1, y_resampled = nm1.fit_resample(X, y)\n",
    "\n",
    "X = X_resampled_nm1\n",
    "y = y_resampled\n",
    "\n"
   ]
  },
  {
   "cell_type": "code",
   "execution_count": 69,
   "metadata": {},
   "outputs": [
    {
     "data": {
      "text/plain": [
       "19229"
      ]
     },
     "execution_count": 69,
     "metadata": {},
     "output_type": "execute_result"
    }
   ],
   "source": [
    "len(X)"
   ]
  },
  {
   "cell_type": "code",
   "execution_count": 35,
   "metadata": {},
   "outputs": [],
   "source": [
    "X = np.array(X)\n",
    "y = np.array(y)"
   ]
  },
  {
   "cell_type": "code",
   "execution_count": 31,
   "metadata": {
    "colab": {
     "base_uri": "https://localhost:8080/",
     "height": 174
    },
    "executionInfo": {
     "elapsed": 435,
     "status": "ok",
     "timestamp": 1638849991222,
     "user": {
      "displayName": "José Max Dias Figueira Junior",
      "photoUrl": "https://lh3.googleusercontent.com/a-/AOh14GiUkfqsRDxLzojLYrGgsXG_cTc15Dnqg5KFX8QqCQ=s64",
      "userId": "07239097205257965617"
     },
     "user_tz": 240
    },
    "id": "-jy0K8y07mug",
    "outputId": "8a884b05-c71f-4171-8283-cbece2086b7b"
   },
   "outputs": [],
   "source": [
    "###TOP 3 ARQUITETURA PROPRIA"
   ]
  },
  {
   "cell_type": "code",
   "execution_count": 32,
   "metadata": {
    "colab": {
     "base_uri": "https://localhost:8080/",
     "height": 174
    },
    "executionInfo": {
     "elapsed": 331,
     "status": "ok",
     "timestamp": 1638858280954,
     "user": {
      "displayName": "José Max Dias Figueira Junior",
      "photoUrl": "https://lh3.googleusercontent.com/a-/AOh14GiUkfqsRDxLzojLYrGgsXG_cTc15Dnqg5KFX8QqCQ=s64",
      "userId": "07239097205257965617"
     },
     "user_tz": 240
    },
    "id": "WcmKLsNOkAx7",
    "outputId": "2b44eea2-83f5-4115-9ad0-473bec414fd8"
   },
   "outputs": [],
   "source": [
    "### TOP 3 Utilizando a Regra da Pirâmide"
   ]
  },
  {
   "cell_type": "code",
   "execution_count": 73,
   "metadata": {},
   "outputs": [],
   "source": [
    "hidden_layer_sizes_list = [ (200,200),(15,15),(15,10),(11,6),(12,5),(10,7)]\n",
    "solvers = ['adam', 'adam','adam','adam','adam','adam']\n",
    "max_iters = [300, 350, 350, 350, 350, 350]\n",
    "activation = ['relu','relu','relu', 'relu','relu','relu']\n",
    "\n",
    "base_params = {'random_state': 1, 'verbose': False}\n",
    "params = {}\n",
    "param_keys = ['hidden_layer_sizes', 'activation', 'solver', 'max_iter']\n",
    "params['hidden_layer_sizes'] = hidden_layer_sizes_list\n",
    "params['activation'] = activation\n",
    "params['solver'] = solvers\n",
    "params['max_iter'] = max_iters\n",
    "\n"
   ]
  },
  {
   "cell_type": "code",
   "execution_count": 74,
   "metadata": {
    "executionInfo": {
     "elapsed": 416,
     "status": "ok",
     "timestamp": 1638858842692,
     "user": {
      "displayName": "José Max Dias Figueira Junior",
      "photoUrl": "https://lh3.googleusercontent.com/a-/AOh14GiUkfqsRDxLzojLYrGgsXG_cTc15Dnqg5KFX8QqCQ=s64",
      "userId": "07239097205257965617"
     },
     "user_tz": 240
    },
    "id": "vfUFRNFFlTrX"
   },
   "outputs": [
    {
     "name": "stdout",
     "output_type": "stream",
     "text": [
      "{'random_state': 1, 'verbose': False, 'hidden_layer_sizes': (200, 200), 'activation': 'relu', 'solver': 'adam', 'max_iter': 200}\n"
     ]
    }
   ],
   "source": [
    "results = []\n",
    "\n",
    "for i in range(1):\n",
    "# for i in range(len(hidden_layer_sizes_list)):\n",
    "    params_network = {'random_state': 1, \n",
    "                      'verbose': False, \n",
    "                      'hidden_layer_sizes': hidden_layer_sizes_list[i], \n",
    "                      'activation': activation[i], \n",
    "                      'solver': solvers[i], \n",
    "                      'max_iter': max_iters[i]}\n",
    "    print(params_network)                  \n",
    "    mlp_params_all, acc_mean, acc_std, f1s_mean, f1s_std = evaluate_mlp(X, y, N=3, **params_network)\n",
    "    summarized_mlp_params = { param_key: mlp_params_all[param_key] for param_key in param_keys }\n",
    "    results.append((summarized_mlp_params.values(), acc_mean, acc_std, f1s_mean, f1s_std))"
   ]
  },
  {
   "cell_type": "code",
   "execution_count": 75,
   "metadata": {},
   "outputs": [
    {
     "data": {
      "text/plain": [
       "[(dict_values([(200, 200), 'relu', 'adam', 200]),\n",
       "  0.8940890968972092,\n",
       "  0.00788015351995489,\n",
       "  0.894204142570862,\n",
       "  0.007841723370680042)]"
      ]
     },
     "execution_count": 75,
     "metadata": {},
     "output_type": "execute_result"
    }
   ],
   "source": [
    "results"
   ]
  },
  {
   "cell_type": "code",
   "execution_count": 15,
   "metadata": {},
   "outputs": [
    {
     "data": {
      "text/html": [
       "<div>\n",
       "<style scoped>\n",
       "    .dataframe tbody tr th:only-of-type {\n",
       "        vertical-align: middle;\n",
       "    }\n",
       "\n",
       "    .dataframe tbody tr th {\n",
       "        vertical-align: top;\n",
       "    }\n",
       "\n",
       "    .dataframe thead th {\n",
       "        text-align: right;\n",
       "    }\n",
       "</style>\n",
       "<table border=\"1\" class=\"dataframe\">\n",
       "  <thead>\n",
       "    <tr style=\"text-align: right;\">\n",
       "      <th></th>\n",
       "      <th>conf</th>\n",
       "      <th>acc_m</th>\n",
       "      <th>acc_sd</th>\n",
       "      <th>f1s_m</th>\n",
       "      <th>f1s_sd</th>\n",
       "    </tr>\n",
       "  </thead>\n",
       "  <tbody>\n",
       "    <tr>\n",
       "      <th>0</th>\n",
       "      <td>((15, 15), relu, adam, 350)</td>\n",
       "      <td>0.753441</td>\n",
       "      <td>0.014941</td>\n",
       "      <td>0.755105</td>\n",
       "      <td>0.014762</td>\n",
       "    </tr>\n",
       "    <tr>\n",
       "      <th>1</th>\n",
       "      <td>((15, 15), relu, adam, 350)</td>\n",
       "      <td>0.750124</td>\n",
       "      <td>0.010043</td>\n",
       "      <td>0.750694</td>\n",
       "      <td>0.010619</td>\n",
       "    </tr>\n",
       "    <tr>\n",
       "      <th>2</th>\n",
       "      <td>((15, 10), relu, adam, 350)</td>\n",
       "      <td>0.741388</td>\n",
       "      <td>0.011936</td>\n",
       "      <td>0.742452</td>\n",
       "      <td>0.011545</td>\n",
       "    </tr>\n",
       "  </tbody>\n",
       "</table>\n",
       "</div>"
      ],
      "text/plain": [
       "                          conf     acc_m    acc_sd     f1s_m    f1s_sd\n",
       "0  ((15, 15), relu, adam, 350)  0.753441  0.014941  0.755105  0.014762\n",
       "1  ((15, 15), relu, adam, 350)  0.750124  0.010043  0.750694  0.010619\n",
       "2  ((15, 10), relu, adam, 350)  0.741388  0.011936  0.742452  0.011545"
      ]
     },
     "execution_count": 15,
     "metadata": {},
     "output_type": "execute_result"
    }
   ],
   "source": [
    "df = pd.DataFrame(results, columns=['conf', 'acc_m', 'acc_sd', 'f1s_m', 'f1s_sd'])\n",
    "df2 = df.sort_values(['acc_m', 'acc_sd'], ascending = [False, True])\n",
    "df2 = df2.head(3)\n",
    "df2"
   ]
  },
  {
   "cell_type": "code",
   "execution_count": 14,
   "metadata": {
    "colab": {
     "base_uri": "https://localhost:8080/"
    },
    "executionInfo": {
     "elapsed": 25,
     "status": "ok",
     "timestamp": 1638860086060,
     "user": {
      "displayName": "José Max Dias Figueira Junior",
      "photoUrl": "https://lh3.googleusercontent.com/a-/AOh14GiUkfqsRDxLzojLYrGgsXG_cTc15Dnqg5KFX8QqCQ=s64",
      "userId": "07239097205257965617"
     },
     "user_tz": 240
    },
    "id": "gdzCA76WlTrZ",
    "outputId": "6b0b93de-eea8-476e-edf8-c509d88792fa"
   },
   "outputs": [
    {
     "name": "stdout",
     "output_type": "stream",
     "text": [
      "{'activation': 'relu', 'alpha': 0.0001, 'batch_size': 'auto', 'beta_1': 0.9, 'beta_2': 0.999, 'early_stopping': False, 'epsilon': 1e-08, 'hidden_layer_sizes': (10, 7), 'learning_rate': 'constant', 'learning_rate_init': 0.001, 'max_fun': 15000, 'max_iter': 350, 'momentum': 0.9, 'n_iter_no_change': 10, 'nesterovs_momentum': True, 'power_t': 0.5, 'random_state': 1, 'shuffle': True, 'solver': 'adam', 'tol': 0.0001, 'validation_fraction': 0.1, 'verbose': False, 'warm_start': False}\n",
      "Acurácia - Média:  0.682717975385682\n",
      "Acurácia - Desvio Padrão :  0.013509839862780473\n",
      "F1-Score - Média:  0.686994173565431\n",
      "F1-Score - Desvio Padrão:  0.013495899433407286\n"
     ]
    }
   ],
   "source": [
    "print(mlp_params_all)\n",
    "print('Acurácia - Média: ', acc_mean)\n",
    "print('Acurácia - Desvio Padrão : ', acc_std)\n",
    "print('F1-Score - Média: ', f1s_mean)\n",
    "print('F1-Score - Desvio Padrão: ', f1s_std)"
   ]
  }
 ],
 "metadata": {
  "colab": {
   "collapsed_sections": [],
   "name": "PP2.2.2 - Proposição e Avaliação de RNAs_Max.ipynb",
   "provenance": []
  },
  "kernelspec": {
   "display_name": "Python 3 (ipykernel)",
   "language": "python",
   "name": "python3"
  },
  "language_info": {
   "codemirror_mode": {
    "name": "ipython",
    "version": 3
   },
   "file_extension": ".py",
   "mimetype": "text/x-python",
   "name": "python",
   "nbconvert_exporter": "python",
   "pygments_lexer": "ipython3",
   "version": "3.7.6"
  }
 },
 "nbformat": 4,
 "nbformat_minor": 0
}

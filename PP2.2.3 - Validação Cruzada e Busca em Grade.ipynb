{
 "cells": [
  {
   "cell_type": "markdown",
   "metadata": {},
   "source": [
    "# Redes Neurais Artificiais 2021.1\n",
    "\n",
    "- **Disciplina**: Redes Neurais Artificiais 2021.1  \n",
    "- **Professora**: Elloá B. Guedes (ebgcosta@uea.edu.br)  \n",
    "- **Github**: http://github.com/elloa  \n",
    "        \n",
    "\n",
    "Levando em conta a base de dados **_Forest Cover Type_**, esta parte do Projeto Prático diz respeito à proposição e avaliação de múltiplas redes neurais artificiais do tipo feedforward multilayer perceptron para o problema da classificação multi-classe da cobertura florestal em uma área do Roosevelt National Forest.\n",
    "\n",
    "## Busca em Grade\n",
    "\n",
    "Uma maneira padrão de escolher os parâmetros de um modelo de Machine Learning é por meio de uma busca em grade via força bruta. O algoritmo da busca em grade é dado como segue:\n",
    "\n",
    "1. Escolha a métrica de desempenho que você deseja maximizar  \n",
    "2. Escolha o algoritmo de Machine Learning (exemplo: redes neurais artificiais). Em seguida, defina os parâmetros ou hiperparâmetros deste tipo de modelo sobre os quais você dseja otimizar (número de épocas, taxa de aprendizado, etc.) e construa um array de valores a serem testados para cada parâmetro ou hiperparâmetro.  \n",
    "3. Defina a grade de busca, a qual é dada como o produto cartesiano de cada parâmetro a ser testado. Por exemplo, para os arrays [50, 100, 1000] e [10, 15], tem-se que a grade é [(50,10), (50,15), (100,10), (100,15), (1000,10), (1000,15)].\n",
    "4. Para cada combinação de parâmetros a serem otimizados, utilize o conjunto de treinamento para realizar uma validação cruzada (holdout ou k-fold) e calcule a métrica de avaliação no conjunto de teste (ou conjuntos de teste)\n",
    "5. Escolha a combinação de parâmetros que maximizam a métrica de avaliação. Este é o modelo otimizado.\n",
    "\n",
    "Por que esta abordagem funciona? Porque a busca em grade efetua uma pesquisa extensiva sobre as possíveis combinações de valores para cada um dos parâmetros a serem ajustados. Para cada combinação, ela estima a performance do modelo em dados novos. Por fim, o modelo com melhor métrica de desempenho é escolhido. Tem-se então que este modelo é o que melhor pode vir a generalizar mediante dados nunca antes vistos.\n",
    "\n",
    "## Efetuando a Busca em Grade sobre Hiperparâmetros das Top-6 RNAs\n",
    "\n",
    "Considerando a etapa anterior do projeto prático, foram identificadas pelo menos 6 melhores Redes Neurais para o problema da classificação multi-classe da cobertura florestal no conjunto de dados selecionado. Algumas destas redes possuem atributos categóricos como variáveis preditoras, enquanto outras possuem apenas os atributos numéricos como preditores.\n",
    "\n",
    "A primeira etapa desta segunda parte do projeto consiste em trazer para este notebook estas seis arquiteturas, ressaltando:\n",
    "\n",
    "1. Número de neurônios ocultos por camada  \n",
    "2. Função de Ativação  \n",
    "3. Utilização ou não de atributos categóricos   \n",
    "4. Desempenho médio +- desvio padrão nos testes anteriores  \n",
    "5. Número de repetições que a equipe conseguiu realizar para verificar os resultados  \n",
    "\n",
    "Elabore uma busca em grade sobre estas arquiteturas que contemple variações nos hiperparâmetros a seguir, conforme documentação de [MLPClassifier](https://scikit-learn.org/stable/modules/generated/sklearn.neural_network.MLPClassifier.html)\n",
    "\n",
    "A. Solver  (Não usar o LBFGS, pois é mais adequado para datasets pequenos)  \n",
    "B. Batch Size  \n",
    "C. Learning Rate Init  \n",
    "D. Paciência (n_iter_no_change)  \n",
    "E. Épocas  \n",
    "\n",
    "Nesta busca em grande, contemple a utilização do objeto [GridSearchCV](https://scikit-learn.org/stable/modules/generated/sklearn.model_selection.GridSearchCV.html)"
   ]
  },
  {
   "cell_type": "markdown",
   "metadata": {},
   "source": [
    "## Validação Cruzada k-fold\n",
    "\n",
    "Na elaboração da busca em grid, vamos avaliar os modelos propostos segundo uma estratégia de validação cruzada ainda não explorada até o momento: a validação cruzada k-fold. Segundo a mesma, o conjunto de dados é particionado em k partes: a cada iteração, separa-se uma das partes para teste e o modelo é treinado com as k-1 partes remanescentes. Valores sugestivos de k na literatura são k = 3, 5 ou 10, pois o custo computacional desta validação dos modelos é alto. A métrica de desempenho é resultante da média dos desempenhos nas k iterações. A figura a seguir ilustra a ideia desta avaliação\n",
    "\n",
    "<img src = \"https://ethen8181.github.io/machine-learning/model_selection/img/kfolds.png\" width=600></img>\n",
    "\n",
    "Considerando a métrica de desempenho F1-Score, considere a validação cruzada 5-fold para aferir os resultados da busca em grande anterior."
   ]
  },
  {
   "cell_type": "code",
   "execution_count": null,
   "metadata": {},
   "outputs": [],
   "source": []
  },
  {
   "cell_type": "markdown",
   "metadata": {},
   "source": [
    "Os 2 TOPs 3 Sem Atributos Categóricos - 15 Iterações em Cada Modelo <p>\n",
    "    <img src = \"https://github.com/delrickOliveira/rna_2021_2.2/blob/main/img/Imagem1-SAT.png?raw=true\"></img> <p>\n",
    "    <img src = \"https://github.com/delrickOliveira/rna_2021_2.2/blob/main/img/Imagem2-SAT.png?raw=true\"></img> <p>\n",
    "    <p> 15 REPETIÇÕES <P>"
   ]
  },
  {
   "cell_type": "code",
   "execution_count": 27,
   "metadata": {},
   "outputs": [],
   "source": [
    "data_all = pd.read_csv('data/covtype.csv')\n",
    "# Elimine todas as colunas relativas aos atributos categóricos\n",
    "categoricos = list(filter(lambda x: (x.startswith('Wilderness_Area') or x.startswith('Soil_Type')), data_all.columns.to_list()))\n",
    "data = data_all.drop(categoricos, axis=1)\n",
    "X = data.iloc[:, :(data.shape[1] - 1)]\n",
    "y = data.iloc[:, -1:]\n",
    "\n",
    "X = np.array(X)\n",
    "y = np.array(y)"
   ]
  },
  {
   "cell_type": "code",
   "execution_count": 28,
   "metadata": {},
   "outputs": [],
   "source": [
    "X_train, X_test, y_train, y_test = train_test_split(X, y, test_size=0.3)"
   ]
  },
  {
   "cell_type": "markdown",
   "metadata": {},
   "source": [
    "Elabore uma busca em grade sobre estas arquiteturas que contemple variações nos hiperparâmetros a seguir, conforme documentação de [MLPClassifier](https://scikit-learn.org/stable/modules/generated/sklearn.neural_network.MLPClassifier.html)\n",
    "\n",
    "A. Solver  (Não usar o LBFGS, pois é mais adequado para datasets pequenos)  \n",
    "B. Batch Size  \n",
    "C. Learning Rate Init  \n",
    "D. Paciência (n_iter_no_change)  \n",
    "E. Épocas  \n",
    "\n",
    "Nesta busca em grande, contemple a utilização do objeto [GridSearchCV](https://scikit-learn.org/stable/modules/generated/sklearn.model_selection.GridSearchCV.html)"
   ]
  },
  {
   "cell_type": "code",
   "execution_count": 29,
   "metadata": {},
   "outputs": [],
   "source": [
    "hiperparams = {'solver': ['adam'],\n",
    "                   'batch_size': [1000],\n",
    "                   'learning_rate_init': [0.001, 0.01],\n",
    "                   'max_iter': [350],\n",
    "                   'n_iter_no_change': [10]}\n",
    "\n",
    "scores = {'F-Score': make_scorer(f1_score , average='weighted'),\n",
    "          'Accuracy': make_scorer(accuracy_score)}"
   ]
  },
  {
   "cell_type": "code",
   "execution_count": 30,
   "metadata": {},
   "outputs": [],
   "source": [
    "def gridsearch(architecture):\n",
    "\n",
    "    #Escalonamento dos atributos\n",
    "    X_train_std = (X_train - np.mean(X_train))/np.std(X_train)\n",
    "\n",
    "    model_gs = MLPClassifier(hidden_layer_sizes=architecture[0], activation=architecture[1])\n",
    "    clf = GridSearchCV(model_gs, hiperparams, scoring=scores, n_jobs=-1, refit='F-Score', cv=5, verbose=160)\n",
    "    clf.fit(X_train_std, y_train)\n",
    "\n",
    "    return clf"
   ]
  },
  {
   "cell_type": "code",
   "execution_count": 31,
   "metadata": {},
   "outputs": [
    {
     "name": "stdout",
     "output_type": "stream",
     "text": [
      "\n",
      "GridSearch...\n",
      "\n",
      "Fitting 5 folds for each of 2 candidates, totalling 10 fits\n"
     ]
    }
   ],
   "source": [
    "print(\"\")\n",
    "print(\"GridSearch...\")\n",
    "print(\"\")\n",
    "\n",
    "clf1 = gridsearch([(15,15), 'relu'])\n"
   ]
  },
  {
   "cell_type": "code",
   "execution_count": 36,
   "metadata": {},
   "outputs": [
    {
     "name": "stdout",
     "output_type": "stream",
     "text": [
      "-----Arquitetura 1---------\n",
      "([(15,15), 'relu'])\n",
      "\n",
      "Melhor Optmização de Hiperparâmetros\n",
      "{'batch_size': 1024, 'learning_rate_init': 0.001, 'max_iter': 350, 'n_iter_no_change': 10, 'solver': 'adam'}\n",
      "\n",
      "Media F1-Score\n",
      "0.7230186134140594\n"
     ]
    }
   ],
   "source": [
    "print(\"-----Arquitetura 1---------\")\n",
    "print(\"([(15,15), 'relu'])\\n\")\n",
    "print(\"Melhor Optmização de Hiperparâmetros\")\n",
    "print(clf1.best_params_)\n",
    "print(\"\\nMedia F1-Score\")\n",
    "print(clf1.best_score_)"
   ]
  },
  {
   "cell_type": "code",
   "execution_count": 32,
   "metadata": {},
   "outputs": [
    {
     "name": "stdout",
     "output_type": "stream",
     "text": [
      "Fitting 5 folds for each of 2 candidates, totalling 10 fits\n"
     ]
    }
   ],
   "source": [
    "clf4 = gridsearch([(34,), 'relu'])"
   ]
  },
  {
   "cell_type": "code",
   "execution_count": 37,
   "metadata": {},
   "outputs": [
    {
     "name": "stdout",
     "output_type": "stream",
     "text": [
      "-----Arquitetura 2---------\n",
      "([(34,), 'relu'])\n",
      "\n",
      "Melhor Optmização de Hiperparâmetros\n",
      "{'batch_size': 1024, 'learning_rate_init': 0.01, 'max_iter': 350, 'n_iter_no_change': 10, 'solver': 'adam'}\n",
      "\n",
      "Media F1-Score\n",
      "0.7279188737056288\n"
     ]
    }
   ],
   "source": [
    "print(\"-----Arquitetura 2---------\")\n",
    "print(\"([(34,), 'relu'])\\n\")\n",
    "print(\"Melhor Optmização de Hiperparâmetros\")\n",
    "print(clf4.best_params_)\n",
    "print(\"\\nMedia F1-Score\")\n",
    "print(clf4.best_score_)"
   ]
  },
  {
   "cell_type": "code",
   "execution_count": 33,
   "metadata": {},
   "outputs": [
    {
     "name": "stdout",
     "output_type": "stream",
     "text": [
      "Fitting 5 folds for each of 2 candidates, totalling 10 fits\n"
     ]
    }
   ],
   "source": [
    "clf5 = gridsearch([(28,), 'relu'])\n"
   ]
  },
  {
   "cell_type": "code",
   "execution_count": 38,
   "metadata": {},
   "outputs": [
    {
     "name": "stdout",
     "output_type": "stream",
     "text": [
      "-----Arquitetura 4---------\n",
      "([(28,), 'relu'])\n",
      "\n",
      "Melhor Optmização de Hiperparâmetros\n",
      "{'batch_size': 1024, 'learning_rate_init': 0.01, 'max_iter': 350, 'n_iter_no_change': 10, 'solver': 'adam'}\n",
      "\n",
      "Media F1-Score\n",
      "0.7180377665344146\n"
     ]
    }
   ],
   "source": [
    "print(\"-----Arquitetura 4---------\")\n",
    "print(\"([(28,), 'relu'])\\n\")\n",
    "print(\"Melhor Optmização de Hiperparâmetros\")\n",
    "print(clf5.best_params_)\n",
    "print(\"\\nMedia F1-Score\")\n",
    "print(clf5.best_score_)"
   ]
  },
  {
   "cell_type": "code",
   "execution_count": 35,
   "metadata": {},
   "outputs": [
    {
     "name": "stdout",
     "output_type": "stream",
     "text": [
      "Fitting 5 folds for each of 2 candidates, totalling 10 fits\n"
     ]
    }
   ],
   "source": [
    "clf6 = gridsearch([(23,), 'relu'])"
   ]
  },
  {
   "cell_type": "code",
   "execution_count": 39,
   "metadata": {},
   "outputs": [
    {
     "name": "stdout",
     "output_type": "stream",
     "text": [
      "-----Arquitetura 3---------\n",
      "([(23,), 'relu'])\n",
      "\n",
      "Melhor Optmização de Hiperparâmetros\n",
      "{'batch_size': 1024, 'learning_rate_init': 0.01, 'max_iter': 350, 'n_iter_no_change': 10, 'solver': 'adam'}\n",
      "\n",
      "Media F1-Score\n",
      "0.7153785748743549\n"
     ]
    }
   ],
   "source": [
    "print(\"-----Arquitetura 3---------\")\n",
    "print(\"([(23,), 'relu'])\\n\")\n",
    "print(\"Melhor Optmização de Hiperparâmetros\")\n",
    "print(clf6.best_params_)\n",
    "print(\"\\nMedia F1-Score\")\n",
    "print(clf6.best_score_)"
   ]
  },
  {
   "cell_type": "markdown",
   "metadata": {},
   "source": [
    "## Top 6 Arquiteturas com Atributos Categóricos"
   ]
  },
  {
   "cell_type": "code",
   "execution_count": null,
   "metadata": {},
   "outputs": [],
   "source": [
    "data = pd.read_csv('/content/drive/MyDrive/csv/covtype.csv')\n",
    "# Elimine todas as colunas relativas aos atributos categóricos\n",
    "# categoricos = list(filter(lambda x: (x.startswith('Wilderness_Area') or x.startswith('Soil_Type')), data_all.columns.to_list()))\n",
    "# data = data_all.drop(categoricos, axis=1)\n",
    "X = data.iloc[:, :(data.shape[1] - 1)]\n",
    "y = data.iloc[:, -1:]\n",
    "\n",
    "\n",
    "\n",
    "X = np.array(X)\n",
    "y = np.array(y)"
   ]
  },
  {
   "cell_type": "code",
   "execution_count": null,
   "metadata": {},
   "outputs": [],
   "source": [
    "print(\"\")\n",
    "print(\"GridSearch...\")\n",
    "print(\"\")\n",
    "\n",
    "clf1 = gridsearch([(15,15), 'relu'])\n"
   ]
  },
  {
   "cell_type": "code",
   "execution_count": null,
   "metadata": {
    "colab": {
     "base_uri": "https://localhost:8080/"
    },
    "executionInfo": {
     "elapsed": 323,
     "status": "ok",
     "timestamp": 1640017125113,
     "user": {
      "displayName": "Benjamin Borges",
      "photoUrl": "https://lh3.googleusercontent.com/a-/AOh14Gh3AuJlaZN7pkKUAll0g50xkpBYNQi2BBT6f6uX4A=s64",
      "userId": "00249454527644790264"
     },
     "user_tz": 240
    },
    "id": "pxWO1IDjrKCa",
    "outputId": "366f5f3b-0c71-4a15-80ac-57a7b7722302"
   },
   "outputs": [
    {
     "name": "stdout",
     "output_type": "stream",
     "text": [
      "-----Arquitetura 1---------\n",
      "([(15,15), 'relu'])\n",
      "\n",
      "Melhor Optmização de Hiperparâmetros\n",
      "{'batch_size': 1024, 'learning_rate_init': 0.01, 'max_iter': 350, 'n_iter_no_change': 10, 'solver': 'adam'}\n",
      "\n",
      "Media F1-Score\n",
      "0.7199636256690877\n"
     ]
    }
   ],
   "source": [
    "print(\"-----Arquitetura 1---------\")\n",
    "print(\"([(15,15), 'relu'])\\n\")\n",
    "print(\"Melhor Optmização de Hiperparâmetros\")\n",
    "print(clf1.best_params_)\n",
    "print(\"\\nMedia F1-Score\")\n",
    "print(clf1.best_score_)"
   ]
  },
  {
   "cell_type": "code",
   "execution_count": null,
   "metadata": {
    "colab": {
     "base_uri": "https://localhost:8080/"
    },
    "executionInfo": {
     "elapsed": 2346368,
     "status": "ok",
     "timestamp": 1640013603264,
     "user": {
      "displayName": "Benjamin Borges",
      "photoUrl": "https://lh3.googleusercontent.com/a-/AOh14Gh3AuJlaZN7pkKUAll0g50xkpBYNQi2BBT6f6uX4A=s64",
      "userId": "00249454527644790264"
     },
     "user_tz": 240
    },
    "id": "_b503HrAIriH",
    "outputId": "44b9010f-47ef-4b46-bf1e-ddf8704cc1eb"
   },
   "outputs": [
    {
     "name": "stdout",
     "output_type": "stream",
     "text": [
      "Fitting 5 folds for each of 2 candidates, totalling 10 fits\n"
     ]
    },
    {
     "name": "stderr",
     "output_type": "stream",
     "text": [
      "/usr/local/lib/python3.7/dist-packages/sklearn/neural_network/_multilayer_perceptron.py:1109: DataConversionWarning: A column-vector y was passed when a 1d array was expected. Please change the shape of y to (n_samples, ), for example using ravel().\n",
      "  y = column_or_1d(y, warn=True)\n",
      "/usr/local/lib/python3.7/dist-packages/sklearn/neural_network/_multilayer_perceptron.py:696: ConvergenceWarning: Stochastic Optimizer: Maximum iterations (350) reached and the optimization hasn't converged yet.\n",
      "  ConvergenceWarning,\n"
     ]
    }
   ],
   "source": [
    "clf4 = gridsearch([(34,), 'relu'])"
   ]
  },
  {
   "cell_type": "code",
   "execution_count": null,
   "metadata": {
    "colab": {
     "base_uri": "https://localhost:8080/"
    },
    "executionInfo": {
     "elapsed": 360,
     "status": "ok",
     "timestamp": 1640017175381,
     "user": {
      "displayName": "Benjamin Borges",
      "photoUrl": "https://lh3.googleusercontent.com/a-/AOh14Gh3AuJlaZN7pkKUAll0g50xkpBYNQi2BBT6f6uX4A=s64",
      "userId": "00249454527644790264"
     },
     "user_tz": 240
    },
    "id": "6ViHPOU3eiiz",
    "outputId": "c3531762-b24f-4b7b-882c-c6f9642fa4c9"
   },
   "outputs": [
    {
     "name": "stdout",
     "output_type": "stream",
     "text": [
      "-----Arquitetura 2---------\n",
      "([(34,), 'relu'])\n",
      "\n",
      "Melhor Optmização de Hiperparâmetros\n",
      "{'batch_size': 1024, 'learning_rate_init': 0.001, 'max_iter': 350, 'n_iter_no_change': 10, 'solver': 'adam'}\n",
      "\n",
      "Media F1-Score\n",
      "0.7253857928393421\n"
     ]
    }
   ],
   "source": [
    "print(\"-----Arquitetura 2---------\")\n",
    "print(\"([(34,), 'relu'])\\n\")\n",
    "print(\"Melhor Optmização de Hiperparâmetros\")\n",
    "print(clf4.best_params_)\n",
    "print(\"\\nMedia F1-Score\")\n",
    "print(clf4.best_score_)"
   ]
  },
  {
   "cell_type": "code",
   "execution_count": null,
   "metadata": {
    "colab": {
     "base_uri": "https://localhost:8080/"
    },
    "executionInfo": {
     "elapsed": 2366537,
     "status": "ok",
     "timestamp": 1640013807283,
     "user": {
      "displayName": "Benjamin Borges",
      "photoUrl": "https://lh3.googleusercontent.com/a-/AOh14Gh3AuJlaZN7pkKUAll0g50xkpBYNQi2BBT6f6uX4A=s64",
      "userId": "00249454527644790264"
     },
     "user_tz": 240
    },
    "id": "UZ0ZMHDgIzef",
    "outputId": "c3082a98-6629-4ee2-af59-817c562d923b"
   },
   "outputs": [
    {
     "name": "stdout",
     "output_type": "stream",
     "text": [
      "Fitting 5 folds for each of 2 candidates, totalling 10 fits\n"
     ]
    },
    {
     "name": "stderr",
     "output_type": "stream",
     "text": [
      "/usr/local/lib/python3.7/dist-packages/sklearn/neural_network/_multilayer_perceptron.py:1109: DataConversionWarning: A column-vector y was passed when a 1d array was expected. Please change the shape of y to (n_samples, ), for example using ravel().\n",
      "  y = column_or_1d(y, warn=True)\n"
     ]
    }
   ],
   "source": [
    "clf6 = gridsearch([(23,), 'relu'])"
   ]
  },
  {
   "cell_type": "code",
   "execution_count": null,
   "metadata": {
    "colab": {
     "base_uri": "https://localhost:8080/"
    },
    "executionInfo": {
     "elapsed": 334,
     "status": "ok",
     "timestamp": 1640017285274,
     "user": {
      "displayName": "Benjamin Borges",
      "photoUrl": "https://lh3.googleusercontent.com/a-/AOh14Gh3AuJlaZN7pkKUAll0g50xkpBYNQi2BBT6f6uX4A=s64",
      "userId": "00249454527644790264"
     },
     "user_tz": 240
    },
    "id": "xm6K1V3vesCP",
    "outputId": "df3bf8eb-0bcc-4a07-b2d7-ee71aff4bcd0"
   },
   "outputs": [
    {
     "name": "stdout",
     "output_type": "stream",
     "text": [
      "-----Arquitetura 3---------\n",
      "([(23,), 'relu'])\n",
      "\n",
      "Melhor Optmização de Hiperparâmetros\n",
      "{'batch_size': 1024, 'learning_rate_init': 0.001, 'max_iter': 350, 'n_iter_no_change': 10, 'solver': 'adam'}\n",
      "\n",
      "Media F1-Score\n",
      "0.7147586620721607\n"
     ]
    }
   ],
   "source": [
    "print(\"-----Arquitetura 3---------\")\n",
    "print(\"([(23,), 'relu'])\\n\")\n",
    "print(\"Melhor Optmização de Hiperparâmetros\")\n",
    "print(clf6.best_params_)\n",
    "print(\"\\nMedia F1-Score\")\n",
    "print(clf6.best_score_)"
   ]
  },
  {
   "cell_type": "code",
   "execution_count": null,
   "metadata": {
    "colab": {
     "base_uri": "https://localhost:8080/"
    },
    "executionInfo": {
     "elapsed": 2263007,
     "status": "ok",
     "timestamp": 1640013709535,
     "user": {
      "displayName": "Benjamin Borges",
      "photoUrl": "https://lh3.googleusercontent.com/a-/AOh14Gh3AuJlaZN7pkKUAll0g50xkpBYNQi2BBT6f6uX4A=s64",
      "userId": "00249454527644790264"
     },
     "user_tz": 240
    },
    "id": "KR8vrkb2IxcZ",
    "outputId": "a4829aa8-a2a0-48e2-fa0a-5415c242fb25"
   },
   "outputs": [
    {
     "name": "stdout",
     "output_type": "stream",
     "text": [
      "Fitting 5 folds for each of 2 candidates, totalling 10 fits\n"
     ]
    },
    {
     "name": "stderr",
     "output_type": "stream",
     "text": [
      "/usr/local/lib/python3.7/dist-packages/sklearn/neural_network/_multilayer_perceptron.py:1109: DataConversionWarning: A column-vector y was passed when a 1d array was expected. Please change the shape of y to (n_samples, ), for example using ravel().\n",
      "  y = column_or_1d(y, warn=True)\n",
      "/usr/local/lib/python3.7/dist-packages/sklearn/neural_network/_multilayer_perceptron.py:696: ConvergenceWarning: Stochastic Optimizer: Maximum iterations (350) reached and the optimization hasn't converged yet.\n",
      "  ConvergenceWarning,\n"
     ]
    }
   ],
   "source": [
    "clf5 = gridsearch([(28,), 'relu'])\n"
   ]
  },
  {
   "cell_type": "code",
   "execution_count": null,
   "metadata": {
    "colab": {
     "base_uri": "https://localhost:8080/"
    },
    "executionInfo": {
     "elapsed": 387,
     "status": "ok",
     "timestamp": 1640017353705,
     "user": {
      "displayName": "Benjamin Borges",
      "photoUrl": "https://lh3.googleusercontent.com/a-/AOh14Gh3AuJlaZN7pkKUAll0g50xkpBYNQi2BBT6f6uX4A=s64",
      "userId": "00249454527644790264"
     },
     "user_tz": 240
    },
    "id": "AnzDhyqlpjVF",
    "outputId": "a4eff721-d868-4f09-a1a6-30898e4b6c95"
   },
   "outputs": [
    {
     "name": "stdout",
     "output_type": "stream",
     "text": [
      "-----Arquitetura 4---------\n",
      "([(28,), 'relu'])\n",
      "\n",
      "Melhor Optmização de Hiperparâmetros\n",
      "{'batch_size': 1024, 'learning_rate_init': 0.001, 'max_iter': 350, 'n_iter_no_change': 10, 'solver': 'adam'}\n",
      "\n",
      "Media F1-Score\n",
      "0.7222001020330407\n"
     ]
    }
   ],
   "source": [
    "print(\"-----Arquitetura 4---------\")\n",
    "print(\"([(28,), 'relu'])\\n\")\n",
    "print(\"Melhor Optmização de Hiperparâmetros\")\n",
    "print(clf5.best_params_)\n",
    "print(\"\\nMedia F1-Score\")\n",
    "print(clf5.best_score_)"
   ]
  },
  {
   "cell_type": "markdown",
   "metadata": {},
   "source": [
    "## Identificando a mellhor solução\n",
    "\n",
    "Como resultado da busca em grande com validação cruzada 5-fold, identifique o modelo otimizado com melhor desempenho para o problema. Apresente claramente este modelo, seus parâmetros, hiperparâmetros otimizados e resultados para cada um dos folds avaliados. Esta é a melhor solução identificada em decorrência deste projeto"
   ]
  },
  {
   "cell_type": "code",
   "execution_count": null,
   "metadata": {},
   "outputs": [
    {
     "name": "stdout",
     "output_type": "stream",
     "text": [
      "-----Arquitetura 2---------\n",
      "([(34,), 'relu'])\n",
      "\n",
      "Melhor Optmização de Hiperparâmetros\n",
      "{'batch_size': 1024, 'learning_rate_init': 0.01, 'max_iter': 350, 'n_iter_no_change': 10, 'solver': 'adam'}\n",
      "\n",
      "Media F1-Score\n",
      "0.7279188737056288\n"
     ]
    }
   ],
   "source": [
    "print(\"-----Arquitetura 2 sem atributos categóricos\")\n",
    "print(\"([(34,), 'relu'])\\n\")\n",
    "print(\"Melhor Optmização de Hiperparâmetros\")\n",
    "print(clf4.best_params_)\n",
    "print(\"\\nMedia F1-Score\")\n",
    "print(clf4.best_score_)"
   ]
  },
  {
   "cell_type": "code",
   "execution_count": 40,
   "metadata": {},
   "outputs": [
    {
     "name": "stdout",
     "output_type": "stream",
     "text": [
      "Fold 1\n",
      "F-Score = 0.7282438147322401\n",
      "Acurácia = 0.7375648496471687\n",
      "\n",
      "Fold 2\n",
      "F-Score = 0.7189156187488602\n",
      "Acurácia = 0.7375648496471687\n",
      "\n",
      "Fold 3\n",
      "F-Score = 0.728388611264044\n",
      "Acurácia = 0.7375648496471687\n",
      "\n",
      "Fold 4\n",
      "F-Score = 0.7221260052790185\n",
      "Acurácia = 0.7375648496471687\n",
      "\n",
      "Fold 5\n",
      "F-Score = 0.7217297875209784\n",
      "Acurácia = 0.7375648496471687\n",
      "\n"
     ]
    }
   ],
   "source": [
    "for i in range(5):\n",
    "  print(\"Fold \"+str(i+1))\n",
    "  fs = 'split'+str(i)+'_test_F-Score'\n",
    "  ac = 'split'+str(i)+'_test_Accuracy'\n",
    "  print(\"F-Score = \"+str(clf4.cv_results_[fs][0]))\n",
    "  print(\"Acurácia = \"+str(clf4.cv_results_['split0_test_Accuracy'][0])+\"\\n\")"
   ]
  },
  {
   "cell_type": "markdown",
   "metadata": {},
   "source": [
    "## Empacotando a solução\n",
    "\n",
    "Suponha que você deve entregar este classificador ao órgão responsável por administrar o Roosevelt National Park. Para tanto, você deve fazer uma preparação do mesmo para utilização neste cenário. Uma vez que já identificou os melhores parâmetros e hiperparâmetros, o passo remanescente consiste em treinar o modelo com estes valores e todos os dados disponíveis, salvando o conjunto de pesos do modelo ao final para entrega ao cliente. Assim, finalize o projeto prático realizando tais passos.\n",
    "\n",
    "1. Consulte a documentação a seguir:\n",
    "https://scikit-learn.org/stable/modules/model_persistence.html  \n",
    "2. Treine o modelo com todos os dados  \n",
    "3. Salve o modelo em disco  \n",
    "4. Construa uma rotina que recupere o modelo em disco  \n",
    "5. Mostre que a rotina é funcional, fazendo previsões com todos os elementos do dataset e exibindo uma matriz de confusão das mesmas"
   ]
  },
  {
   "cell_type": "code",
   "execution_count": 58,
   "metadata": {},
   "outputs": [],
   "source": [
    "from sklearn.neural_network import MLPClassifier\n",
    "from sklearn.model_selection import train_test_split\n",
    "import numpy as np\n",
    "import pickle\n",
    "from sklearn.metrics import precision_score, recall_score, accuracy_score, f1_score, ConfusionMatrixDisplay\n",
    "import matplotlib.pyplot as plt\n"
   ]
  },
  {
   "cell_type": "code",
   "execution_count": 43,
   "metadata": {},
   "outputs": [],
   "source": [
    "\n",
    "\n",
    "data_all = pd.read_csv('data/covtype.csv')\n",
    "# Elimine todas as colunas relativas aos atributos categóricos\n",
    "categoricos = list(filter(lambda x: (x.startswith('Wilderness_Area') or x.startswith('Soil_Type')), data_all.columns.to_list()))\n",
    "data = data_all.drop(categoricos, axis=1)\n",
    "X = data.iloc[:, :(data.shape[1] - 1)]\n",
    "y = data.iloc[:, -1:]\n",
    "\n",
    "X = np.array(X)\n",
    "y = np.array(y)\n",
    "\n",
    "X_train, X_test, y_train, y_test = train_test_split(X, y, train_size=0.7,shuffle = True)\n",
    "\n",
    "X_train_std = (X_train - np.mean(X_train))/np.std(X_train)\n",
    "X_test_std = (X_test - np.mean(X_train))/np.std(X_train)"
   ]
  },
  {
   "cell_type": "code",
   "execution_count": 48,
   "metadata": {},
   "outputs": [],
   "source": [
    "hiperparams = {'solver': ['adam'],\n",
    "                   'batch_size': [1024],\n",
    "                   'learning_rate_init': [0.01],\n",
    "                   'max_iter': [500],\n",
    "                   'n_iter_no_change': [10]}\n",
    "\n",
    "scores = {'F-Score': make_scorer(f1_score , average='weighted'),\n",
    "          'Accuracy': make_scorer(accuracy_score)}\n"
   ]
  },
  {
   "cell_type": "code",
   "execution_count": 49,
   "metadata": {},
   "outputs": [],
   "source": [
    "def gridsearch(architecture):\n",
    "\n",
    "    #Escalonamento dos atributos\n",
    "    X_train_std = (X_train - np.mean(X_train))/np.std(X_train)\n",
    "\n",
    "    model_gs = MLPClassifier(hidden_layer_sizes=architecture[0], activation=architecture[1])\n",
    "    clf = GridSearchCV(model_gs, hiperparams, scoring=scores, n_jobs=-1, refit='F-Score', cv=5, verbose=160)\n",
    "    clf.fit(X_train_std, y_train)\n",
    "\n",
    "    return clf"
   ]
  },
  {
   "cell_type": "code",
   "execution_count": 50,
   "metadata": {},
   "outputs": [
    {
     "name": "stdout",
     "output_type": "stream",
     "text": [
      "Fitting 5 folds for each of 1 candidates, totalling 5 fits\n"
     ]
    }
   ],
   "source": [
    "best_network = gridsearch([(34,), 'relu'])"
   ]
  },
  {
   "cell_type": "code",
   "execution_count": 52,
   "metadata": {},
   "outputs": [],
   "source": [
    "filename = 'bestnetwork.sav'\n",
    "pickle.dump(best_network, open(filename, 'wb'))"
   ]
  },
  {
   "cell_type": "code",
   "execution_count": 53,
   "metadata": {},
   "outputs": [],
   "source": [
    "def load_cfl():\n",
    "    pickled_best_network = pickle.load(open('bestnetwork.sav', 'rb'))\n",
    "    return pickled_best_network\n",
    "\n"
   ]
  },
  {
   "cell_type": "code",
   "execution_count": 54,
   "metadata": {},
   "outputs": [],
   "source": [
    "load_best_cfl =  load_cfl()"
   ]
  },
  {
   "cell_type": "code",
   "execution_count": 57,
   "metadata": {},
   "outputs": [],
   "source": [
    "y_pred =  load_best_cfl.predict(X_test_std)\n"
   ]
  },
  {
   "cell_type": "code",
   "execution_count": 59,
   "metadata": {},
   "outputs": [
    {
     "data": {
      "image/png": "[encoded data removed]",
      "text/plain": [
       "<Figure size 432x288 with 2 Axes>"
      ]
     },
     "metadata": {
      "needs_background": "light"
     },
     "output_type": "display_data"
    }
   ],
   "source": [
    "matrix = ConfusionMatrixDisplay.from_predictions(y_test, y_pred)\n",
    "plt.title('Matriz de confusão para o conjunto de teste')\n",
    "plt.show(matrix)\n",
    "plt.show()"
   ]
  },
  {
   "cell_type": "code",
   "execution_count": 60,
   "metadata": {},
   "outputs": [
    {
     "name": "stdout",
     "output_type": "stream",
     "text": [
      "Acurácia: 0.7203621259408849\n",
      "F1-Score: 0.7355258372779251\n",
      "Precisão: 0.7756982284441815\n",
      "Revocação: 0.7203621259408849\n"
     ]
    }
   ],
   "source": [
    "print('Acurácia:', accuracy_score(y_pred, y_test))\n",
    "print('F1-Score:', f1_score(y_pred,y_test, average='weighted'))\n",
    "print('Precisão:', precision_score(y_pred, y_test, average='weighted'))\n",
    "print('Revocação:', recall_score(y_pred, y_test, average='weighted'))"
   ]
  },
  {
   "cell_type": "code",
   "execution_count": null,
   "metadata": {},
   "outputs": [],
   "source": [
    "hiperparams = {'solver': ['adam'],\n",
    "                   'batch_size': [1024],\n",
    "                   'learning_rate_init': [0.01],\n",
    "                   'max_iter': [60],\n",
    "                   'n_iter_no_change': [10]}\n",
    "\n",
    "scores = {'F-Score': make_scorer(f1_score , average='weighted'),\n",
    "          'Accuracy': make_scorer(accuracy_score)}\n"
   ]
  },
  {
   "cell_type": "code",
   "execution_count": null,
   "metadata": {},
   "outputs": [
    {
     "name": "stdout",
     "output_type": "stream",
     "text": [
      "Fitting 5 folds for each of 1 candidates, totalling 5 fits\n"
     ]
    },
    {
     "name": "stderr",
     "output_type": "stream",
     "text": [
      "/home/borgesbsb/anaconda3/lib/python3.7/site-packages/sklearn/neural_network/_multilayer_perceptron.py:1109: DataConversionWarning: A column-vector y was passed when a 1d array was expected. Please change the shape of y to (n_samples, ), for example using ravel().\n",
      "  y = column_or_1d(y, warn=True)\n",
      "/home/borgesbsb/anaconda3/lib/python3.7/site-packages/sklearn/neural_network/_multilayer_perceptron.py:699: UserWarning: Training interrupted by user.\n",
      "  warnings.warn(\"Training interrupted by user.\")\n"
     ]
    }
   ],
   "source": [
    "brute_force = gridsearch([(260,260), 'relu'])"
   ]
  },
  {
   "cell_type": "code",
   "execution_count": null,
   "metadata": {},
   "outputs": [
    {
     "data": {
      "image/png": "[encoded data removed]",
      "text/plain": [
       "<Figure size 432x288 with 2 Axes>"
      ]
     },
     "metadata": {},
     "output_type": "display_data"
    }
   ],
   "source": [
    "y_pred =  brute_force.predict(X_test_std)\n",
    "matrix = ConfusionMatrixDisplay.from_predictions(y_test, y_pred)\n",
    "plt.title('Matriz de confusão para o conjunto de teste')\n",
    "plt.show(matrix)\n",
    "plt.show()\n"
   ]
  },
  {
   "cell_type": "code",
   "execution_count": null,
   "metadata": {},
   "outputs": [
    {
     "name": "stdout",
     "output_type": "stream",
     "text": [
      "Acurácia: 0.8365327244354691\n",
      "F1-Score: 0.8374401369328\n",
      "Precisão: 0.8392214267085112\n",
      "Revocação: 0.8365327244354691\n"
     ]
    }
   ],
   "source": [
    "print('Acurácia:', accuracy_score(y_pred, y_test))\n",
    "print('F1-Score:', f1_score(y_pred,y_test, average='weighted'))\n",
    "print('Precisão:', precision_score(y_pred, y_test, average='weighted'))\n",
    "print('Revocação:', recall_score(y_pred, y_test, average='weighted'))"
   ]
  },
  {
   "cell_type": "code",
   "execution_count": null,
   "metadata": {},
   "outputs": [],
   "source": []
  }
 ],
 "metadata": {
  "kernelspec": {
   "display_name": "Python 3 (ipykernel)",
   "language": "python",
   "name": "python3"
  },
  "language_info": {
   "codemirror_mode": {
    "name": "ipython",
    "version": 3
   },
   "file_extension": ".py",
   "mimetype": "text/x-python",
   "name": "python",
   "nbconvert_exporter": "python",
   "pygments_lexer": "ipython3",
   "version": "3.7.6"
  }
 },
 "nbformat": 4,
 "nbformat_minor": 4
}
